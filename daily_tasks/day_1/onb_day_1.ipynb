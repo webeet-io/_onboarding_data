{
 "cells": [
  {
   "cell_type": "code",
   "execution_count": 2,
   "metadata": {},
   "outputs": [],
   "source": [
    "#importing libraries\n",
    "import pandas as pd\n",
    "import seaborn as sns  #load dataset\n",
    "import numpy as np #statistical calculations\n",
    "import matplotlib.pyplot as plt # for visualization"
   ]
  },
  {
   "cell_type": "code",
   "execution_count": 3,
   "metadata": {},
   "outputs": [],
   "source": [
    "#loading the school safety data\n",
    "df = pd.read_csv(\"school-safety-report1.csv\")"
   ]
  },
  {
   "cell_type": "code",
   "execution_count": 4,
   "metadata": {},
   "outputs": [
    {
     "data": {
      "text/html": [
       "<div>\n",
       "<style scoped>\n",
       "    .dataframe tbody tr th:only-of-type {\n",
       "        vertical-align: middle;\n",
       "    }\n",
       "\n",
       "    .dataframe tbody tr th {\n",
       "        vertical-align: top;\n",
       "    }\n",
       "\n",
       "    .dataframe thead th {\n",
       "        text-align: right;\n",
       "    }\n",
       "</style>\n",
       "<table border=\"1\" class=\"dataframe\">\n",
       "  <thead>\n",
       "    <tr style=\"text-align: right;\">\n",
       "      <th></th>\n",
       "      <th>School Year</th>\n",
       "      <th>Building Code</th>\n",
       "      <th>DBN</th>\n",
       "      <th>Location Name</th>\n",
       "      <th>Location Code</th>\n",
       "      <th>Address</th>\n",
       "      <th>Borough</th>\n",
       "      <th>Geographical District Code</th>\n",
       "      <th>Register</th>\n",
       "      <th>Building Name</th>\n",
       "      <th>...</th>\n",
       "      <th>Borough Name</th>\n",
       "      <th>Postcode</th>\n",
       "      <th>Latitude</th>\n",
       "      <th>Longitude</th>\n",
       "      <th>Community Board</th>\n",
       "      <th>Council District</th>\n",
       "      <th>Census Tract</th>\n",
       "      <th>BIN</th>\n",
       "      <th>BBL</th>\n",
       "      <th>NTA</th>\n",
       "    </tr>\n",
       "  </thead>\n",
       "  <tbody>\n",
       "    <tr>\n",
       "      <th>0</th>\n",
       "      <td>2015-16</td>\n",
       "      <td>K006</td>\n",
       "      <td>17K006</td>\n",
       "      <td>P.S. 006</td>\n",
       "      <td>K006</td>\n",
       "      <td>43 SNYDER AVENUE</td>\n",
       "      <td>K</td>\n",
       "      <td>17.0</td>\n",
       "      <td>712</td>\n",
       "      <td>NaN</td>\n",
       "      <td>...</td>\n",
       "      <td>BROOKLYN</td>\n",
       "      <td>11226.0</td>\n",
       "      <td>40.648590</td>\n",
       "      <td>-73.957138</td>\n",
       "      <td>14.0</td>\n",
       "      <td>40.0</td>\n",
       "      <td>794.0</td>\n",
       "      <td>3117230.0</td>\n",
       "      <td>3.051030e+09</td>\n",
       "      <td>Erasmus                                       ...</td>\n",
       "    </tr>\n",
       "    <tr>\n",
       "      <th>1</th>\n",
       "      <td>2015-16</td>\n",
       "      <td>K005</td>\n",
       "      <td>16K005</td>\n",
       "      <td>P.S. 005 Dr. Ronald Mcnair</td>\n",
       "      <td>K005</td>\n",
       "      <td>820 HANCOCK STREET</td>\n",
       "      <td>K</td>\n",
       "      <td>16.0</td>\n",
       "      <td>231</td>\n",
       "      <td>NaN</td>\n",
       "      <td>...</td>\n",
       "      <td>BROOKLYN</td>\n",
       "      <td>11233.0</td>\n",
       "      <td>40.685695</td>\n",
       "      <td>-73.922463</td>\n",
       "      <td>3.0</td>\n",
       "      <td>41.0</td>\n",
       "      <td>377.0</td>\n",
       "      <td>3039906.0</td>\n",
       "      <td>3.014900e+09</td>\n",
       "      <td>Stuyvesant Heights                            ...</td>\n",
       "    </tr>\n",
       "    <tr>\n",
       "      <th>2</th>\n",
       "      <td>2015-16</td>\n",
       "      <td>K003</td>\n",
       "      <td>13K003</td>\n",
       "      <td>P.S. 003 The Bedford Village</td>\n",
       "      <td>K003</td>\n",
       "      <td>50 JEFFERSON AVENUE</td>\n",
       "      <td>K</td>\n",
       "      <td>13.0</td>\n",
       "      <td>450</td>\n",
       "      <td>NaN</td>\n",
       "      <td>...</td>\n",
       "      <td>BROOKLYN</td>\n",
       "      <td>11216.0</td>\n",
       "      <td>40.682663</td>\n",
       "      <td>-73.955338</td>\n",
       "      <td>3.0</td>\n",
       "      <td>36.0</td>\n",
       "      <td>227.0</td>\n",
       "      <td>3057406.0</td>\n",
       "      <td>3.019980e+09</td>\n",
       "      <td>Clinton Hill                                  ...</td>\n",
       "    </tr>\n",
       "    <tr>\n",
       "      <th>3</th>\n",
       "      <td>2015-16</td>\n",
       "      <td>K002</td>\n",
       "      <td>NaN</td>\n",
       "      <td>655 PARKSIDE AVENUE CONSOLIDATED LOCATION</td>\n",
       "      <td>NaN</td>\n",
       "      <td>655 PARKSIDE AVENUE</td>\n",
       "      <td>K</td>\n",
       "      <td>17.0</td>\n",
       "      <td>1378</td>\n",
       "      <td>655 PARKSIDE AVENUE CONSOLIDATED LOCATION</td>\n",
       "      <td>...</td>\n",
       "      <td>BROOKLYN</td>\n",
       "      <td>11226.0</td>\n",
       "      <td>40.656183</td>\n",
       "      <td>-73.951583</td>\n",
       "      <td>9.0</td>\n",
       "      <td>40.0</td>\n",
       "      <td>802.0</td>\n",
       "      <td>3378201.0</td>\n",
       "      <td>3.050500e+09</td>\n",
       "      <td>Prospect Lefferts Gardens-Wingate             ...</td>\n",
       "    </tr>\n",
       "    <tr>\n",
       "      <th>4</th>\n",
       "      <td>2015-16</td>\n",
       "      <td>K002</td>\n",
       "      <td>75K141</td>\n",
       "      <td>P.S. K141</td>\n",
       "      <td>K141</td>\n",
       "      <td>655 PARKSIDE AVENUE</td>\n",
       "      <td>K</td>\n",
       "      <td>17.0</td>\n",
       "      <td>374</td>\n",
       "      <td>655 PARKSIDE AVENUE CONSOLIDATED LOCATION</td>\n",
       "      <td>...</td>\n",
       "      <td>BROOKLYN</td>\n",
       "      <td>11226.0</td>\n",
       "      <td>40.656183</td>\n",
       "      <td>-73.951583</td>\n",
       "      <td>9.0</td>\n",
       "      <td>40.0</td>\n",
       "      <td>802.0</td>\n",
       "      <td>3378201.0</td>\n",
       "      <td>3.050500e+09</td>\n",
       "      <td>Prospect Lefferts Gardens-Wingate             ...</td>\n",
       "    </tr>\n",
       "  </tbody>\n",
       "</table>\n",
       "<p>5 rows × 34 columns</p>\n",
       "</div>"
      ],
      "text/plain": [
       "  School Year Building Code     DBN  \\\n",
       "0     2015-16          K006  17K006   \n",
       "1     2015-16          K005  16K005   \n",
       "2     2015-16          K003  13K003   \n",
       "3     2015-16          K002     NaN   \n",
       "4     2015-16          K002  75K141   \n",
       "\n",
       "                               Location Name Location Code  \\\n",
       "0                                   P.S. 006          K006   \n",
       "1                 P.S. 005 Dr. Ronald Mcnair          K005   \n",
       "2               P.S. 003 The Bedford Village          K003   \n",
       "3  655 PARKSIDE AVENUE CONSOLIDATED LOCATION           NaN   \n",
       "4                                  P.S. K141          K141   \n",
       "\n",
       "               Address Borough  Geographical District Code Register  \\\n",
       "0     43 SNYDER AVENUE       K                        17.0      712   \n",
       "1   820 HANCOCK STREET       K                        16.0      231   \n",
       "2  50 JEFFERSON AVENUE       K                        13.0      450   \n",
       "3  655 PARKSIDE AVENUE       K                        17.0     1378   \n",
       "4  655 PARKSIDE AVENUE       K                        17.0      374   \n",
       "\n",
       "                               Building Name  ...  Borough Name Postcode  \\\n",
       "0                                        NaN  ...     BROOKLYN   11226.0   \n",
       "1                                        NaN  ...     BROOKLYN   11233.0   \n",
       "2                                        NaN  ...     BROOKLYN   11216.0   \n",
       "3  655 PARKSIDE AVENUE CONSOLIDATED LOCATION  ...     BROOKLYN   11226.0   \n",
       "4  655 PARKSIDE AVENUE CONSOLIDATED LOCATION  ...     BROOKLYN   11226.0   \n",
       "\n",
       "    Latitude  Longitude  Community Board  Council District   Census Tract  \\\n",
       "0  40.648590 -73.957138             14.0               40.0         794.0   \n",
       "1  40.685695 -73.922463              3.0               41.0         377.0   \n",
       "2  40.682663 -73.955338              3.0               36.0         227.0   \n",
       "3  40.656183 -73.951583              9.0               40.0         802.0   \n",
       "4  40.656183 -73.951583              9.0               40.0         802.0   \n",
       "\n",
       "         BIN           BBL                                                NTA  \n",
       "0  3117230.0  3.051030e+09  Erasmus                                       ...  \n",
       "1  3039906.0  3.014900e+09  Stuyvesant Heights                            ...  \n",
       "2  3057406.0  3.019980e+09  Clinton Hill                                  ...  \n",
       "3  3378201.0  3.050500e+09  Prospect Lefferts Gardens-Wingate             ...  \n",
       "4  3378201.0  3.050500e+09  Prospect Lefferts Gardens-Wingate             ...  \n",
       "\n",
       "[5 rows x 34 columns]"
      ]
     },
     "execution_count": 4,
     "metadata": {},
     "output_type": "execute_result"
    }
   ],
   "source": [
    "# preview the first few rows of the data\n",
    "df.head()"
   ]
  },
  {
   "cell_type": "code",
   "execution_count": 5,
   "metadata": {},
   "outputs": [
    {
     "name": "stdout",
     "output_type": "stream",
     "text": [
      "<class 'pandas.core.frame.DataFrame'>\n",
      "RangeIndex: 6310 entries, 0 to 6309\n",
      "Data columns (total 34 columns):\n",
      " #   Column                      Non-Null Count  Dtype  \n",
      "---  ------                      --------------  -----  \n",
      " 0   School Year                 6310 non-null   object \n",
      " 1   Building Code               6310 non-null   object \n",
      " 2   DBN                         5308 non-null   object \n",
      " 3   Location Name               6310 non-null   object \n",
      " 4   Location Code               5308 non-null   object \n",
      " 5   Address                     6308 non-null   object \n",
      " 6   Borough                     6308 non-null   object \n",
      " 7   Geographical District Code  6304 non-null   float64\n",
      " 8   Register                    6050 non-null   object \n",
      " 9   Building Name               3756 non-null   object \n",
      " 10  # Schools                   6310 non-null   int64  \n",
      " 11  Schools in Building         6310 non-null   object \n",
      " 12  Major N                     3561 non-null   float64\n",
      " 13  Oth N                       3561 non-null   float64\n",
      " 14  NoCrim N                    3561 non-null   float64\n",
      " 15  Prop N                      3561 non-null   float64\n",
      " 16  Vio N                       3561 non-null   float64\n",
      " 17  ENGroupA                    6076 non-null   object \n",
      " 18  RangeA                      6076 non-null   object \n",
      " 19  AvgOfMajor N                3553 non-null   float64\n",
      " 20  AvgOfOth N                  3553 non-null   float64\n",
      " 21  AvgOfNoCrim N               3553 non-null   float64\n",
      " 22  AvgOfProp N                 3553 non-null   float64\n",
      " 23  AvgOfVio N                  3553 non-null   float64\n",
      " 24  Borough Name                6286 non-null   object \n",
      " 25  Postcode                    6286 non-null   float64\n",
      " 26  Latitude                    6286 non-null   float64\n",
      " 27  Longitude                   6286 non-null   float64\n",
      " 28  Community Board             6286 non-null   float64\n",
      " 29  Council District            6286 non-null   float64\n",
      " 30  Census Tract                6286 non-null   float64\n",
      " 31  BIN                         6274 non-null   float64\n",
      " 32  BBL                         6274 non-null   float64\n",
      " 33  NTA                         6286 non-null   object \n",
      "dtypes: float64(19), int64(1), object(14)\n",
      "memory usage: 1.6+ MB\n"
     ]
    }
   ],
   "source": [
    "df.info()"
   ]
  },
  {
   "cell_type": "code",
   "execution_count": 6,
   "metadata": {},
   "outputs": [],
   "source": [
    "missing = df.isnull().sum()\n"
   ]
  },
  {
   "cell_type": "code",
   "execution_count": 9,
   "metadata": {},
   "outputs": [
    {
     "name": "stdout",
     "output_type": "stream",
     "text": [
      "                            Missing      %\n",
      "School Year                       0   0.00\n",
      "Building Code                     0   0.00\n",
      "DBN                            1002  15.88\n",
      "Location Name                     0   0.00\n",
      "Location Code                  1002  15.88\n",
      "Address                           2   0.03\n",
      "Borough                           2   0.03\n",
      "Geographical District Code        6   0.10\n",
      "Register                        260   4.12\n",
      "Building Name                  2554  40.48\n",
      "# Schools                         0   0.00\n",
      "Schools in Building               0   0.00\n",
      "Major N                        2749  43.57\n",
      "Oth N                          2749  43.57\n",
      "NoCrim N                       2749  43.57\n",
      "Prop N                         2749  43.57\n",
      "Vio N                          2749  43.57\n",
      "ENGroupA                        234   3.71\n",
      "RangeA                          234   3.71\n",
      "AvgOfMajor N                   2757  43.69\n",
      "AvgOfOth N                     2757  43.69\n",
      "AvgOfNoCrim N                  2757  43.69\n",
      "AvgOfProp N                    2757  43.69\n",
      "AvgOfVio N                     2757  43.69\n",
      "Borough Name                     24   0.38\n",
      "Postcode                         24   0.38\n",
      "Latitude                         24   0.38\n",
      "Longitude                        24   0.38\n",
      "Community Board                  24   0.38\n",
      "Council District                 24   0.38\n",
      "Census Tract                     24   0.38\n",
      "BIN                              36   0.57\n",
      "BBL                              36   0.57\n",
      "NTA                              24   0.38\n"
     ]
    }
   ],
   "source": [
    "missing_percentage = (missing / len(df)) * 100\n",
    "print(pd.concat([missing, missing_percentage.round(2)], axis=1, keys=[\"Missing\", \"%\"]))"
   ]
  },
  {
   "cell_type": "code",
   "execution_count": 10,
   "metadata": {},
   "outputs": [
    {
     "data": {
      "text/plain": [
       "(6310, 34)"
      ]
     },
     "execution_count": 10,
     "metadata": {},
     "output_type": "execute_result"
    }
   ],
   "source": [
    "df.shape"
   ]
  },
  {
   "cell_type": "code",
   "execution_count": 11,
   "metadata": {},
   "outputs": [
    {
     "name": "stdout",
     "output_type": "stream",
     "text": [
      "<class 'pandas.core.frame.DataFrame'>\n",
      "RangeIndex: 6310 entries, 0 to 6309\n",
      "Data columns (total 34 columns):\n",
      " #   Column                      Non-Null Count  Dtype  \n",
      "---  ------                      --------------  -----  \n",
      " 0   School Year                 6310 non-null   object \n",
      " 1   Building Code               6310 non-null   object \n",
      " 2   DBN                         5308 non-null   object \n",
      " 3   Location Name               6310 non-null   object \n",
      " 4   Location Code               5308 non-null   object \n",
      " 5   Address                     6308 non-null   object \n",
      " 6   Borough                     6308 non-null   object \n",
      " 7   Geographical District Code  6304 non-null   float64\n",
      " 8   Register                    6050 non-null   object \n",
      " 9   Building Name               3756 non-null   object \n",
      " 10  # Schools                   6310 non-null   int64  \n",
      " 11  Schools in Building         6310 non-null   object \n",
      " 12  Major N                     3561 non-null   float64\n",
      " 13  Oth N                       3561 non-null   float64\n",
      " 14  NoCrim N                    3561 non-null   float64\n",
      " 15  Prop N                      3561 non-null   float64\n",
      " 16  Vio N                       3561 non-null   float64\n",
      " 17  ENGroupA                    6076 non-null   object \n",
      " 18  RangeA                      6076 non-null   object \n",
      " 19  AvgOfMajor N                3553 non-null   float64\n",
      " 20  AvgOfOth N                  3553 non-null   float64\n",
      " 21  AvgOfNoCrim N               3553 non-null   float64\n",
      " 22  AvgOfProp N                 3553 non-null   float64\n",
      " 23  AvgOfVio N                  3553 non-null   float64\n",
      " 24  Borough Name                6286 non-null   object \n",
      " 25  Postcode                    6286 non-null   float64\n",
      " 26  Latitude                    6286 non-null   float64\n",
      " 27  Longitude                   6286 non-null   float64\n",
      " 28  Community Board             6286 non-null   float64\n",
      " 29  Council District            6286 non-null   float64\n",
      " 30  Census Tract                6286 non-null   float64\n",
      " 31  BIN                         6274 non-null   float64\n",
      " 32  BBL                         6274 non-null   float64\n",
      " 33  NTA                         6286 non-null   object \n",
      "dtypes: float64(19), int64(1), object(14)\n",
      "memory usage: 1.6+ MB\n"
     ]
    }
   ],
   "source": [
    "df.info()"
   ]
  },
  {
   "cell_type": "markdown",
   "metadata": {},
   "source": [
    "## Asignment Day-1"
   ]
  },
  {
   "cell_type": "code",
   "execution_count": null,
   "metadata": {},
   "outputs": [],
   "source": [
    "# fixing numerical values with 0\n",
    "incident_cols = ['major_n', 'oth_n', 'nocrim_n', 'prop_n', 'vio_n']\n",
    "df[incident_cols] = df[incident_cols].fillna(0)\n"
   ]
  },
  {
   "cell_type": "code",
   "execution_count": 12,
   "metadata": {},
   "outputs": [
    {
     "data": {
      "text/plain": [
       "(6310, 34)"
      ]
     },
     "execution_count": 12,
     "metadata": {},
     "output_type": "execute_result"
    }
   ],
   "source": [
    "# rows and columns overview\n",
    "df.shape"
   ]
  },
  {
   "cell_type": "code",
   "execution_count": 13,
   "metadata": {},
   "outputs": [],
   "source": [
    "## To the assignment\n",
    "\n",
    "# Cleaning the data\n",
    "# Clean column names\n",
    "df.columns = (\n",
    "    df.columns.str.lower()                                   # Make lowercase\n",
    "              .str.replace(r'[^a-z0-9\\s_]', '', regex=True)  # Remove special characters\n",
    "              .str.replace(r'\\s+', '_', regex=True)          # Replace spaces with underscores\n",
    ")"
   ]
  },
  {
   "cell_type": "code",
   "execution_count": null,
   "metadata": {},
   "outputs": [
    {
     "data": {
      "text/html": [
       "<div>\n",
       "<style scoped>\n",
       "    .dataframe tbody tr th:only-of-type {\n",
       "        vertical-align: middle;\n",
       "    }\n",
       "\n",
       "    .dataframe tbody tr th {\n",
       "        vertical-align: top;\n",
       "    }\n",
       "\n",
       "    .dataframe thead th {\n",
       "        text-align: right;\n",
       "    }\n",
       "</style>\n",
       "<table border=\"1\" class=\"dataframe\">\n",
       "  <thead>\n",
       "    <tr style=\"text-align: right;\">\n",
       "      <th></th>\n",
       "      <th>school_year</th>\n",
       "      <th>building_code</th>\n",
       "      <th>dbn</th>\n",
       "      <th>location_name</th>\n",
       "      <th>location_code</th>\n",
       "      <th>address</th>\n",
       "      <th>borough</th>\n",
       "      <th>geographical_district_code</th>\n",
       "      <th>register</th>\n",
       "      <th>building_name</th>\n",
       "      <th>...</th>\n",
       "      <th>postcode</th>\n",
       "      <th>latitude</th>\n",
       "      <th>longitude</th>\n",
       "      <th>community_board</th>\n",
       "      <th>council_district_</th>\n",
       "      <th>census_tract</th>\n",
       "      <th>bin</th>\n",
       "      <th>bbl</th>\n",
       "      <th>nta</th>\n",
       "      <th>total_incidents</th>\n",
       "    </tr>\n",
       "  </thead>\n",
       "  <tbody>\n",
       "    <tr>\n",
       "      <th>0</th>\n",
       "      <td>2015-16</td>\n",
       "      <td>K006</td>\n",
       "      <td>17K006</td>\n",
       "      <td>P.S. 006</td>\n",
       "      <td>K006</td>\n",
       "      <td>43 SNYDER AVENUE</td>\n",
       "      <td>K</td>\n",
       "      <td>17.0</td>\n",
       "      <td>712</td>\n",
       "      <td>NaN</td>\n",
       "      <td>...</td>\n",
       "      <td>11226.0</td>\n",
       "      <td>40.648590</td>\n",
       "      <td>-73.957138</td>\n",
       "      <td>14.0</td>\n",
       "      <td>40.0</td>\n",
       "      <td>794.0</td>\n",
       "      <td>3117230.0</td>\n",
       "      <td>3.051030e+09</td>\n",
       "      <td>Erasmus                                       ...</td>\n",
       "      <td>4.0</td>\n",
       "    </tr>\n",
       "    <tr>\n",
       "      <th>1</th>\n",
       "      <td>2015-16</td>\n",
       "      <td>K005</td>\n",
       "      <td>16K005</td>\n",
       "      <td>P.S. 005 Dr. Ronald Mcnair</td>\n",
       "      <td>K005</td>\n",
       "      <td>820 HANCOCK STREET</td>\n",
       "      <td>K</td>\n",
       "      <td>16.0</td>\n",
       "      <td>231</td>\n",
       "      <td>NaN</td>\n",
       "      <td>...</td>\n",
       "      <td>11233.0</td>\n",
       "      <td>40.685695</td>\n",
       "      <td>-73.922463</td>\n",
       "      <td>3.0</td>\n",
       "      <td>41.0</td>\n",
       "      <td>377.0</td>\n",
       "      <td>3039906.0</td>\n",
       "      <td>3.014900e+09</td>\n",
       "      <td>Stuyvesant Heights                            ...</td>\n",
       "      <td>2.0</td>\n",
       "    </tr>\n",
       "    <tr>\n",
       "      <th>2</th>\n",
       "      <td>2015-16</td>\n",
       "      <td>K003</td>\n",
       "      <td>13K003</td>\n",
       "      <td>P.S. 003 The Bedford Village</td>\n",
       "      <td>K003</td>\n",
       "      <td>50 JEFFERSON AVENUE</td>\n",
       "      <td>K</td>\n",
       "      <td>13.0</td>\n",
       "      <td>450</td>\n",
       "      <td>NaN</td>\n",
       "      <td>...</td>\n",
       "      <td>11216.0</td>\n",
       "      <td>40.682663</td>\n",
       "      <td>-73.955338</td>\n",
       "      <td>3.0</td>\n",
       "      <td>36.0</td>\n",
       "      <td>227.0</td>\n",
       "      <td>3057406.0</td>\n",
       "      <td>3.019980e+09</td>\n",
       "      <td>Clinton Hill                                  ...</td>\n",
       "      <td>2.0</td>\n",
       "    </tr>\n",
       "    <tr>\n",
       "      <th>3</th>\n",
       "      <td>2015-16</td>\n",
       "      <td>K002</td>\n",
       "      <td>NaN</td>\n",
       "      <td>655 PARKSIDE AVENUE CONSOLIDATED LOCATION</td>\n",
       "      <td>NaN</td>\n",
       "      <td>655 PARKSIDE AVENUE</td>\n",
       "      <td>K</td>\n",
       "      <td>17.0</td>\n",
       "      <td>1378</td>\n",
       "      <td>655 PARKSIDE AVENUE CONSOLIDATED LOCATION</td>\n",
       "      <td>...</td>\n",
       "      <td>11226.0</td>\n",
       "      <td>40.656183</td>\n",
       "      <td>-73.951583</td>\n",
       "      <td>9.0</td>\n",
       "      <td>40.0</td>\n",
       "      <td>802.0</td>\n",
       "      <td>3378201.0</td>\n",
       "      <td>3.050500e+09</td>\n",
       "      <td>Prospect Lefferts Gardens-Wingate             ...</td>\n",
       "      <td>5.0</td>\n",
       "    </tr>\n",
       "    <tr>\n",
       "      <th>4</th>\n",
       "      <td>2015-16</td>\n",
       "      <td>K002</td>\n",
       "      <td>75K141</td>\n",
       "      <td>P.S. K141</td>\n",
       "      <td>K141</td>\n",
       "      <td>655 PARKSIDE AVENUE</td>\n",
       "      <td>K</td>\n",
       "      <td>17.0</td>\n",
       "      <td>374</td>\n",
       "      <td>655 PARKSIDE AVENUE CONSOLIDATED LOCATION</td>\n",
       "      <td>...</td>\n",
       "      <td>11226.0</td>\n",
       "      <td>40.656183</td>\n",
       "      <td>-73.951583</td>\n",
       "      <td>9.0</td>\n",
       "      <td>40.0</td>\n",
       "      <td>802.0</td>\n",
       "      <td>3378201.0</td>\n",
       "      <td>3.050500e+09</td>\n",
       "      <td>Prospect Lefferts Gardens-Wingate             ...</td>\n",
       "      <td>0.0</td>\n",
       "    </tr>\n",
       "  </tbody>\n",
       "</table>\n",
       "<p>5 rows × 35 columns</p>\n",
       "</div>"
      ],
      "text/plain": [
       "  school_year building_code     dbn  \\\n",
       "0     2015-16          K006  17K006   \n",
       "1     2015-16          K005  16K005   \n",
       "2     2015-16          K003  13K003   \n",
       "3     2015-16          K002     NaN   \n",
       "4     2015-16          K002  75K141   \n",
       "\n",
       "                               location_name location_code  \\\n",
       "0                                   P.S. 006          K006   \n",
       "1                 P.S. 005 Dr. Ronald Mcnair          K005   \n",
       "2               P.S. 003 The Bedford Village          K003   \n",
       "3  655 PARKSIDE AVENUE CONSOLIDATED LOCATION           NaN   \n",
       "4                                  P.S. K141          K141   \n",
       "\n",
       "               address borough  geographical_district_code register  \\\n",
       "0     43 SNYDER AVENUE       K                        17.0      712   \n",
       "1   820 HANCOCK STREET       K                        16.0      231   \n",
       "2  50 JEFFERSON AVENUE       K                        13.0      450   \n",
       "3  655 PARKSIDE AVENUE       K                        17.0     1378   \n",
       "4  655 PARKSIDE AVENUE       K                        17.0      374   \n",
       "\n",
       "                               building_name  ...  postcode   latitude  \\\n",
       "0                                        NaN  ...   11226.0  40.648590   \n",
       "1                                        NaN  ...   11233.0  40.685695   \n",
       "2                                        NaN  ...   11216.0  40.682663   \n",
       "3  655 PARKSIDE AVENUE CONSOLIDATED LOCATION  ...   11226.0  40.656183   \n",
       "4  655 PARKSIDE AVENUE CONSOLIDATED LOCATION  ...   11226.0  40.656183   \n",
       "\n",
       "   longitude  community_board  council_district_  census_tract        bin  \\\n",
       "0 -73.957138             14.0               40.0         794.0  3117230.0   \n",
       "1 -73.922463              3.0               41.0         377.0  3039906.0   \n",
       "2 -73.955338              3.0               36.0         227.0  3057406.0   \n",
       "3 -73.951583              9.0               40.0         802.0  3378201.0   \n",
       "4 -73.951583              9.0               40.0         802.0  3378201.0   \n",
       "\n",
       "            bbl                                                nta  \\\n",
       "0  3.051030e+09  Erasmus                                       ...   \n",
       "1  3.014900e+09  Stuyvesant Heights                            ...   \n",
       "2  3.019980e+09  Clinton Hill                                  ...   \n",
       "3  3.050500e+09  Prospect Lefferts Gardens-Wingate             ...   \n",
       "4  3.050500e+09  Prospect Lefferts Gardens-Wingate             ...   \n",
       "\n",
       "   total_incidents  \n",
       "0              4.0  \n",
       "1              2.0  \n",
       "2              2.0  \n",
       "3              5.0  \n",
       "4              0.0  \n",
       "\n",
       "[5 rows x 35 columns]"
      ]
     },
     "execution_count": 56,
     "metadata": {},
     "output_type": "execute_result"
    }
   ],
   "source": [
    "df.head()"
   ]
  },
  {
   "cell_type": "code",
   "execution_count": 14,
   "metadata": {},
   "outputs": [
    {
     "name": "stdout",
     "output_type": "stream",
     "text": [
      "Total rows: 6310\n"
     ]
    }
   ],
   "source": [
    "#data exploration\n",
    "##Total number of rows\n",
    "total_rows = len(df)\n",
    "print(f\"Total rows: {total_rows}\")"
   ]
  },
  {
   "cell_type": "code",
   "execution_count": 15,
   "metadata": {},
   "outputs": [
    {
     "name": "stdout",
     "output_type": "stream",
     "text": [
      "Unique schools: 1931\n"
     ]
    }
   ],
   "source": [
    "# number of unique school in the dataset\n",
    "unique_schools = df['dbn'].dropna().nunique()\n",
    "print(f\"Unique schools: {unique_schools}\")"
   ]
  },
  {
   "cell_type": "code",
   "execution_count": 16,
   "metadata": {},
   "outputs": [
    {
     "name": "stdout",
     "output_type": "stream",
     "text": [
      "Most frequent incident type: non_criminal\n"
     ]
    }
   ],
   "source": [
    "## most frequent incident type\n",
    "incident_sums = {\n",
    "    'major': df['major_n'].sum(),\n",
    "    'other': df['oth_n'].sum(),\n",
    "    'non_criminal': df['nocrim_n'].sum(),\n",
    "    'property': df['prop_n'].sum(),\n",
    "    'violent': df['vio_n'].sum()\n",
    "}\n",
    "\n",
    "most_common = max(incident_sums, key=incident_sums.get)\n",
    "print(\"Most frequent incident type:\", most_common)\n"
   ]
  },
  {
   "cell_type": "code",
   "execution_count": 17,
   "metadata": {},
   "outputs": [],
   "source": [
    "df['register'] = pd.to_numeric(df['register'], errors='coerce')\n"
   ]
  },
  {
   "cell_type": "code",
   "execution_count": 18,
   "metadata": {},
   "outputs": [],
   "source": [
    "df['register'] = df['register'].fillna(0)\n"
   ]
  },
  {
   "cell_type": "code",
   "execution_count": 20,
   "metadata": {},
   "outputs": [],
   "source": [
    "incident_cols = ['major_n', 'oth_n', 'nocrim_n', 'prop_n', 'vio_n']\n",
    "df[incident_cols] = df[incident_cols].fillna(0)\n"
   ]
  },
  {
   "cell_type": "code",
   "execution_count": 21,
   "metadata": {},
   "outputs": [],
   "source": [
    "df['total_incidents'] = df[incident_cols].sum(axis=1)\n"
   ]
  },
  {
   "cell_type": "code",
   "execution_count": 22,
   "metadata": {},
   "outputs": [],
   "source": [
    "\n",
    "# Total incidents overall\n",
    "total_incidents = df['total_incidents'].sum()\n",
    "\n"
   ]
  },
  {
   "cell_type": "code",
   "execution_count": 23,
   "metadata": {},
   "outputs": [
    {
     "data": {
      "text/plain": [
       "np.float64(0.0)"
      ]
     },
     "execution_count": 23,
     "metadata": {},
     "output_type": "execute_result"
    }
   ],
   "source": [
    "# Total incidents in the Bronx\n",
    "bronx_incidents = df[df['borough_name'] == 'BRONX']['total_incidents'].sum()\n",
    "bronx_incidents"
   ]
  },
  {
   "cell_type": "code",
   "execution_count": 24,
   "metadata": {},
   "outputs": [],
   "source": [
    "df['borough_name'] = df['borough_name'].str.strip().str.upper()\n"
   ]
  },
  {
   "cell_type": "code",
   "execution_count": 25,
   "metadata": {},
   "outputs": [
    {
     "name": "stdout",
     "output_type": "stream",
     "text": [
      "% of incidents in the Bronx: 24.58%\n"
     ]
    }
   ],
   "source": [
    "# Percentage calculation\n",
    "bronx_count = df[df['borough_name'].str.upper() == 'BRONX'].shape[0]\n",
    "percent_bronx = (bronx_count / total_rows) * 100\n",
    "print(f\"% of incidents in the Bronx: {percent_bronx:.2f}%\")\n"
   ]
  },
  {
   "cell_type": "code",
   "execution_count": 26,
   "metadata": {},
   "outputs": [],
   "source": [
    "df.to_csv(\"cleaned_school_safety.csv\", index=False)\n"
   ]
  },
  {
   "cell_type": "code",
   "execution_count": 27,
   "metadata": {},
   "outputs": [
    {
     "name": "stdout",
     "output_type": "stream",
     "text": [
      "                                          location_name  dbn  total_incidents\n",
      "97         800 EAST GUN HILL ROAD CONSOLIDATED LOCATION  NaN            130.0\n",
      "4055       800 EAST GUN HILL ROAD CONSOLIDATED LOCATION  NaN            128.0\n",
      "4623  100 WEST MOSHOLU PARKWAY SOUTH CONSOLIDATED LO...  NaN            126.0\n",
      "1532             850 GRAND STREET CONSOLIDATED LOCATION  NaN            122.0\n",
      "4280       99 TERRACE VIEW AVENUE CONSOLIDATED LOCATION  NaN            117.0\n"
     ]
    }
   ],
   "source": [
    "# some important findings;\n",
    "\n",
    "# school with high incident\n",
    "top_schools = df[['location_name', 'dbn', 'total_incidents']].sort_values(by='total_incidents', ascending=False).head(5)\n",
    "print(top_schools)\n",
    "\n",
    "\n"
   ]
  },
  {
   "cell_type": "code",
   "execution_count": 28,
   "metadata": {},
   "outputs": [
    {
     "name": "stdout",
     "output_type": "stream",
     "text": [
      "                                      location_name  register  total_incidents\n",
      "5                        EXPLORE CHARTER SCHOOL(BS)     529.0              0.0\n",
      "10                           P.S. 095 The Gravesend     932.0              0.0\n",
      "19                 Health Opportunities High School     554.0              0.0\n",
      "24                              P.S. 246 Poe Center     704.0              0.0\n",
      "26          The Vida Bogart School for All Children     516.0              0.0\n",
      "...                                             ...       ...              ...\n",
      "6275  East New York Elementary School of Excellence     556.0              0.0\n",
      "6279               P.S. 69 Vincent D. Grippo School     867.0              0.0\n",
      "6284                                        P.S. 66     777.0              0.0\n",
      "6291                           P.S. 058 The Carroll     944.0              0.0\n",
      "6296             Juan Morel Campos Secondary School     778.0              0.0\n",
      "\n",
      "[1106 rows x 3 columns]\n"
     ]
    }
   ],
   "source": [
    "# location with high student register but low incident\n",
    "\n",
    "low_incidents = df[(df['register'] > 500) & (df['total_incidents'] == 0)][['location_name', 'register', 'total_incidents']]\n",
    "print(low_incidents)\n"
   ]
  },
  {
   "cell_type": "markdown",
   "metadata": {},
   "source": [
    "# DAY 2: High-School- Directory"
   ]
  },
  {
   "cell_type": "code",
   "execution_count": null,
   "metadata": {},
   "outputs": [],
   "source": [
    "# Bronx alone contributes a significantly high percentage of total incidents across NYC schools which may be due to\n",
    "# Higher population density in certain Bronx schools\n",
    "\n",
    "\n",
    "# About 40% Schools Have No Recorded Building Name which may  lead to difficulties in understanding incidents clustering by building\n"
   ]
  }
 ],
 "metadata": {
  "kernelspec": {
   "display_name": "Python 3",
   "language": "python",
   "name": "python3"
  },
  "language_info": {
   "codemirror_mode": {
    "name": "ipython",
    "version": 3
   },
   "file_extension": ".py",
   "mimetype": "text/x-python",
   "name": "python",
   "nbconvert_exporter": "python",
   "pygments_lexer": "ipython3",
   "version": "3.13.3"
  }
 },
 "nbformat": 4,
 "nbformat_minor": 2
}
