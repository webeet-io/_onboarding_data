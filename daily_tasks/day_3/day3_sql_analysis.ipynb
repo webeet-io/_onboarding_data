{
 "cells": [
  {
   "cell_type": "markdown",
   "id": "c47d3c6f",
   "metadata": {},
   "source": [
    "# Import Libraries"
   ]
  },
  {
   "cell_type": "code",
   "execution_count": 1,
   "id": "c9fb9963",
   "metadata": {},
   "outputs": [],
   "source": [
    "import pandas as pd\n",
    "from sqlalchemy import create_engine"
   ]
  },
  {
   "cell_type": "markdown",
   "id": "50007c9b",
   "metadata": {},
   "source": [
    "# Connect to the Database"
   ]
  },
  {
   "cell_type": "code",
   "execution_count": 2,
   "id": "edfb4eb9",
   "metadata": {},
   "outputs": [],
   "source": [
    "# Database connection details\n",
    "host = \"ep-falling-glitter-a5m0j5gk-pooler.us-east-2.aws.neon.tech\"\n",
    "port = \"5432\"\n",
    "database = \"neondb\"\n",
    "user = \"neondb_owner\"\n",
    "password = \"npg_CeS9fJg2azZD\"\n",
    "\n",
    "# Create a connection engine\n",
    "engine = create_engine(f\"postgresql://{user}:{password}@{host}:{port}/{database}\")\n"
   ]
  },
  {
   "cell_type": "markdown",
   "id": "97a22b09",
   "metadata": {},
   "source": [
    "# Run a test Query"
   ]
  },
  {
   "cell_type": "code",
   "execution_count": 3,
   "id": "fd5020dc",
   "metadata": {},
   "outputs": [
    {
     "data": {
      "application/vnd.microsoft.datawrangler.viewer.v0+json": {
       "columns": [
        {
         "name": "index",
         "rawType": "int64",
         "type": "integer"
        },
        {
         "name": "dbn",
         "rawType": "object",
         "type": "string"
        },
        {
         "name": "school_name",
         "rawType": "object",
         "type": "string"
        },
        {
         "name": "borough",
         "rawType": "object",
         "type": "string"
        },
        {
         "name": "building_code",
         "rawType": "object",
         "type": "string"
        },
        {
         "name": "phone_number",
         "rawType": "object",
         "type": "string"
        },
        {
         "name": "fax_number",
         "rawType": "object",
         "type": "string"
        },
        {
         "name": "grade_span_min",
         "rawType": "float64",
         "type": "float"
        },
        {
         "name": "grade_span_max",
         "rawType": "int64",
         "type": "integer"
        },
        {
         "name": "expgrade_span_min",
         "rawType": "object",
         "type": "unknown"
        },
        {
         "name": "expgrade_span_max",
         "rawType": "object",
         "type": "unknown"
        },
        {
         "name": "start_time",
         "rawType": "object",
         "type": "string"
        },
        {
         "name": "end_time",
         "rawType": "object",
         "type": "string"
        },
        {
         "name": "priority01",
         "rawType": "object",
         "type": "string"
        },
        {
         "name": "priority02",
         "rawType": "object",
         "type": "string"
        },
        {
         "name": "priority03",
         "rawType": "object",
         "type": "string"
        },
        {
         "name": "priority04",
         "rawType": "object",
         "type": "string"
        },
        {
         "name": "priority05",
         "rawType": "object",
         "type": "string"
        },
        {
         "name": "priority06",
         "rawType": "object",
         "type": "string"
        },
        {
         "name": "priority07",
         "rawType": "object",
         "type": "string"
        },
        {
         "name": "priority08",
         "rawType": "object",
         "type": "string"
        },
        {
         "name": "priority09",
         "rawType": "object",
         "type": "string"
        },
        {
         "name": "priority10",
         "rawType": "object",
         "type": "string"
        },
        {
         "name": "location",
         "rawType": "object",
         "type": "unknown"
        },
        {
         "name": "phone_number2",
         "rawType": "object",
         "type": "unknown"
        },
        {
         "name": "school_email",
         "rawType": "object",
         "type": "unknown"
        },
        {
         "name": "website",
         "rawType": "object",
         "type": "string"
        },
        {
         "name": "subway",
         "rawType": "object",
         "type": "string"
        },
        {
         "name": "bus",
         "rawType": "object",
         "type": "string"
        },
        {
         "name": "grades2018",
         "rawType": "object",
         "type": "unknown"
        },
        {
         "name": "finalgrades",
         "rawType": "object",
         "type": "unknown"
        },
        {
         "name": "total_students",
         "rawType": "int64",
         "type": "integer"
        },
        {
         "name": "extracurricular_activities",
         "rawType": "object",
         "type": "string"
        },
        {
         "name": "school_sports",
         "rawType": "object",
         "type": "string"
        },
        {
         "name": "attendance_rate",
         "rawType": "object",
         "type": "unknown"
        },
        {
         "name": "pct_stu_enough_variety",
         "rawType": "object",
         "type": "unknown"
        },
        {
         "name": "pct_stu_safe",
         "rawType": "object",
         "type": "unknown"
        },
        {
         "name": "school_accessibility_description",
         "rawType": "object",
         "type": "string"
        },
        {
         "name": "directions1",
         "rawType": "object",
         "type": "unknown"
        },
        {
         "name": "requirement1",
         "rawType": "object",
         "type": "unknown"
        },
        {
         "name": "requirement2",
         "rawType": "object",
         "type": "unknown"
        },
        {
         "name": "requirement3",
         "rawType": "object",
         "type": "unknown"
        },
        {
         "name": "requirement4",
         "rawType": "object",
         "type": "unknown"
        },
        {
         "name": "requirement5",
         "rawType": "object",
         "type": "unknown"
        },
        {
         "name": "program1",
         "rawType": "object",
         "type": "unknown"
        },
        {
         "name": "code1",
         "rawType": "object",
         "type": "unknown"
        },
        {
         "name": "interest1",
         "rawType": "object",
         "type": "unknown"
        },
        {
         "name": "method1",
         "rawType": "object",
         "type": "unknown"
        },
        {
         "name": "seats9ge1",
         "rawType": "object",
         "type": "unknown"
        },
        {
         "name": "grade9gefilledflag1",
         "rawType": "object",
         "type": "unknown"
        },
        {
         "name": "grade9geapplicants1",
         "rawType": "object",
         "type": "unknown"
        },
        {
         "name": "seats9swd1",
         "rawType": "object",
         "type": "unknown"
        },
        {
         "name": "grade9swdfilledflag1",
         "rawType": "object",
         "type": "unknown"
        },
        {
         "name": "grade9swdapplicants1",
         "rawType": "object",
         "type": "unknown"
        },
        {
         "name": "campus_name",
         "rawType": "object",
         "type": "string"
        },
        {
         "name": "building_borough",
         "rawType": "object",
         "type": "unknown"
        },
        {
         "name": "building_location",
         "rawType": "object",
         "type": "unknown"
        },
        {
         "name": "latitude",
         "rawType": "object",
         "type": "unknown"
        },
        {
         "name": "longitude",
         "rawType": "object",
         "type": "unknown"
        },
        {
         "name": "community_board",
         "rawType": "object",
         "type": "unknown"
        },
        {
         "name": "council_district",
         "rawType": "object",
         "type": "unknown"
        },
        {
         "name": "census_tract",
         "rawType": "object",
         "type": "unknown"
        },
        {
         "name": "bin",
         "rawType": "float64",
         "type": "float"
        },
        {
         "name": "bbl",
         "rawType": "float64",
         "type": "float"
        },
        {
         "name": "nta",
         "rawType": "object",
         "type": "string"
        },
        {
         "name": "zip_codes",
         "rawType": "object",
         "type": "unknown"
        },
        {
         "name": "community_districts",
         "rawType": "object",
         "type": "unknown"
        },
        {
         "name": "borough_boundaries",
         "rawType": "object",
         "type": "unknown"
        },
        {
         "name": "city_council_districts",
         "rawType": "object",
         "type": "unknown"
        },
        {
         "name": "police_precincts",
         "rawType": "object",
         "type": "unknown"
        },
        {
         "name": "primary_address_line_1",
         "rawType": "object",
         "type": "string"
        },
        {
         "name": "city",
         "rawType": "object",
         "type": "string"
        },
        {
         "name": "state_code",
         "rawType": "object",
         "type": "string"
        },
        {
         "name": "postcode",
         "rawType": "object",
         "type": "string"
        },
        {
         "name": "school_type",
         "rawType": "object",
         "type": "string"
        },
        {
         "name": "overview_paragraph",
         "rawType": "object",
         "type": "string"
        },
        {
         "name": "program_highlights",
         "rawType": "object",
         "type": "string"
        },
        {
         "name": "language_classes",
         "rawType": "object",
         "type": "string"
        },
        {
         "name": "advancedplacement_courses",
         "rawType": "object",
         "type": "string"
        },
        {
         "name": "online_ap_courses",
         "rawType": "object",
         "type": "string"
        },
        {
         "name": "online_language_courses",
         "rawType": "object",
         "type": "string"
        },
        {
         "name": "psal_sports_boys",
         "rawType": "object",
         "type": "string"
        },
        {
         "name": "psal_sports_girls",
         "rawType": "object",
         "type": "string"
        },
        {
         "name": "psal_sports_coed",
         "rawType": "object",
         "type": "string"
        },
        {
         "name": "partner_cbo",
         "rawType": "object",
         "type": "string"
        },
        {
         "name": "partner_hospital",
         "rawType": "object",
         "type": "string"
        },
        {
         "name": "partner_highered",
         "rawType": "object",
         "type": "string"
        },
        {
         "name": "partner_cultural",
         "rawType": "object",
         "type": "string"
        },
        {
         "name": "partner_nonprofit",
         "rawType": "object",
         "type": "string"
        },
        {
         "name": "partner_corporate",
         "rawType": "object",
         "type": "string"
        },
        {
         "name": "partner_financial",
         "rawType": "object",
         "type": "string"
        },
        {
         "name": "partner_other",
         "rawType": "object",
         "type": "string"
        },
        {
         "name": "addtl_info1",
         "rawType": "object",
         "type": "string"
        },
        {
         "name": "addtl_info2",
         "rawType": "object",
         "type": "string"
        },
        {
         "name": "se_services",
         "rawType": "object",
         "type": "string"
        },
        {
         "name": "ell_programs",
         "rawType": "object",
         "type": "string"
        },
        {
         "name": "number_programs",
         "rawType": "object",
         "type": "string"
        },
        {
         "name": "Location 1",
         "rawType": "object",
         "type": "string"
        },
        {
         "name": "Community Board",
         "rawType": "object",
         "type": "string"
        },
        {
         "name": "Council District",
         "rawType": "object",
         "type": "string"
        },
        {
         "name": "Census Tract",
         "rawType": "object",
         "type": "string"
        },
        {
         "name": "Zip Codes",
         "rawType": "object",
         "type": "string"
        },
        {
         "name": "Community Districts",
         "rawType": "object",
         "type": "string"
        },
        {
         "name": "Borough Boundaries",
         "rawType": "object",
         "type": "string"
        },
        {
         "name": "City Council Districts",
         "rawType": "object",
         "type": "string"
        },
        {
         "name": "Police Precincts",
         "rawType": "object",
         "type": "string"
        }
       ],
       "ref": "fe1ec5c4-5428-4144-ac47-7f1dfd0ea52b",
       "rows": [
        [
         "0",
         "27Q260",
         "Frederick Douglass Academy VI High School",
         "Queens",
         "Q465",
         "718-471-2154",
         "718-471-2890",
         "9.0",
         "12",
         null,
         null,
         "7:45 AM",
         "2:05 PM",
         "Priority to Queens students or residents who attend an information session",
         "Then to New York City residents who attend an information session",
         "Then to Queens students or residents",
         "Then to New York City residents",
         "",
         "",
         "",
         "",
         "",
         "",
         null,
         null,
         null,
         "http://schools.nyc.gov/schoolportals/27/Q260",
         "A to Beach 25th St-Wavecrest",
         "Q113, Q22",
         null,
         null,
         "412",
         "After-school Program, Book, Writing, Homework Help, Honor Society, Journalism, Lunch & Learn, PSAT and SAT Prep, Saturday Program, Step Team, Student Government, Summer Institute, Video, Tech, Yearbook, Computer Graphics, Robotics, Cheerleading",
         "Step Team, Modern Dance, Hip Hop Dance",
         null,
         null,
         null,
         "Not Functionally Accessible",
         null,
         null,
         null,
         null,
         null,
         null,
         null,
         null,
         null,
         null,
         null,
         null,
         null,
         null,
         null,
         null,
         "Far Rockaway Educational Campus",
         null,
         null,
         null,
         null,
         null,
         null,
         null,
         "4300730.0",
         "4157360001.0",
         "Far Rockaway-Bayswater                                                     ",
         null,
         null,
         null,
         null,
         null,
         "8-21 Bay 25 Street",
         "Far Rockaway",
         "NY",
         "11691",
         "",
         "Frederick Douglass Academy (FDA) VI High School is a high school built on Dr. Lorraine Monroe’s vision of academic and personal excellence for all students. The emphasis on college preparation is supported by a challenging academic program and cultural enrichment. A set of core rules visible at every Frederick Douglass Academy signals the seriousness of purpose for the school, its students and teachers. All students must adhere to a code of student conduct, the Scholar’s Creed and a strict uniform code. Students are also required to participate in extensive after-school academic enrichment programs.",
         "Advisory, Graphic Arts Design, Teaching Internship; College tours: citywide for freshmen, statewide for sophomores and out-of-state for juniors; National and international educational trips",
         "Spanish",
         "Calculus AB, English Language and Composition, English Literature and Composition, United States History",
         "Biology, Physics B",
         "French, Spanish",
         "Basketball, Cross Country, Indoor Track, Outdoor Track, Soccer, Softball, Swimming, Tennis, Volleyball",
         "Basketball, Cross Country, Indoor Track, Outdoor Track, Soccer, Softball, Swimming, Tennis, Volleyball",
         "",
         "",
         "Jamaica Hospital Medical Center, Peninsula Hospital Center",
         "York College, Brooklyn College, St. John's College",
         "",
         "Queens District Attorney, Sports and Arts Foundation, CMS",
         "Replications, Inc.",
         "Citibank",
         "New York Road Runners Foundation (NYRRF)",
         "Uniform Required: plain white collared shirt, black pants/skirt, FDA tie/FDA scarf, black shoes",
         "Extended Day Program, Student Summer Orientation, Summer Internship Program offered, Weekend Program offered",
         "This school will provide students with disabilities the supports and services indicated on their IEPs.",
         "ESL",
         "1",
         "{'latitude': '40.601989336', 'longitude': '-73.762834323', 'human_address': '{\"address\": \"8 21 Bay 25 Street\", \"city\": \"Far Rockaway\", \"state\": \"NY\", \"zip\": \"11691\"}'}",
         "14",
         "31",
         "100802",
         "20529",
         "51",
         "3",
         "47",
         "59"
        ],
        [
         "1",
         "21K559",
         "Life Academy High School for Film and Music",
         "Brooklyn",
         "K400",
         "718-333-7750",
         "718-333-7775",
         "9.0",
         "12",
         null,
         null,
         "8:15 AM",
         "3:00 PM",
         "Priority to New York City residents who attend an information session",
         "Then to New York City residents",
         "",
         "",
         "",
         "",
         "",
         "",
         "",
         "",
         null,
         null,
         null,
         "http://schools.nyc.gov/schoolportals/21/K559",
         "D to 25th Ave ; N to Ave U ; N to Gravesend - 86th St",
         "B1, B3, B4, B6, B64, B82",
         null,
         null,
         "260",
         "Film, Music, Talent Show, Holiday Concert, Student Council, After school tutoring in content areas, iLEARN courses, and other programs of student interest based on grant funding.",
         "",
         null,
         null,
         null,
         "Functionally Accessible",
         null,
         null,
         null,
         null,
         null,
         null,
         null,
         null,
         null,
         null,
         null,
         null,
         null,
         null,
         null,
         null,
         "Lafayette Educational Campus",
         null,
         null,
         null,
         null,
         null,
         null,
         null,
         "3186454.0",
         "3068830001.0",
         "Gravesend                                                                  ",
         null,
         null,
         null,
         null,
         null,
         "2630 Benson Avenue",
         "Brooklyn",
         "NY",
         "11214",
         "",
         "At Life Academy High School for Film and Music, we infuse the study of film, the art of filmmaking, audio production and new media into engaging, student-centered and project-based courses. We focus on building communication skills in writing, presentation and creativity. Our Advisory program helps each student develop personal relationships and positive citizenship. We seek students who want to learn in an exciting atmosphere of excellence and creative collaboration.",
         "College Now, iLEARN courses, Art and Film Production courses including film, set design, audio production, cinematography, animation, storyboarding art",
         "Spanish",
         "",
         "Biology, English Literature and Composition, European History, United States History, World History",
         "",
         "Basketball, Bowling, Indoor Track, Soccer, Softball, Volleyball",
         "Basketball, Bowling, Indoor Track, Soccer, Softball, Volleyball",
         "Cricket",
         "Coney Island Generation Gap",
         "",
         "City Tech, Kingsborough Early College Secondary School, City University of New Jersey",
         "Museum of the Moving Image, New York Public Library",
         "Institute for Student Achievement",
         "Film Life, Inc., SONY Wonder Tech",
         "",
         "",
         "Our school requires completion of a Common Core Learning Standards Skills Portfolio for Assessment in every class",
         "",
         "This school will provide students with disabilities the supports and services indicated on their IEPs.",
         "ESL",
         "1",
         "{'latitude': '40.593593811', 'longitude': '-73.984729232', 'human_address': '{\"address\": \"2630 Benson Avenue\", \"city\": \"Brooklyn\", \"state\": \"NY\", \"zip\": \"11214\"}'}",
         "13",
         "47",
         "306",
         "17616",
         "21",
         "2",
         "45",
         "35"
        ],
        [
         "2",
         "16K393",
         "Frederick Douglass Academy IV Secondary School",
         "Brooklyn",
         "K026",
         "718-574-2820",
         "718-574-2821",
         "9.0",
         "12",
         null,
         null,
         "8:00 AM",
         "2:20 PM",
         "Priority to continuing 8th graders",
         "Then to Brooklyn students or residents who attend an information session",
         "Then to New York City residents who attend an information session",
         "Then to Brooklyn students or residents",
         "Then to New York City residents",
         "",
         "",
         "",
         "",
         "",
         null,
         null,
         null,
         "http://schools.nyc.gov/schoolportals/16/K393",
         "J to Kosciusko St ; M, Z to Myrtle Ave",
         "B15, B38, B46, B47, B52, B54, Q24",
         null,
         null,
         "155",
         "After-school and Saturday Programs, Art Studio Group, Book, Cheerleading Team, Chess Team, Dance, Dance Ensemble, Homework Help, Lunch and Learn, Peer Mediation, Music, PSAT/SAT Prep, Scholars Government Association (SGA), Step Team, Summer Institute, Achieving Change in our Neighborhood (Teen Action), Violin, String Instruments, CHAMPS, School Leadership Team, Financial Literacy, Yoga, Anti-Bullying, Violence Prevention, Yearbook",
         "Basketball Team",
         null,
         null,
         null,
         "Not Functionally Accessible",
         null,
         null,
         null,
         null,
         null,
         null,
         null,
         null,
         null,
         null,
         null,
         null,
         null,
         null,
         null,
         null,
         "N/A",
         null,
         null,
         null,
         null,
         null,
         null,
         null,
         "3393805.0",
         "3016160001.0",
         "Stuyvesant Heights                                                         ",
         null,
         null,
         null,
         null,
         null,
         "1014 Lafayette Avenue",
         "Brooklyn",
         "NY",
         "11221",
         "",
         "The Frederick Douglass Academy IV (FDA IV) Secondary School is a place of scholarship. Our students are considered scholars. We create an atmosphere of order, civility, maturity and seriousness of purpose. A set of core rules referred to as the ‘twelve non-negotiables’ establish and maintain this environment. Scholars at the Frederick Douglas Academy IV Secondary School are instilled with a Scholar’s Creed, adapted from the Morehouse College Students’ Creed, that reinforces the school’s cohesive culture, underscores its high expectations and builds the scholars’ sense of pride in their school and themselves.",
         "College Now with Medgar Evers College, Fresh Prep Core, Science, Technology, Engineering & Mathematics (STEM) Robotics with New York City College of Technology, Dance4Peace",
         "French, Spanish",
         "English Language and Composition, United States History",
         "French Language and Culture",
         "",
         "",
         "",
         "",
         "Achieving Change in our Neighborhood (Teen ACTION) St.Nicks Alliance, New York City College of Technology – STEM Robotics, Fresh Prep and New York Hall of Science",
         "",
         "Medgar Evers College",
         "Noel Pointer School of Music",
         "Hip-Hop 4 Life, Urban Arts, and St. Nicks Alliance",
         "",
         "",
         "",
         "Dress Code Required: solid white shirt/blouse, navy blue blazer, gray pants/skirt, navy blue tie/scarf, black dress shoes, Participation in our 2-day FDA IV Prep Institute (Orientation) is required for incoming students, Extended Day Program",
         "Student Summer Orientation, Weekend Program offered",
         "This school will provide students with disabilities the supports and services indicated on their IEPs.",
         "ESL",
         "1",
         "{'latitude': '40.692133704', 'longitude': '-73.931503172', 'human_address': '{\"address\": \"1014 Lafayette Avenue\", \"city\": \"Brooklyn\", \"state\": \"NY\", \"zip\": \"11221\"}'}",
         "3",
         "36",
         "291",
         "18181",
         "69",
         "2",
         "49",
         "52"
        ],
        [
         "3",
         "08X305",
         "Pablo Neruda Academy",
         "Bronx",
         "X450",
         "718-824-1682",
         "718-824-1663",
         "9.0",
         "12",
         null,
         null,
         "8:00 AM",
         "3:50 PM",
         "Priority to Bronx students or residents who attend an information session",
         "Then to New York City residents who attend an information session",
         "Then to Bronx students or residents",
         "Then to New York City residents",
         "",
         "",
         "",
         "",
         "",
         "",
         null,
         null,
         null,
         "www.pablonerudaacademy.org",
         "N/A",
         "Bx22, Bx27, Bx36, Bx39, Bx5",
         null,
         null,
         "335",
         "Youth Court, Student Government, Youth Service, Youth Service Leaders, Art, Graffiti Mural, Yearbook, Homework Help & Tutoring Services, Regents Prep, Saturday Academy, Senior Committee, Video Game, Yoga, Dance, Digital Media, Book, Chess, Soccer, Softball, Basketball Intramurals, National Honor Society",
         "Baseball, Basketball, Flag Football, Soccer, Softball, Volleyball",
         null,
         null,
         null,
         "Functionally Accessible",
         null,
         null,
         null,
         null,
         null,
         null,
         null,
         null,
         null,
         null,
         null,
         null,
         null,
         null,
         null,
         null,
         "Adlai E. Stevenson Educational Campus",
         null,
         null,
         null,
         null,
         null,
         null,
         null,
         "2022205.0",
         "2036040039.0",
         "Soundview-Castle Hill-Clason Point-Harding Park                            ",
         null,
         null,
         null,
         null,
         null,
         "1980 Lafayette Avenue",
         "Bronx",
         "NY",
         "10473",
         "",
         "Our mission is to engage, inspire, and educate our students so that they develop skills to succeed in college and beyond. Our students work in small groups, guided by skilled and caring teachers, to solve challenging problems. Each student is well-known by staff members, and is assigned an advisor who works closely with them each week to monitor their progress. We celebrate successes and students are recognized for their accomplishments.",
         "Advanced Placement courses, Electives courses including: Art & Design, Criminal Justice, Entrepreneurship, Careers & Internships, and Advanced Art; Student Learning Communities, Internship Opportunities, Individualized Student Programming, Credit-bearing Online Courses (iLearn) and After-school Enrichment Classes; College Now & JumpStart (Credit-bearing College Courses)",
         "Spanish",
         "Art History, English Language and Composition, English Literature and Composition, United States Government and Politics",
         "",
         "Spanish",
         "Basketball, Outdoor Track, Softball, Tennis, Volleyball",
         "Basketball, Outdoor Track, Softball, Tennis, Volleyball",
         "",
         "",
         "Soundview Health Center, Bronx Lebanon Hospital Center, Montefiore Medical Center",
         "Hostos Community College, Monroe College, Lehman College",
         "Chilean Consulate, Materials for the Arts",
         "Network for Teaching Entrepreneurship (NFTE), BISCEP (The Leadership Program), New York Cares, Institute for Student Achievement (ISA), PENCIL",
         "",
         "",
         "iLearnNYC",
         "All students are individually programmed (based on academic needs), Incoming 9th grade students attend our Summer Orientation Session, All students are assigned to a small Student Learning Community that meets twice a week, College preparation begins in 9th grade and continues through 12th grade; this preparation includes College Trips (in-state, out-of-state, trade schools), College Fairs, College Workshops",
         "Extended Day Program",
         "This school will provide students with disabilities the supports and services indicated on their IEPs.",
         "ESL",
         "1",
         "{'latitude': '40.822303765', 'longitude': '-73.85596139', 'human_address': '{\"address\": \"1980 Lafayette Avenue\", \"city\": \"Bronx\", \"state\": \"NY\", \"zip\": \"10473\"}'}",
         "9",
         "18",
         "16",
         "11611",
         "58",
         "5",
         "31",
         "26"
        ],
        [
         "4",
         "03M485",
         "Fiorello H. LaGuardia High School of Music & Art and Performing Arts",
         "Manhattan",
         "M485",
         "212-496-0700",
         "212-724-5748",
         "9.0",
         "12",
         null,
         null,
         "8:00 AM",
         "4:00 PM",
         "Open to New York City residents",
         "Admission is based on the outcome of a competitive audition and review of the student’s record",
         "Students must audition for each program (studio) to which they are applying",
         "Students must be residents of New York City at the time of audition",
         "",
         "",
         "",
         "",
         "",
         "",
         null,
         null,
         null,
         "www.laguardiahs.org",
         "1 to 66th St - Lincoln Center ; 2, 3 to 72nd St ; A, B, C, D to 59th St-Columbus Circle",
         "M10, M104, M11, M20, M31, M5, M57, M66, M7, M72",
         null,
         null,
         "2730",
         "Amnesty International, Anime, Annual Musical, Arista, Art Exhibits, ASPIRA, Black Student Union, Chinese Student Association, Claymazing, Comic Book, Cult Classics, Dance Programs, DaVinci Scholars Program, Debate Team, Disney VoluntEars, Drama Festivals, Environmental, Fashion, Film, Future Voters of America, Gay/Straight Alliance, Girls Learn International, Habitat for Humanity, Harry Potter, Independent Film, Jewish Union, Literary Magazine, Math Team, Mock Trial, Moot Court, Murals, National Honor Society, National Language Honors Society, Newspaper, Orchestral and Vocal Concerts, Random Acts of Kindness, Red Cross, Relay For Life, School Leadership Team (SLT), Science Outreach League, Shamisen, Social Action, Splashes of Hope, Student Government Organization, Ukulele For Good, Yearbook",
         "",
         null,
         null,
         null,
         "Functionally Accessible",
         null,
         null,
         null,
         null,
         null,
         null,
         null,
         null,
         null,
         null,
         null,
         null,
         null,
         null,
         null,
         null,
         "N/A",
         null,
         null,
         null,
         null,
         null,
         null,
         null,
         "1030341.0",
         "1011560030.0",
         "Lincoln Square                                                             ",
         null,
         null,
         null,
         null,
         null,
         "100 Amsterdam Avenue",
         "New York",
         "NY",
         "10023",
         "Specialized School",
         "We enjoy an international reputation as the first and foremost high school dedicated to nurturing students gifted in the arts. Our mission is to provide an opportunity for students to pursue both a rigorous conservatory-style training and a challenging academic program. Our building features world-class facilities including a concert hall; art, dance, music, recording and theater studios, science and computer labs, and an art gallery. Almost all of our graduates continue their studies, gaining admission to highly selective schools. Our graduates have distinguished themselves in virtually every field, including the arts and sciences, medicine, law, business, education and public service.",
         "Students have a daily program that includes both a multi-period conservatory studio block and a full college preparatory academic course load. The studio majors are: Dance, Drama, Fine Arts, Instrumental Music, Technical Theater and Vocal Music. Each studio has a four-year sequence of courses and opportunities for students to participate in performances and exhibitions. Students completing the applicable NYC Studio Comprehensive exam receive a special endorsement on their diploma. Honors courses are offered in all academic areas starting in the freshman year, leading to a full complement of Advanced Placement courses.",
         "French, Italian, Japanese, Spanish",
         "Art History, Biology, Calculus AB, Calculus BC, Chemistry, Comparative Government and Politics, English Language and Composition, English Literature and Composition, Environmental Science, European History, French Language and Culture, Italian Language and Culture, Japanese Language and Culture, Music Theory, Physics B, Psychology, Spanish Language and Culture, Statistics, Studio Art: 2-D Design, Studio Art: 3-D Design, Studio Art: Drawing, United States Government and Politics, United States History, World History",
         "",
         "Spanish",
         "Basketball, Bowling, Cross Country, Fencing, Gymnastics, Handball, Indoor Track, Outdoor Track, Soccer, Softball, Swimming, Volleyball",
         "Basketball, Bowling, Cross Country, Fencing, Gymnastics, Handball, Indoor Track, Outdoor Track, Soccer, Softball, Swimming, Volleyball",
         "",
         "Lincoln Center for the Performing Arts",
         "Mount Sinai Medical Center",
         "The Cooper Union for the Advancement of Science and Art, Skidmore College, Sophie Davis School of Biomedical Education, New York University School of Medicine",
         "Lincoln Center for the Performing Arts, American Ballet Theater, Carnegie Hall, New York Philharmonic, Drama Desk, Metropolitan Opera, Interschool Orchestras of New York, New York Youth Symphony",
         "Junior Achievement, Red Cross, United Nations Association, American Cancer Society",
         "Sony Music, Warner Music Group, Capital Cities ABC, The Walt Disney Company",
         "",
         "",
         "Chancellor’s Arts Endorsed Diploma",
         "",
         "This school will provide students with disabilities the supports and services indicated on their IEPs.",
         "ESL",
         "6",
         "{'latitude': '40.773670507', 'longitude': '-73.985268558', 'human_address': '{\"address\": \"100 Amsterdam Avenue\", \"city\": \"New York\", \"state\": \"NY\", \"zip\": \"10023\"}'}",
         "7",
         "6",
         "151",
         "12420",
         "20",
         "4",
         "19",
         "12"
        ]
       ],
       "shape": {
        "columns": 105,
        "rows": 5
       }
      },
      "text/html": [
       "<div>\n",
       "<style scoped>\n",
       "    .dataframe tbody tr th:only-of-type {\n",
       "        vertical-align: middle;\n",
       "    }\n",
       "\n",
       "    .dataframe tbody tr th {\n",
       "        vertical-align: top;\n",
       "    }\n",
       "\n",
       "    .dataframe thead th {\n",
       "        text-align: right;\n",
       "    }\n",
       "</style>\n",
       "<table border=\"1\" class=\"dataframe\">\n",
       "  <thead>\n",
       "    <tr style=\"text-align: right;\">\n",
       "      <th></th>\n",
       "      <th>dbn</th>\n",
       "      <th>school_name</th>\n",
       "      <th>borough</th>\n",
       "      <th>building_code</th>\n",
       "      <th>phone_number</th>\n",
       "      <th>fax_number</th>\n",
       "      <th>grade_span_min</th>\n",
       "      <th>grade_span_max</th>\n",
       "      <th>expgrade_span_min</th>\n",
       "      <th>expgrade_span_max</th>\n",
       "      <th>...</th>\n",
       "      <th>number_programs</th>\n",
       "      <th>Location 1</th>\n",
       "      <th>Community Board</th>\n",
       "      <th>Council District</th>\n",
       "      <th>Census Tract</th>\n",
       "      <th>Zip Codes</th>\n",
       "      <th>Community Districts</th>\n",
       "      <th>Borough Boundaries</th>\n",
       "      <th>City Council Districts</th>\n",
       "      <th>Police Precincts</th>\n",
       "    </tr>\n",
       "  </thead>\n",
       "  <tbody>\n",
       "    <tr>\n",
       "      <th>0</th>\n",
       "      <td>27Q260</td>\n",
       "      <td>Frederick Douglass Academy VI High School</td>\n",
       "      <td>Queens</td>\n",
       "      <td>Q465</td>\n",
       "      <td>718-471-2154</td>\n",
       "      <td>718-471-2890</td>\n",
       "      <td>9.0</td>\n",
       "      <td>12</td>\n",
       "      <td>None</td>\n",
       "      <td>None</td>\n",
       "      <td>...</td>\n",
       "      <td>1</td>\n",
       "      <td>{'latitude': '40.601989336', 'longitude': '-73...</td>\n",
       "      <td>14</td>\n",
       "      <td>31</td>\n",
       "      <td>100802</td>\n",
       "      <td>20529</td>\n",
       "      <td>51</td>\n",
       "      <td>3</td>\n",
       "      <td>47</td>\n",
       "      <td>59</td>\n",
       "    </tr>\n",
       "    <tr>\n",
       "      <th>1</th>\n",
       "      <td>21K559</td>\n",
       "      <td>Life Academy High School for Film and Music</td>\n",
       "      <td>Brooklyn</td>\n",
       "      <td>K400</td>\n",
       "      <td>718-333-7750</td>\n",
       "      <td>718-333-7775</td>\n",
       "      <td>9.0</td>\n",
       "      <td>12</td>\n",
       "      <td>None</td>\n",
       "      <td>None</td>\n",
       "      <td>...</td>\n",
       "      <td>1</td>\n",
       "      <td>{'latitude': '40.593593811', 'longitude': '-73...</td>\n",
       "      <td>13</td>\n",
       "      <td>47</td>\n",
       "      <td>306</td>\n",
       "      <td>17616</td>\n",
       "      <td>21</td>\n",
       "      <td>2</td>\n",
       "      <td>45</td>\n",
       "      <td>35</td>\n",
       "    </tr>\n",
       "    <tr>\n",
       "      <th>2</th>\n",
       "      <td>16K393</td>\n",
       "      <td>Frederick Douglass Academy IV Secondary School</td>\n",
       "      <td>Brooklyn</td>\n",
       "      <td>K026</td>\n",
       "      <td>718-574-2820</td>\n",
       "      <td>718-574-2821</td>\n",
       "      <td>9.0</td>\n",
       "      <td>12</td>\n",
       "      <td>None</td>\n",
       "      <td>None</td>\n",
       "      <td>...</td>\n",
       "      <td>1</td>\n",
       "      <td>{'latitude': '40.692133704', 'longitude': '-73...</td>\n",
       "      <td>3</td>\n",
       "      <td>36</td>\n",
       "      <td>291</td>\n",
       "      <td>18181</td>\n",
       "      <td>69</td>\n",
       "      <td>2</td>\n",
       "      <td>49</td>\n",
       "      <td>52</td>\n",
       "    </tr>\n",
       "    <tr>\n",
       "      <th>3</th>\n",
       "      <td>08X305</td>\n",
       "      <td>Pablo Neruda Academy</td>\n",
       "      <td>Bronx</td>\n",
       "      <td>X450</td>\n",
       "      <td>718-824-1682</td>\n",
       "      <td>718-824-1663</td>\n",
       "      <td>9.0</td>\n",
       "      <td>12</td>\n",
       "      <td>None</td>\n",
       "      <td>None</td>\n",
       "      <td>...</td>\n",
       "      <td>1</td>\n",
       "      <td>{'latitude': '40.822303765', 'longitude': '-73...</td>\n",
       "      <td>9</td>\n",
       "      <td>18</td>\n",
       "      <td>16</td>\n",
       "      <td>11611</td>\n",
       "      <td>58</td>\n",
       "      <td>5</td>\n",
       "      <td>31</td>\n",
       "      <td>26</td>\n",
       "    </tr>\n",
       "    <tr>\n",
       "      <th>4</th>\n",
       "      <td>03M485</td>\n",
       "      <td>Fiorello H. LaGuardia High School of Music &amp; A...</td>\n",
       "      <td>Manhattan</td>\n",
       "      <td>M485</td>\n",
       "      <td>212-496-0700</td>\n",
       "      <td>212-724-5748</td>\n",
       "      <td>9.0</td>\n",
       "      <td>12</td>\n",
       "      <td>None</td>\n",
       "      <td>None</td>\n",
       "      <td>...</td>\n",
       "      <td>6</td>\n",
       "      <td>{'latitude': '40.773670507', 'longitude': '-73...</td>\n",
       "      <td>7</td>\n",
       "      <td>6</td>\n",
       "      <td>151</td>\n",
       "      <td>12420</td>\n",
       "      <td>20</td>\n",
       "      <td>4</td>\n",
       "      <td>19</td>\n",
       "      <td>12</td>\n",
       "    </tr>\n",
       "  </tbody>\n",
       "</table>\n",
       "<p>5 rows × 105 columns</p>\n",
       "</div>"
      ],
      "text/plain": [
       "      dbn                                        school_name    borough  \\\n",
       "0  27Q260          Frederick Douglass Academy VI High School     Queens   \n",
       "1  21K559        Life Academy High School for Film and Music   Brooklyn   \n",
       "2  16K393     Frederick Douglass Academy IV Secondary School   Brooklyn   \n",
       "3  08X305                               Pablo Neruda Academy      Bronx   \n",
       "4  03M485  Fiorello H. LaGuardia High School of Music & A...  Manhattan   \n",
       "\n",
       "  building_code  phone_number    fax_number  grade_span_min  grade_span_max  \\\n",
       "0          Q465  718-471-2154  718-471-2890             9.0              12   \n",
       "1          K400  718-333-7750  718-333-7775             9.0              12   \n",
       "2          K026  718-574-2820  718-574-2821             9.0              12   \n",
       "3          X450  718-824-1682  718-824-1663             9.0              12   \n",
       "4          M485  212-496-0700  212-724-5748             9.0              12   \n",
       "\n",
       "  expgrade_span_min expgrade_span_max  ... number_programs  \\\n",
       "0              None              None  ...               1   \n",
       "1              None              None  ...               1   \n",
       "2              None              None  ...               1   \n",
       "3              None              None  ...               1   \n",
       "4              None              None  ...               6   \n",
       "\n",
       "                                          Location 1 Community Board  \\\n",
       "0  {'latitude': '40.601989336', 'longitude': '-73...              14   \n",
       "1  {'latitude': '40.593593811', 'longitude': '-73...              13   \n",
       "2  {'latitude': '40.692133704', 'longitude': '-73...               3   \n",
       "3  {'latitude': '40.822303765', 'longitude': '-73...               9   \n",
       "4  {'latitude': '40.773670507', 'longitude': '-73...               7   \n",
       "\n",
       "  Council District Census Tract Zip Codes Community Districts  \\\n",
       "0               31       100802     20529                  51   \n",
       "1               47          306     17616                  21   \n",
       "2               36          291     18181                  69   \n",
       "3               18           16     11611                  58   \n",
       "4                6          151     12420                  20   \n",
       "\n",
       "  Borough Boundaries City Council Districts Police Precincts  \n",
       "0                  3                     47               59  \n",
       "1                  2                     45               35  \n",
       "2                  2                     49               52  \n",
       "3                  5                     31               26  \n",
       "4                  4                     19               12  \n",
       "\n",
       "[5 rows x 105 columns]"
      ]
     },
     "execution_count": 3,
     "metadata": {},
     "output_type": "execute_result"
    }
   ],
   "source": [
    "# Write a SQL query\n",
    "query = \"SELECT * FROM nyc_schools.high_school_directory LIMIT 5;\"\n",
    "\n",
    "# Execute query and load results directly into pandas\n",
    "df = pd.read_sql_query(query, engine)\n",
    "\n",
    "# Preview the data\n",
    "df.head()\n"
   ]
  },
  {
   "cell_type": "markdown",
   "id": "e77f285d",
   "metadata": {},
   "source": [
    "# Data Exploration"
   ]
  },
  {
   "cell_type": "code",
   "execution_count": 4,
   "id": "43c94d66",
   "metadata": {},
   "outputs": [
    {
     "data": {
      "application/vnd.microsoft.datawrangler.viewer.v0+json": {
       "columns": [
        {
         "name": "index",
         "rawType": "int64",
         "type": "integer"
        },
        {
         "name": "table_schema",
         "rawType": "object",
         "type": "string"
        },
        {
         "name": "table_name",
         "rawType": "object",
         "type": "string"
        }
       ],
       "ref": "85c3c07f-92f3-4bb8-9682-b04b64c32ec2",
       "rows": [
        [
         "0",
         "dependency_example",
         "banks_test_kovalivska_aws"
        ],
        [
         "1",
         "dependency_example",
         "departments"
        ],
        [
         "2",
         "dependency_example",
         "districts"
        ],
        [
         "3",
         "dependency_example",
         "employees"
        ],
        [
         "4",
         "dependency_example",
         "martin_svitek_sat_results"
        ],
        [
         "5",
         "dependency_example",
         "neighborhoods"
        ],
        [
         "6",
         "nyc_schools",
         "Essam_alasaad_sat_results"
        ],
        [
         "7",
         "nyc_schools",
         "abida_sultana_sat_scores"
        ],
        [
         "8",
         "nyc_schools",
         "anastasia_sat_results"
        ],
        [
         "9",
         "nyc_schools",
         "cleaned_sat_results"
        ],
        [
         "10",
         "nyc_schools",
         "darel-kigha_sat_results"
        ],
        [
         "11",
         "nyc_schools",
         "hakim-murphy_sat_results"
        ],
        [
         "12",
         "nyc_schools",
         "heike_reichert_sat_results"
        ],
        [
         "13",
         "nyc_schools",
         "high_school_directory"
        ],
        [
         "14",
         "nyc_schools",
         "lars_petschke_sat_results"
        ],
        [
         "15",
         "nyc_schools",
         "marianna_gokova_cleaned_sat_results"
        ],
        [
         "16",
         "nyc_schools",
         "meifang_sat_results"
        ],
        [
         "17",
         "nyc_schools",
         "mindo_sat_scores"
        ],
        [
         "18",
         "nyc_schools",
         "mpacholska_sat_results"
        ],
        [
         "19",
         "nyc_schools",
         "mytable"
        ],
        [
         "20",
         "nyc_schools",
         "sat_results"
        ],
        [
         "21",
         "nyc_schools",
         "sat_scores_cleaned"
        ],
        [
         "22",
         "nyc_schools",
         "school_demographics"
        ],
        [
         "23",
         "nyc_schools",
         "school_safety_report"
        ],
        [
         "24",
         "nyc_schools",
         "serhii_sotnichenko_sat_scores"
        ],
        [
         "25",
         "nyc_schools",
         "thofa_tazkia_sat_results"
        ],
        [
         "26",
         "nyc_schools",
         "vanessa_sat_results"
        ],
        [
         "27",
         "nyc_schools",
         "yana_yelnikova_sat_scores"
        ],
        [
         "28",
         "public",
         "alexandra_sat_scores"
        ],
        [
         "29",
         "public",
         "cleaned_sat_results"
        ],
        [
         "30",
         "public",
         "demo_users"
        ],
        [
         "31",
         "public",
         "departments"
        ],
        [
         "32",
         "public",
         "dependency_example.departments"
        ],
        [
         "33",
         "public",
         "geography_columns"
        ],
        [
         "34",
         "public",
         "geometry_columns"
        ],
        [
         "35",
         "public",
         "gyms"
        ],
        [
         "36",
         "public",
         "martin_svitek_sat_results"
        ],
        [
         "37",
         "public",
         "mytable"
        ],
        [
         "38",
         "public",
         "mytable_martin"
        ],
        [
         "39",
         "public",
         "neighborhood_segments"
        ],
        [
         "40",
         "public",
         "sat_results"
        ],
        [
         "41",
         "public",
         "sat_scores"
        ],
        [
         "42",
         "public",
         "sebastian-bangemann_sat_scores"
        ],
        [
         "43",
         "public",
         "serhii_sotnichenko_sat_scores"
        ],
        [
         "44",
         "public",
         "spatial_ref_sys"
        ],
        [
         "45",
         "public",
         "test_berlin_data.products_test"
        ],
        [
         "46",
         "public",
         "test_berlin_data.test_df_table"
        ],
        [
         "47",
         "public",
         "test_schema.users_df_test"
        ],
        [
         "48",
         "public",
         "ucheokoli_sat_scores"
        ],
        [
         "49",
         "public",
         "untitled_table"
        ]
       ],
       "shape": {
        "columns": 2,
        "rows": 62
       }
      },
      "text/html": [
       "<div>\n",
       "<style scoped>\n",
       "    .dataframe tbody tr th:only-of-type {\n",
       "        vertical-align: middle;\n",
       "    }\n",
       "\n",
       "    .dataframe tbody tr th {\n",
       "        vertical-align: top;\n",
       "    }\n",
       "\n",
       "    .dataframe thead th {\n",
       "        text-align: right;\n",
       "    }\n",
       "</style>\n",
       "<table border=\"1\" class=\"dataframe\">\n",
       "  <thead>\n",
       "    <tr style=\"text-align: right;\">\n",
       "      <th></th>\n",
       "      <th>table_schema</th>\n",
       "      <th>table_name</th>\n",
       "    </tr>\n",
       "  </thead>\n",
       "  <tbody>\n",
       "    <tr>\n",
       "      <th>0</th>\n",
       "      <td>dependency_example</td>\n",
       "      <td>banks_test_kovalivska_aws</td>\n",
       "    </tr>\n",
       "    <tr>\n",
       "      <th>1</th>\n",
       "      <td>dependency_example</td>\n",
       "      <td>departments</td>\n",
       "    </tr>\n",
       "    <tr>\n",
       "      <th>2</th>\n",
       "      <td>dependency_example</td>\n",
       "      <td>districts</td>\n",
       "    </tr>\n",
       "    <tr>\n",
       "      <th>3</th>\n",
       "      <td>dependency_example</td>\n",
       "      <td>employees</td>\n",
       "    </tr>\n",
       "    <tr>\n",
       "      <th>4</th>\n",
       "      <td>dependency_example</td>\n",
       "      <td>martin_svitek_sat_results</td>\n",
       "    </tr>\n",
       "    <tr>\n",
       "      <th>...</th>\n",
       "      <td>...</td>\n",
       "      <td>...</td>\n",
       "    </tr>\n",
       "    <tr>\n",
       "      <th>57</th>\n",
       "      <td>test_berlin_data</td>\n",
       "      <td>neighborhoods</td>\n",
       "    </tr>\n",
       "    <tr>\n",
       "      <th>58</th>\n",
       "      <td>test_berlin_data</td>\n",
       "      <td>neon_test_products_v3</td>\n",
       "    </tr>\n",
       "    <tr>\n",
       "      <th>59</th>\n",
       "      <td>test_berlin_data</td>\n",
       "      <td>simple_products</td>\n",
       "    </tr>\n",
       "    <tr>\n",
       "      <th>60</th>\n",
       "      <td>test_berlin_data</td>\n",
       "      <td>users_test</td>\n",
       "    </tr>\n",
       "    <tr>\n",
       "      <th>61</th>\n",
       "      <td>test_berlin_data</td>\n",
       "      <td>v3_test_table</td>\n",
       "    </tr>\n",
       "  </tbody>\n",
       "</table>\n",
       "<p>62 rows × 2 columns</p>\n",
       "</div>"
      ],
      "text/plain": [
       "          table_schema                 table_name\n",
       "0   dependency_example  banks_test_kovalivska_aws\n",
       "1   dependency_example                departments\n",
       "2   dependency_example                  districts\n",
       "3   dependency_example                  employees\n",
       "4   dependency_example  martin_svitek_sat_results\n",
       "..                 ...                        ...\n",
       "57    test_berlin_data              neighborhoods\n",
       "58    test_berlin_data      neon_test_products_v3\n",
       "59    test_berlin_data            simple_products\n",
       "60    test_berlin_data                 users_test\n",
       "61    test_berlin_data              v3_test_table\n",
       "\n",
       "[62 rows x 2 columns]"
      ]
     },
     "execution_count": 4,
     "metadata": {},
     "output_type": "execute_result"
    }
   ],
   "source": [
    "pd.read_sql_query(\"\"\"\n",
    "SELECT table_schema, table_name\n",
    "FROM information_schema.tables\n",
    "WHERE table_schema NOT IN ('pg_catalog','information_schema')\n",
    "ORDER BY 1,2;\n",
    "\"\"\", engine)"
   ]
  },
  {
   "cell_type": "markdown",
   "id": "61acb6ab",
   "metadata": {},
   "source": [
    "# Q & A"
   ]
  },
  {
   "cell_type": "markdown",
   "id": "16c71e55",
   "metadata": {},
   "source": [
    "How many schools are there in each borough?"
   ]
  },
  {
   "cell_type": "code",
   "execution_count": 10,
   "id": "e029db18",
   "metadata": {},
   "outputs": [
    {
     "name": "stdout",
     "output_type": "stream",
     "text": [
      "         borough  total_schools\n",
      "0       Brooklyn            121\n",
      "1          Bronx            118\n",
      "2      Manhattan            106\n",
      "3         Queens             80\n",
      "4  Staten Island             10\n"
     ]
    }
   ],
   "source": [
    "query = \"\"\"\n",
    "SELECT borough, COUNT(DISTINCT dbn) AS total_schools\n",
    "FROM nyc_schools.high_school_directory\n",
    "GROUP BY 1\n",
    "ORDER BY 2 DESC\n",
    "\"\"\"\n",
    "df2 = pd.read_sql_query(query, engine)\n",
    "print(df2)"
   ]
  },
  {
   "cell_type": "code",
   "execution_count": 6,
   "id": "e57e19de",
   "metadata": {},
   "outputs": [
    {
     "data": {
      "image/png": "[encoded data removed]",
      "text/plain": [
       "<Figure size 800x500 with 1 Axes>"
      ]
     },
     "metadata": {},
     "output_type": "display_data"
    }
   ],
   "source": [
    "import matplotlib.pyplot as plt\n",
    "plt.figure(figsize=(8,5))\n",
    "plt.bar(df2[\"borough\"], df2[\"total_schools\"])\n",
    "plt.title(\"Number of Schools per Borough\")\n",
    "plt.xlabel(\"Borough\")\n",
    "plt.ylabel(\"Total Schools\")\n",
    "plt.tight_layout()\n",
    "plt.show()"
   ]
  },
  {
   "cell_type": "markdown",
   "id": "7acd8a99",
   "metadata": {},
   "source": [
    "What is the average % of English Language Learners (ELL) per borough?"
   ]
  },
  {
   "cell_type": "code",
   "execution_count": 7,
   "id": "102219c7",
   "metadata": {},
   "outputs": [
    {
     "name": "stdout",
     "output_type": "stream",
     "text": [
      "         borough  avg_ell_percent  schools_used\n",
      "0      Manhattan             7.57            40\n",
      "1       Brooklyn              NaN             0\n",
      "2         Queens              NaN             0\n",
      "3  Staten Island              NaN             0\n",
      "4          Bronx              NaN             0\n"
     ]
    }
   ],
   "source": [
    "query = \"\"\"\n",
    "SELECT d.borough,\n",
    "       ROUND(AVG(sd.ell_percent::numeric), 2) AS avg_ell_percent,\n",
    "       COUNT(sd.ell_percent) AS schools_used\n",
    "FROM nyc_schools.high_school_directory d\n",
    "LEFT JOIN nyc_schools.school_demographics sd ON sd.dbn = d.dbn\n",
    "GROUP BY d.borough\n",
    "ORDER BY avg_ell_percent DESC NULLS LAST\n",
    "\"\"\"\n",
    "df_ell = pd.read_sql_query(query, engine)\n",
    "print(df_ell)"
   ]
  },
  {
   "cell_type": "markdown",
   "id": "da465e45",
   "metadata": {},
   "source": [
    "Using the data from the school demographics and high school directory, write a query to find the top 3 schools in each borough with the highest percentage of special education students (sped_percent)"
   ]
  },
  {
   "cell_type": "code",
   "execution_count": 8,
   "id": "1ec394ef",
   "metadata": {},
   "outputs": [
    {
     "name": "stdout",
     "output_type": "stream",
     "text": [
      "     borough     dbn                 school_name  schoolyear  sped_percent\n",
      "0  Manhattan  01M450  East Side Community School    20092010          28.8\n",
      "1  Manhattan  01M450  East Side Community School    20102011          27.7\n",
      "2  Manhattan  01M450  East Side Community School    20082009          26.7\n"
     ]
    }
   ],
   "source": [
    "query3 = \"\"\"\n",
    "WITH schools AS (\n",
    "  SELECT\n",
    "      sch.dbn,\n",
    "      sch.school_name,\n",
    "      sch.borough,\n",
    "      dem.schoolyear,\n",
    "      dem.sped_percent::numeric AS sped_percent,\n",
    "      ROW_NUMBER() OVER (\n",
    "        PARTITION BY sch.borough\n",
    "        ORDER BY dem.sped_percent::numeric DESC\n",
    "      ) AS rn\n",
    "  FROM nyc_schools.high_school_directory AS sch\n",
    "  JOIN nyc_schools.school_demographics AS dem\n",
    "    ON sch.dbn = dem.dbn\n",
    "  WHERE dem.sped_percent IS NOT NULL\n",
    ")\n",
    "SELECT borough, dbn, school_name, schoolyear, sped_percent\n",
    "FROM schools\n",
    "WHERE rn <= 3\n",
    "ORDER BY borough, sped_percent DESC, school_name;\n",
    "\"\"\"\n",
    "df_sped = pd.read_sql_query(query3, engine)\n",
    "print(df_sped)"
   ]
  },
  {
   "cell_type": "markdown",
   "id": "557dea38",
   "metadata": {},
   "source": [
    "# Observations"
   ]
  },
  {
   "cell_type": "markdown",
   "id": "3ead7652",
   "metadata": {},
   "source": [
    "- Manhattan has the top 3 schools with the highest percentageof special education students\n",
    "- Brooklyn has the highest number of schools, 121, followed by Bronx, 118"
   ]
  }
 ],
 "metadata": {
  "kernelspec": {
   "display_name": "base",
   "language": "python",
   "name": "python3"
  },
  "language_info": {
   "codemirror_mode": {
    "name": "ipython",
    "version": 3
   },
   "file_extension": ".py",
   "mimetype": "text/x-python",
   "name": "python",
   "nbconvert_exporter": "python",
   "pygments_lexer": "ipython3",
   "version": "3.13.5"
  }
 },
 "nbformat": 4,
 "nbformat_minor": 5
}
