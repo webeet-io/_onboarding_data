{
 "cells": [
  {
   "cell_type": "markdown",
   "id": "78ac24e3",
   "metadata": {},
   "source": [
    "#  Database Exploration - Hakim Murphy"
   ]
  },
  {
   "cell_type": "markdown",
   "id": "c944f2ff",
   "metadata": {},
   "source": [
    "## Import Libraries"
   ]
  },
  {
   "cell_type": "code",
   "execution_count": 1,
   "id": "d0148065",
   "metadata": {},
   "outputs": [],
   "source": [
    "import pandas as pd\n",
    "import psycopg2\n",
    "import warnings\n",
    "warnings.filterwarnings(\"ignore\")"
   ]
  },
  {
   "cell_type": "markdown",
   "id": "a3c3b9a5",
   "metadata": {},
   "source": [
    "## Connect to Database"
   ]
  },
  {
   "cell_type": "code",
   "execution_count": 2,
   "id": "3ebedf04",
   "metadata": {},
   "outputs": [],
   "source": [
    "conn = psycopg2.connect(\n",
    "    dbname=\"neondb\",\n",
    "    user=\"neondb_owner\",\n",
    "    password=\"npg_CeS9fJg2azZD\",\n",
    "    host=\"ep-falling-glitter-a5m0j5gk-pooler.us-east-2.aws.neon.tech\",\n",
    "    port=\"5432\",\n",
    "    sslmode=\"require\"  \n",
    ")\n",
    "cur = conn.cursor()"
   ]
  },
  {
   "cell_type": "markdown",
   "id": "96cc145f",
   "metadata": {},
   "source": [
    "## 🧮 School Distribution"
   ]
  },
  {
   "cell_type": "code",
   "execution_count": 4,
   "id": "6a98d0a4",
   "metadata": {},
   "outputs": [
    {
     "data": {
      "text/html": [
       "<div>\n",
       "<style scoped>\n",
       "    .dataframe tbody tr th:only-of-type {\n",
       "        vertical-align: middle;\n",
       "    }\n",
       "\n",
       "    .dataframe tbody tr th {\n",
       "        vertical-align: top;\n",
       "    }\n",
       "\n",
       "    .dataframe thead th {\n",
       "        text-align: right;\n",
       "    }\n",
       "</style>\n",
       "<table border=\"1\" class=\"dataframe\">\n",
       "  <thead>\n",
       "    <tr style=\"text-align: right;\">\n",
       "      <th></th>\n",
       "      <th>borough</th>\n",
       "      <th>unique_school_count</th>\n",
       "    </tr>\n",
       "  </thead>\n",
       "  <tbody>\n",
       "    <tr>\n",
       "      <th>0</th>\n",
       "      <td>Bronx</td>\n",
       "      <td>118</td>\n",
       "    </tr>\n",
       "    <tr>\n",
       "      <th>1</th>\n",
       "      <td>Brooklyn</td>\n",
       "      <td>121</td>\n",
       "    </tr>\n",
       "    <tr>\n",
       "      <th>2</th>\n",
       "      <td>Manhattan</td>\n",
       "      <td>106</td>\n",
       "    </tr>\n",
       "    <tr>\n",
       "      <th>3</th>\n",
       "      <td>Queens</td>\n",
       "      <td>80</td>\n",
       "    </tr>\n",
       "    <tr>\n",
       "      <th>4</th>\n",
       "      <td>Staten Island</td>\n",
       "      <td>10</td>\n",
       "    </tr>\n",
       "  </tbody>\n",
       "</table>\n",
       "</div>"
      ],
      "text/plain": [
       "         borough  unique_school_count\n",
       "0          Bronx                  118\n",
       "1       Brooklyn                  121\n",
       "2      Manhattan                  106\n",
       "3         Queens                   80\n",
       "4  Staten Island                   10"
      ]
     },
     "execution_count": 4,
     "metadata": {},
     "output_type": "execute_result"
    }
   ],
   "source": [
    "query = \"\"\"\n",
    "SELECT \n",
    "    borough, \n",
    "    COUNT(DISTINCT dbn) AS unique_school_count\n",
    "FROM nyc_schools.high_school_directory\n",
    "GROUP BY borough;\n",
    "\"\"\"\n",
    "num_school_boroughs = pd.read_sql(query, conn)\n",
    "num_school_boroughs"
   ]
  },
  {
   "cell_type": "markdown",
   "id": "4bd3beae",
   "metadata": {},
   "source": [
    "The number of schools in `Staten Island` are very low, which is strange for a population of over 450,000 people."
   ]
  },
  {
   "cell_type": "markdown",
   "id": "73d9b3a0",
   "metadata": {},
   "source": [
    "## 🎓 Language Learners"
   ]
  },
  {
   "cell_type": "code",
   "execution_count": 7,
   "id": "ae9aa4c2",
   "metadata": {},
   "outputs": [
    {
     "name": "stdout",
     "output_type": "stream",
     "text": [
      "     borough  avg_ell_pct\n",
      "0  Manhattan         7.57%\n"
     ]
    }
   ],
   "source": [
    "query = \"\"\"\n",
    "SELECT\n",
    "  dir.borough,\n",
    "  AVG(sd.ell_percent) AS avg_ell_pct\n",
    "FROM nyc_schools.high_school_directory AS dir\n",
    "JOIN nyc_schools.school_demographics AS sd\n",
    "  USING (dbn)\n",
    "GROUP BY dir.borough;\n",
    "\"\"\"\n",
    "ell_per_borough = pd.read_sql(query, conn)\n",
    "print(f'{ell_per_borough.round(2)}%')"
   ]
  },
  {
   "cell_type": "markdown",
   "id": "347ef5cb",
   "metadata": {},
   "source": [
    "Checked the data and found that the `dbn` key are all `[Null]` values, and therefore only `Manhattan` is returned, on average, `7.57%` of students in Manhattan high schools are classified as `English Language Learners (ELL)`.  "
   ]
  },
  {
   "cell_type": "markdown",
   "id": "2aa19d10",
   "metadata": {},
   "source": [
    "## 🔗Schools supporting special needs"
   ]
  },
  {
   "cell_type": "code",
   "execution_count": 8,
   "id": "167746d3",
   "metadata": {},
   "outputs": [
    {
     "name": "stdout",
     "output_type": "stream",
     "text": [
      "     borough                 school_name  sped_percent  rn\n",
      "0  Manhattan  East Side Community School          28.8   1\n",
      "1  Manhattan  East Side Community School          27.7   2\n",
      "2  Manhattan  East Side Community School          26.7   3\n"
     ]
    }
   ],
   "source": [
    "query = \"\"\"\n",
    "SELECT *\n",
    "FROM (\n",
    "  SELECT\n",
    "    dir.borough,\n",
    "    dir.school_name,\n",
    "    sd.sped_percent,\n",
    "    ROW_NUMBER() OVER (PARTITION BY dir.borough ORDER BY sd.sped_percent DESC) AS rn\n",
    "  FROM nyc_schools.high_school_directory AS dir\n",
    "  JOIN nyc_schools.school_demographics AS sd\n",
    "    USING (dbn)\n",
    "  WHERE sd.sped_percent IS NOT NULL\n",
    ") ranked\n",
    "WHERE rn <= 3;\n",
    "\"\"\"\n",
    "sped_per_borough = pd.read_sql(query, conn)\n",
    "print(sped_per_borough)"
   ]
  },
  {
   "cell_type": "markdown",
   "id": "43635a81",
   "metadata": {},
   "source": [
    "## Conclusion: NYC High School Data Analysis with PostgreSQL\n",
    "\n",
    "This analysis explored NYC high school data. The key link between the `high_school_directory` and `school_demographics` tables is the `dbn` column.\n",
    "\n",
    "However, only Manhattan schools have valid `dbn` codes, so results for other boroughs are missing. This limits borough-level insights for metrics like ELL and special education percentages. For complete analysis, ensure all boroughs have valid `dbn` codes in both tables."
   ]
  }
 ],
 "metadata": {
  "kernelspec": {
   "display_name": "base",
   "language": "python",
   "name": "python3"
  },
  "language_info": {
   "codemirror_mode": {
    "name": "ipython",
    "version": 3
   },
   "file_extension": ".py",
   "mimetype": "text/x-python",
   "name": "python",
   "nbconvert_exporter": "python",
   "pygments_lexer": "ipython3",
   "version": "3.13.5"
  }
 },
 "nbformat": 4,
 "nbformat_minor": 5
}
