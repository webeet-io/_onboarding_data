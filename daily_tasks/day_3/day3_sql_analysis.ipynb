{
 "cells": [
  {
   "cell_type": "markdown",
   "id": "52f6b05b",
   "metadata": {},
   "source": [
    "# 🧠 Day 3 – SQL via Python: NYC School Data Exploration\n",
    "In this notebook, you'll connect to a PostgreSQL database and execute SQL queries to explore NYC school data."
   ]
  },
  {
   "cell_type": "markdown",
   "id": "b41279b5",
   "metadata": {},
   "source": [
    "## 🔌 Step 1: Import Libraries"
   ]
  },
  {
   "cell_type": "code",
   "execution_count": 1,
   "id": "fdf6987a",
   "metadata": {},
   "outputs": [],
   "source": [
    "import pandas as pd\n",
    "import psycopg2"
   ]
  },
  {
   "cell_type": "markdown",
   "id": "e7ef64ad",
   "metadata": {},
   "source": [
    "## 🔐 Step 2: Connect to the Database"
   ]
  },
  {
   "cell_type": "code",
   "execution_count": 6,
   "id": "09610a71",
   "metadata": {},
   "outputs": [],
   "source": [
    "# DB connection setup using hardcoded credentials (for onboarding only)\n",
    "conn = psycopg2.connect(\n",
    "    dbname=\"neondb\",\n",
    "    user=\"neondb_owner\",\n",
    "    password=\"a9Am7Yy5r9_T7h4OF2GN\",\n",
    "    host=\"ep-falling-glitter-a5m0j5gk-pooler.us-east-2.aws.neon.tech\",\n",
    "    port=\"5432\",\n",
    "    sslmode=\"require\"\n",
    ")\n",
    "cur = conn.cursor()"
   ]
  },
  {
   "cell_type": "markdown",
   "id": "1b47ccdd",
   "metadata": {},
   "source": [
    "## ✅ Task Queries Below"
   ]
  },
  {
   "cell_type": "markdown",
   "id": "674ad27e",
   "metadata": {},
   "source": [
    "### 🧮 School Distribution\n",
    "**Q1 : How many schools in each borough?**\n",
    "* Used the high_schools_directory to keep in line with what we did yesterday (school_safety_table also has boroughs but the values are very different)\n",
    "* Only counted distinct dbn"
   ]
  },
  {
   "cell_type": "code",
   "execution_count": 44,
   "id": "14eb6143",
   "metadata": {},
   "outputs": [
    {
     "name": "stderr",
     "output_type": "stream",
     "text": [
      "/var/folders/yz/0rh2jmfd3xq7_g25xn3y55dh0000gn/T/ipykernel_99119/3415373468.py:6: UserWarning: pandas only supports SQLAlchemy connectable (engine/connection) or database string URI or sqlite3 DBAPI2 connection. Other DBAPI2 objects are not tested. Please consider using SQLAlchemy.\n",
      "  df_result = pd.read_sql(query, conn)\n"
     ]
    },
    {
     "data": {
      "text/html": [
       "<div>\n",
       "<style scoped>\n",
       "    .dataframe tbody tr th:only-of-type {\n",
       "        vertical-align: middle;\n",
       "    }\n",
       "\n",
       "    .dataframe tbody tr th {\n",
       "        vertical-align: top;\n",
       "    }\n",
       "\n",
       "    .dataframe thead th {\n",
       "        text-align: right;\n",
       "    }\n",
       "</style>\n",
       "<table border=\"1\" class=\"dataframe\">\n",
       "  <thead>\n",
       "    <tr style=\"text-align: right;\">\n",
       "      <th></th>\n",
       "      <th>borough</th>\n",
       "      <th>school_count</th>\n",
       "    </tr>\n",
       "  </thead>\n",
       "  <tbody>\n",
       "    <tr>\n",
       "      <th>0</th>\n",
       "      <td>Bronx</td>\n",
       "      <td>118</td>\n",
       "    </tr>\n",
       "    <tr>\n",
       "      <th>1</th>\n",
       "      <td>Brooklyn</td>\n",
       "      <td>121</td>\n",
       "    </tr>\n",
       "    <tr>\n",
       "      <th>2</th>\n",
       "      <td>Manhattan</td>\n",
       "      <td>106</td>\n",
       "    </tr>\n",
       "    <tr>\n",
       "      <th>3</th>\n",
       "      <td>Queens</td>\n",
       "      <td>80</td>\n",
       "    </tr>\n",
       "    <tr>\n",
       "      <th>4</th>\n",
       "      <td>Staten Island</td>\n",
       "      <td>10</td>\n",
       "    </tr>\n",
       "  </tbody>\n",
       "</table>\n",
       "</div>"
      ],
      "text/plain": [
       "         borough  school_count\n",
       "0          Bronx           118\n",
       "1       Brooklyn           121\n",
       "2      Manhattan           106\n",
       "3         Queens            80\n",
       "4  Staten Island            10"
      ]
     },
     "execution_count": 44,
     "metadata": {},
     "output_type": "execute_result"
    }
   ],
   "source": [
    "query = \"\"\"\n",
    "SELECT borough, COUNT(DISTINCT dbn) AS school_count\n",
    "FROM nyc_schools.high_school_directory\n",
    "GROUP BY borough;\n",
    "\"\"\"\n",
    "df_result = pd.read_sql(query, conn)\n",
    "df_result"
   ]
  },
  {
   "cell_type": "markdown",
   "id": "0c9a5714",
   "metadata": {},
   "source": [
    "### 🎓 Language Learners\n",
    "**Q2 : What is the average % of English Language Learners (ELL) per borough?**\n",
    "- Could only find data for Borough Manahatan in the school_demographics table after joining with the highschool data so the other boroughs show as null\n",
    "- Used a LEFT JOIN so that no rows are left off and I can show all the boroughs even if they have NULL"
   ]
  },
  {
   "cell_type": "code",
   "execution_count": 3,
   "id": "47ab7faf",
   "metadata": {},
   "outputs": [
    {
     "name": "stderr",
     "output_type": "stream",
     "text": [
      "/var/folders/yz/0rh2jmfd3xq7_g25xn3y55dh0000gn/T/ipykernel_5931/154223112.py:9: UserWarning: pandas only supports SQLAlchemy connectable (engine/connection) or database string URI or sqlite3 DBAPI2 connection. Other DBAPI2 objects are not tested. Please consider using SQLAlchemy.\n",
      "  df_result = pd.read_sql(query, conn)\n"
     ]
    },
    {
     "data": {
      "text/html": [
       "<div>\n",
       "<style scoped>\n",
       "    .dataframe tbody tr th:only-of-type {\n",
       "        vertical-align: middle;\n",
       "    }\n",
       "\n",
       "    .dataframe tbody tr th {\n",
       "        vertical-align: top;\n",
       "    }\n",
       "\n",
       "    .dataframe thead th {\n",
       "        text-align: right;\n",
       "    }\n",
       "</style>\n",
       "<table border=\"1\" class=\"dataframe\">\n",
       "  <thead>\n",
       "    <tr style=\"text-align: right;\">\n",
       "      <th></th>\n",
       "      <th>borough</th>\n",
       "      <th>avg_ell_percent</th>\n",
       "    </tr>\n",
       "  </thead>\n",
       "  <tbody>\n",
       "    <tr>\n",
       "      <th>0</th>\n",
       "      <td>Brooklyn</td>\n",
       "      <td>NaN</td>\n",
       "    </tr>\n",
       "    <tr>\n",
       "      <th>1</th>\n",
       "      <td>Queens</td>\n",
       "      <td>NaN</td>\n",
       "    </tr>\n",
       "    <tr>\n",
       "      <th>2</th>\n",
       "      <td>Staten Island</td>\n",
       "      <td>NaN</td>\n",
       "    </tr>\n",
       "    <tr>\n",
       "      <th>3</th>\n",
       "      <td>Manhattan</td>\n",
       "      <td>7.5725</td>\n",
       "    </tr>\n",
       "    <tr>\n",
       "      <th>4</th>\n",
       "      <td>Bronx</td>\n",
       "      <td>NaN</td>\n",
       "    </tr>\n",
       "  </tbody>\n",
       "</table>\n",
       "</div>"
      ],
      "text/plain": [
       "         borough  avg_ell_percent\n",
       "0       Brooklyn              NaN\n",
       "1         Queens              NaN\n",
       "2  Staten Island              NaN\n",
       "3      Manhattan           7.5725\n",
       "4          Bronx              NaN"
      ]
     },
     "execution_count": 3,
     "metadata": {},
     "output_type": "execute_result"
    }
   ],
   "source": [
    "query = \"\"\"\n",
    "    SELECT borough, \n",
    "        AVG(sd.ell_percent)AS avg_ell_percent\n",
    "    FROM nyc_schools.high_school_directory hsd \n",
    "    LEFT JOIN nyc_schools.school_demographics sd\n",
    "    USING(dbn)\n",
    "    GROUP BY borough\n",
    "\"\"\"\n",
    "df_result = pd.read_sql(query, conn)\n",
    "df_result"
   ]
  },
  {
   "cell_type": "markdown",
   "id": "a5a50da8",
   "metadata": {},
   "source": [
    "### 🔗School supporting special needs\n",
    "**Q3 : Using the data from the school demographics and high school directory, write a query to find the top 3 schools in each borough with the highest percentage of special education students (sped_percent)**\n",
    "- Again the only borough that is here is Manhattan so only have Top 3 schools for this borough"
   ]
  },
  {
   "cell_type": "code",
   "execution_count": 8,
   "id": "5a01b660",
   "metadata": {},
   "outputs": [
    {
     "name": "stderr",
     "output_type": "stream",
     "text": [
      "/var/folders/yz/0rh2jmfd3xq7_g25xn3y55dh0000gn/T/ipykernel_10194/789986478.py:16: UserWarning: pandas only supports SQLAlchemy connectable (engine/connection) or database string URI or sqlite3 DBAPI2 connection. Other DBAPI2 objects are not tested. Please consider using SQLAlchemy.\n",
      "  df_result = pd.read_sql(query, conn)\n"
     ]
    },
    {
     "data": {
      "text/html": [
       "<div>\n",
       "<style scoped>\n",
       "    .dataframe tbody tr th:only-of-type {\n",
       "        vertical-align: middle;\n",
       "    }\n",
       "\n",
       "    .dataframe tbody tr th {\n",
       "        vertical-align: top;\n",
       "    }\n",
       "\n",
       "    .dataframe thead th {\n",
       "        text-align: right;\n",
       "    }\n",
       "</style>\n",
       "<table border=\"1\" class=\"dataframe\">\n",
       "  <thead>\n",
       "    <tr style=\"text-align: right;\">\n",
       "      <th></th>\n",
       "      <th>rank</th>\n",
       "      <th>borough</th>\n",
       "      <th>school_name</th>\n",
       "      <th>special_ed_percent</th>\n",
       "    </tr>\n",
       "  </thead>\n",
       "  <tbody>\n",
       "    <tr>\n",
       "      <th>0</th>\n",
       "      <td>1</td>\n",
       "      <td>Manhattan</td>\n",
       "      <td>East Side Community School</td>\n",
       "      <td>28.8</td>\n",
       "    </tr>\n",
       "    <tr>\n",
       "      <th>1</th>\n",
       "      <td>2</td>\n",
       "      <td>Manhattan</td>\n",
       "      <td>East Side Community School</td>\n",
       "      <td>27.7</td>\n",
       "    </tr>\n",
       "    <tr>\n",
       "      <th>2</th>\n",
       "      <td>3</td>\n",
       "      <td>Manhattan</td>\n",
       "      <td>East Side Community School</td>\n",
       "      <td>26.7</td>\n",
       "    </tr>\n",
       "  </tbody>\n",
       "</table>\n",
       "</div>"
      ],
      "text/plain": [
       "   rank    borough                 school_name  special_ed_percent\n",
       "0     1  Manhattan  East Side Community School                28.8\n",
       "1     2  Manhattan  East Side Community School                27.7\n",
       "2     3  Manhattan  East Side Community School                26.7"
      ]
     },
     "execution_count": 8,
     "metadata": {},
     "output_type": "execute_result"
    }
   ],
   "source": [
    "query = \"\"\"\n",
    "    SELECT *\n",
    "    FROM(\n",
    "        SELECT\n",
    "            RANK() OVER (PARTITION BY borough ORDER BY sd.sped_percent DESC) AS rank,\n",
    "            borough, \n",
    "            hsd.school_name , \n",
    "            sd.sped_percent AS special_ed_percent\n",
    "        FROM nyc_schools.high_school_directory hsd \n",
    "        JOIN nyc_schools.school_demographics sd \n",
    "    USING(dbn)\n",
    "    ) AS ranked\n",
    "    WHERE rank <= 3\n",
    "    ORDER BY rank;\n",
    "\"\"\"\n",
    "df_result = pd.read_sql(query, conn)\n",
    "df_result"
   ]
  },
  {
   "cell_type": "markdown",
   "id": "5f1a64a0",
   "metadata": {},
   "source": [
    "## 🧠 Insights"
   ]
  },
  {
   "cell_type": "markdown",
   "id": "bd853358",
   "metadata": {},
   "source": [
    "- Insight 1: Using the schools_demographic table we can see that the Average amount of Hispanic students is a lot higher then the rest, this is only for the Manhatten area."
   ]
  },
  {
   "cell_type": "code",
   "execution_count": 38,
   "id": "d8043a61",
   "metadata": {},
   "outputs": [
    {
     "name": "stderr",
     "output_type": "stream",
     "text": [
      "/var/folders/yz/0rh2jmfd3xq7_g25xn3y55dh0000gn/T/ipykernel_99119/1516030152.py:15: UserWarning: pandas only supports SQLAlchemy connectable (engine/connection) or database string URI or sqlite3 DBAPI2 connection. Other DBAPI2 objects are not tested. Please consider using SQLAlchemy.\n",
      "  df_result = pd.read_sql(query, conn)\n"
     ]
    },
    {
     "data": {
      "text/html": [
       "<div>\n",
       "<style scoped>\n",
       "    .dataframe tbody tr th:only-of-type {\n",
       "        vertical-align: middle;\n",
       "    }\n",
       "\n",
       "    .dataframe tbody tr th {\n",
       "        vertical-align: top;\n",
       "    }\n",
       "\n",
       "    .dataframe thead th {\n",
       "        text-align: right;\n",
       "    }\n",
       "</style>\n",
       "<table border=\"1\" class=\"dataframe\">\n",
       "  <thead>\n",
       "    <tr style=\"text-align: right;\">\n",
       "      <th></th>\n",
       "      <th>race</th>\n",
       "      <th>avg_student_count</th>\n",
       "    </tr>\n",
       "  </thead>\n",
       "  <tbody>\n",
       "    <tr>\n",
       "      <th>0</th>\n",
       "      <td>Hispanic</td>\n",
       "      <td>189.39</td>\n",
       "    </tr>\n",
       "    <tr>\n",
       "      <th>1</th>\n",
       "      <td>Asian</td>\n",
       "      <td>76.48</td>\n",
       "    </tr>\n",
       "    <tr>\n",
       "      <th>2</th>\n",
       "      <td>Black</td>\n",
       "      <td>70.99</td>\n",
       "    </tr>\n",
       "    <tr>\n",
       "      <th>3</th>\n",
       "      <td>White</td>\n",
       "      <td>44.36</td>\n",
       "    </tr>\n",
       "  </tbody>\n",
       "</table>\n",
       "</div>"
      ],
      "text/plain": [
       "       race  avg_student_count\n",
       "0  Hispanic             189.39\n",
       "1     Asian              76.48\n",
       "2     Black              70.99\n",
       "3     White              44.36"
      ]
     },
     "execution_count": 38,
     "metadata": {},
     "output_type": "execute_result"
    }
   ],
   "source": [
    "query = \"\"\"\n",
    "    SELECT 'Asian' AS race, ROUND(AVG(asian_num), 2) AS avg_student_count\n",
    "    FROM nyc_schools.school_demographics\n",
    "    UNION ALL\n",
    "    SELECT 'Black', ROUND(AVG(black_num), 2)\n",
    "    FROM nyc_schools.school_demographics\n",
    "    UNION ALL\n",
    "    SELECT 'Hispanic', ROUND(AVG(hispanic_num), 2)\n",
    "    FROM nyc_schools.school_demographics\n",
    "    UNION ALL\n",
    "    SELECT 'White', ROUND(AVG(white_num), 2)\n",
    "    FROM nyc_schools.school_demographics\n",
    "    ORDER BY avg_student_count DESC;\n",
    "\"\"\"\n",
    "df_result = pd.read_sql(query, conn)\n",
    "df_result"
   ]
  },
  {
   "cell_type": "markdown",
   "id": "479d39e8",
   "metadata": {},
   "source": [
    "- The Average percentage of females is just slightly higher then males in the Manhatten borough"
   ]
  },
  {
   "cell_type": "code",
   "execution_count": 42,
   "id": "a26750c3",
   "metadata": {},
   "outputs": [
    {
     "name": "stderr",
     "output_type": "stream",
     "text": [
      "/var/folders/yz/0rh2jmfd3xq7_g25xn3y55dh0000gn/T/ipykernel_99119/1081378126.py:7: UserWarning: pandas only supports SQLAlchemy connectable (engine/connection) or database string URI or sqlite3 DBAPI2 connection. Other DBAPI2 objects are not tested. Please consider using SQLAlchemy.\n",
      "  df_result = pd.read_sql(query, conn)\n"
     ]
    },
    {
     "data": {
      "text/html": [
       "<div>\n",
       "<style scoped>\n",
       "    .dataframe tbody tr th:only-of-type {\n",
       "        vertical-align: middle;\n",
       "    }\n",
       "\n",
       "    .dataframe tbody tr th {\n",
       "        vertical-align: top;\n",
       "    }\n",
       "\n",
       "    .dataframe thead th {\n",
       "        text-align: right;\n",
       "    }\n",
       "</style>\n",
       "<table border=\"1\" class=\"dataframe\">\n",
       "  <thead>\n",
       "    <tr style=\"text-align: right;\">\n",
       "      <th></th>\n",
       "      <th>avg_male_per</th>\n",
       "      <th>avg_female_per</th>\n",
       "    </tr>\n",
       "  </thead>\n",
       "  <tbody>\n",
       "    <tr>\n",
       "      <th>0</th>\n",
       "      <td>51.5</td>\n",
       "      <td>48.5</td>\n",
       "    </tr>\n",
       "  </tbody>\n",
       "</table>\n",
       "</div>"
      ],
      "text/plain": [
       "   avg_male_per  avg_female_per\n",
       "0          51.5            48.5"
      ]
     },
     "execution_count": 42,
     "metadata": {},
     "output_type": "execute_result"
    }
   ],
   "source": [
    "query = \"\"\"\n",
    "    SELECT \n",
    "        ROUND(AVG(male_per::NUMERIC), 2) as avg_male_per, \n",
    "        ROUND(AVG(female_per::NUMERIC), 2) as avg_female_per\n",
    "    FROM nyc_schools.school_demographics;\n",
    "\"\"\"\n",
    "df_result = pd.read_sql(query, conn)\n",
    "df_result"
   ]
  }
 ],
 "metadata": {
  "kernelspec": {
   "display_name": ".venv",
   "language": "python",
   "name": "python3"
  },
  "language_info": {
   "codemirror_mode": {
    "name": "ipython",
    "version": 3
   },
   "file_extension": ".py",
   "mimetype": "text/x-python",
   "name": "python",
   "nbconvert_exporter": "python",
   "pygments_lexer": "ipython3",
   "version": "3.13.5"
  }
 },
 "nbformat": 4,
 "nbformat_minor": 5
}
