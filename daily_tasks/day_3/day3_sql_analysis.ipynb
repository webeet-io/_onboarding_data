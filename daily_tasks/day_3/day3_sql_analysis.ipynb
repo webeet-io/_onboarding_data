{
 "cells": [
  {
   "cell_type": "code",
   "execution_count": 13,
   "id": "19ee7ee5",
   "metadata": {},
   "outputs": [
    {
     "name": "stdout",
     "output_type": "stream",
     "text": [
      "(118, 'Bronx')\n",
      "(121, 'Brooklyn')\n",
      "(106, 'Manhattan')\n",
      "(80, 'Queens')\n",
      "(10, 'Staten Island')\n"
     ]
    }
   ],
   "source": [
    "import pandas as pd\n",
    "import psycopg2\n",
    "\n",
    "# Establish connection\n",
    "conn = psycopg2.connect(\n",
    "    dbname=\"neondb\",\n",
    "    user=\"neondb_owner\",\n",
    "    password=\"npg_CeS9fJg2azZD\",\n",
    "    host=\"ep-falling-glitter-a5m0j5gk-pooler.us-east-2.aws.neon.tech\",\n",
    "    port=\"5432\",\n",
    "    sslmode=\"require\"\n",
    ")\n",
    "\n",
    "# Create cursor\n",
    "cur = conn.cursor()\n",
    "\n",
    "# Define query\n",
    "query = \"SELECT COUNT(DISTINCT dbn) AS number_of_schools, borough FROM nyc_schools.high_school_directory GROUP BY borough;\"\n",
    "\n",
    "# Execute query\n",
    "cur.execute(query)\n",
    "\n",
    "# Fetch results\n",
    "results = cur.fetchall()\n",
    "\n",
    "# Print results\n",
    "for row in results:\n",
    "    print(row)\n",
    "\n",
    "# Close cursor and connection\n",
    "cur.close()\n",
    "conn.close()"
   ]
  },
  {
   "cell_type": "code",
   "execution_count": null,
   "id": "af54d53a",
   "metadata": {},
   "outputs": [
    {
     "name": "stdout",
     "output_type": "stream",
     "text": [
      "(7.572500026039779, 'Manhattan')\n"
     ]
    }
   ],
   "source": [
    "import pandas as pd\n",
    "import psycopg2\n",
    "\n",
    "# Establish connection\n",
    "conn = psycopg2.connect(\n",
    "    dbname=\"neondb\",\n",
    "    user=\"neondb_owner\",\n",
    "    password=\"npg_CeS9fJg2azZD\",\n",
    "    host=\"ep-falling-glitter-a5m0j5gk-pooler.us-east-2.aws.neon.tech\",\n",
    "    port=\"5432\",\n",
    "    sslmode=\"require\"\n",
    ")\n",
    "\n",
    "# Create cursor\n",
    "cur = conn.cursor()\n",
    "\n",
    "# Define query using triple quotes for multi-line string\n",
    "query = \"\"\"\n",
    "SELECT AVG(ell_percent) AS avg_ell_percent, hsd.borough\n",
    "FROM nyc_schools.high_school_directory hsd\n",
    "INNER JOIN nyc_schools.school_demographics sd ON hsd.dbn = sd.dbn\n",
    "GROUP BY hsd.borough;\n",
    "\"\"\"\n",
    "\n",
    "# Execute query\n",
    "cur.execute(query)\n",
    "\n",
    "# Fetch results\n",
    "results = cur.fetchall()\n",
    "\n",
    "# Print results\n",
    "for row in results:\n",
    "    print(row)\n",
    "\n",
    "# Close cursor and connection\n",
    "cur.close()\n",
    "conn.close()\n"
   ]
  },
  {
   "cell_type": "code",
   "execution_count": null,
   "id": "09361f4c",
   "metadata": {},
   "outputs": [
    {
     "name": "stdout",
     "output_type": "stream",
     "text": [
      "('East Side Community School', 'Manhattan', 28.8)\n",
      "('East Side Community School', 'Manhattan', 27.7)\n",
      "('East Side Community School', 'Manhattan', 26.7)\n"
     ]
    }
   ],
   "source": [
    "\n",
    "import pandas as pd\n",
    "import psycopg2\n",
    "\n",
    "# Establish connection\n",
    "conn = psycopg2.connect(\n",
    "    dbname=\"neondb\",\n",
    "    user=\"neondb_owner\",\n",
    "    password=\"npg_CeS9fJg2azZD\",\n",
    "    host=\"ep-falling-glitter-a5m0j5gk-pooler.us-east-2.aws.neon.tech\",\n",
    "    port=\"5432\",\n",
    "    sslmode=\"require\"\n",
    ")\n",
    "\n",
    "# Create cursor\n",
    "cur = conn.cursor()\n",
    "\n",
    "# Define query using triple quotes for multi-line string\n",
    "query = \"\"\"\n",
    "SELECT school_name, hsd.borough, sd.sped_percent\n",
    "FROM \n",
    "    nyc_schools.high_school_directory hsd\n",
    "INNER JOIN \n",
    "    nyc_schools.school_demographics sd\n",
    "ON \n",
    "    hsd.dbn = sd.dbn\n",
    "    order by sped_percent desc \n",
    "    limit 3;\n",
    "\"\"\"\n",
    "\n",
    "# Execute query\n",
    "cur.execute(query)\n",
    "\n",
    "# Fetch results\n",
    "results = cur.fetchall()\n",
    "\n",
    "# Print results\n",
    "for row in results:\n",
    "    print(row)\n",
    "\n",
    "# Close cursor and connection\n",
    "cur.close()\n",
    "conn.close()\n"
   ]
  },
  {
   "cell_type": "code",
   "execution_count": null,
   "id": "c208ad18",
   "metadata": {},
   "outputs": [],
   "source": [
    "# Comments: I used basically same approach for all three tasks. Installed librarues pandas and psycopg2.\n",
    "# Connected with database using credentials provided\n",
    "# Used cursor command of Python for SQL queries execution.\n",
    "# Used  fetch for results retrieval and printing them "
   ]
  }
 ],
 "metadata": {
  "kernelspec": {
   "display_name": "Python 3",
   "language": "python",
   "name": "python3"
  },
  "language_info": {
   "codemirror_mode": {
    "name": "ipython",
    "version": 3
   },
   "file_extension": ".py",
   "mimetype": "text/x-python",
   "name": "python",
   "nbconvert_exporter": "python",
   "pygments_lexer": "ipython3",
   "version": "3.13.2"
  }
 },
 "nbformat": 4,
 "nbformat_minor": 5
}
