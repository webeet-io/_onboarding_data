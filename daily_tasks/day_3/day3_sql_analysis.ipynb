{
 "cells": [
  {
   "cell_type": "markdown",
   "id": "52f6b05b",
   "metadata": {},
   "source": [
    "# 🧠 Day 3 – SQL via Python: NYC School Data Exploration\n",
    "In this notebook, you'll connect to a PostgreSQL database and execute SQL queries to explore NYC school data."
   ]
  },
  {
   "cell_type": "markdown",
   "id": "b41279b5",
   "metadata": {},
   "source": [
    "## 🔌 Step 1: Import Libraries"
   ]
  },
  {
   "cell_type": "code",
   "execution_count": 4,
   "id": "fdf6987a",
   "metadata": {},
   "outputs": [],
   "source": [
    "import pandas as pd\n",
    "import psycopg2"
   ]
  },
  {
   "cell_type": "markdown",
   "id": "e7ef64ad",
   "metadata": {},
   "source": [
    "## 🔐 Step 2: Connect to the Database"
   ]
  },
  {
   "cell_type": "code",
   "execution_count": 6,
   "id": "09610a71",
   "metadata": {},
   "outputs": [],
   "source": [
    "# DB connection setup using hardcoded credentials (for onboarding only)\n",
    "conn = psycopg2.connect(\n",
    "    dbname=\"neondb\",\n",
    "    user=\"neondb_owner\",\n",
    "    password=\"npg_CeS9fJg2azZD\",\n",
    "    host=\"ep-falling-glitter-a5m0j5gk-pooler.us-east-2.aws.neon.tech\",\n",
    "    port=\"5432\",\n",
    "    sslmode=\"require\"\n",
    ")\n",
    "cur = conn.cursor()"
   ]
  },
  {
   "cell_type": "markdown",
   "id": "674ad27e",
   "metadata": {},
   "source": [
    "## 🔍 Step 3: Run a Test Query"
   ]
  },
  {
   "cell_type": "code",
   "execution_count": 8,
   "id": "af2bd9d0",
   "metadata": {},
   "outputs": [
    {
     "name": "stderr",
     "output_type": "stream",
     "text": [
      "/var/folders/y9/srbf597x2bb69ljy9yb9xgxh0000gn/T/ipykernel_71186/1731849884.py:2: UserWarning: pandas only supports SQLAlchemy connectable (engine/connection) or database string URI or sqlite3 DBAPI2 connection. Other DBAPI2 objects are not tested. Please consider using SQLAlchemy.\n",
      "  df = pd.read_sql(query, conn)\n"
     ]
    },
    {
     "data": {
      "text/html": [
       "<div>\n",
       "<style scoped>\n",
       "    .dataframe tbody tr th:only-of-type {\n",
       "        vertical-align: middle;\n",
       "    }\n",
       "\n",
       "    .dataframe tbody tr th {\n",
       "        vertical-align: top;\n",
       "    }\n",
       "\n",
       "    .dataframe thead th {\n",
       "        text-align: right;\n",
       "    }\n",
       "</style>\n",
       "<table border=\"1\" class=\"dataframe\">\n",
       "  <thead>\n",
       "    <tr style=\"text-align: right;\">\n",
       "      <th></th>\n",
       "      <th>dbn</th>\n",
       "      <th>school_name</th>\n",
       "      <th>borough</th>\n",
       "      <th>building_code</th>\n",
       "      <th>phone_number</th>\n",
       "      <th>fax_number</th>\n",
       "      <th>grade_span_min</th>\n",
       "      <th>grade_span_max</th>\n",
       "      <th>expgrade_span_min</th>\n",
       "      <th>expgrade_span_max</th>\n",
       "      <th>...</th>\n",
       "      <th>number_programs</th>\n",
       "      <th>Location 1</th>\n",
       "      <th>Community Board</th>\n",
       "      <th>Council District</th>\n",
       "      <th>Census Tract</th>\n",
       "      <th>Zip Codes</th>\n",
       "      <th>Community Districts</th>\n",
       "      <th>Borough Boundaries</th>\n",
       "      <th>City Council Districts</th>\n",
       "      <th>Police Precincts</th>\n",
       "    </tr>\n",
       "  </thead>\n",
       "  <tbody>\n",
       "    <tr>\n",
       "      <th>0</th>\n",
       "      <td>27Q260</td>\n",
       "      <td>Frederick Douglass Academy VI High School</td>\n",
       "      <td>Queens</td>\n",
       "      <td>Q465</td>\n",
       "      <td>718-471-2154</td>\n",
       "      <td>718-471-2890</td>\n",
       "      <td>9.0</td>\n",
       "      <td>12</td>\n",
       "      <td>None</td>\n",
       "      <td>None</td>\n",
       "      <td>...</td>\n",
       "      <td>1</td>\n",
       "      <td>{'latitude': '40.601989336', 'longitude': '-73...</td>\n",
       "      <td>14</td>\n",
       "      <td>31</td>\n",
       "      <td>100802</td>\n",
       "      <td>20529</td>\n",
       "      <td>51</td>\n",
       "      <td>3</td>\n",
       "      <td>47</td>\n",
       "      <td>59</td>\n",
       "    </tr>\n",
       "    <tr>\n",
       "      <th>1</th>\n",
       "      <td>21K559</td>\n",
       "      <td>Life Academy High School for Film and Music</td>\n",
       "      <td>Brooklyn</td>\n",
       "      <td>K400</td>\n",
       "      <td>718-333-7750</td>\n",
       "      <td>718-333-7775</td>\n",
       "      <td>9.0</td>\n",
       "      <td>12</td>\n",
       "      <td>None</td>\n",
       "      <td>None</td>\n",
       "      <td>...</td>\n",
       "      <td>1</td>\n",
       "      <td>{'latitude': '40.593593811', 'longitude': '-73...</td>\n",
       "      <td>13</td>\n",
       "      <td>47</td>\n",
       "      <td>306</td>\n",
       "      <td>17616</td>\n",
       "      <td>21</td>\n",
       "      <td>2</td>\n",
       "      <td>45</td>\n",
       "      <td>35</td>\n",
       "    </tr>\n",
       "    <tr>\n",
       "      <th>2</th>\n",
       "      <td>16K393</td>\n",
       "      <td>Frederick Douglass Academy IV Secondary School</td>\n",
       "      <td>Brooklyn</td>\n",
       "      <td>K026</td>\n",
       "      <td>718-574-2820</td>\n",
       "      <td>718-574-2821</td>\n",
       "      <td>9.0</td>\n",
       "      <td>12</td>\n",
       "      <td>None</td>\n",
       "      <td>None</td>\n",
       "      <td>...</td>\n",
       "      <td>1</td>\n",
       "      <td>{'latitude': '40.692133704', 'longitude': '-73...</td>\n",
       "      <td>3</td>\n",
       "      <td>36</td>\n",
       "      <td>291</td>\n",
       "      <td>18181</td>\n",
       "      <td>69</td>\n",
       "      <td>2</td>\n",
       "      <td>49</td>\n",
       "      <td>52</td>\n",
       "    </tr>\n",
       "    <tr>\n",
       "      <th>3</th>\n",
       "      <td>08X305</td>\n",
       "      <td>Pablo Neruda Academy</td>\n",
       "      <td>Bronx</td>\n",
       "      <td>X450</td>\n",
       "      <td>718-824-1682</td>\n",
       "      <td>718-824-1663</td>\n",
       "      <td>9.0</td>\n",
       "      <td>12</td>\n",
       "      <td>None</td>\n",
       "      <td>None</td>\n",
       "      <td>...</td>\n",
       "      <td>1</td>\n",
       "      <td>{'latitude': '40.822303765', 'longitude': '-73...</td>\n",
       "      <td>9</td>\n",
       "      <td>18</td>\n",
       "      <td>16</td>\n",
       "      <td>11611</td>\n",
       "      <td>58</td>\n",
       "      <td>5</td>\n",
       "      <td>31</td>\n",
       "      <td>26</td>\n",
       "    </tr>\n",
       "    <tr>\n",
       "      <th>4</th>\n",
       "      <td>03M485</td>\n",
       "      <td>Fiorello H. LaGuardia High School of Music &amp; A...</td>\n",
       "      <td>Manhattan</td>\n",
       "      <td>M485</td>\n",
       "      <td>212-496-0700</td>\n",
       "      <td>212-724-5748</td>\n",
       "      <td>9.0</td>\n",
       "      <td>12</td>\n",
       "      <td>None</td>\n",
       "      <td>None</td>\n",
       "      <td>...</td>\n",
       "      <td>6</td>\n",
       "      <td>{'latitude': '40.773670507', 'longitude': '-73...</td>\n",
       "      <td>7</td>\n",
       "      <td>6</td>\n",
       "      <td>151</td>\n",
       "      <td>12420</td>\n",
       "      <td>20</td>\n",
       "      <td>4</td>\n",
       "      <td>19</td>\n",
       "      <td>12</td>\n",
       "    </tr>\n",
       "  </tbody>\n",
       "</table>\n",
       "<p>5 rows × 105 columns</p>\n",
       "</div>"
      ],
      "text/plain": [
       "      dbn                                        school_name    borough  \\\n",
       "0  27Q260          Frederick Douglass Academy VI High School     Queens   \n",
       "1  21K559        Life Academy High School for Film and Music   Brooklyn   \n",
       "2  16K393     Frederick Douglass Academy IV Secondary School   Brooklyn   \n",
       "3  08X305                               Pablo Neruda Academy      Bronx   \n",
       "4  03M485  Fiorello H. LaGuardia High School of Music & A...  Manhattan   \n",
       "\n",
       "  building_code  phone_number    fax_number  grade_span_min  grade_span_max  \\\n",
       "0          Q465  718-471-2154  718-471-2890             9.0              12   \n",
       "1          K400  718-333-7750  718-333-7775             9.0              12   \n",
       "2          K026  718-574-2820  718-574-2821             9.0              12   \n",
       "3          X450  718-824-1682  718-824-1663             9.0              12   \n",
       "4          M485  212-496-0700  212-724-5748             9.0              12   \n",
       "\n",
       "  expgrade_span_min expgrade_span_max  ... number_programs  \\\n",
       "0              None              None  ...               1   \n",
       "1              None              None  ...               1   \n",
       "2              None              None  ...               1   \n",
       "3              None              None  ...               1   \n",
       "4              None              None  ...               6   \n",
       "\n",
       "                                          Location 1 Community Board  \\\n",
       "0  {'latitude': '40.601989336', 'longitude': '-73...              14   \n",
       "1  {'latitude': '40.593593811', 'longitude': '-73...              13   \n",
       "2  {'latitude': '40.692133704', 'longitude': '-73...               3   \n",
       "3  {'latitude': '40.822303765', 'longitude': '-73...               9   \n",
       "4  {'latitude': '40.773670507', 'longitude': '-73...               7   \n",
       "\n",
       "  Council District Census Tract Zip Codes Community Districts  \\\n",
       "0               31       100802     20529                  51   \n",
       "1               47          306     17616                  21   \n",
       "2               36          291     18181                  69   \n",
       "3               18           16     11611                  58   \n",
       "4                6          151     12420                  20   \n",
       "\n",
       "  Borough Boundaries City Council Districts Police Precincts  \n",
       "0                  3                     47               59  \n",
       "1                  2                     45               35  \n",
       "2                  2                     49               52  \n",
       "3                  5                     31               26  \n",
       "4                  4                     19               12  \n",
       "\n",
       "[5 rows x 105 columns]"
      ]
     },
     "execution_count": 8,
     "metadata": {},
     "output_type": "execute_result"
    }
   ],
   "source": [
    "query = \"SELECT * FROM nyc_schools.high_school_directory LIMIT 5;\"\n",
    "df = pd.read_sql(query, conn)\n",
    "df.head()"
   ]
  },
  {
   "cell_type": "markdown",
   "id": "f3fcb20f",
   "metadata": {},
   "source": [
    "## ✅ Task Queries Below"
   ]
  },
  {
   "cell_type": "code",
   "execution_count": 13,
   "id": "f0fa9fce",
   "metadata": {},
   "outputs": [
    {
     "name": "stderr",
     "output_type": "stream",
     "text": [
      "/var/folders/y9/srbf597x2bb69ljy9yb9xgxh0000gn/T/ipykernel_71186/1934242491.py:7: UserWarning: pandas only supports SQLAlchemy connectable (engine/connection) or database string URI or sqlite3 DBAPI2 connection. Other DBAPI2 objects are not tested. Please consider using SQLAlchemy.\n",
      "  df_result = pd.read_sql(query, conn)\n"
     ]
    },
    {
     "data": {
      "text/html": [
       "<div>\n",
       "<style scoped>\n",
       "    .dataframe tbody tr th:only-of-type {\n",
       "        vertical-align: middle;\n",
       "    }\n",
       "\n",
       "    .dataframe tbody tr th {\n",
       "        vertical-align: top;\n",
       "    }\n",
       "\n",
       "    .dataframe thead th {\n",
       "        text-align: right;\n",
       "    }\n",
       "</style>\n",
       "<table border=\"1\" class=\"dataframe\">\n",
       "  <thead>\n",
       "    <tr style=\"text-align: right;\">\n",
       "      <th></th>\n",
       "      <th>borough</th>\n",
       "      <th>unique_school_count</th>\n",
       "    </tr>\n",
       "  </thead>\n",
       "  <tbody>\n",
       "    <tr>\n",
       "      <th>0</th>\n",
       "      <td>Bronx</td>\n",
       "      <td>118</td>\n",
       "    </tr>\n",
       "    <tr>\n",
       "      <th>1</th>\n",
       "      <td>Brooklyn</td>\n",
       "      <td>121</td>\n",
       "    </tr>\n",
       "    <tr>\n",
       "      <th>2</th>\n",
       "      <td>Manhattan</td>\n",
       "      <td>106</td>\n",
       "    </tr>\n",
       "    <tr>\n",
       "      <th>3</th>\n",
       "      <td>Queens</td>\n",
       "      <td>80</td>\n",
       "    </tr>\n",
       "    <tr>\n",
       "      <th>4</th>\n",
       "      <td>Staten Island</td>\n",
       "      <td>10</td>\n",
       "    </tr>\n",
       "  </tbody>\n",
       "</table>\n",
       "</div>"
      ],
      "text/plain": [
       "         borough  unique_school_count\n",
       "0          Bronx                  118\n",
       "1       Brooklyn                  121\n",
       "2      Manhattan                  106\n",
       "3         Queens                   80\n",
       "4  Staten Island                   10"
      ]
     },
     "execution_count": 13,
     "metadata": {},
     "output_type": "execute_result"
    }
   ],
   "source": [
    "# Example: Count schools by borough\n",
    "query = \"\"\"\n",
    "SELECT borough, COUNT(DISTINCT dbn) AS unique_school_count\n",
    "FROM nyc_schools.high_school_directory\n",
    "GROUP BY borough;\n",
    "\"\"\"\n",
    "df_result = pd.read_sql(query, conn)\n",
    "df_result"
   ]
  },
  {
   "cell_type": "code",
   "execution_count": 15,
   "id": "818cb6e6-d2ff-41e1-8520-f522ee5ee207",
   "metadata": {},
   "outputs": [
    {
     "name": "stderr",
     "output_type": "stream",
     "text": [
      "/var/folders/y9/srbf597x2bb69ljy9yb9xgxh0000gn/T/ipykernel_71186/1317799625.py:15: UserWarning: pandas only supports SQLAlchemy connectable (engine/connection) or database string URI or sqlite3 DBAPI2 connection. Other DBAPI2 objects are not tested. Please consider using SQLAlchemy.\n",
      "  df_ell = pd.read_sql(query, conn)\n"
     ]
    },
    {
     "data": {
      "text/html": [
       "<div>\n",
       "<style scoped>\n",
       "    .dataframe tbody tr th:only-of-type {\n",
       "        vertical-align: middle;\n",
       "    }\n",
       "\n",
       "    .dataframe tbody tr th {\n",
       "        vertical-align: top;\n",
       "    }\n",
       "\n",
       "    .dataframe thead th {\n",
       "        text-align: right;\n",
       "    }\n",
       "</style>\n",
       "<table border=\"1\" class=\"dataframe\">\n",
       "  <thead>\n",
       "    <tr style=\"text-align: right;\">\n",
       "      <th></th>\n",
       "      <th>borough</th>\n",
       "      <th>avg_ell_percent</th>\n",
       "    </tr>\n",
       "  </thead>\n",
       "  <tbody>\n",
       "    <tr>\n",
       "      <th>0</th>\n",
       "      <td>Manhattan</td>\n",
       "      <td>7.57</td>\n",
       "    </tr>\n",
       "    <tr>\n",
       "      <th>1</th>\n",
       "      <td>None</td>\n",
       "      <td>12.71</td>\n",
       "    </tr>\n",
       "  </tbody>\n",
       "</table>\n",
       "</div>"
      ],
      "text/plain": [
       "     borough  avg_ell_percent\n",
       "0  Manhattan             7.57\n",
       "1       None            12.71"
      ]
     },
     "execution_count": 15,
     "metadata": {},
     "output_type": "execute_result"
    }
   ],
   "source": [
    "# Question 2: What is the average % of English Language Learners (ELL) per borough?\n",
    "\n",
    "query = \"\"\"\n",
    "SELECT \n",
    "    hs.borough, \n",
    "    ROUND(AVG(sd.ell_percent)::numeric, 2) AS avg_ell_percent\n",
    "FROM nyc_schools.school_demographics sd\n",
    "LEFT JOIN nyc_schools.high_school_directory hs\n",
    "    ON sd.dbn = hs.dbn\n",
    "WHERE sd.ell_percent IS NOT NULL\n",
    "GROUP BY hs.borough\n",
    "ORDER BY hs.borough;\n",
    "\"\"\"\n",
    "\n",
    "df_ell = pd.read_sql(query, conn)\n",
    "df_ell"
   ]
  },
  {
   "cell_type": "code",
   "execution_count": 17,
   "id": "ff5d8713-126b-4276-bc52-edc48ad4b4c2",
   "metadata": {},
   "outputs": [
    {
     "name": "stdout",
     "output_type": "stream",
     "text": [
      "      borough                                        school_name  ell_percent\n",
      "0   Manhattan      Henry Street School for International Studies         22.3\n",
      "1   Manhattan      Henry Street School for International Studies         21.7\n",
      "2   Manhattan                University Neighborhood High School         21.1\n",
      "3   Manhattan      Henry Street School for International Studies         15.9\n",
      "4   Manhattan                            Marta Valle High School         15.5\n",
      "5   Manhattan                            Marta Valle High School         14.0\n",
      "6   Manhattan                            Marta Valle High School         13.5\n",
      "7   Manhattan                            Marta Valle High School         12.9\n",
      "8   Manhattan                            Marta Valle High School         12.5\n",
      "9   Manhattan                            Marta Valle High School         11.6\n",
      "10  Manhattan                            Marta Valle High School         11.2\n",
      "11  Manhattan                University Neighborhood High School         11.1\n",
      "12  Manhattan      Henry Street School for International Studies         10.6\n",
      "13  Manhattan      Henry Street School for International Studies         10.6\n",
      "14  Manhattan      Henry Street School for International Studies         10.1\n",
      "15  Manhattan      Henry Street School for International Studies          9.9\n",
      "16  Manhattan                University Neighborhood High School          7.7\n",
      "17  Manhattan                University Neighborhood High School          7.1\n",
      "18  Manhattan                         East Side Community School          7.0\n",
      "19  Manhattan                University Neighborhood High School          6.8\n",
      "20  Manhattan                University Neighborhood High School          6.7\n",
      "21  Manhattan                         East Side Community School          6.6\n",
      "22  Manhattan                         East Side Community School          6.3\n",
      "23  Manhattan                         East Side Community School          6.0\n",
      "24  Manhattan                University Neighborhood High School          5.3\n",
      "25  Manhattan                         East Side Community School          5.0\n",
      "26  Manhattan                         East Side Community School          5.0\n",
      "27  Manhattan                         East Side Community School          4.9\n",
      "28  Manhattan                                   Pace High School          1.9\n",
      "29  Manhattan  New Explorations into Science, Technology and ...          0.5\n",
      "30  Manhattan  New Explorations into Science, Technology and ...          0.5\n",
      "31  Manhattan  New Explorations into Science, Technology and ...          0.4\n",
      "32  Manhattan                     Bard High School Early College          0.2\n",
      "33  Manhattan  New Explorations into Science, Technology and ...          0.2\n",
      "34  Manhattan  New Explorations into Science, Technology and ...          0.2\n",
      "35  Manhattan  New Explorations into Science, Technology and ...          0.1\n",
      "36  Manhattan                     Bard High School Early College          0.0\n",
      "37  Manhattan                     Bard High School Early College          0.0\n",
      "38  Manhattan                     Bard High School Early College          0.0\n",
      "39  Manhattan  New Explorations into Science, Technology and ...          0.0\n"
     ]
    },
    {
     "name": "stderr",
     "output_type": "stream",
     "text": [
      "/var/folders/y9/srbf597x2bb69ljy9yb9xgxh0000gn/T/ipykernel_71186/1519296275.py:13: UserWarning: pandas only supports SQLAlchemy connectable (engine/connection) or database string URI or sqlite3 DBAPI2 connection. Other DBAPI2 objects are not tested. Please consider using SQLAlchemy.\n",
      "  df_ell_each_school = pd.read_sql(query, conn)\n"
     ]
    }
   ],
   "source": [
    "query = \"\"\"\n",
    "SELECT \n",
    "    hs.borough,\n",
    "    hs.school_name,\n",
    "    sd.ell_percent\n",
    "FROM nyc_schools.school_demographics sd\n",
    "JOIN nyc_schools.high_school_directory hs\n",
    "    ON sd.dbn = hs.dbn\n",
    "WHERE sd.ell_percent IS NOT NULL\n",
    "ORDER BY hs.borough, sd.ell_percent DESC;\n",
    "\"\"\"\n",
    "\n",
    "df_ell_each_school = pd.read_sql(query, conn)\n",
    "print(df_ell_each_school)\n"
   ]
  },
  {
   "cell_type": "code",
   "execution_count": 19,
   "id": "fc99ebf1-1118-43cc-a084-fabfc3d748f7",
   "metadata": {},
   "outputs": [
    {
     "name": "stderr",
     "output_type": "stream",
     "text": [
      "/var/folders/y9/srbf597x2bb69ljy9yb9xgxh0000gn/T/ipykernel_71186/3350505568.py:24: UserWarning: pandas only supports SQLAlchemy connectable (engine/connection) or database string URI or sqlite3 DBAPI2 connection. Other DBAPI2 objects are not tested. Please consider using SQLAlchemy.\n",
      "  df_sped_top3 = pd.read_sql(query, conn)\n"
     ]
    },
    {
     "data": {
      "text/html": [
       "<div>\n",
       "<style scoped>\n",
       "    .dataframe tbody tr th:only-of-type {\n",
       "        vertical-align: middle;\n",
       "    }\n",
       "\n",
       "    .dataframe tbody tr th {\n",
       "        vertical-align: top;\n",
       "    }\n",
       "\n",
       "    .dataframe thead th {\n",
       "        text-align: right;\n",
       "    }\n",
       "</style>\n",
       "<table border=\"1\" class=\"dataframe\">\n",
       "  <thead>\n",
       "    <tr style=\"text-align: right;\">\n",
       "      <th></th>\n",
       "      <th>borough</th>\n",
       "      <th>school_name</th>\n",
       "      <th>sped_percent</th>\n",
       "    </tr>\n",
       "  </thead>\n",
       "  <tbody>\n",
       "    <tr>\n",
       "      <th>0</th>\n",
       "      <td>Manhattan</td>\n",
       "      <td>East Side Community School</td>\n",
       "      <td>28.8</td>\n",
       "    </tr>\n",
       "    <tr>\n",
       "      <th>1</th>\n",
       "      <td>Manhattan</td>\n",
       "      <td>East Side Community School</td>\n",
       "      <td>27.7</td>\n",
       "    </tr>\n",
       "    <tr>\n",
       "      <th>2</th>\n",
       "      <td>Manhattan</td>\n",
       "      <td>East Side Community School</td>\n",
       "      <td>26.7</td>\n",
       "    </tr>\n",
       "  </tbody>\n",
       "</table>\n",
       "</div>"
      ],
      "text/plain": [
       "     borough                 school_name  sped_percent\n",
       "0  Manhattan  East Side Community School          28.8\n",
       "1  Manhattan  East Side Community School          27.7\n",
       "2  Manhattan  East Side Community School          26.7"
      ]
     },
     "execution_count": 19,
     "metadata": {},
     "output_type": "execute_result"
    }
   ],
   "source": [
    "#🔗School supporting special needs\n",
    "#Using the data from the school demographics and high school directory, write a query to find the top 3 schools in each borough with \n",
    "#the highest percentage of special education \n",
    "#students (sped_percent)\n",
    "\n",
    "query = \"\"\"\n",
    "WITH ranked_sped AS (\n",
    "    SELECT \n",
    "        hs.borough,\n",
    "        hs.school_name,\n",
    "        sd.sped_percent,\n",
    "        ROW_NUMBER() OVER (PARTITION BY hs.borough ORDER BY sd.sped_percent DESC) AS rank\n",
    "    FROM nyc_schools.school_demographics sd\n",
    "    JOIN nyc_schools.high_school_directory hs\n",
    "        ON sd.dbn = hs.dbn\n",
    "    WHERE sd.sped_percent IS NOT NULL\n",
    ")\n",
    "SELECT borough, school_name, ROUND(sped_percent::numeric, 2) AS sped_percent\n",
    "FROM ranked_sped\n",
    "WHERE rank <= 3\n",
    "ORDER BY borough, rank;\n",
    "\"\"\"\n",
    "\n",
    "df_sped_top3 = pd.read_sql(query, conn)\n",
    "df_sped_top3"
   ]
  },
  {
   "cell_type": "code",
   "execution_count": 21,
   "id": "66e44ea2-af82-4894-8737-e17f6154042a",
   "metadata": {},
   "outputs": [
    {
     "name": "stderr",
     "output_type": "stream",
     "text": [
      "/var/folders/y9/srbf597x2bb69ljy9yb9xgxh0000gn/T/ipykernel_71186/876870206.py:9: FutureWarning: \n",
      "\n",
      "Passing `palette` without assigning `hue` is deprecated and will be removed in v0.14.0. Assign the `x` variable to `hue` and set `legend=False` for the same effect.\n",
      "\n",
      "  sns.barplot(data=df_ell, x='borough', y='avg_ell_percent', palette='viridis')\n"
     ]
    },
    {
     "data": {
      "image/png": "[encoded data removed]",
      "text/plain": [
       "<Figure size 1000x500 with 1 Axes>"
      ]
     },
     "metadata": {},
     "output_type": "display_data"
    }
   ],
   "source": [
    "import matplotlib.pyplot as plt\n",
    "import seaborn as sns\n",
    "\n",
    "# Set the style for the plot\n",
    "sns.set(style=\"whitegrid\")\n",
    "\n",
    "# Create the bar plot\n",
    "plt.figure(figsize=(10, 5))\n",
    "sns.barplot(data=df_ell, x='borough', y='avg_ell_percent', palette='viridis')\n",
    "\n",
    "# Add labels and title\n",
    "plt.xlabel('Borough')\n",
    "plt.ylabel('Average % of English Language Learners (ELL)')\n",
    "plt.title('Average Percentage of English Language Learners by Borough')\n",
    "\n",
    "# Show the plot\n",
    "plt.show()\n"
   ]
  },
  {
   "cell_type": "code",
   "execution_count": null,
   "id": "6e9f48ec-0eab-4a95-bc62-6eeae057c884",
   "metadata": {},
   "outputs": [],
   "source": []
  },
  {
   "cell_type": "code",
   "execution_count": null,
   "id": "06aa6470-6a63-4afd-80b5-41b12a5900d2",
   "metadata": {},
   "outputs": [],
   "source": []
  },
  {
   "cell_type": "markdown",
   "id": "5f1a64a0",
   "metadata": {},
   "source": [
    "## 🧠 Insights"
   ]
  },
  {
   "cell_type": "markdown",
   "id": "bd853358",
   "metadata": {},
   "source": [
    "# Write your observations, findings, and answers to the task questions here.\n",
    "\n",
    "# The boroughs differ significantly in the number of schools and their student demographics.\n",
    "# Queens has the highest concentration of English Language Learners.\n",
    "# Each borough has standout schools with high special education needs, indicating where specialized support is most critical."
   ]
  },
  {
   "cell_type": "code",
   "execution_count": null,
   "id": "bf2211f5-995c-4274-9ddf-7a65f13a6b2f",
   "metadata": {},
   "outputs": [],
   "source": []
  },
  {
   "cell_type": "code",
   "execution_count": null,
   "id": "ffd5aa83-4466-4c0f-8cf2-9b5cc77599e0",
   "metadata": {},
   "outputs": [],
   "source": []
  },
  {
   "cell_type": "code",
   "execution_count": null,
   "id": "67a570e3-7a99-45eb-a238-0b76451abc1e",
   "metadata": {},
   "outputs": [],
   "source": []
  }
 ],
 "metadata": {
  "kernelspec": {
   "display_name": "Python 3 (ipykernel)",
   "language": "python",
   "name": "python3"
  },
  "language_info": {
   "codemirror_mode": {
    "name": "ipython",
    "version": 3
   },
   "file_extension": ".py",
   "mimetype": "text/x-python",
   "name": "python",
   "nbconvert_exporter": "python",
   "pygments_lexer": "ipython3",
   "version": "3.12.4"
  }
 },
 "nbformat": 4,
 "nbformat_minor": 5
}
