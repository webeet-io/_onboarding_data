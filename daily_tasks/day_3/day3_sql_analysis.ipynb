{
 "cells": [
  {
   "cell_type": "markdown",
   "id": "52f6b05b",
   "metadata": {},
   "source": [
    "# 🧠 Day 3 – SQL via Python: NYC School Data Exploration\n",
    "In this notebook, you'll connect to a PostgreSQL database and execute SQL queries to explore NYC school data."
   ]
  },
  {
   "cell_type": "markdown",
   "id": "b41279b5",
   "metadata": {},
   "source": [
    "## 🔌 Step 1: Import Libraries"
   ]
  },
  {
   "cell_type": "code",
   "execution_count": 23,
   "id": "fdf6987a",
   "metadata": {},
   "outputs": [],
   "source": [
    "import pandas as pd\n",
    "import psycopg2\n",
    "import matplotlib.pyplot as plt"
   ]
  },
  {
   "cell_type": "markdown",
   "id": "e7ef64ad",
   "metadata": {},
   "source": [
    "## 🔐 Step 2: Connect to the Database"
   ]
  },
  {
   "cell_type": "code",
   "execution_count": 24,
   "id": "09610a71",
   "metadata": {},
   "outputs": [],
   "source": [
    "# DB connection setup using hardcoded credentials (for onboarding only)\n",
    "conn = psycopg2.connect(\n",
    "    dbname=\"neondb\",\n",
    "    user=\"neondb_owner\",\n",
    "    password=\"npg_CeS9fJg2azZD\",\n",
    "    host=\"ep-falling-glitter-a5m0j5gk-pooler.us-east-2.aws.neon.tech\",\n",
    "    port=\"5432\",\n",
    "    sslmode=\"require\"\n",
    ")\n",
    "cur = conn.cursor()"
   ]
  },
  {
   "cell_type": "markdown",
   "id": "674ad27e",
   "metadata": {},
   "source": [
    "## 🔍 Step 3: Run a Test Query"
   ]
  },
  {
   "cell_type": "code",
   "execution_count": 25,
   "id": "af2bd9d0",
   "metadata": {},
   "outputs": [
    {
     "name": "stderr",
     "output_type": "stream",
     "text": [
      "/var/folders/n0/qvqsmpw51s99sqc85t49n7j00000gn/T/ipykernel_21697/1731849884.py:2: UserWarning: pandas only supports SQLAlchemy connectable (engine/connection) or database string URI or sqlite3 DBAPI2 connection. Other DBAPI2 objects are not tested. Please consider using SQLAlchemy.\n",
      "  df = pd.read_sql(query, conn)\n"
     ]
    },
    {
     "data": {
      "text/html": [
       "<div>\n",
       "<style scoped>\n",
       "    .dataframe tbody tr th:only-of-type {\n",
       "        vertical-align: middle;\n",
       "    }\n",
       "\n",
       "    .dataframe tbody tr th {\n",
       "        vertical-align: top;\n",
       "    }\n",
       "\n",
       "    .dataframe thead th {\n",
       "        text-align: right;\n",
       "    }\n",
       "</style>\n",
       "<table border=\"1\" class=\"dataframe\">\n",
       "  <thead>\n",
       "    <tr style=\"text-align: right;\">\n",
       "      <th></th>\n",
       "      <th>dbn</th>\n",
       "      <th>school_name</th>\n",
       "      <th>borough</th>\n",
       "      <th>building_code</th>\n",
       "      <th>phone_number</th>\n",
       "      <th>fax_number</th>\n",
       "      <th>grade_span_min</th>\n",
       "      <th>grade_span_max</th>\n",
       "      <th>expgrade_span_min</th>\n",
       "      <th>expgrade_span_max</th>\n",
       "      <th>...</th>\n",
       "      <th>number_programs</th>\n",
       "      <th>Location 1</th>\n",
       "      <th>Community Board</th>\n",
       "      <th>Council District</th>\n",
       "      <th>Census Tract</th>\n",
       "      <th>Zip Codes</th>\n",
       "      <th>Community Districts</th>\n",
       "      <th>Borough Boundaries</th>\n",
       "      <th>City Council Districts</th>\n",
       "      <th>Police Precincts</th>\n",
       "    </tr>\n",
       "  </thead>\n",
       "  <tbody>\n",
       "    <tr>\n",
       "      <th>0</th>\n",
       "      <td>27Q260</td>\n",
       "      <td>Frederick Douglass Academy VI High School</td>\n",
       "      <td>Queens</td>\n",
       "      <td>Q465</td>\n",
       "      <td>718-471-2154</td>\n",
       "      <td>718-471-2890</td>\n",
       "      <td>9.0</td>\n",
       "      <td>12</td>\n",
       "      <td>None</td>\n",
       "      <td>None</td>\n",
       "      <td>...</td>\n",
       "      <td>1</td>\n",
       "      <td>{'latitude': '40.601989336', 'longitude': '-73...</td>\n",
       "      <td>14</td>\n",
       "      <td>31</td>\n",
       "      <td>100802</td>\n",
       "      <td>20529</td>\n",
       "      <td>51</td>\n",
       "      <td>3</td>\n",
       "      <td>47</td>\n",
       "      <td>59</td>\n",
       "    </tr>\n",
       "    <tr>\n",
       "      <th>1</th>\n",
       "      <td>21K559</td>\n",
       "      <td>Life Academy High School for Film and Music</td>\n",
       "      <td>Brooklyn</td>\n",
       "      <td>K400</td>\n",
       "      <td>718-333-7750</td>\n",
       "      <td>718-333-7775</td>\n",
       "      <td>9.0</td>\n",
       "      <td>12</td>\n",
       "      <td>None</td>\n",
       "      <td>None</td>\n",
       "      <td>...</td>\n",
       "      <td>1</td>\n",
       "      <td>{'latitude': '40.593593811', 'longitude': '-73...</td>\n",
       "      <td>13</td>\n",
       "      <td>47</td>\n",
       "      <td>306</td>\n",
       "      <td>17616</td>\n",
       "      <td>21</td>\n",
       "      <td>2</td>\n",
       "      <td>45</td>\n",
       "      <td>35</td>\n",
       "    </tr>\n",
       "    <tr>\n",
       "      <th>2</th>\n",
       "      <td>16K393</td>\n",
       "      <td>Frederick Douglass Academy IV Secondary School</td>\n",
       "      <td>Brooklyn</td>\n",
       "      <td>K026</td>\n",
       "      <td>718-574-2820</td>\n",
       "      <td>718-574-2821</td>\n",
       "      <td>9.0</td>\n",
       "      <td>12</td>\n",
       "      <td>None</td>\n",
       "      <td>None</td>\n",
       "      <td>...</td>\n",
       "      <td>1</td>\n",
       "      <td>{'latitude': '40.692133704', 'longitude': '-73...</td>\n",
       "      <td>3</td>\n",
       "      <td>36</td>\n",
       "      <td>291</td>\n",
       "      <td>18181</td>\n",
       "      <td>69</td>\n",
       "      <td>2</td>\n",
       "      <td>49</td>\n",
       "      <td>52</td>\n",
       "    </tr>\n",
       "    <tr>\n",
       "      <th>3</th>\n",
       "      <td>08X305</td>\n",
       "      <td>Pablo Neruda Academy</td>\n",
       "      <td>Bronx</td>\n",
       "      <td>X450</td>\n",
       "      <td>718-824-1682</td>\n",
       "      <td>718-824-1663</td>\n",
       "      <td>9.0</td>\n",
       "      <td>12</td>\n",
       "      <td>None</td>\n",
       "      <td>None</td>\n",
       "      <td>...</td>\n",
       "      <td>1</td>\n",
       "      <td>{'latitude': '40.822303765', 'longitude': '-73...</td>\n",
       "      <td>9</td>\n",
       "      <td>18</td>\n",
       "      <td>16</td>\n",
       "      <td>11611</td>\n",
       "      <td>58</td>\n",
       "      <td>5</td>\n",
       "      <td>31</td>\n",
       "      <td>26</td>\n",
       "    </tr>\n",
       "    <tr>\n",
       "      <th>4</th>\n",
       "      <td>03M485</td>\n",
       "      <td>Fiorello H. LaGuardia High School of Music &amp; A...</td>\n",
       "      <td>Manhattan</td>\n",
       "      <td>M485</td>\n",
       "      <td>212-496-0700</td>\n",
       "      <td>212-724-5748</td>\n",
       "      <td>9.0</td>\n",
       "      <td>12</td>\n",
       "      <td>None</td>\n",
       "      <td>None</td>\n",
       "      <td>...</td>\n",
       "      <td>6</td>\n",
       "      <td>{'latitude': '40.773670507', 'longitude': '-73...</td>\n",
       "      <td>7</td>\n",
       "      <td>6</td>\n",
       "      <td>151</td>\n",
       "      <td>12420</td>\n",
       "      <td>20</td>\n",
       "      <td>4</td>\n",
       "      <td>19</td>\n",
       "      <td>12</td>\n",
       "    </tr>\n",
       "  </tbody>\n",
       "</table>\n",
       "<p>5 rows × 105 columns</p>\n",
       "</div>"
      ],
      "text/plain": [
       "      dbn                                        school_name    borough  \\\n",
       "0  27Q260          Frederick Douglass Academy VI High School     Queens   \n",
       "1  21K559        Life Academy High School for Film and Music   Brooklyn   \n",
       "2  16K393     Frederick Douglass Academy IV Secondary School   Brooklyn   \n",
       "3  08X305                               Pablo Neruda Academy      Bronx   \n",
       "4  03M485  Fiorello H. LaGuardia High School of Music & A...  Manhattan   \n",
       "\n",
       "  building_code  phone_number    fax_number  grade_span_min  grade_span_max  \\\n",
       "0          Q465  718-471-2154  718-471-2890             9.0              12   \n",
       "1          K400  718-333-7750  718-333-7775             9.0              12   \n",
       "2          K026  718-574-2820  718-574-2821             9.0              12   \n",
       "3          X450  718-824-1682  718-824-1663             9.0              12   \n",
       "4          M485  212-496-0700  212-724-5748             9.0              12   \n",
       "\n",
       "  expgrade_span_min expgrade_span_max  ... number_programs  \\\n",
       "0              None              None  ...               1   \n",
       "1              None              None  ...               1   \n",
       "2              None              None  ...               1   \n",
       "3              None              None  ...               1   \n",
       "4              None              None  ...               6   \n",
       "\n",
       "                                          Location 1 Community Board  \\\n",
       "0  {'latitude': '40.601989336', 'longitude': '-73...              14   \n",
       "1  {'latitude': '40.593593811', 'longitude': '-73...              13   \n",
       "2  {'latitude': '40.692133704', 'longitude': '-73...               3   \n",
       "3  {'latitude': '40.822303765', 'longitude': '-73...               9   \n",
       "4  {'latitude': '40.773670507', 'longitude': '-73...               7   \n",
       "\n",
       "  Council District Census Tract Zip Codes Community Districts  \\\n",
       "0               31       100802     20529                  51   \n",
       "1               47          306     17616                  21   \n",
       "2               36          291     18181                  69   \n",
       "3               18           16     11611                  58   \n",
       "4                6          151     12420                  20   \n",
       "\n",
       "  Borough Boundaries City Council Districts Police Precincts  \n",
       "0                  3                     47               59  \n",
       "1                  2                     45               35  \n",
       "2                  2                     49               52  \n",
       "3                  5                     31               26  \n",
       "4                  4                     19               12  \n",
       "\n",
       "[5 rows x 105 columns]"
      ]
     },
     "execution_count": 25,
     "metadata": {},
     "output_type": "execute_result"
    }
   ],
   "source": [
    "query = \"SELECT * FROM nyc_schools.high_school_directory LIMIT 5;\"\n",
    "df = pd.read_sql(query, conn)\n",
    "df.head()"
   ]
  },
  {
   "cell_type": "markdown",
   "id": "f3fcb20f",
   "metadata": {},
   "source": [
    "## ✅ Task Queries Below"
   ]
  },
  {
   "cell_type": "code",
   "execution_count": 26,
   "id": "f0fa9fce",
   "metadata": {},
   "outputs": [
    {
     "name": "stdout",
     "output_type": "stream",
     "text": [
      "Schools per Borough (Unique DBNs)\n"
     ]
    },
    {
     "name": "stderr",
     "output_type": "stream",
     "text": [
      "/var/folders/n0/qvqsmpw51s99sqc85t49n7j00000gn/T/ipykernel_21697/2721339653.py:8: UserWarning: pandas only supports SQLAlchemy connectable (engine/connection) or database string URI or sqlite3 DBAPI2 connection. Other DBAPI2 objects are not tested. Please consider using SQLAlchemy.\n",
      "  df_schools_per_borough = pd.read_sql(query_schools_per_borough, conn)\n"
     ]
    },
    {
     "data": {
      "text/html": [
       "<div>\n",
       "<style scoped>\n",
       "    .dataframe tbody tr th:only-of-type {\n",
       "        vertical-align: middle;\n",
       "    }\n",
       "\n",
       "    .dataframe tbody tr th {\n",
       "        vertical-align: top;\n",
       "    }\n",
       "\n",
       "    .dataframe thead th {\n",
       "        text-align: right;\n",
       "    }\n",
       "</style>\n",
       "<table border=\"1\" class=\"dataframe\">\n",
       "  <thead>\n",
       "    <tr style=\"text-align: right;\">\n",
       "      <th></th>\n",
       "      <th>borough</th>\n",
       "      <th>school_count</th>\n",
       "    </tr>\n",
       "  </thead>\n",
       "  <tbody>\n",
       "    <tr>\n",
       "      <th>0</th>\n",
       "      <td>Brooklyn</td>\n",
       "      <td>121</td>\n",
       "    </tr>\n",
       "    <tr>\n",
       "      <th>1</th>\n",
       "      <td>Bronx</td>\n",
       "      <td>118</td>\n",
       "    </tr>\n",
       "    <tr>\n",
       "      <th>2</th>\n",
       "      <td>Manhattan</td>\n",
       "      <td>106</td>\n",
       "    </tr>\n",
       "    <tr>\n",
       "      <th>3</th>\n",
       "      <td>Queens</td>\n",
       "      <td>80</td>\n",
       "    </tr>\n",
       "    <tr>\n",
       "      <th>4</th>\n",
       "      <td>Staten Island</td>\n",
       "      <td>10</td>\n",
       "    </tr>\n",
       "  </tbody>\n",
       "</table>\n",
       "</div>"
      ],
      "text/plain": [
       "         borough  school_count\n",
       "0       Brooklyn           121\n",
       "1          Bronx           118\n",
       "2      Manhattan           106\n",
       "3         Queens            80\n",
       "4  Staten Island            10"
      ]
     },
     "metadata": {},
     "output_type": "display_data"
    }
   ],
   "source": [
    "# Example: Count schools by borough\n",
    "query_schools_per_borough = \"\"\"\n",
    "SELECT borough, COUNT(DISTINCT dbn) AS school_count\n",
    "FROM nyc_schools.high_school_directory\n",
    "GROUP BY borough\n",
    "ORDER BY school_count DESC;\n",
    "\"\"\"\n",
    "df_schools_per_borough = pd.read_sql(query_schools_per_borough, conn)\n",
    "\n",
    "print(\"Schools per Borough (Unique DBNs)\")\n",
    "display(df_schools_per_borough)\n"
   ]
  },
  {
   "cell_type": "code",
   "execution_count": 19,
   "id": "a2a24f68",
   "metadata": {},
   "outputs": [
    {
     "name": "stdout",
     "output_type": "stream",
     "text": [
      "Schools per Borough\n"
     ]
    },
    {
     "name": "stderr",
     "output_type": "stream",
     "text": [
      "/var/folders/n0/qvqsmpw51s99sqc85t49n7j00000gn/T/ipykernel_21697/3730161440.py:9: UserWarning: pandas only supports SQLAlchemy connectable (engine/connection) or database string URI or sqlite3 DBAPI2 connection. Other DBAPI2 objects are not tested. Please consider using SQLAlchemy.\n",
      "  df_schools_per_borough = pd.read_sql(query_schools_per_borough, conn)\n"
     ]
    },
    {
     "data": {
      "text/html": [
       "<div>\n",
       "<style scoped>\n",
       "    .dataframe tbody tr th:only-of-type {\n",
       "        vertical-align: middle;\n",
       "    }\n",
       "\n",
       "    .dataframe tbody tr th {\n",
       "        vertical-align: top;\n",
       "    }\n",
       "\n",
       "    .dataframe thead th {\n",
       "        text-align: right;\n",
       "    }\n",
       "</style>\n",
       "<table border=\"1\" class=\"dataframe\">\n",
       "  <thead>\n",
       "    <tr style=\"text-align: right;\">\n",
       "      <th></th>\n",
       "      <th>borough</th>\n",
       "      <th>school_count</th>\n",
       "    </tr>\n",
       "  </thead>\n",
       "  <tbody>\n",
       "    <tr>\n",
       "      <th>0</th>\n",
       "      <td>Brooklyn</td>\n",
       "      <td>121</td>\n",
       "    </tr>\n",
       "    <tr>\n",
       "      <th>1</th>\n",
       "      <td>Bronx</td>\n",
       "      <td>118</td>\n",
       "    </tr>\n",
       "    <tr>\n",
       "      <th>2</th>\n",
       "      <td>Manhattan</td>\n",
       "      <td>106</td>\n",
       "    </tr>\n",
       "    <tr>\n",
       "      <th>3</th>\n",
       "      <td>Queens</td>\n",
       "      <td>80</td>\n",
       "    </tr>\n",
       "    <tr>\n",
       "      <th>4</th>\n",
       "      <td>Staten Island</td>\n",
       "      <td>10</td>\n",
       "    </tr>\n",
       "  </tbody>\n",
       "</table>\n",
       "</div>"
      ],
      "text/plain": [
       "         borough  school_count\n",
       "0       Brooklyn           121\n",
       "1          Bronx           118\n",
       "2      Manhattan           106\n",
       "3         Queens            80\n",
       "4  Staten Island            10"
      ]
     },
     "metadata": {},
     "output_type": "display_data"
    }
   ],
   "source": [
    "# How many schools are there in each borough?\n",
    "\n",
    "query_schools_per_borough = \"\"\"\n",
    "SELECT borough, COUNT(*) AS school_count\n",
    "FROM nyc_schools.high_school_directory\n",
    "GROUP BY borough\n",
    "ORDER BY school_count DESC;\n",
    "\"\"\"\n",
    "df_schools_per_borough = pd.read_sql(query_schools_per_borough, conn)\n",
    "print(\"Schools per Borough\")\n",
    "display(df_schools_per_borough)"
   ]
  },
  {
   "cell_type": "code",
   "execution_count": 20,
   "id": "8766cf8e",
   "metadata": {},
   "outputs": [
    {
     "name": "stderr",
     "output_type": "stream",
     "text": [
      "/var/folders/n0/qvqsmpw51s99sqc85t49n7j00000gn/T/ipykernel_21697/339511619.py:10: UserWarning: pandas only supports SQLAlchemy connectable (engine/connection) or database string URI or sqlite3 DBAPI2 connection. Other DBAPI2 objects are not tested. Please consider using SQLAlchemy.\n",
      "  df_avg_ell_per_borough = pd.read_sql(query_avg_ell_per_borough, conn)\n"
     ]
    },
    {
     "data": {
      "text/html": [
       "<div>\n",
       "<style scoped>\n",
       "    .dataframe tbody tr th:only-of-type {\n",
       "        vertical-align: middle;\n",
       "    }\n",
       "\n",
       "    .dataframe tbody tr th {\n",
       "        vertical-align: top;\n",
       "    }\n",
       "\n",
       "    .dataframe thead th {\n",
       "        text-align: right;\n",
       "    }\n",
       "</style>\n",
       "<table border=\"1\" class=\"dataframe\">\n",
       "  <thead>\n",
       "    <tr style=\"text-align: right;\">\n",
       "      <th></th>\n",
       "      <th>borough</th>\n",
       "      <th>avg_ell_percent</th>\n",
       "    </tr>\n",
       "  </thead>\n",
       "  <tbody>\n",
       "    <tr>\n",
       "      <th>0</th>\n",
       "      <td>Manhattan</td>\n",
       "      <td>7.57</td>\n",
       "    </tr>\n",
       "  </tbody>\n",
       "</table>\n",
       "</div>"
      ],
      "text/plain": [
       "     borough  avg_ell_percent\n",
       "0  Manhattan             7.57"
      ]
     },
     "execution_count": 20,
     "metadata": {},
     "output_type": "execute_result"
    }
   ],
   "source": [
    "# What is the average % of English Language Learners (ELL) per borough?\n",
    "query_avg_ell_per_borough = \"\"\"\n",
    "SELECT d.borough, ROUND(AVG(s.ell_percent::numeric), 2) AS avg_ell_percent\n",
    "FROM nyc_schools.school_demographics s\n",
    "JOIN nyc_schools.high_school_directory d\n",
    "    ON s.dbn = d.dbn\n",
    "GROUP BY d.borough\n",
    "ORDER BY avg_ell_percent DESC;\n",
    "\"\"\"\n",
    "df_avg_ell_per_borough = pd.read_sql(query_avg_ell_per_borough, conn)\n",
    "df_avg_ell_per_borough"
   ]
  },
  {
   "cell_type": "code",
   "execution_count": 28,
   "id": "373f4388",
   "metadata": {},
   "outputs": [
    {
     "name": "stdout",
     "output_type": "stream",
     "text": [
      "Top 3 Schools per Borough (Latest Year) - Special Education %\n"
     ]
    },
    {
     "name": "stderr",
     "output_type": "stream",
     "text": [
      "/var/folders/n0/qvqsmpw51s99sqc85t49n7j00000gn/T/ipykernel_21697/3083091109.py:31: UserWarning: pandas only supports SQLAlchemy connectable (engine/connection) or database string URI or sqlite3 DBAPI2 connection. Other DBAPI2 objects are not tested. Please consider using SQLAlchemy.\n",
      "  df_top_sped = pd.read_sql(query_top_sped_schools, conn)\n"
     ]
    },
    {
     "data": {
      "text/html": [
       "<div>\n",
       "<style scoped>\n",
       "    .dataframe tbody tr th:only-of-type {\n",
       "        vertical-align: middle;\n",
       "    }\n",
       "\n",
       "    .dataframe tbody tr th {\n",
       "        vertical-align: top;\n",
       "    }\n",
       "\n",
       "    .dataframe thead th {\n",
       "        text-align: right;\n",
       "    }\n",
       "</style>\n",
       "<table border=\"1\" class=\"dataframe\">\n",
       "  <thead>\n",
       "    <tr style=\"text-align: right;\">\n",
       "      <th></th>\n",
       "      <th>borough</th>\n",
       "      <th>school_name</th>\n",
       "      <th>sped_percent</th>\n",
       "    </tr>\n",
       "  </thead>\n",
       "  <tbody>\n",
       "    <tr>\n",
       "      <th>0</th>\n",
       "      <td>Manhattan</td>\n",
       "      <td>East Side Community School</td>\n",
       "      <td>26.4</td>\n",
       "    </tr>\n",
       "    <tr>\n",
       "      <th>1</th>\n",
       "      <td>Manhattan</td>\n",
       "      <td>Marta Valle High School</td>\n",
       "      <td>25.9</td>\n",
       "    </tr>\n",
       "    <tr>\n",
       "      <th>2</th>\n",
       "      <td>Manhattan</td>\n",
       "      <td>Henry Street School for International Studies</td>\n",
       "      <td>24.9</td>\n",
       "    </tr>\n",
       "  </tbody>\n",
       "</table>\n",
       "</div>"
      ],
      "text/plain": [
       "     borough                                    school_name  sped_percent\n",
       "0  Manhattan                     East Side Community School          26.4\n",
       "1  Manhattan                        Marta Valle High School          25.9\n",
       "2  Manhattan  Henry Street School for International Studies          24.9"
      ]
     },
     "metadata": {},
     "output_type": "display_data"
    }
   ],
   "source": [
    "query_top_sped_schools = \"\"\"\n",
    "WITH latest_year_per_borough AS (\n",
    "    SELECT d.borough, MAX(s.schoolyear) AS latest_year\n",
    "    FROM nyc_schools.school_demographics s\n",
    "    JOIN nyc_schools.high_school_directory d\n",
    "        ON d.dbn = s.dbn\n",
    "    GROUP BY d.borough\n",
    "),\n",
    "ranked_sped AS (\n",
    "    SELECT \n",
    "        d.borough, \n",
    "        d.school_name, \n",
    "        s.sped_percent,\n",
    "        ROW_NUMBER() OVER (\n",
    "            PARTITION BY d.borough\n",
    "            ORDER BY s.sped_percent::numeric DESC\n",
    "        ) AS rn\n",
    "    FROM nyc_schools.school_demographics s\n",
    "    JOIN nyc_schools.high_school_directory d\n",
    "        ON d.dbn = s.dbn\n",
    "    JOIN latest_year_per_borough l\n",
    "        ON d.borough = l.borough\n",
    "       AND s.schoolyear = l.latest_year\n",
    ")\n",
    "SELECT borough, school_name, sped_percent\n",
    "FROM ranked_sped\n",
    "WHERE rn <= 3\n",
    "ORDER BY borough, rn;\n",
    "\"\"\"\n",
    "\n",
    "df_top_sped = pd.read_sql(query_top_sped_schools, conn)\n",
    "\n",
    "print(\"Top 3 Schools per Borough (Latest Year) - Special Education %\")\n",
    "display(df_top_sped)"
   ]
  },
  {
   "cell_type": "markdown",
   "id": "5f1a64a0",
   "metadata": {},
   "source": [
    "## 🧠 Insights"
   ]
  },
  {
   "cell_type": "markdown",
   "id": "bd853358",
   "metadata": {},
   "source": [
    "Write your observations, findings, and answers to the task questions here."
   ]
  }
 ],
 "metadata": {
  "kernelspec": {
   "display_name": "base",
   "language": "python",
   "name": "python3"
  },
  "language_info": {
   "codemirror_mode": {
    "name": "ipython",
    "version": 3
   },
   "file_extension": ".py",
   "mimetype": "text/x-python",
   "name": "python",
   "nbconvert_exporter": "python",
   "pygments_lexer": "ipython3",
   "version": "3.13.5"
  }
 },
 "nbformat": 4,
 "nbformat_minor": 5
}
