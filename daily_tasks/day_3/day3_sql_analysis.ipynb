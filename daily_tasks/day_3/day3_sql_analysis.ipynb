{
 "cells": [
  {
   "cell_type": "markdown",
   "id": "8e47844f",
   "metadata": {},
   "source": [
    "## Set up a connection to the training database using Python"
   ]
  },
  {
   "cell_type": "code",
   "execution_count": 52,
   "id": "5da21d06",
   "metadata": {},
   "outputs": [],
   "source": [
    "# Import necessary libraries\n",
    "import pandas as pd\n",
    "from sqlalchemy import create_engine"
   ]
  },
  {
   "cell_type": "code",
   "execution_count": 53,
   "id": "bc9ef939",
   "metadata": {},
   "outputs": [],
   "source": [
    "# SQLAlchemy connection string format:\n",
    "\n",
    "DATABASE_URL = (\n",
    "    \"postgresql+psycopg2://neondb_owner:npg_CeS9fJg2azZD\"\n",
    "    \"@ep-falling-glitter-a5m0j5gk-pooler.us-east-2.aws.neon.tech:5432/neondb\"\n",
    "    \"?sslmode=require\"\n",
    ")\n",
    "\n",
    "# Create engine and establish connection\n",
    "engine = create_engine(DATABASE_URL)"
   ]
  },
  {
   "cell_type": "markdown",
   "id": "d8155ba4",
   "metadata": {},
   "source": [
    "## How many schools are there in each borough?"
   ]
  },
  {
   "cell_type": "code",
   "execution_count": 54,
   "id": "54c81299",
   "metadata": {},
   "outputs": [],
   "source": [
    "# SQL query\n",
    "query = \"SELECT borough,COUNT (DISTINCT dbn) FROM nyc_schools.high_school_directory GROUP BY borough;\""
   ]
  },
  {
   "cell_type": "code",
   "execution_count": 55,
   "id": "88d03452",
   "metadata": {},
   "outputs": [
    {
     "data": {
      "text/html": [
       "<div>\n",
       "<style scoped>\n",
       "    .dataframe tbody tr th:only-of-type {\n",
       "        vertical-align: middle;\n",
       "    }\n",
       "\n",
       "    .dataframe tbody tr th {\n",
       "        vertical-align: top;\n",
       "    }\n",
       "\n",
       "    .dataframe thead th {\n",
       "        text-align: right;\n",
       "    }\n",
       "</style>\n",
       "<table border=\"1\" class=\"dataframe\">\n",
       "  <thead>\n",
       "    <tr style=\"text-align: right;\">\n",
       "      <th></th>\n",
       "      <th>borough</th>\n",
       "      <th>count</th>\n",
       "    </tr>\n",
       "  </thead>\n",
       "  <tbody>\n",
       "    <tr>\n",
       "      <th>0</th>\n",
       "      <td>Bronx</td>\n",
       "      <td>118</td>\n",
       "    </tr>\n",
       "    <tr>\n",
       "      <th>1</th>\n",
       "      <td>Brooklyn</td>\n",
       "      <td>121</td>\n",
       "    </tr>\n",
       "    <tr>\n",
       "      <th>2</th>\n",
       "      <td>Manhattan</td>\n",
       "      <td>106</td>\n",
       "    </tr>\n",
       "    <tr>\n",
       "      <th>3</th>\n",
       "      <td>Queens</td>\n",
       "      <td>80</td>\n",
       "    </tr>\n",
       "    <tr>\n",
       "      <th>4</th>\n",
       "      <td>Staten Island</td>\n",
       "      <td>10</td>\n",
       "    </tr>\n",
       "  </tbody>\n",
       "</table>\n",
       "</div>"
      ],
      "text/plain": [
       "         borough  count\n",
       "0          Bronx    118\n",
       "1       Brooklyn    121\n",
       "2      Manhattan    106\n",
       "3         Queens     80\n",
       "4  Staten Island     10"
      ]
     },
     "execution_count": 55,
     "metadata": {},
     "output_type": "execute_result"
    }
   ],
   "source": [
    "df = pd.read_sql(query, engine)\n",
    "df.head()"
   ]
  },
  {
   "cell_type": "markdown",
   "id": "06475892",
   "metadata": {},
   "source": [
    "## What is the average % of English Language Learners (ELL) per borough?"
   ]
  },
  {
   "cell_type": "code",
   "execution_count": 56,
   "id": "2bd08b06",
   "metadata": {},
   "outputs": [],
   "source": [
    "# SQL query\n",
    "query = \"\"\"SELECT dir.borough,AVG(dem.ell_percent) AS avg_ell_percent \n",
    "FROM nyc_schools.school_demographics AS dem \n",
    "JOIN nyc_schools.high_school_directory AS dir \n",
    "ON dem.dbn = dir.dbn\n",
    "GROUP BY dir.borough;\"\"\""
   ]
  },
  {
   "cell_type": "code",
   "execution_count": 57,
   "id": "4749a35f",
   "metadata": {},
   "outputs": [
    {
     "data": {
      "text/html": [
       "<div>\n",
       "<style scoped>\n",
       "    .dataframe tbody tr th:only-of-type {\n",
       "        vertical-align: middle;\n",
       "    }\n",
       "\n",
       "    .dataframe tbody tr th {\n",
       "        vertical-align: top;\n",
       "    }\n",
       "\n",
       "    .dataframe thead th {\n",
       "        text-align: right;\n",
       "    }\n",
       "</style>\n",
       "<table border=\"1\" class=\"dataframe\">\n",
       "  <thead>\n",
       "    <tr style=\"text-align: right;\">\n",
       "      <th></th>\n",
       "      <th>borough</th>\n",
       "      <th>avg_ell_percent</th>\n",
       "    </tr>\n",
       "  </thead>\n",
       "  <tbody>\n",
       "    <tr>\n",
       "      <th>0</th>\n",
       "      <td>Manhattan</td>\n",
       "      <td>7.5725</td>\n",
       "    </tr>\n",
       "  </tbody>\n",
       "</table>\n",
       "</div>"
      ],
      "text/plain": [
       "     borough  avg_ell_percent\n",
       "0  Manhattan           7.5725"
      ]
     },
     "execution_count": 57,
     "metadata": {},
     "output_type": "execute_result"
    }
   ],
   "source": [
    "df = pd.read_sql(query, engine)\n",
    "df.head()"
   ]
  },
  {
   "cell_type": "markdown",
   "id": "b1287154",
   "metadata": {},
   "source": [
    "## Top 3 schools in each borough with the highest percentage of special education students (sped_percent)"
   ]
  },
  {
   "cell_type": "code",
   "execution_count": 58,
   "id": "70c29d6c",
   "metadata": {},
   "outputs": [],
   "source": [
    "# SQL query\n",
    "\n",
    "query = \"\"\"WITH ranked AS (\n",
    "    SELECT h.borough,\n",
    "           h.school_name,\n",
    "           d.sped_percent,\n",
    "\n",
    "        -- Assign a row number (rank) within each borough\n",
    "        -- Ordered by sped_percent in descending order (highest first)\n",
    "\n",
    "           ROW_NUMBER() OVER (PARTITION BY h.borough ORDER BY d.sped_percent DESC) AS rn\n",
    "\n",
    "    FROM nyc_schools.school_demographics d\n",
    "    JOIN nyc_schools.high_school_directory h\n",
    "         ON d.dbn = h.dbn\n",
    ") \n",
    "--  Select only the top 3 schools per borough\n",
    "\n",
    "SELECT borough,\n",
    "       school_name,\n",
    "       sped_percent\n",
    "FROM ranked \n",
    "WHERE rn <= 3\n",
    "ORDER BY borough, rn;\"\"\""
   ]
  },
  {
   "cell_type": "code",
   "execution_count": 59,
   "id": "67f2389f",
   "metadata": {},
   "outputs": [
    {
     "data": {
      "text/html": [
       "<div>\n",
       "<style scoped>\n",
       "    .dataframe tbody tr th:only-of-type {\n",
       "        vertical-align: middle;\n",
       "    }\n",
       "\n",
       "    .dataframe tbody tr th {\n",
       "        vertical-align: top;\n",
       "    }\n",
       "\n",
       "    .dataframe thead th {\n",
       "        text-align: right;\n",
       "    }\n",
       "</style>\n",
       "<table border=\"1\" class=\"dataframe\">\n",
       "  <thead>\n",
       "    <tr style=\"text-align: right;\">\n",
       "      <th></th>\n",
       "      <th>borough</th>\n",
       "      <th>school_name</th>\n",
       "      <th>sped_percent</th>\n",
       "    </tr>\n",
       "  </thead>\n",
       "  <tbody>\n",
       "    <tr>\n",
       "      <th>0</th>\n",
       "      <td>Manhattan</td>\n",
       "      <td>East Side Community School</td>\n",
       "      <td>28.8</td>\n",
       "    </tr>\n",
       "    <tr>\n",
       "      <th>1</th>\n",
       "      <td>Manhattan</td>\n",
       "      <td>East Side Community School</td>\n",
       "      <td>27.7</td>\n",
       "    </tr>\n",
       "    <tr>\n",
       "      <th>2</th>\n",
       "      <td>Manhattan</td>\n",
       "      <td>East Side Community School</td>\n",
       "      <td>26.7</td>\n",
       "    </tr>\n",
       "  </tbody>\n",
       "</table>\n",
       "</div>"
      ],
      "text/plain": [
       "     borough                 school_name  sped_percent\n",
       "0  Manhattan  East Side Community School          28.8\n",
       "1  Manhattan  East Side Community School          27.7\n",
       "2  Manhattan  East Side Community School          26.7"
      ]
     },
     "execution_count": 59,
     "metadata": {},
     "output_type": "execute_result"
    }
   ],
   "source": [
    "df = pd.read_sql(query, engine)\n",
    "df.head()"
   ]
  },
  {
   "cell_type": "markdown",
   "id": "95d4fb45",
   "metadata": {},
   "source": [
    "## Summary\n",
    "\n",
    "- Successfully connected to the SQL database via Python using `pandas` and `SQLAlchemy`.  \n",
    "- Created a Jupyter Notebook in VS Code and loaded the dataset for analysis.  \n",
    "- Explored the data and wrote queries to answer questions; however, **questions 2, 3, and the assignment could not be fully answered**, because the dataset only contains information for the **Manhattan** area.  \n",
    "- Basic analyses, such as average percentages and top schools by special education, were completed for the available data."
   ]
  }
 ],
 "metadata": {
  "kernelspec": {
   "display_name": "base",
   "language": "python",
   "name": "python3"
  },
  "language_info": {
   "codemirror_mode": {
    "name": "ipython",
    "version": 3
   },
   "file_extension": ".py",
   "mimetype": "text/x-python",
   "name": "python",
   "nbconvert_exporter": "python",
   "pygments_lexer": "ipython3",
   "version": "3.13.5"
  }
 },
 "nbformat": 4,
 "nbformat_minor": 5
}
