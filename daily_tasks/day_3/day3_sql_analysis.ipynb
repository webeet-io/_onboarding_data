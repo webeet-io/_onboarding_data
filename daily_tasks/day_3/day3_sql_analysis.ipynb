{
 "cells": [
  {
   "cell_type": "code",
   "execution_count": 60,
   "id": "74c7da83-e7c9-4c06-aecb-11007fb3f213",
   "metadata": {},
   "outputs": [
    {
     "name": "stdout",
     "output_type": "stream",
     "text": [
      "1\n"
     ]
    }
   ],
   "source": [
    "# Day 3 – SQL via Python: NYC School Data Exploration\n",
    "\n",
    "#You’ll connect to a PostgreSQL database and answer three questions:\n",
    "#1) Number of schools per borough  \n",
    "#2) Average % of English Language Learners (ELL) per borough  \n",
    "#3) Top 3 schools per borough by % of special education students (SPED)  \n",
    "\n",
    "import os, pandas as pd\n",
    "from sqlalchemy import create_engine, text\n",
    "from dotenv import load_dotenv\n",
    "\n",
    "load_dotenv()\n",
    "conn_str = f\"postgresql+psycopg2://{os.getenv('PGUSER')}:{os.getenv('PGPASSWORD')}@{os.getenv('PGHOST')}:{os.getenv('PGPORT')}/{os.getenv('PGDATABASE')}?sslmode={os.getenv('PGSSLMODE','require')}\"\n",
    "engine = create_engine(conn_str, pool_pre_ping=True)\n",
    "with engine.connect() as conn:\n",
    "    print(conn.execute(text(\"SELECT 1\")).scalar())\n"
   ]
  },
  {
   "cell_type": "code",
   "execution_count": 61,
   "id": "ee1b15b0-05e0-4407-8f72-c852cbe7cbfb",
   "metadata": {},
   "outputs": [
    {
     "data": {
      "text/plain": [
       "'C:\\\\Users\\\\aminm\\\\AppData\\\\Local\\\\Microsoft\\\\WindowsApps\\\\PythonSoftwareFoundation.Python.3.13_qbz5n2kfra8p0\\\\python.exe'"
      ]
     },
     "execution_count": 61,
     "metadata": {},
     "output_type": "execute_result"
    }
   ],
   "source": [
    "import sys; sys.executable\n"
   ]
  },
  {
   "cell_type": "code",
   "execution_count": 62,
   "id": "198a45c2-dd5f-4df8-bd17-0330089e1d76",
   "metadata": {},
   "outputs": [],
   "source": [
    "DIR  = \"nyc_schools.high_school_directory\"\n",
    "DEM  = \"nyc_schools.school_demographics\"\n"
   ]
  },
  {
   "cell_type": "code",
   "execution_count": 63,
   "id": "5efc2522-71ae-4554-9940-e9ab644b87a5",
   "metadata": {},
   "outputs": [
    {
     "data": {
      "text/html": [
       "<div>\n",
       "<style scoped>\n",
       "    .dataframe tbody tr th:only-of-type {\n",
       "        vertical-align: middle;\n",
       "    }\n",
       "\n",
       "    .dataframe tbody tr th {\n",
       "        vertical-align: top;\n",
       "    }\n",
       "\n",
       "    .dataframe thead th {\n",
       "        text-align: right;\n",
       "    }\n",
       "</style>\n",
       "<table border=\"1\" class=\"dataframe\">\n",
       "  <thead>\n",
       "    <tr style=\"text-align: right;\">\n",
       "      <th></th>\n",
       "      <th>borough</th>\n",
       "      <th>school_count</th>\n",
       "    </tr>\n",
       "  </thead>\n",
       "  <tbody>\n",
       "    <tr>\n",
       "      <th>0</th>\n",
       "      <td>Brooklyn</td>\n",
       "      <td>121</td>\n",
       "    </tr>\n",
       "    <tr>\n",
       "      <th>1</th>\n",
       "      <td>Bronx</td>\n",
       "      <td>118</td>\n",
       "    </tr>\n",
       "    <tr>\n",
       "      <th>2</th>\n",
       "      <td>Manhattan</td>\n",
       "      <td>106</td>\n",
       "    </tr>\n",
       "    <tr>\n",
       "      <th>3</th>\n",
       "      <td>Queens</td>\n",
       "      <td>80</td>\n",
       "    </tr>\n",
       "    <tr>\n",
       "      <th>4</th>\n",
       "      <td>Staten Island</td>\n",
       "      <td>10</td>\n",
       "    </tr>\n",
       "  </tbody>\n",
       "</table>\n",
       "</div>"
      ],
      "text/plain": [
       "         borough  school_count\n",
       "0       Brooklyn           121\n",
       "1          Bronx           118\n",
       "2      Manhattan           106\n",
       "3         Queens            80\n",
       "4  Staten Island            10"
      ]
     },
     "metadata": {},
     "output_type": "display_data"
    }
   ],
   "source": [
    "## Q1 — Number of schools per borough\n",
    "#Counts distinct DBNs in the high school directory grouped by `borough`.\n",
    "#import pandas as pd\n",
    "#from sqlalchemy import text\n",
    "\n",
    "q1 = \"\"\"\n",
    "SELECT borough, COUNT(DISTINCT dbn) AS school_count\n",
    "FROM nyc_schools.high_school_directory\n",
    "GROUP BY borough\n",
    "ORDER BY school_count DESC;\n",
    "\"\"\"\n",
    "df_q1 = pd.read_sql(text(q1), engine)\n",
    "display(df_q1)\n"
   ]
  },
  {
   "cell_type": "code",
   "execution_count": 64,
   "id": "6c1c377a-760d-4dfe-837b-14a56cd2f927",
   "metadata": {},
   "outputs": [
    {
     "data": {
      "image/png": "[encoded data removed]",
      "text/plain": [
       "<Figure size 640x480 with 1 Axes>"
      ]
     },
     "metadata": {},
     "output_type": "display_data"
    }
   ],
   "source": [
    "import matplotlib.pyplot as plt\n",
    "\n",
    "x = df_q1['borough']\n",
    "y = df_q1['school_count']\n",
    "\n",
    "plt.figure()\n",
    "plt.bar(x, y)\n",
    "plt.title('Number of Schools by Borough')\n",
    "plt.xlabel('Borough'); plt.ylabel('Schools')\n",
    "plt.xticks(rotation=45)\n",
    "plt.tight_layout()\n",
    "plt.show()\n",
    "\n"
   ]
  },
  {
   "cell_type": "code",
   "execution_count": 65,
   "id": "0bb841d7-d481-4fc7-a962-bea489c81210",
   "metadata": {},
   "outputs": [
    {
     "data": {
      "text/html": [
       "<div>\n",
       "<style scoped>\n",
       "    .dataframe tbody tr th:only-of-type {\n",
       "        vertical-align: middle;\n",
       "    }\n",
       "\n",
       "    .dataframe tbody tr th {\n",
       "        vertical-align: top;\n",
       "    }\n",
       "\n",
       "    .dataframe thead th {\n",
       "        text-align: right;\n",
       "    }\n",
       "</style>\n",
       "<table border=\"1\" class=\"dataframe\">\n",
       "  <thead>\n",
       "    <tr style=\"text-align: right;\">\n",
       "      <th></th>\n",
       "      <th>borough</th>\n",
       "      <th>avg_ell_percent</th>\n",
       "    </tr>\n",
       "  </thead>\n",
       "  <tbody>\n",
       "    <tr>\n",
       "      <th>0</th>\n",
       "      <td>Manhattan</td>\n",
       "      <td>7.57</td>\n",
       "    </tr>\n",
       "  </tbody>\n",
       "</table>\n",
       "</div>"
      ],
      "text/plain": [
       "     borough  avg_ell_percent\n",
       "0  Manhattan             7.57"
      ]
     },
     "metadata": {},
     "output_type": "display_data"
    }
   ],
   "source": [
    "## Q2 — Average % ELL per borough (latest year **per school**)\n",
    "#We take the most recent `schoolyear` for each DBN (so every borough is represented), then average `ell_percent` by borough.\n",
    "\n",
    "import pandas as pd\n",
    "from sqlalchemy import text\n",
    "\n",
    "q2_simple = f\"\"\"\n",
    "SELECT d.borough,\n",
    "       ROUND(AVG(sd.ell_percent::numeric), 2) AS avg_ell_percent\n",
    "FROM {DIR} d\n",
    "JOIN {DEM} sd ON d.dbn = sd.dbn\n",
    "GROUP BY d.borough\n",
    "ORDER BY d.borough;\n",
    "\"\"\"\n",
    "df_q2 = pd.read_sql(text(q2_simple), engine)\n",
    "display(df_q2.round(2))\n"
   ]
  },
  {
   "cell_type": "code",
   "execution_count": 66,
   "id": "4cf7c760-4735-4e21-8210-3b9896612c56",
   "metadata": {},
   "outputs": [
    {
     "data": {
      "text/html": [
       "<div>\n",
       "<style scoped>\n",
       "    .dataframe tbody tr th:only-of-type {\n",
       "        vertical-align: middle;\n",
       "    }\n",
       "\n",
       "    .dataframe tbody tr th {\n",
       "        vertical-align: top;\n",
       "    }\n",
       "\n",
       "    .dataframe thead th {\n",
       "        text-align: right;\n",
       "    }\n",
       "</style>\n",
       "<table border=\"1\" class=\"dataframe\">\n",
       "  <thead>\n",
       "    <tr style=\"text-align: right;\">\n",
       "      <th></th>\n",
       "      <th>borough</th>\n",
       "      <th>school_name</th>\n",
       "      <th>dbn</th>\n",
       "      <th>schoolyear</th>\n",
       "      <th>sped_percent</th>\n",
       "    </tr>\n",
       "  </thead>\n",
       "  <tbody>\n",
       "    <tr>\n",
       "      <th>0</th>\n",
       "      <td>Manhattan</td>\n",
       "      <td>East Side Community School</td>\n",
       "      <td>01M450</td>\n",
       "      <td>20092010</td>\n",
       "      <td>28.8</td>\n",
       "    </tr>\n",
       "    <tr>\n",
       "      <th>1</th>\n",
       "      <td>Manhattan</td>\n",
       "      <td>East Side Community School</td>\n",
       "      <td>01M450</td>\n",
       "      <td>20102011</td>\n",
       "      <td>27.7</td>\n",
       "    </tr>\n",
       "    <tr>\n",
       "      <th>2</th>\n",
       "      <td>Manhattan</td>\n",
       "      <td>East Side Community School</td>\n",
       "      <td>01M450</td>\n",
       "      <td>20082009</td>\n",
       "      <td>26.7</td>\n",
       "    </tr>\n",
       "  </tbody>\n",
       "</table>\n",
       "</div>"
      ],
      "text/plain": [
       "     borough                 school_name     dbn  schoolyear  sped_percent\n",
       "0  Manhattan  East Side Community School  01M450    20092010          28.8\n",
       "1  Manhattan  East Side Community School  01M450    20102011          27.7\n",
       "2  Manhattan  East Side Community School  01M450    20082009          26.7"
      ]
     },
     "metadata": {},
     "output_type": "display_data"
    }
   ],
   "source": [
    "## Q3 — Top 3 schools per borough by % SPED (latest year **per school**)\n",
    "#Rank schools within each borough by `sped_percent` and keep the top 3.\n",
    "\n",
    "from sqlalchemy import text\n",
    "import pandas as pd\n",
    "\n",
    "q3 = text(\"\"\"\n",
    "WITH ranked AS (\n",
    "  SELECT\n",
    "    d.borough,\n",
    "    d.school_name,\n",
    "    d.dbn,\n",
    "    sd.schoolyear,\n",
    "    sd.sped_percent::numeric AS sped_percent,\n",
    "    ROW_NUMBER() OVER (\n",
    "      PARTITION BY d.borough\n",
    "      ORDER BY sd.sped_percent::numeric DESC NULLS LAST\n",
    "    ) AS rn\n",
    "  FROM nyc_schools.high_school_directory d\n",
    "  JOIN nyc_schools.school_demographics sd\n",
    "    ON d.dbn = sd.dbn\n",
    "  WHERE sd.sped_percent IS NOT NULL\n",
    ")\n",
    "SELECT\n",
    "  borough, school_name, dbn, schoolyear, ROUND(sped_percent, 2) AS sped_percent\n",
    "FROM ranked\n",
    "WHERE rn <= 3\n",
    "ORDER BY borough, rn;\n",
    "\"\"\")\n",
    "\n",
    "df_q3 = pd.read_sql(q3, engine)  # یا conn اگر از connection استفاده می‌کنی\n",
    "display(df_q3)\n",
    "\n"
   ]
  },
  {
   "cell_type": "code",
   "execution_count": 67,
   "id": "d5888575-82bc-42e3-b91b-73030495ac6b",
   "metadata": {},
   "outputs": [
    {
     "data": {
      "image/png": "[encoded data removed]",
      "text/plain": [
       "<Figure size 640x480 with 1 Axes>"
      ]
     },
     "metadata": {},
     "output_type": "display_data"
    }
   ],
   "source": [
    "import matplotlib.pyplot as plt\n",
    "import pandas as pd\n",
    "\n",
    "df_plot = df_q3.copy()\n",
    "df_plot[\"sped_percent\"] = pd.to_numeric(df_plot[\"sped_percent\"], errors=\"coerce\")\n",
    "df_plot[\"label\"] = df_plot.apply(lambda r: f\"{r['school_name']} ({r['schoolyear']})\", axis=1)\n",
    "\n",
    "for b, g in df_plot.groupby(\"borough\"):\n",
    "    g = g.sort_values(\"sped_percent\", ascending=True)\n",
    "    plt.figure()\n",
    "    bars = plt.barh(g[\"label\"], g[\"sped_percent\"])\n",
    "    plt.title(f\"Top 3 SPED% — {b} (all years)\")\n",
    "    plt.xlabel(\"SPED %\")\n",
    "    plt.ylabel(\"School (Year)\")\n",
    "    xmax = (g[\"sped_percent\"].max() or 0) * 1.10\n",
    "    plt.xlim(0, xmax if xmax > 0 else 1)\n",
    "    for bar, v in zip(bars, g[\"sped_percent\"].tolist()):\n",
    "        if pd.notna(v):\n",
    "            plt.text(v, bar.get_y() + bar.get_height()/2, f\"{v:.2f}%\", va=\"center\", ha=\"left\")\n",
    "    plt.tight_layout()\n",
    "    plt.show()\n",
    "\n"
   ]
  },
  {
   "cell_type": "markdown",
   "id": "6d7fe732-cb69-43fa-ae71-ad7781f43300",
   "metadata": {},
   "source": [
    "Here’s a cleaned-up summary that matches your latest (all-years, per-borough, no-aggregation) queries:\n",
    "\n",
    "Q1) Brooklyn (121) and the Bronx (118) have the most schools in the dataset; Staten Island has the fewest (10).\n",
    "\n",
    "Q2) Only Manhattan currently has demographic rows that join to the directory.\n",
    "The average share of English Language Learners (ELL) in Manhattan is 7.57% (across 40 matched schools).\n",
    "For the Bronx, Brooklyn, Queens, and Staten Island there are no matched demographics in this snapshot.\n",
    "\n",
    "Q3) Using the “all years, per borough” query (no last-year filter, no aggregation), the top-3 rows all come from Manhattan and the same school across different years:\n",
    "\n",
    "East Side Community School — 28.8% (2009–2010)\n",
    "\n",
    "East Side Community School — 27.7% (2010–2011)\n",
    "\n",
    "East Side Community School — 26.7% (2008–2009)\n",
    "\n",
    "    "
   ]
  },
  {
   "cell_type": "code",
   "execution_count": null,
   "id": "79c9ee38-f06b-4b8d-9e6c-0e440804cc81",
   "metadata": {},
   "outputs": [],
   "source": []
  }
 ],
 "metadata": {
  "kernelspec": {
   "display_name": "Python 3",
   "language": "python",
   "name": "python3"
  },
  "language_info": {
   "codemirror_mode": {
    "name": "ipython",
    "version": 3
   },
   "file_extension": ".py",
   "mimetype": "text/x-python",
   "name": "python",
   "nbconvert_exporter": "python",
   "pygments_lexer": "ipython3",
   "version": "3.13.7"
  }
 },
 "nbformat": 4,
 "nbformat_minor": 5
}
