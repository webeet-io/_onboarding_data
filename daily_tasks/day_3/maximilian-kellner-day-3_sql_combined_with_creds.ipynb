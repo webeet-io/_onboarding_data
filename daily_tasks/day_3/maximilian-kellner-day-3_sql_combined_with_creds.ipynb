{
 "cells": [
  {
   "cell_type": "markdown",
   "id": "52f6b05b",
   "metadata": {},
   "source": [
    "# 🧠 Day 3 – SQL via Python: NYC School Data Exploration\n",
    "In this notebook, you'll connect to a PostgreSQL database and execute SQL queries to explore NYC school data."
   ]
  },
  {
   "cell_type": "markdown",
   "id": "b41279b5",
   "metadata": {},
   "source": [
    "## 🔌 Step 1: Import Libraries"
   ]
  },
  {
   "cell_type": "code",
   "execution_count": 1,
   "id": "fdf6987a",
   "metadata": {},
   "outputs": [],
   "source": [
    "import pandas as pd\n",
    "import psycopg2"
   ]
  },
  {
   "cell_type": "markdown",
   "id": "e7ef64ad",
   "metadata": {},
   "source": [
    "## 🔐 Step 2: Connect to the Database"
   ]
  },
  {
   "cell_type": "code",
   "execution_count": 2,
   "id": "09610a71",
   "metadata": {},
   "outputs": [],
   "source": [
    "# DB connection setup using hardcoded credentials (for onboarding only)\n",
    "conn = psycopg2.connect(\n",
    "    dbname=\"neondb\",\n",
    "    user=\"neondb_owner\",\n",
    "    password=\"npg_CeS9fJg2azZD\",\n",
    "    host=\"ep-falling-glitter-a5m0j5gk-pooler.us-east-2.aws.neon.tech\",\n",
    "    port=\"5432\",\n",
    "    sslmode=\"require\"\n",
    ")\n",
    "cur = conn.cursor()"
   ]
  },
  {
   "cell_type": "markdown",
   "id": "674ad27e",
   "metadata": {},
   "source": [
    "## 🔍 Step 3: Run a Test Query"
   ]
  },
  {
   "cell_type": "code",
   "execution_count": 3,
   "id": "993abae0-10ed-49d7-b209-134fbe9d7ad3",
   "metadata": {},
   "outputs": [],
   "source": [
    "# just a note that sneaky conn was new to me "
   ]
  },
  {
   "cell_type": "code",
   "execution_count": 4,
   "id": "af2bd9d0",
   "metadata": {},
   "outputs": [
    {
     "name": "stderr",
     "output_type": "stream",
     "text": [
      "C:\\Users\\Maxdesk\\AppData\\Local\\Temp\\ipykernel_5960\\1731849884.py:2: UserWarning: pandas only supports SQLAlchemy connectable (engine/connection) or database string URI or sqlite3 DBAPI2 connection. Other DBAPI2 objects are not tested. Please consider using SQLAlchemy.\n",
      "  df = pd.read_sql(query, conn)\n"
     ]
    },
    {
     "data": {
      "text/html": [
       "<div>\n",
       "<style scoped>\n",
       "    .dataframe tbody tr th:only-of-type {\n",
       "        vertical-align: middle;\n",
       "    }\n",
       "\n",
       "    .dataframe tbody tr th {\n",
       "        vertical-align: top;\n",
       "    }\n",
       "\n",
       "    .dataframe thead th {\n",
       "        text-align: right;\n",
       "    }\n",
       "</style>\n",
       "<table border=\"1\" class=\"dataframe\">\n",
       "  <thead>\n",
       "    <tr style=\"text-align: right;\">\n",
       "      <th></th>\n",
       "      <th>dbn</th>\n",
       "      <th>school_name</th>\n",
       "      <th>borough</th>\n",
       "      <th>building_code</th>\n",
       "      <th>phone_number</th>\n",
       "      <th>fax_number</th>\n",
       "      <th>grade_span_min</th>\n",
       "      <th>grade_span_max</th>\n",
       "      <th>expgrade_span_min</th>\n",
       "      <th>expgrade_span_max</th>\n",
       "      <th>...</th>\n",
       "      <th>number_programs</th>\n",
       "      <th>Location 1</th>\n",
       "      <th>Community Board</th>\n",
       "      <th>Council District</th>\n",
       "      <th>Census Tract</th>\n",
       "      <th>Zip Codes</th>\n",
       "      <th>Community Districts</th>\n",
       "      <th>Borough Boundaries</th>\n",
       "      <th>City Council Districts</th>\n",
       "      <th>Police Precincts</th>\n",
       "    </tr>\n",
       "  </thead>\n",
       "  <tbody>\n",
       "    <tr>\n",
       "      <th>0</th>\n",
       "      <td>27Q260</td>\n",
       "      <td>Frederick Douglass Academy VI High School</td>\n",
       "      <td>Queens</td>\n",
       "      <td>Q465</td>\n",
       "      <td>718-471-2154</td>\n",
       "      <td>718-471-2890</td>\n",
       "      <td>9.0</td>\n",
       "      <td>12</td>\n",
       "      <td>None</td>\n",
       "      <td>None</td>\n",
       "      <td>...</td>\n",
       "      <td>1</td>\n",
       "      <td>{'latitude': '40.601989336', 'longitude': '-73...</td>\n",
       "      <td>14</td>\n",
       "      <td>31</td>\n",
       "      <td>100802</td>\n",
       "      <td>20529</td>\n",
       "      <td>51</td>\n",
       "      <td>3</td>\n",
       "      <td>47</td>\n",
       "      <td>59</td>\n",
       "    </tr>\n",
       "    <tr>\n",
       "      <th>1</th>\n",
       "      <td>21K559</td>\n",
       "      <td>Life Academy High School for Film and Music</td>\n",
       "      <td>Brooklyn</td>\n",
       "      <td>K400</td>\n",
       "      <td>718-333-7750</td>\n",
       "      <td>718-333-7775</td>\n",
       "      <td>9.0</td>\n",
       "      <td>12</td>\n",
       "      <td>None</td>\n",
       "      <td>None</td>\n",
       "      <td>...</td>\n",
       "      <td>1</td>\n",
       "      <td>{'latitude': '40.593593811', 'longitude': '-73...</td>\n",
       "      <td>13</td>\n",
       "      <td>47</td>\n",
       "      <td>306</td>\n",
       "      <td>17616</td>\n",
       "      <td>21</td>\n",
       "      <td>2</td>\n",
       "      <td>45</td>\n",
       "      <td>35</td>\n",
       "    </tr>\n",
       "    <tr>\n",
       "      <th>2</th>\n",
       "      <td>16K393</td>\n",
       "      <td>Frederick Douglass Academy IV Secondary School</td>\n",
       "      <td>Brooklyn</td>\n",
       "      <td>K026</td>\n",
       "      <td>718-574-2820</td>\n",
       "      <td>718-574-2821</td>\n",
       "      <td>9.0</td>\n",
       "      <td>12</td>\n",
       "      <td>None</td>\n",
       "      <td>None</td>\n",
       "      <td>...</td>\n",
       "      <td>1</td>\n",
       "      <td>{'latitude': '40.692133704', 'longitude': '-73...</td>\n",
       "      <td>3</td>\n",
       "      <td>36</td>\n",
       "      <td>291</td>\n",
       "      <td>18181</td>\n",
       "      <td>69</td>\n",
       "      <td>2</td>\n",
       "      <td>49</td>\n",
       "      <td>52</td>\n",
       "    </tr>\n",
       "    <tr>\n",
       "      <th>3</th>\n",
       "      <td>08X305</td>\n",
       "      <td>Pablo Neruda Academy</td>\n",
       "      <td>Bronx</td>\n",
       "      <td>X450</td>\n",
       "      <td>718-824-1682</td>\n",
       "      <td>718-824-1663</td>\n",
       "      <td>9.0</td>\n",
       "      <td>12</td>\n",
       "      <td>None</td>\n",
       "      <td>None</td>\n",
       "      <td>...</td>\n",
       "      <td>1</td>\n",
       "      <td>{'latitude': '40.822303765', 'longitude': '-73...</td>\n",
       "      <td>9</td>\n",
       "      <td>18</td>\n",
       "      <td>16</td>\n",
       "      <td>11611</td>\n",
       "      <td>58</td>\n",
       "      <td>5</td>\n",
       "      <td>31</td>\n",
       "      <td>26</td>\n",
       "    </tr>\n",
       "    <tr>\n",
       "      <th>4</th>\n",
       "      <td>03M485</td>\n",
       "      <td>Fiorello H. LaGuardia High School of Music &amp; A...</td>\n",
       "      <td>Manhattan</td>\n",
       "      <td>M485</td>\n",
       "      <td>212-496-0700</td>\n",
       "      <td>212-724-5748</td>\n",
       "      <td>9.0</td>\n",
       "      <td>12</td>\n",
       "      <td>None</td>\n",
       "      <td>None</td>\n",
       "      <td>...</td>\n",
       "      <td>6</td>\n",
       "      <td>{'latitude': '40.773670507', 'longitude': '-73...</td>\n",
       "      <td>7</td>\n",
       "      <td>6</td>\n",
       "      <td>151</td>\n",
       "      <td>12420</td>\n",
       "      <td>20</td>\n",
       "      <td>4</td>\n",
       "      <td>19</td>\n",
       "      <td>12</td>\n",
       "    </tr>\n",
       "  </tbody>\n",
       "</table>\n",
       "<p>5 rows × 105 columns</p>\n",
       "</div>"
      ],
      "text/plain": [
       "      dbn                                        school_name    borough  \\\n",
       "0  27Q260          Frederick Douglass Academy VI High School     Queens   \n",
       "1  21K559        Life Academy High School for Film and Music   Brooklyn   \n",
       "2  16K393     Frederick Douglass Academy IV Secondary School   Brooklyn   \n",
       "3  08X305                               Pablo Neruda Academy      Bronx   \n",
       "4  03M485  Fiorello H. LaGuardia High School of Music & A...  Manhattan   \n",
       "\n",
       "  building_code  phone_number    fax_number  grade_span_min  grade_span_max  \\\n",
       "0          Q465  718-471-2154  718-471-2890             9.0              12   \n",
       "1          K400  718-333-7750  718-333-7775             9.0              12   \n",
       "2          K026  718-574-2820  718-574-2821             9.0              12   \n",
       "3          X450  718-824-1682  718-824-1663             9.0              12   \n",
       "4          M485  212-496-0700  212-724-5748             9.0              12   \n",
       "\n",
       "  expgrade_span_min expgrade_span_max  ... number_programs  \\\n",
       "0              None              None  ...               1   \n",
       "1              None              None  ...               1   \n",
       "2              None              None  ...               1   \n",
       "3              None              None  ...               1   \n",
       "4              None              None  ...               6   \n",
       "\n",
       "                                          Location 1 Community Board  \\\n",
       "0  {'latitude': '40.601989336', 'longitude': '-73...              14   \n",
       "1  {'latitude': '40.593593811', 'longitude': '-73...              13   \n",
       "2  {'latitude': '40.692133704', 'longitude': '-73...               3   \n",
       "3  {'latitude': '40.822303765', 'longitude': '-73...               9   \n",
       "4  {'latitude': '40.773670507', 'longitude': '-73...               7   \n",
       "\n",
       "  Council District Census Tract Zip Codes Community Districts  \\\n",
       "0               31       100802     20529                  51   \n",
       "1               47          306     17616                  21   \n",
       "2               36          291     18181                  69   \n",
       "3               18           16     11611                  58   \n",
       "4                6          151     12420                  20   \n",
       "\n",
       "  Borough Boundaries City Council Districts Police Precincts  \n",
       "0                  3                     47               59  \n",
       "1                  2                     45               35  \n",
       "2                  2                     49               52  \n",
       "3                  5                     31               26  \n",
       "4                  4                     19               12  \n",
       "\n",
       "[5 rows x 105 columns]"
      ]
     },
     "execution_count": 4,
     "metadata": {},
     "output_type": "execute_result"
    }
   ],
   "source": [
    "query = \"SELECT * FROM nyc_schools.high_school_directory LIMIT 5;\"\n",
    "df = pd.read_sql(query, conn)\n",
    "df.head()"
   ]
  },
  {
   "cell_type": "markdown",
   "id": "f3fcb20f",
   "metadata": {},
   "source": [
    "## ✅ Task Queries Below"
   ]
  },
  {
   "cell_type": "code",
   "execution_count": 5,
   "id": "f0fa9fce",
   "metadata": {},
   "outputs": [
    {
     "name": "stderr",
     "output_type": "stream",
     "text": [
      "C:\\Users\\Maxdesk\\AppData\\Local\\Temp\\ipykernel_5960\\1503364408.py:14: UserWarning: pandas only supports SQLAlchemy connectable (engine/connection) or database string URI or sqlite3 DBAPI2 connection. Other DBAPI2 objects are not tested. Please consider using SQLAlchemy.\n",
      "  df = pd.read_sql(query, conn)\n"
     ]
    },
    {
     "data": {
      "text/html": [
       "<div>\n",
       "<style scoped>\n",
       "    .dataframe tbody tr th:only-of-type {\n",
       "        vertical-align: middle;\n",
       "    }\n",
       "\n",
       "    .dataframe tbody tr th {\n",
       "        vertical-align: top;\n",
       "    }\n",
       "\n",
       "    .dataframe thead th {\n",
       "        text-align: right;\n",
       "    }\n",
       "</style>\n",
       "<table border=\"1\" class=\"dataframe\">\n",
       "  <thead>\n",
       "    <tr style=\"text-align: right;\">\n",
       "      <th></th>\n",
       "      <th>borough</th>\n",
       "      <th>school_count</th>\n",
       "    </tr>\n",
       "  </thead>\n",
       "  <tbody>\n",
       "    <tr>\n",
       "      <th>0</th>\n",
       "      <td>Bronx</td>\n",
       "      <td>118</td>\n",
       "    </tr>\n",
       "    <tr>\n",
       "      <th>1</th>\n",
       "      <td>Brooklyn</td>\n",
       "      <td>121</td>\n",
       "    </tr>\n",
       "    <tr>\n",
       "      <th>2</th>\n",
       "      <td>Manhattan</td>\n",
       "      <td>106</td>\n",
       "    </tr>\n",
       "    <tr>\n",
       "      <th>3</th>\n",
       "      <td>Queens</td>\n",
       "      <td>80</td>\n",
       "    </tr>\n",
       "    <tr>\n",
       "      <th>4</th>\n",
       "      <td>Staten Island</td>\n",
       "      <td>10</td>\n",
       "    </tr>\n",
       "  </tbody>\n",
       "</table>\n",
       "</div>"
      ],
      "text/plain": [
       "         borough  school_count\n",
       "0          Bronx           118\n",
       "1       Brooklyn           121\n",
       "2      Manhattan           106\n",
       "3         Queens            80\n",
       "4  Staten Island            10"
      ]
     },
     "execution_count": 5,
     "metadata": {},
     "output_type": "execute_result"
    }
   ],
   "source": [
    "# Question 1: How many schools are there in each borough?\n",
    "# I will count how many unique schools (dbn) are present per borough.\n",
    "# GROUP BY helps me get the count per borough.\n",
    "\n",
    "query = \"\"\"\n",
    "SELECT \n",
    "    borough,\n",
    "    COUNT(DISTINCT dbn) AS school_count\n",
    "FROM nyc_schools.high_school_directory\n",
    "GROUP BY borough ;\n",
    "\"\"\"\n",
    "# those \"\"\"\" for multiline query are really helpful in py that was also new \n",
    "# proceed to run the query and load the result into a dataframe\n",
    "df = pd.read_sql(query, conn)\n",
    "\n",
    "# show the result\n",
    "df\n",
    "\n"
   ]
  },
  {
   "cell_type": "code",
   "execution_count": 6,
   "id": "108aaf43-b349-4b6b-8c77-06b7f2927ca5",
   "metadata": {},
   "outputs": [
    {
     "name": "stderr",
     "output_type": "stream",
     "text": [
      "C:\\Users\\Maxdesk\\AppData\\Local\\Temp\\ipykernel_5960\\64546147.py:15: UserWarning: pandas only supports SQLAlchemy connectable (engine/connection) or database string URI or sqlite3 DBAPI2 connection. Other DBAPI2 objects are not tested. Please consider using SQLAlchemy.\n",
      "  df = pd.read_sql(query, conn)\n"
     ]
    },
    {
     "name": "stdout",
     "output_type": "stream",
     "text": [
      "     borough  avg_ell_percent\n",
      "0  Manhattan           7.5725\n"
     ]
    }
   ],
   "source": [
    "# Question 2: average % of ELL students per borough\n",
    "# I just calculate avg(ell_percent) and group by borough\n",
    "\n",
    "query = \"\"\"\n",
    "SELECT \n",
    "    h.borough, \n",
    "    AVG(d.ell_percent) AS avg_ell_percent\n",
    "FROM nyc_schools.school_demographics d\n",
    "Inner JOIN nyc_schools.high_school_directory h \n",
    "    ON d.dbn = h.dbn\n",
    "GROUP BY h.borough\n",
    "ORDER BY avg_ell_percent DESC;\n",
    "\"\"\"\n",
    "\n",
    "df = pd.read_sql(query, conn)\n",
    "print(df)"
   ]
  },
  {
   "cell_type": "code",
   "execution_count": 7,
   "id": "2a422e1a-6202-4254-909a-4a8c3f9ceb0b",
   "metadata": {},
   "outputs": [
    {
     "name": "stderr",
     "output_type": "stream",
     "text": [
      "C:\\Users\\Maxdesk\\AppData\\Local\\Temp\\ipykernel_5960\\2969219879.py:1: UserWarning: pandas only supports SQLAlchemy connectable (engine/connection) or database string URI or sqlite3 DBAPI2 connection. Other DBAPI2 objects are not tested. Please consider using SQLAlchemy.\n",
      "  df = pd.read_sql(\"SELECT * FROM nyc_schools.school_demographics\", conn)\n"
     ]
    }
   ],
   "source": [
    "df = pd.read_sql(\"SELECT * FROM nyc_schools.school_demographics\", conn)\n",
    "df.to_csv(\"school_demographics.csv\", index=False)\n",
    "#thanks ai"
   ]
  },
  {
   "cell_type": "code",
   "execution_count": 8,
   "id": "8f9483e8-1a28-4918-92be-1ffe9a687a39",
   "metadata": {},
   "outputs": [
    {
     "name": "stderr",
     "output_type": "stream",
     "text": [
      "C:\\Users\\Maxdesk\\AppData\\Local\\Temp\\ipykernel_5960\\2883078215.py:1: UserWarning: pandas only supports SQLAlchemy connectable (engine/connection) or database string URI or sqlite3 DBAPI2 connection. Other DBAPI2 objects are not tested. Please consider using SQLAlchemy.\n",
      "  df = pd.read_sql(\"SELECT * FROM nyc_schools.high_school_directory\", conn)\n"
     ]
    }
   ],
   "source": [
    "df = pd.read_sql(\"SELECT * FROM nyc_schools.high_school_directory\", conn)\n",
    "df.to_csv(\"high_school_directory.csv\", index=False)\n",
    "#looking at it i understood thath through the dbn only manhattan data was provided her the dbn inise with m are manhattan, x bronx, k brooklyn...\n",
    "#it follows a clear logic only staten doesn't those are R"
   ]
  },
  {
   "cell_type": "code",
   "execution_count": 9,
   "id": "f9c69539-e911-4b00-a7f9-7bef63e33569",
   "metadata": {},
   "outputs": [
    {
     "name": "stderr",
     "output_type": "stream",
     "text": [
      "C:\\Users\\Maxdesk\\AppData\\Local\\Temp\\ipykernel_5960\\4001677415.py:25: UserWarning: pandas only supports SQLAlchemy connectable (engine/connection) or database string URI or sqlite3 DBAPI2 connection. Other DBAPI2 objects are not tested. Please consider using SQLAlchemy.\n",
      "  df = pd.read_sql(query, conn)\n"
     ]
    },
    {
     "data": {
      "text/html": [
       "<div>\n",
       "<style scoped>\n",
       "    .dataframe tbody tr th:only-of-type {\n",
       "        vertical-align: middle;\n",
       "    }\n",
       "\n",
       "    .dataframe tbody tr th {\n",
       "        vertical-align: top;\n",
       "    }\n",
       "\n",
       "    .dataframe thead th {\n",
       "        text-align: right;\n",
       "    }\n",
       "</style>\n",
       "<table border=\"1\" class=\"dataframe\">\n",
       "  <thead>\n",
       "    <tr style=\"text-align: right;\">\n",
       "      <th></th>\n",
       "      <th>borough</th>\n",
       "      <th>school_name</th>\n",
       "      <th>sped_percent</th>\n",
       "    </tr>\n",
       "  </thead>\n",
       "  <tbody>\n",
       "    <tr>\n",
       "      <th>0</th>\n",
       "      <td>Manhattan</td>\n",
       "      <td>East Side Community School</td>\n",
       "      <td>28.8</td>\n",
       "    </tr>\n",
       "    <tr>\n",
       "      <th>1</th>\n",
       "      <td>Manhattan</td>\n",
       "      <td>East Side Community School</td>\n",
       "      <td>27.7</td>\n",
       "    </tr>\n",
       "    <tr>\n",
       "      <th>2</th>\n",
       "      <td>Manhattan</td>\n",
       "      <td>East Side Community School</td>\n",
       "      <td>26.7</td>\n",
       "    </tr>\n",
       "  </tbody>\n",
       "</table>\n",
       "</div>"
      ],
      "text/plain": [
       "     borough                 school_name  sped_percent\n",
       "0  Manhattan  East Side Community School          28.8\n",
       "1  Manhattan  East Side Community School          27.7\n",
       "2  Manhattan  East Side Community School          26.7"
      ]
     },
     "execution_count": 9,
     "metadata": {},
     "output_type": "execute_result"
    }
   ],
   "source": [
    "# question 3: Top 3 schools per borough with highest % of special education students (sped_percent)\n",
    "# I join school_demographics with high_school_directory to get borough and school_name\n",
    "# I use ROW_NUMBER() to rank schools in each borough by sped_percent\n",
    "\n",
    "query = \"\"\"\n",
    "WITH school_ranks AS (\n",
    "    SELECT \n",
    "        h.borough,\n",
    "        h.school_name,\n",
    "        d.sped_percent,\n",
    "        ROW_NUMBER() OVER (\n",
    "            PARTITION BY h.borough\n",
    "            ORDER BY d.sped_percent DESC\n",
    "        ) AS rank_in_borough\n",
    "    FROM nyc_schools.school_demographics d\n",
    "    INNER JOIN nyc_schools.high_school_directory h \n",
    "        ON d.dbn = h.dbn\n",
    ")\n",
    "SELECT borough, school_name, sped_percent\n",
    "FROM school_ranks\n",
    "WHERE rank_in_borough <= 3\n",
    "ORDER BY borough, rank_in_borough;\n",
    "\"\"\"\n",
    "\n",
    "df = pd.read_sql(query, conn)\n",
    "df\n"
   ]
  },
  {
   "cell_type": "code",
   "execution_count": 10,
   "id": "af8b126e-584c-4342-8cdf-a1361459f47b",
   "metadata": {},
   "outputs": [
    {
     "name": "stderr",
     "output_type": "stream",
     "text": [
      "C:\\Users\\Maxdesk\\AppData\\Local\\Temp\\ipykernel_5960\\1684174245.py:10: UserWarning: pandas only supports SQLAlchemy connectable (engine/connection) or database string URI or sqlite3 DBAPI2 connection. Other DBAPI2 objects are not tested. Please consider using SQLAlchemy.\n",
      "  df = pd.read_sql(query, conn)\n"
     ]
    },
    {
     "data": {
      "text/html": [
       "<div>\n",
       "<style scoped>\n",
       "    .dataframe tbody tr th:only-of-type {\n",
       "        vertical-align: middle;\n",
       "    }\n",
       "\n",
       "    .dataframe tbody tr th {\n",
       "        vertical-align: top;\n",
       "    }\n",
       "\n",
       "    .dataframe thead th {\n",
       "        text-align: right;\n",
       "    }\n",
       "</style>\n",
       "<table border=\"1\" class=\"dataframe\">\n",
       "  <thead>\n",
       "    <tr style=\"text-align: right;\">\n",
       "      <th></th>\n",
       "      <th>school_name</th>\n",
       "      <th>sped_percent</th>\n",
       "    </tr>\n",
       "  </thead>\n",
       "  <tbody>\n",
       "  </tbody>\n",
       "</table>\n",
       "</div>"
      ],
      "text/plain": [
       "Empty DataFrame\n",
       "Columns: [school_name, sped_percent]\n",
       "Index: []"
      ]
     },
     "execution_count": 10,
     "metadata": {},
     "output_type": "execute_result"
    }
   ],
   "source": [
    "query = \"\"\"\n",
    "SELECT school_name, sped_percent\n",
    "FROM nyc_schools.school_demographics d\n",
    "JOIN nyc_schools.high_school_directory h \n",
    "    ON d.dbn = h.dbn\n",
    "WHERE h.borough = 'Bronx'\n",
    "ORDER BY sped_percent DESC\n",
    "LIMIT 3;\n",
    "\"\"\"\n",
    "df = pd.read_sql(query, conn)\n",
    "df\n",
    "\n",
    "#just to confirm but\n",
    "#since i get again only manhattan i already know sped_percent is inside the table \n",
    "#which only has manhattan data so well an eloborated query won't give satifistying results because our dataset is incomplete"
   ]
  },
  {
   "cell_type": "markdown",
   "id": "5f1a64a0",
   "metadata": {},
   "source": [
    "## 🧠 Insights"
   ]
  },
  {
   "cell_type": "markdown",
   "id": "bd477781-82b4-4f13-b618-2370fb66c4f8",
   "metadata": {},
   "source": [
    "well most frustrating was that the connection dropped so often and i had to restart⏩ all cells multiple times. \n",
    "The heat today didn't make things easier.🫠🧠\n",
    "quick wrapup \n",
    "Q1 -\n",
    "\tborough \tschool_count\n",
    "0 \tBronx \t        118\n",
    "1 \tBrooklyn     \t121\n",
    "2 \tManhattan \t    106\n",
    "3 \tQueens \t         80\n",
    "4 \tStaten Island \t 10\n",
    "\n",
    "Q2 -      borough  avg_ell_percent\n",
    "0  Manhattan           7.57 %\n",
    "\n",
    "Q3 -\n",
    "\tborough \tschool_name \tsped_percent\n",
    "0 \tManhattan \tEast Side Community School \t28.8\n",
    "1 \tManhattan \tEast Side Community School \t27.7\n",
    "2 \tManhattan \tEast Side Community School \t26.7\n",
    "\n",
    "Normally i'd put the Markdown at the top but i will leave it down here since the field 🧠Insights is here.\n",
    "Main insight is probably that one table / sheet is only populated with Manhattan data , which resulted to these dirty q2&3 results so Zarko was right there was a trick that which led us astray.🦊\n",
    "\n",
    "\n"
   ]
  }
 ],
 "metadata": {
  "kernelspec": {
   "display_name": "Python 3 (ipykernel)",
   "language": "python",
   "name": "python3"
  },
  "language_info": {
   "codemirror_mode": {
    "name": "ipython",
    "version": 3
   },
   "file_extension": ".py",
   "mimetype": "text/x-python",
   "name": "python",
   "nbconvert_exporter": "python",
   "pygments_lexer": "ipython3",
   "version": "3.13.2"
  }
 },
 "nbformat": 4,
 "nbformat_minor": 5
}
