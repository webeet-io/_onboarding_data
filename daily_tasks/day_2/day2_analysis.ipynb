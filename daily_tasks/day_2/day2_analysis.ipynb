{
 "cells": [
  {
   "cell_type": "markdown",
   "id": "8110f551",
   "metadata": {},
   "source": [
    "Onboarding Day2 NYC High School Directory Analysis"
   ]
  },
  {
   "cell_type": "code",
   "execution_count": 7,
   "id": "750c767c",
   "metadata": {},
   "outputs": [],
   "source": [
    "import pandas as pd\n",
    "import numpy as np\n",
    "import matplotlib.pyplot as plt"
   ]
  },
  {
   "cell_type": "code",
   "execution_count": 9,
   "id": "35555b6f",
   "metadata": {},
   "outputs": [
    {
     "data": {
      "text/html": [
       "<div>\n",
       "<style scoped>\n",
       "    .dataframe tbody tr th:only-of-type {\n",
       "        vertical-align: middle;\n",
       "    }\n",
       "\n",
       "    .dataframe tbody tr th {\n",
       "        vertical-align: top;\n",
       "    }\n",
       "\n",
       "    .dataframe thead th {\n",
       "        text-align: right;\n",
       "    }\n",
       "</style>\n",
       "<table border=\"1\" class=\"dataframe\">\n",
       "  <thead>\n",
       "    <tr style=\"text-align: right;\">\n",
       "      <th></th>\n",
       "      <th>dbn</th>\n",
       "      <th>school_name</th>\n",
       "      <th>borough</th>\n",
       "      <th>building_code</th>\n",
       "      <th>phone_number</th>\n",
       "      <th>fax_number</th>\n",
       "      <th>grade_span_min</th>\n",
       "      <th>grade_span_max</th>\n",
       "      <th>expgrade_span_min</th>\n",
       "      <th>expgrade_span_max</th>\n",
       "      <th>...</th>\n",
       "      <th>Council District</th>\n",
       "      <th>Census Tract</th>\n",
       "      <th>BIN</th>\n",
       "      <th>BBL</th>\n",
       "      <th>NTA</th>\n",
       "      <th>Zip Codes</th>\n",
       "      <th>Community Districts</th>\n",
       "      <th>Borough Boundaries</th>\n",
       "      <th>City Council Districts</th>\n",
       "      <th>Police Precincts</th>\n",
       "    </tr>\n",
       "  </thead>\n",
       "  <tbody>\n",
       "    <tr>\n",
       "      <th>0</th>\n",
       "      <td>27Q260</td>\n",
       "      <td>Frederick Douglass Academy VI High School</td>\n",
       "      <td>Queens</td>\n",
       "      <td>Q465</td>\n",
       "      <td>718-471-2154</td>\n",
       "      <td>718-471-2890</td>\n",
       "      <td>9.0</td>\n",
       "      <td>12</td>\n",
       "      <td>NaN</td>\n",
       "      <td>NaN</td>\n",
       "      <td>...</td>\n",
       "      <td>31.0</td>\n",
       "      <td>100802.0</td>\n",
       "      <td>4300730.0</td>\n",
       "      <td>4.157360e+09</td>\n",
       "      <td>Far Rockaway-Bayswater                        ...</td>\n",
       "      <td>20529.0</td>\n",
       "      <td>51</td>\n",
       "      <td>3</td>\n",
       "      <td>47</td>\n",
       "      <td>59</td>\n",
       "    </tr>\n",
       "    <tr>\n",
       "      <th>1</th>\n",
       "      <td>21K559</td>\n",
       "      <td>Life Academy High School for Film and Music</td>\n",
       "      <td>Brooklyn</td>\n",
       "      <td>K400</td>\n",
       "      <td>718-333-7750</td>\n",
       "      <td>718-333-7775</td>\n",
       "      <td>9.0</td>\n",
       "      <td>12</td>\n",
       "      <td>NaN</td>\n",
       "      <td>NaN</td>\n",
       "      <td>...</td>\n",
       "      <td>47.0</td>\n",
       "      <td>306.0</td>\n",
       "      <td>3186454.0</td>\n",
       "      <td>3.068830e+09</td>\n",
       "      <td>Gravesend                                     ...</td>\n",
       "      <td>17616.0</td>\n",
       "      <td>21</td>\n",
       "      <td>2</td>\n",
       "      <td>45</td>\n",
       "      <td>35</td>\n",
       "    </tr>\n",
       "    <tr>\n",
       "      <th>2</th>\n",
       "      <td>16K393</td>\n",
       "      <td>Frederick Douglass Academy IV Secondary School</td>\n",
       "      <td>Brooklyn</td>\n",
       "      <td>K026</td>\n",
       "      <td>718-574-2820</td>\n",
       "      <td>718-574-2821</td>\n",
       "      <td>9.0</td>\n",
       "      <td>12</td>\n",
       "      <td>NaN</td>\n",
       "      <td>NaN</td>\n",
       "      <td>...</td>\n",
       "      <td>36.0</td>\n",
       "      <td>291.0</td>\n",
       "      <td>3393805.0</td>\n",
       "      <td>3.016160e+09</td>\n",
       "      <td>Stuyvesant Heights                            ...</td>\n",
       "      <td>18181.0</td>\n",
       "      <td>69</td>\n",
       "      <td>2</td>\n",
       "      <td>49</td>\n",
       "      <td>52</td>\n",
       "    </tr>\n",
       "    <tr>\n",
       "      <th>3</th>\n",
       "      <td>08X305</td>\n",
       "      <td>Pablo Neruda Academy</td>\n",
       "      <td>Bronx</td>\n",
       "      <td>X450</td>\n",
       "      <td>718-824-1682</td>\n",
       "      <td>718-824-1663</td>\n",
       "      <td>9.0</td>\n",
       "      <td>12</td>\n",
       "      <td>NaN</td>\n",
       "      <td>NaN</td>\n",
       "      <td>...</td>\n",
       "      <td>18.0</td>\n",
       "      <td>16.0</td>\n",
       "      <td>2022205.0</td>\n",
       "      <td>2.036040e+09</td>\n",
       "      <td>Soundview-Castle Hill-Clason Point-Harding Par...</td>\n",
       "      <td>11611.0</td>\n",
       "      <td>58</td>\n",
       "      <td>5</td>\n",
       "      <td>31</td>\n",
       "      <td>26</td>\n",
       "    </tr>\n",
       "    <tr>\n",
       "      <th>4</th>\n",
       "      <td>03M485</td>\n",
       "      <td>Fiorello H. LaGuardia High School of Music &amp; A...</td>\n",
       "      <td>Manhattan</td>\n",
       "      <td>M485</td>\n",
       "      <td>212-496-0700</td>\n",
       "      <td>212-724-5748</td>\n",
       "      <td>9.0</td>\n",
       "      <td>12</td>\n",
       "      <td>NaN</td>\n",
       "      <td>NaN</td>\n",
       "      <td>...</td>\n",
       "      <td>6.0</td>\n",
       "      <td>151.0</td>\n",
       "      <td>1030341.0</td>\n",
       "      <td>1.011560e+09</td>\n",
       "      <td>Lincoln Square                                ...</td>\n",
       "      <td>12420.0</td>\n",
       "      <td>20</td>\n",
       "      <td>4</td>\n",
       "      <td>19</td>\n",
       "      <td>12</td>\n",
       "    </tr>\n",
       "  </tbody>\n",
       "</table>\n",
       "<p>5 rows × 69 columns</p>\n",
       "</div>"
      ],
      "text/plain": [
       "      dbn                                        school_name    borough  \\\n",
       "0  27Q260          Frederick Douglass Academy VI High School     Queens   \n",
       "1  21K559        Life Academy High School for Film and Music   Brooklyn   \n",
       "2  16K393     Frederick Douglass Academy IV Secondary School   Brooklyn   \n",
       "3  08X305                               Pablo Neruda Academy      Bronx   \n",
       "4  03M485  Fiorello H. LaGuardia High School of Music & A...  Manhattan   \n",
       "\n",
       "  building_code  phone_number    fax_number  grade_span_min  grade_span_max  \\\n",
       "0          Q465  718-471-2154  718-471-2890             9.0              12   \n",
       "1          K400  718-333-7750  718-333-7775             9.0              12   \n",
       "2          K026  718-574-2820  718-574-2821             9.0              12   \n",
       "3          X450  718-824-1682  718-824-1663             9.0              12   \n",
       "4          M485  212-496-0700  212-724-5748             9.0              12   \n",
       "\n",
       "   expgrade_span_min  expgrade_span_max  ... Council District Census Tract  \\\n",
       "0                NaN                NaN  ...             31.0     100802.0   \n",
       "1                NaN                NaN  ...             47.0        306.0   \n",
       "2                NaN                NaN  ...             36.0        291.0   \n",
       "3                NaN                NaN  ...             18.0         16.0   \n",
       "4                NaN                NaN  ...              6.0        151.0   \n",
       "\n",
       "         BIN           BBL                                                NTA  \\\n",
       "0  4300730.0  4.157360e+09  Far Rockaway-Bayswater                        ...   \n",
       "1  3186454.0  3.068830e+09  Gravesend                                     ...   \n",
       "2  3393805.0  3.016160e+09  Stuyvesant Heights                            ...   \n",
       "3  2022205.0  2.036040e+09  Soundview-Castle Hill-Clason Point-Harding Par...   \n",
       "4  1030341.0  1.011560e+09  Lincoln Square                                ...   \n",
       "\n",
       "   Zip Codes Community Districts  Borough Boundaries City Council Districts  \\\n",
       "0    20529.0                  51                   3                     47   \n",
       "1    17616.0                  21                   2                     45   \n",
       "2    18181.0                  69                   2                     49   \n",
       "3    11611.0                  58                   5                     31   \n",
       "4    12420.0                  20                   4                     19   \n",
       "\n",
       "  Police Precincts  \n",
       "0               59  \n",
       "1               35  \n",
       "2               52  \n",
       "3               26  \n",
       "4               12  \n",
       "\n",
       "[5 rows x 69 columns]"
      ]
     },
     "execution_count": 9,
     "metadata": {},
     "output_type": "execute_result"
    }
   ],
   "source": [
    "df = pd.read_csv(\"/Users/cynthiaraghavan/Downloads/high-school-directory.csv\")\n",
    "\n",
    "df.head()"
   ]
  },
  {
   "cell_type": "markdown",
   "id": "37bdde24",
   "metadata": {},
   "source": [
    "Q: Clean column names (lowercase, replace spaces with underscores & remove special characters)"
   ]
  },
  {
   "cell_type": "code",
   "execution_count": 10,
   "id": "8a0e85f9",
   "metadata": {},
   "outputs": [],
   "source": [
    "df.columns = (df.columns\n",
    "      .str.lower()                                 # lowercase\n",
    "      .str.replace(' ', '_')                       # replace spaces with underscores\n",
    "      .str.replace(r'[^a-z0-9_]', '', regex=True)  # remove all special characters\n",
    ")"
   ]
  },
  {
   "cell_type": "code",
   "execution_count": 12,
   "id": "0ea30665",
   "metadata": {},
   "outputs": [
    {
     "data": {
      "text/plain": [
       "Index(['dbn', 'school_name', 'borough', 'building_code', 'phone_number',\n",
       "       'fax_number', 'grade_span_min', 'grade_span_max', 'expgrade_span_min',\n",
       "       'expgrade_span_max', 'bus', 'subway', 'primary_address_line_1', 'city',\n",
       "       'state_code', 'postcode', 'website', 'total_students', 'campus_name',\n",
       "       'school_type', 'overview_paragraph', 'program_highlights',\n",
       "       'language_classes', 'advancedplacement_courses', 'online_ap_courses',\n",
       "       'online_language_courses', 'extracurricular_activities',\n",
       "       'psal_sports_boys', 'psal_sports_girls', 'psal_sports_coed',\n",
       "       'school_sports', 'partner_cbo', 'partner_hospital', 'partner_highered',\n",
       "       'partner_cultural', 'partner_nonprofit', 'partner_corporate',\n",
       "       'partner_financial', 'partner_other', 'addtl_info1', 'addtl_info2',\n",
       "       'start_time', 'end_time', 'se_services', 'ell_programs',\n",
       "       'school_accessibility_description', 'number_programs', 'priority01',\n",
       "       'priority02', 'priority03', 'priority04', 'priority05', 'priority06',\n",
       "       'priority07', 'priority08', 'priority09', 'priority10', 'location_1',\n",
       "       'community_board', 'council_district', 'census_tract', 'bin', 'bbl',\n",
       "       'nta', 'zip_codes', 'community_districts', 'borough_boundaries',\n",
       "       'city_council_districts', 'police_precincts'],\n",
       "      dtype='object')"
      ]
     },
     "execution_count": 12,
     "metadata": {},
     "output_type": "execute_result"
    }
   ],
   "source": [
    "df.columns"
   ]
  },
  {
   "cell_type": "markdown",
   "id": "3461320b",
   "metadata": {},
   "source": [
    "Filtering the Dataset"
   ]
  },
  {
   "cell_type": "markdown",
   "id": "537bf6cf",
   "metadata": {},
   "source": [
    "Brooklyn Schools"
   ]
  },
  {
   "cell_type": "markdown",
   "id": "e91aa800",
   "metadata": {},
   "source": [
    "Q: Filter the dataset to include only schools located in Brooklyn."
   ]
  },
  {
   "cell_type": "code",
   "execution_count": 14,
   "id": "c3b39f8a",
   "metadata": {},
   "outputs": [
    {
     "data": {
      "text/html": [
       "<div>\n",
       "<style scoped>\n",
       "    .dataframe tbody tr th:only-of-type {\n",
       "        vertical-align: middle;\n",
       "    }\n",
       "\n",
       "    .dataframe tbody tr th {\n",
       "        vertical-align: top;\n",
       "    }\n",
       "\n",
       "    .dataframe thead th {\n",
       "        text-align: right;\n",
       "    }\n",
       "</style>\n",
       "<table border=\"1\" class=\"dataframe\">\n",
       "  <thead>\n",
       "    <tr style=\"text-align: right;\">\n",
       "      <th></th>\n",
       "      <th>dbn</th>\n",
       "      <th>school_name</th>\n",
       "      <th>borough</th>\n",
       "      <th>building_code</th>\n",
       "      <th>phone_number</th>\n",
       "      <th>fax_number</th>\n",
       "      <th>grade_span_min</th>\n",
       "      <th>grade_span_max</th>\n",
       "      <th>expgrade_span_min</th>\n",
       "      <th>expgrade_span_max</th>\n",
       "      <th>...</th>\n",
       "      <th>council_district</th>\n",
       "      <th>census_tract</th>\n",
       "      <th>bin</th>\n",
       "      <th>bbl</th>\n",
       "      <th>nta</th>\n",
       "      <th>zip_codes</th>\n",
       "      <th>community_districts</th>\n",
       "      <th>borough_boundaries</th>\n",
       "      <th>city_council_districts</th>\n",
       "      <th>police_precincts</th>\n",
       "    </tr>\n",
       "  </thead>\n",
       "  <tbody>\n",
       "    <tr>\n",
       "      <th>1</th>\n",
       "      <td>21K559</td>\n",
       "      <td>Life Academy High School for Film and Music</td>\n",
       "      <td>Brooklyn</td>\n",
       "      <td>K400</td>\n",
       "      <td>718-333-7750</td>\n",
       "      <td>718-333-7775</td>\n",
       "      <td>9.0</td>\n",
       "      <td>12</td>\n",
       "      <td>NaN</td>\n",
       "      <td>NaN</td>\n",
       "      <td>...</td>\n",
       "      <td>47.0</td>\n",
       "      <td>306.0</td>\n",
       "      <td>3186454.0</td>\n",
       "      <td>3.068830e+09</td>\n",
       "      <td>Gravesend                                     ...</td>\n",
       "      <td>17616.0</td>\n",
       "      <td>21</td>\n",
       "      <td>2</td>\n",
       "      <td>45</td>\n",
       "      <td>35</td>\n",
       "    </tr>\n",
       "    <tr>\n",
       "      <th>2</th>\n",
       "      <td>16K393</td>\n",
       "      <td>Frederick Douglass Academy IV Secondary School</td>\n",
       "      <td>Brooklyn</td>\n",
       "      <td>K026</td>\n",
       "      <td>718-574-2820</td>\n",
       "      <td>718-574-2821</td>\n",
       "      <td>9.0</td>\n",
       "      <td>12</td>\n",
       "      <td>NaN</td>\n",
       "      <td>NaN</td>\n",
       "      <td>...</td>\n",
       "      <td>36.0</td>\n",
       "      <td>291.0</td>\n",
       "      <td>3393805.0</td>\n",
       "      <td>3.016160e+09</td>\n",
       "      <td>Stuyvesant Heights                            ...</td>\n",
       "      <td>18181.0</td>\n",
       "      <td>69</td>\n",
       "      <td>2</td>\n",
       "      <td>49</td>\n",
       "      <td>52</td>\n",
       "    </tr>\n",
       "    <tr>\n",
       "      <th>7</th>\n",
       "      <td>17K122</td>\n",
       "      <td>Pathways in Technology Early College High Scho...</td>\n",
       "      <td>Brooklyn</td>\n",
       "      <td>K625</td>\n",
       "      <td>718-221-1593</td>\n",
       "      <td>718-221-1781</td>\n",
       "      <td>9.0</td>\n",
       "      <td>12</td>\n",
       "      <td>9.0</td>\n",
       "      <td>14.0</td>\n",
       "      <td>...</td>\n",
       "      <td>36.0</td>\n",
       "      <td>311.0</td>\n",
       "      <td>3030553.0</td>\n",
       "      <td>3.012160e+09</td>\n",
       "      <td>Crown Heights North                           ...</td>\n",
       "      <td>17615.0</td>\n",
       "      <td>16</td>\n",
       "      <td>2</td>\n",
       "      <td>49</td>\n",
       "      <td>49</td>\n",
       "    </tr>\n",
       "    <tr>\n",
       "      <th>10</th>\n",
       "      <td>23K644</td>\n",
       "      <td>Eagle Academy for Young Men II</td>\n",
       "      <td>Brooklyn</td>\n",
       "      <td>K271</td>\n",
       "      <td>718-495-0863</td>\n",
       "      <td>718-732-2129</td>\n",
       "      <td>6.0</td>\n",
       "      <td>12</td>\n",
       "      <td>NaN</td>\n",
       "      <td>NaN</td>\n",
       "      <td>...</td>\n",
       "      <td>41.0</td>\n",
       "      <td>301.0</td>\n",
       "      <td>3042157.0</td>\n",
       "      <td>3.015500e+09</td>\n",
       "      <td>Ocean Hill                                    ...</td>\n",
       "      <td>13516.0</td>\n",
       "      <td>55</td>\n",
       "      <td>2</td>\n",
       "      <td>17</td>\n",
       "      <td>46</td>\n",
       "    </tr>\n",
       "    <tr>\n",
       "      <th>12</th>\n",
       "      <td>15K462</td>\n",
       "      <td>Secondary School for Law</td>\n",
       "      <td>Brooklyn</td>\n",
       "      <td>K460</td>\n",
       "      <td>718-832-4250</td>\n",
       "      <td>718-499-3947</td>\n",
       "      <td>9.0</td>\n",
       "      <td>12</td>\n",
       "      <td>NaN</td>\n",
       "      <td>NaN</td>\n",
       "      <td>...</td>\n",
       "      <td>39.0</td>\n",
       "      <td>155.0</td>\n",
       "      <td>3025510.0</td>\n",
       "      <td>3.010820e+09</td>\n",
       "      <td>Park Slope-Gowanus                            ...</td>\n",
       "      <td>17617.0</td>\n",
       "      <td>14</td>\n",
       "      <td>2</td>\n",
       "      <td>27</td>\n",
       "      <td>50</td>\n",
       "    </tr>\n",
       "  </tbody>\n",
       "</table>\n",
       "<p>5 rows × 69 columns</p>\n",
       "</div>"
      ],
      "text/plain": [
       "       dbn                                        school_name   borough  \\\n",
       "1   21K559        Life Academy High School for Film and Music  Brooklyn   \n",
       "2   16K393     Frederick Douglass Academy IV Secondary School  Brooklyn   \n",
       "7   17K122  Pathways in Technology Early College High Scho...  Brooklyn   \n",
       "10  23K644                     Eagle Academy for Young Men II  Brooklyn   \n",
       "12  15K462                           Secondary School for Law  Brooklyn   \n",
       "\n",
       "   building_code  phone_number    fax_number  grade_span_min  grade_span_max  \\\n",
       "1           K400  718-333-7750  718-333-7775             9.0              12   \n",
       "2           K026  718-574-2820  718-574-2821             9.0              12   \n",
       "7           K625  718-221-1593  718-221-1781             9.0              12   \n",
       "10          K271  718-495-0863  718-732-2129             6.0              12   \n",
       "12          K460  718-832-4250  718-499-3947             9.0              12   \n",
       "\n",
       "    expgrade_span_min  expgrade_span_max  ... council_district census_tract  \\\n",
       "1                 NaN                NaN  ...             47.0        306.0   \n",
       "2                 NaN                NaN  ...             36.0        291.0   \n",
       "7                 9.0               14.0  ...             36.0        311.0   \n",
       "10                NaN                NaN  ...             41.0        301.0   \n",
       "12                NaN                NaN  ...             39.0        155.0   \n",
       "\n",
       "          bin           bbl  \\\n",
       "1   3186454.0  3.068830e+09   \n",
       "2   3393805.0  3.016160e+09   \n",
       "7   3030553.0  3.012160e+09   \n",
       "10  3042157.0  3.015500e+09   \n",
       "12  3025510.0  3.010820e+09   \n",
       "\n",
       "                                                  nta  zip_codes  \\\n",
       "1   Gravesend                                     ...    17616.0   \n",
       "2   Stuyvesant Heights                            ...    18181.0   \n",
       "7   Crown Heights North                           ...    17615.0   \n",
       "10  Ocean Hill                                    ...    13516.0   \n",
       "12  Park Slope-Gowanus                            ...    17617.0   \n",
       "\n",
       "   community_districts  borough_boundaries city_council_districts  \\\n",
       "1                   21                   2                     45   \n",
       "2                   69                   2                     49   \n",
       "7                   16                   2                     49   \n",
       "10                  55                   2                     17   \n",
       "12                  14                   2                     27   \n",
       "\n",
       "   police_precincts  \n",
       "1                35  \n",
       "2                52  \n",
       "7                49  \n",
       "10               46  \n",
       "12               50  \n",
       "\n",
       "[5 rows x 69 columns]"
      ]
     },
     "execution_count": 14,
     "metadata": {},
     "output_type": "execute_result"
    }
   ],
   "source": [
    "df_brooklyn = df[df['borough'] == 'Brooklyn']\n",
    "df_brooklyn.head()"
   ]
  },
  {
   "cell_type": "markdown",
   "id": "db30d429",
   "metadata": {},
   "source": [
    "Q: Unique Schools in Brooklyn (unique identifier 'dbn' column)"
   ]
  },
  {
   "cell_type": "code",
   "execution_count": 15,
   "id": "5e3d80fe",
   "metadata": {},
   "outputs": [
    {
     "name": "stdout",
     "output_type": "stream",
     "text": [
      "Total unique schools in Brooklyn: 121\n"
     ]
    }
   ],
   "source": [
    "unique_schools_brooklyn = df_brooklyn['dbn'].nunique()\n",
    "print(f\"Total unique schools in Brooklyn: {unique_schools_brooklyn}\")"
   ]
  },
  {
   "cell_type": "markdown",
   "id": "33ed6869",
   "metadata": {},
   "source": [
    "Q: How many schools in Brooklyn offer Grade 9 entry? "
   ]
  },
  {
   "cell_type": "code",
   "execution_count": 16,
   "id": "f9713bf8",
   "metadata": {},
   "outputs": [
    {
     "data": {
      "text/plain": [
       "121"
      ]
     },
     "execution_count": 16,
     "metadata": {},
     "output_type": "execute_result"
    }
   ],
   "source": [
    "brooklyn_schools_grade9 = df_brooklyn[\n",
    "    (df_brooklyn['grade_span_min'] <= 9) & (df_brooklyn['grade_span_max'] >= 9)\n",
    "    ]\n",
    "\n",
    "brooklyn_schools_grade9_count = brooklyn_schools_grade9['dbn'].nunique()\n",
    "brooklyn_schools_grade9_count"
   ]
  },
  {
   "cell_type": "markdown",
   "id": "254fc324",
   "metadata": {},
   "source": [
    "Answer: All 121 schools in Brooklyn offer grade 9."
   ]
  },
  {
   "cell_type": "markdown",
   "id": "10a151d7",
   "metadata": {},
   "source": [
    "Group and Summarize"
   ]
  },
  {
   "cell_type": "markdown",
   "id": "4de27527",
   "metadata": {},
   "source": [
    "Q: Count of schools per borough (again unique schools)"
   ]
  },
  {
   "cell_type": "code",
   "execution_count": 17,
   "id": "09eb4015",
   "metadata": {},
   "outputs": [
    {
     "data": {
      "text/plain": [
       "borough\n",
       "Bronx            118\n",
       "Brooklyn         121\n",
       "Manhattan        106\n",
       "Queens            80\n",
       "Staten Island     10\n",
       "Name: dbn, dtype: int64"
      ]
     },
     "execution_count": 17,
     "metadata": {},
     "output_type": "execute_result"
    }
   ],
   "source": [
    "df.groupby('borough')['dbn'].nunique()"
   ]
  },
  {
   "cell_type": "markdown",
   "id": "4d11bc21",
   "metadata": {},
   "source": [
    "Q: Average number of students per borough"
   ]
  },
  {
   "cell_type": "code",
   "execution_count": 18,
   "id": "11944a6f",
   "metadata": {},
   "outputs": [
    {
     "data": {
      "text/plain": [
       "borough\n",
       "Bronx             490.41\n",
       "Brooklyn          699.13\n",
       "Manhattan         589.83\n",
       "Queens           1046.64\n",
       "Staten Island    1847.50\n",
       "Name: total_students, dtype: float64"
      ]
     },
     "execution_count": 18,
     "metadata": {},
     "output_type": "execute_result"
    }
   ],
   "source": [
    "df.groupby('borough')['total_students'].mean().round(2)"
   ]
  },
  {
   "cell_type": "markdown",
   "id": "3fb3ec77",
   "metadata": {},
   "source": [
    "Q: Summary of grade_span_max grouped by borough"
   ]
  },
  {
   "cell_type": "code",
   "execution_count": 19,
   "id": "65338727",
   "metadata": {},
   "outputs": [
    {
     "data": {
      "text/html": [
       "<div>\n",
       "<style scoped>\n",
       "    .dataframe tbody tr th:only-of-type {\n",
       "        vertical-align: middle;\n",
       "    }\n",
       "\n",
       "    .dataframe tbody tr th {\n",
       "        vertical-align: top;\n",
       "    }\n",
       "\n",
       "    .dataframe thead th {\n",
       "        text-align: right;\n",
       "    }\n",
       "</style>\n",
       "<table border=\"1\" class=\"dataframe\">\n",
       "  <thead>\n",
       "    <tr style=\"text-align: right;\">\n",
       "      <th></th>\n",
       "      <th>count</th>\n",
       "      <th>mean</th>\n",
       "      <th>std</th>\n",
       "      <th>min</th>\n",
       "      <th>25%</th>\n",
       "      <th>50%</th>\n",
       "      <th>75%</th>\n",
       "      <th>max</th>\n",
       "    </tr>\n",
       "    <tr>\n",
       "      <th>borough</th>\n",
       "      <th></th>\n",
       "      <th></th>\n",
       "      <th></th>\n",
       "      <th></th>\n",
       "      <th></th>\n",
       "      <th></th>\n",
       "      <th></th>\n",
       "      <th></th>\n",
       "    </tr>\n",
       "  </thead>\n",
       "  <tbody>\n",
       "    <tr>\n",
       "      <th>Bronx</th>\n",
       "      <td>118.0</td>\n",
       "      <td>11.91</td>\n",
       "      <td>0.37</td>\n",
       "      <td>9.0</td>\n",
       "      <td>12.0</td>\n",
       "      <td>12.0</td>\n",
       "      <td>12.0</td>\n",
       "      <td>12.0</td>\n",
       "    </tr>\n",
       "    <tr>\n",
       "      <th>Brooklyn</th>\n",
       "      <td>121.0</td>\n",
       "      <td>11.93</td>\n",
       "      <td>0.38</td>\n",
       "      <td>9.0</td>\n",
       "      <td>12.0</td>\n",
       "      <td>12.0</td>\n",
       "      <td>12.0</td>\n",
       "      <td>12.0</td>\n",
       "    </tr>\n",
       "    <tr>\n",
       "      <th>Manhattan</th>\n",
       "      <td>106.0</td>\n",
       "      <td>11.88</td>\n",
       "      <td>0.47</td>\n",
       "      <td>9.0</td>\n",
       "      <td>12.0</td>\n",
       "      <td>12.0</td>\n",
       "      <td>12.0</td>\n",
       "      <td>12.0</td>\n",
       "    </tr>\n",
       "    <tr>\n",
       "      <th>Queens</th>\n",
       "      <td>80.0</td>\n",
       "      <td>11.82</td>\n",
       "      <td>0.50</td>\n",
       "      <td>10.0</td>\n",
       "      <td>12.0</td>\n",
       "      <td>12.0</td>\n",
       "      <td>12.0</td>\n",
       "      <td>12.0</td>\n",
       "    </tr>\n",
       "    <tr>\n",
       "      <th>Staten Island</th>\n",
       "      <td>10.0</td>\n",
       "      <td>12.00</td>\n",
       "      <td>0.00</td>\n",
       "      <td>12.0</td>\n",
       "      <td>12.0</td>\n",
       "      <td>12.0</td>\n",
       "      <td>12.0</td>\n",
       "      <td>12.0</td>\n",
       "    </tr>\n",
       "  </tbody>\n",
       "</table>\n",
       "</div>"
      ],
      "text/plain": [
       "               count   mean   std   min   25%   50%   75%   max\n",
       "borough                                                        \n",
       "Bronx          118.0  11.91  0.37   9.0  12.0  12.0  12.0  12.0\n",
       "Brooklyn       121.0  11.93  0.38   9.0  12.0  12.0  12.0  12.0\n",
       "Manhattan      106.0  11.88  0.47   9.0  12.0  12.0  12.0  12.0\n",
       "Queens          80.0  11.82  0.50  10.0  12.0  12.0  12.0  12.0\n",
       "Staten Island   10.0  12.00  0.00  12.0  12.0  12.0  12.0  12.0"
      ]
     },
     "execution_count": 19,
     "metadata": {},
     "output_type": "execute_result"
    }
   ],
   "source": [
    "df.groupby('borough')['grade_span_max'].describe().round(2)"
   ]
  },
  {
   "cell_type": "markdown",
   "id": "6ae97c7a",
   "metadata": {},
   "source": [
    "Visualization"
   ]
  },
  {
   "cell_type": "markdown",
   "id": "e087e745",
   "metadata": {},
   "source": [
    "Q: Bar chart: Number of schools per borough"
   ]
  },
  {
   "cell_type": "code",
   "execution_count": 20,
   "id": "aa97bcd0",
   "metadata": {},
   "outputs": [
    {
     "data": {
      "image/png": "[encoded data removed]",
      "text/plain": [
       "<Figure size 1000x600 with 1 Axes>"
      ]
     },
     "metadata": {},
     "output_type": "display_data"
    }
   ],
   "source": [
    "schools_per_borough = df.groupby('borough')['dbn'].nunique()\n",
    "chart = schools_per_borough.plot(kind='bar', color='blue', figsize=(10, 6))\n",
    "\n",
    "# Add titles and labels\n",
    "chart.set_title('Number of Schools per Borough', fontsize=16)\n",
    "chart.set_xlabel('Borough', fontsize=14)\n",
    "chart.set_ylabel('Number of Schools', fontsize=14)\n",
    "plt.xticks(rotation=0)\n",
    "\n",
    "# Add the values for each bar\n",
    "for i, value in enumerate(schools_per_borough):\n",
    "    chart.text(i, value + 1, str(value), ha='center', fontsize=10)\n",
    "\n",
    "plt.show()"
   ]
  },
  {
   "cell_type": "markdown",
   "id": "9deb8b9d",
   "metadata": {},
   "source": [
    "Insights"
   ]
  },
  {
   "cell_type": "code",
   "execution_count": 24,
   "id": "71a30071",
   "metadata": {},
   "outputs": [
    {
     "data": {
      "image/png": "[encoded data removed]",
      "text/plain": [
       "<Figure size 1000x600 with 1 Axes>"
      ]
     },
     "metadata": {},
     "output_type": "display_data"
    }
   ],
   "source": [
    "# distribution of starting grades by borough\n",
    "grade_start_dist = (\n",
    "    df.groupby(['borough', 'grade_span_min'])['dbn']\n",
    "      .nunique()\n",
    "      .unstack(fill_value=0)\n",
    ")\n",
    "\n",
    "# Plot\n",
    "ax = grade_start_dist.plot(kind='bar', stacked=False, figsize=(10,6))\n",
    "ax.set_title('Starting Grade Distribution by Borough')\n",
    "ax.set_xlabel('Borough')\n",
    "ax.set_ylabel('Number of Schools')\n",
    "ax.legend(title='Starting Grade')\n",
    "plt.xticks(rotation=0)\n",
    "\n",
    "plt.show()"
   ]
  },
  {
   "cell_type": "markdown",
   "id": "72d33352",
   "metadata": {},
   "source": [
    "Insight: \n",
    "- Only a small number of schools in Queens start with Grade 7.\n",
    "- Staten Island is unique in schools starting with Grade 9.\n",
    "- Every Borough has a lot more schools starting with Grade 9 than grade 7."
   ]
  },
  {
   "cell_type": "code",
   "execution_count": 26,
   "id": "4e7c1d30",
   "metadata": {},
   "outputs": [
    {
     "data": {
      "text/html": [
       "<div>\n",
       "<style scoped>\n",
       "    .dataframe tbody tr th:only-of-type {\n",
       "        vertical-align: middle;\n",
       "    }\n",
       "\n",
       "    .dataframe tbody tr th {\n",
       "        vertical-align: top;\n",
       "    }\n",
       "\n",
       "    .dataframe thead th {\n",
       "        text-align: right;\n",
       "    }\n",
       "</style>\n",
       "<table border=\"1\" class=\"dataframe\">\n",
       "  <thead>\n",
       "    <tr style=\"text-align: right;\">\n",
       "      <th></th>\n",
       "      <th>total_students_sum</th>\n",
       "      <th>total_students_mean</th>\n",
       "      <th>unique_schools</th>\n",
       "    </tr>\n",
       "    <tr>\n",
       "      <th>borough</th>\n",
       "      <th></th>\n",
       "      <th></th>\n",
       "      <th></th>\n",
       "    </tr>\n",
       "  </thead>\n",
       "  <tbody>\n",
       "    <tr>\n",
       "      <th>Bronx</th>\n",
       "      <td>57868.0</td>\n",
       "      <td>490.41</td>\n",
       "      <td>118</td>\n",
       "    </tr>\n",
       "    <tr>\n",
       "      <th>Brooklyn</th>\n",
       "      <td>83197.0</td>\n",
       "      <td>699.13</td>\n",
       "      <td>121</td>\n",
       "    </tr>\n",
       "    <tr>\n",
       "      <th>Manhattan</th>\n",
       "      <td>60752.0</td>\n",
       "      <td>589.83</td>\n",
       "      <td>106</td>\n",
       "    </tr>\n",
       "    <tr>\n",
       "      <th>Queens</th>\n",
       "      <td>79545.0</td>\n",
       "      <td>1046.64</td>\n",
       "      <td>80</td>\n",
       "    </tr>\n",
       "    <tr>\n",
       "      <th>Staten Island</th>\n",
       "      <td>18475.0</td>\n",
       "      <td>1847.50</td>\n",
       "      <td>10</td>\n",
       "    </tr>\n",
       "  </tbody>\n",
       "</table>\n",
       "</div>"
      ],
      "text/plain": [
       "               total_students_sum  total_students_mean  unique_schools\n",
       "borough                                                               \n",
       "Bronx                     57868.0               490.41             118\n",
       "Brooklyn                  83197.0               699.13             121\n",
       "Manhattan                 60752.0               589.83             106\n",
       "Queens                    79545.0              1046.64              80\n",
       "Staten Island             18475.0              1847.50              10"
      ]
     },
     "execution_count": 26,
     "metadata": {},
     "output_type": "execute_result"
    }
   ],
   "source": [
    "df.groupby('borough').agg(\n",
    "                         total_students_sum=('total_students', 'sum'),\n",
    "                         total_students_mean=('total_students', 'mean'),\n",
    "                            unique_schools=('dbn', 'nunique')\n",
    "                        ).round(2)"
   ]
  },
  {
   "cell_type": "markdown",
   "id": "bbacd0dc",
   "metadata": {},
   "source": [
    "Insight: \n",
    "- Even though Staten Island has the least number of schools it has higher average of students.\n",
    "- Staten Island school sizes must be bigger than the other Boroughs."
   ]
  }
 ],
 "metadata": {
  "kernelspec": {
   "display_name": "base",
   "language": "python",
   "name": "python3"
  },
  "language_info": {
   "codemirror_mode": {
    "name": "ipython",
    "version": 3
   },
   "file_extension": ".py",
   "mimetype": "text/x-python",
   "name": "python",
   "nbconvert_exporter": "python",
   "pygments_lexer": "ipython3",
   "version": "3.13.5"
  }
 },
 "nbformat": 4,
 "nbformat_minor": 5
}
