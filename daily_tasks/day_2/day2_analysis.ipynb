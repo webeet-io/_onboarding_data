{
 "cells": [
  {
   "cell_type": "markdown",
   "id": "c358dece",
   "metadata": {},
   "source": [
    "# NYC High School Directory – Data Exploration\n",
    "\n",
    "**Author:** Lars Petschke\n",
    "\n",
    "**Date:**   09/17/2025\n"
   ]
  },
  {
   "cell_type": "markdown",
   "id": "0ec0de07",
   "metadata": {},
   "source": [
    "\n",
    "## 0. Load and Preview Data"
   ]
  },
  {
   "cell_type": "code",
   "execution_count": 1,
   "id": "6214a4af",
   "metadata": {},
   "outputs": [
    {
     "data": {
      "application/vnd.microsoft.datawrangler.viewer.v0+json": {
       "columns": [
        {
         "name": "index",
         "rawType": "int64",
         "type": "integer"
        },
        {
         "name": "dbn",
         "rawType": "object",
         "type": "string"
        },
        {
         "name": "school_name",
         "rawType": "object",
         "type": "string"
        },
        {
         "name": "borough",
         "rawType": "object",
         "type": "string"
        },
        {
         "name": "building_code",
         "rawType": "object",
         "type": "string"
        },
        {
         "name": "phone_number",
         "rawType": "object",
         "type": "string"
        },
        {
         "name": "fax_number",
         "rawType": "object",
         "type": "string"
        },
        {
         "name": "grade_span_min",
         "rawType": "float64",
         "type": "float"
        },
        {
         "name": "grade_span_max",
         "rawType": "int64",
         "type": "integer"
        },
        {
         "name": "expgrade_span_min",
         "rawType": "float64",
         "type": "float"
        },
        {
         "name": "expgrade_span_max",
         "rawType": "float64",
         "type": "float"
        },
        {
         "name": "bus",
         "rawType": "object",
         "type": "string"
        },
        {
         "name": "subway",
         "rawType": "object",
         "type": "unknown"
        },
        {
         "name": "primary_address_line_1",
         "rawType": "object",
         "type": "string"
        },
        {
         "name": "city",
         "rawType": "object",
         "type": "string"
        },
        {
         "name": "state_code",
         "rawType": "object",
         "type": "string"
        },
        {
         "name": "postcode",
         "rawType": "int64",
         "type": "integer"
        },
        {
         "name": "website",
         "rawType": "object",
         "type": "string"
        },
        {
         "name": "total_students",
         "rawType": "float64",
         "type": "float"
        },
        {
         "name": "campus_name",
         "rawType": "object",
         "type": "unknown"
        },
        {
         "name": "school_type",
         "rawType": "object",
         "type": "unknown"
        },
        {
         "name": "overview_paragraph",
         "rawType": "object",
         "type": "string"
        },
        {
         "name": "program_highlights",
         "rawType": "object",
         "type": "string"
        },
        {
         "name": "language_classes",
         "rawType": "object",
         "type": "string"
        },
        {
         "name": "advancedplacement_courses",
         "rawType": "object",
         "type": "unknown"
        },
        {
         "name": "online_ap_courses",
         "rawType": "object",
         "type": "unknown"
        },
        {
         "name": "online_language_courses",
         "rawType": "object",
         "type": "unknown"
        },
        {
         "name": "extracurricular_activities",
         "rawType": "object",
         "type": "string"
        },
        {
         "name": "psal_sports_boys",
         "rawType": "object",
         "type": "unknown"
        },
        {
         "name": "psal_sports_girls",
         "rawType": "object",
         "type": "unknown"
        },
        {
         "name": "psal_sports_coed",
         "rawType": "object",
         "type": "unknown"
        },
        {
         "name": "school_sports",
         "rawType": "object",
         "type": "unknown"
        },
        {
         "name": "partner_cbo",
         "rawType": "object",
         "type": "unknown"
        },
        {
         "name": "partner_hospital",
         "rawType": "object",
         "type": "unknown"
        },
        {
         "name": "partner_highered",
         "rawType": "object",
         "type": "string"
        },
        {
         "name": "partner_cultural",
         "rawType": "object",
         "type": "unknown"
        },
        {
         "name": "partner_nonprofit",
         "rawType": "object",
         "type": "string"
        },
        {
         "name": "partner_corporate",
         "rawType": "object",
         "type": "unknown"
        },
        {
         "name": "partner_financial",
         "rawType": "object",
         "type": "unknown"
        },
        {
         "name": "partner_other",
         "rawType": "object",
         "type": "unknown"
        },
        {
         "name": "addtl_info1",
         "rawType": "object",
         "type": "string"
        },
        {
         "name": "addtl_info2",
         "rawType": "object",
         "type": "unknown"
        },
        {
         "name": "start_time",
         "rawType": "object",
         "type": "string"
        },
        {
         "name": "end_time",
         "rawType": "object",
         "type": "string"
        },
        {
         "name": "se_services",
         "rawType": "object",
         "type": "string"
        },
        {
         "name": "ell_programs",
         "rawType": "object",
         "type": "string"
        },
        {
         "name": "school_accessibility_description",
         "rawType": "object",
         "type": "string"
        },
        {
         "name": "number_programs",
         "rawType": "int64",
         "type": "integer"
        },
        {
         "name": "priority01",
         "rawType": "object",
         "type": "string"
        },
        {
         "name": "priority02",
         "rawType": "object",
         "type": "string"
        },
        {
         "name": "priority03",
         "rawType": "object",
         "type": "unknown"
        },
        {
         "name": "priority04",
         "rawType": "object",
         "type": "unknown"
        },
        {
         "name": "priority05",
         "rawType": "object",
         "type": "unknown"
        },
        {
         "name": "priority06",
         "rawType": "object",
         "type": "unknown"
        },
        {
         "name": "priority07",
         "rawType": "object",
         "type": "unknown"
        },
        {
         "name": "priority08",
         "rawType": "object",
         "type": "unknown"
        },
        {
         "name": "priority09",
         "rawType": "object",
         "type": "unknown"
        },
        {
         "name": "priority10",
         "rawType": "object",
         "type": "unknown"
        },
        {
         "name": "Location 1",
         "rawType": "object",
         "type": "string"
        },
        {
         "name": "Community Board",
         "rawType": "float64",
         "type": "float"
        },
        {
         "name": "Council District",
         "rawType": "float64",
         "type": "float"
        },
        {
         "name": "Census Tract",
         "rawType": "float64",
         "type": "float"
        },
        {
         "name": "BIN",
         "rawType": "float64",
         "type": "float"
        },
        {
         "name": "BBL",
         "rawType": "float64",
         "type": "float"
        },
        {
         "name": "NTA",
         "rawType": "object",
         "type": "string"
        },
        {
         "name": "Zip Codes",
         "rawType": "float64",
         "type": "float"
        },
        {
         "name": "Community Districts",
         "rawType": "int64",
         "type": "integer"
        },
        {
         "name": "Borough Boundaries",
         "rawType": "int64",
         "type": "integer"
        },
        {
         "name": "City Council Districts",
         "rawType": "int64",
         "type": "integer"
        },
        {
         "name": "Police Precincts",
         "rawType": "int64",
         "type": "integer"
        }
       ],
       "ref": "3b494fcf-1c8a-4ff3-9cfe-6032916bd3c9",
       "rows": [
        [
         "0",
         "27Q260",
         "Frederick Douglass Academy VI High School",
         "Queens",
         "Q465",
         "718-471-2154",
         "718-471-2890",
         "9.0",
         "12",
         null,
         null,
         "Q113, Q22",
         "A to Beach 25th St-Wavecrest",
         "8-21 Bay 25 Street",
         "Far Rockaway",
         "NY",
         "11691",
         "http://schools.nyc.gov/schoolportals/27/Q260",
         "412.0",
         "Far Rockaway Educational Campus",
         null,
         "Frederick Douglass Academy (FDA) VI High School is a high school built on Dr. Lorraine Monroe’s vision of academic and personal excellence for all students. The emphasis on college preparation is supported by a challenging academic program and cultural enrichment. A set of core rules visible at every Frederick Douglass Academy signals the seriousness of purpose for the school, its students and teachers. All students must adhere to a code of student conduct, the Scholar’s Creed and a strict uniform code. Students are also required to participate in extensive after-school academic enrichment programs.",
         "Advisory, Graphic Arts Design, Teaching Internship; College tours: citywide for freshmen, statewide for sophomores and out-of-state for juniors; National and international educational trips",
         "Spanish",
         "Calculus AB, English Language and Composition, English Literature and Composition, United States History",
         "Biology, Physics B",
         "French, Spanish",
         "After-school Program, Book, Writing, Homework Help, Honor Society, Journalism, Lunch & Learn, PSAT and SAT Prep, Saturday Program, Step Team, Student Government, Summer Institute, Video, Tech, Yearbook, Computer Graphics, Robotics, Cheerleading",
         "Basketball, Cross Country, Indoor Track, Outdoor Track, Soccer, Softball, Swimming, Tennis, Volleyball",
         "Basketball, Cross Country, Indoor Track, Outdoor Track, Soccer, Softball, Swimming, Tennis, Volleyball",
         null,
         "Step Team, Modern Dance, Hip Hop Dance",
         null,
         "Jamaica Hospital Medical Center, Peninsula Hospital Center",
         "York College, Brooklyn College, St. John's College",
         null,
         "Queens District Attorney, Sports and Arts Foundation, CMS",
         "Replications, Inc.",
         "Citibank",
         "New York Road Runners Foundation (NYRRF)",
         "Uniform Required: plain white collared shirt, black pants/skirt, FDA tie/FDA scarf, black shoes",
         "Extended Day Program, Student Summer Orientation, Summer Internship Program offered, Weekend Program offered",
         "7:45 AM",
         "2:05 PM",
         "This school will provide students with disabilities the supports and services indicated on their IEPs.",
         "ESL",
         "Not Functionally Accessible",
         "1",
         "Priority to Queens students or residents who attend an information session",
         "Then to New York City residents who attend an information session",
         "Then to Queens students or residents",
         "Then to New York City residents",
         null,
         null,
         null,
         null,
         null,
         null,
         "{'latitude': '40.601989336', 'longitude': '-73.762834323', 'human_address': '{\"address\": \"8 21 Bay 25 Street\", \"city\": \"Far Rockaway\", \"state\": \"NY\", \"zip\": \"11691\"}'}",
         "14.0",
         "31.0",
         "100802.0",
         "4300730.0",
         "4157360001.0",
         "Far Rockaway-Bayswater                                                     ",
         "20529.0",
         "51",
         "3",
         "47",
         "59"
        ],
        [
         "1",
         "21K559",
         "Life Academy High School for Film and Music",
         "Brooklyn",
         "K400",
         "718-333-7750",
         "718-333-7775",
         "9.0",
         "12",
         null,
         null,
         "B1, B3, B4, B6, B64, B82",
         "D to 25th Ave ; N to Ave U ; N to Gravesend - 86th St",
         "2630 Benson Avenue",
         "Brooklyn",
         "NY",
         "11214",
         "http://schools.nyc.gov/schoolportals/21/K559",
         "260.0",
         "Lafayette Educational Campus",
         null,
         "At Life Academy High School for Film and Music, we infuse the study of film, the art of filmmaking, audio production and new media into engaging, student-centered and project-based courses. We focus on building communication skills in writing, presentation and creativity. Our Advisory program helps each student develop personal relationships and positive citizenship. We seek students who want to learn in an exciting atmosphere of excellence and creative collaboration.",
         "College Now, iLEARN courses, Art and Film Production courses including film, set design, audio production, cinematography, animation, storyboarding art",
         "Spanish",
         null,
         "Biology, English Literature and Composition, European History, United States History, World History",
         null,
         "Film, Music, Talent Show, Holiday Concert, Student Council, After school tutoring in content areas, iLEARN courses, and other programs of student interest based on grant funding.",
         "Basketball, Bowling, Indoor Track, Soccer, Softball, Volleyball",
         "Basketball, Bowling, Indoor Track, Soccer, Softball, Volleyball",
         "Cricket",
         null,
         "Coney Island Generation Gap",
         null,
         "City Tech, Kingsborough Early College Secondary School, City University of New Jersey",
         "Museum of the Moving Image, New York Public Library",
         "Institute for Student Achievement",
         "Film Life, Inc., SONY Wonder Tech",
         null,
         null,
         "Our school requires completion of a Common Core Learning Standards Skills Portfolio for Assessment in every class",
         null,
         "8:15 AM",
         "3:00 PM",
         "This school will provide students with disabilities the supports and services indicated on their IEPs.",
         "ESL",
         "Functionally Accessible",
         "1",
         "Priority to New York City residents who attend an information session",
         "Then to New York City residents",
         null,
         null,
         null,
         null,
         null,
         null,
         null,
         null,
         "{'latitude': '40.593593811', 'longitude': '-73.984729232', 'human_address': '{\"address\": \"2630 Benson Avenue\", \"city\": \"Brooklyn\", \"state\": \"NY\", \"zip\": \"11214\"}'}",
         "13.0",
         "47.0",
         "306.0",
         "3186454.0",
         "3068830001.0",
         "Gravesend                                                                  ",
         "17616.0",
         "21",
         "2",
         "45",
         "35"
        ],
        [
         "2",
         "16K393",
         "Frederick Douglass Academy IV Secondary School",
         "Brooklyn",
         "K026",
         "718-574-2820",
         "718-574-2821",
         "9.0",
         "12",
         null,
         null,
         "B15, B38, B46, B47, B52, B54, Q24",
         "J to Kosciusko St ; M, Z to Myrtle Ave",
         "1014 Lafayette Avenue",
         "Brooklyn",
         "NY",
         "11221",
         "http://schools.nyc.gov/schoolportals/16/K393",
         "155.0",
         null,
         null,
         "The Frederick Douglass Academy IV (FDA IV) Secondary School is a place of scholarship. Our students are considered scholars. We create an atmosphere of order, civility, maturity and seriousness of purpose. A set of core rules referred to as the ‘twelve non-negotiables’ establish and maintain this environment. Scholars at the Frederick Douglas Academy IV Secondary School are instilled with a Scholar’s Creed, adapted from the Morehouse College Students’ Creed, that reinforces the school’s cohesive culture, underscores its high expectations and builds the scholars’ sense of pride in their school and themselves.",
         "College Now with Medgar Evers College, Fresh Prep Core, Science, Technology, Engineering & Mathematics (STEM) Robotics with New York City College of Technology, Dance4Peace",
         "French, Spanish",
         "English Language and Composition, United States History",
         "French Language and Culture",
         null,
         "After-school and Saturday Programs, Art Studio Group, Book, Cheerleading Team, Chess Team, Dance, Dance Ensemble, Homework Help, Lunch and Learn, Peer Mediation, Music, PSAT/SAT Prep, Scholars Government Association (SGA), Step Team, Summer Institute, Achieving Change in our Neighborhood (Teen Action), Violin, String Instruments, CHAMPS, School Leadership Team, Financial Literacy, Yoga, Anti-Bullying, Violence Prevention, Yearbook",
         null,
         null,
         null,
         "Basketball Team",
         "Achieving Change in our Neighborhood (Teen ACTION) St.Nicks Alliance, New York City College of Technology – STEM Robotics, Fresh Prep and New York Hall of Science",
         null,
         "Medgar Evers College",
         "Noel Pointer School of Music",
         "Hip-Hop 4 Life, Urban Arts, and St. Nicks Alliance",
         null,
         null,
         null,
         "Dress Code Required: solid white shirt/blouse, navy blue blazer, gray pants/skirt, navy blue tie/scarf, black dress shoes, Participation in our 2-day FDA IV Prep Institute (Orientation) is required for incoming students, Extended Day Program",
         "Student Summer Orientation, Weekend Program offered",
         "8:00 AM",
         "2:20 PM",
         "This school will provide students with disabilities the supports and services indicated on their IEPs.",
         "ESL",
         "Not Functionally Accessible",
         "1",
         "Priority to continuing 8th graders",
         "Then to Brooklyn students or residents who attend an information session",
         "Then to New York City residents who attend an information session",
         "Then to Brooklyn students or residents",
         "Then to New York City residents",
         null,
         null,
         null,
         null,
         null,
         "{'latitude': '40.692133704', 'longitude': '-73.931503172', 'human_address': '{\"address\": \"1014 Lafayette Avenue\", \"city\": \"Brooklyn\", \"state\": \"NY\", \"zip\": \"11221\"}'}",
         "3.0",
         "36.0",
         "291.0",
         "3393805.0",
         "3016160001.0",
         "Stuyvesant Heights                                                         ",
         "18181.0",
         "69",
         "2",
         "49",
         "52"
        ],
        [
         "3",
         "08X305",
         "Pablo Neruda Academy",
         "Bronx",
         "X450",
         "718-824-1682",
         "718-824-1663",
         "9.0",
         "12",
         null,
         null,
         "Bx22, Bx27, Bx36, Bx39, Bx5",
         null,
         "1980 Lafayette Avenue",
         "Bronx",
         "NY",
         "10473",
         "www.pablonerudaacademy.org",
         "335.0",
         "Adlai E. Stevenson Educational Campus",
         null,
         "Our mission is to engage, inspire, and educate our students so that they develop skills to succeed in college and beyond. Our students work in small groups, guided by skilled and caring teachers, to solve challenging problems. Each student is well-known by staff members, and is assigned an advisor who works closely with them each week to monitor their progress. We celebrate successes and students are recognized for their accomplishments.",
         "Advanced Placement courses, Electives courses including: Art & Design, Criminal Justice, Entrepreneurship, Careers & Internships, and Advanced Art; Student Learning Communities, Internship Opportunities, Individualized Student Programming, Credit-bearing Online Courses (iLearn) and After-school Enrichment Classes; College Now & JumpStart (Credit-bearing College Courses)",
         "Spanish",
         "Art History, English Language and Composition, English Literature and Composition, United States Government and Politics",
         null,
         "Spanish",
         "Youth Court, Student Government, Youth Service, Youth Service Leaders, Art, Graffiti Mural, Yearbook, Homework Help & Tutoring Services, Regents Prep, Saturday Academy, Senior Committee, Video Game, Yoga, Dance, Digital Media, Book, Chess, Soccer, Softball, Basketball Intramurals, National Honor Society",
         "Basketball, Outdoor Track, Softball, Tennis, Volleyball",
         "Basketball, Outdoor Track, Softball, Tennis, Volleyball",
         null,
         "Baseball, Basketball, Flag Football, Soccer, Softball, Volleyball",
         null,
         "Soundview Health Center, Bronx Lebanon Hospital Center, Montefiore Medical Center",
         "Hostos Community College, Monroe College, Lehman College",
         "Chilean Consulate, Materials for the Arts",
         "Network for Teaching Entrepreneurship (NFTE), BISCEP (The Leadership Program), New York Cares, Institute for Student Achievement (ISA), PENCIL",
         null,
         null,
         "iLearnNYC",
         "All students are individually programmed (based on academic needs), Incoming 9th grade students attend our Summer Orientation Session, All students are assigned to a small Student Learning Community that meets twice a week, College preparation begins in 9th grade and continues through 12th grade; this preparation includes College Trips (in-state, out-of-state, trade schools), College Fairs, College Workshops",
         "Extended Day Program",
         "8:00 AM",
         "3:50 PM",
         "This school will provide students with disabilities the supports and services indicated on their IEPs.",
         "ESL",
         "Functionally Accessible",
         "1",
         "Priority to Bronx students or residents who attend an information session",
         "Then to New York City residents who attend an information session",
         "Then to Bronx students or residents",
         "Then to New York City residents",
         null,
         null,
         null,
         null,
         null,
         null,
         "{'latitude': '40.822303765', 'longitude': '-73.85596139', 'human_address': '{\"address\": \"1980 Lafayette Avenue\", \"city\": \"Bronx\", \"state\": \"NY\", \"zip\": \"10473\"}'}",
         "9.0",
         "18.0",
         "16.0",
         "2022205.0",
         "2036040039.0",
         "Soundview-Castle Hill-Clason Point-Harding Park                            ",
         "11611.0",
         "58",
         "5",
         "31",
         "26"
        ],
        [
         "4",
         "03M485",
         "Fiorello H. LaGuardia High School of Music & Art and Performing Arts",
         "Manhattan",
         "M485",
         "212-496-0700",
         "212-724-5748",
         "9.0",
         "12",
         null,
         null,
         "M10, M104, M11, M20, M31, M5, M57, M66, M7, M72",
         "1 to 66th St - Lincoln Center ; 2, 3 to 72nd St ; A, B, C, D to 59th St-Columbus Circle",
         "100 Amsterdam Avenue",
         "New York",
         "NY",
         "10023",
         "www.laguardiahs.org",
         "2730.0",
         null,
         "Specialized School",
         "We enjoy an international reputation as the first and foremost high school dedicated to nurturing students gifted in the arts. Our mission is to provide an opportunity for students to pursue both a rigorous conservatory-style training and a challenging academic program. Our building features world-class facilities including a concert hall; art, dance, music, recording and theater studios, science and computer labs, and an art gallery. Almost all of our graduates continue their studies, gaining admission to highly selective schools. Our graduates have distinguished themselves in virtually every field, including the arts and sciences, medicine, law, business, education and public service.",
         "Students have a daily program that includes both a multi-period conservatory studio block and a full college preparatory academic course load. The studio majors are: Dance, Drama, Fine Arts, Instrumental Music, Technical Theater and Vocal Music. Each studio has a four-year sequence of courses and opportunities for students to participate in performances and exhibitions. Students completing the applicable NYC Studio Comprehensive exam receive a special endorsement on their diploma. Honors courses are offered in all academic areas starting in the freshman year, leading to a full complement of Advanced Placement courses.",
         "French, Italian, Japanese, Spanish",
         "Art History, Biology, Calculus AB, Calculus BC, Chemistry, Comparative Government and Politics, English Language and Composition, English Literature and Composition, Environmental Science, European History, French Language and Culture, Italian Language and Culture, Japanese Language and Culture, Music Theory, Physics B, Psychology, Spanish Language and Culture, Statistics, Studio Art: 2-D Design, Studio Art: 3-D Design, Studio Art: Drawing, United States Government and Politics, United States History, World History",
         null,
         "Spanish",
         "Amnesty International, Anime, Annual Musical, Arista, Art Exhibits, ASPIRA, Black Student Union, Chinese Student Association, Claymazing, Comic Book, Cult Classics, Dance Programs, DaVinci Scholars Program, Debate Team, Disney VoluntEars, Drama Festivals, Environmental, Fashion, Film, Future Voters of America, Gay/Straight Alliance, Girls Learn International, Habitat for Humanity, Harry Potter, Independent Film, Jewish Union, Literary Magazine, Math Team, Mock Trial, Moot Court, Murals, National Honor Society, National Language Honors Society, Newspaper, Orchestral and Vocal Concerts, Random Acts of Kindness, Red Cross, Relay For Life, School Leadership Team (SLT), Science Outreach League, Shamisen, Social Action, Splashes of Hope, Student Government Organization, Ukulele For Good, Yearbook",
         "Basketball, Bowling, Cross Country, Fencing, Gymnastics, Handball, Indoor Track, Outdoor Track, Soccer, Softball, Swimming, Volleyball",
         "Basketball, Bowling, Cross Country, Fencing, Gymnastics, Handball, Indoor Track, Outdoor Track, Soccer, Softball, Swimming, Volleyball",
         null,
         null,
         "Lincoln Center for the Performing Arts",
         "Mount Sinai Medical Center",
         "The Cooper Union for the Advancement of Science and Art, Skidmore College, Sophie Davis School of Biomedical Education, New York University School of Medicine",
         "Lincoln Center for the Performing Arts, American Ballet Theater, Carnegie Hall, New York Philharmonic, Drama Desk, Metropolitan Opera, Interschool Orchestras of New York, New York Youth Symphony",
         "Junior Achievement, Red Cross, United Nations Association, American Cancer Society",
         "Sony Music, Warner Music Group, Capital Cities ABC, The Walt Disney Company",
         null,
         null,
         "Chancellor’s Arts Endorsed Diploma",
         null,
         "8:00 AM",
         "4:00 PM",
         "This school will provide students with disabilities the supports and services indicated on their IEPs.",
         "ESL",
         "Functionally Accessible",
         "6",
         "Open to New York City residents",
         "Admission is based on the outcome of a competitive audition and review of the student’s record",
         "Students must audition for each program (studio) to which they are applying",
         "Students must be residents of New York City at the time of audition",
         null,
         null,
         null,
         null,
         null,
         null,
         "{'latitude': '40.773670507', 'longitude': '-73.985268558', 'human_address': '{\"address\": \"100 Amsterdam Avenue\", \"city\": \"New York\", \"state\": \"NY\", \"zip\": \"10023\"}'}",
         "7.0",
         "6.0",
         "151.0",
         "1030341.0",
         "1011560030.0",
         "Lincoln Square                                                             ",
         "12420.0",
         "20",
         "4",
         "19",
         "12"
        ]
       ],
       "shape": {
        "columns": 69,
        "rows": 5
       }
      },
      "text/html": [
       "<div>\n",
       "<style scoped>\n",
       "    .dataframe tbody tr th:only-of-type {\n",
       "        vertical-align: middle;\n",
       "    }\n",
       "\n",
       "    .dataframe tbody tr th {\n",
       "        vertical-align: top;\n",
       "    }\n",
       "\n",
       "    .dataframe thead th {\n",
       "        text-align: right;\n",
       "    }\n",
       "</style>\n",
       "<table border=\"1\" class=\"dataframe\">\n",
       "  <thead>\n",
       "    <tr style=\"text-align: right;\">\n",
       "      <th></th>\n",
       "      <th>dbn</th>\n",
       "      <th>school_name</th>\n",
       "      <th>borough</th>\n",
       "      <th>building_code</th>\n",
       "      <th>phone_number</th>\n",
       "      <th>fax_number</th>\n",
       "      <th>grade_span_min</th>\n",
       "      <th>grade_span_max</th>\n",
       "      <th>expgrade_span_min</th>\n",
       "      <th>expgrade_span_max</th>\n",
       "      <th>...</th>\n",
       "      <th>Council District</th>\n",
       "      <th>Census Tract</th>\n",
       "      <th>BIN</th>\n",
       "      <th>BBL</th>\n",
       "      <th>NTA</th>\n",
       "      <th>Zip Codes</th>\n",
       "      <th>Community Districts</th>\n",
       "      <th>Borough Boundaries</th>\n",
       "      <th>City Council Districts</th>\n",
       "      <th>Police Precincts</th>\n",
       "    </tr>\n",
       "  </thead>\n",
       "  <tbody>\n",
       "    <tr>\n",
       "      <th>0</th>\n",
       "      <td>27Q260</td>\n",
       "      <td>Frederick Douglass Academy VI High School</td>\n",
       "      <td>Queens</td>\n",
       "      <td>Q465</td>\n",
       "      <td>718-471-2154</td>\n",
       "      <td>718-471-2890</td>\n",
       "      <td>9.0</td>\n",
       "      <td>12</td>\n",
       "      <td>NaN</td>\n",
       "      <td>NaN</td>\n",
       "      <td>...</td>\n",
       "      <td>31.0</td>\n",
       "      <td>100802.0</td>\n",
       "      <td>4300730.0</td>\n",
       "      <td>4.157360e+09</td>\n",
       "      <td>Far Rockaway-Bayswater                        ...</td>\n",
       "      <td>20529.0</td>\n",
       "      <td>51</td>\n",
       "      <td>3</td>\n",
       "      <td>47</td>\n",
       "      <td>59</td>\n",
       "    </tr>\n",
       "    <tr>\n",
       "      <th>1</th>\n",
       "      <td>21K559</td>\n",
       "      <td>Life Academy High School for Film and Music</td>\n",
       "      <td>Brooklyn</td>\n",
       "      <td>K400</td>\n",
       "      <td>718-333-7750</td>\n",
       "      <td>718-333-7775</td>\n",
       "      <td>9.0</td>\n",
       "      <td>12</td>\n",
       "      <td>NaN</td>\n",
       "      <td>NaN</td>\n",
       "      <td>...</td>\n",
       "      <td>47.0</td>\n",
       "      <td>306.0</td>\n",
       "      <td>3186454.0</td>\n",
       "      <td>3.068830e+09</td>\n",
       "      <td>Gravesend                                     ...</td>\n",
       "      <td>17616.0</td>\n",
       "      <td>21</td>\n",
       "      <td>2</td>\n",
       "      <td>45</td>\n",
       "      <td>35</td>\n",
       "    </tr>\n",
       "    <tr>\n",
       "      <th>2</th>\n",
       "      <td>16K393</td>\n",
       "      <td>Frederick Douglass Academy IV Secondary School</td>\n",
       "      <td>Brooklyn</td>\n",
       "      <td>K026</td>\n",
       "      <td>718-574-2820</td>\n",
       "      <td>718-574-2821</td>\n",
       "      <td>9.0</td>\n",
       "      <td>12</td>\n",
       "      <td>NaN</td>\n",
       "      <td>NaN</td>\n",
       "      <td>...</td>\n",
       "      <td>36.0</td>\n",
       "      <td>291.0</td>\n",
       "      <td>3393805.0</td>\n",
       "      <td>3.016160e+09</td>\n",
       "      <td>Stuyvesant Heights                            ...</td>\n",
       "      <td>18181.0</td>\n",
       "      <td>69</td>\n",
       "      <td>2</td>\n",
       "      <td>49</td>\n",
       "      <td>52</td>\n",
       "    </tr>\n",
       "    <tr>\n",
       "      <th>3</th>\n",
       "      <td>08X305</td>\n",
       "      <td>Pablo Neruda Academy</td>\n",
       "      <td>Bronx</td>\n",
       "      <td>X450</td>\n",
       "      <td>718-824-1682</td>\n",
       "      <td>718-824-1663</td>\n",
       "      <td>9.0</td>\n",
       "      <td>12</td>\n",
       "      <td>NaN</td>\n",
       "      <td>NaN</td>\n",
       "      <td>...</td>\n",
       "      <td>18.0</td>\n",
       "      <td>16.0</td>\n",
       "      <td>2022205.0</td>\n",
       "      <td>2.036040e+09</td>\n",
       "      <td>Soundview-Castle Hill-Clason Point-Harding Par...</td>\n",
       "      <td>11611.0</td>\n",
       "      <td>58</td>\n",
       "      <td>5</td>\n",
       "      <td>31</td>\n",
       "      <td>26</td>\n",
       "    </tr>\n",
       "    <tr>\n",
       "      <th>4</th>\n",
       "      <td>03M485</td>\n",
       "      <td>Fiorello H. LaGuardia High School of Music &amp; A...</td>\n",
       "      <td>Manhattan</td>\n",
       "      <td>M485</td>\n",
       "      <td>212-496-0700</td>\n",
       "      <td>212-724-5748</td>\n",
       "      <td>9.0</td>\n",
       "      <td>12</td>\n",
       "      <td>NaN</td>\n",
       "      <td>NaN</td>\n",
       "      <td>...</td>\n",
       "      <td>6.0</td>\n",
       "      <td>151.0</td>\n",
       "      <td>1030341.0</td>\n",
       "      <td>1.011560e+09</td>\n",
       "      <td>Lincoln Square                                ...</td>\n",
       "      <td>12420.0</td>\n",
       "      <td>20</td>\n",
       "      <td>4</td>\n",
       "      <td>19</td>\n",
       "      <td>12</td>\n",
       "    </tr>\n",
       "  </tbody>\n",
       "</table>\n",
       "<p>5 rows × 69 columns</p>\n",
       "</div>"
      ],
      "text/plain": [
       "      dbn                                        school_name    borough  \\\n",
       "0  27Q260          Frederick Douglass Academy VI High School     Queens   \n",
       "1  21K559        Life Academy High School for Film and Music   Brooklyn   \n",
       "2  16K393     Frederick Douglass Academy IV Secondary School   Brooklyn   \n",
       "3  08X305                               Pablo Neruda Academy      Bronx   \n",
       "4  03M485  Fiorello H. LaGuardia High School of Music & A...  Manhattan   \n",
       "\n",
       "  building_code  phone_number    fax_number  grade_span_min  grade_span_max  \\\n",
       "0          Q465  718-471-2154  718-471-2890             9.0              12   \n",
       "1          K400  718-333-7750  718-333-7775             9.0              12   \n",
       "2          K026  718-574-2820  718-574-2821             9.0              12   \n",
       "3          X450  718-824-1682  718-824-1663             9.0              12   \n",
       "4          M485  212-496-0700  212-724-5748             9.0              12   \n",
       "\n",
       "   expgrade_span_min  expgrade_span_max  ... Council District Census Tract  \\\n",
       "0                NaN                NaN  ...             31.0     100802.0   \n",
       "1                NaN                NaN  ...             47.0        306.0   \n",
       "2                NaN                NaN  ...             36.0        291.0   \n",
       "3                NaN                NaN  ...             18.0         16.0   \n",
       "4                NaN                NaN  ...              6.0        151.0   \n",
       "\n",
       "         BIN           BBL                                                NTA  \\\n",
       "0  4300730.0  4.157360e+09  Far Rockaway-Bayswater                        ...   \n",
       "1  3186454.0  3.068830e+09  Gravesend                                     ...   \n",
       "2  3393805.0  3.016160e+09  Stuyvesant Heights                            ...   \n",
       "3  2022205.0  2.036040e+09  Soundview-Castle Hill-Clason Point-Harding Par...   \n",
       "4  1030341.0  1.011560e+09  Lincoln Square                                ...   \n",
       "\n",
       "   Zip Codes Community Districts  Borough Boundaries City Council Districts  \\\n",
       "0    20529.0                  51                   3                     47   \n",
       "1    17616.0                  21                   2                     45   \n",
       "2    18181.0                  69                   2                     49   \n",
       "3    11611.0                  58                   5                     31   \n",
       "4    12420.0                  20                   4                     19   \n",
       "\n",
       "  Police Precincts  \n",
       "0               59  \n",
       "1               35  \n",
       "2               52  \n",
       "3               26  \n",
       "4               12  \n",
       "\n",
       "[5 rows x 69 columns]"
      ]
     },
     "execution_count": 1,
     "metadata": {},
     "output_type": "execute_result"
    }
   ],
   "source": [
    "import pandas as pd\n",
    "import matplotlib.pyplot as plt\n",
    "import seaborn as sns\n",
    "\n",
    "# Load the dataset\n",
    "df = pd.read_csv('day_2_datasets/high-school-directory.csv')\n",
    "\n",
    "# Preview the first few rows\n",
    "df.head()\n"
   ]
  },
  {
   "cell_type": "markdown",
   "id": "8ea79cbd",
   "metadata": {},
   "source": [
    "---\n",
    "\n",
    "## 1. Data Cleaning\n",
    "\n",
    "In a first step I standardize column names to make analysis easier and more consistent.\n"
   ]
  },
  {
   "cell_type": "code",
   "execution_count": 2,
   "id": "9c3ad92d",
   "metadata": {},
   "outputs": [
    {
     "data": {
      "application/vnd.microsoft.datawrangler.viewer.v0+json": {
       "columns": [
        {
         "name": "index",
         "rawType": "int64",
         "type": "integer"
        },
        {
         "name": "dbn",
         "rawType": "object",
         "type": "string"
        },
        {
         "name": "school_name",
         "rawType": "object",
         "type": "string"
        },
        {
         "name": "borough",
         "rawType": "object",
         "type": "string"
        },
        {
         "name": "building_code",
         "rawType": "object",
         "type": "string"
        },
        {
         "name": "phone_number",
         "rawType": "object",
         "type": "string"
        },
        {
         "name": "fax_number",
         "rawType": "object",
         "type": "string"
        },
        {
         "name": "grade_span_min",
         "rawType": "float64",
         "type": "float"
        },
        {
         "name": "grade_span_max",
         "rawType": "int64",
         "type": "integer"
        },
        {
         "name": "expgrade_span_min",
         "rawType": "float64",
         "type": "float"
        },
        {
         "name": "expgrade_span_max",
         "rawType": "float64",
         "type": "float"
        },
        {
         "name": "bus",
         "rawType": "object",
         "type": "string"
        },
        {
         "name": "subway",
         "rawType": "object",
         "type": "unknown"
        },
        {
         "name": "primary_address_line_1",
         "rawType": "object",
         "type": "string"
        },
        {
         "name": "city",
         "rawType": "object",
         "type": "string"
        },
        {
         "name": "state_code",
         "rawType": "object",
         "type": "string"
        },
        {
         "name": "postcode",
         "rawType": "int64",
         "type": "integer"
        },
        {
         "name": "website",
         "rawType": "object",
         "type": "string"
        },
        {
         "name": "total_students",
         "rawType": "float64",
         "type": "float"
        },
        {
         "name": "campus_name",
         "rawType": "object",
         "type": "unknown"
        },
        {
         "name": "school_type",
         "rawType": "object",
         "type": "unknown"
        },
        {
         "name": "overview_paragraph",
         "rawType": "object",
         "type": "string"
        },
        {
         "name": "program_highlights",
         "rawType": "object",
         "type": "string"
        },
        {
         "name": "language_classes",
         "rawType": "object",
         "type": "string"
        },
        {
         "name": "advancedplacement_courses",
         "rawType": "object",
         "type": "unknown"
        },
        {
         "name": "online_ap_courses",
         "rawType": "object",
         "type": "unknown"
        },
        {
         "name": "online_language_courses",
         "rawType": "object",
         "type": "unknown"
        },
        {
         "name": "extracurricular_activities",
         "rawType": "object",
         "type": "string"
        },
        {
         "name": "psal_sports_boys",
         "rawType": "object",
         "type": "unknown"
        },
        {
         "name": "psal_sports_girls",
         "rawType": "object",
         "type": "unknown"
        },
        {
         "name": "psal_sports_coed",
         "rawType": "object",
         "type": "unknown"
        },
        {
         "name": "school_sports",
         "rawType": "object",
         "type": "unknown"
        },
        {
         "name": "partner_cbo",
         "rawType": "object",
         "type": "unknown"
        },
        {
         "name": "partner_hospital",
         "rawType": "object",
         "type": "unknown"
        },
        {
         "name": "partner_highered",
         "rawType": "object",
         "type": "string"
        },
        {
         "name": "partner_cultural",
         "rawType": "object",
         "type": "unknown"
        },
        {
         "name": "partner_nonprofit",
         "rawType": "object",
         "type": "string"
        },
        {
         "name": "partner_corporate",
         "rawType": "object",
         "type": "unknown"
        },
        {
         "name": "partner_financial",
         "rawType": "object",
         "type": "unknown"
        },
        {
         "name": "partner_other",
         "rawType": "object",
         "type": "unknown"
        },
        {
         "name": "addtl_info1",
         "rawType": "object",
         "type": "string"
        },
        {
         "name": "addtl_info2",
         "rawType": "object",
         "type": "unknown"
        },
        {
         "name": "start_time",
         "rawType": "object",
         "type": "string"
        },
        {
         "name": "end_time",
         "rawType": "object",
         "type": "string"
        },
        {
         "name": "se_services",
         "rawType": "object",
         "type": "string"
        },
        {
         "name": "ell_programs",
         "rawType": "object",
         "type": "string"
        },
        {
         "name": "school_accessibility_description",
         "rawType": "object",
         "type": "string"
        },
        {
         "name": "number_programs",
         "rawType": "int64",
         "type": "integer"
        },
        {
         "name": "priority01",
         "rawType": "object",
         "type": "string"
        },
        {
         "name": "priority02",
         "rawType": "object",
         "type": "string"
        },
        {
         "name": "priority03",
         "rawType": "object",
         "type": "unknown"
        },
        {
         "name": "priority04",
         "rawType": "object",
         "type": "unknown"
        },
        {
         "name": "priority05",
         "rawType": "object",
         "type": "unknown"
        },
        {
         "name": "priority06",
         "rawType": "object",
         "type": "unknown"
        },
        {
         "name": "priority07",
         "rawType": "object",
         "type": "unknown"
        },
        {
         "name": "priority08",
         "rawType": "object",
         "type": "unknown"
        },
        {
         "name": "priority09",
         "rawType": "object",
         "type": "unknown"
        },
        {
         "name": "priority10",
         "rawType": "object",
         "type": "unknown"
        },
        {
         "name": "location_1",
         "rawType": "object",
         "type": "string"
        },
        {
         "name": "community_board",
         "rawType": "float64",
         "type": "float"
        },
        {
         "name": "council_district",
         "rawType": "float64",
         "type": "float"
        },
        {
         "name": "census_tract",
         "rawType": "float64",
         "type": "float"
        },
        {
         "name": "bin",
         "rawType": "float64",
         "type": "float"
        },
        {
         "name": "bbl",
         "rawType": "float64",
         "type": "float"
        },
        {
         "name": "nta",
         "rawType": "object",
         "type": "string"
        },
        {
         "name": "zip_codes",
         "rawType": "float64",
         "type": "float"
        },
        {
         "name": "community_districts",
         "rawType": "int64",
         "type": "integer"
        },
        {
         "name": "borough_boundaries",
         "rawType": "int64",
         "type": "integer"
        },
        {
         "name": "city_council_districts",
         "rawType": "int64",
         "type": "integer"
        },
        {
         "name": "police_precincts",
         "rawType": "int64",
         "type": "integer"
        }
       ],
       "ref": "04f9443d-5b7f-47ef-8b67-852fce0e5dfc",
       "rows": [
        [
         "0",
         "27Q260",
         "Frederick Douglass Academy VI High School",
         "Queens",
         "Q465",
         "718-471-2154",
         "718-471-2890",
         "9.0",
         "12",
         null,
         null,
         "Q113, Q22",
         "A to Beach 25th St-Wavecrest",
         "8-21 Bay 25 Street",
         "Far Rockaway",
         "NY",
         "11691",
         "http://schools.nyc.gov/schoolportals/27/Q260",
         "412.0",
         "Far Rockaway Educational Campus",
         null,
         "Frederick Douglass Academy (FDA) VI High School is a high school built on Dr. Lorraine Monroe’s vision of academic and personal excellence for all students. The emphasis on college preparation is supported by a challenging academic program and cultural enrichment. A set of core rules visible at every Frederick Douglass Academy signals the seriousness of purpose for the school, its students and teachers. All students must adhere to a code of student conduct, the Scholar’s Creed and a strict uniform code. Students are also required to participate in extensive after-school academic enrichment programs.",
         "Advisory, Graphic Arts Design, Teaching Internship; College tours: citywide for freshmen, statewide for sophomores and out-of-state for juniors; National and international educational trips",
         "Spanish",
         "Calculus AB, English Language and Composition, English Literature and Composition, United States History",
         "Biology, Physics B",
         "French, Spanish",
         "After-school Program, Book, Writing, Homework Help, Honor Society, Journalism, Lunch & Learn, PSAT and SAT Prep, Saturday Program, Step Team, Student Government, Summer Institute, Video, Tech, Yearbook, Computer Graphics, Robotics, Cheerleading",
         "Basketball, Cross Country, Indoor Track, Outdoor Track, Soccer, Softball, Swimming, Tennis, Volleyball",
         "Basketball, Cross Country, Indoor Track, Outdoor Track, Soccer, Softball, Swimming, Tennis, Volleyball",
         null,
         "Step Team, Modern Dance, Hip Hop Dance",
         null,
         "Jamaica Hospital Medical Center, Peninsula Hospital Center",
         "York College, Brooklyn College, St. John's College",
         null,
         "Queens District Attorney, Sports and Arts Foundation, CMS",
         "Replications, Inc.",
         "Citibank",
         "New York Road Runners Foundation (NYRRF)",
         "Uniform Required: plain white collared shirt, black pants/skirt, FDA tie/FDA scarf, black shoes",
         "Extended Day Program, Student Summer Orientation, Summer Internship Program offered, Weekend Program offered",
         "7:45 AM",
         "2:05 PM",
         "This school will provide students with disabilities the supports and services indicated on their IEPs.",
         "ESL",
         "Not Functionally Accessible",
         "1",
         "Priority to Queens students or residents who attend an information session",
         "Then to New York City residents who attend an information session",
         "Then to Queens students or residents",
         "Then to New York City residents",
         null,
         null,
         null,
         null,
         null,
         null,
         "{'latitude': '40.601989336', 'longitude': '-73.762834323', 'human_address': '{\"address\": \"8 21 Bay 25 Street\", \"city\": \"Far Rockaway\", \"state\": \"NY\", \"zip\": \"11691\"}'}",
         "14.0",
         "31.0",
         "100802.0",
         "4300730.0",
         "4157360001.0",
         "Far Rockaway-Bayswater                                                     ",
         "20529.0",
         "51",
         "3",
         "47",
         "59"
        ],
        [
         "1",
         "21K559",
         "Life Academy High School for Film and Music",
         "Brooklyn",
         "K400",
         "718-333-7750",
         "718-333-7775",
         "9.0",
         "12",
         null,
         null,
         "B1, B3, B4, B6, B64, B82",
         "D to 25th Ave ; N to Ave U ; N to Gravesend - 86th St",
         "2630 Benson Avenue",
         "Brooklyn",
         "NY",
         "11214",
         "http://schools.nyc.gov/schoolportals/21/K559",
         "260.0",
         "Lafayette Educational Campus",
         null,
         "At Life Academy High School for Film and Music, we infuse the study of film, the art of filmmaking, audio production and new media into engaging, student-centered and project-based courses. We focus on building communication skills in writing, presentation and creativity. Our Advisory program helps each student develop personal relationships and positive citizenship. We seek students who want to learn in an exciting atmosphere of excellence and creative collaboration.",
         "College Now, iLEARN courses, Art and Film Production courses including film, set design, audio production, cinematography, animation, storyboarding art",
         "Spanish",
         null,
         "Biology, English Literature and Composition, European History, United States History, World History",
         null,
         "Film, Music, Talent Show, Holiday Concert, Student Council, After school tutoring in content areas, iLEARN courses, and other programs of student interest based on grant funding.",
         "Basketball, Bowling, Indoor Track, Soccer, Softball, Volleyball",
         "Basketball, Bowling, Indoor Track, Soccer, Softball, Volleyball",
         "Cricket",
         null,
         "Coney Island Generation Gap",
         null,
         "City Tech, Kingsborough Early College Secondary School, City University of New Jersey",
         "Museum of the Moving Image, New York Public Library",
         "Institute for Student Achievement",
         "Film Life, Inc., SONY Wonder Tech",
         null,
         null,
         "Our school requires completion of a Common Core Learning Standards Skills Portfolio for Assessment in every class",
         null,
         "8:15 AM",
         "3:00 PM",
         "This school will provide students with disabilities the supports and services indicated on their IEPs.",
         "ESL",
         "Functionally Accessible",
         "1",
         "Priority to New York City residents who attend an information session",
         "Then to New York City residents",
         null,
         null,
         null,
         null,
         null,
         null,
         null,
         null,
         "{'latitude': '40.593593811', 'longitude': '-73.984729232', 'human_address': '{\"address\": \"2630 Benson Avenue\", \"city\": \"Brooklyn\", \"state\": \"NY\", \"zip\": \"11214\"}'}",
         "13.0",
         "47.0",
         "306.0",
         "3186454.0",
         "3068830001.0",
         "Gravesend                                                                  ",
         "17616.0",
         "21",
         "2",
         "45",
         "35"
        ],
        [
         "2",
         "16K393",
         "Frederick Douglass Academy IV Secondary School",
         "Brooklyn",
         "K026",
         "718-574-2820",
         "718-574-2821",
         "9.0",
         "12",
         null,
         null,
         "B15, B38, B46, B47, B52, B54, Q24",
         "J to Kosciusko St ; M, Z to Myrtle Ave",
         "1014 Lafayette Avenue",
         "Brooklyn",
         "NY",
         "11221",
         "http://schools.nyc.gov/schoolportals/16/K393",
         "155.0",
         null,
         null,
         "The Frederick Douglass Academy IV (FDA IV) Secondary School is a place of scholarship. Our students are considered scholars. We create an atmosphere of order, civility, maturity and seriousness of purpose. A set of core rules referred to as the ‘twelve non-negotiables’ establish and maintain this environment. Scholars at the Frederick Douglas Academy IV Secondary School are instilled with a Scholar’s Creed, adapted from the Morehouse College Students’ Creed, that reinforces the school’s cohesive culture, underscores its high expectations and builds the scholars’ sense of pride in their school and themselves.",
         "College Now with Medgar Evers College, Fresh Prep Core, Science, Technology, Engineering & Mathematics (STEM) Robotics with New York City College of Technology, Dance4Peace",
         "French, Spanish",
         "English Language and Composition, United States History",
         "French Language and Culture",
         null,
         "After-school and Saturday Programs, Art Studio Group, Book, Cheerleading Team, Chess Team, Dance, Dance Ensemble, Homework Help, Lunch and Learn, Peer Mediation, Music, PSAT/SAT Prep, Scholars Government Association (SGA), Step Team, Summer Institute, Achieving Change in our Neighborhood (Teen Action), Violin, String Instruments, CHAMPS, School Leadership Team, Financial Literacy, Yoga, Anti-Bullying, Violence Prevention, Yearbook",
         null,
         null,
         null,
         "Basketball Team",
         "Achieving Change in our Neighborhood (Teen ACTION) St.Nicks Alliance, New York City College of Technology – STEM Robotics, Fresh Prep and New York Hall of Science",
         null,
         "Medgar Evers College",
         "Noel Pointer School of Music",
         "Hip-Hop 4 Life, Urban Arts, and St. Nicks Alliance",
         null,
         null,
         null,
         "Dress Code Required: solid white shirt/blouse, navy blue blazer, gray pants/skirt, navy blue tie/scarf, black dress shoes, Participation in our 2-day FDA IV Prep Institute (Orientation) is required for incoming students, Extended Day Program",
         "Student Summer Orientation, Weekend Program offered",
         "8:00 AM",
         "2:20 PM",
         "This school will provide students with disabilities the supports and services indicated on their IEPs.",
         "ESL",
         "Not Functionally Accessible",
         "1",
         "Priority to continuing 8th graders",
         "Then to Brooklyn students or residents who attend an information session",
         "Then to New York City residents who attend an information session",
         "Then to Brooklyn students or residents",
         "Then to New York City residents",
         null,
         null,
         null,
         null,
         null,
         "{'latitude': '40.692133704', 'longitude': '-73.931503172', 'human_address': '{\"address\": \"1014 Lafayette Avenue\", \"city\": \"Brooklyn\", \"state\": \"NY\", \"zip\": \"11221\"}'}",
         "3.0",
         "36.0",
         "291.0",
         "3393805.0",
         "3016160001.0",
         "Stuyvesant Heights                                                         ",
         "18181.0",
         "69",
         "2",
         "49",
         "52"
        ],
        [
         "3",
         "08X305",
         "Pablo Neruda Academy",
         "Bronx",
         "X450",
         "718-824-1682",
         "718-824-1663",
         "9.0",
         "12",
         null,
         null,
         "Bx22, Bx27, Bx36, Bx39, Bx5",
         null,
         "1980 Lafayette Avenue",
         "Bronx",
         "NY",
         "10473",
         "www.pablonerudaacademy.org",
         "335.0",
         "Adlai E. Stevenson Educational Campus",
         null,
         "Our mission is to engage, inspire, and educate our students so that they develop skills to succeed in college and beyond. Our students work in small groups, guided by skilled and caring teachers, to solve challenging problems. Each student is well-known by staff members, and is assigned an advisor who works closely with them each week to monitor their progress. We celebrate successes and students are recognized for their accomplishments.",
         "Advanced Placement courses, Electives courses including: Art & Design, Criminal Justice, Entrepreneurship, Careers & Internships, and Advanced Art; Student Learning Communities, Internship Opportunities, Individualized Student Programming, Credit-bearing Online Courses (iLearn) and After-school Enrichment Classes; College Now & JumpStart (Credit-bearing College Courses)",
         "Spanish",
         "Art History, English Language and Composition, English Literature and Composition, United States Government and Politics",
         null,
         "Spanish",
         "Youth Court, Student Government, Youth Service, Youth Service Leaders, Art, Graffiti Mural, Yearbook, Homework Help & Tutoring Services, Regents Prep, Saturday Academy, Senior Committee, Video Game, Yoga, Dance, Digital Media, Book, Chess, Soccer, Softball, Basketball Intramurals, National Honor Society",
         "Basketball, Outdoor Track, Softball, Tennis, Volleyball",
         "Basketball, Outdoor Track, Softball, Tennis, Volleyball",
         null,
         "Baseball, Basketball, Flag Football, Soccer, Softball, Volleyball",
         null,
         "Soundview Health Center, Bronx Lebanon Hospital Center, Montefiore Medical Center",
         "Hostos Community College, Monroe College, Lehman College",
         "Chilean Consulate, Materials for the Arts",
         "Network for Teaching Entrepreneurship (NFTE), BISCEP (The Leadership Program), New York Cares, Institute for Student Achievement (ISA), PENCIL",
         null,
         null,
         "iLearnNYC",
         "All students are individually programmed (based on academic needs), Incoming 9th grade students attend our Summer Orientation Session, All students are assigned to a small Student Learning Community that meets twice a week, College preparation begins in 9th grade and continues through 12th grade; this preparation includes College Trips (in-state, out-of-state, trade schools), College Fairs, College Workshops",
         "Extended Day Program",
         "8:00 AM",
         "3:50 PM",
         "This school will provide students with disabilities the supports and services indicated on their IEPs.",
         "ESL",
         "Functionally Accessible",
         "1",
         "Priority to Bronx students or residents who attend an information session",
         "Then to New York City residents who attend an information session",
         "Then to Bronx students or residents",
         "Then to New York City residents",
         null,
         null,
         null,
         null,
         null,
         null,
         "{'latitude': '40.822303765', 'longitude': '-73.85596139', 'human_address': '{\"address\": \"1980 Lafayette Avenue\", \"city\": \"Bronx\", \"state\": \"NY\", \"zip\": \"10473\"}'}",
         "9.0",
         "18.0",
         "16.0",
         "2022205.0",
         "2036040039.0",
         "Soundview-Castle Hill-Clason Point-Harding Park                            ",
         "11611.0",
         "58",
         "5",
         "31",
         "26"
        ],
        [
         "4",
         "03M485",
         "Fiorello H. LaGuardia High School of Music & Art and Performing Arts",
         "Manhattan",
         "M485",
         "212-496-0700",
         "212-724-5748",
         "9.0",
         "12",
         null,
         null,
         "M10, M104, M11, M20, M31, M5, M57, M66, M7, M72",
         "1 to 66th St - Lincoln Center ; 2, 3 to 72nd St ; A, B, C, D to 59th St-Columbus Circle",
         "100 Amsterdam Avenue",
         "New York",
         "NY",
         "10023",
         "www.laguardiahs.org",
         "2730.0",
         null,
         "Specialized School",
         "We enjoy an international reputation as the first and foremost high school dedicated to nurturing students gifted in the arts. Our mission is to provide an opportunity for students to pursue both a rigorous conservatory-style training and a challenging academic program. Our building features world-class facilities including a concert hall; art, dance, music, recording and theater studios, science and computer labs, and an art gallery. Almost all of our graduates continue their studies, gaining admission to highly selective schools. Our graduates have distinguished themselves in virtually every field, including the arts and sciences, medicine, law, business, education and public service.",
         "Students have a daily program that includes both a multi-period conservatory studio block and a full college preparatory academic course load. The studio majors are: Dance, Drama, Fine Arts, Instrumental Music, Technical Theater and Vocal Music. Each studio has a four-year sequence of courses and opportunities for students to participate in performances and exhibitions. Students completing the applicable NYC Studio Comprehensive exam receive a special endorsement on their diploma. Honors courses are offered in all academic areas starting in the freshman year, leading to a full complement of Advanced Placement courses.",
         "French, Italian, Japanese, Spanish",
         "Art History, Biology, Calculus AB, Calculus BC, Chemistry, Comparative Government and Politics, English Language and Composition, English Literature and Composition, Environmental Science, European History, French Language and Culture, Italian Language and Culture, Japanese Language and Culture, Music Theory, Physics B, Psychology, Spanish Language and Culture, Statistics, Studio Art: 2-D Design, Studio Art: 3-D Design, Studio Art: Drawing, United States Government and Politics, United States History, World History",
         null,
         "Spanish",
         "Amnesty International, Anime, Annual Musical, Arista, Art Exhibits, ASPIRA, Black Student Union, Chinese Student Association, Claymazing, Comic Book, Cult Classics, Dance Programs, DaVinci Scholars Program, Debate Team, Disney VoluntEars, Drama Festivals, Environmental, Fashion, Film, Future Voters of America, Gay/Straight Alliance, Girls Learn International, Habitat for Humanity, Harry Potter, Independent Film, Jewish Union, Literary Magazine, Math Team, Mock Trial, Moot Court, Murals, National Honor Society, National Language Honors Society, Newspaper, Orchestral and Vocal Concerts, Random Acts of Kindness, Red Cross, Relay For Life, School Leadership Team (SLT), Science Outreach League, Shamisen, Social Action, Splashes of Hope, Student Government Organization, Ukulele For Good, Yearbook",
         "Basketball, Bowling, Cross Country, Fencing, Gymnastics, Handball, Indoor Track, Outdoor Track, Soccer, Softball, Swimming, Volleyball",
         "Basketball, Bowling, Cross Country, Fencing, Gymnastics, Handball, Indoor Track, Outdoor Track, Soccer, Softball, Swimming, Volleyball",
         null,
         null,
         "Lincoln Center for the Performing Arts",
         "Mount Sinai Medical Center",
         "The Cooper Union for the Advancement of Science and Art, Skidmore College, Sophie Davis School of Biomedical Education, New York University School of Medicine",
         "Lincoln Center for the Performing Arts, American Ballet Theater, Carnegie Hall, New York Philharmonic, Drama Desk, Metropolitan Opera, Interschool Orchestras of New York, New York Youth Symphony",
         "Junior Achievement, Red Cross, United Nations Association, American Cancer Society",
         "Sony Music, Warner Music Group, Capital Cities ABC, The Walt Disney Company",
         null,
         null,
         "Chancellor’s Arts Endorsed Diploma",
         null,
         "8:00 AM",
         "4:00 PM",
         "This school will provide students with disabilities the supports and services indicated on their IEPs.",
         "ESL",
         "Functionally Accessible",
         "6",
         "Open to New York City residents",
         "Admission is based on the outcome of a competitive audition and review of the student’s record",
         "Students must audition for each program (studio) to which they are applying",
         "Students must be residents of New York City at the time of audition",
         null,
         null,
         null,
         null,
         null,
         null,
         "{'latitude': '40.773670507', 'longitude': '-73.985268558', 'human_address': '{\"address\": \"100 Amsterdam Avenue\", \"city\": \"New York\", \"state\": \"NY\", \"zip\": \"10023\"}'}",
         "7.0",
         "6.0",
         "151.0",
         "1030341.0",
         "1011560030.0",
         "Lincoln Square                                                             ",
         "12420.0",
         "20",
         "4",
         "19",
         "12"
        ]
       ],
       "shape": {
        "columns": 69,
        "rows": 5
       }
      },
      "text/html": [
       "<div>\n",
       "<style scoped>\n",
       "    .dataframe tbody tr th:only-of-type {\n",
       "        vertical-align: middle;\n",
       "    }\n",
       "\n",
       "    .dataframe tbody tr th {\n",
       "        vertical-align: top;\n",
       "    }\n",
       "\n",
       "    .dataframe thead th {\n",
       "        text-align: right;\n",
       "    }\n",
       "</style>\n",
       "<table border=\"1\" class=\"dataframe\">\n",
       "  <thead>\n",
       "    <tr style=\"text-align: right;\">\n",
       "      <th></th>\n",
       "      <th>dbn</th>\n",
       "      <th>school_name</th>\n",
       "      <th>borough</th>\n",
       "      <th>building_code</th>\n",
       "      <th>phone_number</th>\n",
       "      <th>fax_number</th>\n",
       "      <th>grade_span_min</th>\n",
       "      <th>grade_span_max</th>\n",
       "      <th>expgrade_span_min</th>\n",
       "      <th>expgrade_span_max</th>\n",
       "      <th>...</th>\n",
       "      <th>council_district</th>\n",
       "      <th>census_tract</th>\n",
       "      <th>bin</th>\n",
       "      <th>bbl</th>\n",
       "      <th>nta</th>\n",
       "      <th>zip_codes</th>\n",
       "      <th>community_districts</th>\n",
       "      <th>borough_boundaries</th>\n",
       "      <th>city_council_districts</th>\n",
       "      <th>police_precincts</th>\n",
       "    </tr>\n",
       "  </thead>\n",
       "  <tbody>\n",
       "    <tr>\n",
       "      <th>0</th>\n",
       "      <td>27Q260</td>\n",
       "      <td>Frederick Douglass Academy VI High School</td>\n",
       "      <td>Queens</td>\n",
       "      <td>Q465</td>\n",
       "      <td>718-471-2154</td>\n",
       "      <td>718-471-2890</td>\n",
       "      <td>9.0</td>\n",
       "      <td>12</td>\n",
       "      <td>NaN</td>\n",
       "      <td>NaN</td>\n",
       "      <td>...</td>\n",
       "      <td>31.0</td>\n",
       "      <td>100802.0</td>\n",
       "      <td>4300730.0</td>\n",
       "      <td>4.157360e+09</td>\n",
       "      <td>Far Rockaway-Bayswater                        ...</td>\n",
       "      <td>20529.0</td>\n",
       "      <td>51</td>\n",
       "      <td>3</td>\n",
       "      <td>47</td>\n",
       "      <td>59</td>\n",
       "    </tr>\n",
       "    <tr>\n",
       "      <th>1</th>\n",
       "      <td>21K559</td>\n",
       "      <td>Life Academy High School for Film and Music</td>\n",
       "      <td>Brooklyn</td>\n",
       "      <td>K400</td>\n",
       "      <td>718-333-7750</td>\n",
       "      <td>718-333-7775</td>\n",
       "      <td>9.0</td>\n",
       "      <td>12</td>\n",
       "      <td>NaN</td>\n",
       "      <td>NaN</td>\n",
       "      <td>...</td>\n",
       "      <td>47.0</td>\n",
       "      <td>306.0</td>\n",
       "      <td>3186454.0</td>\n",
       "      <td>3.068830e+09</td>\n",
       "      <td>Gravesend                                     ...</td>\n",
       "      <td>17616.0</td>\n",
       "      <td>21</td>\n",
       "      <td>2</td>\n",
       "      <td>45</td>\n",
       "      <td>35</td>\n",
       "    </tr>\n",
       "    <tr>\n",
       "      <th>2</th>\n",
       "      <td>16K393</td>\n",
       "      <td>Frederick Douglass Academy IV Secondary School</td>\n",
       "      <td>Brooklyn</td>\n",
       "      <td>K026</td>\n",
       "      <td>718-574-2820</td>\n",
       "      <td>718-574-2821</td>\n",
       "      <td>9.0</td>\n",
       "      <td>12</td>\n",
       "      <td>NaN</td>\n",
       "      <td>NaN</td>\n",
       "      <td>...</td>\n",
       "      <td>36.0</td>\n",
       "      <td>291.0</td>\n",
       "      <td>3393805.0</td>\n",
       "      <td>3.016160e+09</td>\n",
       "      <td>Stuyvesant Heights                            ...</td>\n",
       "      <td>18181.0</td>\n",
       "      <td>69</td>\n",
       "      <td>2</td>\n",
       "      <td>49</td>\n",
       "      <td>52</td>\n",
       "    </tr>\n",
       "    <tr>\n",
       "      <th>3</th>\n",
       "      <td>08X305</td>\n",
       "      <td>Pablo Neruda Academy</td>\n",
       "      <td>Bronx</td>\n",
       "      <td>X450</td>\n",
       "      <td>718-824-1682</td>\n",
       "      <td>718-824-1663</td>\n",
       "      <td>9.0</td>\n",
       "      <td>12</td>\n",
       "      <td>NaN</td>\n",
       "      <td>NaN</td>\n",
       "      <td>...</td>\n",
       "      <td>18.0</td>\n",
       "      <td>16.0</td>\n",
       "      <td>2022205.0</td>\n",
       "      <td>2.036040e+09</td>\n",
       "      <td>Soundview-Castle Hill-Clason Point-Harding Par...</td>\n",
       "      <td>11611.0</td>\n",
       "      <td>58</td>\n",
       "      <td>5</td>\n",
       "      <td>31</td>\n",
       "      <td>26</td>\n",
       "    </tr>\n",
       "    <tr>\n",
       "      <th>4</th>\n",
       "      <td>03M485</td>\n",
       "      <td>Fiorello H. LaGuardia High School of Music &amp; A...</td>\n",
       "      <td>Manhattan</td>\n",
       "      <td>M485</td>\n",
       "      <td>212-496-0700</td>\n",
       "      <td>212-724-5748</td>\n",
       "      <td>9.0</td>\n",
       "      <td>12</td>\n",
       "      <td>NaN</td>\n",
       "      <td>NaN</td>\n",
       "      <td>...</td>\n",
       "      <td>6.0</td>\n",
       "      <td>151.0</td>\n",
       "      <td>1030341.0</td>\n",
       "      <td>1.011560e+09</td>\n",
       "      <td>Lincoln Square                                ...</td>\n",
       "      <td>12420.0</td>\n",
       "      <td>20</td>\n",
       "      <td>4</td>\n",
       "      <td>19</td>\n",
       "      <td>12</td>\n",
       "    </tr>\n",
       "  </tbody>\n",
       "</table>\n",
       "<p>5 rows × 69 columns</p>\n",
       "</div>"
      ],
      "text/plain": [
       "      dbn                                        school_name    borough  \\\n",
       "0  27Q260          Frederick Douglass Academy VI High School     Queens   \n",
       "1  21K559        Life Academy High School for Film and Music   Brooklyn   \n",
       "2  16K393     Frederick Douglass Academy IV Secondary School   Brooklyn   \n",
       "3  08X305                               Pablo Neruda Academy      Bronx   \n",
       "4  03M485  Fiorello H. LaGuardia High School of Music & A...  Manhattan   \n",
       "\n",
       "  building_code  phone_number    fax_number  grade_span_min  grade_span_max  \\\n",
       "0          Q465  718-471-2154  718-471-2890             9.0              12   \n",
       "1          K400  718-333-7750  718-333-7775             9.0              12   \n",
       "2          K026  718-574-2820  718-574-2821             9.0              12   \n",
       "3          X450  718-824-1682  718-824-1663             9.0              12   \n",
       "4          M485  212-496-0700  212-724-5748             9.0              12   \n",
       "\n",
       "   expgrade_span_min  expgrade_span_max  ... council_district census_tract  \\\n",
       "0                NaN                NaN  ...             31.0     100802.0   \n",
       "1                NaN                NaN  ...             47.0        306.0   \n",
       "2                NaN                NaN  ...             36.0        291.0   \n",
       "3                NaN                NaN  ...             18.0         16.0   \n",
       "4                NaN                NaN  ...              6.0        151.0   \n",
       "\n",
       "         bin           bbl                                                nta  \\\n",
       "0  4300730.0  4.157360e+09  Far Rockaway-Bayswater                        ...   \n",
       "1  3186454.0  3.068830e+09  Gravesend                                     ...   \n",
       "2  3393805.0  3.016160e+09  Stuyvesant Heights                            ...   \n",
       "3  2022205.0  2.036040e+09  Soundview-Castle Hill-Clason Point-Harding Par...   \n",
       "4  1030341.0  1.011560e+09  Lincoln Square                                ...   \n",
       "\n",
       "   zip_codes community_districts  borough_boundaries city_council_districts  \\\n",
       "0    20529.0                  51                   3                     47   \n",
       "1    17616.0                  21                   2                     45   \n",
       "2    18181.0                  69                   2                     49   \n",
       "3    11611.0                  58                   5                     31   \n",
       "4    12420.0                  20                   4                     19   \n",
       "\n",
       "  police_precincts  \n",
       "0               59  \n",
       "1               35  \n",
       "2               52  \n",
       "3               26  \n",
       "4               12  \n",
       "\n",
       "[5 rows x 69 columns]"
      ]
     },
     "execution_count": 2,
     "metadata": {},
     "output_type": "execute_result"
    }
   ],
   "source": [
    "df.columns = (\n",
    "    df.columns\n",
    "    .str.strip()\n",
    "    .str.lower()\n",
    "    .str.replace(' ', '_')\n",
    "    .str.replace('[^a-z0-9_]', '', regex=True)\n",
    ")\n",
    "df.head()\n"
   ]
  },
  {
   "cell_type": "markdown",
   "id": "0667c945",
   "metadata": {},
   "source": [
    "## 2. Handling Missing Values\n",
    "\n",
    "Before analysis, I check which columns have missing values and decide how to handle them.\n",
    "\n",
    "- For this project, I focus on columns needed for our questions: `dbn`, `borough`, `total_students`, `grade_span_min`, and `grade_span_max`.\n",
    "- For analyses that require these columns, I will **drop rows with missing values** only when necessary.\n",
    "- For other columns, missing values are ignored.\n",
    "\n",
    "Following I inspect the relevant columns:\n"
   ]
  },
  {
   "cell_type": "code",
   "execution_count": 3,
   "id": "3bb76701",
   "metadata": {},
   "outputs": [
    {
     "name": "stdout",
     "output_type": "stream",
     "text": [
      "Missing values in key columns:\n",
      "dbn               0\n",
      "borough           0\n",
      "total_students    9\n",
      "grade_span_min    3\n",
      "grade_span_max    0\n",
      "dtype: int64\n",
      "Only 12 rows have missing values in any of these columns.\n"
     ]
    }
   ],
   "source": [
    "# Show missing values for key columns\n",
    "key_columns = ['dbn', 'borough', 'total_students', 'grade_span_min', 'grade_span_max']\n",
    "mv = df[key_columns].isnull().sum()\n",
    "print(\"Missing values in key columns:\")\n",
    "print(mv)\n",
    "print(\"Only {} rows have missing values in any of these columns.\".format(df[key_columns].isnull().any(axis=1).sum()))"
   ]
  },
  {
   "cell_type": "markdown",
   "id": "d68aa256",
   "metadata": {},
   "source": [
    "For the key columns, the amount of missing data is low and will not affect the results.  \n",
    "When filtering or grouping, I will drop rows with missing values in the relevant columns as needed.\n"
   ]
  },
  {
   "cell_type": "markdown",
   "id": "1902d6e9",
   "metadata": {},
   "source": [
    "## 3. Filter: Schools in Brooklyn\n",
    "\n",
    "Filter the dataset to include only schools located in Brooklyn.\n"
   ]
  },
  {
   "cell_type": "code",
   "execution_count": 4,
   "id": "22d8e4aa",
   "metadata": {},
   "outputs": [
    {
     "data": {
      "application/vnd.microsoft.datawrangler.viewer.v0+json": {
       "columns": [
        {
         "name": "index",
         "rawType": "int64",
         "type": "integer"
        },
        {
         "name": "dbn",
         "rawType": "object",
         "type": "string"
        },
        {
         "name": "school_name",
         "rawType": "object",
         "type": "string"
        },
        {
         "name": "borough",
         "rawType": "object",
         "type": "string"
        },
        {
         "name": "building_code",
         "rawType": "object",
         "type": "string"
        },
        {
         "name": "phone_number",
         "rawType": "object",
         "type": "string"
        },
        {
         "name": "fax_number",
         "rawType": "object",
         "type": "string"
        },
        {
         "name": "grade_span_min",
         "rawType": "float64",
         "type": "float"
        },
        {
         "name": "grade_span_max",
         "rawType": "int64",
         "type": "integer"
        },
        {
         "name": "expgrade_span_min",
         "rawType": "float64",
         "type": "float"
        },
        {
         "name": "expgrade_span_max",
         "rawType": "float64",
         "type": "float"
        },
        {
         "name": "bus",
         "rawType": "object",
         "type": "string"
        },
        {
         "name": "subway",
         "rawType": "object",
         "type": "string"
        },
        {
         "name": "primary_address_line_1",
         "rawType": "object",
         "type": "string"
        },
        {
         "name": "city",
         "rawType": "object",
         "type": "string"
        },
        {
         "name": "state_code",
         "rawType": "object",
         "type": "string"
        },
        {
         "name": "postcode",
         "rawType": "int64",
         "type": "integer"
        },
        {
         "name": "website",
         "rawType": "object",
         "type": "string"
        },
        {
         "name": "total_students",
         "rawType": "float64",
         "type": "float"
        },
        {
         "name": "campus_name",
         "rawType": "object",
         "type": "unknown"
        },
        {
         "name": "school_type",
         "rawType": "object",
         "type": "unknown"
        },
        {
         "name": "overview_paragraph",
         "rawType": "object",
         "type": "string"
        },
        {
         "name": "program_highlights",
         "rawType": "object",
         "type": "string"
        },
        {
         "name": "language_classes",
         "rawType": "object",
         "type": "unknown"
        },
        {
         "name": "advancedplacement_courses",
         "rawType": "object",
         "type": "unknown"
        },
        {
         "name": "online_ap_courses",
         "rawType": "object",
         "type": "unknown"
        },
        {
         "name": "online_language_courses",
         "rawType": "object",
         "type": "unknown"
        },
        {
         "name": "extracurricular_activities",
         "rawType": "object",
         "type": "string"
        },
        {
         "name": "psal_sports_boys",
         "rawType": "object",
         "type": "unknown"
        },
        {
         "name": "psal_sports_girls",
         "rawType": "object",
         "type": "unknown"
        },
        {
         "name": "psal_sports_coed",
         "rawType": "object",
         "type": "unknown"
        },
        {
         "name": "school_sports",
         "rawType": "object",
         "type": "unknown"
        },
        {
         "name": "partner_cbo",
         "rawType": "object",
         "type": "unknown"
        },
        {
         "name": "partner_hospital",
         "rawType": "object",
         "type": "unknown"
        },
        {
         "name": "partner_highered",
         "rawType": "object",
         "type": "unknown"
        },
        {
         "name": "partner_cultural",
         "rawType": "object",
         "type": "unknown"
        },
        {
         "name": "partner_nonprofit",
         "rawType": "object",
         "type": "unknown"
        },
        {
         "name": "partner_corporate",
         "rawType": "object",
         "type": "unknown"
        },
        {
         "name": "partner_financial",
         "rawType": "object",
         "type": "unknown"
        },
        {
         "name": "partner_other",
         "rawType": "object",
         "type": "unknown"
        },
        {
         "name": "addtl_info1",
         "rawType": "object",
         "type": "string"
        },
        {
         "name": "addtl_info2",
         "rawType": "object",
         "type": "unknown"
        },
        {
         "name": "start_time",
         "rawType": "object",
         "type": "string"
        },
        {
         "name": "end_time",
         "rawType": "object",
         "type": "string"
        },
        {
         "name": "se_services",
         "rawType": "object",
         "type": "string"
        },
        {
         "name": "ell_programs",
         "rawType": "object",
         "type": "string"
        },
        {
         "name": "school_accessibility_description",
         "rawType": "object",
         "type": "string"
        },
        {
         "name": "number_programs",
         "rawType": "int64",
         "type": "integer"
        },
        {
         "name": "priority01",
         "rawType": "object",
         "type": "string"
        },
        {
         "name": "priority02",
         "rawType": "object",
         "type": "string"
        },
        {
         "name": "priority03",
         "rawType": "object",
         "type": "unknown"
        },
        {
         "name": "priority04",
         "rawType": "object",
         "type": "unknown"
        },
        {
         "name": "priority05",
         "rawType": "object",
         "type": "unknown"
        },
        {
         "name": "priority06",
         "rawType": "object",
         "type": "unknown"
        },
        {
         "name": "priority07",
         "rawType": "object",
         "type": "unknown"
        },
        {
         "name": "priority08",
         "rawType": "object",
         "type": "unknown"
        },
        {
         "name": "priority09",
         "rawType": "object",
         "type": "unknown"
        },
        {
         "name": "priority10",
         "rawType": "object",
         "type": "unknown"
        },
        {
         "name": "location_1",
         "rawType": "object",
         "type": "string"
        },
        {
         "name": "community_board",
         "rawType": "float64",
         "type": "float"
        },
        {
         "name": "council_district",
         "rawType": "float64",
         "type": "float"
        },
        {
         "name": "census_tract",
         "rawType": "float64",
         "type": "float"
        },
        {
         "name": "bin",
         "rawType": "float64",
         "type": "float"
        },
        {
         "name": "bbl",
         "rawType": "float64",
         "type": "float"
        },
        {
         "name": "nta",
         "rawType": "object",
         "type": "string"
        },
        {
         "name": "zip_codes",
         "rawType": "float64",
         "type": "float"
        },
        {
         "name": "community_districts",
         "rawType": "int64",
         "type": "integer"
        },
        {
         "name": "borough_boundaries",
         "rawType": "int64",
         "type": "integer"
        },
        {
         "name": "city_council_districts",
         "rawType": "int64",
         "type": "integer"
        },
        {
         "name": "police_precincts",
         "rawType": "int64",
         "type": "integer"
        }
       ],
       "ref": "3e384ca7-8391-43b8-b36d-2755d7c3a982",
       "rows": [
        [
         "1",
         "21K559",
         "Life Academy High School for Film and Music",
         "Brooklyn",
         "K400",
         "718-333-7750",
         "718-333-7775",
         "9.0",
         "12",
         null,
         null,
         "B1, B3, B4, B6, B64, B82",
         "D to 25th Ave ; N to Ave U ; N to Gravesend - 86th St",
         "2630 Benson Avenue",
         "Brooklyn",
         "NY",
         "11214",
         "http://schools.nyc.gov/schoolportals/21/K559",
         "260.0",
         "Lafayette Educational Campus",
         null,
         "At Life Academy High School for Film and Music, we infuse the study of film, the art of filmmaking, audio production and new media into engaging, student-centered and project-based courses. We focus on building communication skills in writing, presentation and creativity. Our Advisory program helps each student develop personal relationships and positive citizenship. We seek students who want to learn in an exciting atmosphere of excellence and creative collaboration.",
         "College Now, iLEARN courses, Art and Film Production courses including film, set design, audio production, cinematography, animation, storyboarding art",
         "Spanish",
         null,
         "Biology, English Literature and Composition, European History, United States History, World History",
         null,
         "Film, Music, Talent Show, Holiday Concert, Student Council, After school tutoring in content areas, iLEARN courses, and other programs of student interest based on grant funding.",
         "Basketball, Bowling, Indoor Track, Soccer, Softball, Volleyball",
         "Basketball, Bowling, Indoor Track, Soccer, Softball, Volleyball",
         "Cricket",
         null,
         "Coney Island Generation Gap",
         null,
         "City Tech, Kingsborough Early College Secondary School, City University of New Jersey",
         "Museum of the Moving Image, New York Public Library",
         "Institute for Student Achievement",
         "Film Life, Inc., SONY Wonder Tech",
         null,
         null,
         "Our school requires completion of a Common Core Learning Standards Skills Portfolio for Assessment in every class",
         null,
         "8:15 AM",
         "3:00 PM",
         "This school will provide students with disabilities the supports and services indicated on their IEPs.",
         "ESL",
         "Functionally Accessible",
         "1",
         "Priority to New York City residents who attend an information session",
         "Then to New York City residents",
         null,
         null,
         null,
         null,
         null,
         null,
         null,
         null,
         "{'latitude': '40.593593811', 'longitude': '-73.984729232', 'human_address': '{\"address\": \"2630 Benson Avenue\", \"city\": \"Brooklyn\", \"state\": \"NY\", \"zip\": \"11214\"}'}",
         "13.0",
         "47.0",
         "306.0",
         "3186454.0",
         "3068830001.0",
         "Gravesend                                                                  ",
         "17616.0",
         "21",
         "2",
         "45",
         "35"
        ],
        [
         "2",
         "16K393",
         "Frederick Douglass Academy IV Secondary School",
         "Brooklyn",
         "K026",
         "718-574-2820",
         "718-574-2821",
         "9.0",
         "12",
         null,
         null,
         "B15, B38, B46, B47, B52, B54, Q24",
         "J to Kosciusko St ; M, Z to Myrtle Ave",
         "1014 Lafayette Avenue",
         "Brooklyn",
         "NY",
         "11221",
         "http://schools.nyc.gov/schoolportals/16/K393",
         "155.0",
         null,
         null,
         "The Frederick Douglass Academy IV (FDA IV) Secondary School is a place of scholarship. Our students are considered scholars. We create an atmosphere of order, civility, maturity and seriousness of purpose. A set of core rules referred to as the ‘twelve non-negotiables’ establish and maintain this environment. Scholars at the Frederick Douglas Academy IV Secondary School are instilled with a Scholar’s Creed, adapted from the Morehouse College Students’ Creed, that reinforces the school’s cohesive culture, underscores its high expectations and builds the scholars’ sense of pride in their school and themselves.",
         "College Now with Medgar Evers College, Fresh Prep Core, Science, Technology, Engineering & Mathematics (STEM) Robotics with New York City College of Technology, Dance4Peace",
         "French, Spanish",
         "English Language and Composition, United States History",
         "French Language and Culture",
         null,
         "After-school and Saturday Programs, Art Studio Group, Book, Cheerleading Team, Chess Team, Dance, Dance Ensemble, Homework Help, Lunch and Learn, Peer Mediation, Music, PSAT/SAT Prep, Scholars Government Association (SGA), Step Team, Summer Institute, Achieving Change in our Neighborhood (Teen Action), Violin, String Instruments, CHAMPS, School Leadership Team, Financial Literacy, Yoga, Anti-Bullying, Violence Prevention, Yearbook",
         null,
         null,
         null,
         "Basketball Team",
         "Achieving Change in our Neighborhood (Teen ACTION) St.Nicks Alliance, New York City College of Technology – STEM Robotics, Fresh Prep and New York Hall of Science",
         null,
         "Medgar Evers College",
         "Noel Pointer School of Music",
         "Hip-Hop 4 Life, Urban Arts, and St. Nicks Alliance",
         null,
         null,
         null,
         "Dress Code Required: solid white shirt/blouse, navy blue blazer, gray pants/skirt, navy blue tie/scarf, black dress shoes, Participation in our 2-day FDA IV Prep Institute (Orientation) is required for incoming students, Extended Day Program",
         "Student Summer Orientation, Weekend Program offered",
         "8:00 AM",
         "2:20 PM",
         "This school will provide students with disabilities the supports and services indicated on their IEPs.",
         "ESL",
         "Not Functionally Accessible",
         "1",
         "Priority to continuing 8th graders",
         "Then to Brooklyn students or residents who attend an information session",
         "Then to New York City residents who attend an information session",
         "Then to Brooklyn students or residents",
         "Then to New York City residents",
         null,
         null,
         null,
         null,
         null,
         "{'latitude': '40.692133704', 'longitude': '-73.931503172', 'human_address': '{\"address\": \"1014 Lafayette Avenue\", \"city\": \"Brooklyn\", \"state\": \"NY\", \"zip\": \"11221\"}'}",
         "3.0",
         "36.0",
         "291.0",
         "3393805.0",
         "3016160001.0",
         "Stuyvesant Heights                                                         ",
         "18181.0",
         "69",
         "2",
         "49",
         "52"
        ],
        [
         "7",
         "17K122",
         "Pathways in Technology Early College High School (P-Tech)",
         "Brooklyn",
         "K625",
         "718-221-1593",
         "718-221-1781",
         "9.0",
         "12",
         "9.0",
         "14.0",
         "B15, B25, B26, B43, B44, B45, B46, B65",
         "3 to Kingston Ave ; A to Utica Ave ; C to Kingston-Throop",
         "150 Albany Avenue",
         "Brooklyn",
         "NY",
         "11213",
         "www.ptechnyc.org",
         "330.0",
         "Paul Robeson Educational Campus",
         "NYC P-Tech 9-14 School",
         "At Pathways in Technology Early College High School (P-TECH), students drawn to future careers in information technology (IT), computers, engineering, math and science receive individualized support in preparing for and securing an entry-level position in the highly competitive IT industry. As a founding partner of the school, IBM (and other corporations) will provide all students with internship and training opportunities exposing them to real-world technology careers. In addition, P-TECH students are able to earn an Associate degree or up to two years of college credit from CUNY's New York City College of Technology – at no cost – while still in high school.",
         "Internships, Mentorship Program, Early College Experience, Courses in Computer Systems and Information Technology, Small Advisory groups led by faculty mentor, Science, Technology, Engineering and Mathematics (STEM), Academic and Career Planning starting in the 9th grade, Saturday Academy featuring PSAT/SAT prep, Project-based STEM workshops; As we expand, we expect to offer AP classes; Language classes to be determined",
         null,
         null,
         null,
         null,
         "National Honor Society, National Society of Black Engineers, Society of Hispanic Professional Engineers",
         "Basketball, Bowling, Cross Country, Indoor Track, Outdoor Track",
         "Basketball, Bowling, Cross Country, Indoor Track, Outdoor Track",
         null,
         "Cheerleading, Step Team",
         null,
         null,
         null,
         null,
         null,
         null,
         null,
         null,
         "Tutoring offered, Saturday Academy, Extended Year Program, Summer Orientation for Incoming Freshmen",
         "Extended Day Program",
         "8:15 AM",
         "4:30 PM",
         "This school will provide students with disabilities the supports and services indicated on their IEPs.",
         "ESL",
         "Functionally Accessible",
         "1",
         "Priority to Brooklyn students or residents who attend an information session",
         "Then to New York City residents who attend an information session",
         "Then to Brooklyn students or residents",
         "Then to New York City residents",
         null,
         null,
         null,
         null,
         null,
         null,
         "{'latitude': '40.675402307', 'longitude': '-73.938881176', 'human_address': '{\"address\": \"150 Albany Avenue\", \"city\": \"Brooklyn\", \"state\": \"NY\", \"zip\": \"11213\"}'}",
         "8.0",
         "36.0",
         "311.0",
         "3030553.0",
         "3012160046.0",
         "Crown Heights North                                                        ",
         "17615.0",
         "16",
         "2",
         "49",
         "49"
        ],
        [
         "10",
         "23K644",
         "Eagle Academy for Young Men II",
         "Brooklyn",
         "K271",
         "718-495-0863",
         "718-732-2129",
         "6.0",
         "12",
         null,
         null,
         "B12, B20, B25, B47, B60, B65, B7, Q24",
         "A to Broadway Junction ; C to Rockaway Ave ; J, Z to Chauncey St",
         "1137 Herkimer Street",
         "Brooklyn",
         "NY",
         "11233",
         "www.eagleacademybk.org",
         "513.0",
         null,
         "All-Boys School",
         "Eagle Academy at Ocean Hill is a 6-12 school that develops our young men to be critical thinkers and active citizens for life-long success through the embodiment of our 5 Eagle Pillars: Commitment to Excellence, Resilience, Confidence, Leadership, and Effort. In the high school, our scholars follow individual schedules designed to ensure they are prepared for the college and/or career of their choice. We have a wide range of courses, extra-curriculars and extended learning opportunities to ensure our scholars develop passions in and out of the classroom. What truly sets Eagle apart from other schools is our unwavering commitment as Educators. Eagle Educators understand and embrace the challenges of teaching our unique population. Our Educators take strategic risks that are grounded in research-based practices. Eagle is more than a school. We are a family: a family dedicated to ensuring that all of our young men reach their full potential as globally conscious, globally competitive Eagle Scholars.",
         "Although we are a small school, we offer individualized programs to meet the needs of all our scholars. All our core classes are Regents-level, Common Core-aligned courses taught by devoted educators with a passion for their subject. Our wide variety of electives includes Creative Writing, Ethics, Psychology, Automotive Technology, Music Production, Graphic Design, Computer Technology, History of Athletics, Personal Finance, Public Speaking, Band, Anime, and Art History.",
         "Spanish",
         "Biology, Calculus AB, Chemistry, English Literature and Composition, Psychology, United States History",
         null,
         null,
         "Anime, Creative Writing, Drama, Culinary Arts, Eagle Gives Back (Community Service), Band",
         null,
         null,
         null,
         "Basketball, Football, Lacrosse, Tennis, Track",
         null,
         null,
         "College Now, Brooklyn College",
         "Global Glimpse, Summer Search, Explorers Police Program",
         "READ Program, Brownsville Youth Court",
         "Blackstone Group",
         null,
         null,
         "Uniform Required: Oxford blue collared button-down shirt, tie with school logo, gray pants, navy blue vest, black shoes/sneakers, Community Service Required, Saturday Academy 9:00 AM – 12:00 PM",
         null,
         "8:45 AM",
         "3:00 PM",
         "This school will provide students with disabilities the supports and services indicated on their IEPs.",
         "ESL",
         "Not Functionally Accessible",
         "1",
         "Open only to male students",
         "Priority to continuing 8th graders",
         "Then to Brooklyn students or residents who attend an information session",
         "Then to New York City residents who attend an information session",
         "Then to Brooklyn students or residents",
         "Then to New York City residents",
         null,
         null,
         null,
         null,
         "{'latitude': '40.677825501', 'longitude': '-73.91582338', 'human_address': '{\"address\": \"1137 Herkimer Street\", \"city\": \"Brooklyn\", \"state\": \"NY\", \"zip\": \"11233\"}'}",
         "16.0",
         "41.0",
         "301.0",
         "3042157.0",
         "3015500001.0",
         "Ocean Hill                                                                 ",
         "13516.0",
         "55",
         "2",
         "17",
         "46"
        ],
        [
         "12",
         "15K462",
         "Secondary School for Law",
         "Brooklyn",
         "K460",
         "718-832-4250",
         "718-499-3947",
         "9.0",
         "12",
         null,
         null,
         "B61, B63, B67",
         "D, R to 4th Ave - 9th St ; F, G to 7th Ave",
         "237 7 Avenue",
         "Brooklyn",
         "NY",
         "11215",
         "http://schools.nyc.gov/schoolportals/15/K462",
         "389.0",
         "John Jay Educational Campus",
         null,
         "As a community of committed learners, Secondary School for Law cultivates a spirit of excellence in our students through rigorous academic and extracurricular activities, preparing them to engage in challenging post-secondary experiences. Through the integration of demanding support programming such as college-preparatory, academic tutoring, personalized mentoring, and one-on-one college guidance, our goal is to help students develop their own voices by teaching them skills utilized by lawyers – the ability to solve complex problems, think critically and advocate persuasively for themselves and their communities.",
         "Paul Hastings Law Institute, Deloitte, Mock Trial, Debate, Introduction to Law, International Law, Criminal and Constitutional Law, Participation in Government, Mural Art, Studio Art, Modern Dance, Orchestra, Credit-bearing Online Courses, College Now",
         "French, Spanish",
         "Calculus AB, English Language and Composition, English Literature and Composition, Spanish Language and Culture, United States History",
         null,
         null,
         "After-school Sports and Dance, Arnhold New Dance Teacher Suppport Program, Arts Connection, Brooklyn Arts Council, Chess, Cooking, Debate Team, Mock Trial Team, Mural Art, National Honor Society, Peer Mediation, Project Reach Youth, SAT Preparation, SPARK, Student Government, Tutorials, Weightlifting, Yearbook Design",
         "Basketball, Softball, Volleyball",
         "Basketball, Softball, Volleyball",
         null,
         null,
         "Project Reach Youth",
         "New York Methodist Hospital",
         "New York City College of Technology",
         "Partnership for After School Education (PASE), Brooklyn Arts Council",
         null,
         "Paul Hastings LLP",
         null,
         null,
         "Dress Code Required: Please contact the school for more information.",
         "Extended Day Program, Student Summer Orientation",
         "8:25 AM",
         "3:12 PM",
         "This school will provide students with disabilities the supports and services indicated on their IEPs.",
         "ESL",
         "Not Functionally Accessible",
         "1",
         "Priority to District 15 students or residents",
         "Then to Brooklyn students or residents",
         "Then to New York City residents",
         null,
         null,
         null,
         null,
         null,
         null,
         null,
         "{'latitude': '40.669598175', 'longitude': '-73.979255522', 'human_address': '{\"address\": \"237 7 Avenue\", \"city\": \"Brooklyn\", \"state\": \"NY\", \"zip\": \"11215\"}'}",
         "6.0",
         "39.0",
         "155.0",
         "3025510.0",
         "3010820001.0",
         "Park Slope-Gowanus                                                         ",
         "17617.0",
         "14",
         "2",
         "27",
         "50"
        ]
       ],
       "shape": {
        "columns": 69,
        "rows": 5
       }
      },
      "text/html": [
       "<div>\n",
       "<style scoped>\n",
       "    .dataframe tbody tr th:only-of-type {\n",
       "        vertical-align: middle;\n",
       "    }\n",
       "\n",
       "    .dataframe tbody tr th {\n",
       "        vertical-align: top;\n",
       "    }\n",
       "\n",
       "    .dataframe thead th {\n",
       "        text-align: right;\n",
       "    }\n",
       "</style>\n",
       "<table border=\"1\" class=\"dataframe\">\n",
       "  <thead>\n",
       "    <tr style=\"text-align: right;\">\n",
       "      <th></th>\n",
       "      <th>dbn</th>\n",
       "      <th>school_name</th>\n",
       "      <th>borough</th>\n",
       "      <th>building_code</th>\n",
       "      <th>phone_number</th>\n",
       "      <th>fax_number</th>\n",
       "      <th>grade_span_min</th>\n",
       "      <th>grade_span_max</th>\n",
       "      <th>expgrade_span_min</th>\n",
       "      <th>expgrade_span_max</th>\n",
       "      <th>...</th>\n",
       "      <th>council_district</th>\n",
       "      <th>census_tract</th>\n",
       "      <th>bin</th>\n",
       "      <th>bbl</th>\n",
       "      <th>nta</th>\n",
       "      <th>zip_codes</th>\n",
       "      <th>community_districts</th>\n",
       "      <th>borough_boundaries</th>\n",
       "      <th>city_council_districts</th>\n",
       "      <th>police_precincts</th>\n",
       "    </tr>\n",
       "  </thead>\n",
       "  <tbody>\n",
       "    <tr>\n",
       "      <th>1</th>\n",
       "      <td>21K559</td>\n",
       "      <td>Life Academy High School for Film and Music</td>\n",
       "      <td>Brooklyn</td>\n",
       "      <td>K400</td>\n",
       "      <td>718-333-7750</td>\n",
       "      <td>718-333-7775</td>\n",
       "      <td>9.0</td>\n",
       "      <td>12</td>\n",
       "      <td>NaN</td>\n",
       "      <td>NaN</td>\n",
       "      <td>...</td>\n",
       "      <td>47.0</td>\n",
       "      <td>306.0</td>\n",
       "      <td>3186454.0</td>\n",
       "      <td>3.068830e+09</td>\n",
       "      <td>Gravesend                                     ...</td>\n",
       "      <td>17616.0</td>\n",
       "      <td>21</td>\n",
       "      <td>2</td>\n",
       "      <td>45</td>\n",
       "      <td>35</td>\n",
       "    </tr>\n",
       "    <tr>\n",
       "      <th>2</th>\n",
       "      <td>16K393</td>\n",
       "      <td>Frederick Douglass Academy IV Secondary School</td>\n",
       "      <td>Brooklyn</td>\n",
       "      <td>K026</td>\n",
       "      <td>718-574-2820</td>\n",
       "      <td>718-574-2821</td>\n",
       "      <td>9.0</td>\n",
       "      <td>12</td>\n",
       "      <td>NaN</td>\n",
       "      <td>NaN</td>\n",
       "      <td>...</td>\n",
       "      <td>36.0</td>\n",
       "      <td>291.0</td>\n",
       "      <td>3393805.0</td>\n",
       "      <td>3.016160e+09</td>\n",
       "      <td>Stuyvesant Heights                            ...</td>\n",
       "      <td>18181.0</td>\n",
       "      <td>69</td>\n",
       "      <td>2</td>\n",
       "      <td>49</td>\n",
       "      <td>52</td>\n",
       "    </tr>\n",
       "    <tr>\n",
       "      <th>7</th>\n",
       "      <td>17K122</td>\n",
       "      <td>Pathways in Technology Early College High Scho...</td>\n",
       "      <td>Brooklyn</td>\n",
       "      <td>K625</td>\n",
       "      <td>718-221-1593</td>\n",
       "      <td>718-221-1781</td>\n",
       "      <td>9.0</td>\n",
       "      <td>12</td>\n",
       "      <td>9.0</td>\n",
       "      <td>14.0</td>\n",
       "      <td>...</td>\n",
       "      <td>36.0</td>\n",
       "      <td>311.0</td>\n",
       "      <td>3030553.0</td>\n",
       "      <td>3.012160e+09</td>\n",
       "      <td>Crown Heights North                           ...</td>\n",
       "      <td>17615.0</td>\n",
       "      <td>16</td>\n",
       "      <td>2</td>\n",
       "      <td>49</td>\n",
       "      <td>49</td>\n",
       "    </tr>\n",
       "    <tr>\n",
       "      <th>10</th>\n",
       "      <td>23K644</td>\n",
       "      <td>Eagle Academy for Young Men II</td>\n",
       "      <td>Brooklyn</td>\n",
       "      <td>K271</td>\n",
       "      <td>718-495-0863</td>\n",
       "      <td>718-732-2129</td>\n",
       "      <td>6.0</td>\n",
       "      <td>12</td>\n",
       "      <td>NaN</td>\n",
       "      <td>NaN</td>\n",
       "      <td>...</td>\n",
       "      <td>41.0</td>\n",
       "      <td>301.0</td>\n",
       "      <td>3042157.0</td>\n",
       "      <td>3.015500e+09</td>\n",
       "      <td>Ocean Hill                                    ...</td>\n",
       "      <td>13516.0</td>\n",
       "      <td>55</td>\n",
       "      <td>2</td>\n",
       "      <td>17</td>\n",
       "      <td>46</td>\n",
       "    </tr>\n",
       "    <tr>\n",
       "      <th>12</th>\n",
       "      <td>15K462</td>\n",
       "      <td>Secondary School for Law</td>\n",
       "      <td>Brooklyn</td>\n",
       "      <td>K460</td>\n",
       "      <td>718-832-4250</td>\n",
       "      <td>718-499-3947</td>\n",
       "      <td>9.0</td>\n",
       "      <td>12</td>\n",
       "      <td>NaN</td>\n",
       "      <td>NaN</td>\n",
       "      <td>...</td>\n",
       "      <td>39.0</td>\n",
       "      <td>155.0</td>\n",
       "      <td>3025510.0</td>\n",
       "      <td>3.010820e+09</td>\n",
       "      <td>Park Slope-Gowanus                            ...</td>\n",
       "      <td>17617.0</td>\n",
       "      <td>14</td>\n",
       "      <td>2</td>\n",
       "      <td>27</td>\n",
       "      <td>50</td>\n",
       "    </tr>\n",
       "  </tbody>\n",
       "</table>\n",
       "<p>5 rows × 69 columns</p>\n",
       "</div>"
      ],
      "text/plain": [
       "       dbn                                        school_name   borough  \\\n",
       "1   21K559        Life Academy High School for Film and Music  Brooklyn   \n",
       "2   16K393     Frederick Douglass Academy IV Secondary School  Brooklyn   \n",
       "7   17K122  Pathways in Technology Early College High Scho...  Brooklyn   \n",
       "10  23K644                     Eagle Academy for Young Men II  Brooklyn   \n",
       "12  15K462                           Secondary School for Law  Brooklyn   \n",
       "\n",
       "   building_code  phone_number    fax_number  grade_span_min  grade_span_max  \\\n",
       "1           K400  718-333-7750  718-333-7775             9.0              12   \n",
       "2           K026  718-574-2820  718-574-2821             9.0              12   \n",
       "7           K625  718-221-1593  718-221-1781             9.0              12   \n",
       "10          K271  718-495-0863  718-732-2129             6.0              12   \n",
       "12          K460  718-832-4250  718-499-3947             9.0              12   \n",
       "\n",
       "    expgrade_span_min  expgrade_span_max  ... council_district census_tract  \\\n",
       "1                 NaN                NaN  ...             47.0        306.0   \n",
       "2                 NaN                NaN  ...             36.0        291.0   \n",
       "7                 9.0               14.0  ...             36.0        311.0   \n",
       "10                NaN                NaN  ...             41.0        301.0   \n",
       "12                NaN                NaN  ...             39.0        155.0   \n",
       "\n",
       "          bin           bbl  \\\n",
       "1   3186454.0  3.068830e+09   \n",
       "2   3393805.0  3.016160e+09   \n",
       "7   3030553.0  3.012160e+09   \n",
       "10  3042157.0  3.015500e+09   \n",
       "12  3025510.0  3.010820e+09   \n",
       "\n",
       "                                                  nta  zip_codes  \\\n",
       "1   Gravesend                                     ...    17616.0   \n",
       "2   Stuyvesant Heights                            ...    18181.0   \n",
       "7   Crown Heights North                           ...    17615.0   \n",
       "10  Ocean Hill                                    ...    13516.0   \n",
       "12  Park Slope-Gowanus                            ...    17617.0   \n",
       "\n",
       "   community_districts  borough_boundaries city_council_districts  \\\n",
       "1                   21                   2                     45   \n",
       "2                   69                   2                     49   \n",
       "7                   16                   2                     49   \n",
       "10                  55                   2                     17   \n",
       "12                  14                   2                     27   \n",
       "\n",
       "   police_precincts  \n",
       "1                35  \n",
       "2                52  \n",
       "7                49  \n",
       "10               46  \n",
       "12               50  \n",
       "\n",
       "[5 rows x 69 columns]"
      ]
     },
     "execution_count": 4,
     "metadata": {},
     "output_type": "execute_result"
    }
   ],
   "source": [
    "brooklyn_schools = df[df['borough'] == 'Brooklyn']\n",
    "brooklyn_schools.head()"
   ]
  },
  {
   "cell_type": "markdown",
   "id": "911eb6c9",
   "metadata": {},
   "source": [
    "## 4. Key Questions & Answers\n",
    "\n",
    "Following I will answer the questions."
   ]
  },
  {
   "cell_type": "code",
   "execution_count": 5,
   "id": "dd3b458f",
   "metadata": {},
   "outputs": [
    {
     "name": "stdout",
     "output_type": "stream",
     "text": [
      "There are 121 schools in Brooklyn.\n"
     ]
    }
   ],
   "source": [
    "# How many total schools are in Brooklyn? \n",
    "brkln_schools = brooklyn_schools['dbn'].nunique()\n",
    "print(f'There are {brkln_schools} schools in Brooklyn.')"
   ]
  },
  {
   "cell_type": "code",
   "execution_count": 6,
   "id": "9f6782f1",
   "metadata": {},
   "outputs": [
    {
     "name": "stdout",
     "output_type": "stream",
     "text": [
      "There are 99 Brooklyn schools that offer Grade 9 entry.\n"
     ]
    }
   ],
   "source": [
    "# How many Brooklyn schools offer Grade 9 entry?\n",
    "\n",
    "# For grade 9 analysis, drop rows with missing grade_span_min or grade_span_max\n",
    "brooklyn_schools_clean = brooklyn_schools.dropna(subset=['grade_span_min', 'grade_span_max'])\n",
    "\n",
    "brooklyn_grade9 = brooklyn_schools_clean[\n",
    "    (brooklyn_schools_clean['grade_span_min'].astype(str).str.contains('9')) |\n",
    "    (brooklyn_schools_clean['grade_span_max'].astype(str).str.contains('9'))\n",
    "]\n",
    "\n",
    "brkln_grd_9 = brooklyn_grade9['dbn'].nunique()\n",
    "\n",
    "print(f'There are {brkln_grd_9} Brooklyn schools that offer Grade 9 entry.')\n"
   ]
  },
  {
   "cell_type": "markdown",
   "id": "989469db",
   "metadata": {},
   "source": [
    "## 5. Grouped Summaries & Statistics"
   ]
  },
  {
   "cell_type": "code",
   "execution_count": 7,
   "id": "b90a75e8",
   "metadata": {},
   "outputs": [
    {
     "name": "stdout",
     "output_type": "stream",
     "text": [
      "Unique schools per\n",
      "borough\n",
      "Bronx            118\n",
      "Brooklyn         121\n",
      "Manhattan        106\n",
      "Queens            80\n",
      "Staten Island     10\n",
      "Name: dbn, dtype: int64\n"
     ]
    }
   ],
   "source": [
    "# Unique school count per borough\n",
    "unique_school_counts = df.groupby('borough')['dbn'].nunique()\n",
    "print(\"Unique schools per\")\n",
    "print(unique_school_counts)"
   ]
  },
  {
   "cell_type": "code",
   "execution_count": 8,
   "id": "90d72869",
   "metadata": {},
   "outputs": [
    {
     "name": "stdout",
     "output_type": "stream",
     "text": [
      "Average number of students per\n",
      "borough\n",
      "Bronx             490.4\n",
      "Brooklyn          699.1\n",
      "Manhattan         589.8\n",
      "Queens           1046.6\n",
      "Staten Island    1847.5\n",
      "Name: total_students, dtype: float64\n"
     ]
    }
   ],
   "source": [
    "# Average number of students per borough\n",
    "avg_students = df.groupby('borough')['total_students'].mean().round(1)\n",
    "print(\"Average number of students per\")\n",
    "print(avg_students)\n"
   ]
  },
  {
   "cell_type": "code",
   "execution_count": 9,
   "id": "51ebd437",
   "metadata": {},
   "outputs": [
    {
     "name": "stdout",
     "output_type": "stream",
     "text": [
      "Grade span max summary by borough:\n",
      "----------------------------------\n",
      "borough  Bronx  Brooklyn  Manhattan  Queens  Staten Island\n",
      "count    118.0     121.0      106.0    80.0           10.0\n",
      "mean      11.9      11.9       11.9    11.8           12.0\n",
      "std        0.4       0.4        0.5     0.5            0.0\n",
      "min        9.0       9.0        9.0    10.0           12.0\n",
      "25%       12.0      12.0       12.0    12.0           12.0\n",
      "50%       12.0      12.0       12.0    12.0           12.0\n",
      "75%       12.0      12.0       12.0    12.0           12.0\n",
      "max       12.0      12.0       12.0    12.0           12.0\n"
     ]
    }
   ],
   "source": [
    "# Summary statistics for grade_span_max grouped by borough\n",
    "grade_span_summary = df.groupby('borough')['grade_span_max'].describe().T.round(1)\n",
    "print(\"Grade span max summary by borough:\")\n",
    "print(\"----------------------------------\")\n",
    "print(grade_span_summary)"
   ]
  },
  {
   "cell_type": "markdown",
   "id": "e5f6edb0",
   "metadata": {},
   "source": [
    "## 6. Visualizations\n",
    "\n",
    "I visualize the number of schools per borough and the distribution of student numbers.\n"
   ]
  },
  {
   "cell_type": "code",
   "execution_count": 10,
   "id": "9005eb56",
   "metadata": {},
   "outputs": [
    {
     "data": {
      "image/png": "[encoded data removed]",
      "text/plain": [
       "<Figure size 700x400 with 1 Axes>"
      ]
     },
     "metadata": {},
     "output_type": "display_data"
    }
   ],
   "source": [
    "# Bar chart: Number of unique schools per borough\n",
    "plt.figure(figsize=(7, 4))\n",
    "sns.barplot(x=unique_school_counts.values, y=unique_school_counts.index)\n",
    "plt.title('Number of Unique Schools by Borough')\n",
    "plt.xlabel('Number of Schools')\n",
    "plt.ylabel('Borough')\n",
    "plt.show()\n",
    "\n"
   ]
  },
  {
   "cell_type": "code",
   "execution_count": 11,
   "id": "42e4c718",
   "metadata": {},
   "outputs": [
    {
     "data": {
      "image/png": "[encoded data removed]",
      "text/plain": [
       "<Figure size 800x400 with 1 Axes>"
      ]
     },
     "metadata": {},
     "output_type": "display_data"
    }
   ],
   "source": [
    "# Histogram: Distribution of total students per school\n",
    "plt.figure(figsize=(8, 4))\n",
    "sns.histplot(df['total_students'].dropna(), bins=30)\n",
    "plt.title('Distribution of Student Enrollment per School')\n",
    "plt.xlabel('Number of Students')\n",
    "plt.ylabel('Number of Schools')\n",
    "plt.show()\n"
   ]
  },
  {
   "cell_type": "markdown",
   "id": "22911780",
   "metadata": {},
   "source": [
    "## 7. Key Insights\n",
    "\n",
    "- Brooklyn has the highest number of unique schools among all boroughs.\n",
    "- The majority of Brooklyn high schools offer entry at Grade 9.\n",
    "- There is significant variation in average school size and grade span across boroughs.\n",
    "- The student population distribution is right-skewed: most schools are small, but a few enroll over 2,000 students.\n"
   ]
  },
  {
   "cell_type": "markdown",
   "id": "54ae64b1",
   "metadata": {},
   "source": [
    "## 8. Conclusions\n",
    "\n",
    "The analysis highlights Brooklyn's leading role in NYC high school education, both in quantity and grade 9 accessibility. Variations in school size and grade offerings reflect the diversity of educational opportunities in New York City. "
   ]
  }
 ],
 "metadata": {
  "kernelspec": {
   "display_name": "Python 3",
   "language": "python",
   "name": "python3"
  },
  "language_info": {
   "codemirror_mode": {
    "name": "ipython",
    "version": 3
   },
   "file_extension": ".py",
   "mimetype": "text/x-python",
   "name": "python",
   "nbconvert_exporter": "python",
   "pygments_lexer": "ipython3",
   "version": "3.9.0"
  }
 },
 "nbformat": 4,
 "nbformat_minor": 5
}
