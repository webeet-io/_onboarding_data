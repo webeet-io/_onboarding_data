{
  "nbformat": 4,
  "nbformat_minor": 0,
  "metadata": {
    "colab": {
      "provenance": []
    },
    "kernelspec": {
      "name": "python3",
      "display_name": "Python 3"
    },
    "language_info": {
      "name": "python"
    }
  },
  "cells": [
    {
      "cell_type": "markdown",
      "source": [
        "Loading libraries and dataset"
      ],
      "metadata": {
        "id": "Gtc4B-M0iRhV"
      }
    },
    {
      "cell_type": "code",
      "execution_count": 37,
      "metadata": {
        "id": "o6ijRJYScwfj"
      },
      "outputs": [],
      "source": [
        "import pandas as pd\n",
        "import matplotlib.pyplot as plt"
      ]
    },
    {
      "cell_type": "markdown",
      "source": [
        "Load .csv and Clean column names"
      ],
      "metadata": {
        "id": "e40SVORCii71"
      }
    },
    {
      "cell_type": "code",
      "source": [
        "df = pd.read_csv(\"high-school-directory.csv\")\n",
        "\n",
        "\n",
        "df.columns = (\n",
        "    df.columns\n",
        "    .str.strip() # Remove spaces rom begning and end\n",
        "    .str.lower() # Convert to lowercase\n",
        "    .str.replace(\" \", \"_\") # Replace spaces with underscores\n",
        "    .str.replace(r\"[^a-z0-9_]\", \"\", regex=True)  # Remove special characters\n",
        ")"
      ],
      "metadata": {
        "id": "VXwvt4-SiEeg"
      },
      "execution_count": 38,
      "outputs": []
    },
    {
      "cell_type": "markdown",
      "source": [
        "Filter for Brooklyn schools"
      ],
      "metadata": {
        "id": "02F4OKDKi6Hp"
      }
    },
    {
      "cell_type": "code",
      "source": [
        "brooklyn_schools = df[df['borough'].str.upper() == 'BROOKLYN']"
      ],
      "metadata": {
        "id": "pS-Zt_Q9iEsE"
      },
      "execution_count": 39,
      "outputs": []
    },
    {
      "cell_type": "markdown",
      "source": [
        "Total schools in Brooklyn"
      ],
      "metadata": {
        "id": "lkXd96_ZiEyj"
      }
    },
    {
      "cell_type": "code",
      "source": [
        "total_brooklyn_schools = brooklyn_schools.shape[0]\n",
        "print(f\"Total schools in Brooklyn: {total_brooklyn_schools}\")"
      ],
      "metadata": {
        "colab": {
          "base_uri": "https://localhost:8080/"
        },
        "id": "aHeBWtPjiE40",
        "outputId": "d1acc82d-e349-4996-fce0-8a18db236625"
      },
      "execution_count": 40,
      "outputs": [
        {
          "output_type": "stream",
          "name": "stdout",
          "text": [
            "Total schools in Brooklyn: 121\n"
          ]
        }
      ]
    },
    {
      "cell_type": "markdown",
      "source": [
        "Schools offering Grade 9 entry just in Brooklyn"
      ],
      "metadata": {
        "id": "cm-OOw3qznw6"
      }
    },
    {
      "cell_type": "code",
      "source": [
        "brooklyn_schools = df[df['borough'] == 'BROOKLYN'].copy()\n",
        "if 'grade_span_min' in brooklyn_schools.columns:\n",
        "    brooklyn_schools['grade_span_min'] = pd.to_numeric(brooklyn_schools['grade_span_min'], errors='coerce')\n",
        "    grade9_schools = brooklyn_schools[brooklyn_schools['grade_span_min'] <= 9].shape[0]\n",
        "    print(f\"Schools in Brooklyn with Grade 9 entry: {grade9_schools}\")\n",
        "else:\n",
        "    print(\"Column 'grade_span_min' not found in dataset.\")"
      ],
      "metadata": {
        "colab": {
          "base_uri": "https://localhost:8080/"
        },
        "id": "HMWybKnoztRg",
        "outputId": "ae684730-be5b-4879-8fa9-fb3b575ddcde"
      },
      "execution_count": 41,
      "outputs": [
        {
          "output_type": "stream",
          "name": "stdout",
          "text": [
            "Schools in Brooklyn with Grade 9 entry: 0\n"
          ]
        }
      ]
    },
    {
      "cell_type": "markdown",
      "source": [
        "Schools offering Grade 9 entry Overall"
      ],
      "metadata": {
        "id": "UWhRA83HDnKZ"
      }
    },
    {
      "cell_type": "code",
      "source": [
        "if 'grade_span_min' in df.columns:\n",
        "    df['grade_span_min'] = pd.to_numeric(df['grade_span_min'], errors='coerce')\n",
        "    grade9_schools_all = df[df['grade_span_min'] <= 9].shape[0]\n",
        "    print(f\"Total schools offering Grade 9 entry: {grade9_schools_all}\")\n",
        "else:\n",
        "    print(\"Column 'grade_span_min' not found in dataset.\")"
      ],
      "metadata": {
        "colab": {
          "base_uri": "https://localhost:8080/"
        },
        "id": "L6ljcD0ADxKF",
        "outputId": "892c694b-2578-47d4-c091-0f4a4deb6a22"
      },
      "execution_count": 42,
      "outputs": [
        {
          "output_type": "stream",
          "name": "stdout",
          "text": [
            "Total schools offering Grade 9 entry: 432\n"
          ]
        }
      ]
    },
    {
      "cell_type": "markdown",
      "source": [
        "Count of schools per borough"
      ],
      "metadata": {
        "id": "yOplRfsCzzOT"
      }
    },
    {
      "cell_type": "code",
      "source": [
        "school_count_per_borough = df['borough'].value_counts()\n",
        "print(\"\\nSchools per borough:\")\n",
        "print(school_count_per_borough)"
      ],
      "metadata": {
        "colab": {
          "base_uri": "https://localhost:8080/"
        },
        "id": "MIbc1Gn6z34-",
        "outputId": "8e8fdd5b-2a72-4d56-cdce-9f9006d3f4c2"
      },
      "execution_count": 43,
      "outputs": [
        {
          "output_type": "stream",
          "name": "stdout",
          "text": [
            "\n",
            "Schools per borough:\n",
            "borough\n",
            "Brooklyn         121\n",
            "Bronx            118\n",
            "Manhattan        106\n",
            "Queens            80\n",
            "Staten Island     10\n",
            "Name: count, dtype: int64\n"
          ]
        }
      ]
    },
    {
      "cell_type": "markdown",
      "source": [
        "Average number of students per borough"
      ],
      "metadata": {
        "id": "jx0kvWCjz9CF"
      }
    },
    {
      "cell_type": "code",
      "source": [
        "if 'total_students' in df.columns:\n",
        "    avg_students_per_borough = (\n",
        "        df.groupby('borough')['total_students']\n",
        "        .mean()\n",
        "        .round(0)  # to round to whole numbers\n",
        "        .astype(int)  # to convert to integers for clean display\n",
        "    )\n",
        "    print(\"\\nAverage number of students per borough:\")\n",
        "    print(avg_students_per_borough)"
      ],
      "metadata": {
        "colab": {
          "base_uri": "https://localhost:8080/"
        },
        "id": "pL6RG45F0BhA",
        "outputId": "6afc74e7-a99e-46d0-e57a-af472c01f1f3"
      },
      "execution_count": 44,
      "outputs": [
        {
          "output_type": "stream",
          "name": "stdout",
          "text": [
            "\n",
            "Average number of students per borough:\n",
            "borough\n",
            "Bronx             490\n",
            "Brooklyn          699\n",
            "Manhattan         590\n",
            "Queens           1047\n",
            "Staten Island    1848\n",
            "Name: total_students, dtype: int64\n"
          ]
        }
      ]
    },
    {
      "cell_type": "markdown",
      "source": [
        "Summary of grade_span_max grouped by borough"
      ],
      "metadata": {
        "id": "3D8FgOck0LWT"
      }
    },
    {
      "cell_type": "code",
      "source": [
        "if 'grade_span_max' in df.columns:\n",
        "    grade_span_summary = df.groupby('borough')['grade_span_max'].describe()\n",
        "    print(\"\\nGrade span max summary by borough:\")\n",
        "    print(grade_span_summary)"
      ],
      "metadata": {
        "colab": {
          "base_uri": "https://localhost:8080/"
        },
        "id": "XOf-WP3X0Mq1",
        "outputId": "df12d180-d79a-414a-b1e2-1aef98faf4b0"
      },
      "execution_count": 45,
      "outputs": [
        {
          "output_type": "stream",
          "name": "stdout",
          "text": [
            "\n",
            "Grade span max summary by borough:\n",
            "               count       mean       std   min   25%   50%   75%   max\n",
            "borough                                                                \n",
            "Bronx          118.0  11.906780  0.369506   9.0  12.0  12.0  12.0  12.0\n",
            "Brooklyn       121.0  11.933884  0.381566   9.0  12.0  12.0  12.0  12.0\n",
            "Manhattan      106.0  11.877358  0.472135   9.0  12.0  12.0  12.0  12.0\n",
            "Queens          80.0  11.825000  0.497462  10.0  12.0  12.0  12.0  12.0\n",
            "Staten Island   10.0  12.000000  0.000000  12.0  12.0  12.0  12.0  12.0\n"
          ]
        }
      ]
    },
    {
      "cell_type": "markdown",
      "source": [
        "Viz: Number of schools per borough"
      ],
      "metadata": {
        "id": "oTbX8prT0VYO"
      }
    },
    {
      "cell_type": "code",
      "source": [
        "plt.figure(figsize=(8, 5))\n",
        "school_count_per_borough.plot(kind='bar')\n",
        "plt.title(\"Number of Schools per Borough\")\n",
        "plt.xlabel(\"Borough\")\n",
        "plt.ylabel(\"Number of Schools\")\n",
        "plt.tight_layout()\n",
        "plt.show()"
      ],
      "metadata": {
        "colab": {
          "base_uri": "https://localhost:8080/",
          "height": 507
        },
        "id": "fdNxOUpz0WBZ",
        "outputId": "5953ca11-83f4-4041-ae61-df858113635b"
      },
      "execution_count": 46,
      "outputs": [
        {
          "output_type": "display_data",
          "data": {
            "text/plain": [
              "<Figure size 800x500 with 1 Axes>"
            ],
            "image/png": "[encoded data removed]"
          },
          "metadata": {}
        }
      ]
    },
    {
      "cell_type": "markdown",
      "source": [
        "Additional Insights"
      ],
      "metadata": {
        "id": "C1gxmVjZEkC6"
      }
    },
    {
      "cell_type": "code",
      "source": [
        "schools_per_borough = df['borough'].value_counts()\n",
        "brooklyn_schools_count = schools_per_borough.get('BROOKLYN', 0)\n",
        "print(f\"- Brooklyn has the highest number of schools among all boroughs, with {brooklyn_schools_count} schools in the dataset.\")\n",
        "\n",
        "if 'total_students' in df.columns:\n",
        "    avg_students_per_borough = df.groupby('borough')['total_students'].mean().round(0).astype(int)\n",
        "    highest_avg_borough = avg_students_per_borough.idxmax()\n",
        "    highest_avg_value = avg_students_per_borough.max()\n",
        "    if highest_avg_borough == 'STATEN ISLAND':\n",
        "        print(f\"- Staten Island, while having the fewest schools, has the highest average student population per school ({highest_avg_value} students).\")\n",
        "    else:\n",
        "        print(f\"- {highest_avg_borough} has the highest average student population per school ({highest_avg_value} students).\")\n",
        "\n",
        "if 'grade_span_max' in df.columns:\n",
        "    grade12_count = (df['grade_span_max'] == 12).sum()\n",
        "    total_schools = len(df)\n",
        "    percent_grade12 = round((grade12_count / total_schools) * 100, 2)\n",
        "    print(f\"- Across boroughs, the majority of schools have a grade_span_max of 12 ({percent_grade12}%), meaning they provide full high school education.\")\n",
        "\n",
        "if 'total_students' in df.columns:\n",
        "    min_students = int(df['total_students'].min())\n",
        "    max_students = int(df['total_students'].max())\n",
        "    print(f\"- The student population distribution is uneven, ranging from {min_students} to {max_students} students, suggesting possible differences in school sizes and catchment areas between boroughs.\")\n"
      ],
      "metadata": {
        "colab": {
          "base_uri": "https://localhost:8080/"
        },
        "id": "_pYC_tXFFrle",
        "outputId": "92d8138d-57e9-4839-c4d0-7cf8b761545a"
      },
      "execution_count": 47,
      "outputs": [
        {
          "output_type": "stream",
          "name": "stdout",
          "text": [
            "- Brooklyn has the highest number of schools among all boroughs, with 0 schools in the dataset.\n",
            "- Staten Island has the highest average student population per school (1848 students).\n",
            "- Across boroughs, the majority of schools have a grade_span_max of 12 (92.87%), meaning they provide full high school education.\n",
            "- The student population distribution is uneven, ranging from 50 to 5458 students, suggesting possible differences in school sizes and catchment areas between boroughs.\n"
          ]
        }
      ]
    }
  ]
}