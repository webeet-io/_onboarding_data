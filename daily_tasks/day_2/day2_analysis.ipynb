{
 "cells": [
  {
   "cell_type": "markdown",
   "id": "e9454988",
   "metadata": {},
   "source": [
    "# Onboarding Day 2 - NYC High School Directory Analysis"
   ]
  },
  {
   "cell_type": "code",
   "execution_count": 1,
   "id": "7d4f8a42",
   "metadata": {},
   "outputs": [],
   "source": [
    "import pandas as pd\n",
    "import numpy as np\n",
    "import matplotlib.pyplot as plt\n",
    "import re"
   ]
  },
  {
   "cell_type": "markdown",
   "id": "bc14ccf2",
   "metadata": {},
   "source": [
    "**Q**: Load the dataset using pandas"
   ]
  },
  {
   "cell_type": "code",
   "execution_count": 2,
   "id": "36830c96",
   "metadata": {},
   "outputs": [
    {
     "data": {
      "application/vnd.microsoft.datawrangler.viewer.v0+json": {
       "columns": [
        {
         "name": "index",
         "rawType": "int64",
         "type": "integer"
        },
        {
         "name": "dbn",
         "rawType": "object",
         "type": "string"
        },
        {
         "name": "school_name",
         "rawType": "object",
         "type": "string"
        },
        {
         "name": "borough",
         "rawType": "object",
         "type": "string"
        },
        {
         "name": "building_code",
         "rawType": "object",
         "type": "string"
        },
        {
         "name": "phone_number",
         "rawType": "object",
         "type": "string"
        },
        {
         "name": "fax_number",
         "rawType": "object",
         "type": "string"
        },
        {
         "name": "grade_span_min",
         "rawType": "float64",
         "type": "float"
        },
        {
         "name": "grade_span_max",
         "rawType": "int64",
         "type": "integer"
        },
        {
         "name": "expgrade_span_min",
         "rawType": "float64",
         "type": "float"
        },
        {
         "name": "expgrade_span_max",
         "rawType": "float64",
         "type": "float"
        },
        {
         "name": "bus",
         "rawType": "object",
         "type": "string"
        },
        {
         "name": "subway",
         "rawType": "object",
         "type": "unknown"
        },
        {
         "name": "primary_address_line_1",
         "rawType": "object",
         "type": "string"
        },
        {
         "name": "city",
         "rawType": "object",
         "type": "string"
        },
        {
         "name": "state_code",
         "rawType": "object",
         "type": "string"
        },
        {
         "name": "postcode",
         "rawType": "int64",
         "type": "integer"
        },
        {
         "name": "website",
         "rawType": "object",
         "type": "string"
        },
        {
         "name": "total_students",
         "rawType": "float64",
         "type": "float"
        },
        {
         "name": "campus_name",
         "rawType": "object",
         "type": "unknown"
        },
        {
         "name": "school_type",
         "rawType": "object",
         "type": "unknown"
        },
        {
         "name": "overview_paragraph",
         "rawType": "object",
         "type": "string"
        },
        {
         "name": "program_highlights",
         "rawType": "object",
         "type": "string"
        },
        {
         "name": "language_classes",
         "rawType": "object",
         "type": "string"
        },
        {
         "name": "advancedplacement_courses",
         "rawType": "object",
         "type": "unknown"
        },
        {
         "name": "online_ap_courses",
         "rawType": "object",
         "type": "unknown"
        },
        {
         "name": "online_language_courses",
         "rawType": "object",
         "type": "unknown"
        },
        {
         "name": "extracurricular_activities",
         "rawType": "object",
         "type": "string"
        },
        {
         "name": "psal_sports_boys",
         "rawType": "object",
         "type": "unknown"
        },
        {
         "name": "psal_sports_girls",
         "rawType": "object",
         "type": "unknown"
        },
        {
         "name": "psal_sports_coed",
         "rawType": "object",
         "type": "unknown"
        },
        {
         "name": "school_sports",
         "rawType": "object",
         "type": "unknown"
        },
        {
         "name": "partner_cbo",
         "rawType": "object",
         "type": "unknown"
        },
        {
         "name": "partner_hospital",
         "rawType": "object",
         "type": "unknown"
        },
        {
         "name": "partner_highered",
         "rawType": "object",
         "type": "string"
        },
        {
         "name": "partner_cultural",
         "rawType": "object",
         "type": "unknown"
        },
        {
         "name": "partner_nonprofit",
         "rawType": "object",
         "type": "string"
        },
        {
         "name": "partner_corporate",
         "rawType": "object",
         "type": "unknown"
        },
        {
         "name": "partner_financial",
         "rawType": "object",
         "type": "unknown"
        },
        {
         "name": "partner_other",
         "rawType": "object",
         "type": "unknown"
        },
        {
         "name": "addtl_info1",
         "rawType": "object",
         "type": "string"
        },
        {
         "name": "addtl_info2",
         "rawType": "object",
         "type": "unknown"
        },
        {
         "name": "start_time",
         "rawType": "object",
         "type": "string"
        },
        {
         "name": "end_time",
         "rawType": "object",
         "type": "string"
        },
        {
         "name": "se_services",
         "rawType": "object",
         "type": "string"
        },
        {
         "name": "ell_programs",
         "rawType": "object",
         "type": "string"
        },
        {
         "name": "school_accessibility_description",
         "rawType": "object",
         "type": "string"
        },
        {
         "name": "number_programs",
         "rawType": "int64",
         "type": "integer"
        },
        {
         "name": "priority01",
         "rawType": "object",
         "type": "string"
        },
        {
         "name": "priority02",
         "rawType": "object",
         "type": "string"
        },
        {
         "name": "priority03",
         "rawType": "object",
         "type": "unknown"
        },
        {
         "name": "priority04",
         "rawType": "object",
         "type": "unknown"
        },
        {
         "name": "priority05",
         "rawType": "object",
         "type": "unknown"
        },
        {
         "name": "priority06",
         "rawType": "object",
         "type": "unknown"
        },
        {
         "name": "priority07",
         "rawType": "object",
         "type": "unknown"
        },
        {
         "name": "priority08",
         "rawType": "object",
         "type": "unknown"
        },
        {
         "name": "priority09",
         "rawType": "object",
         "type": "unknown"
        },
        {
         "name": "priority10",
         "rawType": "object",
         "type": "unknown"
        },
        {
         "name": "Location 1",
         "rawType": "object",
         "type": "string"
        },
        {
         "name": "Community Board",
         "rawType": "float64",
         "type": "float"
        },
        {
         "name": "Council District",
         "rawType": "float64",
         "type": "float"
        },
        {
         "name": "Census Tract",
         "rawType": "float64",
         "type": "float"
        },
        {
         "name": "BIN",
         "rawType": "float64",
         "type": "float"
        },
        {
         "name": "BBL",
         "rawType": "float64",
         "type": "float"
        },
        {
         "name": "NTA",
         "rawType": "object",
         "type": "string"
        },
        {
         "name": "Zip Codes",
         "rawType": "float64",
         "type": "float"
        },
        {
         "name": "Community Districts",
         "rawType": "int64",
         "type": "integer"
        },
        {
         "name": "Borough Boundaries",
         "rawType": "int64",
         "type": "integer"
        },
        {
         "name": "City Council Districts",
         "rawType": "int64",
         "type": "integer"
        },
        {
         "name": "Police Precincts",
         "rawType": "int64",
         "type": "integer"
        }
       ],
       "ref": "b9d00e0f-6aa9-47ee-8967-5fba79633dc7",
       "rows": [
        [
         "0",
         "27Q260",
         "Frederick Douglass Academy VI High School",
         "Queens",
         "Q465",
         "718-471-2154",
         "718-471-2890",
         "9.0",
         "12",
         null,
         null,
         "Q113, Q22",
         "A to Beach 25th St-Wavecrest",
         "8-21 Bay 25 Street",
         "Far Rockaway",
         "NY",
         "11691",
         "http://schools.nyc.gov/schoolportals/27/Q260",
         "412.0",
         "Far Rockaway Educational Campus",
         null,
         "Frederick Douglass Academy (FDA) VI High School is a high school built on Dr. Lorraine Monroe’s vision of academic and personal excellence for all students. The emphasis on college preparation is supported by a challenging academic program and cultural enrichment. A set of core rules visible at every Frederick Douglass Academy signals the seriousness of purpose for the school, its students and teachers. All students must adhere to a code of student conduct, the Scholar’s Creed and a strict uniform code. Students are also required to participate in extensive after-school academic enrichment programs.",
         "Advisory, Graphic Arts Design, Teaching Internship; College tours: citywide for freshmen, statewide for sophomores and out-of-state for juniors; National and international educational trips",
         "Spanish",
         "Calculus AB, English Language and Composition, English Literature and Composition, United States History",
         "Biology, Physics B",
         "French, Spanish",
         "After-school Program, Book, Writing, Homework Help, Honor Society, Journalism, Lunch & Learn, PSAT and SAT Prep, Saturday Program, Step Team, Student Government, Summer Institute, Video, Tech, Yearbook, Computer Graphics, Robotics, Cheerleading",
         "Basketball, Cross Country, Indoor Track, Outdoor Track, Soccer, Softball, Swimming, Tennis, Volleyball",
         "Basketball, Cross Country, Indoor Track, Outdoor Track, Soccer, Softball, Swimming, Tennis, Volleyball",
         null,
         "Step Team, Modern Dance, Hip Hop Dance",
         null,
         "Jamaica Hospital Medical Center, Peninsula Hospital Center",
         "York College, Brooklyn College, St. John's College",
         null,
         "Queens District Attorney, Sports and Arts Foundation, CMS",
         "Replications, Inc.",
         "Citibank",
         "New York Road Runners Foundation (NYRRF)",
         "Uniform Required: plain white collared shirt, black pants/skirt, FDA tie/FDA scarf, black shoes",
         "Extended Day Program, Student Summer Orientation, Summer Internship Program offered, Weekend Program offered",
         "7:45 AM",
         "2:05 PM",
         "This school will provide students with disabilities the supports and services indicated on their IEPs.",
         "ESL",
         "Not Functionally Accessible",
         "1",
         "Priority to Queens students or residents who attend an information session",
         "Then to New York City residents who attend an information session",
         "Then to Queens students or residents",
         "Then to New York City residents",
         null,
         null,
         null,
         null,
         null,
         null,
         "{'latitude': '40.601989336', 'longitude': '-73.762834323', 'human_address': '{\"address\": \"8 21 Bay 25 Street\", \"city\": \"Far Rockaway\", \"state\": \"NY\", \"zip\": \"11691\"}'}",
         "14.0",
         "31.0",
         "100802.0",
         "4300730.0",
         "4157360001.0",
         "Far Rockaway-Bayswater                                                     ",
         "20529.0",
         "51",
         "3",
         "47",
         "59"
        ],
        [
         "1",
         "21K559",
         "Life Academy High School for Film and Music",
         "Brooklyn",
         "K400",
         "718-333-7750",
         "718-333-7775",
         "9.0",
         "12",
         null,
         null,
         "B1, B3, B4, B6, B64, B82",
         "D to 25th Ave ; N to Ave U ; N to Gravesend - 86th St",
         "2630 Benson Avenue",
         "Brooklyn",
         "NY",
         "11214",
         "http://schools.nyc.gov/schoolportals/21/K559",
         "260.0",
         "Lafayette Educational Campus",
         null,
         "At Life Academy High School for Film and Music, we infuse the study of film, the art of filmmaking, audio production and new media into engaging, student-centered and project-based courses. We focus on building communication skills in writing, presentation and creativity. Our Advisory program helps each student develop personal relationships and positive citizenship. We seek students who want to learn in an exciting atmosphere of excellence and creative collaboration.",
         "College Now, iLEARN courses, Art and Film Production courses including film, set design, audio production, cinematography, animation, storyboarding art",
         "Spanish",
         null,
         "Biology, English Literature and Composition, European History, United States History, World History",
         null,
         "Film, Music, Talent Show, Holiday Concert, Student Council, After school tutoring in content areas, iLEARN courses, and other programs of student interest based on grant funding.",
         "Basketball, Bowling, Indoor Track, Soccer, Softball, Volleyball",
         "Basketball, Bowling, Indoor Track, Soccer, Softball, Volleyball",
         "Cricket",
         null,
         "Coney Island Generation Gap",
         null,
         "City Tech, Kingsborough Early College Secondary School, City University of New Jersey",
         "Museum of the Moving Image, New York Public Library",
         "Institute for Student Achievement",
         "Film Life, Inc., SONY Wonder Tech",
         null,
         null,
         "Our school requires completion of a Common Core Learning Standards Skills Portfolio for Assessment in every class",
         null,
         "8:15 AM",
         "3:00 PM",
         "This school will provide students with disabilities the supports and services indicated on their IEPs.",
         "ESL",
         "Functionally Accessible",
         "1",
         "Priority to New York City residents who attend an information session",
         "Then to New York City residents",
         null,
         null,
         null,
         null,
         null,
         null,
         null,
         null,
         "{'latitude': '40.593593811', 'longitude': '-73.984729232', 'human_address': '{\"address\": \"2630 Benson Avenue\", \"city\": \"Brooklyn\", \"state\": \"NY\", \"zip\": \"11214\"}'}",
         "13.0",
         "47.0",
         "306.0",
         "3186454.0",
         "3068830001.0",
         "Gravesend                                                                  ",
         "17616.0",
         "21",
         "2",
         "45",
         "35"
        ],
        [
         "2",
         "16K393",
         "Frederick Douglass Academy IV Secondary School",
         "Brooklyn",
         "K026",
         "718-574-2820",
         "718-574-2821",
         "9.0",
         "12",
         null,
         null,
         "B15, B38, B46, B47, B52, B54, Q24",
         "J to Kosciusko St ; M, Z to Myrtle Ave",
         "1014 Lafayette Avenue",
         "Brooklyn",
         "NY",
         "11221",
         "http://schools.nyc.gov/schoolportals/16/K393",
         "155.0",
         null,
         null,
         "The Frederick Douglass Academy IV (FDA IV) Secondary School is a place of scholarship. Our students are considered scholars. We create an atmosphere of order, civility, maturity and seriousness of purpose. A set of core rules referred to as the ‘twelve non-negotiables’ establish and maintain this environment. Scholars at the Frederick Douglas Academy IV Secondary School are instilled with a Scholar’s Creed, adapted from the Morehouse College Students’ Creed, that reinforces the school’s cohesive culture, underscores its high expectations and builds the scholars’ sense of pride in their school and themselves.",
         "College Now with Medgar Evers College, Fresh Prep Core, Science, Technology, Engineering & Mathematics (STEM) Robotics with New York City College of Technology, Dance4Peace",
         "French, Spanish",
         "English Language and Composition, United States History",
         "French Language and Culture",
         null,
         "After-school and Saturday Programs, Art Studio Group, Book, Cheerleading Team, Chess Team, Dance, Dance Ensemble, Homework Help, Lunch and Learn, Peer Mediation, Music, PSAT/SAT Prep, Scholars Government Association (SGA), Step Team, Summer Institute, Achieving Change in our Neighborhood (Teen Action), Violin, String Instruments, CHAMPS, School Leadership Team, Financial Literacy, Yoga, Anti-Bullying, Violence Prevention, Yearbook",
         null,
         null,
         null,
         "Basketball Team",
         "Achieving Change in our Neighborhood (Teen ACTION) St.Nicks Alliance, New York City College of Technology – STEM Robotics, Fresh Prep and New York Hall of Science",
         null,
         "Medgar Evers College",
         "Noel Pointer School of Music",
         "Hip-Hop 4 Life, Urban Arts, and St. Nicks Alliance",
         null,
         null,
         null,
         "Dress Code Required: solid white shirt/blouse, navy blue blazer, gray pants/skirt, navy blue tie/scarf, black dress shoes, Participation in our 2-day FDA IV Prep Institute (Orientation) is required for incoming students, Extended Day Program",
         "Student Summer Orientation, Weekend Program offered",
         "8:00 AM",
         "2:20 PM",
         "This school will provide students with disabilities the supports and services indicated on their IEPs.",
         "ESL",
         "Not Functionally Accessible",
         "1",
         "Priority to continuing 8th graders",
         "Then to Brooklyn students or residents who attend an information session",
         "Then to New York City residents who attend an information session",
         "Then to Brooklyn students or residents",
         "Then to New York City residents",
         null,
         null,
         null,
         null,
         null,
         "{'latitude': '40.692133704', 'longitude': '-73.931503172', 'human_address': '{\"address\": \"1014 Lafayette Avenue\", \"city\": \"Brooklyn\", \"state\": \"NY\", \"zip\": \"11221\"}'}",
         "3.0",
         "36.0",
         "291.0",
         "3393805.0",
         "3016160001.0",
         "Stuyvesant Heights                                                         ",
         "18181.0",
         "69",
         "2",
         "49",
         "52"
        ],
        [
         "3",
         "08X305",
         "Pablo Neruda Academy",
         "Bronx",
         "X450",
         "718-824-1682",
         "718-824-1663",
         "9.0",
         "12",
         null,
         null,
         "Bx22, Bx27, Bx36, Bx39, Bx5",
         null,
         "1980 Lafayette Avenue",
         "Bronx",
         "NY",
         "10473",
         "www.pablonerudaacademy.org",
         "335.0",
         "Adlai E. Stevenson Educational Campus",
         null,
         "Our mission is to engage, inspire, and educate our students so that they develop skills to succeed in college and beyond. Our students work in small groups, guided by skilled and caring teachers, to solve challenging problems. Each student is well-known by staff members, and is assigned an advisor who works closely with them each week to monitor their progress. We celebrate successes and students are recognized for their accomplishments.",
         "Advanced Placement courses, Electives courses including: Art & Design, Criminal Justice, Entrepreneurship, Careers & Internships, and Advanced Art; Student Learning Communities, Internship Opportunities, Individualized Student Programming, Credit-bearing Online Courses (iLearn) and After-school Enrichment Classes; College Now & JumpStart (Credit-bearing College Courses)",
         "Spanish",
         "Art History, English Language and Composition, English Literature and Composition, United States Government and Politics",
         null,
         "Spanish",
         "Youth Court, Student Government, Youth Service, Youth Service Leaders, Art, Graffiti Mural, Yearbook, Homework Help & Tutoring Services, Regents Prep, Saturday Academy, Senior Committee, Video Game, Yoga, Dance, Digital Media, Book, Chess, Soccer, Softball, Basketball Intramurals, National Honor Society",
         "Basketball, Outdoor Track, Softball, Tennis, Volleyball",
         "Basketball, Outdoor Track, Softball, Tennis, Volleyball",
         null,
         "Baseball, Basketball, Flag Football, Soccer, Softball, Volleyball",
         null,
         "Soundview Health Center, Bronx Lebanon Hospital Center, Montefiore Medical Center",
         "Hostos Community College, Monroe College, Lehman College",
         "Chilean Consulate, Materials for the Arts",
         "Network for Teaching Entrepreneurship (NFTE), BISCEP (The Leadership Program), New York Cares, Institute for Student Achievement (ISA), PENCIL",
         null,
         null,
         "iLearnNYC",
         "All students are individually programmed (based on academic needs), Incoming 9th grade students attend our Summer Orientation Session, All students are assigned to a small Student Learning Community that meets twice a week, College preparation begins in 9th grade and continues through 12th grade; this preparation includes College Trips (in-state, out-of-state, trade schools), College Fairs, College Workshops",
         "Extended Day Program",
         "8:00 AM",
         "3:50 PM",
         "This school will provide students with disabilities the supports and services indicated on their IEPs.",
         "ESL",
         "Functionally Accessible",
         "1",
         "Priority to Bronx students or residents who attend an information session",
         "Then to New York City residents who attend an information session",
         "Then to Bronx students or residents",
         "Then to New York City residents",
         null,
         null,
         null,
         null,
         null,
         null,
         "{'latitude': '40.822303765', 'longitude': '-73.85596139', 'human_address': '{\"address\": \"1980 Lafayette Avenue\", \"city\": \"Bronx\", \"state\": \"NY\", \"zip\": \"10473\"}'}",
         "9.0",
         "18.0",
         "16.0",
         "2022205.0",
         "2036040039.0",
         "Soundview-Castle Hill-Clason Point-Harding Park                            ",
         "11611.0",
         "58",
         "5",
         "31",
         "26"
        ],
        [
         "4",
         "03M485",
         "Fiorello H. LaGuardia High School of Music & Art and Performing Arts",
         "Manhattan",
         "M485",
         "212-496-0700",
         "212-724-5748",
         "9.0",
         "12",
         null,
         null,
         "M10, M104, M11, M20, M31, M5, M57, M66, M7, M72",
         "1 to 66th St - Lincoln Center ; 2, 3 to 72nd St ; A, B, C, D to 59th St-Columbus Circle",
         "100 Amsterdam Avenue",
         "New York",
         "NY",
         "10023",
         "www.laguardiahs.org",
         "2730.0",
         null,
         "Specialized School",
         "We enjoy an international reputation as the first and foremost high school dedicated to nurturing students gifted in the arts. Our mission is to provide an opportunity for students to pursue both a rigorous conservatory-style training and a challenging academic program. Our building features world-class facilities including a concert hall; art, dance, music, recording and theater studios, science and computer labs, and an art gallery. Almost all of our graduates continue their studies, gaining admission to highly selective schools. Our graduates have distinguished themselves in virtually every field, including the arts and sciences, medicine, law, business, education and public service.",
         "Students have a daily program that includes both a multi-period conservatory studio block and a full college preparatory academic course load. The studio majors are: Dance, Drama, Fine Arts, Instrumental Music, Technical Theater and Vocal Music. Each studio has a four-year sequence of courses and opportunities for students to participate in performances and exhibitions. Students completing the applicable NYC Studio Comprehensive exam receive a special endorsement on their diploma. Honors courses are offered in all academic areas starting in the freshman year, leading to a full complement of Advanced Placement courses.",
         "French, Italian, Japanese, Spanish",
         "Art History, Biology, Calculus AB, Calculus BC, Chemistry, Comparative Government and Politics, English Language and Composition, English Literature and Composition, Environmental Science, European History, French Language and Culture, Italian Language and Culture, Japanese Language and Culture, Music Theory, Physics B, Psychology, Spanish Language and Culture, Statistics, Studio Art: 2-D Design, Studio Art: 3-D Design, Studio Art: Drawing, United States Government and Politics, United States History, World History",
         null,
         "Spanish",
         "Amnesty International, Anime, Annual Musical, Arista, Art Exhibits, ASPIRA, Black Student Union, Chinese Student Association, Claymazing, Comic Book, Cult Classics, Dance Programs, DaVinci Scholars Program, Debate Team, Disney VoluntEars, Drama Festivals, Environmental, Fashion, Film, Future Voters of America, Gay/Straight Alliance, Girls Learn International, Habitat for Humanity, Harry Potter, Independent Film, Jewish Union, Literary Magazine, Math Team, Mock Trial, Moot Court, Murals, National Honor Society, National Language Honors Society, Newspaper, Orchestral and Vocal Concerts, Random Acts of Kindness, Red Cross, Relay For Life, School Leadership Team (SLT), Science Outreach League, Shamisen, Social Action, Splashes of Hope, Student Government Organization, Ukulele For Good, Yearbook",
         "Basketball, Bowling, Cross Country, Fencing, Gymnastics, Handball, Indoor Track, Outdoor Track, Soccer, Softball, Swimming, Volleyball",
         "Basketball, Bowling, Cross Country, Fencing, Gymnastics, Handball, Indoor Track, Outdoor Track, Soccer, Softball, Swimming, Volleyball",
         null,
         null,
         "Lincoln Center for the Performing Arts",
         "Mount Sinai Medical Center",
         "The Cooper Union for the Advancement of Science and Art, Skidmore College, Sophie Davis School of Biomedical Education, New York University School of Medicine",
         "Lincoln Center for the Performing Arts, American Ballet Theater, Carnegie Hall, New York Philharmonic, Drama Desk, Metropolitan Opera, Interschool Orchestras of New York, New York Youth Symphony",
         "Junior Achievement, Red Cross, United Nations Association, American Cancer Society",
         "Sony Music, Warner Music Group, Capital Cities ABC, The Walt Disney Company",
         null,
         null,
         "Chancellor’s Arts Endorsed Diploma",
         null,
         "8:00 AM",
         "4:00 PM",
         "This school will provide students with disabilities the supports and services indicated on their IEPs.",
         "ESL",
         "Functionally Accessible",
         "6",
         "Open to New York City residents",
         "Admission is based on the outcome of a competitive audition and review of the student’s record",
         "Students must audition for each program (studio) to which they are applying",
         "Students must be residents of New York City at the time of audition",
         null,
         null,
         null,
         null,
         null,
         null,
         "{'latitude': '40.773670507', 'longitude': '-73.985268558', 'human_address': '{\"address\": \"100 Amsterdam Avenue\", \"city\": \"New York\", \"state\": \"NY\", \"zip\": \"10023\"}'}",
         "7.0",
         "6.0",
         "151.0",
         "1030341.0",
         "1011560030.0",
         "Lincoln Square                                                             ",
         "12420.0",
         "20",
         "4",
         "19",
         "12"
        ]
       ],
       "shape": {
        "columns": 69,
        "rows": 5
       }
      },
      "text/html": [
       "<div>\n",
       "<style scoped>\n",
       "    .dataframe tbody tr th:only-of-type {\n",
       "        vertical-align: middle;\n",
       "    }\n",
       "\n",
       "    .dataframe tbody tr th {\n",
       "        vertical-align: top;\n",
       "    }\n",
       "\n",
       "    .dataframe thead th {\n",
       "        text-align: right;\n",
       "    }\n",
       "</style>\n",
       "<table border=\"1\" class=\"dataframe\">\n",
       "  <thead>\n",
       "    <tr style=\"text-align: right;\">\n",
       "      <th></th>\n",
       "      <th>dbn</th>\n",
       "      <th>school_name</th>\n",
       "      <th>borough</th>\n",
       "      <th>building_code</th>\n",
       "      <th>phone_number</th>\n",
       "      <th>fax_number</th>\n",
       "      <th>grade_span_min</th>\n",
       "      <th>grade_span_max</th>\n",
       "      <th>expgrade_span_min</th>\n",
       "      <th>expgrade_span_max</th>\n",
       "      <th>...</th>\n",
       "      <th>Council District</th>\n",
       "      <th>Census Tract</th>\n",
       "      <th>BIN</th>\n",
       "      <th>BBL</th>\n",
       "      <th>NTA</th>\n",
       "      <th>Zip Codes</th>\n",
       "      <th>Community Districts</th>\n",
       "      <th>Borough Boundaries</th>\n",
       "      <th>City Council Districts</th>\n",
       "      <th>Police Precincts</th>\n",
       "    </tr>\n",
       "  </thead>\n",
       "  <tbody>\n",
       "    <tr>\n",
       "      <th>0</th>\n",
       "      <td>27Q260</td>\n",
       "      <td>Frederick Douglass Academy VI High School</td>\n",
       "      <td>Queens</td>\n",
       "      <td>Q465</td>\n",
       "      <td>718-471-2154</td>\n",
       "      <td>718-471-2890</td>\n",
       "      <td>9.0</td>\n",
       "      <td>12</td>\n",
       "      <td>NaN</td>\n",
       "      <td>NaN</td>\n",
       "      <td>...</td>\n",
       "      <td>31.0</td>\n",
       "      <td>100802.0</td>\n",
       "      <td>4300730.0</td>\n",
       "      <td>4.157360e+09</td>\n",
       "      <td>Far Rockaway-Bayswater                        ...</td>\n",
       "      <td>20529.0</td>\n",
       "      <td>51</td>\n",
       "      <td>3</td>\n",
       "      <td>47</td>\n",
       "      <td>59</td>\n",
       "    </tr>\n",
       "    <tr>\n",
       "      <th>1</th>\n",
       "      <td>21K559</td>\n",
       "      <td>Life Academy High School for Film and Music</td>\n",
       "      <td>Brooklyn</td>\n",
       "      <td>K400</td>\n",
       "      <td>718-333-7750</td>\n",
       "      <td>718-333-7775</td>\n",
       "      <td>9.0</td>\n",
       "      <td>12</td>\n",
       "      <td>NaN</td>\n",
       "      <td>NaN</td>\n",
       "      <td>...</td>\n",
       "      <td>47.0</td>\n",
       "      <td>306.0</td>\n",
       "      <td>3186454.0</td>\n",
       "      <td>3.068830e+09</td>\n",
       "      <td>Gravesend                                     ...</td>\n",
       "      <td>17616.0</td>\n",
       "      <td>21</td>\n",
       "      <td>2</td>\n",
       "      <td>45</td>\n",
       "      <td>35</td>\n",
       "    </tr>\n",
       "    <tr>\n",
       "      <th>2</th>\n",
       "      <td>16K393</td>\n",
       "      <td>Frederick Douglass Academy IV Secondary School</td>\n",
       "      <td>Brooklyn</td>\n",
       "      <td>K026</td>\n",
       "      <td>718-574-2820</td>\n",
       "      <td>718-574-2821</td>\n",
       "      <td>9.0</td>\n",
       "      <td>12</td>\n",
       "      <td>NaN</td>\n",
       "      <td>NaN</td>\n",
       "      <td>...</td>\n",
       "      <td>36.0</td>\n",
       "      <td>291.0</td>\n",
       "      <td>3393805.0</td>\n",
       "      <td>3.016160e+09</td>\n",
       "      <td>Stuyvesant Heights                            ...</td>\n",
       "      <td>18181.0</td>\n",
       "      <td>69</td>\n",
       "      <td>2</td>\n",
       "      <td>49</td>\n",
       "      <td>52</td>\n",
       "    </tr>\n",
       "    <tr>\n",
       "      <th>3</th>\n",
       "      <td>08X305</td>\n",
       "      <td>Pablo Neruda Academy</td>\n",
       "      <td>Bronx</td>\n",
       "      <td>X450</td>\n",
       "      <td>718-824-1682</td>\n",
       "      <td>718-824-1663</td>\n",
       "      <td>9.0</td>\n",
       "      <td>12</td>\n",
       "      <td>NaN</td>\n",
       "      <td>NaN</td>\n",
       "      <td>...</td>\n",
       "      <td>18.0</td>\n",
       "      <td>16.0</td>\n",
       "      <td>2022205.0</td>\n",
       "      <td>2.036040e+09</td>\n",
       "      <td>Soundview-Castle Hill-Clason Point-Harding Par...</td>\n",
       "      <td>11611.0</td>\n",
       "      <td>58</td>\n",
       "      <td>5</td>\n",
       "      <td>31</td>\n",
       "      <td>26</td>\n",
       "    </tr>\n",
       "    <tr>\n",
       "      <th>4</th>\n",
       "      <td>03M485</td>\n",
       "      <td>Fiorello H. LaGuardia High School of Music &amp; A...</td>\n",
       "      <td>Manhattan</td>\n",
       "      <td>M485</td>\n",
       "      <td>212-496-0700</td>\n",
       "      <td>212-724-5748</td>\n",
       "      <td>9.0</td>\n",
       "      <td>12</td>\n",
       "      <td>NaN</td>\n",
       "      <td>NaN</td>\n",
       "      <td>...</td>\n",
       "      <td>6.0</td>\n",
       "      <td>151.0</td>\n",
       "      <td>1030341.0</td>\n",
       "      <td>1.011560e+09</td>\n",
       "      <td>Lincoln Square                                ...</td>\n",
       "      <td>12420.0</td>\n",
       "      <td>20</td>\n",
       "      <td>4</td>\n",
       "      <td>19</td>\n",
       "      <td>12</td>\n",
       "    </tr>\n",
       "  </tbody>\n",
       "</table>\n",
       "<p>5 rows × 69 columns</p>\n",
       "</div>"
      ],
      "text/plain": [
       "      dbn                                        school_name    borough  \\\n",
       "0  27Q260          Frederick Douglass Academy VI High School     Queens   \n",
       "1  21K559        Life Academy High School for Film and Music   Brooklyn   \n",
       "2  16K393     Frederick Douglass Academy IV Secondary School   Brooklyn   \n",
       "3  08X305                               Pablo Neruda Academy      Bronx   \n",
       "4  03M485  Fiorello H. LaGuardia High School of Music & A...  Manhattan   \n",
       "\n",
       "  building_code  phone_number    fax_number  grade_span_min  grade_span_max  \\\n",
       "0          Q465  718-471-2154  718-471-2890             9.0              12   \n",
       "1          K400  718-333-7750  718-333-7775             9.0              12   \n",
       "2          K026  718-574-2820  718-574-2821             9.0              12   \n",
       "3          X450  718-824-1682  718-824-1663             9.0              12   \n",
       "4          M485  212-496-0700  212-724-5748             9.0              12   \n",
       "\n",
       "   expgrade_span_min  expgrade_span_max  ... Council District Census Tract  \\\n",
       "0                NaN                NaN  ...             31.0     100802.0   \n",
       "1                NaN                NaN  ...             47.0        306.0   \n",
       "2                NaN                NaN  ...             36.0        291.0   \n",
       "3                NaN                NaN  ...             18.0         16.0   \n",
       "4                NaN                NaN  ...              6.0        151.0   \n",
       "\n",
       "         BIN           BBL                                                NTA  \\\n",
       "0  4300730.0  4.157360e+09  Far Rockaway-Bayswater                        ...   \n",
       "1  3186454.0  3.068830e+09  Gravesend                                     ...   \n",
       "2  3393805.0  3.016160e+09  Stuyvesant Heights                            ...   \n",
       "3  2022205.0  2.036040e+09  Soundview-Castle Hill-Clason Point-Harding Par...   \n",
       "4  1030341.0  1.011560e+09  Lincoln Square                                ...   \n",
       "\n",
       "   Zip Codes Community Districts  Borough Boundaries City Council Districts  \\\n",
       "0    20529.0                  51                   3                     47   \n",
       "1    17616.0                  21                   2                     45   \n",
       "2    18181.0                  69                   2                     49   \n",
       "3    11611.0                  58                   5                     31   \n",
       "4    12420.0                  20                   4                     19   \n",
       "\n",
       "  Police Precincts  \n",
       "0               59  \n",
       "1               35  \n",
       "2               52  \n",
       "3               26  \n",
       "4               12  \n",
       "\n",
       "[5 rows x 69 columns]"
      ]
     },
     "execution_count": 2,
     "metadata": {},
     "output_type": "execute_result"
    }
   ],
   "source": [
    "df = pd.read_csv('high-school-directory.csv')\n",
    "df.head()"
   ]
  },
  {
   "cell_type": "markdown",
   "id": "d5f280b9",
   "metadata": {},
   "source": [
    "**Q**: Clean column names (lowercase, replace spaces with underscores & remove special characters)"
   ]
  },
  {
   "cell_type": "code",
   "execution_count": 3,
   "id": "8992350f",
   "metadata": {},
   "outputs": [],
   "source": [
    "df.columns = (\n",
    "    df.columns\n",
    "      .str.lower()                                 # lowercase\n",
    "      .str.replace(' ', '_')                       # replace spaces with underscores\n",
    "      .str.replace(r'[^a-z0-9_]', '', regex=True)  # remove all special characters\n",
    ")"
   ]
  },
  {
   "cell_type": "markdown",
   "id": "76bead15",
   "metadata": {},
   "source": [
    "## Brooklyn Schools"
   ]
  },
  {
   "cell_type": "markdown",
   "id": "58d7d275",
   "metadata": {},
   "source": [
    "**Q**: Filter the dataset to include only schools located in Brooklyn."
   ]
  },
  {
   "cell_type": "code",
   "execution_count": 4,
   "id": "bf924ece",
   "metadata": {},
   "outputs": [],
   "source": [
    "df_brooklyn = df[df['borough'] == 'Brooklyn']"
   ]
  },
  {
   "cell_type": "markdown",
   "id": "c013bcbd",
   "metadata": {},
   "source": [
    "**Q**: How many total schools are in Brooklyn?\n",
    "\n",
    "**A**: There are **121** schools in Brooklyn."
   ]
  },
  {
   "cell_type": "code",
   "execution_count": 5,
   "id": "91df4f28",
   "metadata": {},
   "outputs": [
    {
     "data": {
      "text/plain": [
       "121"
      ]
     },
     "execution_count": 5,
     "metadata": {},
     "output_type": "execute_result"
    }
   ],
   "source": [
    "total_schools_brooklyn = df_brooklyn['dbn'].nunique()\n",
    "total_schools_brooklyn"
   ]
  },
  {
   "cell_type": "markdown",
   "id": "1cb8dc6f",
   "metadata": {},
   "source": [
    "**Q**: How many schools in Brooklyn offer Grade 9 entry?\n",
    "\n",
    "**A**: All **121** schools in Brooklyn offer Grade 9."
   ]
  },
  {
   "cell_type": "code",
   "execution_count": 6,
   "id": "cd1f08cb",
   "metadata": {},
   "outputs": [
    {
     "data": {
      "text/plain": [
       "121"
      ]
     },
     "execution_count": 6,
     "metadata": {},
     "output_type": "execute_result"
    }
   ],
   "source": [
    "brooklyn_schools_grade9 = df_brooklyn[\n",
    "    (df_brooklyn['grade_span_min'] <= 9) & (df_brooklyn['grade_span_max'] >= 9)\n",
    "    ]\n",
    "\n",
    "brooklyn_schools_grade9_count = brooklyn_schools_grade9['dbn'].nunique()\n",
    "brooklyn_schools_grade9_count"
   ]
  },
  {
   "cell_type": "markdown",
   "id": "1016f3d2",
   "metadata": {},
   "source": [
    "## Group and Summarize"
   ]
  },
  {
   "cell_type": "markdown",
   "id": "bb5c2885",
   "metadata": {},
   "source": [
    "**Q**: Count of schools per borough"
   ]
  },
  {
   "cell_type": "code",
   "execution_count": 7,
   "id": "0cf49ad9",
   "metadata": {},
   "outputs": [
    {
     "data": {
      "application/vnd.microsoft.datawrangler.viewer.v0+json": {
       "columns": [
        {
         "name": "borough",
         "rawType": "object",
         "type": "string"
        },
        {
         "name": "dbn",
         "rawType": "int64",
         "type": "integer"
        }
       ],
       "ref": "cf1e89dd-9d1d-438d-b659-6c247f4a9cac",
       "rows": [
        [
         "Bronx",
         "118"
        ],
        [
         "Brooklyn",
         "121"
        ],
        [
         "Manhattan",
         "106"
        ],
        [
         "Queens",
         "80"
        ],
        [
         "Staten Island",
         "10"
        ]
       ],
       "shape": {
        "columns": 1,
        "rows": 5
       }
      },
      "text/plain": [
       "borough\n",
       "Bronx            118\n",
       "Brooklyn         121\n",
       "Manhattan        106\n",
       "Queens            80\n",
       "Staten Island     10\n",
       "Name: dbn, dtype: int64"
      ]
     },
     "execution_count": 7,
     "metadata": {},
     "output_type": "execute_result"
    }
   ],
   "source": [
    "school_count_by_borough = df.groupby('borough')['dbn'].nunique()\n",
    "school_count_by_borough"
   ]
  },
  {
   "cell_type": "markdown",
   "id": "03a5e950",
   "metadata": {},
   "source": [
    "**Q**: Average number of students per borough"
   ]
  },
  {
   "cell_type": "code",
   "execution_count": 8,
   "id": "35984139",
   "metadata": {},
   "outputs": [
    {
     "data": {
      "application/vnd.microsoft.datawrangler.viewer.v0+json": {
       "columns": [
        {
         "name": "borough",
         "rawType": "object",
         "type": "string"
        },
        {
         "name": "total_students",
         "rawType": "float64",
         "type": "float"
        }
       ],
       "ref": "39c9bc7a-25e6-4d4a-b560-11761adfbeac",
       "rows": [
        [
         "Bronx",
         "490.40677966101697"
        ],
        [
         "Brooklyn",
         "699.1344537815127"
        ],
        [
         "Manhattan",
         "589.8252427184466"
        ],
        [
         "Queens",
         "1046.6447368421052"
        ],
        [
         "Staten Island",
         "1847.5"
        ]
       ],
       "shape": {
        "columns": 1,
        "rows": 5
       }
      },
      "text/plain": [
       "borough\n",
       "Bronx             490.406780\n",
       "Brooklyn          699.134454\n",
       "Manhattan         589.825243\n",
       "Queens           1046.644737\n",
       "Staten Island    1847.500000\n",
       "Name: total_students, dtype: float64"
      ]
     },
     "execution_count": 8,
     "metadata": {},
     "output_type": "execute_result"
    }
   ],
   "source": [
    "avg_students_by_borough = df.groupby('borough')['total_students'].mean()\n",
    "avg_students_by_borough"
   ]
  },
  {
   "cell_type": "markdown",
   "id": "b7ecf700",
   "metadata": {},
   "source": [
    "**Q**: Summary of grade_span_max grouped by borough"
   ]
  },
  {
   "cell_type": "code",
   "execution_count": 9,
   "id": "1801c16b",
   "metadata": {},
   "outputs": [
    {
     "data": {
      "application/vnd.microsoft.datawrangler.viewer.v0+json": {
       "columns": [
        {
         "name": "borough",
         "rawType": "object",
         "type": "string"
        },
        {
         "name": "count",
         "rawType": "float64",
         "type": "float"
        },
        {
         "name": "mean",
         "rawType": "float64",
         "type": "float"
        },
        {
         "name": "std",
         "rawType": "float64",
         "type": "float"
        },
        {
         "name": "min",
         "rawType": "float64",
         "type": "float"
        },
        {
         "name": "25%",
         "rawType": "float64",
         "type": "float"
        },
        {
         "name": "50%",
         "rawType": "float64",
         "type": "float"
        },
        {
         "name": "75%",
         "rawType": "float64",
         "type": "float"
        },
        {
         "name": "max",
         "rawType": "float64",
         "type": "float"
        }
       ],
       "ref": "8b276ed3-97ba-4f56-807f-758f7f4fb321",
       "rows": [
        [
         "Bronx",
         "118.0",
         "11.90677966101695",
         "0.3695062109419412",
         "9.0",
         "12.0",
         "12.0",
         "12.0",
         "12.0"
        ],
        [
         "Brooklyn",
         "121.0",
         "11.933884297520661",
         "0.3815655730033535",
         "9.0",
         "12.0",
         "12.0",
         "12.0",
         "12.0"
        ],
        [
         "Manhattan",
         "106.0",
         "11.877358490566039",
         "0.4721345689662408",
         "9.0",
         "12.0",
         "12.0",
         "12.0",
         "12.0"
        ],
        [
         "Queens",
         "80.0",
         "11.825",
         "0.4974619125424375",
         "10.0",
         "12.0",
         "12.0",
         "12.0",
         "12.0"
        ],
        [
         "Staten Island",
         "10.0",
         "12.0",
         "0.0",
         "12.0",
         "12.0",
         "12.0",
         "12.0",
         "12.0"
        ]
       ],
       "shape": {
        "columns": 8,
        "rows": 5
       }
      },
      "text/html": [
       "<div>\n",
       "<style scoped>\n",
       "    .dataframe tbody tr th:only-of-type {\n",
       "        vertical-align: middle;\n",
       "    }\n",
       "\n",
       "    .dataframe tbody tr th {\n",
       "        vertical-align: top;\n",
       "    }\n",
       "\n",
       "    .dataframe thead th {\n",
       "        text-align: right;\n",
       "    }\n",
       "</style>\n",
       "<table border=\"1\" class=\"dataframe\">\n",
       "  <thead>\n",
       "    <tr style=\"text-align: right;\">\n",
       "      <th></th>\n",
       "      <th>count</th>\n",
       "      <th>mean</th>\n",
       "      <th>std</th>\n",
       "      <th>min</th>\n",
       "      <th>25%</th>\n",
       "      <th>50%</th>\n",
       "      <th>75%</th>\n",
       "      <th>max</th>\n",
       "    </tr>\n",
       "    <tr>\n",
       "      <th>borough</th>\n",
       "      <th></th>\n",
       "      <th></th>\n",
       "      <th></th>\n",
       "      <th></th>\n",
       "      <th></th>\n",
       "      <th></th>\n",
       "      <th></th>\n",
       "      <th></th>\n",
       "    </tr>\n",
       "  </thead>\n",
       "  <tbody>\n",
       "    <tr>\n",
       "      <th>Bronx</th>\n",
       "      <td>118.0</td>\n",
       "      <td>11.906780</td>\n",
       "      <td>0.369506</td>\n",
       "      <td>9.0</td>\n",
       "      <td>12.0</td>\n",
       "      <td>12.0</td>\n",
       "      <td>12.0</td>\n",
       "      <td>12.0</td>\n",
       "    </tr>\n",
       "    <tr>\n",
       "      <th>Brooklyn</th>\n",
       "      <td>121.0</td>\n",
       "      <td>11.933884</td>\n",
       "      <td>0.381566</td>\n",
       "      <td>9.0</td>\n",
       "      <td>12.0</td>\n",
       "      <td>12.0</td>\n",
       "      <td>12.0</td>\n",
       "      <td>12.0</td>\n",
       "    </tr>\n",
       "    <tr>\n",
       "      <th>Manhattan</th>\n",
       "      <td>106.0</td>\n",
       "      <td>11.877358</td>\n",
       "      <td>0.472135</td>\n",
       "      <td>9.0</td>\n",
       "      <td>12.0</td>\n",
       "      <td>12.0</td>\n",
       "      <td>12.0</td>\n",
       "      <td>12.0</td>\n",
       "    </tr>\n",
       "    <tr>\n",
       "      <th>Queens</th>\n",
       "      <td>80.0</td>\n",
       "      <td>11.825000</td>\n",
       "      <td>0.497462</td>\n",
       "      <td>10.0</td>\n",
       "      <td>12.0</td>\n",
       "      <td>12.0</td>\n",
       "      <td>12.0</td>\n",
       "      <td>12.0</td>\n",
       "    </tr>\n",
       "    <tr>\n",
       "      <th>Staten Island</th>\n",
       "      <td>10.0</td>\n",
       "      <td>12.000000</td>\n",
       "      <td>0.000000</td>\n",
       "      <td>12.0</td>\n",
       "      <td>12.0</td>\n",
       "      <td>12.0</td>\n",
       "      <td>12.0</td>\n",
       "      <td>12.0</td>\n",
       "    </tr>\n",
       "  </tbody>\n",
       "</table>\n",
       "</div>"
      ],
      "text/plain": [
       "               count       mean       std   min   25%   50%   75%   max\n",
       "borough                                                                \n",
       "Bronx          118.0  11.906780  0.369506   9.0  12.0  12.0  12.0  12.0\n",
       "Brooklyn       121.0  11.933884  0.381566   9.0  12.0  12.0  12.0  12.0\n",
       "Manhattan      106.0  11.877358  0.472135   9.0  12.0  12.0  12.0  12.0\n",
       "Queens          80.0  11.825000  0.497462  10.0  12.0  12.0  12.0  12.0\n",
       "Staten Island   10.0  12.000000  0.000000  12.0  12.0  12.0  12.0  12.0"
      ]
     },
     "execution_count": 9,
     "metadata": {},
     "output_type": "execute_result"
    }
   ],
   "source": [
    "df.groupby('borough')['grade_span_max'].describe()"
   ]
  },
  {
   "cell_type": "code",
   "execution_count": 10,
   "id": "9e5a54b5",
   "metadata": {},
   "outputs": [
    {
     "data": {
      "application/vnd.microsoft.datawrangler.viewer.v0+json": {
       "columns": [
        {
         "name": "borough",
         "rawType": "object",
         "type": "string"
        },
        {
         "name": "count",
         "rawType": "float64",
         "type": "float"
        },
        {
         "name": "mean",
         "rawType": "float64",
         "type": "float"
        },
        {
         "name": "std",
         "rawType": "float64",
         "type": "float"
        },
        {
         "name": "min",
         "rawType": "float64",
         "type": "float"
        },
        {
         "name": "25%",
         "rawType": "float64",
         "type": "float"
        },
        {
         "name": "50%",
         "rawType": "float64",
         "type": "float"
        },
        {
         "name": "75%",
         "rawType": "float64",
         "type": "float"
        },
        {
         "name": "max",
         "rawType": "float64",
         "type": "float"
        }
       ],
       "ref": "f62a9e9f-8875-413c-8385-0da375ef20ed",
       "rows": [
        [
         "Bronx",
         "118.0",
         "8.415254237288135",
         "1.1934742159098872",
         "6.0",
         "9.0",
         "9.0",
         "9.0",
         "9.0"
        ],
        [
         "Brooklyn",
         "121.0",
         "8.429752066115702",
         "1.1819929940640634",
         "6.0",
         "9.0",
         "9.0",
         "9.0",
         "9.0"
        ],
        [
         "Manhattan",
         "104.0",
         "8.48076923076923",
         "1.1404373988920373",
         "6.0",
         "9.0",
         "9.0",
         "9.0",
         "9.0"
        ],
        [
         "Queens",
         "80.0",
         "8.3875",
         "1.1959186924650613",
         "6.0",
         "9.0",
         "9.0",
         "9.0",
         "9.0"
        ],
        [
         "Staten Island",
         "9.0",
         "9.0",
         "0.0",
         "9.0",
         "9.0",
         "9.0",
         "9.0",
         "9.0"
        ]
       ],
       "shape": {
        "columns": 8,
        "rows": 5
       }
      },
      "text/html": [
       "<div>\n",
       "<style scoped>\n",
       "    .dataframe tbody tr th:only-of-type {\n",
       "        vertical-align: middle;\n",
       "    }\n",
       "\n",
       "    .dataframe tbody tr th {\n",
       "        vertical-align: top;\n",
       "    }\n",
       "\n",
       "    .dataframe thead th {\n",
       "        text-align: right;\n",
       "    }\n",
       "</style>\n",
       "<table border=\"1\" class=\"dataframe\">\n",
       "  <thead>\n",
       "    <tr style=\"text-align: right;\">\n",
       "      <th></th>\n",
       "      <th>count</th>\n",
       "      <th>mean</th>\n",
       "      <th>std</th>\n",
       "      <th>min</th>\n",
       "      <th>25%</th>\n",
       "      <th>50%</th>\n",
       "      <th>75%</th>\n",
       "      <th>max</th>\n",
       "    </tr>\n",
       "    <tr>\n",
       "      <th>borough</th>\n",
       "      <th></th>\n",
       "      <th></th>\n",
       "      <th></th>\n",
       "      <th></th>\n",
       "      <th></th>\n",
       "      <th></th>\n",
       "      <th></th>\n",
       "      <th></th>\n",
       "    </tr>\n",
       "  </thead>\n",
       "  <tbody>\n",
       "    <tr>\n",
       "      <th>Bronx</th>\n",
       "      <td>118.0</td>\n",
       "      <td>8.415254</td>\n",
       "      <td>1.193474</td>\n",
       "      <td>6.0</td>\n",
       "      <td>9.0</td>\n",
       "      <td>9.0</td>\n",
       "      <td>9.0</td>\n",
       "      <td>9.0</td>\n",
       "    </tr>\n",
       "    <tr>\n",
       "      <th>Brooklyn</th>\n",
       "      <td>121.0</td>\n",
       "      <td>8.429752</td>\n",
       "      <td>1.181993</td>\n",
       "      <td>6.0</td>\n",
       "      <td>9.0</td>\n",
       "      <td>9.0</td>\n",
       "      <td>9.0</td>\n",
       "      <td>9.0</td>\n",
       "    </tr>\n",
       "    <tr>\n",
       "      <th>Manhattan</th>\n",
       "      <td>104.0</td>\n",
       "      <td>8.480769</td>\n",
       "      <td>1.140437</td>\n",
       "      <td>6.0</td>\n",
       "      <td>9.0</td>\n",
       "      <td>9.0</td>\n",
       "      <td>9.0</td>\n",
       "      <td>9.0</td>\n",
       "    </tr>\n",
       "    <tr>\n",
       "      <th>Queens</th>\n",
       "      <td>80.0</td>\n",
       "      <td>8.387500</td>\n",
       "      <td>1.195919</td>\n",
       "      <td>6.0</td>\n",
       "      <td>9.0</td>\n",
       "      <td>9.0</td>\n",
       "      <td>9.0</td>\n",
       "      <td>9.0</td>\n",
       "    </tr>\n",
       "    <tr>\n",
       "      <th>Staten Island</th>\n",
       "      <td>9.0</td>\n",
       "      <td>9.000000</td>\n",
       "      <td>0.000000</td>\n",
       "      <td>9.0</td>\n",
       "      <td>9.0</td>\n",
       "      <td>9.0</td>\n",
       "      <td>9.0</td>\n",
       "      <td>9.0</td>\n",
       "    </tr>\n",
       "  </tbody>\n",
       "</table>\n",
       "</div>"
      ],
      "text/plain": [
       "               count      mean       std  min  25%  50%  75%  max\n",
       "borough                                                          \n",
       "Bronx          118.0  8.415254  1.193474  6.0  9.0  9.0  9.0  9.0\n",
       "Brooklyn       121.0  8.429752  1.181993  6.0  9.0  9.0  9.0  9.0\n",
       "Manhattan      104.0  8.480769  1.140437  6.0  9.0  9.0  9.0  9.0\n",
       "Queens          80.0  8.387500  1.195919  6.0  9.0  9.0  9.0  9.0\n",
       "Staten Island    9.0  9.000000  0.000000  9.0  9.0  9.0  9.0  9.0"
      ]
     },
     "execution_count": 10,
     "metadata": {},
     "output_type": "execute_result"
    }
   ],
   "source": [
    "# Summary statistics of grade_span_min by borough to compare with grade_span_max\n",
    "df.groupby('borough')['grade_span_min'].describe()"
   ]
  },
  {
   "cell_type": "markdown",
   "id": "0910af00",
   "metadata": {},
   "source": [
    "💡 **Insights**: Staten Island has schools starting at grade 9 while the other borroughs have schools starting at grade 6. "
   ]
  },
  {
   "cell_type": "markdown",
   "id": "f84bbbe9",
   "metadata": {},
   "source": [
    "## Visualization"
   ]
  },
  {
   "cell_type": "markdown",
   "id": "7aee6d9d",
   "metadata": {},
   "source": [
    "**Q**: Create visualizations (Bar chart) Number of schools per borough"
   ]
  },
  {
   "cell_type": "code",
   "execution_count": 11,
   "id": "d8c257d2",
   "metadata": {},
   "outputs": [
    {
     "data": {
      "image/png": "[encoded data removed]",
      "text/plain": [
       "<Figure size 1000x600 with 1 Axes>"
      ]
     },
     "metadata": {},
     "output_type": "display_data"
    }
   ],
   "source": [
    "plt.figure(figsize=(10,6))\n",
    "school_count_by_borough.plot(kind='bar')\n",
    "plt.title('Number of Schools by Borough')\n",
    "plt.xlabel('Borough')\n",
    "plt.xticks(rotation=0)\n",
    "plt.ylabel('Number of Schools')\n",
    "plt.show()"
   ]
  },
  {
   "cell_type": "markdown",
   "id": "9c6e0d26",
   "metadata": {},
   "source": [
    "💡 **Insights**: Brooklyn and the Bronx have the highest count of total schools overall but their average student count is lower compared to Queens and Staten Island."
   ]
  },
  {
   "cell_type": "code",
   "execution_count": 12,
   "id": "e8c2f4cd",
   "metadata": {},
   "outputs": [
    {
     "data": {
      "image/png": "[encoded data removed]",
      "text/plain": [
       "<Figure size 1000x600 with 1 Axes>"
      ]
     },
     "metadata": {},
     "output_type": "display_data"
    }
   ],
   "source": [
    "# Avg students plot\n",
    "plt.figure(figsize=(10,6))\n",
    "avg_students_by_borough.plot(kind='bar')\n",
    "plt.title('Average Number of Students by Borough')\n",
    "plt.xlabel('Borough')\n",
    "plt.xticks(rotation=0)\n",
    "plt.ylabel('Average Number of Students')\n",
    "plt.show()"
   ]
  },
  {
   "cell_type": "markdown",
   "id": "4ff46b7d",
   "metadata": {},
   "source": [
    "💡 **Insights**: Staten Island has the most average students but has the least amount of schools from all boroughs."
   ]
  },
  {
   "cell_type": "code",
   "execution_count": 13,
   "id": "0c105b19",
   "metadata": {},
   "outputs": [
    {
     "data": {
      "image/png": "[encoded data removed]",
      "text/plain": [
       "<Figure size 1000x600 with 1 Axes>"
      ]
     },
     "metadata": {},
     "output_type": "display_data"
    }
   ],
   "source": [
    "fig, ax = plt.subplots(figsize=(10,6))\n",
    "df.boxplot(column='total_students', by='borough', ax=ax)\n",
    "ax.set_title('Distribution of School Size by Borough')\n",
    "ax.set_xlabel('Borough')\n",
    "ax.set_ylabel('Total Students')\n",
    "plt.suptitle('') # remove extra title\n",
    "plt.show()"
   ]
  },
  {
   "cell_type": "markdown",
   "id": "ed1833da",
   "metadata": {},
   "source": [
    "💡 **Insight**: Staten Island schools have the largest student populations overall and show less variation compared to other boroughs, indicating fewer but consistently larger schools. Queens displays a wider spread of school sizes, while Bronx, Brooklyn, and Manhattan seem to have smaller schools and a few large outliers."
   ]
  },
  {
   "cell_type": "code",
   "execution_count": 14,
   "id": "5a21a965",
   "metadata": {},
   "outputs": [
    {
     "data": {
      "image/png": "[encoded data removed]",
      "text/plain": [
       "<Figure size 1000x600 with 1 Axes>"
      ]
     },
     "metadata": {},
     "output_type": "display_data"
    }
   ],
   "source": [
    "# Get the distribution of starting grades by borough\n",
    "grade_start_dist = (\n",
    "    df.groupby(['borough', 'grade_span_min'])['dbn']\n",
    "      .nunique()\n",
    "      .unstack(fill_value=0)\n",
    ")\n",
    "\n",
    "# Plot\n",
    "ax = grade_start_dist.plot(kind='bar', stacked=True, figsize=(10,6))\n",
    "ax.set_title('Starting Grade Distribution by Borough')\n",
    "ax.set_xlabel('Borough')\n",
    "ax.set_ylabel('Number of Schools')\n",
    "ax.legend(title='Starting Grade')\n",
    "plt.xticks(rotation=0)\n",
    "plt.show()"
   ]
  },
  {
   "cell_type": "markdown",
   "id": "a75257fe",
   "metadata": {},
   "source": [
    "💡 **Insights**: Staten Island stands out with all its schools starting at Grade 9. A small number of schools in Queens start at Grade 7, while the schools in the other boroughs have a mix of schoolst starting at Grade 6 and Grade 9."
   ]
  },
  {
   "cell_type": "markdown",
   "id": "b2762316",
   "metadata": {},
   "source": [
    "# Insights"
   ]
  },
  {
   "cell_type": "markdown",
   "id": "68965f4c",
   "metadata": {},
   "source": [
    "* **School Distribution**: Brooklyn and the Bronx have the largest number of schools overall, while Staten Island has the fewest schools.\n",
    "\n",
    "* **Average Student Size**: Despite having the fewest schools, Staten Island has the highest average number of students per school, suggesting larger schools compared to the other boroughs. The Bronx and Brooklyn have the most schools but fewer average student, suggesting they have more but smaller schools compared to the other boroughs.\n",
    "\n",
    "* **Grade Structure**: Staten Island schools all start at Grade 9, indicating there are exclusivly high schools in this dataset for this borough. The other boroughs include schools starting from Grade 6, indicating a mix of middle and high schools."
   ]
  }
 ],
 "metadata": {
  "kernelspec": {
   "display_name": ".venv",
   "language": "python",
   "name": "python3"
  },
  "language_info": {
   "codemirror_mode": {
    "name": "ipython",
    "version": 3
   },
   "file_extension": ".py",
   "mimetype": "text/x-python",
   "name": "python",
   "nbconvert_exporter": "python",
   "pygments_lexer": "ipython3",
   "version": "3.13.5"
  }
 },
 "nbformat": 4,
 "nbformat_minor": 5
}
