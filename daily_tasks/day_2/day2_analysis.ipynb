{
 "cells": [
  {
   "cell_type": "code",
   "execution_count": 24,
   "id": "63ae0442-b8c4-46a3-9b64-ed334b329f77",
   "metadata": {},
   "outputs": [
    {
     "name": "stdout",
     "output_type": "stream",
     "text": [
      "<class 'pandas.core.frame.DataFrame'>\n",
      "RangeIndex: 435 entries, 0 to 434\n",
      "Data columns (total 69 columns):\n",
      " #   Column                            Non-Null Count  Dtype  \n",
      "---  ------                            --------------  -----  \n",
      " 0   dbn                               435 non-null    object \n",
      " 1   school_name                       435 non-null    object \n",
      " 2   borough                           435 non-null    object \n",
      " 3   building_code                     435 non-null    object \n",
      " 4   phone_number                      435 non-null    object \n",
      " 5   fax_number                        423 non-null    object \n",
      " 6   grade_span_min                    432 non-null    float64\n",
      " 7   grade_span_max                    435 non-null    int64  \n",
      " 8   expgrade_span_min                 31 non-null     float64\n",
      " 9   expgrade_span_max                 33 non-null     float64\n",
      " 10  bus                               434 non-null    object \n",
      " 11  subway                            358 non-null    object \n",
      " 12  primary_address_line_1            435 non-null    object \n",
      " 13  city                              435 non-null    object \n",
      " 14  state_code                        435 non-null    object \n",
      " 15  postcode                          435 non-null    int64  \n",
      " 16  website                           430 non-null    object \n",
      " 17  total_students                    426 non-null    float64\n",
      " 18  campus_name                       217 non-null    object \n",
      " 19  school_type                       104 non-null    object \n",
      " 20  overview_paragraph                434 non-null    object \n",
      " 21  program_highlights                434 non-null    object \n",
      " 22  language_classes                  412 non-null    object \n",
      " 23  advancedplacement_courses         340 non-null    object \n",
      " 24  online_ap_courses                 64 non-null     object \n",
      " 25  online_language_courses           73 non-null     object \n",
      " 26  extracurricular_activities        435 non-null    object \n",
      " 27  psal_sports_boys                  373 non-null    object \n",
      " 28  psal_sports_girls                 373 non-null    object \n",
      " 29  psal_sports_coed                  147 non-null    object \n",
      " 30  school_sports                     297 non-null    object \n",
      " 31  partner_cbo                       354 non-null    object \n",
      " 32  partner_hospital                  196 non-null    object \n",
      " 33  partner_highered                  378 non-null    object \n",
      " 34  partner_cultural                  305 non-null    object \n",
      " 35  partner_nonprofit                 297 non-null    object \n",
      " 36  partner_corporate                 198 non-null    object \n",
      " 37  partner_financial                 72 non-null     object \n",
      " 38  partner_other                     187 non-null    object \n",
      " 39  addtl_info1                       354 non-null    object \n",
      " 40  addtl_info2                       229 non-null    object \n",
      " 41  start_time                        431 non-null    object \n",
      " 42  end_time                          431 non-null    object \n",
      " 43  se_services                       435 non-null    object \n",
      " 44  ell_programs                      435 non-null    object \n",
      " 45  school_accessibility_description  435 non-null    object \n",
      " 46  number_programs                   435 non-null    int64  \n",
      " 47  priority01                        435 non-null    object \n",
      " 48  priority02                        352 non-null    object \n",
      " 49  priority03                        243 non-null    object \n",
      " 50  priority04                        177 non-null    object \n",
      " 51  priority05                        39 non-null     object \n",
      " 52  priority06                        17 non-null     object \n",
      " 53  priority07                        4 non-null      object \n",
      " 54  priority08                        1 non-null      object \n",
      " 55  priority09                        1 non-null      object \n",
      " 56  priority10                        1 non-null      object \n",
      " 57  Location 1                        435 non-null    object \n",
      " 58  Community Board                   432 non-null    float64\n",
      " 59  Council District                  432 non-null    float64\n",
      " 60  Census Tract                      432 non-null    float64\n",
      " 61  BIN                               431 non-null    float64\n",
      " 62  BBL                               431 non-null    float64\n",
      " 63  NTA                               432 non-null    object \n",
      " 64  Zip Codes                         434 non-null    float64\n",
      " 65  Community Districts               435 non-null    int64  \n",
      " 66  Borough Boundaries                435 non-null    int64  \n",
      " 67  City Council Districts            435 non-null    int64  \n",
      " 68  Police Precincts                  435 non-null    int64  \n",
      "dtypes: float64(10), int64(7), object(52)\n",
      "memory usage: 234.6+ KB\n"
     ]
    }
   ],
   "source": [
    "# I analyzed dataset first and found several columns containing more than 50% of NULL values#\n",
    "import pandas as pd\n",
    "df=pd.read_csv('/Users/peterscheinsohn/Downloads/high-school-directory.csv')\n",
    "df.info()"
   ]
  },
  {
   "cell_type": "code",
   "execution_count": 26,
   "id": "4fdff3df-4bfe-4adf-bfb9-bcf0b4aaed2f",
   "metadata": {},
   "outputs": [
    {
     "name": "stdout",
     "output_type": "stream",
     "text": [
      "✅ Cleaned file saved at:\n",
      "/Users/peterscheinsohn/Downloads/high-school-directory_cleaned.csv\n"
     ]
    }
   ],
   "source": [
    "# I cleaned dataset, by removing columns with 50% of NULL values. For the rest i replaced such values for obj as 'unknown' and mean for numeric(int, float)#\n",
    "import pandas as pd\n",
    "from pathlib import Path\n",
    "\n",
    "# Define the path to your original CSV file\n",
    "csv_path = Path(\"/Users/peterscheinsohn/Downloads/high-school-directory.csv\")\n",
    "\n",
    "# Read the original CSV file\n",
    "df = pd.read_csv(csv_path)\n",
    "\n",
    "# Drop columns with ≥ 50% missing values\n",
    "df = df.loc[:, df.isnull().mean() < 0.50]\n",
    "\n",
    "# Impute remaining NaNs in categorical columns with \"Unknown\"\n",
    "cat_cols = df.select_dtypes(include=['object', 'category']).columns\n",
    "df[cat_cols] = df[cat_cols].fillna('Unknown')\n",
    "\n",
    "# Impute remaining NaNs in numeric columns with the mean\n",
    "num_cols = df.select_dtypes(include=['int64', 'float64']).columns\n",
    "df[num_cols] = df[num_cols].apply(lambda s: s.fillna(s.mean()))\n",
    "\n",
    "# Save the cleaned file with \"_cleaned\" appended to the original filename\n",
    "clean_path = Path(\"/Users/peterscheinsohn/Downloads/high-school-directory_cleaned.csv\")\n",
    "df.to_csv(clean_path, index=False)\n",
    "\n",
    "print(f\"✅ Cleaned file saved at:\\n{clean_path}\")"
   ]
  },
  {
   "cell_type": "code",
   "execution_count": 2,
   "id": "669ed337-6502-4abe-a474-1c56c27c8284",
   "metadata": {},
   "outputs": [],
   "source": [
    "import pandas as pd\n",
    "df=pd.read_csv('/Users/peterscheinsohn/Downloads/high-school-directory_cleaned.csv')\n",
    "df_filtered=df.query(\"borough == 'Brooklyn'\")"
   ]
  },
  {
   "cell_type": "code",
   "execution_count": 3,
   "id": "e37a71de-260a-4588-b854-ac5845c5a042",
   "metadata": {},
   "outputs": [],
   "source": [
    "result=df_filtered['school_name'].count()"
   ]
  },
  {
   "cell_type": "code",
   "execution_count": 4,
   "id": "7273adb6-1027-4b09-9f08-08fa44a3b0e1",
   "metadata": {},
   "outputs": [
    {
     "name": "stdout",
     "output_type": "stream",
     "text": [
      "121\n"
     ]
    }
   ],
   "source": [
    "print(result)"
   ]
  },
  {
   "cell_type": "code",
   "execution_count": 7,
   "id": "19508527-1a9b-4f9f-a67b-e17f6a8ef6a3",
   "metadata": {},
   "outputs": [
    {
     "name": "stdout",
     "output_type": "stream",
     "text": [
      "Number of schools in Brooklyn offering grade 9 and above: 98\n"
     ]
    }
   ],
   "source": [
    "import pandas as pd\n",
    "\n",
    "\n",
    "df = pd.read_csv('/Users/peterscheinsohn/Downloads/high-school-directory_cleaned.csv')\n",
    "\n",
    "result1 = df.query(\"borough == 'Brooklyn' & grade_span_min >= 9\")\n",
    "\n",
    "\n",
    "count_result = result1.shape[0]\n",
    "\n",
    "print(f\"Number of schools in Brooklyn offering grade 9 and above: {count_result}\")"
   ]
  },
  {
   "cell_type": "code",
   "execution_count": 16,
   "id": "442fc786-faab-4bbe-b238-ed1e172d0118",
   "metadata": {},
   "outputs": [
    {
     "name": "stdout",
     "output_type": "stream",
     "text": [
      " Number of schools per borough: borough\n",
      "Bronx            118\n",
      "Brooklyn         121\n",
      "Manhattan        106\n",
      "Queens            80\n",
      "Staten Island     10\n",
      "Name: school_name, dtype: int64\n"
     ]
    }
   ],
   "source": [
    "df=pd.read_csv('/Users/peterscheinsohn/Downloads/high-school-directory_cleaned.csv')\n",
    "result1=df.groupby('borough')['school_name'].count()\n",
    "print(f\" Number of schools per borough: {result1}\")"
   ]
  },
  {
   "cell_type": "code",
   "execution_count": 17,
   "id": "e250423b-cb19-4988-bf09-f7c9b62bfe1c",
   "metadata": {},
   "outputs": [
    {
     "name": "stdout",
     "output_type": "stream",
     "text": [
      " Average number of students per borough: borough\n",
      "Bronx             490.406780\n",
      "Brooklyn          699.212276\n",
      "Manhattan         593.052153\n",
      "Queens           1029.504636\n",
      "Staten Island    1847.500000\n",
      "Name: total_students, dtype: float64\n"
     ]
    }
   ],
   "source": [
    "df=pd.read_csv('/Users/peterscheinsohn/Downloads/high-school-directory_cleaned.csv')\n",
    "result2=df.groupby('borough')['total_students'].mean()\n",
    "print(f\" Average number of students per borough: {result2}\")"
   ]
  },
  {
   "cell_type": "code",
   "execution_count": 18,
   "id": "3725378e-9e42-471a-b556-99339762f2ed",
   "metadata": {},
   "outputs": [
    {
     "name": "stdout",
     "output_type": "stream",
     "text": [
      "               count       mean       std   min   25%   50%   75%   max\n",
      "borough                                                                \n",
      "Bronx          118.0  11.906780  0.369506   9.0  12.0  12.0  12.0  12.0\n",
      "Brooklyn       121.0  11.933884  0.381566   9.0  12.0  12.0  12.0  12.0\n",
      "Manhattan      106.0  11.877358  0.472135   9.0  12.0  12.0  12.0  12.0\n",
      "Queens          80.0  11.825000  0.497462  10.0  12.0  12.0  12.0  12.0\n",
      "Staten Island   10.0  12.000000  0.000000  12.0  12.0  12.0  12.0  12.0\n"
     ]
    }
   ],
   "source": [
    "result3=df.groupby('borough')['grade_span_max'].describe()\n",
    "print(result3)"
   ]
  },
  {
   "cell_type": "code",
   "execution_count": 21,
   "id": "df8b33af-dc49-40fb-9f13-bda468f442ec",
   "metadata": {},
   "outputs": [
    {
     "data": {
      "image/png": "[encoded data removed]",
      "text/plain": [
       "<Figure size 1000x600 with 1 Axes>"
      ]
     },
     "metadata": {},
     "output_type": "display_data"
    }
   ],
   "source": [
    "import pandas as pd\n",
    "import matplotlib.pyplot as plt\n",
    "import seaborn as sns\n",
    "\n",
    "# Load the cleaned dataset\n",
    "df = pd.read_csv('/Users/peterscheinsohn/Downloads/high-school-directory_cleaned.csv')\n",
    "\n",
    "# Group by 'borough' and count the number of schools\n",
    "result1 = df.groupby('borough')['school_name'].count().reset_index()\n",
    "result1.columns = ['borough', 'count']\n",
    "\n",
    "# Create the bar plot\n",
    "plt.figure(figsize=(10, 6))\n",
    "sns.barplot(\n",
    "    data=result1,\n",
    "    x='borough',\n",
    "    y='count'\n",
    ")\n",
    "plt.title(\"Number of schools per borough\")\n",
    "plt.xlabel(\"Borough\")\n",
    "plt.ylabel(\"Number of Schools\")\n",
    "plt.show()"
   ]
  },
  {
   "cell_type": "code",
   "execution_count": null,
   "id": "cc0f3a88-9698-405c-8938-a62a17e2c1a2",
   "metadata": {},
   "outputs": [],
   "source": [
    "# Key Insignts 1) Dataset became more useful after removing column with significant proportion of null values, especially objects.\n",
    "2) There is significant lack of high schools in Queens and  Staten Island, which results in bigger avg student number in this districts #"
   ]
  }
 ],
 "metadata": {
  "kernelspec": {
   "display_name": "Python 3 (ipykernel)",
   "language": "python",
   "name": "python3"
  },
  "language_info": {
   "codemirror_mode": {
    "name": "ipython",
    "version": 3
   },
   "file_extension": ".py",
   "mimetype": "text/x-python",
   "name": "python",
   "nbconvert_exporter": "python",
   "pygments_lexer": "ipython3",
   "version": "3.13.2"
  }
 },
 "nbformat": 4,
 "nbformat_minor": 5
}
