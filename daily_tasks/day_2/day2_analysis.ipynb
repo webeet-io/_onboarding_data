{
 "cells": [
  {
   "cell_type": "markdown",
   "id": "412c0d26",
   "metadata": {},
   "source": [
    "# Loading Data"
   ]
  },
  {
   "cell_type": "code",
   "execution_count": 4,
   "id": "a795ea08",
   "metadata": {},
   "outputs": [],
   "source": [
    "## Loading The Dataset using pandas\n",
    "import pandas as pd\n",
    "df = pd.read_csv(\"high-school-directory.csv\")"
   ]
  },
  {
   "cell_type": "markdown",
   "id": "60958d93",
   "metadata": {},
   "source": [
    "# Exploring The Data"
   ]
  },
  {
   "cell_type": "code",
   "execution_count": 5,
   "id": "05e7df36",
   "metadata": {},
   "outputs": [
    {
     "data": {
      "application/vnd.microsoft.datawrangler.viewer.v0+json": {
       "columns": [
        {
         "name": "index",
         "rawType": "int64",
         "type": "integer"
        },
        {
         "name": "dbn",
         "rawType": "object",
         "type": "string"
        },
        {
         "name": "school_name",
         "rawType": "object",
         "type": "string"
        },
        {
         "name": "borough",
         "rawType": "object",
         "type": "string"
        },
        {
         "name": "building_code",
         "rawType": "object",
         "type": "string"
        },
        {
         "name": "phone_number",
         "rawType": "object",
         "type": "string"
        },
        {
         "name": "fax_number",
         "rawType": "object",
         "type": "string"
        },
        {
         "name": "grade_span_min",
         "rawType": "float64",
         "type": "float"
        },
        {
         "name": "grade_span_max",
         "rawType": "int64",
         "type": "integer"
        },
        {
         "name": "expgrade_span_min",
         "rawType": "float64",
         "type": "float"
        },
        {
         "name": "expgrade_span_max",
         "rawType": "float64",
         "type": "float"
        },
        {
         "name": "bus",
         "rawType": "object",
         "type": "string"
        },
        {
         "name": "subway",
         "rawType": "object",
         "type": "unknown"
        },
        {
         "name": "primary_address_line_1",
         "rawType": "object",
         "type": "string"
        },
        {
         "name": "city",
         "rawType": "object",
         "type": "string"
        },
        {
         "name": "state_code",
         "rawType": "object",
         "type": "string"
        },
        {
         "name": "postcode",
         "rawType": "int64",
         "type": "integer"
        },
        {
         "name": "website",
         "rawType": "object",
         "type": "string"
        },
        {
         "name": "total_students",
         "rawType": "float64",
         "type": "float"
        },
        {
         "name": "campus_name",
         "rawType": "object",
         "type": "unknown"
        },
        {
         "name": "school_type",
         "rawType": "object",
         "type": "unknown"
        },
        {
         "name": "overview_paragraph",
         "rawType": "object",
         "type": "string"
        },
        {
         "name": "program_highlights",
         "rawType": "object",
         "type": "string"
        },
        {
         "name": "language_classes",
         "rawType": "object",
         "type": "string"
        },
        {
         "name": "advancedplacement_courses",
         "rawType": "object",
         "type": "unknown"
        },
        {
         "name": "online_ap_courses",
         "rawType": "object",
         "type": "unknown"
        },
        {
         "name": "online_language_courses",
         "rawType": "object",
         "type": "unknown"
        },
        {
         "name": "extracurricular_activities",
         "rawType": "object",
         "type": "string"
        },
        {
         "name": "psal_sports_boys",
         "rawType": "object",
         "type": "unknown"
        },
        {
         "name": "psal_sports_girls",
         "rawType": "object",
         "type": "unknown"
        },
        {
         "name": "psal_sports_coed",
         "rawType": "object",
         "type": "unknown"
        },
        {
         "name": "school_sports",
         "rawType": "object",
         "type": "unknown"
        },
        {
         "name": "partner_cbo",
         "rawType": "object",
         "type": "unknown"
        },
        {
         "name": "partner_hospital",
         "rawType": "object",
         "type": "unknown"
        },
        {
         "name": "partner_highered",
         "rawType": "object",
         "type": "string"
        },
        {
         "name": "partner_cultural",
         "rawType": "object",
         "type": "unknown"
        },
        {
         "name": "partner_nonprofit",
         "rawType": "object",
         "type": "string"
        },
        {
         "name": "partner_corporate",
         "rawType": "object",
         "type": "unknown"
        },
        {
         "name": "partner_financial",
         "rawType": "object",
         "type": "unknown"
        },
        {
         "name": "partner_other",
         "rawType": "object",
         "type": "unknown"
        },
        {
         "name": "addtl_info1",
         "rawType": "object",
         "type": "string"
        },
        {
         "name": "addtl_info2",
         "rawType": "object",
         "type": "unknown"
        },
        {
         "name": "start_time",
         "rawType": "object",
         "type": "string"
        },
        {
         "name": "end_time",
         "rawType": "object",
         "type": "string"
        },
        {
         "name": "se_services",
         "rawType": "object",
         "type": "string"
        },
        {
         "name": "ell_programs",
         "rawType": "object",
         "type": "string"
        },
        {
         "name": "school_accessibility_description",
         "rawType": "object",
         "type": "string"
        },
        {
         "name": "number_programs",
         "rawType": "int64",
         "type": "integer"
        },
        {
         "name": "priority01",
         "rawType": "object",
         "type": "string"
        },
        {
         "name": "priority02",
         "rawType": "object",
         "type": "string"
        },
        {
         "name": "priority03",
         "rawType": "object",
         "type": "unknown"
        },
        {
         "name": "priority04",
         "rawType": "object",
         "type": "unknown"
        },
        {
         "name": "priority05",
         "rawType": "object",
         "type": "unknown"
        },
        {
         "name": "priority06",
         "rawType": "object",
         "type": "unknown"
        },
        {
         "name": "priority07",
         "rawType": "object",
         "type": "unknown"
        },
        {
         "name": "priority08",
         "rawType": "object",
         "type": "unknown"
        },
        {
         "name": "priority09",
         "rawType": "object",
         "type": "unknown"
        },
        {
         "name": "priority10",
         "rawType": "object",
         "type": "unknown"
        },
        {
         "name": "Location 1",
         "rawType": "object",
         "type": "string"
        },
        {
         "name": "Community Board",
         "rawType": "float64",
         "type": "float"
        },
        {
         "name": "Council District",
         "rawType": "float64",
         "type": "float"
        },
        {
         "name": "Census Tract",
         "rawType": "float64",
         "type": "float"
        },
        {
         "name": "BIN",
         "rawType": "float64",
         "type": "float"
        },
        {
         "name": "BBL",
         "rawType": "float64",
         "type": "float"
        },
        {
         "name": "NTA",
         "rawType": "object",
         "type": "string"
        },
        {
         "name": "Zip Codes",
         "rawType": "float64",
         "type": "float"
        },
        {
         "name": "Community Districts",
         "rawType": "int64",
         "type": "integer"
        },
        {
         "name": "Borough Boundaries",
         "rawType": "int64",
         "type": "integer"
        },
        {
         "name": "City Council Districts",
         "rawType": "int64",
         "type": "integer"
        },
        {
         "name": "Police Precincts",
         "rawType": "int64",
         "type": "integer"
        }
       ],
       "ref": "3003e57f-aaf1-4431-a2bd-660c41dff104",
       "rows": [
        [
         "0",
         "27Q260",
         "Frederick Douglass Academy VI High School",
         "Queens",
         "Q465",
         "718-471-2154",
         "718-471-2890",
         "9.0",
         "12",
         null,
         null,
         "Q113, Q22",
         "A to Beach 25th St-Wavecrest",
         "8-21 Bay 25 Street",
         "Far Rockaway",
         "NY",
         "11691",
         "http://schools.nyc.gov/schoolportals/27/Q260",
         "412.0",
         "Far Rockaway Educational Campus",
         null,
         "Frederick Douglass Academy (FDA) VI High School is a high school built on Dr. Lorraine Monroe’s vision of academic and personal excellence for all students. The emphasis on college preparation is supported by a challenging academic program and cultural enrichment. A set of core rules visible at every Frederick Douglass Academy signals the seriousness of purpose for the school, its students and teachers. All students must adhere to a code of student conduct, the Scholar’s Creed and a strict uniform code. Students are also required to participate in extensive after-school academic enrichment programs.",
         "Advisory, Graphic Arts Design, Teaching Internship; College tours: citywide for freshmen, statewide for sophomores and out-of-state for juniors; National and international educational trips",
         "Spanish",
         "Calculus AB, English Language and Composition, English Literature and Composition, United States History",
         "Biology, Physics B",
         "French, Spanish",
         "After-school Program, Book, Writing, Homework Help, Honor Society, Journalism, Lunch & Learn, PSAT and SAT Prep, Saturday Program, Step Team, Student Government, Summer Institute, Video, Tech, Yearbook, Computer Graphics, Robotics, Cheerleading",
         "Basketball, Cross Country, Indoor Track, Outdoor Track, Soccer, Softball, Swimming, Tennis, Volleyball",
         "Basketball, Cross Country, Indoor Track, Outdoor Track, Soccer, Softball, Swimming, Tennis, Volleyball",
         null,
         "Step Team, Modern Dance, Hip Hop Dance",
         null,
         "Jamaica Hospital Medical Center, Peninsula Hospital Center",
         "York College, Brooklyn College, St. John's College",
         null,
         "Queens District Attorney, Sports and Arts Foundation, CMS",
         "Replications, Inc.",
         "Citibank",
         "New York Road Runners Foundation (NYRRF)",
         "Uniform Required: plain white collared shirt, black pants/skirt, FDA tie/FDA scarf, black shoes",
         "Extended Day Program, Student Summer Orientation, Summer Internship Program offered, Weekend Program offered",
         "7:45 AM",
         "2:05 PM",
         "This school will provide students with disabilities the supports and services indicated on their IEPs.",
         "ESL",
         "Not Functionally Accessible",
         "1",
         "Priority to Queens students or residents who attend an information session",
         "Then to New York City residents who attend an information session",
         "Then to Queens students or residents",
         "Then to New York City residents",
         null,
         null,
         null,
         null,
         null,
         null,
         "{'latitude': '40.601989336', 'longitude': '-73.762834323', 'human_address': '{\"address\": \"8 21 Bay 25 Street\", \"city\": \"Far Rockaway\", \"state\": \"NY\", \"zip\": \"11691\"}'}",
         "14.0",
         "31.0",
         "100802.0",
         "4300730.0",
         "4157360001.0",
         "Far Rockaway-Bayswater                                                     ",
         "20529.0",
         "51",
         "3",
         "47",
         "59"
        ],
        [
         "1",
         "21K559",
         "Life Academy High School for Film and Music",
         "Brooklyn",
         "K400",
         "718-333-7750",
         "718-333-7775",
         "9.0",
         "12",
         null,
         null,
         "B1, B3, B4, B6, B64, B82",
         "D to 25th Ave ; N to Ave U ; N to Gravesend - 86th St",
         "2630 Benson Avenue",
         "Brooklyn",
         "NY",
         "11214",
         "http://schools.nyc.gov/schoolportals/21/K559",
         "260.0",
         "Lafayette Educational Campus",
         null,
         "At Life Academy High School for Film and Music, we infuse the study of film, the art of filmmaking, audio production and new media into engaging, student-centered and project-based courses. We focus on building communication skills in writing, presentation and creativity. Our Advisory program helps each student develop personal relationships and positive citizenship. We seek students who want to learn in an exciting atmosphere of excellence and creative collaboration.",
         "College Now, iLEARN courses, Art and Film Production courses including film, set design, audio production, cinematography, animation, storyboarding art",
         "Spanish",
         null,
         "Biology, English Literature and Composition, European History, United States History, World History",
         null,
         "Film, Music, Talent Show, Holiday Concert, Student Council, After school tutoring in content areas, iLEARN courses, and other programs of student interest based on grant funding.",
         "Basketball, Bowling, Indoor Track, Soccer, Softball, Volleyball",
         "Basketball, Bowling, Indoor Track, Soccer, Softball, Volleyball",
         "Cricket",
         null,
         "Coney Island Generation Gap",
         null,
         "City Tech, Kingsborough Early College Secondary School, City University of New Jersey",
         "Museum of the Moving Image, New York Public Library",
         "Institute for Student Achievement",
         "Film Life, Inc., SONY Wonder Tech",
         null,
         null,
         "Our school requires completion of a Common Core Learning Standards Skills Portfolio for Assessment in every class",
         null,
         "8:15 AM",
         "3:00 PM",
         "This school will provide students with disabilities the supports and services indicated on their IEPs.",
         "ESL",
         "Functionally Accessible",
         "1",
         "Priority to New York City residents who attend an information session",
         "Then to New York City residents",
         null,
         null,
         null,
         null,
         null,
         null,
         null,
         null,
         "{'latitude': '40.593593811', 'longitude': '-73.984729232', 'human_address': '{\"address\": \"2630 Benson Avenue\", \"city\": \"Brooklyn\", \"state\": \"NY\", \"zip\": \"11214\"}'}",
         "13.0",
         "47.0",
         "306.0",
         "3186454.0",
         "3068830001.0",
         "Gravesend                                                                  ",
         "17616.0",
         "21",
         "2",
         "45",
         "35"
        ],
        [
         "2",
         "16K393",
         "Frederick Douglass Academy IV Secondary School",
         "Brooklyn",
         "K026",
         "718-574-2820",
         "718-574-2821",
         "9.0",
         "12",
         null,
         null,
         "B15, B38, B46, B47, B52, B54, Q24",
         "J to Kosciusko St ; M, Z to Myrtle Ave",
         "1014 Lafayette Avenue",
         "Brooklyn",
         "NY",
         "11221",
         "http://schools.nyc.gov/schoolportals/16/K393",
         "155.0",
         null,
         null,
         "The Frederick Douglass Academy IV (FDA IV) Secondary School is a place of scholarship. Our students are considered scholars. We create an atmosphere of order, civility, maturity and seriousness of purpose. A set of core rules referred to as the ‘twelve non-negotiables’ establish and maintain this environment. Scholars at the Frederick Douglas Academy IV Secondary School are instilled with a Scholar’s Creed, adapted from the Morehouse College Students’ Creed, that reinforces the school’s cohesive culture, underscores its high expectations and builds the scholars’ sense of pride in their school and themselves.",
         "College Now with Medgar Evers College, Fresh Prep Core, Science, Technology, Engineering & Mathematics (STEM) Robotics with New York City College of Technology, Dance4Peace",
         "French, Spanish",
         "English Language and Composition, United States History",
         "French Language and Culture",
         null,
         "After-school and Saturday Programs, Art Studio Group, Book, Cheerleading Team, Chess Team, Dance, Dance Ensemble, Homework Help, Lunch and Learn, Peer Mediation, Music, PSAT/SAT Prep, Scholars Government Association (SGA), Step Team, Summer Institute, Achieving Change in our Neighborhood (Teen Action), Violin, String Instruments, CHAMPS, School Leadership Team, Financial Literacy, Yoga, Anti-Bullying, Violence Prevention, Yearbook",
         null,
         null,
         null,
         "Basketball Team",
         "Achieving Change in our Neighborhood (Teen ACTION) St.Nicks Alliance, New York City College of Technology – STEM Robotics, Fresh Prep and New York Hall of Science",
         null,
         "Medgar Evers College",
         "Noel Pointer School of Music",
         "Hip-Hop 4 Life, Urban Arts, and St. Nicks Alliance",
         null,
         null,
         null,
         "Dress Code Required: solid white shirt/blouse, navy blue blazer, gray pants/skirt, navy blue tie/scarf, black dress shoes, Participation in our 2-day FDA IV Prep Institute (Orientation) is required for incoming students, Extended Day Program",
         "Student Summer Orientation, Weekend Program offered",
         "8:00 AM",
         "2:20 PM",
         "This school will provide students with disabilities the supports and services indicated on their IEPs.",
         "ESL",
         "Not Functionally Accessible",
         "1",
         "Priority to continuing 8th graders",
         "Then to Brooklyn students or residents who attend an information session",
         "Then to New York City residents who attend an information session",
         "Then to Brooklyn students or residents",
         "Then to New York City residents",
         null,
         null,
         null,
         null,
         null,
         "{'latitude': '40.692133704', 'longitude': '-73.931503172', 'human_address': '{\"address\": \"1014 Lafayette Avenue\", \"city\": \"Brooklyn\", \"state\": \"NY\", \"zip\": \"11221\"}'}",
         "3.0",
         "36.0",
         "291.0",
         "3393805.0",
         "3016160001.0",
         "Stuyvesant Heights                                                         ",
         "18181.0",
         "69",
         "2",
         "49",
         "52"
        ],
        [
         "3",
         "08X305",
         "Pablo Neruda Academy",
         "Bronx",
         "X450",
         "718-824-1682",
         "718-824-1663",
         "9.0",
         "12",
         null,
         null,
         "Bx22, Bx27, Bx36, Bx39, Bx5",
         null,
         "1980 Lafayette Avenue",
         "Bronx",
         "NY",
         "10473",
         "www.pablonerudaacademy.org",
         "335.0",
         "Adlai E. Stevenson Educational Campus",
         null,
         "Our mission is to engage, inspire, and educate our students so that they develop skills to succeed in college and beyond. Our students work in small groups, guided by skilled and caring teachers, to solve challenging problems. Each student is well-known by staff members, and is assigned an advisor who works closely with them each week to monitor their progress. We celebrate successes and students are recognized for their accomplishments.",
         "Advanced Placement courses, Electives courses including: Art & Design, Criminal Justice, Entrepreneurship, Careers & Internships, and Advanced Art; Student Learning Communities, Internship Opportunities, Individualized Student Programming, Credit-bearing Online Courses (iLearn) and After-school Enrichment Classes; College Now & JumpStart (Credit-bearing College Courses)",
         "Spanish",
         "Art History, English Language and Composition, English Literature and Composition, United States Government and Politics",
         null,
         "Spanish",
         "Youth Court, Student Government, Youth Service, Youth Service Leaders, Art, Graffiti Mural, Yearbook, Homework Help & Tutoring Services, Regents Prep, Saturday Academy, Senior Committee, Video Game, Yoga, Dance, Digital Media, Book, Chess, Soccer, Softball, Basketball Intramurals, National Honor Society",
         "Basketball, Outdoor Track, Softball, Tennis, Volleyball",
         "Basketball, Outdoor Track, Softball, Tennis, Volleyball",
         null,
         "Baseball, Basketball, Flag Football, Soccer, Softball, Volleyball",
         null,
         "Soundview Health Center, Bronx Lebanon Hospital Center, Montefiore Medical Center",
         "Hostos Community College, Monroe College, Lehman College",
         "Chilean Consulate, Materials for the Arts",
         "Network for Teaching Entrepreneurship (NFTE), BISCEP (The Leadership Program), New York Cares, Institute for Student Achievement (ISA), PENCIL",
         null,
         null,
         "iLearnNYC",
         "All students are individually programmed (based on academic needs), Incoming 9th grade students attend our Summer Orientation Session, All students are assigned to a small Student Learning Community that meets twice a week, College preparation begins in 9th grade and continues through 12th grade; this preparation includes College Trips (in-state, out-of-state, trade schools), College Fairs, College Workshops",
         "Extended Day Program",
         "8:00 AM",
         "3:50 PM",
         "This school will provide students with disabilities the supports and services indicated on their IEPs.",
         "ESL",
         "Functionally Accessible",
         "1",
         "Priority to Bronx students or residents who attend an information session",
         "Then to New York City residents who attend an information session",
         "Then to Bronx students or residents",
         "Then to New York City residents",
         null,
         null,
         null,
         null,
         null,
         null,
         "{'latitude': '40.822303765', 'longitude': '-73.85596139', 'human_address': '{\"address\": \"1980 Lafayette Avenue\", \"city\": \"Bronx\", \"state\": \"NY\", \"zip\": \"10473\"}'}",
         "9.0",
         "18.0",
         "16.0",
         "2022205.0",
         "2036040039.0",
         "Soundview-Castle Hill-Clason Point-Harding Park                            ",
         "11611.0",
         "58",
         "5",
         "31",
         "26"
        ],
        [
         "4",
         "03M485",
         "Fiorello H. LaGuardia High School of Music & Art and Performing Arts",
         "Manhattan",
         "M485",
         "212-496-0700",
         "212-724-5748",
         "9.0",
         "12",
         null,
         null,
         "M10, M104, M11, M20, M31, M5, M57, M66, M7, M72",
         "1 to 66th St - Lincoln Center ; 2, 3 to 72nd St ; A, B, C, D to 59th St-Columbus Circle",
         "100 Amsterdam Avenue",
         "New York",
         "NY",
         "10023",
         "www.laguardiahs.org",
         "2730.0",
         null,
         "Specialized School",
         "We enjoy an international reputation as the first and foremost high school dedicated to nurturing students gifted in the arts. Our mission is to provide an opportunity for students to pursue both a rigorous conservatory-style training and a challenging academic program. Our building features world-class facilities including a concert hall; art, dance, music, recording and theater studios, science and computer labs, and an art gallery. Almost all of our graduates continue their studies, gaining admission to highly selective schools. Our graduates have distinguished themselves in virtually every field, including the arts and sciences, medicine, law, business, education and public service.",
         "Students have a daily program that includes both a multi-period conservatory studio block and a full college preparatory academic course load. The studio majors are: Dance, Drama, Fine Arts, Instrumental Music, Technical Theater and Vocal Music. Each studio has a four-year sequence of courses and opportunities for students to participate in performances and exhibitions. Students completing the applicable NYC Studio Comprehensive exam receive a special endorsement on their diploma. Honors courses are offered in all academic areas starting in the freshman year, leading to a full complement of Advanced Placement courses.",
         "French, Italian, Japanese, Spanish",
         "Art History, Biology, Calculus AB, Calculus BC, Chemistry, Comparative Government and Politics, English Language and Composition, English Literature and Composition, Environmental Science, European History, French Language and Culture, Italian Language and Culture, Japanese Language and Culture, Music Theory, Physics B, Psychology, Spanish Language and Culture, Statistics, Studio Art: 2-D Design, Studio Art: 3-D Design, Studio Art: Drawing, United States Government and Politics, United States History, World History",
         null,
         "Spanish",
         "Amnesty International, Anime, Annual Musical, Arista, Art Exhibits, ASPIRA, Black Student Union, Chinese Student Association, Claymazing, Comic Book, Cult Classics, Dance Programs, DaVinci Scholars Program, Debate Team, Disney VoluntEars, Drama Festivals, Environmental, Fashion, Film, Future Voters of America, Gay/Straight Alliance, Girls Learn International, Habitat for Humanity, Harry Potter, Independent Film, Jewish Union, Literary Magazine, Math Team, Mock Trial, Moot Court, Murals, National Honor Society, National Language Honors Society, Newspaper, Orchestral and Vocal Concerts, Random Acts of Kindness, Red Cross, Relay For Life, School Leadership Team (SLT), Science Outreach League, Shamisen, Social Action, Splashes of Hope, Student Government Organization, Ukulele For Good, Yearbook",
         "Basketball, Bowling, Cross Country, Fencing, Gymnastics, Handball, Indoor Track, Outdoor Track, Soccer, Softball, Swimming, Volleyball",
         "Basketball, Bowling, Cross Country, Fencing, Gymnastics, Handball, Indoor Track, Outdoor Track, Soccer, Softball, Swimming, Volleyball",
         null,
         null,
         "Lincoln Center for the Performing Arts",
         "Mount Sinai Medical Center",
         "The Cooper Union for the Advancement of Science and Art, Skidmore College, Sophie Davis School of Biomedical Education, New York University School of Medicine",
         "Lincoln Center for the Performing Arts, American Ballet Theater, Carnegie Hall, New York Philharmonic, Drama Desk, Metropolitan Opera, Interschool Orchestras of New York, New York Youth Symphony",
         "Junior Achievement, Red Cross, United Nations Association, American Cancer Society",
         "Sony Music, Warner Music Group, Capital Cities ABC, The Walt Disney Company",
         null,
         null,
         "Chancellor’s Arts Endorsed Diploma",
         null,
         "8:00 AM",
         "4:00 PM",
         "This school will provide students with disabilities the supports and services indicated on their IEPs.",
         "ESL",
         "Functionally Accessible",
         "6",
         "Open to New York City residents",
         "Admission is based on the outcome of a competitive audition and review of the student’s record",
         "Students must audition for each program (studio) to which they are applying",
         "Students must be residents of New York City at the time of audition",
         null,
         null,
         null,
         null,
         null,
         null,
         "{'latitude': '40.773670507', 'longitude': '-73.985268558', 'human_address': '{\"address\": \"100 Amsterdam Avenue\", \"city\": \"New York\", \"state\": \"NY\", \"zip\": \"10023\"}'}",
         "7.0",
         "6.0",
         "151.0",
         "1030341.0",
         "1011560030.0",
         "Lincoln Square                                                             ",
         "12420.0",
         "20",
         "4",
         "19",
         "12"
        ]
       ],
       "shape": {
        "columns": 69,
        "rows": 5
       }
      },
      "text/html": [
       "<div>\n",
       "<style scoped>\n",
       "    .dataframe tbody tr th:only-of-type {\n",
       "        vertical-align: middle;\n",
       "    }\n",
       "\n",
       "    .dataframe tbody tr th {\n",
       "        vertical-align: top;\n",
       "    }\n",
       "\n",
       "    .dataframe thead th {\n",
       "        text-align: right;\n",
       "    }\n",
       "</style>\n",
       "<table border=\"1\" class=\"dataframe\">\n",
       "  <thead>\n",
       "    <tr style=\"text-align: right;\">\n",
       "      <th></th>\n",
       "      <th>dbn</th>\n",
       "      <th>school_name</th>\n",
       "      <th>borough</th>\n",
       "      <th>building_code</th>\n",
       "      <th>phone_number</th>\n",
       "      <th>fax_number</th>\n",
       "      <th>grade_span_min</th>\n",
       "      <th>grade_span_max</th>\n",
       "      <th>expgrade_span_min</th>\n",
       "      <th>expgrade_span_max</th>\n",
       "      <th>...</th>\n",
       "      <th>Council District</th>\n",
       "      <th>Census Tract</th>\n",
       "      <th>BIN</th>\n",
       "      <th>BBL</th>\n",
       "      <th>NTA</th>\n",
       "      <th>Zip Codes</th>\n",
       "      <th>Community Districts</th>\n",
       "      <th>Borough Boundaries</th>\n",
       "      <th>City Council Districts</th>\n",
       "      <th>Police Precincts</th>\n",
       "    </tr>\n",
       "  </thead>\n",
       "  <tbody>\n",
       "    <tr>\n",
       "      <th>0</th>\n",
       "      <td>27Q260</td>\n",
       "      <td>Frederick Douglass Academy VI High School</td>\n",
       "      <td>Queens</td>\n",
       "      <td>Q465</td>\n",
       "      <td>718-471-2154</td>\n",
       "      <td>718-471-2890</td>\n",
       "      <td>9.0</td>\n",
       "      <td>12</td>\n",
       "      <td>NaN</td>\n",
       "      <td>NaN</td>\n",
       "      <td>...</td>\n",
       "      <td>31.0</td>\n",
       "      <td>100802.0</td>\n",
       "      <td>4300730.0</td>\n",
       "      <td>4.157360e+09</td>\n",
       "      <td>Far Rockaway-Bayswater                        ...</td>\n",
       "      <td>20529.0</td>\n",
       "      <td>51</td>\n",
       "      <td>3</td>\n",
       "      <td>47</td>\n",
       "      <td>59</td>\n",
       "    </tr>\n",
       "    <tr>\n",
       "      <th>1</th>\n",
       "      <td>21K559</td>\n",
       "      <td>Life Academy High School for Film and Music</td>\n",
       "      <td>Brooklyn</td>\n",
       "      <td>K400</td>\n",
       "      <td>718-333-7750</td>\n",
       "      <td>718-333-7775</td>\n",
       "      <td>9.0</td>\n",
       "      <td>12</td>\n",
       "      <td>NaN</td>\n",
       "      <td>NaN</td>\n",
       "      <td>...</td>\n",
       "      <td>47.0</td>\n",
       "      <td>306.0</td>\n",
       "      <td>3186454.0</td>\n",
       "      <td>3.068830e+09</td>\n",
       "      <td>Gravesend                                     ...</td>\n",
       "      <td>17616.0</td>\n",
       "      <td>21</td>\n",
       "      <td>2</td>\n",
       "      <td>45</td>\n",
       "      <td>35</td>\n",
       "    </tr>\n",
       "    <tr>\n",
       "      <th>2</th>\n",
       "      <td>16K393</td>\n",
       "      <td>Frederick Douglass Academy IV Secondary School</td>\n",
       "      <td>Brooklyn</td>\n",
       "      <td>K026</td>\n",
       "      <td>718-574-2820</td>\n",
       "      <td>718-574-2821</td>\n",
       "      <td>9.0</td>\n",
       "      <td>12</td>\n",
       "      <td>NaN</td>\n",
       "      <td>NaN</td>\n",
       "      <td>...</td>\n",
       "      <td>36.0</td>\n",
       "      <td>291.0</td>\n",
       "      <td>3393805.0</td>\n",
       "      <td>3.016160e+09</td>\n",
       "      <td>Stuyvesant Heights                            ...</td>\n",
       "      <td>18181.0</td>\n",
       "      <td>69</td>\n",
       "      <td>2</td>\n",
       "      <td>49</td>\n",
       "      <td>52</td>\n",
       "    </tr>\n",
       "    <tr>\n",
       "      <th>3</th>\n",
       "      <td>08X305</td>\n",
       "      <td>Pablo Neruda Academy</td>\n",
       "      <td>Bronx</td>\n",
       "      <td>X450</td>\n",
       "      <td>718-824-1682</td>\n",
       "      <td>718-824-1663</td>\n",
       "      <td>9.0</td>\n",
       "      <td>12</td>\n",
       "      <td>NaN</td>\n",
       "      <td>NaN</td>\n",
       "      <td>...</td>\n",
       "      <td>18.0</td>\n",
       "      <td>16.0</td>\n",
       "      <td>2022205.0</td>\n",
       "      <td>2.036040e+09</td>\n",
       "      <td>Soundview-Castle Hill-Clason Point-Harding Par...</td>\n",
       "      <td>11611.0</td>\n",
       "      <td>58</td>\n",
       "      <td>5</td>\n",
       "      <td>31</td>\n",
       "      <td>26</td>\n",
       "    </tr>\n",
       "    <tr>\n",
       "      <th>4</th>\n",
       "      <td>03M485</td>\n",
       "      <td>Fiorello H. LaGuardia High School of Music &amp; A...</td>\n",
       "      <td>Manhattan</td>\n",
       "      <td>M485</td>\n",
       "      <td>212-496-0700</td>\n",
       "      <td>212-724-5748</td>\n",
       "      <td>9.0</td>\n",
       "      <td>12</td>\n",
       "      <td>NaN</td>\n",
       "      <td>NaN</td>\n",
       "      <td>...</td>\n",
       "      <td>6.0</td>\n",
       "      <td>151.0</td>\n",
       "      <td>1030341.0</td>\n",
       "      <td>1.011560e+09</td>\n",
       "      <td>Lincoln Square                                ...</td>\n",
       "      <td>12420.0</td>\n",
       "      <td>20</td>\n",
       "      <td>4</td>\n",
       "      <td>19</td>\n",
       "      <td>12</td>\n",
       "    </tr>\n",
       "  </tbody>\n",
       "</table>\n",
       "<p>5 rows × 69 columns</p>\n",
       "</div>"
      ],
      "text/plain": [
       "      dbn                                        school_name    borough  \\\n",
       "0  27Q260          Frederick Douglass Academy VI High School     Queens   \n",
       "1  21K559        Life Academy High School for Film and Music   Brooklyn   \n",
       "2  16K393     Frederick Douglass Academy IV Secondary School   Brooklyn   \n",
       "3  08X305                               Pablo Neruda Academy      Bronx   \n",
       "4  03M485  Fiorello H. LaGuardia High School of Music & A...  Manhattan   \n",
       "\n",
       "  building_code  phone_number    fax_number  grade_span_min  grade_span_max  \\\n",
       "0          Q465  718-471-2154  718-471-2890             9.0              12   \n",
       "1          K400  718-333-7750  718-333-7775             9.0              12   \n",
       "2          K026  718-574-2820  718-574-2821             9.0              12   \n",
       "3          X450  718-824-1682  718-824-1663             9.0              12   \n",
       "4          M485  212-496-0700  212-724-5748             9.0              12   \n",
       "\n",
       "   expgrade_span_min  expgrade_span_max  ... Council District Census Tract  \\\n",
       "0                NaN                NaN  ...             31.0     100802.0   \n",
       "1                NaN                NaN  ...             47.0        306.0   \n",
       "2                NaN                NaN  ...             36.0        291.0   \n",
       "3                NaN                NaN  ...             18.0         16.0   \n",
       "4                NaN                NaN  ...              6.0        151.0   \n",
       "\n",
       "         BIN           BBL                                                NTA  \\\n",
       "0  4300730.0  4.157360e+09  Far Rockaway-Bayswater                        ...   \n",
       "1  3186454.0  3.068830e+09  Gravesend                                     ...   \n",
       "2  3393805.0  3.016160e+09  Stuyvesant Heights                            ...   \n",
       "3  2022205.0  2.036040e+09  Soundview-Castle Hill-Clason Point-Harding Par...   \n",
       "4  1030341.0  1.011560e+09  Lincoln Square                                ...   \n",
       "\n",
       "   Zip Codes Community Districts  Borough Boundaries City Council Districts  \\\n",
       "0    20529.0                  51                   3                     47   \n",
       "1    17616.0                  21                   2                     45   \n",
       "2    18181.0                  69                   2                     49   \n",
       "3    11611.0                  58                   5                     31   \n",
       "4    12420.0                  20                   4                     19   \n",
       "\n",
       "  Police Precincts  \n",
       "0               59  \n",
       "1               35  \n",
       "2               52  \n",
       "3               26  \n",
       "4               12  \n",
       "\n",
       "[5 rows x 69 columns]"
      ]
     },
     "execution_count": 5,
     "metadata": {},
     "output_type": "execute_result"
    }
   ],
   "source": [
    "## First rows of the dataframe\n",
    "df.head()"
   ]
  },
  {
   "cell_type": "code",
   "execution_count": 6,
   "id": "3bafdc48",
   "metadata": {},
   "outputs": [
    {
     "name": "stdout",
     "output_type": "stream",
     "text": [
      "<class 'pandas.core.frame.DataFrame'>\n",
      "RangeIndex: 435 entries, 0 to 434\n",
      "Data columns (total 69 columns):\n",
      " #   Column                            Non-Null Count  Dtype  \n",
      "---  ------                            --------------  -----  \n",
      " 0   dbn                               435 non-null    object \n",
      " 1   school_name                       435 non-null    object \n",
      " 2   borough                           435 non-null    object \n",
      " 3   building_code                     435 non-null    object \n",
      " 4   phone_number                      435 non-null    object \n",
      " 5   fax_number                        423 non-null    object \n",
      " 6   grade_span_min                    432 non-null    float64\n",
      " 7   grade_span_max                    435 non-null    int64  \n",
      " 8   expgrade_span_min                 31 non-null     float64\n",
      " 9   expgrade_span_max                 33 non-null     float64\n",
      " 10  bus                               434 non-null    object \n",
      " 11  subway                            358 non-null    object \n",
      " 12  primary_address_line_1            435 non-null    object \n",
      " 13  city                              435 non-null    object \n",
      " 14  state_code                        435 non-null    object \n",
      " 15  postcode                          435 non-null    int64  \n",
      " 16  website                           430 non-null    object \n",
      " 17  total_students                    426 non-null    float64\n",
      " 18  campus_name                       217 non-null    object \n",
      " 19  school_type                       104 non-null    object \n",
      " 20  overview_paragraph                434 non-null    object \n",
      " 21  program_highlights                434 non-null    object \n",
      " 22  language_classes                  412 non-null    object \n",
      " 23  advancedplacement_courses         340 non-null    object \n",
      " 24  online_ap_courses                 64 non-null     object \n",
      " 25  online_language_courses           73 non-null     object \n",
      " 26  extracurricular_activities        435 non-null    object \n",
      " 27  psal_sports_boys                  373 non-null    object \n",
      " 28  psal_sports_girls                 373 non-null    object \n",
      " 29  psal_sports_coed                  147 non-null    object \n",
      " 30  school_sports                     297 non-null    object \n",
      " 31  partner_cbo                       354 non-null    object \n",
      " 32  partner_hospital                  196 non-null    object \n",
      " 33  partner_highered                  378 non-null    object \n",
      " 34  partner_cultural                  305 non-null    object \n",
      " 35  partner_nonprofit                 297 non-null    object \n",
      " 36  partner_corporate                 198 non-null    object \n",
      " 37  partner_financial                 72 non-null     object \n",
      " 38  partner_other                     187 non-null    object \n",
      " 39  addtl_info1                       354 non-null    object \n",
      " 40  addtl_info2                       229 non-null    object \n",
      " 41  start_time                        431 non-null    object \n",
      " 42  end_time                          431 non-null    object \n",
      " 43  se_services                       435 non-null    object \n",
      " 44  ell_programs                      435 non-null    object \n",
      " 45  school_accessibility_description  435 non-null    object \n",
      " 46  number_programs                   435 non-null    int64  \n",
      " 47  priority01                        435 non-null    object \n",
      " 48  priority02                        352 non-null    object \n",
      " 49  priority03                        243 non-null    object \n",
      " 50  priority04                        177 non-null    object \n",
      " 51  priority05                        39 non-null     object \n",
      " 52  priority06                        17 non-null     object \n",
      " 53  priority07                        4 non-null      object \n",
      " 54  priority08                        1 non-null      object \n",
      " 55  priority09                        1 non-null      object \n",
      " 56  priority10                        1 non-null      object \n",
      " 57  Location 1                        435 non-null    object \n",
      " 58  Community Board                   432 non-null    float64\n",
      " 59  Council District                  432 non-null    float64\n",
      " 60  Census Tract                      432 non-null    float64\n",
      " 61  BIN                               431 non-null    float64\n",
      " 62  BBL                               431 non-null    float64\n",
      " 63  NTA                               432 non-null    object \n",
      " 64  Zip Codes                         434 non-null    float64\n",
      " 65  Community Districts               435 non-null    int64  \n",
      " 66  Borough Boundaries                435 non-null    int64  \n",
      " 67  City Council Districts            435 non-null    int64  \n",
      " 68  Police Precincts                  435 non-null    int64  \n",
      "dtypes: float64(10), int64(7), object(52)\n",
      "memory usage: 234.6+ KB\n"
     ]
    }
   ],
   "source": [
    "## Data types & non-null counts\n",
    "df.info()"
   ]
  },
  {
   "cell_type": "code",
   "execution_count": 7,
   "id": "86c4a7fd",
   "metadata": {},
   "outputs": [
    {
     "data": {
      "application/vnd.microsoft.datawrangler.viewer.v0+json": {
       "columns": [
        {
         "name": "index",
         "rawType": "object",
         "type": "string"
        },
        {
         "name": "grade_span_min",
         "rawType": "float64",
         "type": "float"
        },
        {
         "name": "grade_span_max",
         "rawType": "float64",
         "type": "float"
        },
        {
         "name": "expgrade_span_min",
         "rawType": "float64",
         "type": "float"
        },
        {
         "name": "expgrade_span_max",
         "rawType": "float64",
         "type": "float"
        },
        {
         "name": "postcode",
         "rawType": "float64",
         "type": "float"
        },
        {
         "name": "total_students",
         "rawType": "float64",
         "type": "float"
        },
        {
         "name": "number_programs",
         "rawType": "float64",
         "type": "float"
        },
        {
         "name": "Community Board",
         "rawType": "float64",
         "type": "float"
        },
        {
         "name": "Council District",
         "rawType": "float64",
         "type": "float"
        },
        {
         "name": "Census Tract",
         "rawType": "float64",
         "type": "float"
        },
        {
         "name": "BIN",
         "rawType": "float64",
         "type": "float"
        },
        {
         "name": "BBL",
         "rawType": "float64",
         "type": "float"
        },
        {
         "name": "Zip Codes",
         "rawType": "float64",
         "type": "float"
        },
        {
         "name": "Community Districts",
         "rawType": "float64",
         "type": "float"
        },
        {
         "name": "Borough Boundaries",
         "rawType": "float64",
         "type": "float"
        },
        {
         "name": "City Council Districts",
         "rawType": "float64",
         "type": "float"
        },
        {
         "name": "Police Precincts",
         "rawType": "float64",
         "type": "float"
        }
       ],
       "ref": "759f6629-0417-4912-9075-14f6c4ccedc3",
       "rows": [
        [
         "count",
         "432.0",
         "435.0",
         "31.0",
         "33.0",
         "435.0",
         "426.0",
         "435.0",
         "432.0",
         "432.0",
         "432.0",
         "431.0",
         "431.0",
         "434.0",
         "435.0",
         "435.0",
         "435.0",
         "435.0"
        ],
        [
         "mean",
         "8.44212962962963",
         "11.894252873563218",
         "8.516129032258064",
         "12.363636363636363",
         "10726.096551724138",
         "703.8427230046948",
         "1.7080459770114942",
         "6.787037037037037",
         "21.85648148148148",
         "3988.340277777778",
         "2581724.2366589326",
         "2510921363.700696",
         "14232.228110599079",
         "38.37241379310345",
         "3.452873563218391",
         "28.832183908045977",
         "36.94942528735632"
        ],
        [
         "std",
         "1.1645909240072838",
         "0.4215825795635906",
         "1.1216347516589493",
         "0.7833494518006401",
         "537.9279069286129",
         "775.8704356094535",
         "1.56423288355995",
         "4.367781059771206",
         "14.321717956471351",
         "15582.415491056394",
         "1189750.3893287631",
         "1136455374.8671432",
         "3529.2727742483903",
         "19.345373526481",
         "1.2122492215799279",
         "14.209488410486799",
         "21.107519755336973"
        ],
        [
         "min",
         "6.0",
         "9.0",
         "6.0",
         "12.0",
         "10001.0",
         "50.0",
         "1.0",
         "1.0",
         "1.0",
         "1.0",
         "1000811.0",
         "1000160215.0",
         "10090.0",
         "1.0",
         "1.0",
         "1.0",
         "1.0"
        ],
        [
         "25%",
         "9.0",
         "12.0",
         "9.0",
         "12.0",
         "10301.5",
         "349.0",
         "1.0",
         "3.0",
         "10.0",
         "118.0",
         "2000992.0",
         "2023060054.0",
         "11606.0",
         "22.0",
         "2.0",
         "17.0",
         "23.0"
        ],
        [
         "50%",
         "9.0",
         "12.0",
         "9.0",
         "12.0",
         "10472.0",
         "460.5",
         "1.0",
         "6.0",
         "18.0",
         "251.5",
         "2116159.0",
         "2053680001.0",
         "13093.0",
         "39.0",
         "4.0",
         "32.0",
         "34.0"
        ],
        [
         "75%",
         "9.0",
         "12.0",
         "9.0",
         "12.0",
         "11217.0",
         "622.0",
         "2.0",
         "10.0",
         "34.0",
         "510.25",
         "3330710.0",
         "3068830001.0",
         "16865.75",
         "53.5",
         "5.0",
         "40.0",
         "54.0"
        ],
        [
         "max",
         "9.0",
         "12.0",
         "9.0",
         "14.0",
         "11694.0",
         "5458.0",
         "10.0",
         "18.0",
         "51.0",
         "138501.0",
         "5149609.0",
         "5066130001.0",
         "24669.0",
         "71.0",
         "5.0",
         "51.0",
         "77.0"
        ]
       ],
       "shape": {
        "columns": 17,
        "rows": 8
       }
      },
      "text/html": [
       "<div>\n",
       "<style scoped>\n",
       "    .dataframe tbody tr th:only-of-type {\n",
       "        vertical-align: middle;\n",
       "    }\n",
       "\n",
       "    .dataframe tbody tr th {\n",
       "        vertical-align: top;\n",
       "    }\n",
       "\n",
       "    .dataframe thead th {\n",
       "        text-align: right;\n",
       "    }\n",
       "</style>\n",
       "<table border=\"1\" class=\"dataframe\">\n",
       "  <thead>\n",
       "    <tr style=\"text-align: right;\">\n",
       "      <th></th>\n",
       "      <th>grade_span_min</th>\n",
       "      <th>grade_span_max</th>\n",
       "      <th>expgrade_span_min</th>\n",
       "      <th>expgrade_span_max</th>\n",
       "      <th>postcode</th>\n",
       "      <th>total_students</th>\n",
       "      <th>number_programs</th>\n",
       "      <th>Community Board</th>\n",
       "      <th>Council District</th>\n",
       "      <th>Census Tract</th>\n",
       "      <th>BIN</th>\n",
       "      <th>BBL</th>\n",
       "      <th>Zip Codes</th>\n",
       "      <th>Community Districts</th>\n",
       "      <th>Borough Boundaries</th>\n",
       "      <th>City Council Districts</th>\n",
       "      <th>Police Precincts</th>\n",
       "    </tr>\n",
       "  </thead>\n",
       "  <tbody>\n",
       "    <tr>\n",
       "      <th>count</th>\n",
       "      <td>432.000000</td>\n",
       "      <td>435.000000</td>\n",
       "      <td>31.000000</td>\n",
       "      <td>33.000000</td>\n",
       "      <td>435.000000</td>\n",
       "      <td>426.000000</td>\n",
       "      <td>435.000000</td>\n",
       "      <td>432.000000</td>\n",
       "      <td>432.000000</td>\n",
       "      <td>432.000000</td>\n",
       "      <td>4.310000e+02</td>\n",
       "      <td>4.310000e+02</td>\n",
       "      <td>434.000000</td>\n",
       "      <td>435.000000</td>\n",
       "      <td>435.000000</td>\n",
       "      <td>435.000000</td>\n",
       "      <td>435.000000</td>\n",
       "    </tr>\n",
       "    <tr>\n",
       "      <th>mean</th>\n",
       "      <td>8.442130</td>\n",
       "      <td>11.894253</td>\n",
       "      <td>8.516129</td>\n",
       "      <td>12.363636</td>\n",
       "      <td>10726.096552</td>\n",
       "      <td>703.842723</td>\n",
       "      <td>1.708046</td>\n",
       "      <td>6.787037</td>\n",
       "      <td>21.856481</td>\n",
       "      <td>3988.340278</td>\n",
       "      <td>2.581724e+06</td>\n",
       "      <td>2.510921e+09</td>\n",
       "      <td>14232.228111</td>\n",
       "      <td>38.372414</td>\n",
       "      <td>3.452874</td>\n",
       "      <td>28.832184</td>\n",
       "      <td>36.949425</td>\n",
       "    </tr>\n",
       "    <tr>\n",
       "      <th>std</th>\n",
       "      <td>1.164591</td>\n",
       "      <td>0.421583</td>\n",
       "      <td>1.121635</td>\n",
       "      <td>0.783349</td>\n",
       "      <td>537.927907</td>\n",
       "      <td>775.870436</td>\n",
       "      <td>1.564233</td>\n",
       "      <td>4.367781</td>\n",
       "      <td>14.321718</td>\n",
       "      <td>15582.415491</td>\n",
       "      <td>1.189750e+06</td>\n",
       "      <td>1.136455e+09</td>\n",
       "      <td>3529.272774</td>\n",
       "      <td>19.345374</td>\n",
       "      <td>1.212249</td>\n",
       "      <td>14.209488</td>\n",
       "      <td>21.107520</td>\n",
       "    </tr>\n",
       "    <tr>\n",
       "      <th>min</th>\n",
       "      <td>6.000000</td>\n",
       "      <td>9.000000</td>\n",
       "      <td>6.000000</td>\n",
       "      <td>12.000000</td>\n",
       "      <td>10001.000000</td>\n",
       "      <td>50.000000</td>\n",
       "      <td>1.000000</td>\n",
       "      <td>1.000000</td>\n",
       "      <td>1.000000</td>\n",
       "      <td>1.000000</td>\n",
       "      <td>1.000811e+06</td>\n",
       "      <td>1.000160e+09</td>\n",
       "      <td>10090.000000</td>\n",
       "      <td>1.000000</td>\n",
       "      <td>1.000000</td>\n",
       "      <td>1.000000</td>\n",
       "      <td>1.000000</td>\n",
       "    </tr>\n",
       "    <tr>\n",
       "      <th>25%</th>\n",
       "      <td>9.000000</td>\n",
       "      <td>12.000000</td>\n",
       "      <td>9.000000</td>\n",
       "      <td>12.000000</td>\n",
       "      <td>10301.500000</td>\n",
       "      <td>349.000000</td>\n",
       "      <td>1.000000</td>\n",
       "      <td>3.000000</td>\n",
       "      <td>10.000000</td>\n",
       "      <td>118.000000</td>\n",
       "      <td>2.000992e+06</td>\n",
       "      <td>2.023060e+09</td>\n",
       "      <td>11606.000000</td>\n",
       "      <td>22.000000</td>\n",
       "      <td>2.000000</td>\n",
       "      <td>17.000000</td>\n",
       "      <td>23.000000</td>\n",
       "    </tr>\n",
       "    <tr>\n",
       "      <th>50%</th>\n",
       "      <td>9.000000</td>\n",
       "      <td>12.000000</td>\n",
       "      <td>9.000000</td>\n",
       "      <td>12.000000</td>\n",
       "      <td>10472.000000</td>\n",
       "      <td>460.500000</td>\n",
       "      <td>1.000000</td>\n",
       "      <td>6.000000</td>\n",
       "      <td>18.000000</td>\n",
       "      <td>251.500000</td>\n",
       "      <td>2.116159e+06</td>\n",
       "      <td>2.053680e+09</td>\n",
       "      <td>13093.000000</td>\n",
       "      <td>39.000000</td>\n",
       "      <td>4.000000</td>\n",
       "      <td>32.000000</td>\n",
       "      <td>34.000000</td>\n",
       "    </tr>\n",
       "    <tr>\n",
       "      <th>75%</th>\n",
       "      <td>9.000000</td>\n",
       "      <td>12.000000</td>\n",
       "      <td>9.000000</td>\n",
       "      <td>12.000000</td>\n",
       "      <td>11217.000000</td>\n",
       "      <td>622.000000</td>\n",
       "      <td>2.000000</td>\n",
       "      <td>10.000000</td>\n",
       "      <td>34.000000</td>\n",
       "      <td>510.250000</td>\n",
       "      <td>3.330710e+06</td>\n",
       "      <td>3.068830e+09</td>\n",
       "      <td>16865.750000</td>\n",
       "      <td>53.500000</td>\n",
       "      <td>5.000000</td>\n",
       "      <td>40.000000</td>\n",
       "      <td>54.000000</td>\n",
       "    </tr>\n",
       "    <tr>\n",
       "      <th>max</th>\n",
       "      <td>9.000000</td>\n",
       "      <td>12.000000</td>\n",
       "      <td>9.000000</td>\n",
       "      <td>14.000000</td>\n",
       "      <td>11694.000000</td>\n",
       "      <td>5458.000000</td>\n",
       "      <td>10.000000</td>\n",
       "      <td>18.000000</td>\n",
       "      <td>51.000000</td>\n",
       "      <td>138501.000000</td>\n",
       "      <td>5.149609e+06</td>\n",
       "      <td>5.066130e+09</td>\n",
       "      <td>24669.000000</td>\n",
       "      <td>71.000000</td>\n",
       "      <td>5.000000</td>\n",
       "      <td>51.000000</td>\n",
       "      <td>77.000000</td>\n",
       "    </tr>\n",
       "  </tbody>\n",
       "</table>\n",
       "</div>"
      ],
      "text/plain": [
       "       grade_span_min  grade_span_max  expgrade_span_min  expgrade_span_max  \\\n",
       "count      432.000000      435.000000          31.000000          33.000000   \n",
       "mean         8.442130       11.894253           8.516129          12.363636   \n",
       "std          1.164591        0.421583           1.121635           0.783349   \n",
       "min          6.000000        9.000000           6.000000          12.000000   \n",
       "25%          9.000000       12.000000           9.000000          12.000000   \n",
       "50%          9.000000       12.000000           9.000000          12.000000   \n",
       "75%          9.000000       12.000000           9.000000          12.000000   \n",
       "max          9.000000       12.000000           9.000000          14.000000   \n",
       "\n",
       "           postcode  total_students  number_programs  Community Board  \\\n",
       "count    435.000000      426.000000       435.000000       432.000000   \n",
       "mean   10726.096552      703.842723         1.708046         6.787037   \n",
       "std      537.927907      775.870436         1.564233         4.367781   \n",
       "min    10001.000000       50.000000         1.000000         1.000000   \n",
       "25%    10301.500000      349.000000         1.000000         3.000000   \n",
       "50%    10472.000000      460.500000         1.000000         6.000000   \n",
       "75%    11217.000000      622.000000         2.000000        10.000000   \n",
       "max    11694.000000     5458.000000        10.000000        18.000000   \n",
       "\n",
       "       Council District   Census Tract           BIN           BBL  \\\n",
       "count        432.000000     432.000000  4.310000e+02  4.310000e+02   \n",
       "mean          21.856481    3988.340278  2.581724e+06  2.510921e+09   \n",
       "std           14.321718   15582.415491  1.189750e+06  1.136455e+09   \n",
       "min            1.000000       1.000000  1.000811e+06  1.000160e+09   \n",
       "25%           10.000000     118.000000  2.000992e+06  2.023060e+09   \n",
       "50%           18.000000     251.500000  2.116159e+06  2.053680e+09   \n",
       "75%           34.000000     510.250000  3.330710e+06  3.068830e+09   \n",
       "max           51.000000  138501.000000  5.149609e+06  5.066130e+09   \n",
       "\n",
       "          Zip Codes  Community Districts  Borough Boundaries  \\\n",
       "count    434.000000           435.000000          435.000000   \n",
       "mean   14232.228111            38.372414            3.452874   \n",
       "std     3529.272774            19.345374            1.212249   \n",
       "min    10090.000000             1.000000            1.000000   \n",
       "25%    11606.000000            22.000000            2.000000   \n",
       "50%    13093.000000            39.000000            4.000000   \n",
       "75%    16865.750000            53.500000            5.000000   \n",
       "max    24669.000000            71.000000            5.000000   \n",
       "\n",
       "       City Council Districts  Police Precincts  \n",
       "count              435.000000        435.000000  \n",
       "mean                28.832184         36.949425  \n",
       "std                 14.209488         21.107520  \n",
       "min                  1.000000          1.000000  \n",
       "25%                 17.000000         23.000000  \n",
       "50%                 32.000000         34.000000  \n",
       "75%                 40.000000         54.000000  \n",
       "max                 51.000000         77.000000  "
      ]
     },
     "execution_count": 7,
     "metadata": {},
     "output_type": "execute_result"
    }
   ],
   "source": [
    "## summary statistics for numerical columns\n",
    "df.describe()"
   ]
  },
  {
   "cell_type": "code",
   "execution_count": 8,
   "id": "10735072",
   "metadata": {},
   "outputs": [
    {
     "name": "stdout",
     "output_type": "stream",
     "text": [
      "Index(['dbn', 'school_name', 'borough', 'building_code', 'phone_number',\n",
      "       'fax_number', 'grade_span_min', 'grade_span_max', 'expgrade_span_min',\n",
      "       'expgrade_span_max', 'bus', 'subway', 'primary_address_line_1', 'city',\n",
      "       'state_code', 'postcode', 'website', 'total_students', 'campus_name',\n",
      "       'school_type', 'overview_paragraph', 'program_highlights',\n",
      "       'language_classes', 'advancedplacement_courses', 'online_ap_courses',\n",
      "       'online_language_courses', 'extracurricular_activities',\n",
      "       'psal_sports_boys', 'psal_sports_girls', 'psal_sports_coed',\n",
      "       'school_sports', 'partner_cbo', 'partner_hospital', 'partner_highered',\n",
      "       'partner_cultural', 'partner_nonprofit', 'partner_corporate',\n",
      "       'partner_financial', 'partner_other', 'addtl_info1', 'addtl_info2',\n",
      "       'start_time', 'end_time', 'se_services', 'ell_programs',\n",
      "       'school_accessibility_description', 'number_programs', 'priority01',\n",
      "       'priority02', 'priority03', 'priority04', 'priority05', 'priority06',\n",
      "       'priority07', 'priority08', 'priority09', 'priority10', 'location_1',\n",
      "       'community_board', 'council_district', 'census_tract', 'bin', 'bbl',\n",
      "       'nta', 'zip_codes', 'community_districts', 'borough_boundaries',\n",
      "       'city_council_districts', 'police_precincts'],\n",
      "      dtype='object')\n"
     ]
    }
   ],
   "source": [
    "##make lowercase\n",
    "##replace spaces with \"_\"\n",
    "##remove special characters\n",
    "\n",
    "df.columns = df.columns.str.lower()\n",
    "df.columns = df.columns.str.replace(\" \", \"_\")\n",
    "\n",
    "## confirm changes\n",
    "print (df.columns)"
   ]
  },
  {
   "cell_type": "markdown",
   "id": "4e54892b",
   "metadata": {},
   "source": [
    "# Filtering The Data"
   ]
  },
  {
   "cell_type": "code",
   "execution_count": 9,
   "id": "8a998072",
   "metadata": {},
   "outputs": [
    {
     "name": "stdout",
     "output_type": "stream",
     "text": [
      "       dbn                                        school_name   borough  \\\n",
      "1   21K559        Life Academy High School for Film and Music  Brooklyn   \n",
      "2   16K393     Frederick Douglass Academy IV Secondary School  Brooklyn   \n",
      "7   17K122  Pathways in Technology Early College High Scho...  Brooklyn   \n",
      "10  23K644                     Eagle Academy for Young Men II  Brooklyn   \n",
      "12  15K462                           Secondary School for Law  Brooklyn   \n",
      "\n",
      "   building_code  phone_number    fax_number  grade_span_min  grade_span_max  \\\n",
      "1           K400  718-333-7750  718-333-7775             9.0              12   \n",
      "2           K026  718-574-2820  718-574-2821             9.0              12   \n",
      "7           K625  718-221-1593  718-221-1781             9.0              12   \n",
      "10          K271  718-495-0863  718-732-2129             6.0              12   \n",
      "12          K460  718-832-4250  718-499-3947             9.0              12   \n",
      "\n",
      "    expgrade_span_min  expgrade_span_max  ... council_district census_tract  \\\n",
      "1                 NaN                NaN  ...             47.0        306.0   \n",
      "2                 NaN                NaN  ...             36.0        291.0   \n",
      "7                 9.0               14.0  ...             36.0        311.0   \n",
      "10                NaN                NaN  ...             41.0        301.0   \n",
      "12                NaN                NaN  ...             39.0        155.0   \n",
      "\n",
      "          bin           bbl  \\\n",
      "1   3186454.0  3.068830e+09   \n",
      "2   3393805.0  3.016160e+09   \n",
      "7   3030553.0  3.012160e+09   \n",
      "10  3042157.0  3.015500e+09   \n",
      "12  3025510.0  3.010820e+09   \n",
      "\n",
      "                                                  nta  zip_codes  \\\n",
      "1   Gravesend                                     ...    17616.0   \n",
      "2   Stuyvesant Heights                            ...    18181.0   \n",
      "7   Crown Heights North                           ...    17615.0   \n",
      "10  Ocean Hill                                    ...    13516.0   \n",
      "12  Park Slope-Gowanus                            ...    17617.0   \n",
      "\n",
      "   community_districts  borough_boundaries city_council_districts  \\\n",
      "1                   21                   2                     45   \n",
      "2                   69                   2                     49   \n",
      "7                   16                   2                     49   \n",
      "10                  55                   2                     17   \n",
      "12                  14                   2                     27   \n",
      "\n",
      "   police_precincts  \n",
      "1                35  \n",
      "2                52  \n",
      "7                49  \n",
      "10               46  \n",
      "12               50  \n",
      "\n",
      "[5 rows x 69 columns]\n"
     ]
    }
   ],
   "source": [
    "## Filter the dataset to include only schools located in Brooklyn\n",
    "df_brooklyn = df[df['borough'] == 'Brooklyn']\n",
    "##check the first few rows of the filtered dataframe\n",
    "print(df_brooklyn.head())"
   ]
  },
  {
   "cell_type": "markdown",
   "id": "07f8426d",
   "metadata": {},
   "source": [
    "# Q & A\n"
   ]
  },
  {
   "cell_type": "markdown",
   "id": "16f4226d",
   "metadata": {},
   "source": [
    "How many total schools are in Brooklyn?"
   ]
  },
  {
   "cell_type": "code",
   "execution_count": 10,
   "id": "64e493c3",
   "metadata": {},
   "outputs": [
    {
     "data": {
      "text/plain": [
       "121"
      ]
     },
     "execution_count": 10,
     "metadata": {},
     "output_type": "execute_result"
    }
   ],
   "source": [
    "## Number of schools in Brooklyn\n",
    "df_brooklyn['dbn'].nunique()"
   ]
  },
  {
   "cell_type": "markdown",
   "id": "9e912925",
   "metadata": {},
   "source": [
    "How many schools in Brooklyn offer Grade 9 entry? (here you need to use range to get the correct answer for example just stating min_grade entry >=9 will miss the schools that offer earlier entry)\n"
   ]
  },
  {
   "cell_type": "code",
   "execution_count": 11,
   "id": "d06c7912",
   "metadata": {},
   "outputs": [
    {
     "name": "stdout",
     "output_type": "stream",
     "text": [
      "Brooklyn schools offering Grade 9 entry: 121\n"
     ]
    }
   ],
   "source": [
    "grade_9_filter = (df_brooklyn[\"grade_span_min\"] <= 9) & (df_brooklyn[\"grade_span_max\"] >= 9)\n",
    "brooklyn_grade9_count = df_brooklyn.loc[grade_9_filter, \"dbn\"].nunique()\n",
    "print(\"Brooklyn schools offering Grade 9 entry:\", brooklyn_grade9_count)"
   ]
  },
  {
   "cell_type": "markdown",
   "id": "81796258",
   "metadata": {},
   "source": [
    "Count of schools per borough"
   ]
  },
  {
   "cell_type": "code",
   "execution_count": 12,
   "id": "d0f5804e",
   "metadata": {},
   "outputs": [
    {
     "data": {
      "application/vnd.microsoft.datawrangler.viewer.v0+json": {
       "columns": [
        {
         "name": "borough",
         "rawType": "object",
         "type": "string"
        },
        {
         "name": "dbn",
         "rawType": "int64",
         "type": "integer"
        }
       ],
       "ref": "66d7baaf-3c92-4e62-bccf-bc32d715b3ac",
       "rows": [
        [
         "Bronx",
         "118"
        ],
        [
         "Brooklyn",
         "121"
        ],
        [
         "Manhattan",
         "106"
        ],
        [
         "Queens",
         "80"
        ],
        [
         "Staten Island",
         "10"
        ]
       ],
       "shape": {
        "columns": 1,
        "rows": 5
       }
      },
      "text/plain": [
       "borough\n",
       "Bronx            118\n",
       "Brooklyn         121\n",
       "Manhattan        106\n",
       "Queens            80\n",
       "Staten Island     10\n",
       "Name: dbn, dtype: int64"
      ]
     },
     "execution_count": 12,
     "metadata": {},
     "output_type": "execute_result"
    }
   ],
   "source": [
    "df.groupby(\"borough\")[\"dbn\"].agg(\"nunique\")"
   ]
  },
  {
   "cell_type": "code",
   "execution_count": 13,
   "id": "a3b6ec6f",
   "metadata": {},
   "outputs": [
    {
     "data": {
      "image/png": "[encoded data removed]",
      "text/plain": [
       "<Figure size 800x500 with 1 Axes>"
      ]
     },
     "metadata": {},
     "output_type": "display_data"
    }
   ],
   "source": [
    "import matplotlib.pyplot as plt\n",
    "# Bar chart for number of schools per borough name\n",
    "school_counts = df.groupby(\"borough\")[\"dbn\"].nunique()\n",
    "school_counts.plot(kind='bar', figsize=(8,5), color='skyblue')\n",
    "plt.title('Number of Schools per Borough')\n",
    "plt.xlabel('Borough')\n",
    "plt.ylabel('Number of Schools')\n",
    "plt.xticks(rotation=45)\n",
    "plt.tight_layout()\n",
    "plt.show()"
   ]
  },
  {
   "cell_type": "markdown",
   "id": "7683b338",
   "metadata": {},
   "source": [
    "Average number of students per borough"
   ]
  },
  {
   "cell_type": "code",
   "execution_count": 14,
   "id": "1d96375d",
   "metadata": {},
   "outputs": [
    {
     "data": {
      "application/vnd.microsoft.datawrangler.viewer.v0+json": {
       "columns": [
        {
         "name": "borough",
         "rawType": "object",
         "type": "string"
        },
        {
         "name": "total_students",
         "rawType": "float64",
         "type": "float"
        }
       ],
       "ref": "0a493ff2-3854-44e0-b2ed-58c5f9490b61",
       "rows": [
        [
         "Bronx",
         "490.40677966101697"
        ],
        [
         "Brooklyn",
         "699.1344537815127"
        ],
        [
         "Manhattan",
         "589.8252427184466"
        ],
        [
         "Queens",
         "1046.6447368421052"
        ],
        [
         "Staten Island",
         "1847.5"
        ]
       ],
       "shape": {
        "columns": 1,
        "rows": 5
       }
      },
      "text/plain": [
       "borough\n",
       "Bronx             490.406780\n",
       "Brooklyn          699.134454\n",
       "Manhattan         589.825243\n",
       "Queens           1046.644737\n",
       "Staten Island    1847.500000\n",
       "Name: total_students, dtype: float64"
      ]
     },
     "execution_count": 14,
     "metadata": {},
     "output_type": "execute_result"
    }
   ],
   "source": [
    "df.groupby(\"borough\")[\"total_students\"].mean()"
   ]
  },
  {
   "cell_type": "markdown",
   "id": "2210808c",
   "metadata": {},
   "source": [
    "Summary of grade_span_max grouped by borough"
   ]
  },
  {
   "cell_type": "code",
   "execution_count": 15,
   "id": "36ecefbf",
   "metadata": {},
   "outputs": [
    {
     "data": {
      "application/vnd.microsoft.datawrangler.viewer.v0+json": {
       "columns": [
        {
         "name": "index",
         "rawType": "object",
         "type": "string"
        },
        {
         "name": "grade_span_max",
         "rawType": "float64",
         "type": "float"
        }
       ],
       "ref": "872312d9-1a52-4f92-962e-f4494660c157",
       "rows": [
        [
         "count",
         "435.0"
        ],
        [
         "mean",
         "11.894252873563218"
        ],
        [
         "std",
         "0.4215825795635906"
        ],
        [
         "min",
         "9.0"
        ],
        [
         "25%",
         "12.0"
        ],
        [
         "50%",
         "12.0"
        ],
        [
         "75%",
         "12.0"
        ],
        [
         "max",
         "12.0"
        ]
       ],
       "shape": {
        "columns": 1,
        "rows": 8
       }
      },
      "text/plain": [
       "count    435.000000\n",
       "mean      11.894253\n",
       "std        0.421583\n",
       "min        9.000000\n",
       "25%       12.000000\n",
       "50%       12.000000\n",
       "75%       12.000000\n",
       "max       12.000000\n",
       "Name: grade_span_max, dtype: float64"
      ]
     },
     "execution_count": 15,
     "metadata": {},
     "output_type": "execute_result"
    }
   ],
   "source": [
    "# Summary of grade_span_max\n",
    "df['grade_span_max'].describe()\n"
   ]
  },
  {
   "cell_type": "markdown",
   "id": "202b0016",
   "metadata": {},
   "source": [
    "# Findings"
   ]
  },
  {
   "cell_type": "markdown",
   "id": "cecd1370",
   "metadata": {},
   "source": [
    "- Brooklyn has the highest number of incidents, however, it also has the highest number of schools.\n",
    "- Most of the classes offered in are for 12th grade."
   ]
  }
 ],
 "metadata": {
  "kernelspec": {
   "display_name": "base",
   "language": "python",
   "name": "python3"
  },
  "language_info": {
   "codemirror_mode": {
    "name": "ipython",
    "version": 3
   },
   "file_extension": ".py",
   "mimetype": "text/x-python",
   "name": "python",
   "nbconvert_exporter": "python",
   "pygments_lexer": "ipython3",
   "version": "3.13.5"
  }
 },
 "nbformat": 4,
 "nbformat_minor": 5
}
