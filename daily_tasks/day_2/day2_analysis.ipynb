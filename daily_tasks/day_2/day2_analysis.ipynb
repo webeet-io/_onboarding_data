{
 "cells": [
  {
   "cell_type": "markdown",
   "id": "9ec7fb6a",
   "metadata": {},
   "source": [
    "# Day 2 - NYC School directory\n",
    "\n",
    "#### ✅ Instructions\n",
    "1. Download the dataset from the day_2_datasets folder.\n",
    "\n",
    "2. Open a new Jupyter Notebook and:\n",
    "\n",
    "    - Load the dataset using pandas\n",
    "    - Clean the column names (make lowercase, replace spaces with _, remove special characters)\n",
    "\n",
    "3. Filter the dataset to include only schools located in **Brooklyn**\n",
    "\n",
    "4. Answer the following:\n",
    "\n",
    "    - How many total schools are in Brooklyn? (use the method that counts only unique values. Also there is a column that has a unique identifier for schools.)\n",
    "    - How many schools in Brooklyn offer Grade 9 entry? (here you need to use range to get the correct answer for example just stating min_grade entry >=9 will miss the schools that offer earlier entry)\n",
    "\n",
    "5. Group and summarize:\n",
    "\n",
    "    - Count of schools per **borough** (again unique schools)\n",
    "    - Average number of students per **borough**\n",
    "    - Summary of grade_span_max grouped by **borough** (use the method that provides you with basic statistics about that column)\n",
    "\n",
    "6. Create visualizations:\n",
    "\n",
    "    - Bar chart: Number of schools per **borough**\n",
    "\n",
    "7. **Write 2–3 key insights** based on your findings at the end of the notebook"
   ]
  },
  {
   "cell_type": "markdown",
   "id": "ece8d7e7",
   "metadata": {},
   "source": [
    "### Imports"
   ]
  },
  {
   "cell_type": "code",
   "execution_count": 2,
   "id": "ce0b95da",
   "metadata": {},
   "outputs": [],
   "source": [
    "import pandas as pd\n",
    "import os\n",
    "import matplotlib.pyplot as plt"
   ]
  },
  {
   "cell_type": "markdown",
   "id": "ce4d322b",
   "metadata": {},
   "source": [
    "### 2.1. Load Dataset "
   ]
  },
  {
   "cell_type": "code",
   "execution_count": 3,
   "id": "1b7e634e",
   "metadata": {},
   "outputs": [],
   "source": [
    "os.chdir(os.path.join(os.path.expanduser(\"~\"), \"Downloads\"))"
   ]
  },
  {
   "cell_type": "code",
   "execution_count": 5,
   "id": "0d265ade",
   "metadata": {},
   "outputs": [
    {
     "data": {
      "application/vnd.microsoft.datawrangler.viewer.v0+json": {
       "columns": [
        {
         "name": "index",
         "rawType": "int64",
         "type": "integer"
        },
        {
         "name": "dbn",
         "rawType": "object",
         "type": "string"
        },
        {
         "name": "school_name",
         "rawType": "object",
         "type": "string"
        },
        {
         "name": "borough",
         "rawType": "object",
         "type": "string"
        },
        {
         "name": "building_code",
         "rawType": "object",
         "type": "string"
        },
        {
         "name": "phone_number",
         "rawType": "object",
         "type": "string"
        },
        {
         "name": "fax_number",
         "rawType": "object",
         "type": "string"
        },
        {
         "name": "grade_span_min",
         "rawType": "float64",
         "type": "float"
        },
        {
         "name": "grade_span_max",
         "rawType": "int64",
         "type": "integer"
        },
        {
         "name": "expgrade_span_min",
         "rawType": "float64",
         "type": "float"
        },
        {
         "name": "expgrade_span_max",
         "rawType": "float64",
         "type": "float"
        },
        {
         "name": "bus",
         "rawType": "object",
         "type": "string"
        },
        {
         "name": "subway",
         "rawType": "object",
         "type": "unknown"
        },
        {
         "name": "primary_address_line_1",
         "rawType": "object",
         "type": "string"
        },
        {
         "name": "city",
         "rawType": "object",
         "type": "string"
        },
        {
         "name": "state_code",
         "rawType": "object",
         "type": "string"
        },
        {
         "name": "postcode",
         "rawType": "int64",
         "type": "integer"
        },
        {
         "name": "website",
         "rawType": "object",
         "type": "string"
        },
        {
         "name": "total_students",
         "rawType": "float64",
         "type": "float"
        },
        {
         "name": "campus_name",
         "rawType": "object",
         "type": "unknown"
        },
        {
         "name": "school_type",
         "rawType": "object",
         "type": "unknown"
        },
        {
         "name": "overview_paragraph",
         "rawType": "object",
         "type": "string"
        },
        {
         "name": "program_highlights",
         "rawType": "object",
         "type": "string"
        },
        {
         "name": "language_classes",
         "rawType": "object",
         "type": "string"
        },
        {
         "name": "advancedplacement_courses",
         "rawType": "object",
         "type": "unknown"
        },
        {
         "name": "online_ap_courses",
         "rawType": "object",
         "type": "unknown"
        },
        {
         "name": "online_language_courses",
         "rawType": "object",
         "type": "unknown"
        },
        {
         "name": "extracurricular_activities",
         "rawType": "object",
         "type": "string"
        },
        {
         "name": "psal_sports_boys",
         "rawType": "object",
         "type": "unknown"
        },
        {
         "name": "psal_sports_girls",
         "rawType": "object",
         "type": "unknown"
        },
        {
         "name": "psal_sports_coed",
         "rawType": "object",
         "type": "unknown"
        },
        {
         "name": "school_sports",
         "rawType": "object",
         "type": "unknown"
        },
        {
         "name": "partner_cbo",
         "rawType": "object",
         "type": "unknown"
        },
        {
         "name": "partner_hospital",
         "rawType": "object",
         "type": "unknown"
        },
        {
         "name": "partner_highered",
         "rawType": "object",
         "type": "string"
        },
        {
         "name": "partner_cultural",
         "rawType": "object",
         "type": "unknown"
        },
        {
         "name": "partner_nonprofit",
         "rawType": "object",
         "type": "string"
        },
        {
         "name": "partner_corporate",
         "rawType": "object",
         "type": "unknown"
        },
        {
         "name": "partner_financial",
         "rawType": "object",
         "type": "unknown"
        },
        {
         "name": "partner_other",
         "rawType": "object",
         "type": "unknown"
        },
        {
         "name": "addtl_info1",
         "rawType": "object",
         "type": "string"
        },
        {
         "name": "addtl_info2",
         "rawType": "object",
         "type": "unknown"
        },
        {
         "name": "start_time",
         "rawType": "object",
         "type": "string"
        },
        {
         "name": "end_time",
         "rawType": "object",
         "type": "string"
        },
        {
         "name": "se_services",
         "rawType": "object",
         "type": "string"
        },
        {
         "name": "ell_programs",
         "rawType": "object",
         "type": "string"
        },
        {
         "name": "school_accessibility_description",
         "rawType": "object",
         "type": "string"
        },
        {
         "name": "number_programs",
         "rawType": "int64",
         "type": "integer"
        },
        {
         "name": "priority01",
         "rawType": "object",
         "type": "string"
        },
        {
         "name": "priority02",
         "rawType": "object",
         "type": "string"
        },
        {
         "name": "priority03",
         "rawType": "object",
         "type": "unknown"
        },
        {
         "name": "priority04",
         "rawType": "object",
         "type": "unknown"
        },
        {
         "name": "priority05",
         "rawType": "object",
         "type": "unknown"
        },
        {
         "name": "priority06",
         "rawType": "object",
         "type": "unknown"
        },
        {
         "name": "priority07",
         "rawType": "object",
         "type": "unknown"
        },
        {
         "name": "priority08",
         "rawType": "object",
         "type": "unknown"
        },
        {
         "name": "priority09",
         "rawType": "object",
         "type": "unknown"
        },
        {
         "name": "priority10",
         "rawType": "object",
         "type": "unknown"
        },
        {
         "name": "Location 1",
         "rawType": "object",
         "type": "string"
        },
        {
         "name": "Community Board",
         "rawType": "float64",
         "type": "float"
        },
        {
         "name": "Council District",
         "rawType": "float64",
         "type": "float"
        },
        {
         "name": "Census Tract",
         "rawType": "float64",
         "type": "float"
        },
        {
         "name": "BIN",
         "rawType": "float64",
         "type": "float"
        },
        {
         "name": "BBL",
         "rawType": "float64",
         "type": "float"
        },
        {
         "name": "NTA",
         "rawType": "object",
         "type": "string"
        },
        {
         "name": "Zip Codes",
         "rawType": "float64",
         "type": "float"
        },
        {
         "name": "Community Districts",
         "rawType": "int64",
         "type": "integer"
        },
        {
         "name": "Borough Boundaries",
         "rawType": "int64",
         "type": "integer"
        },
        {
         "name": "City Council Districts",
         "rawType": "int64",
         "type": "integer"
        },
        {
         "name": "Police Precincts",
         "rawType": "int64",
         "type": "integer"
        }
       ],
       "ref": "a4ee51f3-1a4e-4415-a87b-3ec70dfb445e",
       "rows": [
        [
         "0",
         "27Q260",
         "Frederick Douglass Academy VI High School",
         "Queens",
         "Q465",
         "718-471-2154",
         "718-471-2890",
         "9.0",
         "12",
         null,
         null,
         "Q113, Q22",
         "A to Beach 25th St-Wavecrest",
         "8-21 Bay 25 Street",
         "Far Rockaway",
         "NY",
         "11691",
         "http://schools.nyc.gov/schoolportals/27/Q260",
         "412.0",
         "Far Rockaway Educational Campus",
         null,
         "Frederick Douglass Academy (FDA) VI High School is a high school built on Dr. Lorraine Monroe’s vision of academic and personal excellence for all students. The emphasis on college preparation is supported by a challenging academic program and cultural enrichment. A set of core rules visible at every Frederick Douglass Academy signals the seriousness of purpose for the school, its students and teachers. All students must adhere to a code of student conduct, the Scholar’s Creed and a strict uniform code. Students are also required to participate in extensive after-school academic enrichment programs.",
         "Advisory, Graphic Arts Design, Teaching Internship; College tours: citywide for freshmen, statewide for sophomores and out-of-state for juniors; National and international educational trips",
         "Spanish",
         "Calculus AB, English Language and Composition, English Literature and Composition, United States History",
         "Biology, Physics B",
         "French, Spanish",
         "After-school Program, Book, Writing, Homework Help, Honor Society, Journalism, Lunch & Learn, PSAT and SAT Prep, Saturday Program, Step Team, Student Government, Summer Institute, Video, Tech, Yearbook, Computer Graphics, Robotics, Cheerleading",
         "Basketball, Cross Country, Indoor Track, Outdoor Track, Soccer, Softball, Swimming, Tennis, Volleyball",
         "Basketball, Cross Country, Indoor Track, Outdoor Track, Soccer, Softball, Swimming, Tennis, Volleyball",
         null,
         "Step Team, Modern Dance, Hip Hop Dance",
         null,
         "Jamaica Hospital Medical Center, Peninsula Hospital Center",
         "York College, Brooklyn College, St. John's College",
         null,
         "Queens District Attorney, Sports and Arts Foundation, CMS",
         "Replications, Inc.",
         "Citibank",
         "New York Road Runners Foundation (NYRRF)",
         "Uniform Required: plain white collared shirt, black pants/skirt, FDA tie/FDA scarf, black shoes",
         "Extended Day Program, Student Summer Orientation, Summer Internship Program offered, Weekend Program offered",
         "7:45 AM",
         "2:05 PM",
         "This school will provide students with disabilities the supports and services indicated on their IEPs.",
         "ESL",
         "Not Functionally Accessible",
         "1",
         "Priority to Queens students or residents who attend an information session",
         "Then to New York City residents who attend an information session",
         "Then to Queens students or residents",
         "Then to New York City residents",
         null,
         null,
         null,
         null,
         null,
         null,
         "{'latitude': '40.601989336', 'longitude': '-73.762834323', 'human_address': '{\"address\": \"8 21 Bay 25 Street\", \"city\": \"Far Rockaway\", \"state\": \"NY\", \"zip\": \"11691\"}'}",
         "14.0",
         "31.0",
         "100802.0",
         "4300730.0",
         "4157360001.0",
         "Far Rockaway-Bayswater                                                     ",
         "20529.0",
         "51",
         "3",
         "47",
         "59"
        ],
        [
         "1",
         "21K559",
         "Life Academy High School for Film and Music",
         "Brooklyn",
         "K400",
         "718-333-7750",
         "718-333-7775",
         "9.0",
         "12",
         null,
         null,
         "B1, B3, B4, B6, B64, B82",
         "D to 25th Ave ; N to Ave U ; N to Gravesend - 86th St",
         "2630 Benson Avenue",
         "Brooklyn",
         "NY",
         "11214",
         "http://schools.nyc.gov/schoolportals/21/K559",
         "260.0",
         "Lafayette Educational Campus",
         null,
         "At Life Academy High School for Film and Music, we infuse the study of film, the art of filmmaking, audio production and new media into engaging, student-centered and project-based courses. We focus on building communication skills in writing, presentation and creativity. Our Advisory program helps each student develop personal relationships and positive citizenship. We seek students who want to learn in an exciting atmosphere of excellence and creative collaboration.",
         "College Now, iLEARN courses, Art and Film Production courses including film, set design, audio production, cinematography, animation, storyboarding art",
         "Spanish",
         null,
         "Biology, English Literature and Composition, European History, United States History, World History",
         null,
         "Film, Music, Talent Show, Holiday Concert, Student Council, After school tutoring in content areas, iLEARN courses, and other programs of student interest based on grant funding.",
         "Basketball, Bowling, Indoor Track, Soccer, Softball, Volleyball",
         "Basketball, Bowling, Indoor Track, Soccer, Softball, Volleyball",
         "Cricket",
         null,
         "Coney Island Generation Gap",
         null,
         "City Tech, Kingsborough Early College Secondary School, City University of New Jersey",
         "Museum of the Moving Image, New York Public Library",
         "Institute for Student Achievement",
         "Film Life, Inc., SONY Wonder Tech",
         null,
         null,
         "Our school requires completion of a Common Core Learning Standards Skills Portfolio for Assessment in every class",
         null,
         "8:15 AM",
         "3:00 PM",
         "This school will provide students with disabilities the supports and services indicated on their IEPs.",
         "ESL",
         "Functionally Accessible",
         "1",
         "Priority to New York City residents who attend an information session",
         "Then to New York City residents",
         null,
         null,
         null,
         null,
         null,
         null,
         null,
         null,
         "{'latitude': '40.593593811', 'longitude': '-73.984729232', 'human_address': '{\"address\": \"2630 Benson Avenue\", \"city\": \"Brooklyn\", \"state\": \"NY\", \"zip\": \"11214\"}'}",
         "13.0",
         "47.0",
         "306.0",
         "3186454.0",
         "3068830001.0",
         "Gravesend                                                                  ",
         "17616.0",
         "21",
         "2",
         "45",
         "35"
        ],
        [
         "2",
         "16K393",
         "Frederick Douglass Academy IV Secondary School",
         "Brooklyn",
         "K026",
         "718-574-2820",
         "718-574-2821",
         "9.0",
         "12",
         null,
         null,
         "B15, B38, B46, B47, B52, B54, Q24",
         "J to Kosciusko St ; M, Z to Myrtle Ave",
         "1014 Lafayette Avenue",
         "Brooklyn",
         "NY",
         "11221",
         "http://schools.nyc.gov/schoolportals/16/K393",
         "155.0",
         null,
         null,
         "The Frederick Douglass Academy IV (FDA IV) Secondary School is a place of scholarship. Our students are considered scholars. We create an atmosphere of order, civility, maturity and seriousness of purpose. A set of core rules referred to as the ‘twelve non-negotiables’ establish and maintain this environment. Scholars at the Frederick Douglas Academy IV Secondary School are instilled with a Scholar’s Creed, adapted from the Morehouse College Students’ Creed, that reinforces the school’s cohesive culture, underscores its high expectations and builds the scholars’ sense of pride in their school and themselves.",
         "College Now with Medgar Evers College, Fresh Prep Core, Science, Technology, Engineering & Mathematics (STEM) Robotics with New York City College of Technology, Dance4Peace",
         "French, Spanish",
         "English Language and Composition, United States History",
         "French Language and Culture",
         null,
         "After-school and Saturday Programs, Art Studio Group, Book, Cheerleading Team, Chess Team, Dance, Dance Ensemble, Homework Help, Lunch and Learn, Peer Mediation, Music, PSAT/SAT Prep, Scholars Government Association (SGA), Step Team, Summer Institute, Achieving Change in our Neighborhood (Teen Action), Violin, String Instruments, CHAMPS, School Leadership Team, Financial Literacy, Yoga, Anti-Bullying, Violence Prevention, Yearbook",
         null,
         null,
         null,
         "Basketball Team",
         "Achieving Change in our Neighborhood (Teen ACTION) St.Nicks Alliance, New York City College of Technology – STEM Robotics, Fresh Prep and New York Hall of Science",
         null,
         "Medgar Evers College",
         "Noel Pointer School of Music",
         "Hip-Hop 4 Life, Urban Arts, and St. Nicks Alliance",
         null,
         null,
         null,
         "Dress Code Required: solid white shirt/blouse, navy blue blazer, gray pants/skirt, navy blue tie/scarf, black dress shoes, Participation in our 2-day FDA IV Prep Institute (Orientation) is required for incoming students, Extended Day Program",
         "Student Summer Orientation, Weekend Program offered",
         "8:00 AM",
         "2:20 PM",
         "This school will provide students with disabilities the supports and services indicated on their IEPs.",
         "ESL",
         "Not Functionally Accessible",
         "1",
         "Priority to continuing 8th graders",
         "Then to Brooklyn students or residents who attend an information session",
         "Then to New York City residents who attend an information session",
         "Then to Brooklyn students or residents",
         "Then to New York City residents",
         null,
         null,
         null,
         null,
         null,
         "{'latitude': '40.692133704', 'longitude': '-73.931503172', 'human_address': '{\"address\": \"1014 Lafayette Avenue\", \"city\": \"Brooklyn\", \"state\": \"NY\", \"zip\": \"11221\"}'}",
         "3.0",
         "36.0",
         "291.0",
         "3393805.0",
         "3016160001.0",
         "Stuyvesant Heights                                                         ",
         "18181.0",
         "69",
         "2",
         "49",
         "52"
        ],
        [
         "3",
         "08X305",
         "Pablo Neruda Academy",
         "Bronx",
         "X450",
         "718-824-1682",
         "718-824-1663",
         "9.0",
         "12",
         null,
         null,
         "Bx22, Bx27, Bx36, Bx39, Bx5",
         null,
         "1980 Lafayette Avenue",
         "Bronx",
         "NY",
         "10473",
         "www.pablonerudaacademy.org",
         "335.0",
         "Adlai E. Stevenson Educational Campus",
         null,
         "Our mission is to engage, inspire, and educate our students so that they develop skills to succeed in college and beyond. Our students work in small groups, guided by skilled and caring teachers, to solve challenging problems. Each student is well-known by staff members, and is assigned an advisor who works closely with them each week to monitor their progress. We celebrate successes and students are recognized for their accomplishments.",
         "Advanced Placement courses, Electives courses including: Art & Design, Criminal Justice, Entrepreneurship, Careers & Internships, and Advanced Art; Student Learning Communities, Internship Opportunities, Individualized Student Programming, Credit-bearing Online Courses (iLearn) and After-school Enrichment Classes; College Now & JumpStart (Credit-bearing College Courses)",
         "Spanish",
         "Art History, English Language and Composition, English Literature and Composition, United States Government and Politics",
         null,
         "Spanish",
         "Youth Court, Student Government, Youth Service, Youth Service Leaders, Art, Graffiti Mural, Yearbook, Homework Help & Tutoring Services, Regents Prep, Saturday Academy, Senior Committee, Video Game, Yoga, Dance, Digital Media, Book, Chess, Soccer, Softball, Basketball Intramurals, National Honor Society",
         "Basketball, Outdoor Track, Softball, Tennis, Volleyball",
         "Basketball, Outdoor Track, Softball, Tennis, Volleyball",
         null,
         "Baseball, Basketball, Flag Football, Soccer, Softball, Volleyball",
         null,
         "Soundview Health Center, Bronx Lebanon Hospital Center, Montefiore Medical Center",
         "Hostos Community College, Monroe College, Lehman College",
         "Chilean Consulate, Materials for the Arts",
         "Network for Teaching Entrepreneurship (NFTE), BISCEP (The Leadership Program), New York Cares, Institute for Student Achievement (ISA), PENCIL",
         null,
         null,
         "iLearnNYC",
         "All students are individually programmed (based on academic needs), Incoming 9th grade students attend our Summer Orientation Session, All students are assigned to a small Student Learning Community that meets twice a week, College preparation begins in 9th grade and continues through 12th grade; this preparation includes College Trips (in-state, out-of-state, trade schools), College Fairs, College Workshops",
         "Extended Day Program",
         "8:00 AM",
         "3:50 PM",
         "This school will provide students with disabilities the supports and services indicated on their IEPs.",
         "ESL",
         "Functionally Accessible",
         "1",
         "Priority to Bronx students or residents who attend an information session",
         "Then to New York City residents who attend an information session",
         "Then to Bronx students or residents",
         "Then to New York City residents",
         null,
         null,
         null,
         null,
         null,
         null,
         "{'latitude': '40.822303765', 'longitude': '-73.85596139', 'human_address': '{\"address\": \"1980 Lafayette Avenue\", \"city\": \"Bronx\", \"state\": \"NY\", \"zip\": \"10473\"}'}",
         "9.0",
         "18.0",
         "16.0",
         "2022205.0",
         "2036040039.0",
         "Soundview-Castle Hill-Clason Point-Harding Park                            ",
         "11611.0",
         "58",
         "5",
         "31",
         "26"
        ],
        [
         "4",
         "03M485",
         "Fiorello H. LaGuardia High School of Music & Art and Performing Arts",
         "Manhattan",
         "M485",
         "212-496-0700",
         "212-724-5748",
         "9.0",
         "12",
         null,
         null,
         "M10, M104, M11, M20, M31, M5, M57, M66, M7, M72",
         "1 to 66th St - Lincoln Center ; 2, 3 to 72nd St ; A, B, C, D to 59th St-Columbus Circle",
         "100 Amsterdam Avenue",
         "New York",
         "NY",
         "10023",
         "www.laguardiahs.org",
         "2730.0",
         null,
         "Specialized School",
         "We enjoy an international reputation as the first and foremost high school dedicated to nurturing students gifted in the arts. Our mission is to provide an opportunity for students to pursue both a rigorous conservatory-style training and a challenging academic program. Our building features world-class facilities including a concert hall; art, dance, music, recording and theater studios, science and computer labs, and an art gallery. Almost all of our graduates continue their studies, gaining admission to highly selective schools. Our graduates have distinguished themselves in virtually every field, including the arts and sciences, medicine, law, business, education and public service.",
         "Students have a daily program that includes both a multi-period conservatory studio block and a full college preparatory academic course load. The studio majors are: Dance, Drama, Fine Arts, Instrumental Music, Technical Theater and Vocal Music. Each studio has a four-year sequence of courses and opportunities for students to participate in performances and exhibitions. Students completing the applicable NYC Studio Comprehensive exam receive a special endorsement on their diploma. Honors courses are offered in all academic areas starting in the freshman year, leading to a full complement of Advanced Placement courses.",
         "French, Italian, Japanese, Spanish",
         "Art History, Biology, Calculus AB, Calculus BC, Chemistry, Comparative Government and Politics, English Language and Composition, English Literature and Composition, Environmental Science, European History, French Language and Culture, Italian Language and Culture, Japanese Language and Culture, Music Theory, Physics B, Psychology, Spanish Language and Culture, Statistics, Studio Art: 2-D Design, Studio Art: 3-D Design, Studio Art: Drawing, United States Government and Politics, United States History, World History",
         null,
         "Spanish",
         "Amnesty International, Anime, Annual Musical, Arista, Art Exhibits, ASPIRA, Black Student Union, Chinese Student Association, Claymazing, Comic Book, Cult Classics, Dance Programs, DaVinci Scholars Program, Debate Team, Disney VoluntEars, Drama Festivals, Environmental, Fashion, Film, Future Voters of America, Gay/Straight Alliance, Girls Learn International, Habitat for Humanity, Harry Potter, Independent Film, Jewish Union, Literary Magazine, Math Team, Mock Trial, Moot Court, Murals, National Honor Society, National Language Honors Society, Newspaper, Orchestral and Vocal Concerts, Random Acts of Kindness, Red Cross, Relay For Life, School Leadership Team (SLT), Science Outreach League, Shamisen, Social Action, Splashes of Hope, Student Government Organization, Ukulele For Good, Yearbook",
         "Basketball, Bowling, Cross Country, Fencing, Gymnastics, Handball, Indoor Track, Outdoor Track, Soccer, Softball, Swimming, Volleyball",
         "Basketball, Bowling, Cross Country, Fencing, Gymnastics, Handball, Indoor Track, Outdoor Track, Soccer, Softball, Swimming, Volleyball",
         null,
         null,
         "Lincoln Center for the Performing Arts",
         "Mount Sinai Medical Center",
         "The Cooper Union for the Advancement of Science and Art, Skidmore College, Sophie Davis School of Biomedical Education, New York University School of Medicine",
         "Lincoln Center for the Performing Arts, American Ballet Theater, Carnegie Hall, New York Philharmonic, Drama Desk, Metropolitan Opera, Interschool Orchestras of New York, New York Youth Symphony",
         "Junior Achievement, Red Cross, United Nations Association, American Cancer Society",
         "Sony Music, Warner Music Group, Capital Cities ABC, The Walt Disney Company",
         null,
         null,
         "Chancellor’s Arts Endorsed Diploma",
         null,
         "8:00 AM",
         "4:00 PM",
         "This school will provide students with disabilities the supports and services indicated on their IEPs.",
         "ESL",
         "Functionally Accessible",
         "6",
         "Open to New York City residents",
         "Admission is based on the outcome of a competitive audition and review of the student’s record",
         "Students must audition for each program (studio) to which they are applying",
         "Students must be residents of New York City at the time of audition",
         null,
         null,
         null,
         null,
         null,
         null,
         "{'latitude': '40.773670507', 'longitude': '-73.985268558', 'human_address': '{\"address\": \"100 Amsterdam Avenue\", \"city\": \"New York\", \"state\": \"NY\", \"zip\": \"10023\"}'}",
         "7.0",
         "6.0",
         "151.0",
         "1030341.0",
         "1011560030.0",
         "Lincoln Square                                                             ",
         "12420.0",
         "20",
         "4",
         "19",
         "12"
        ]
       ],
       "shape": {
        "columns": 69,
        "rows": 5
       }
      },
      "text/html": [
       "<div>\n",
       "<style scoped>\n",
       "    .dataframe tbody tr th:only-of-type {\n",
       "        vertical-align: middle;\n",
       "    }\n",
       "\n",
       "    .dataframe tbody tr th {\n",
       "        vertical-align: top;\n",
       "    }\n",
       "\n",
       "    .dataframe thead th {\n",
       "        text-align: right;\n",
       "    }\n",
       "</style>\n",
       "<table border=\"1\" class=\"dataframe\">\n",
       "  <thead>\n",
       "    <tr style=\"text-align: right;\">\n",
       "      <th></th>\n",
       "      <th>dbn</th>\n",
       "      <th>school_name</th>\n",
       "      <th>borough</th>\n",
       "      <th>building_code</th>\n",
       "      <th>phone_number</th>\n",
       "      <th>fax_number</th>\n",
       "      <th>grade_span_min</th>\n",
       "      <th>grade_span_max</th>\n",
       "      <th>expgrade_span_min</th>\n",
       "      <th>expgrade_span_max</th>\n",
       "      <th>...</th>\n",
       "      <th>Council District</th>\n",
       "      <th>Census Tract</th>\n",
       "      <th>BIN</th>\n",
       "      <th>BBL</th>\n",
       "      <th>NTA</th>\n",
       "      <th>Zip Codes</th>\n",
       "      <th>Community Districts</th>\n",
       "      <th>Borough Boundaries</th>\n",
       "      <th>City Council Districts</th>\n",
       "      <th>Police Precincts</th>\n",
       "    </tr>\n",
       "  </thead>\n",
       "  <tbody>\n",
       "    <tr>\n",
       "      <th>0</th>\n",
       "      <td>27Q260</td>\n",
       "      <td>Frederick Douglass Academy VI High School</td>\n",
       "      <td>Queens</td>\n",
       "      <td>Q465</td>\n",
       "      <td>718-471-2154</td>\n",
       "      <td>718-471-2890</td>\n",
       "      <td>9.0</td>\n",
       "      <td>12</td>\n",
       "      <td>NaN</td>\n",
       "      <td>NaN</td>\n",
       "      <td>...</td>\n",
       "      <td>31.0</td>\n",
       "      <td>100802.0</td>\n",
       "      <td>4300730.0</td>\n",
       "      <td>4.157360e+09</td>\n",
       "      <td>Far Rockaway-Bayswater                        ...</td>\n",
       "      <td>20529.0</td>\n",
       "      <td>51</td>\n",
       "      <td>3</td>\n",
       "      <td>47</td>\n",
       "      <td>59</td>\n",
       "    </tr>\n",
       "    <tr>\n",
       "      <th>1</th>\n",
       "      <td>21K559</td>\n",
       "      <td>Life Academy High School for Film and Music</td>\n",
       "      <td>Brooklyn</td>\n",
       "      <td>K400</td>\n",
       "      <td>718-333-7750</td>\n",
       "      <td>718-333-7775</td>\n",
       "      <td>9.0</td>\n",
       "      <td>12</td>\n",
       "      <td>NaN</td>\n",
       "      <td>NaN</td>\n",
       "      <td>...</td>\n",
       "      <td>47.0</td>\n",
       "      <td>306.0</td>\n",
       "      <td>3186454.0</td>\n",
       "      <td>3.068830e+09</td>\n",
       "      <td>Gravesend                                     ...</td>\n",
       "      <td>17616.0</td>\n",
       "      <td>21</td>\n",
       "      <td>2</td>\n",
       "      <td>45</td>\n",
       "      <td>35</td>\n",
       "    </tr>\n",
       "    <tr>\n",
       "      <th>2</th>\n",
       "      <td>16K393</td>\n",
       "      <td>Frederick Douglass Academy IV Secondary School</td>\n",
       "      <td>Brooklyn</td>\n",
       "      <td>K026</td>\n",
       "      <td>718-574-2820</td>\n",
       "      <td>718-574-2821</td>\n",
       "      <td>9.0</td>\n",
       "      <td>12</td>\n",
       "      <td>NaN</td>\n",
       "      <td>NaN</td>\n",
       "      <td>...</td>\n",
       "      <td>36.0</td>\n",
       "      <td>291.0</td>\n",
       "      <td>3393805.0</td>\n",
       "      <td>3.016160e+09</td>\n",
       "      <td>Stuyvesant Heights                            ...</td>\n",
       "      <td>18181.0</td>\n",
       "      <td>69</td>\n",
       "      <td>2</td>\n",
       "      <td>49</td>\n",
       "      <td>52</td>\n",
       "    </tr>\n",
       "    <tr>\n",
       "      <th>3</th>\n",
       "      <td>08X305</td>\n",
       "      <td>Pablo Neruda Academy</td>\n",
       "      <td>Bronx</td>\n",
       "      <td>X450</td>\n",
       "      <td>718-824-1682</td>\n",
       "      <td>718-824-1663</td>\n",
       "      <td>9.0</td>\n",
       "      <td>12</td>\n",
       "      <td>NaN</td>\n",
       "      <td>NaN</td>\n",
       "      <td>...</td>\n",
       "      <td>18.0</td>\n",
       "      <td>16.0</td>\n",
       "      <td>2022205.0</td>\n",
       "      <td>2.036040e+09</td>\n",
       "      <td>Soundview-Castle Hill-Clason Point-Harding Par...</td>\n",
       "      <td>11611.0</td>\n",
       "      <td>58</td>\n",
       "      <td>5</td>\n",
       "      <td>31</td>\n",
       "      <td>26</td>\n",
       "    </tr>\n",
       "    <tr>\n",
       "      <th>4</th>\n",
       "      <td>03M485</td>\n",
       "      <td>Fiorello H. LaGuardia High School of Music &amp; A...</td>\n",
       "      <td>Manhattan</td>\n",
       "      <td>M485</td>\n",
       "      <td>212-496-0700</td>\n",
       "      <td>212-724-5748</td>\n",
       "      <td>9.0</td>\n",
       "      <td>12</td>\n",
       "      <td>NaN</td>\n",
       "      <td>NaN</td>\n",
       "      <td>...</td>\n",
       "      <td>6.0</td>\n",
       "      <td>151.0</td>\n",
       "      <td>1030341.0</td>\n",
       "      <td>1.011560e+09</td>\n",
       "      <td>Lincoln Square                                ...</td>\n",
       "      <td>12420.0</td>\n",
       "      <td>20</td>\n",
       "      <td>4</td>\n",
       "      <td>19</td>\n",
       "      <td>12</td>\n",
       "    </tr>\n",
       "  </tbody>\n",
       "</table>\n",
       "<p>5 rows × 69 columns</p>\n",
       "</div>"
      ],
      "text/plain": [
       "      dbn                                        school_name    borough  \\\n",
       "0  27Q260          Frederick Douglass Academy VI High School     Queens   \n",
       "1  21K559        Life Academy High School for Film and Music   Brooklyn   \n",
       "2  16K393     Frederick Douglass Academy IV Secondary School   Brooklyn   \n",
       "3  08X305                               Pablo Neruda Academy      Bronx   \n",
       "4  03M485  Fiorello H. LaGuardia High School of Music & A...  Manhattan   \n",
       "\n",
       "  building_code  phone_number    fax_number  grade_span_min  grade_span_max  \\\n",
       "0          Q465  718-471-2154  718-471-2890             9.0              12   \n",
       "1          K400  718-333-7750  718-333-7775             9.0              12   \n",
       "2          K026  718-574-2820  718-574-2821             9.0              12   \n",
       "3          X450  718-824-1682  718-824-1663             9.0              12   \n",
       "4          M485  212-496-0700  212-724-5748             9.0              12   \n",
       "\n",
       "   expgrade_span_min  expgrade_span_max  ... Council District Census Tract  \\\n",
       "0                NaN                NaN  ...             31.0     100802.0   \n",
       "1                NaN                NaN  ...             47.0        306.0   \n",
       "2                NaN                NaN  ...             36.0        291.0   \n",
       "3                NaN                NaN  ...             18.0         16.0   \n",
       "4                NaN                NaN  ...              6.0        151.0   \n",
       "\n",
       "         BIN           BBL                                                NTA  \\\n",
       "0  4300730.0  4.157360e+09  Far Rockaway-Bayswater                        ...   \n",
       "1  3186454.0  3.068830e+09  Gravesend                                     ...   \n",
       "2  3393805.0  3.016160e+09  Stuyvesant Heights                            ...   \n",
       "3  2022205.0  2.036040e+09  Soundview-Castle Hill-Clason Point-Harding Par...   \n",
       "4  1030341.0  1.011560e+09  Lincoln Square                                ...   \n",
       "\n",
       "   Zip Codes Community Districts  Borough Boundaries City Council Districts  \\\n",
       "0    20529.0                  51                   3                     47   \n",
       "1    17616.0                  21                   2                     45   \n",
       "2    18181.0                  69                   2                     49   \n",
       "3    11611.0                  58                   5                     31   \n",
       "4    12420.0                  20                   4                     19   \n",
       "\n",
       "  Police Precincts  \n",
       "0               59  \n",
       "1               35  \n",
       "2               52  \n",
       "3               26  \n",
       "4               12  \n",
       "\n",
       "[5 rows x 69 columns]"
      ]
     },
     "execution_count": 5,
     "metadata": {},
     "output_type": "execute_result"
    }
   ],
   "source": [
    "df = pd.read_csv(\"high-school-directory.csv\")\n",
    "df.head()"
   ]
  },
  {
   "cell_type": "markdown",
   "id": "c0afc585",
   "metadata": {},
   "source": [
    "### 2.2. Clean Column Names\n",
    "\n",
    "- make lowercase\n",
    "- replace spaces with _\n",
    "- remove special characters\n",
    "\n",
    "\n",
    "$\\red{\\rightarrow}$ Column names were already clean. "
   ]
  },
  {
   "cell_type": "code",
   "execution_count": 14,
   "id": "1a194fe9",
   "metadata": {},
   "outputs": [],
   "source": [
    "# Clean column names\n",
    "df.columns = (\n",
    "    df.columns\n",
    "    .str.lower()\n",
    "    .str.strip()\n",
    "    .str.replace(\" \", \"_\")\n",
    "    .str.replace(\"[^a-z0-9_]\", \"\", regex=True)\n",
    ")"
   ]
  },
  {
   "cell_type": "markdown",
   "id": "d9b38252",
   "metadata": {},
   "source": [
    "### 3. Filter Dataset\n",
    "\n",
    "- Only include schools located in Brooklyn."
   ]
  },
  {
   "cell_type": "code",
   "execution_count": 15,
   "id": "7b92fc1b",
   "metadata": {},
   "outputs": [
    {
     "data": {
      "text/plain": [
       "(121, 69)"
      ]
     },
     "execution_count": 15,
     "metadata": {},
     "output_type": "execute_result"
    }
   ],
   "source": [
    "df_brooklyn = df[df['borough'] == 'Brooklyn']\n",
    "df_brooklyn.shape"
   ]
  },
  {
   "cell_type": "code",
   "execution_count": 9,
   "id": "a2964a08",
   "metadata": {},
   "outputs": [
    {
     "data": {
      "application/vnd.microsoft.datawrangler.viewer.v0+json": {
       "columns": [
        {
         "name": "index",
         "rawType": "int64",
         "type": "integer"
        },
        {
         "name": "dbn",
         "rawType": "object",
         "type": "string"
        },
        {
         "name": "school_name",
         "rawType": "object",
         "type": "string"
        },
        {
         "name": "borough",
         "rawType": "object",
         "type": "string"
        },
        {
         "name": "building_code",
         "rawType": "object",
         "type": "string"
        },
        {
         "name": "phone_number",
         "rawType": "object",
         "type": "string"
        },
        {
         "name": "fax_number",
         "rawType": "object",
         "type": "string"
        },
        {
         "name": "grade_span_min",
         "rawType": "float64",
         "type": "float"
        },
        {
         "name": "grade_span_max",
         "rawType": "int64",
         "type": "integer"
        },
        {
         "name": "expgrade_span_min",
         "rawType": "float64",
         "type": "float"
        },
        {
         "name": "expgrade_span_max",
         "rawType": "float64",
         "type": "float"
        },
        {
         "name": "bus",
         "rawType": "object",
         "type": "string"
        },
        {
         "name": "subway",
         "rawType": "object",
         "type": "string"
        },
        {
         "name": "primary_address_line_1",
         "rawType": "object",
         "type": "string"
        },
        {
         "name": "city",
         "rawType": "object",
         "type": "string"
        },
        {
         "name": "state_code",
         "rawType": "object",
         "type": "string"
        },
        {
         "name": "postcode",
         "rawType": "int64",
         "type": "integer"
        },
        {
         "name": "website",
         "rawType": "object",
         "type": "string"
        },
        {
         "name": "total_students",
         "rawType": "float64",
         "type": "float"
        },
        {
         "name": "campus_name",
         "rawType": "object",
         "type": "unknown"
        },
        {
         "name": "school_type",
         "rawType": "object",
         "type": "unknown"
        },
        {
         "name": "overview_paragraph",
         "rawType": "object",
         "type": "string"
        },
        {
         "name": "program_highlights",
         "rawType": "object",
         "type": "string"
        },
        {
         "name": "language_classes",
         "rawType": "object",
         "type": "unknown"
        },
        {
         "name": "advancedplacement_courses",
         "rawType": "object",
         "type": "unknown"
        },
        {
         "name": "online_ap_courses",
         "rawType": "object",
         "type": "unknown"
        },
        {
         "name": "online_language_courses",
         "rawType": "object",
         "type": "unknown"
        },
        {
         "name": "extracurricular_activities",
         "rawType": "object",
         "type": "string"
        },
        {
         "name": "psal_sports_boys",
         "rawType": "object",
         "type": "unknown"
        },
        {
         "name": "psal_sports_girls",
         "rawType": "object",
         "type": "unknown"
        },
        {
         "name": "psal_sports_coed",
         "rawType": "object",
         "type": "unknown"
        },
        {
         "name": "school_sports",
         "rawType": "object",
         "type": "unknown"
        },
        {
         "name": "partner_cbo",
         "rawType": "object",
         "type": "unknown"
        },
        {
         "name": "partner_hospital",
         "rawType": "object",
         "type": "unknown"
        },
        {
         "name": "partner_highered",
         "rawType": "object",
         "type": "unknown"
        },
        {
         "name": "partner_cultural",
         "rawType": "object",
         "type": "unknown"
        },
        {
         "name": "partner_nonprofit",
         "rawType": "object",
         "type": "unknown"
        },
        {
         "name": "partner_corporate",
         "rawType": "object",
         "type": "unknown"
        },
        {
         "name": "partner_financial",
         "rawType": "object",
         "type": "unknown"
        },
        {
         "name": "partner_other",
         "rawType": "object",
         "type": "unknown"
        },
        {
         "name": "addtl_info1",
         "rawType": "object",
         "type": "string"
        },
        {
         "name": "addtl_info2",
         "rawType": "object",
         "type": "unknown"
        },
        {
         "name": "start_time",
         "rawType": "object",
         "type": "string"
        },
        {
         "name": "end_time",
         "rawType": "object",
         "type": "string"
        },
        {
         "name": "se_services",
         "rawType": "object",
         "type": "string"
        },
        {
         "name": "ell_programs",
         "rawType": "object",
         "type": "string"
        },
        {
         "name": "school_accessibility_description",
         "rawType": "object",
         "type": "string"
        },
        {
         "name": "number_programs",
         "rawType": "int64",
         "type": "integer"
        },
        {
         "name": "priority01",
         "rawType": "object",
         "type": "string"
        },
        {
         "name": "priority02",
         "rawType": "object",
         "type": "string"
        },
        {
         "name": "priority03",
         "rawType": "object",
         "type": "unknown"
        },
        {
         "name": "priority04",
         "rawType": "object",
         "type": "unknown"
        },
        {
         "name": "priority05",
         "rawType": "object",
         "type": "unknown"
        },
        {
         "name": "priority06",
         "rawType": "object",
         "type": "unknown"
        },
        {
         "name": "priority07",
         "rawType": "object",
         "type": "unknown"
        },
        {
         "name": "priority08",
         "rawType": "object",
         "type": "unknown"
        },
        {
         "name": "priority09",
         "rawType": "object",
         "type": "unknown"
        },
        {
         "name": "priority10",
         "rawType": "object",
         "type": "unknown"
        },
        {
         "name": "location_1",
         "rawType": "object",
         "type": "string"
        },
        {
         "name": "community_board",
         "rawType": "float64",
         "type": "float"
        },
        {
         "name": "council_district",
         "rawType": "float64",
         "type": "float"
        },
        {
         "name": "census_tract",
         "rawType": "float64",
         "type": "float"
        },
        {
         "name": "bin",
         "rawType": "float64",
         "type": "float"
        },
        {
         "name": "bbl",
         "rawType": "float64",
         "type": "float"
        },
        {
         "name": "nta",
         "rawType": "object",
         "type": "string"
        },
        {
         "name": "zip_codes",
         "rawType": "float64",
         "type": "float"
        },
        {
         "name": "community_districts",
         "rawType": "int64",
         "type": "integer"
        },
        {
         "name": "borough_boundaries",
         "rawType": "int64",
         "type": "integer"
        },
        {
         "name": "city_council_districts",
         "rawType": "int64",
         "type": "integer"
        },
        {
         "name": "police_precincts",
         "rawType": "int64",
         "type": "integer"
        }
       ],
       "ref": "1b6cb044-7022-47e0-af73-275a3d5f1a21",
       "rows": [
        [
         "1",
         "21K559",
         "Life Academy High School for Film and Music",
         "Brooklyn",
         "K400",
         "718-333-7750",
         "718-333-7775",
         "9.0",
         "12",
         null,
         null,
         "B1, B3, B4, B6, B64, B82",
         "D to 25th Ave ; N to Ave U ; N to Gravesend - 86th St",
         "2630 Benson Avenue",
         "Brooklyn",
         "NY",
         "11214",
         "http://schools.nyc.gov/schoolportals/21/K559",
         "260.0",
         "Lafayette Educational Campus",
         null,
         "At Life Academy High School for Film and Music, we infuse the study of film, the art of filmmaking, audio production and new media into engaging, student-centered and project-based courses. We focus on building communication skills in writing, presentation and creativity. Our Advisory program helps each student develop personal relationships and positive citizenship. We seek students who want to learn in an exciting atmosphere of excellence and creative collaboration.",
         "College Now, iLEARN courses, Art and Film Production courses including film, set design, audio production, cinematography, animation, storyboarding art",
         "Spanish",
         null,
         "Biology, English Literature and Composition, European History, United States History, World History",
         null,
         "Film, Music, Talent Show, Holiday Concert, Student Council, After school tutoring in content areas, iLEARN courses, and other programs of student interest based on grant funding.",
         "Basketball, Bowling, Indoor Track, Soccer, Softball, Volleyball",
         "Basketball, Bowling, Indoor Track, Soccer, Softball, Volleyball",
         "Cricket",
         null,
         "Coney Island Generation Gap",
         null,
         "City Tech, Kingsborough Early College Secondary School, City University of New Jersey",
         "Museum of the Moving Image, New York Public Library",
         "Institute for Student Achievement",
         "Film Life, Inc., SONY Wonder Tech",
         null,
         null,
         "Our school requires completion of a Common Core Learning Standards Skills Portfolio for Assessment in every class",
         null,
         "8:15 AM",
         "3:00 PM",
         "This school will provide students with disabilities the supports and services indicated on their IEPs.",
         "ESL",
         "Functionally Accessible",
         "1",
         "Priority to New York City residents who attend an information session",
         "Then to New York City residents",
         null,
         null,
         null,
         null,
         null,
         null,
         null,
         null,
         "{'latitude': '40.593593811', 'longitude': '-73.984729232', 'human_address': '{\"address\": \"2630 Benson Avenue\", \"city\": \"Brooklyn\", \"state\": \"NY\", \"zip\": \"11214\"}'}",
         "13.0",
         "47.0",
         "306.0",
         "3186454.0",
         "3068830001.0",
         "Gravesend                                                                  ",
         "17616.0",
         "21",
         "2",
         "45",
         "35"
        ],
        [
         "2",
         "16K393",
         "Frederick Douglass Academy IV Secondary School",
         "Brooklyn",
         "K026",
         "718-574-2820",
         "718-574-2821",
         "9.0",
         "12",
         null,
         null,
         "B15, B38, B46, B47, B52, B54, Q24",
         "J to Kosciusko St ; M, Z to Myrtle Ave",
         "1014 Lafayette Avenue",
         "Brooklyn",
         "NY",
         "11221",
         "http://schools.nyc.gov/schoolportals/16/K393",
         "155.0",
         null,
         null,
         "The Frederick Douglass Academy IV (FDA IV) Secondary School is a place of scholarship. Our students are considered scholars. We create an atmosphere of order, civility, maturity and seriousness of purpose. A set of core rules referred to as the ‘twelve non-negotiables’ establish and maintain this environment. Scholars at the Frederick Douglas Academy IV Secondary School are instilled with a Scholar’s Creed, adapted from the Morehouse College Students’ Creed, that reinforces the school’s cohesive culture, underscores its high expectations and builds the scholars’ sense of pride in their school and themselves.",
         "College Now with Medgar Evers College, Fresh Prep Core, Science, Technology, Engineering & Mathematics (STEM) Robotics with New York City College of Technology, Dance4Peace",
         "French, Spanish",
         "English Language and Composition, United States History",
         "French Language and Culture",
         null,
         "After-school and Saturday Programs, Art Studio Group, Book, Cheerleading Team, Chess Team, Dance, Dance Ensemble, Homework Help, Lunch and Learn, Peer Mediation, Music, PSAT/SAT Prep, Scholars Government Association (SGA), Step Team, Summer Institute, Achieving Change in our Neighborhood (Teen Action), Violin, String Instruments, CHAMPS, School Leadership Team, Financial Literacy, Yoga, Anti-Bullying, Violence Prevention, Yearbook",
         null,
         null,
         null,
         "Basketball Team",
         "Achieving Change in our Neighborhood (Teen ACTION) St.Nicks Alliance, New York City College of Technology – STEM Robotics, Fresh Prep and New York Hall of Science",
         null,
         "Medgar Evers College",
         "Noel Pointer School of Music",
         "Hip-Hop 4 Life, Urban Arts, and St. Nicks Alliance",
         null,
         null,
         null,
         "Dress Code Required: solid white shirt/blouse, navy blue blazer, gray pants/skirt, navy blue tie/scarf, black dress shoes, Participation in our 2-day FDA IV Prep Institute (Orientation) is required for incoming students, Extended Day Program",
         "Student Summer Orientation, Weekend Program offered",
         "8:00 AM",
         "2:20 PM",
         "This school will provide students with disabilities the supports and services indicated on their IEPs.",
         "ESL",
         "Not Functionally Accessible",
         "1",
         "Priority to continuing 8th graders",
         "Then to Brooklyn students or residents who attend an information session",
         "Then to New York City residents who attend an information session",
         "Then to Brooklyn students or residents",
         "Then to New York City residents",
         null,
         null,
         null,
         null,
         null,
         "{'latitude': '40.692133704', 'longitude': '-73.931503172', 'human_address': '{\"address\": \"1014 Lafayette Avenue\", \"city\": \"Brooklyn\", \"state\": \"NY\", \"zip\": \"11221\"}'}",
         "3.0",
         "36.0",
         "291.0",
         "3393805.0",
         "3016160001.0",
         "Stuyvesant Heights                                                         ",
         "18181.0",
         "69",
         "2",
         "49",
         "52"
        ],
        [
         "7",
         "17K122",
         "Pathways in Technology Early College High School (P-Tech)",
         "Brooklyn",
         "K625",
         "718-221-1593",
         "718-221-1781",
         "9.0",
         "12",
         "9.0",
         "14.0",
         "B15, B25, B26, B43, B44, B45, B46, B65",
         "3 to Kingston Ave ; A to Utica Ave ; C to Kingston-Throop",
         "150 Albany Avenue",
         "Brooklyn",
         "NY",
         "11213",
         "www.ptechnyc.org",
         "330.0",
         "Paul Robeson Educational Campus",
         "NYC P-Tech 9-14 School",
         "At Pathways in Technology Early College High School (P-TECH), students drawn to future careers in information technology (IT), computers, engineering, math and science receive individualized support in preparing for and securing an entry-level position in the highly competitive IT industry. As a founding partner of the school, IBM (and other corporations) will provide all students with internship and training opportunities exposing them to real-world technology careers. In addition, P-TECH students are able to earn an Associate degree or up to two years of college credit from CUNY's New York City College of Technology – at no cost – while still in high school.",
         "Internships, Mentorship Program, Early College Experience, Courses in Computer Systems and Information Technology, Small Advisory groups led by faculty mentor, Science, Technology, Engineering and Mathematics (STEM), Academic and Career Planning starting in the 9th grade, Saturday Academy featuring PSAT/SAT prep, Project-based STEM workshops; As we expand, we expect to offer AP classes; Language classes to be determined",
         null,
         null,
         null,
         null,
         "National Honor Society, National Society of Black Engineers, Society of Hispanic Professional Engineers",
         "Basketball, Bowling, Cross Country, Indoor Track, Outdoor Track",
         "Basketball, Bowling, Cross Country, Indoor Track, Outdoor Track",
         null,
         "Cheerleading, Step Team",
         null,
         null,
         null,
         null,
         null,
         null,
         null,
         null,
         "Tutoring offered, Saturday Academy, Extended Year Program, Summer Orientation for Incoming Freshmen",
         "Extended Day Program",
         "8:15 AM",
         "4:30 PM",
         "This school will provide students with disabilities the supports and services indicated on their IEPs.",
         "ESL",
         "Functionally Accessible",
         "1",
         "Priority to Brooklyn students or residents who attend an information session",
         "Then to New York City residents who attend an information session",
         "Then to Brooklyn students or residents",
         "Then to New York City residents",
         null,
         null,
         null,
         null,
         null,
         null,
         "{'latitude': '40.675402307', 'longitude': '-73.938881176', 'human_address': '{\"address\": \"150 Albany Avenue\", \"city\": \"Brooklyn\", \"state\": \"NY\", \"zip\": \"11213\"}'}",
         "8.0",
         "36.0",
         "311.0",
         "3030553.0",
         "3012160046.0",
         "Crown Heights North                                                        ",
         "17615.0",
         "16",
         "2",
         "49",
         "49"
        ],
        [
         "10",
         "23K644",
         "Eagle Academy for Young Men II",
         "Brooklyn",
         "K271",
         "718-495-0863",
         "718-732-2129",
         "6.0",
         "12",
         null,
         null,
         "B12, B20, B25, B47, B60, B65, B7, Q24",
         "A to Broadway Junction ; C to Rockaway Ave ; J, Z to Chauncey St",
         "1137 Herkimer Street",
         "Brooklyn",
         "NY",
         "11233",
         "www.eagleacademybk.org",
         "513.0",
         null,
         "All-Boys School",
         "Eagle Academy at Ocean Hill is a 6-12 school that develops our young men to be critical thinkers and active citizens for life-long success through the embodiment of our 5 Eagle Pillars: Commitment to Excellence, Resilience, Confidence, Leadership, and Effort. In the high school, our scholars follow individual schedules designed to ensure they are prepared for the college and/or career of their choice. We have a wide range of courses, extra-curriculars and extended learning opportunities to ensure our scholars develop passions in and out of the classroom. What truly sets Eagle apart from other schools is our unwavering commitment as Educators. Eagle Educators understand and embrace the challenges of teaching our unique population. Our Educators take strategic risks that are grounded in research-based practices. Eagle is more than a school. We are a family: a family dedicated to ensuring that all of our young men reach their full potential as globally conscious, globally competitive Eagle Scholars.",
         "Although we are a small school, we offer individualized programs to meet the needs of all our scholars. All our core classes are Regents-level, Common Core-aligned courses taught by devoted educators with a passion for their subject. Our wide variety of electives includes Creative Writing, Ethics, Psychology, Automotive Technology, Music Production, Graphic Design, Computer Technology, History of Athletics, Personal Finance, Public Speaking, Band, Anime, and Art History.",
         "Spanish",
         "Biology, Calculus AB, Chemistry, English Literature and Composition, Psychology, United States History",
         null,
         null,
         "Anime, Creative Writing, Drama, Culinary Arts, Eagle Gives Back (Community Service), Band",
         null,
         null,
         null,
         "Basketball, Football, Lacrosse, Tennis, Track",
         null,
         null,
         "College Now, Brooklyn College",
         "Global Glimpse, Summer Search, Explorers Police Program",
         "READ Program, Brownsville Youth Court",
         "Blackstone Group",
         null,
         null,
         "Uniform Required: Oxford blue collared button-down shirt, tie with school logo, gray pants, navy blue vest, black shoes/sneakers, Community Service Required, Saturday Academy 9:00 AM – 12:00 PM",
         null,
         "8:45 AM",
         "3:00 PM",
         "This school will provide students with disabilities the supports and services indicated on their IEPs.",
         "ESL",
         "Not Functionally Accessible",
         "1",
         "Open only to male students",
         "Priority to continuing 8th graders",
         "Then to Brooklyn students or residents who attend an information session",
         "Then to New York City residents who attend an information session",
         "Then to Brooklyn students or residents",
         "Then to New York City residents",
         null,
         null,
         null,
         null,
         "{'latitude': '40.677825501', 'longitude': '-73.91582338', 'human_address': '{\"address\": \"1137 Herkimer Street\", \"city\": \"Brooklyn\", \"state\": \"NY\", \"zip\": \"11233\"}'}",
         "16.0",
         "41.0",
         "301.0",
         "3042157.0",
         "3015500001.0",
         "Ocean Hill                                                                 ",
         "13516.0",
         "55",
         "2",
         "17",
         "46"
        ],
        [
         "12",
         "15K462",
         "Secondary School for Law",
         "Brooklyn",
         "K460",
         "718-832-4250",
         "718-499-3947",
         "9.0",
         "12",
         null,
         null,
         "B61, B63, B67",
         "D, R to 4th Ave - 9th St ; F, G to 7th Ave",
         "237 7 Avenue",
         "Brooklyn",
         "NY",
         "11215",
         "http://schools.nyc.gov/schoolportals/15/K462",
         "389.0",
         "John Jay Educational Campus",
         null,
         "As a community of committed learners, Secondary School for Law cultivates a spirit of excellence in our students through rigorous academic and extracurricular activities, preparing them to engage in challenging post-secondary experiences. Through the integration of demanding support programming such as college-preparatory, academic tutoring, personalized mentoring, and one-on-one college guidance, our goal is to help students develop their own voices by teaching them skills utilized by lawyers – the ability to solve complex problems, think critically and advocate persuasively for themselves and their communities.",
         "Paul Hastings Law Institute, Deloitte, Mock Trial, Debate, Introduction to Law, International Law, Criminal and Constitutional Law, Participation in Government, Mural Art, Studio Art, Modern Dance, Orchestra, Credit-bearing Online Courses, College Now",
         "French, Spanish",
         "Calculus AB, English Language and Composition, English Literature and Composition, Spanish Language and Culture, United States History",
         null,
         null,
         "After-school Sports and Dance, Arnhold New Dance Teacher Suppport Program, Arts Connection, Brooklyn Arts Council, Chess, Cooking, Debate Team, Mock Trial Team, Mural Art, National Honor Society, Peer Mediation, Project Reach Youth, SAT Preparation, SPARK, Student Government, Tutorials, Weightlifting, Yearbook Design",
         "Basketball, Softball, Volleyball",
         "Basketball, Softball, Volleyball",
         null,
         null,
         "Project Reach Youth",
         "New York Methodist Hospital",
         "New York City College of Technology",
         "Partnership for After School Education (PASE), Brooklyn Arts Council",
         null,
         "Paul Hastings LLP",
         null,
         null,
         "Dress Code Required: Please contact the school for more information.",
         "Extended Day Program, Student Summer Orientation",
         "8:25 AM",
         "3:12 PM",
         "This school will provide students with disabilities the supports and services indicated on their IEPs.",
         "ESL",
         "Not Functionally Accessible",
         "1",
         "Priority to District 15 students or residents",
         "Then to Brooklyn students or residents",
         "Then to New York City residents",
         null,
         null,
         null,
         null,
         null,
         null,
         null,
         "{'latitude': '40.669598175', 'longitude': '-73.979255522', 'human_address': '{\"address\": \"237 7 Avenue\", \"city\": \"Brooklyn\", \"state\": \"NY\", \"zip\": \"11215\"}'}",
         "6.0",
         "39.0",
         "155.0",
         "3025510.0",
         "3010820001.0",
         "Park Slope-Gowanus                                                         ",
         "17617.0",
         "14",
         "2",
         "27",
         "50"
        ]
       ],
       "shape": {
        "columns": 69,
        "rows": 5
       }
      },
      "text/html": [
       "<div>\n",
       "<style scoped>\n",
       "    .dataframe tbody tr th:only-of-type {\n",
       "        vertical-align: middle;\n",
       "    }\n",
       "\n",
       "    .dataframe tbody tr th {\n",
       "        vertical-align: top;\n",
       "    }\n",
       "\n",
       "    .dataframe thead th {\n",
       "        text-align: right;\n",
       "    }\n",
       "</style>\n",
       "<table border=\"1\" class=\"dataframe\">\n",
       "  <thead>\n",
       "    <tr style=\"text-align: right;\">\n",
       "      <th></th>\n",
       "      <th>dbn</th>\n",
       "      <th>school_name</th>\n",
       "      <th>borough</th>\n",
       "      <th>building_code</th>\n",
       "      <th>phone_number</th>\n",
       "      <th>fax_number</th>\n",
       "      <th>grade_span_min</th>\n",
       "      <th>grade_span_max</th>\n",
       "      <th>expgrade_span_min</th>\n",
       "      <th>expgrade_span_max</th>\n",
       "      <th>...</th>\n",
       "      <th>council_district</th>\n",
       "      <th>census_tract</th>\n",
       "      <th>bin</th>\n",
       "      <th>bbl</th>\n",
       "      <th>nta</th>\n",
       "      <th>zip_codes</th>\n",
       "      <th>community_districts</th>\n",
       "      <th>borough_boundaries</th>\n",
       "      <th>city_council_districts</th>\n",
       "      <th>police_precincts</th>\n",
       "    </tr>\n",
       "  </thead>\n",
       "  <tbody>\n",
       "    <tr>\n",
       "      <th>1</th>\n",
       "      <td>21K559</td>\n",
       "      <td>Life Academy High School for Film and Music</td>\n",
       "      <td>Brooklyn</td>\n",
       "      <td>K400</td>\n",
       "      <td>718-333-7750</td>\n",
       "      <td>718-333-7775</td>\n",
       "      <td>9.0</td>\n",
       "      <td>12</td>\n",
       "      <td>NaN</td>\n",
       "      <td>NaN</td>\n",
       "      <td>...</td>\n",
       "      <td>47.0</td>\n",
       "      <td>306.0</td>\n",
       "      <td>3186454.0</td>\n",
       "      <td>3.068830e+09</td>\n",
       "      <td>Gravesend                                     ...</td>\n",
       "      <td>17616.0</td>\n",
       "      <td>21</td>\n",
       "      <td>2</td>\n",
       "      <td>45</td>\n",
       "      <td>35</td>\n",
       "    </tr>\n",
       "    <tr>\n",
       "      <th>2</th>\n",
       "      <td>16K393</td>\n",
       "      <td>Frederick Douglass Academy IV Secondary School</td>\n",
       "      <td>Brooklyn</td>\n",
       "      <td>K026</td>\n",
       "      <td>718-574-2820</td>\n",
       "      <td>718-574-2821</td>\n",
       "      <td>9.0</td>\n",
       "      <td>12</td>\n",
       "      <td>NaN</td>\n",
       "      <td>NaN</td>\n",
       "      <td>...</td>\n",
       "      <td>36.0</td>\n",
       "      <td>291.0</td>\n",
       "      <td>3393805.0</td>\n",
       "      <td>3.016160e+09</td>\n",
       "      <td>Stuyvesant Heights                            ...</td>\n",
       "      <td>18181.0</td>\n",
       "      <td>69</td>\n",
       "      <td>2</td>\n",
       "      <td>49</td>\n",
       "      <td>52</td>\n",
       "    </tr>\n",
       "    <tr>\n",
       "      <th>7</th>\n",
       "      <td>17K122</td>\n",
       "      <td>Pathways in Technology Early College High Scho...</td>\n",
       "      <td>Brooklyn</td>\n",
       "      <td>K625</td>\n",
       "      <td>718-221-1593</td>\n",
       "      <td>718-221-1781</td>\n",
       "      <td>9.0</td>\n",
       "      <td>12</td>\n",
       "      <td>9.0</td>\n",
       "      <td>14.0</td>\n",
       "      <td>...</td>\n",
       "      <td>36.0</td>\n",
       "      <td>311.0</td>\n",
       "      <td>3030553.0</td>\n",
       "      <td>3.012160e+09</td>\n",
       "      <td>Crown Heights North                           ...</td>\n",
       "      <td>17615.0</td>\n",
       "      <td>16</td>\n",
       "      <td>2</td>\n",
       "      <td>49</td>\n",
       "      <td>49</td>\n",
       "    </tr>\n",
       "    <tr>\n",
       "      <th>10</th>\n",
       "      <td>23K644</td>\n",
       "      <td>Eagle Academy for Young Men II</td>\n",
       "      <td>Brooklyn</td>\n",
       "      <td>K271</td>\n",
       "      <td>718-495-0863</td>\n",
       "      <td>718-732-2129</td>\n",
       "      <td>6.0</td>\n",
       "      <td>12</td>\n",
       "      <td>NaN</td>\n",
       "      <td>NaN</td>\n",
       "      <td>...</td>\n",
       "      <td>41.0</td>\n",
       "      <td>301.0</td>\n",
       "      <td>3042157.0</td>\n",
       "      <td>3.015500e+09</td>\n",
       "      <td>Ocean Hill                                    ...</td>\n",
       "      <td>13516.0</td>\n",
       "      <td>55</td>\n",
       "      <td>2</td>\n",
       "      <td>17</td>\n",
       "      <td>46</td>\n",
       "    </tr>\n",
       "    <tr>\n",
       "      <th>12</th>\n",
       "      <td>15K462</td>\n",
       "      <td>Secondary School for Law</td>\n",
       "      <td>Brooklyn</td>\n",
       "      <td>K460</td>\n",
       "      <td>718-832-4250</td>\n",
       "      <td>718-499-3947</td>\n",
       "      <td>9.0</td>\n",
       "      <td>12</td>\n",
       "      <td>NaN</td>\n",
       "      <td>NaN</td>\n",
       "      <td>...</td>\n",
       "      <td>39.0</td>\n",
       "      <td>155.0</td>\n",
       "      <td>3025510.0</td>\n",
       "      <td>3.010820e+09</td>\n",
       "      <td>Park Slope-Gowanus                            ...</td>\n",
       "      <td>17617.0</td>\n",
       "      <td>14</td>\n",
       "      <td>2</td>\n",
       "      <td>27</td>\n",
       "      <td>50</td>\n",
       "    </tr>\n",
       "  </tbody>\n",
       "</table>\n",
       "<p>5 rows × 69 columns</p>\n",
       "</div>"
      ],
      "text/plain": [
       "       dbn                                        school_name   borough  \\\n",
       "1   21K559        Life Academy High School for Film and Music  Brooklyn   \n",
       "2   16K393     Frederick Douglass Academy IV Secondary School  Brooklyn   \n",
       "7   17K122  Pathways in Technology Early College High Scho...  Brooklyn   \n",
       "10  23K644                     Eagle Academy for Young Men II  Brooklyn   \n",
       "12  15K462                           Secondary School for Law  Brooklyn   \n",
       "\n",
       "   building_code  phone_number    fax_number  grade_span_min  grade_span_max  \\\n",
       "1           K400  718-333-7750  718-333-7775             9.0              12   \n",
       "2           K026  718-574-2820  718-574-2821             9.0              12   \n",
       "7           K625  718-221-1593  718-221-1781             9.0              12   \n",
       "10          K271  718-495-0863  718-732-2129             6.0              12   \n",
       "12          K460  718-832-4250  718-499-3947             9.0              12   \n",
       "\n",
       "    expgrade_span_min  expgrade_span_max  ... council_district census_tract  \\\n",
       "1                 NaN                NaN  ...             47.0        306.0   \n",
       "2                 NaN                NaN  ...             36.0        291.0   \n",
       "7                 9.0               14.0  ...             36.0        311.0   \n",
       "10                NaN                NaN  ...             41.0        301.0   \n",
       "12                NaN                NaN  ...             39.0        155.0   \n",
       "\n",
       "          bin           bbl  \\\n",
       "1   3186454.0  3.068830e+09   \n",
       "2   3393805.0  3.016160e+09   \n",
       "7   3030553.0  3.012160e+09   \n",
       "10  3042157.0  3.015500e+09   \n",
       "12  3025510.0  3.010820e+09   \n",
       "\n",
       "                                                  nta  zip_codes  \\\n",
       "1   Gravesend                                     ...    17616.0   \n",
       "2   Stuyvesant Heights                            ...    18181.0   \n",
       "7   Crown Heights North                           ...    17615.0   \n",
       "10  Ocean Hill                                    ...    13516.0   \n",
       "12  Park Slope-Gowanus                            ...    17617.0   \n",
       "\n",
       "   community_districts  borough_boundaries city_council_districts  \\\n",
       "1                   21                   2                     45   \n",
       "2                   69                   2                     49   \n",
       "7                   16                   2                     49   \n",
       "10                  55                   2                     17   \n",
       "12                  14                   2                     27   \n",
       "\n",
       "   police_precincts  \n",
       "1                35  \n",
       "2                52  \n",
       "7                49  \n",
       "10               46  \n",
       "12               50  \n",
       "\n",
       "[5 rows x 69 columns]"
      ]
     },
     "execution_count": 9,
     "metadata": {},
     "output_type": "execute_result"
    }
   ],
   "source": [
    "df_brooklyn.head()"
   ]
  },
  {
   "cell_type": "markdown",
   "id": "892ac070",
   "metadata": {},
   "source": [
    "### 4. Answer the following:\n",
    "\n",
    "\n",
    "- How many total schools are in Brooklyn? (use the method that counts only unique values. Also there is a column that has a unique identifier for schools.)"
   ]
  },
  {
   "cell_type": "code",
   "execution_count": 22,
   "id": "d9f86038",
   "metadata": {},
   "outputs": [
    {
     "name": "stdout",
     "output_type": "stream",
     "text": [
      "Brooklyn has 121 unique schools.\n"
     ]
    }
   ],
   "source": [
    "schools_unique = df_brooklyn[\"dbn\"].nunique()\n",
    "print(\"Brooklyn has\", schools_unique, \"unique schools.\")"
   ]
  },
  {
   "cell_type": "markdown",
   "id": "82379cab",
   "metadata": {},
   "source": [
    "- How many schools in Brooklyn offer Grade 9 entry? (here you need to use range to get the correct answer for example just stating min_grade entry >=9 will miss the schools that offer earlier entry)"
   ]
  },
  {
   "cell_type": "code",
   "execution_count": 18,
   "id": "e518ae86",
   "metadata": {},
   "outputs": [
    {
     "data": {
      "application/vnd.microsoft.datawrangler.viewer.v0+json": {
       "columns": [
        {
         "name": "grade_span_min",
         "rawType": "float64",
         "type": "float"
        },
        {
         "name": "count",
         "rawType": "int64",
         "type": "integer"
        }
       ],
       "ref": "f6962b2e-c84f-427f-911f-70e25e567231",
       "rows": [
        [
         "9.0",
         "98"
        ],
        [
         "6.0",
         "23"
        ]
       ],
       "shape": {
        "columns": 1,
        "rows": 2
       }
      },
      "text/plain": [
       "grade_span_min\n",
       "9.0    98\n",
       "6.0    23\n",
       "Name: count, dtype: int64"
      ]
     },
     "execution_count": 18,
     "metadata": {},
     "output_type": "execute_result"
    }
   ],
   "source": [
    "df_brooklyn[\"grade_span_min\"].value_counts()"
   ]
  },
  {
   "cell_type": "code",
   "execution_count": 19,
   "id": "b45ab922",
   "metadata": {},
   "outputs": [
    {
     "data": {
      "application/vnd.microsoft.datawrangler.viewer.v0+json": {
       "columns": [
        {
         "name": "grade_span_max",
         "rawType": "int64",
         "type": "integer"
        },
        {
         "name": "count",
         "rawType": "int64",
         "type": "integer"
        }
       ],
       "ref": "28df137f-60cd-4c70-b26f-7bb3f477da57",
       "rows": [
        [
         "12",
         "117"
        ],
        [
         "10",
         "2"
        ],
        [
         "9",
         "1"
        ],
        [
         "11",
         "1"
        ]
       ],
       "shape": {
        "columns": 1,
        "rows": 4
       }
      },
      "text/plain": [
       "grade_span_max\n",
       "12    117\n",
       "10      2\n",
       "9       1\n",
       "11      1\n",
       "Name: count, dtype: int64"
      ]
     },
     "execution_count": 19,
     "metadata": {},
     "output_type": "execute_result"
    }
   ],
   "source": [
    "df_brooklyn[\"grade_span_max\"].value_counts()"
   ]
  },
  {
   "cell_type": "code",
   "execution_count": null,
   "id": "779adadf",
   "metadata": {},
   "outputs": [
    {
     "name": "stdout",
     "output_type": "stream",
     "text": [
      "Schools in Brooklyn offering Grade 9: 121\n"
     ]
    }
   ],
   "source": [
    "# Filter Brooklyn schools that include grade 9 within their grade range\n",
    "brooklyn_grade9 = df_brooklyn[\n",
    "    (df_brooklyn['grade_span_min'].le(9)) &   # grade_span_min <= 9\n",
    "    (df_brooklyn['grade_span_max'].ge(9))     # grade_span_max >= 9\n",
    "]\n",
    "\n",
    "schools_grade9 = brooklyn_grade9['dbn'].nunique()\n",
    "print(\"Schools in Brooklyn offering Grade 9:\", schools_grade9)"
   ]
  },
  {
   "cell_type": "markdown",
   "id": "8db31f0a",
   "metadata": {},
   "source": [
    "### 5. Group and summarize:\n",
    "\n",
    "- Count of schools per **borough** (again unique schools)\n"
   ]
  },
  {
   "cell_type": "code",
   "execution_count": 40,
   "id": "a9468d54",
   "metadata": {},
   "outputs": [
    {
     "data": {
      "application/vnd.microsoft.datawrangler.viewer.v0+json": {
       "columns": [
        {
         "name": "index",
         "rawType": "int64",
         "type": "integer"
        },
        {
         "name": "borough",
         "rawType": "object",
         "type": "string"
        },
        {
         "name": "dbn",
         "rawType": "int64",
         "type": "integer"
        }
       ],
       "ref": "6f20c92b-362c-46d8-8db7-99feaa760aac",
       "rows": [
        [
         "1",
         "Brooklyn",
         "121"
        ],
        [
         "0",
         "Bronx",
         "118"
        ],
        [
         "2",
         "Manhattan",
         "106"
        ],
        [
         "3",
         "Queens",
         "80"
        ],
        [
         "4",
         "Staten Island",
         "10"
        ]
       ],
       "shape": {
        "columns": 2,
        "rows": 5
       }
      },
      "text/html": [
       "<div>\n",
       "<style scoped>\n",
       "    .dataframe tbody tr th:only-of-type {\n",
       "        vertical-align: middle;\n",
       "    }\n",
       "\n",
       "    .dataframe tbody tr th {\n",
       "        vertical-align: top;\n",
       "    }\n",
       "\n",
       "    .dataframe thead th {\n",
       "        text-align: right;\n",
       "    }\n",
       "</style>\n",
       "<table border=\"1\" class=\"dataframe\">\n",
       "  <thead>\n",
       "    <tr style=\"text-align: right;\">\n",
       "      <th></th>\n",
       "      <th>borough</th>\n",
       "      <th>dbn</th>\n",
       "    </tr>\n",
       "  </thead>\n",
       "  <tbody>\n",
       "    <tr>\n",
       "      <th>1</th>\n",
       "      <td>Brooklyn</td>\n",
       "      <td>121</td>\n",
       "    </tr>\n",
       "    <tr>\n",
       "      <th>0</th>\n",
       "      <td>Bronx</td>\n",
       "      <td>118</td>\n",
       "    </tr>\n",
       "    <tr>\n",
       "      <th>2</th>\n",
       "      <td>Manhattan</td>\n",
       "      <td>106</td>\n",
       "    </tr>\n",
       "    <tr>\n",
       "      <th>3</th>\n",
       "      <td>Queens</td>\n",
       "      <td>80</td>\n",
       "    </tr>\n",
       "    <tr>\n",
       "      <th>4</th>\n",
       "      <td>Staten Island</td>\n",
       "      <td>10</td>\n",
       "    </tr>\n",
       "  </tbody>\n",
       "</table>\n",
       "</div>"
      ],
      "text/plain": [
       "         borough  dbn\n",
       "1       Brooklyn  121\n",
       "0          Bronx  118\n",
       "2      Manhattan  106\n",
       "3         Queens   80\n",
       "4  Staten Island   10"
      ]
     },
     "execution_count": 40,
     "metadata": {},
     "output_type": "execute_result"
    }
   ],
   "source": [
    "df_schools_per_borough = (\n",
    "    df.groupby('borough')['dbn']\n",
    "    .nunique()\n",
    "    .reset_index()\n",
    "    .sort_values(by='dbn', ascending=False)\n",
    ")\n",
    "\n",
    "df_schools_per_borough"
   ]
  },
  {
   "cell_type": "markdown",
   "id": "e5788121",
   "metadata": {},
   "source": [
    " - Average number of students per **borough**"
   ]
  },
  {
   "cell_type": "code",
   "execution_count": null,
   "id": "260c7867",
   "metadata": {},
   "outputs": [
    {
     "data": {
      "application/vnd.microsoft.datawrangler.viewer.v0+json": {
       "columns": [
        {
         "name": "index",
         "rawType": "int64",
         "type": "integer"
        },
        {
         "name": "borough",
         "rawType": "object",
         "type": "string"
        },
        {
         "name": "total_students",
         "rawType": "float64",
         "type": "float"
        }
       ],
       "ref": "09ba1ac7-3555-4a0d-af94-e7f9d300952a",
       "rows": [
        [
         "4",
         "Staten Island",
         "1847.5"
        ],
        [
         "3",
         "Queens",
         "1046.64"
        ],
        [
         "1",
         "Brooklyn",
         "699.13"
        ],
        [
         "2",
         "Manhattan",
         "589.83"
        ],
        [
         "0",
         "Bronx",
         "490.41"
        ]
       ],
       "shape": {
        "columns": 2,
        "rows": 5
       }
      },
      "text/html": [
       "<div>\n",
       "<style scoped>\n",
       "    .dataframe tbody tr th:only-of-type {\n",
       "        vertical-align: middle;\n",
       "    }\n",
       "\n",
       "    .dataframe tbody tr th {\n",
       "        vertical-align: top;\n",
       "    }\n",
       "\n",
       "    .dataframe thead th {\n",
       "        text-align: right;\n",
       "    }\n",
       "</style>\n",
       "<table border=\"1\" class=\"dataframe\">\n",
       "  <thead>\n",
       "    <tr style=\"text-align: right;\">\n",
       "      <th></th>\n",
       "      <th>borough</th>\n",
       "      <th>total_students</th>\n",
       "    </tr>\n",
       "  </thead>\n",
       "  <tbody>\n",
       "    <tr>\n",
       "      <th>4</th>\n",
       "      <td>Staten Island</td>\n",
       "      <td>1847.50</td>\n",
       "    </tr>\n",
       "    <tr>\n",
       "      <th>3</th>\n",
       "      <td>Queens</td>\n",
       "      <td>1046.64</td>\n",
       "    </tr>\n",
       "    <tr>\n",
       "      <th>1</th>\n",
       "      <td>Brooklyn</td>\n",
       "      <td>699.13</td>\n",
       "    </tr>\n",
       "    <tr>\n",
       "      <th>2</th>\n",
       "      <td>Manhattan</td>\n",
       "      <td>589.83</td>\n",
       "    </tr>\n",
       "    <tr>\n",
       "      <th>0</th>\n",
       "      <td>Bronx</td>\n",
       "      <td>490.41</td>\n",
       "    </tr>\n",
       "  </tbody>\n",
       "</table>\n",
       "</div>"
      ],
      "text/plain": [
       "         borough  total_students\n",
       "4  Staten Island         1847.50\n",
       "3         Queens         1046.64\n",
       "1       Brooklyn          699.13\n",
       "2      Manhattan          589.83\n",
       "0          Bronx          490.41"
      ]
     },
     "execution_count": 39,
     "metadata": {},
     "output_type": "execute_result"
    }
   ],
   "source": [
    "df_avg_students = (\n",
    "    df.groupby('borough')['total_students']\n",
    "    .mean()\n",
    "    .reset_index()\n",
    "    .sort_values(by='total_students', ascending=False)\n",
    "    .round(2)\n",
    ")\n",
    "df_avg_students"
   ]
  },
  {
   "cell_type": "markdown",
   "id": "05cc0dd4",
   "metadata": {},
   "source": [
    "- Summary of grade_span_max grouped by **borough** (use the method that provides you with basic statistics about that column)"
   ]
  },
  {
   "cell_type": "code",
   "execution_count": 44,
   "id": "a1fed67a",
   "metadata": {},
   "outputs": [
    {
     "data": {
      "application/vnd.microsoft.datawrangler.viewer.v0+json": {
       "columns": [
        {
         "name": "borough",
         "rawType": "object",
         "type": "string"
        },
        {
         "name": "count",
         "rawType": "float64",
         "type": "float"
        },
        {
         "name": "mean",
         "rawType": "float64",
         "type": "float"
        },
        {
         "name": "std",
         "rawType": "float64",
         "type": "float"
        },
        {
         "name": "min",
         "rawType": "float64",
         "type": "float"
        },
        {
         "name": "25%",
         "rawType": "float64",
         "type": "float"
        },
        {
         "name": "50%",
         "rawType": "float64",
         "type": "float"
        },
        {
         "name": "75%",
         "rawType": "float64",
         "type": "float"
        },
        {
         "name": "max",
         "rawType": "float64",
         "type": "float"
        }
       ],
       "ref": "2fafb43c-7061-4d52-aad8-f7783ccd9621",
       "rows": [
        [
         "Bronx",
         "118.0",
         "11.90677966101695",
         "0.3695062109419408",
         "9.0",
         "12.0",
         "12.0",
         "12.0",
         "12.0"
        ],
        [
         "Brooklyn",
         "121.0",
         "11.933884297520661",
         "0.3815655730033523",
         "9.0",
         "12.0",
         "12.0",
         "12.0",
         "12.0"
        ],
        [
         "Manhattan",
         "106.0",
         "11.877358490566039",
         "0.47213456896624045",
         "9.0",
         "12.0",
         "12.0",
         "12.0",
         "12.0"
        ],
        [
         "Queens",
         "80.0",
         "11.825",
         "0.49746191254243777",
         "10.0",
         "12.0",
         "12.0",
         "12.0",
         "12.0"
        ],
        [
         "Staten Island",
         "10.0",
         "12.0",
         "0.0",
         "12.0",
         "12.0",
         "12.0",
         "12.0",
         "12.0"
        ]
       ],
       "shape": {
        "columns": 8,
        "rows": 5
       }
      },
      "text/html": [
       "<div>\n",
       "<style scoped>\n",
       "    .dataframe tbody tr th:only-of-type {\n",
       "        vertical-align: middle;\n",
       "    }\n",
       "\n",
       "    .dataframe tbody tr th {\n",
       "        vertical-align: top;\n",
       "    }\n",
       "\n",
       "    .dataframe thead th {\n",
       "        text-align: right;\n",
       "    }\n",
       "</style>\n",
       "<table border=\"1\" class=\"dataframe\">\n",
       "  <thead>\n",
       "    <tr style=\"text-align: right;\">\n",
       "      <th></th>\n",
       "      <th>count</th>\n",
       "      <th>mean</th>\n",
       "      <th>std</th>\n",
       "      <th>min</th>\n",
       "      <th>25%</th>\n",
       "      <th>50%</th>\n",
       "      <th>75%</th>\n",
       "      <th>max</th>\n",
       "    </tr>\n",
       "    <tr>\n",
       "      <th>borough</th>\n",
       "      <th></th>\n",
       "      <th></th>\n",
       "      <th></th>\n",
       "      <th></th>\n",
       "      <th></th>\n",
       "      <th></th>\n",
       "      <th></th>\n",
       "      <th></th>\n",
       "    </tr>\n",
       "  </thead>\n",
       "  <tbody>\n",
       "    <tr>\n",
       "      <th>Bronx</th>\n",
       "      <td>118.0</td>\n",
       "      <td>11.906780</td>\n",
       "      <td>0.369506</td>\n",
       "      <td>9.0</td>\n",
       "      <td>12.0</td>\n",
       "      <td>12.0</td>\n",
       "      <td>12.0</td>\n",
       "      <td>12.0</td>\n",
       "    </tr>\n",
       "    <tr>\n",
       "      <th>Brooklyn</th>\n",
       "      <td>121.0</td>\n",
       "      <td>11.933884</td>\n",
       "      <td>0.381566</td>\n",
       "      <td>9.0</td>\n",
       "      <td>12.0</td>\n",
       "      <td>12.0</td>\n",
       "      <td>12.0</td>\n",
       "      <td>12.0</td>\n",
       "    </tr>\n",
       "    <tr>\n",
       "      <th>Manhattan</th>\n",
       "      <td>106.0</td>\n",
       "      <td>11.877358</td>\n",
       "      <td>0.472135</td>\n",
       "      <td>9.0</td>\n",
       "      <td>12.0</td>\n",
       "      <td>12.0</td>\n",
       "      <td>12.0</td>\n",
       "      <td>12.0</td>\n",
       "    </tr>\n",
       "    <tr>\n",
       "      <th>Queens</th>\n",
       "      <td>80.0</td>\n",
       "      <td>11.825000</td>\n",
       "      <td>0.497462</td>\n",
       "      <td>10.0</td>\n",
       "      <td>12.0</td>\n",
       "      <td>12.0</td>\n",
       "      <td>12.0</td>\n",
       "      <td>12.0</td>\n",
       "    </tr>\n",
       "    <tr>\n",
       "      <th>Staten Island</th>\n",
       "      <td>10.0</td>\n",
       "      <td>12.000000</td>\n",
       "      <td>0.000000</td>\n",
       "      <td>12.0</td>\n",
       "      <td>12.0</td>\n",
       "      <td>12.0</td>\n",
       "      <td>12.0</td>\n",
       "      <td>12.0</td>\n",
       "    </tr>\n",
       "  </tbody>\n",
       "</table>\n",
       "</div>"
      ],
      "text/plain": [
       "               count       mean       std   min   25%   50%   75%   max\n",
       "borough                                                                \n",
       "Bronx          118.0  11.906780  0.369506   9.0  12.0  12.0  12.0  12.0\n",
       "Brooklyn       121.0  11.933884  0.381566   9.0  12.0  12.0  12.0  12.0\n",
       "Manhattan      106.0  11.877358  0.472135   9.0  12.0  12.0  12.0  12.0\n",
       "Queens          80.0  11.825000  0.497462  10.0  12.0  12.0  12.0  12.0\n",
       "Staten Island   10.0  12.000000  0.000000  12.0  12.0  12.0  12.0  12.0"
      ]
     },
     "execution_count": 44,
     "metadata": {},
     "output_type": "execute_result"
    }
   ],
   "source": [
    "summary_grade_span = (\n",
    "    df.groupby('borough')['grade_span_max']\n",
    "    .describe()\n",
    ")\n",
    "summary_grade_span"
   ]
  },
  {
   "cell_type": "markdown",
   "id": "b8c49bb6",
   "metadata": {},
   "source": [
    "### 6. Create visualizations:\n",
    "\n",
    "- Bar chart: Number of schools per **borough**"
   ]
  },
  {
   "cell_type": "code",
   "execution_count": 48,
   "id": "21a71bad",
   "metadata": {},
   "outputs": [
    {
     "data": {
      "image/png": "[encoded data removed]",
      "text/plain": [
       "<Figure size 1000x600 with 1 Axes>"
      ]
     },
     "metadata": {},
     "output_type": "display_data"
    }
   ],
   "source": [
    "plt.figure(figsize=(10, 6))\n",
    "plt.bar(df_schools_per_borough['borough'], df_schools_per_borough['dbn'], color='skyblue')\n",
    "\n",
    "plt.title(\"Number of Schools per Borough\")\n",
    "plt.xlabel(\"Borough\")\n",
    "plt.ylabel(\"Number of Schools\")\n",
    "plt.xticks(rotation=45, ha='right') \n",
    "\n",
    "for i, v in enumerate(df_schools_per_borough['dbn']):\n",
    "    plt.text(i, v + 2, str(v), ha='center', fontweight='bold') #show values on top of bars\n",
    "\n",
    "plt.show()"
   ]
  },
  {
   "cell_type": "markdown",
   "id": "586a1304",
   "metadata": {},
   "source": [
    "### 7. Insights \n",
    "\n",
    "**Write 2–3 key insights** based on your findings at the end of the notebook"
   ]
  },
  {
   "cell_type": "markdown",
   "id": "d55f509a",
   "metadata": {},
   "source": [
    "- Staten Island has the highest average number of students (1,847.5), even though it only has 10 schools.\n",
    "- The Bronx has the second-highest number of schools (118) but the lowest average number of students (490.4)."
   ]
  }
 ],
 "metadata": {
  "kernelspec": {
   "display_name": "ms_env",
   "language": "python",
   "name": "python3"
  },
  "language_info": {
   "codemirror_mode": {
    "name": "ipython",
    "version": 3
   },
   "file_extension": ".py",
   "mimetype": "text/x-python",
   "name": "python",
   "nbconvert_exporter": "python",
   "pygments_lexer": "ipython3",
   "version": "3.13.2"
  }
 },
 "nbformat": 4,
 "nbformat_minor": 5
}
