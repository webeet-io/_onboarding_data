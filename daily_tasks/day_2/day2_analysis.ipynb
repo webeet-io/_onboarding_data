{
 "cells": [
  {
   "cell_type": "markdown",
   "id": "db4c402a",
   "metadata": {},
   "source": [
    "## Import libraries needed "
   ]
  },
  {
   "cell_type": "code",
   "execution_count": 1,
   "id": "9611621f",
   "metadata": {},
   "outputs": [],
   "source": [
    "import pandas as pd\n",
    "import numpy as np\n",
    "import matplotlib.pyplot as plt\n",
    "import seaborn as sns"
   ]
  },
  {
   "cell_type": "markdown",
   "id": "3e7c3180",
   "metadata": {},
   "source": [
    "## Load and preview the dataset"
   ]
  },
  {
   "cell_type": "code",
   "execution_count": 2,
   "id": "38c1df54",
   "metadata": {},
   "outputs": [],
   "source": [
    "#Load the dataset\n",
    "df = pd.read_csv('/Users/dianaterraza/Desktop/webeet.io/data/high-school-directory.csv')"
   ]
  },
  {
   "cell_type": "code",
   "execution_count": 3,
   "id": "eeab8690",
   "metadata": {},
   "outputs": [
    {
     "data": {
      "text/html": [
       "<div>\n",
       "<style scoped>\n",
       "    .dataframe tbody tr th:only-of-type {\n",
       "        vertical-align: middle;\n",
       "    }\n",
       "\n",
       "    .dataframe tbody tr th {\n",
       "        vertical-align: top;\n",
       "    }\n",
       "\n",
       "    .dataframe thead th {\n",
       "        text-align: right;\n",
       "    }\n",
       "</style>\n",
       "<table border=\"1\" class=\"dataframe\">\n",
       "  <thead>\n",
       "    <tr style=\"text-align: right;\">\n",
       "      <th></th>\n",
       "      <th>dbn</th>\n",
       "      <th>school_name</th>\n",
       "      <th>borough</th>\n",
       "      <th>building_code</th>\n",
       "      <th>phone_number</th>\n",
       "      <th>fax_number</th>\n",
       "      <th>grade_span_min</th>\n",
       "      <th>grade_span_max</th>\n",
       "      <th>expgrade_span_min</th>\n",
       "      <th>expgrade_span_max</th>\n",
       "      <th>...</th>\n",
       "      <th>Council District</th>\n",
       "      <th>Census Tract</th>\n",
       "      <th>BIN</th>\n",
       "      <th>BBL</th>\n",
       "      <th>NTA</th>\n",
       "      <th>Zip Codes</th>\n",
       "      <th>Community Districts</th>\n",
       "      <th>Borough Boundaries</th>\n",
       "      <th>City Council Districts</th>\n",
       "      <th>Police Precincts</th>\n",
       "    </tr>\n",
       "  </thead>\n",
       "  <tbody>\n",
       "    <tr>\n",
       "      <th>0</th>\n",
       "      <td>27Q260</td>\n",
       "      <td>Frederick Douglass Academy VI High School</td>\n",
       "      <td>Queens</td>\n",
       "      <td>Q465</td>\n",
       "      <td>718-471-2154</td>\n",
       "      <td>718-471-2890</td>\n",
       "      <td>9.0</td>\n",
       "      <td>12</td>\n",
       "      <td>NaN</td>\n",
       "      <td>NaN</td>\n",
       "      <td>...</td>\n",
       "      <td>31.0</td>\n",
       "      <td>100802.0</td>\n",
       "      <td>4300730.0</td>\n",
       "      <td>4.157360e+09</td>\n",
       "      <td>Far Rockaway-Bayswater                        ...</td>\n",
       "      <td>20529.0</td>\n",
       "      <td>51</td>\n",
       "      <td>3</td>\n",
       "      <td>47</td>\n",
       "      <td>59</td>\n",
       "    </tr>\n",
       "    <tr>\n",
       "      <th>1</th>\n",
       "      <td>21K559</td>\n",
       "      <td>Life Academy High School for Film and Music</td>\n",
       "      <td>Brooklyn</td>\n",
       "      <td>K400</td>\n",
       "      <td>718-333-7750</td>\n",
       "      <td>718-333-7775</td>\n",
       "      <td>9.0</td>\n",
       "      <td>12</td>\n",
       "      <td>NaN</td>\n",
       "      <td>NaN</td>\n",
       "      <td>...</td>\n",
       "      <td>47.0</td>\n",
       "      <td>306.0</td>\n",
       "      <td>3186454.0</td>\n",
       "      <td>3.068830e+09</td>\n",
       "      <td>Gravesend                                     ...</td>\n",
       "      <td>17616.0</td>\n",
       "      <td>21</td>\n",
       "      <td>2</td>\n",
       "      <td>45</td>\n",
       "      <td>35</td>\n",
       "    </tr>\n",
       "    <tr>\n",
       "      <th>2</th>\n",
       "      <td>16K393</td>\n",
       "      <td>Frederick Douglass Academy IV Secondary School</td>\n",
       "      <td>Brooklyn</td>\n",
       "      <td>K026</td>\n",
       "      <td>718-574-2820</td>\n",
       "      <td>718-574-2821</td>\n",
       "      <td>9.0</td>\n",
       "      <td>12</td>\n",
       "      <td>NaN</td>\n",
       "      <td>NaN</td>\n",
       "      <td>...</td>\n",
       "      <td>36.0</td>\n",
       "      <td>291.0</td>\n",
       "      <td>3393805.0</td>\n",
       "      <td>3.016160e+09</td>\n",
       "      <td>Stuyvesant Heights                            ...</td>\n",
       "      <td>18181.0</td>\n",
       "      <td>69</td>\n",
       "      <td>2</td>\n",
       "      <td>49</td>\n",
       "      <td>52</td>\n",
       "    </tr>\n",
       "    <tr>\n",
       "      <th>3</th>\n",
       "      <td>08X305</td>\n",
       "      <td>Pablo Neruda Academy</td>\n",
       "      <td>Bronx</td>\n",
       "      <td>X450</td>\n",
       "      <td>718-824-1682</td>\n",
       "      <td>718-824-1663</td>\n",
       "      <td>9.0</td>\n",
       "      <td>12</td>\n",
       "      <td>NaN</td>\n",
       "      <td>NaN</td>\n",
       "      <td>...</td>\n",
       "      <td>18.0</td>\n",
       "      <td>16.0</td>\n",
       "      <td>2022205.0</td>\n",
       "      <td>2.036040e+09</td>\n",
       "      <td>Soundview-Castle Hill-Clason Point-Harding Par...</td>\n",
       "      <td>11611.0</td>\n",
       "      <td>58</td>\n",
       "      <td>5</td>\n",
       "      <td>31</td>\n",
       "      <td>26</td>\n",
       "    </tr>\n",
       "    <tr>\n",
       "      <th>4</th>\n",
       "      <td>03M485</td>\n",
       "      <td>Fiorello H. LaGuardia High School of Music &amp; A...</td>\n",
       "      <td>Manhattan</td>\n",
       "      <td>M485</td>\n",
       "      <td>212-496-0700</td>\n",
       "      <td>212-724-5748</td>\n",
       "      <td>9.0</td>\n",
       "      <td>12</td>\n",
       "      <td>NaN</td>\n",
       "      <td>NaN</td>\n",
       "      <td>...</td>\n",
       "      <td>6.0</td>\n",
       "      <td>151.0</td>\n",
       "      <td>1030341.0</td>\n",
       "      <td>1.011560e+09</td>\n",
       "      <td>Lincoln Square                                ...</td>\n",
       "      <td>12420.0</td>\n",
       "      <td>20</td>\n",
       "      <td>4</td>\n",
       "      <td>19</td>\n",
       "      <td>12</td>\n",
       "    </tr>\n",
       "    <tr>\n",
       "      <th>...</th>\n",
       "      <td>...</td>\n",
       "      <td>...</td>\n",
       "      <td>...</td>\n",
       "      <td>...</td>\n",
       "      <td>...</td>\n",
       "      <td>...</td>\n",
       "      <td>...</td>\n",
       "      <td>...</td>\n",
       "      <td>...</td>\n",
       "      <td>...</td>\n",
       "      <td>...</td>\n",
       "      <td>...</td>\n",
       "      <td>...</td>\n",
       "      <td>...</td>\n",
       "      <td>...</td>\n",
       "      <td>...</td>\n",
       "      <td>...</td>\n",
       "      <td>...</td>\n",
       "      <td>...</td>\n",
       "      <td>...</td>\n",
       "      <td>...</td>\n",
       "    </tr>\n",
       "    <tr>\n",
       "      <th>430</th>\n",
       "      <td>02M300</td>\n",
       "      <td>Urban Assembly School of Design and Constructi...</td>\n",
       "      <td>Manhattan</td>\n",
       "      <td>M535</td>\n",
       "      <td>212-586-0981</td>\n",
       "      <td>212-586-1731</td>\n",
       "      <td>9.0</td>\n",
       "      <td>12</td>\n",
       "      <td>NaN</td>\n",
       "      <td>NaN</td>\n",
       "      <td>...</td>\n",
       "      <td>3.0</td>\n",
       "      <td>135.0</td>\n",
       "      <td>1083802.0</td>\n",
       "      <td>1.010790e+09</td>\n",
       "      <td>Clinton                                       ...</td>\n",
       "      <td>12081.0</td>\n",
       "      <td>12</td>\n",
       "      <td>4</td>\n",
       "      <td>10</td>\n",
       "      <td>10</td>\n",
       "    </tr>\n",
       "    <tr>\n",
       "      <th>431</th>\n",
       "      <td>09X412</td>\n",
       "      <td>Bronx High School of Business</td>\n",
       "      <td>Bronx</td>\n",
       "      <td>X410</td>\n",
       "      <td>718-410-4060</td>\n",
       "      <td>718-992-5760</td>\n",
       "      <td>9.0</td>\n",
       "      <td>12</td>\n",
       "      <td>NaN</td>\n",
       "      <td>NaN</td>\n",
       "      <td>...</td>\n",
       "      <td>16.0</td>\n",
       "      <td>225.0</td>\n",
       "      <td>2007806.0</td>\n",
       "      <td>2.028170e+09</td>\n",
       "      <td>East Concourse-Concourse Village              ...</td>\n",
       "      <td>10935.0</td>\n",
       "      <td>50</td>\n",
       "      <td>5</td>\n",
       "      <td>42</td>\n",
       "      <td>27</td>\n",
       "    </tr>\n",
       "    <tr>\n",
       "      <th>432</th>\n",
       "      <td>32K549</td>\n",
       "      <td>Bushwick School for Social Justice</td>\n",
       "      <td>Brooklyn</td>\n",
       "      <td>K480</td>\n",
       "      <td>718-381-7100</td>\n",
       "      <td>718-418-0192</td>\n",
       "      <td>9.0</td>\n",
       "      <td>12</td>\n",
       "      <td>NaN</td>\n",
       "      <td>NaN</td>\n",
       "      <td>...</td>\n",
       "      <td>37.0</td>\n",
       "      <td>435.0</td>\n",
       "      <td>3076908.0</td>\n",
       "      <td>3.033650e+09</td>\n",
       "      <td>Bushwick North                                ...</td>\n",
       "      <td>18181.0</td>\n",
       "      <td>42</td>\n",
       "      <td>2</td>\n",
       "      <td>37</td>\n",
       "      <td>53</td>\n",
       "    </tr>\n",
       "    <tr>\n",
       "      <th>433</th>\n",
       "      <td>02M407</td>\n",
       "      <td>Institute for Collaborative Education</td>\n",
       "      <td>Manhattan</td>\n",
       "      <td>M475</td>\n",
       "      <td>212-475-7972</td>\n",
       "      <td>212-475-0459</td>\n",
       "      <td>6.0</td>\n",
       "      <td>12</td>\n",
       "      <td>NaN</td>\n",
       "      <td>NaN</td>\n",
       "      <td>...</td>\n",
       "      <td>2.0</td>\n",
       "      <td>48.0</td>\n",
       "      <td>1020419.0</td>\n",
       "      <td>1.009220e+09</td>\n",
       "      <td>Gramercy                                      ...</td>\n",
       "      <td>11724.0</td>\n",
       "      <td>71</td>\n",
       "      <td>4</td>\n",
       "      <td>50</td>\n",
       "      <td>7</td>\n",
       "    </tr>\n",
       "    <tr>\n",
       "      <th>434</th>\n",
       "      <td>21K344</td>\n",
       "      <td>Rachel Carson High School for Coastal Studies</td>\n",
       "      <td>Brooklyn</td>\n",
       "      <td>K303</td>\n",
       "      <td>718-265-0329</td>\n",
       "      <td>718-372-2514</td>\n",
       "      <td>9.0</td>\n",
       "      <td>12</td>\n",
       "      <td>NaN</td>\n",
       "      <td>NaN</td>\n",
       "      <td>...</td>\n",
       "      <td>47.0</td>\n",
       "      <td>354.0</td>\n",
       "      <td>3196292.0</td>\n",
       "      <td>3.072500e+09</td>\n",
       "      <td>West Brighton                                 ...</td>\n",
       "      <td>18184.0</td>\n",
       "      <td>21</td>\n",
       "      <td>2</td>\n",
       "      <td>45</td>\n",
       "      <td>35</td>\n",
       "    </tr>\n",
       "  </tbody>\n",
       "</table>\n",
       "<p>435 rows × 69 columns</p>\n",
       "</div>"
      ],
      "text/plain": [
       "        dbn                                        school_name    borough  \\\n",
       "0    27Q260          Frederick Douglass Academy VI High School     Queens   \n",
       "1    21K559        Life Academy High School for Film and Music   Brooklyn   \n",
       "2    16K393     Frederick Douglass Academy IV Secondary School   Brooklyn   \n",
       "3    08X305                               Pablo Neruda Academy      Bronx   \n",
       "4    03M485  Fiorello H. LaGuardia High School of Music & A...  Manhattan   \n",
       "..      ...                                                ...        ...   \n",
       "430  02M300  Urban Assembly School of Design and Constructi...  Manhattan   \n",
       "431  09X412                      Bronx High School of Business      Bronx   \n",
       "432  32K549                 Bushwick School for Social Justice   Brooklyn   \n",
       "433  02M407              Institute for Collaborative Education  Manhattan   \n",
       "434  21K344      Rachel Carson High School for Coastal Studies   Brooklyn   \n",
       "\n",
       "    building_code  phone_number    fax_number  grade_span_min  grade_span_max  \\\n",
       "0            Q465  718-471-2154  718-471-2890             9.0              12   \n",
       "1            K400  718-333-7750  718-333-7775             9.0              12   \n",
       "2            K026  718-574-2820  718-574-2821             9.0              12   \n",
       "3            X450  718-824-1682  718-824-1663             9.0              12   \n",
       "4            M485  212-496-0700  212-724-5748             9.0              12   \n",
       "..            ...           ...           ...             ...             ...   \n",
       "430          M535  212-586-0981  212-586-1731             9.0              12   \n",
       "431          X410  718-410-4060  718-992-5760             9.0              12   \n",
       "432          K480  718-381-7100  718-418-0192             9.0              12   \n",
       "433          M475  212-475-7972  212-475-0459             6.0              12   \n",
       "434          K303  718-265-0329  718-372-2514             9.0              12   \n",
       "\n",
       "     expgrade_span_min  expgrade_span_max  ... Council District Census Tract  \\\n",
       "0                  NaN                NaN  ...             31.0     100802.0   \n",
       "1                  NaN                NaN  ...             47.0        306.0   \n",
       "2                  NaN                NaN  ...             36.0        291.0   \n",
       "3                  NaN                NaN  ...             18.0         16.0   \n",
       "4                  NaN                NaN  ...              6.0        151.0   \n",
       "..                 ...                ...  ...              ...          ...   \n",
       "430                NaN                NaN  ...              3.0        135.0   \n",
       "431                NaN                NaN  ...             16.0        225.0   \n",
       "432                NaN                NaN  ...             37.0        435.0   \n",
       "433                NaN                NaN  ...              2.0         48.0   \n",
       "434                NaN                NaN  ...             47.0        354.0   \n",
       "\n",
       "           BIN           BBL  \\\n",
       "0    4300730.0  4.157360e+09   \n",
       "1    3186454.0  3.068830e+09   \n",
       "2    3393805.0  3.016160e+09   \n",
       "3    2022205.0  2.036040e+09   \n",
       "4    1030341.0  1.011560e+09   \n",
       "..         ...           ...   \n",
       "430  1083802.0  1.010790e+09   \n",
       "431  2007806.0  2.028170e+09   \n",
       "432  3076908.0  3.033650e+09   \n",
       "433  1020419.0  1.009220e+09   \n",
       "434  3196292.0  3.072500e+09   \n",
       "\n",
       "                                                   NTA  Zip Codes  \\\n",
       "0    Far Rockaway-Bayswater                        ...    20529.0   \n",
       "1    Gravesend                                     ...    17616.0   \n",
       "2    Stuyvesant Heights                            ...    18181.0   \n",
       "3    Soundview-Castle Hill-Clason Point-Harding Par...    11611.0   \n",
       "4    Lincoln Square                                ...    12420.0   \n",
       "..                                                 ...        ...   \n",
       "430  Clinton                                       ...    12081.0   \n",
       "431  East Concourse-Concourse Village              ...    10935.0   \n",
       "432  Bushwick North                                ...    18181.0   \n",
       "433  Gramercy                                      ...    11724.0   \n",
       "434  West Brighton                                 ...    18184.0   \n",
       "\n",
       "    Community Districts  Borough Boundaries City Council Districts  \\\n",
       "0                    51                   3                     47   \n",
       "1                    21                   2                     45   \n",
       "2                    69                   2                     49   \n",
       "3                    58                   5                     31   \n",
       "4                    20                   4                     19   \n",
       "..                  ...                 ...                    ...   \n",
       "430                  12                   4                     10   \n",
       "431                  50                   5                     42   \n",
       "432                  42                   2                     37   \n",
       "433                  71                   4                     50   \n",
       "434                  21                   2                     45   \n",
       "\n",
       "    Police Precincts  \n",
       "0                 59  \n",
       "1                 35  \n",
       "2                 52  \n",
       "3                 26  \n",
       "4                 12  \n",
       "..               ...  \n",
       "430               10  \n",
       "431               27  \n",
       "432               53  \n",
       "433                7  \n",
       "434               35  \n",
       "\n",
       "[435 rows x 69 columns]"
      ]
     },
     "execution_count": 3,
     "metadata": {},
     "output_type": "execute_result"
    }
   ],
   "source": [
    "df"
   ]
  },
  {
   "cell_type": "code",
   "execution_count": 4,
   "id": "0adbeef4",
   "metadata": {},
   "outputs": [
    {
     "data": {
      "text/html": [
       "<div>\n",
       "<style scoped>\n",
       "    .dataframe tbody tr th:only-of-type {\n",
       "        vertical-align: middle;\n",
       "    }\n",
       "\n",
       "    .dataframe tbody tr th {\n",
       "        vertical-align: top;\n",
       "    }\n",
       "\n",
       "    .dataframe thead th {\n",
       "        text-align: right;\n",
       "    }\n",
       "</style>\n",
       "<table border=\"1\" class=\"dataframe\">\n",
       "  <thead>\n",
       "    <tr style=\"text-align: right;\">\n",
       "      <th></th>\n",
       "      <th>dbn</th>\n",
       "      <th>school_name</th>\n",
       "      <th>borough</th>\n",
       "      <th>building_code</th>\n",
       "      <th>phone_number</th>\n",
       "      <th>fax_number</th>\n",
       "      <th>grade_span_min</th>\n",
       "      <th>grade_span_max</th>\n",
       "      <th>expgrade_span_min</th>\n",
       "      <th>expgrade_span_max</th>\n",
       "      <th>...</th>\n",
       "      <th>Council District</th>\n",
       "      <th>Census Tract</th>\n",
       "      <th>BIN</th>\n",
       "      <th>BBL</th>\n",
       "      <th>NTA</th>\n",
       "      <th>Zip Codes</th>\n",
       "      <th>Community Districts</th>\n",
       "      <th>Borough Boundaries</th>\n",
       "      <th>City Council Districts</th>\n",
       "      <th>Police Precincts</th>\n",
       "    </tr>\n",
       "  </thead>\n",
       "  <tbody>\n",
       "    <tr>\n",
       "      <th>0</th>\n",
       "      <td>27Q260</td>\n",
       "      <td>Frederick Douglass Academy VI High School</td>\n",
       "      <td>Queens</td>\n",
       "      <td>Q465</td>\n",
       "      <td>718-471-2154</td>\n",
       "      <td>718-471-2890</td>\n",
       "      <td>9.0</td>\n",
       "      <td>12</td>\n",
       "      <td>NaN</td>\n",
       "      <td>NaN</td>\n",
       "      <td>...</td>\n",
       "      <td>31.0</td>\n",
       "      <td>100802.0</td>\n",
       "      <td>4300730.0</td>\n",
       "      <td>4.157360e+09</td>\n",
       "      <td>Far Rockaway-Bayswater                        ...</td>\n",
       "      <td>20529.0</td>\n",
       "      <td>51</td>\n",
       "      <td>3</td>\n",
       "      <td>47</td>\n",
       "      <td>59</td>\n",
       "    </tr>\n",
       "    <tr>\n",
       "      <th>1</th>\n",
       "      <td>21K559</td>\n",
       "      <td>Life Academy High School for Film and Music</td>\n",
       "      <td>Brooklyn</td>\n",
       "      <td>K400</td>\n",
       "      <td>718-333-7750</td>\n",
       "      <td>718-333-7775</td>\n",
       "      <td>9.0</td>\n",
       "      <td>12</td>\n",
       "      <td>NaN</td>\n",
       "      <td>NaN</td>\n",
       "      <td>...</td>\n",
       "      <td>47.0</td>\n",
       "      <td>306.0</td>\n",
       "      <td>3186454.0</td>\n",
       "      <td>3.068830e+09</td>\n",
       "      <td>Gravesend                                     ...</td>\n",
       "      <td>17616.0</td>\n",
       "      <td>21</td>\n",
       "      <td>2</td>\n",
       "      <td>45</td>\n",
       "      <td>35</td>\n",
       "    </tr>\n",
       "    <tr>\n",
       "      <th>2</th>\n",
       "      <td>16K393</td>\n",
       "      <td>Frederick Douglass Academy IV Secondary School</td>\n",
       "      <td>Brooklyn</td>\n",
       "      <td>K026</td>\n",
       "      <td>718-574-2820</td>\n",
       "      <td>718-574-2821</td>\n",
       "      <td>9.0</td>\n",
       "      <td>12</td>\n",
       "      <td>NaN</td>\n",
       "      <td>NaN</td>\n",
       "      <td>...</td>\n",
       "      <td>36.0</td>\n",
       "      <td>291.0</td>\n",
       "      <td>3393805.0</td>\n",
       "      <td>3.016160e+09</td>\n",
       "      <td>Stuyvesant Heights                            ...</td>\n",
       "      <td>18181.0</td>\n",
       "      <td>69</td>\n",
       "      <td>2</td>\n",
       "      <td>49</td>\n",
       "      <td>52</td>\n",
       "    </tr>\n",
       "    <tr>\n",
       "      <th>3</th>\n",
       "      <td>08X305</td>\n",
       "      <td>Pablo Neruda Academy</td>\n",
       "      <td>Bronx</td>\n",
       "      <td>X450</td>\n",
       "      <td>718-824-1682</td>\n",
       "      <td>718-824-1663</td>\n",
       "      <td>9.0</td>\n",
       "      <td>12</td>\n",
       "      <td>NaN</td>\n",
       "      <td>NaN</td>\n",
       "      <td>...</td>\n",
       "      <td>18.0</td>\n",
       "      <td>16.0</td>\n",
       "      <td>2022205.0</td>\n",
       "      <td>2.036040e+09</td>\n",
       "      <td>Soundview-Castle Hill-Clason Point-Harding Par...</td>\n",
       "      <td>11611.0</td>\n",
       "      <td>58</td>\n",
       "      <td>5</td>\n",
       "      <td>31</td>\n",
       "      <td>26</td>\n",
       "    </tr>\n",
       "    <tr>\n",
       "      <th>4</th>\n",
       "      <td>03M485</td>\n",
       "      <td>Fiorello H. LaGuardia High School of Music &amp; A...</td>\n",
       "      <td>Manhattan</td>\n",
       "      <td>M485</td>\n",
       "      <td>212-496-0700</td>\n",
       "      <td>212-724-5748</td>\n",
       "      <td>9.0</td>\n",
       "      <td>12</td>\n",
       "      <td>NaN</td>\n",
       "      <td>NaN</td>\n",
       "      <td>...</td>\n",
       "      <td>6.0</td>\n",
       "      <td>151.0</td>\n",
       "      <td>1030341.0</td>\n",
       "      <td>1.011560e+09</td>\n",
       "      <td>Lincoln Square                                ...</td>\n",
       "      <td>12420.0</td>\n",
       "      <td>20</td>\n",
       "      <td>4</td>\n",
       "      <td>19</td>\n",
       "      <td>12</td>\n",
       "    </tr>\n",
       "  </tbody>\n",
       "</table>\n",
       "<p>5 rows × 69 columns</p>\n",
       "</div>"
      ],
      "text/plain": [
       "      dbn                                        school_name    borough  \\\n",
       "0  27Q260          Frederick Douglass Academy VI High School     Queens   \n",
       "1  21K559        Life Academy High School for Film and Music   Brooklyn   \n",
       "2  16K393     Frederick Douglass Academy IV Secondary School   Brooklyn   \n",
       "3  08X305                               Pablo Neruda Academy      Bronx   \n",
       "4  03M485  Fiorello H. LaGuardia High School of Music & A...  Manhattan   \n",
       "\n",
       "  building_code  phone_number    fax_number  grade_span_min  grade_span_max  \\\n",
       "0          Q465  718-471-2154  718-471-2890             9.0              12   \n",
       "1          K400  718-333-7750  718-333-7775             9.0              12   \n",
       "2          K026  718-574-2820  718-574-2821             9.0              12   \n",
       "3          X450  718-824-1682  718-824-1663             9.0              12   \n",
       "4          M485  212-496-0700  212-724-5748             9.0              12   \n",
       "\n",
       "   expgrade_span_min  expgrade_span_max  ... Council District Census Tract  \\\n",
       "0                NaN                NaN  ...             31.0     100802.0   \n",
       "1                NaN                NaN  ...             47.0        306.0   \n",
       "2                NaN                NaN  ...             36.0        291.0   \n",
       "3                NaN                NaN  ...             18.0         16.0   \n",
       "4                NaN                NaN  ...              6.0        151.0   \n",
       "\n",
       "         BIN           BBL                                                NTA  \\\n",
       "0  4300730.0  4.157360e+09  Far Rockaway-Bayswater                        ...   \n",
       "1  3186454.0  3.068830e+09  Gravesend                                     ...   \n",
       "2  3393805.0  3.016160e+09  Stuyvesant Heights                            ...   \n",
       "3  2022205.0  2.036040e+09  Soundview-Castle Hill-Clason Point-Harding Par...   \n",
       "4  1030341.0  1.011560e+09  Lincoln Square                                ...   \n",
       "\n",
       "   Zip Codes Community Districts  Borough Boundaries City Council Districts  \\\n",
       "0    20529.0                  51                   3                     47   \n",
       "1    17616.0                  21                   2                     45   \n",
       "2    18181.0                  69                   2                     49   \n",
       "3    11611.0                  58                   5                     31   \n",
       "4    12420.0                  20                   4                     19   \n",
       "\n",
       "  Police Precincts  \n",
       "0               59  \n",
       "1               35  \n",
       "2               52  \n",
       "3               26  \n",
       "4               12  \n",
       "\n",
       "[5 rows x 69 columns]"
      ]
     },
     "execution_count": 4,
     "metadata": {},
     "output_type": "execute_result"
    }
   ],
   "source": [
    "df.head()\n"
   ]
  },
  {
   "cell_type": "markdown",
   "id": "d5ce2b4e",
   "metadata": {},
   "source": [
    "## Clean column names"
   ]
  },
  {
   "cell_type": "code",
   "execution_count": 5,
   "id": "d5b005bb",
   "metadata": {},
   "outputs": [
    {
     "data": {
      "text/plain": [
       "Index(['dbn', 'school_name', 'borough', 'building_code', 'phone_number',\n",
       "       'fax_number', 'grade_span_min', 'grade_span_max', 'expgrade_span_min',\n",
       "       'expgrade_span_max', 'bus', 'subway', 'primary_address_line_1', 'city',\n",
       "       'state_code', 'postcode', 'website', 'total_students', 'campus_name',\n",
       "       'school_type', 'overview_paragraph', 'program_highlights',\n",
       "       'language_classes', 'advancedplacement_courses', 'online_ap_courses',\n",
       "       'online_language_courses', 'extracurricular_activities',\n",
       "       'psal_sports_boys', 'psal_sports_girls', 'psal_sports_coed',\n",
       "       'school_sports', 'partner_cbo', 'partner_hospital', 'partner_highered',\n",
       "       'partner_cultural', 'partner_nonprofit', 'partner_corporate',\n",
       "       'partner_financial', 'partner_other', 'addtl_info1', 'addtl_info2',\n",
       "       'start_time', 'end_time', 'se_services', 'ell_programs',\n",
       "       'school_accessibility_description', 'number_programs', 'priority01',\n",
       "       'priority02', 'priority03', 'priority04', 'priority05', 'priority06',\n",
       "       'priority07', 'priority08', 'priority09', 'priority10', 'Location 1',\n",
       "       'Community Board', 'Council District', 'Census Tract', 'BIN', 'BBL',\n",
       "       'NTA', 'Zip Codes', 'Community Districts', 'Borough Boundaries',\n",
       "       'City Council Districts', 'Police Precincts'],\n",
       "      dtype='object')"
      ]
     },
     "execution_count": 5,
     "metadata": {},
     "output_type": "execute_result"
    }
   ],
   "source": [
    "#Without cleaning the column names \n",
    "df.columns"
   ]
  },
  {
   "cell_type": "code",
   "execution_count": 6,
   "id": "2cbf8eed",
   "metadata": {},
   "outputs": [
    {
     "data": {
      "text/plain": [
       "Index(['dbn', 'school_name', 'borough', 'building_code', 'phone_number',\n",
       "       'fax_number', 'grade_span_min', 'grade_span_max', 'expgrade_span_min',\n",
       "       'expgrade_span_max', 'bus', 'subway', 'primary_address_line_1', 'city',\n",
       "       'state_code', 'postcode', 'website', 'total_students', 'campus_name',\n",
       "       'school_type', 'overview_paragraph', 'program_highlights',\n",
       "       'language_classes', 'advancedplacement_courses', 'online_ap_courses',\n",
       "       'online_language_courses', 'extracurricular_activities',\n",
       "       'psal_sports_boys', 'psal_sports_girls', 'psal_sports_coed',\n",
       "       'school_sports', 'partner_cbo', 'partner_hospital', 'partner_highered',\n",
       "       'partner_cultural', 'partner_nonprofit', 'partner_corporate',\n",
       "       'partner_financial', 'partner_other', 'addtl_info1', 'addtl_info2',\n",
       "       'start_time', 'end_time', 'se_services', 'ell_programs',\n",
       "       'school_accessibility_description', 'number_programs', 'priority01',\n",
       "       'priority02', 'priority03', 'priority04', 'priority05', 'priority06',\n",
       "       'priority07', 'priority08', 'priority09', 'priority10', 'location_1',\n",
       "       'community_board', 'council_district', 'census_tract', 'bin', 'bbl',\n",
       "       'nta', 'zip_codes', 'community_districts', 'borough_boundaries',\n",
       "       'city_council_districts', 'police_precincts'],\n",
       "      dtype='object')"
      ]
     },
     "execution_count": 6,
     "metadata": {},
     "output_type": "execute_result"
    }
   ],
   "source": [
    "df.columns = df.columns.str.strip().str.lower().str.replace(' ', '_').str.replace(r'[^\\w\\s]', '')\n",
    "df.columns"
   ]
  },
  {
   "cell_type": "code",
   "execution_count": 7,
   "id": "72f49184",
   "metadata": {},
   "outputs": [],
   "source": [
    "new_column_names = []"
   ]
  },
  {
   "cell_type": "code",
   "execution_count": 8,
   "id": "c9f7eee4",
   "metadata": {},
   "outputs": [
    {
     "name": "stdout",
     "output_type": "stream",
     "text": [
      "police_precincts appended to new_col_names\n"
     ]
    }
   ],
   "source": [
    "for col in df.columns:\n",
    "    stripped_name = col.lower().strip().replace(' ', '_')\n",
    "    new_column_names.append(stripped_name)\n",
    "print(stripped_name, 'appended to new_col_names')"
   ]
  },
  {
   "cell_type": "code",
   "execution_count": 9,
   "id": "d2077f38",
   "metadata": {},
   "outputs": [
    {
     "data": {
      "text/plain": [
       "['dbn',\n",
       " 'school_name',\n",
       " 'borough',\n",
       " 'building_code',\n",
       " 'phone_number',\n",
       " 'fax_number',\n",
       " 'grade_span_min',\n",
       " 'grade_span_max',\n",
       " 'expgrade_span_min',\n",
       " 'expgrade_span_max',\n",
       " 'bus',\n",
       " 'subway',\n",
       " 'primary_address_line_1',\n",
       " 'city',\n",
       " 'state_code',\n",
       " 'postcode',\n",
       " 'website',\n",
       " 'total_students',\n",
       " 'campus_name',\n",
       " 'school_type',\n",
       " 'overview_paragraph',\n",
       " 'program_highlights',\n",
       " 'language_classes',\n",
       " 'advancedplacement_courses',\n",
       " 'online_ap_courses',\n",
       " 'online_language_courses',\n",
       " 'extracurricular_activities',\n",
       " 'psal_sports_boys',\n",
       " 'psal_sports_girls',\n",
       " 'psal_sports_coed',\n",
       " 'school_sports',\n",
       " 'partner_cbo',\n",
       " 'partner_hospital',\n",
       " 'partner_highered',\n",
       " 'partner_cultural',\n",
       " 'partner_nonprofit',\n",
       " 'partner_corporate',\n",
       " 'partner_financial',\n",
       " 'partner_other',\n",
       " 'addtl_info1',\n",
       " 'addtl_info2',\n",
       " 'start_time',\n",
       " 'end_time',\n",
       " 'se_services',\n",
       " 'ell_programs',\n",
       " 'school_accessibility_description',\n",
       " 'number_programs',\n",
       " 'priority01',\n",
       " 'priority02',\n",
       " 'priority03',\n",
       " 'priority04',\n",
       " 'priority05',\n",
       " 'priority06',\n",
       " 'priority07',\n",
       " 'priority08',\n",
       " 'priority09',\n",
       " 'priority10',\n",
       " 'location_1',\n",
       " 'community_board',\n",
       " 'council_district',\n",
       " 'census_tract',\n",
       " 'bin',\n",
       " 'bbl',\n",
       " 'nta',\n",
       " 'zip_codes',\n",
       " 'community_districts',\n",
       " 'borough_boundaries',\n",
       " 'city_council_districts',\n",
       " 'police_precincts']"
      ]
     },
     "execution_count": 9,
     "metadata": {},
     "output_type": "execute_result"
    }
   ],
   "source": [
    "new_column_names"
   ]
  },
  {
   "cell_type": "code",
   "execution_count": 10,
   "id": "19a7af56",
   "metadata": {},
   "outputs": [
    {
     "data": {
      "text/plain": [
       "dbn                        object\n",
       "school_name                object\n",
       "borough                    object\n",
       "building_code              object\n",
       "phone_number               object\n",
       "                           ...   \n",
       "zip_codes                 float64\n",
       "community_districts         int64\n",
       "borough_boundaries          int64\n",
       "city_council_districts      int64\n",
       "police_precincts            int64\n",
       "Length: 69, dtype: object"
      ]
     },
     "execution_count": 10,
     "metadata": {},
     "output_type": "execute_result"
    }
   ],
   "source": [
    "df.dtypes"
   ]
  },
  {
   "cell_type": "markdown",
   "id": "5d37eee0",
   "metadata": {},
   "source": [
    "## Group and summarize:"
   ]
  },
  {
   "cell_type": "markdown",
   "id": "3211c69e",
   "metadata": {},
   "source": [
    "### How many total schools are in Brooklyn?"
   ]
  },
  {
   "cell_type": "code",
   "execution_count": 11,
   "id": "99b6a588",
   "metadata": {},
   "outputs": [
    {
     "data": {
      "text/plain": [
       "dbn                       121\n",
       "school_name               121\n",
       "borough                   121\n",
       "building_code             121\n",
       "phone_number              121\n",
       "                         ... \n",
       "zip_codes                 121\n",
       "community_districts       121\n",
       "borough_boundaries        121\n",
       "city_council_districts    121\n",
       "police_precincts          121\n",
       "Length: 69, dtype: int64"
      ]
     },
     "execution_count": 11,
     "metadata": {},
     "output_type": "execute_result"
    }
   ],
   "source": [
    "brooklyn_schools = df[df['borough'] == 'Brooklyn']\n",
    "brooklyn_schools.count()"
   ]
  },
  {
   "cell_type": "markdown",
   "id": "b368e1c3",
   "metadata": {},
   "source": [
    "### How many offer Grade 9 entry?"
   ]
  },
  {
   "cell_type": "code",
   "execution_count": 12,
   "id": "20f35088",
   "metadata": {},
   "outputs": [
    {
     "data": {
      "text/plain": [
       "dbn                       351\n",
       "school_name               351\n",
       "borough                   351\n",
       "building_code             351\n",
       "phone_number              351\n",
       "                         ... \n",
       "zip_codes                 350\n",
       "community_districts       351\n",
       "borough_boundaries        351\n",
       "city_council_districts    351\n",
       "police_precincts          351\n",
       "Length: 69, dtype: int64"
      ]
     },
     "execution_count": 12,
     "metadata": {},
     "output_type": "execute_result"
    }
   ],
   "source": [
    "grade_9_schools = df[df[\"grade_span_min\"] == 9]\n",
    "grade_9_schools.count()"
   ]
  },
  {
   "cell_type": "markdown",
   "id": "2517f8ed",
   "metadata": {},
   "source": [
    "### Count of schools per borough"
   ]
  },
  {
   "cell_type": "code",
   "execution_count": 13,
   "id": "144818d7",
   "metadata": {},
   "outputs": [
    {
     "data": {
      "text/plain": [
       "borough\n",
       "Bronx            118\n",
       "Brooklyn         121\n",
       "Manhattan        106\n",
       "Queens            80\n",
       "Staten Island     10\n",
       "Name: dbn, dtype: int64"
      ]
     },
     "execution_count": 13,
     "metadata": {},
     "output_type": "execute_result"
    }
   ],
   "source": [
    "schools_per_borough = df.groupby(\"borough\")[\"dbn\"].count()\n",
    "schools_per_borough"
   ]
  },
  {
   "cell_type": "markdown",
   "id": "bfe7b1ee",
   "metadata": {},
   "source": [
    "### Average number of students per borough"
   ]
  },
  {
   "cell_type": "code",
   "execution_count": 14,
   "id": "fd400f18",
   "metadata": {},
   "outputs": [],
   "source": [
    "# Calculate the average number of students per borough\n",
    "if 'total_students' in df.columns:\n",
    "    avg_students_per_borough = df.groupby(\"borough\")[\"total_students\"].mean()\n",
    "else:\n",
    "    avg_students_per_borough = \"Columna 'total_students' no encontrada en el dataset.\""
   ]
  },
  {
   "cell_type": "code",
   "execution_count": 15,
   "id": "a256a34f",
   "metadata": {},
   "outputs": [
    {
     "data": {
      "text/plain": [
       "borough\n",
       "Bronx             490.406780\n",
       "Brooklyn          699.134454\n",
       "Manhattan         589.825243\n",
       "Queens           1046.644737\n",
       "Staten Island    1847.500000\n",
       "Name: total_students, dtype: float64"
      ]
     },
     "execution_count": 15,
     "metadata": {},
     "output_type": "execute_result"
    }
   ],
   "source": [
    "avg_students_per_borough"
   ]
  },
  {
   "cell_type": "markdown",
   "id": "68e45250",
   "metadata": {},
   "source": [
    "### Summary of grade_span_max grouped by borough"
   ]
  },
  {
   "cell_type": "code",
   "execution_count": 16,
   "id": "b2884c46",
   "metadata": {},
   "outputs": [
    {
     "name": "stdout",
     "output_type": "stream",
     "text": [
      "\n",
      "Summary of grade_span_max grouped by borough:\n",
      "                count       mean       std   min   25%   50%   75%   max\n",
      "borough                                                                \n",
      "Bronx          118.0  11.906780  0.369506   9.0  12.0  12.0  12.0  12.0\n",
      "Brooklyn       121.0  11.933884  0.381566   9.0  12.0  12.0  12.0  12.0\n",
      "Manhattan      106.0  11.877358  0.472135   9.0  12.0  12.0  12.0  12.0\n",
      "Queens          80.0  11.825000  0.497462  10.0  12.0  12.0  12.0  12.0\n",
      "Staten Island   10.0  12.000000  0.000000  12.0  12.0  12.0  12.0  12.0\n"
     ]
    }
   ],
   "source": [
    "grade_span_summary = df.groupby(\"borough\")[\"grade_span_max\"].describe()\n",
    "print(\"\\nSummary of grade_span_max grouped by borough:\\n\", grade_span_summary)"
   ]
  },
  {
   "cell_type": "markdown",
   "id": "f114d181",
   "metadata": {},
   "source": [
    "### Total students per Borough"
   ]
  },
  {
   "cell_type": "code",
   "execution_count": 17,
   "id": "d9256c6a",
   "metadata": {},
   "outputs": [
    {
     "data": {
      "text/plain": [
       "borough\n",
       "Bronx            57868.0\n",
       "Brooklyn         83197.0\n",
       "Manhattan        60752.0\n",
       "Queens           79545.0\n",
       "Staten Island    18475.0\n",
       "Name: total_students, dtype: float64"
      ]
     },
     "execution_count": 17,
     "metadata": {},
     "output_type": "execute_result"
    }
   ],
   "source": [
    "df.groupby('borough')['total_students'].sum()"
   ]
  },
  {
   "cell_type": "code",
   "execution_count": 18,
   "id": "f67e98c4",
   "metadata": {},
   "outputs": [
    {
     "data": {
      "text/plain": [
       "borough\n",
       "Bronx            118\n",
       "Brooklyn         121\n",
       "Manhattan        106\n",
       "Queens            80\n",
       "Staten Island     10\n",
       "Name: dbn, dtype: int64"
      ]
     },
     "execution_count": 18,
     "metadata": {},
     "output_type": "execute_result"
    }
   ],
   "source": [
    "df.groupby(['borough'])['dbn'].nunique() "
   ]
  },
  {
   "cell_type": "code",
   "execution_count": 19,
   "id": "289db176",
   "metadata": {},
   "outputs": [],
   "source": [
    "# Grouped summaries\n",
    "borough_summary = df.groupby('borough').agg(\n",
    "    total_students=('total_students', 'sum'),\n",
    "    ap_schools=('advancedplacement_courses', lambda x: x.notna().sum()),\n",
    "    ell_schools=('ell_programs', lambda x: x.notna().sum()),\n",
    "    num_schools=('school_name', 'count')\n",
    ").reset_index()"
   ]
  },
  {
   "cell_type": "code",
   "execution_count": 20,
   "id": "6526f348",
   "metadata": {},
   "outputs": [
    {
     "data": {
      "text/plain": [
       "Index(['dbn', 'school_name', 'borough', 'building_code', 'phone_number',\n",
       "       'fax_number', 'grade_span_min', 'grade_span_max', 'expgrade_span_min',\n",
       "       'expgrade_span_max', 'bus', 'subway', 'primary_address_line_1', 'city',\n",
       "       'state_code', 'postcode', 'website', 'total_students', 'campus_name',\n",
       "       'school_type', 'overview_paragraph', 'program_highlights',\n",
       "       'language_classes', 'advancedplacement_courses', 'online_ap_courses',\n",
       "       'online_language_courses', 'extracurricular_activities',\n",
       "       'psal_sports_boys', 'psal_sports_girls', 'psal_sports_coed',\n",
       "       'school_sports', 'partner_cbo', 'partner_hospital', 'partner_highered',\n",
       "       'partner_cultural', 'partner_nonprofit', 'partner_corporate',\n",
       "       'partner_financial', 'partner_other', 'addtl_info1', 'addtl_info2',\n",
       "       'start_time', 'end_time', 'se_services', 'ell_programs',\n",
       "       'school_accessibility_description', 'number_programs', 'priority01',\n",
       "       'priority02', 'priority03', 'priority04', 'priority05', 'priority06',\n",
       "       'priority07', 'priority08', 'priority09', 'priority10', 'location_1',\n",
       "       'community_board', 'council_district', 'census_tract', 'bin', 'bbl',\n",
       "       'nta', 'zip_codes', 'community_districts', 'borough_boundaries',\n",
       "       'city_council_districts', 'police_precincts'],\n",
       "      dtype='object')"
      ]
     },
     "execution_count": 20,
     "metadata": {},
     "output_type": "execute_result"
    }
   ],
   "source": [
    "df.columns"
   ]
  },
  {
   "cell_type": "code",
   "execution_count": 21,
   "id": "00394152",
   "metadata": {},
   "outputs": [
    {
     "data": {
      "text/html": [
       "<div>\n",
       "<style scoped>\n",
       "    .dataframe tbody tr th:only-of-type {\n",
       "        vertical-align: middle;\n",
       "    }\n",
       "\n",
       "    .dataframe tbody tr th {\n",
       "        vertical-align: top;\n",
       "    }\n",
       "\n",
       "    .dataframe thead th {\n",
       "        text-align: right;\n",
       "    }\n",
       "</style>\n",
       "<table border=\"1\" class=\"dataframe\">\n",
       "  <thead>\n",
       "    <tr style=\"text-align: right;\">\n",
       "      <th></th>\n",
       "      <th>total_students</th>\n",
       "      <th>ap_schools</th>\n",
       "      <th>ell_schools</th>\n",
       "      <th>num_schools</th>\n",
       "      <th>avg_students_per_school</th>\n",
       "    </tr>\n",
       "  </thead>\n",
       "  <tbody>\n",
       "    <tr>\n",
       "      <th>count</th>\n",
       "      <td>5.000000</td>\n",
       "      <td>5.000000</td>\n",
       "      <td>5.000000</td>\n",
       "      <td>5.000000</td>\n",
       "      <td>5.000000</td>\n",
       "    </tr>\n",
       "    <tr>\n",
       "      <th>mean</th>\n",
       "      <td>59967.400000</td>\n",
       "      <td>68.000000</td>\n",
       "      <td>87.000000</td>\n",
       "      <td>87.000000</td>\n",
       "      <td>918.585974</td>\n",
       "    </tr>\n",
       "    <tr>\n",
       "      <th>std</th>\n",
       "      <td>25736.836797</td>\n",
       "      <td>34.088121</td>\n",
       "      <td>45.978256</td>\n",
       "      <td>45.978256</td>\n",
       "      <td>553.320892</td>\n",
       "    </tr>\n",
       "    <tr>\n",
       "      <th>min</th>\n",
       "      <td>18475.000000</td>\n",
       "      <td>10.000000</td>\n",
       "      <td>10.000000</td>\n",
       "      <td>10.000000</td>\n",
       "      <td>490.406780</td>\n",
       "    </tr>\n",
       "    <tr>\n",
       "      <th>25%</th>\n",
       "      <td>57868.000000</td>\n",
       "      <td>65.000000</td>\n",
       "      <td>80.000000</td>\n",
       "      <td>80.000000</td>\n",
       "      <td>573.132075</td>\n",
       "    </tr>\n",
       "    <tr>\n",
       "      <th>50%</th>\n",
       "      <td>60752.000000</td>\n",
       "      <td>85.000000</td>\n",
       "      <td>106.000000</td>\n",
       "      <td>106.000000</td>\n",
       "      <td>687.578512</td>\n",
       "    </tr>\n",
       "    <tr>\n",
       "      <th>75%</th>\n",
       "      <td>79545.000000</td>\n",
       "      <td>87.000000</td>\n",
       "      <td>118.000000</td>\n",
       "      <td>118.000000</td>\n",
       "      <td>994.312500</td>\n",
       "    </tr>\n",
       "    <tr>\n",
       "      <th>max</th>\n",
       "      <td>83197.000000</td>\n",
       "      <td>93.000000</td>\n",
       "      <td>121.000000</td>\n",
       "      <td>121.000000</td>\n",
       "      <td>1847.500000</td>\n",
       "    </tr>\n",
       "  </tbody>\n",
       "</table>\n",
       "</div>"
      ],
      "text/plain": [
       "       total_students  ap_schools  ell_schools  num_schools  \\\n",
       "count        5.000000    5.000000     5.000000     5.000000   \n",
       "mean     59967.400000   68.000000    87.000000    87.000000   \n",
       "std      25736.836797   34.088121    45.978256    45.978256   \n",
       "min      18475.000000   10.000000    10.000000    10.000000   \n",
       "25%      57868.000000   65.000000    80.000000    80.000000   \n",
       "50%      60752.000000   85.000000   106.000000   106.000000   \n",
       "75%      79545.000000   87.000000   118.000000   118.000000   \n",
       "max      83197.000000   93.000000   121.000000   121.000000   \n",
       "\n",
       "       avg_students_per_school  \n",
       "count                 5.000000  \n",
       "mean                918.585974  \n",
       "std                 553.320892  \n",
       "min                 490.406780  \n",
       "25%                 573.132075  \n",
       "50%                 687.578512  \n",
       "75%                 994.312500  \n",
       "max                1847.500000  "
      ]
     },
     "execution_count": 21,
     "metadata": {},
     "output_type": "execute_result"
    }
   ],
   "source": [
    "# Compute average students per school\n",
    "borough_summary['avg_students_per_school'] = borough_summary['total_students'] / borough_summary['num_schools']\n",
    "borough_summary.describe()"
   ]
  },
  {
   "cell_type": "markdown",
   "id": "7b20bb15",
   "metadata": {},
   "source": [
    "## Visualizations"
   ]
  },
  {
   "cell_type": "markdown",
   "id": "6507457d",
   "metadata": {},
   "source": [
    "### Bar chart: Number of schools per borough"
   ]
  },
  {
   "cell_type": "code",
   "execution_count": 22,
   "id": "e53108b0",
   "metadata": {},
   "outputs": [
    {
     "data": {
      "image/png": "[encoded data removed]",
      "text/plain": [
       "<Figure size 1000x600 with 1 Axes>"
      ]
     },
     "metadata": {},
     "output_type": "display_data"
    }
   ],
   "source": [
    "#Bar chart: Number of schools per borough\n",
    "plt.figure(figsize=(10, 6))\n",
    "sns.barplot(x=schools_per_borough.index, y=schools_per_borough.values,color='yellow')\n",
    "plt.title(\"Number of Schools Offering Grade 9 Entry per Borough\")\n",
    "plt.xlabel(\"Borough\")\n",
    "plt.ylabel(\"Number of Schools\")\n",
    "plt.xticks(rotation=45)\n",
    "plt.tight_layout()\n",
    "plt.show()"
   ]
  },
  {
   "cell_type": "markdown",
   "id": "9d4ed48f",
   "metadata": {},
   "source": [
    "### Total Students by Borough"
   ]
  },
  {
   "cell_type": "code",
   "execution_count": 23,
   "id": "7250e4bb",
   "metadata": {},
   "outputs": [
    {
     "data": {
      "image/png": "[encoded data removed]",
      "text/plain": [
       "<Figure size 800x600 with 1 Axes>"
      ]
     },
     "metadata": {},
     "output_type": "display_data"
    }
   ],
   "source": [
    "# --- Visualization 1: Total Students by Borough ---\n",
    "plt.figure(figsize=(8, 6))\n",
    "plt.bar(borough_summary['borough'], borough_summary['total_students'], color='orange')\n",
    "plt.title('Total Students by Borough')\n",
    "plt.xlabel('Borough')\n",
    "plt.ylabel('Total Students')\n",
    "plt.xticks(rotation=45)\n",
    "plt.tight_layout()\n",
    "plt.show()"
   ]
  },
  {
   "cell_type": "code",
   "execution_count": 24,
   "id": "416980e7",
   "metadata": {},
   "outputs": [
    {
     "data": {
      "image/png": "[encoded data removed]",
      "text/plain": [
       "<Figure size 800x600 with 1 Axes>"
      ]
     },
     "metadata": {},
     "output_type": "display_data"
    }
   ],
   "source": [
    "# --- Visualization 3: Average Students per School by Borough ---\n",
    "plt.figure(figsize=(8, 6))\n",
    "plt.bar(borough_summary['borough'], borough_summary['avg_students_per_school'], color='gold')\n",
    "plt.title('Average Students per School by Borough')\n",
    "plt.xlabel('Borough')\n",
    "plt.ylabel('Average Students')\n",
    "plt.xticks(rotation=45)\n",
    "plt.tight_layout()\n",
    "plt.show()"
   ]
  },
  {
   "cell_type": "markdown",
   "id": "99881694",
   "metadata": {},
   "source": [
    "### 💡 Insights \n",
    "\n",
    "* Brooklyn has the highest number of students (83,197) and the most schools (121), indicating a large, diverse educational landscape.\n",
    "* Manhattan has a balanced profile with 60,752 students across 106 schools, likely indicating smaller school sizes on average.\n",
    "* Staten Island has the fewest students (18,475) and the fewest schools (10), pointing to a more limited educational network but the biggest average student per borought.\n",
    "* Bronx has the less avgerave students "
   ]
  }
 ],
 "metadata": {
  "kernelspec": {
   "display_name": ".venv",
   "language": "python",
   "name": "python3"
  },
  "language_info": {
   "codemirror_mode": {
    "name": "ipython",
    "version": 3
   },
   "file_extension": ".py",
   "mimetype": "text/x-python",
   "name": "python",
   "nbconvert_exporter": "python",
   "pygments_lexer": "ipython3",
   "version": "3.13.3"
  }
 },
 "nbformat": 4,
 "nbformat_minor": 5
}
