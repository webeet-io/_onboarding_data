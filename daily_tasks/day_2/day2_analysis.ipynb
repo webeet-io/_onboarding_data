{
  "cells": [
    {
      "cell_type": "markdown",
      "metadata": {
        "id": "7erPibs20ImJ"
      },
      "source": [
        "##1. Read the file and check"
      ]
    },
    {
      "cell_type": "code",
      "execution_count": 1,
      "metadata": {
        "id": "0nqdFp14aR5K"
      },
      "outputs": [],
      "source": [
        "import pandas as pd\n",
        "import re\n",
        "\n",
        "import matplotlib.pyplot as plt\n",
        "import seaborn as sns\n"
      ]
    },
    {
      "cell_type": "code",
      "execution_count": 2,
      "metadata": {},
      "outputs": [
        {
          "name": "stdout",
          "output_type": "stream",
          "text": [
            "Requirement already satisfied: jinja2 in c:\\users\\user\\appdata\\local\\programs\\python\\python313\\lib\\site-packages (3.1.6)\n",
            "Requirement already satisfied: MarkupSafe>=2.0 in c:\\users\\user\\appdata\\local\\programs\\python\\python313\\lib\\site-packages (from jinja2) (3.0.2)\n",
            "Note: you may need to restart the kernel to use updated packages.\n"
          ]
        },
        {
          "name": "stderr",
          "output_type": "stream",
          "text": [
            "\n",
            "[notice] A new release of pip is available: 25.0.1 -> 25.2\n",
            "[notice] To update, run: python.exe -m pip install --upgrade pip\n"
          ]
        }
      ],
      "source": [
        "pip install jinja2"
      ]
    },
    {
      "cell_type": "code",
      "execution_count": 3,
      "metadata": {
        "colab": {
          "base_uri": "https://localhost:8080/"
        },
        "collapsed": true,
        "id": "ODO2q5ZH1S3H",
        "outputId": "f5a00238-6434-4e30-d328-98eb87703e7e"
      },
      "outputs": [
        {
          "name": "stdout",
          "output_type": "stream",
          "text": [
            "Index(['dbn', 'school_name', 'borough', 'building_code', 'phone_number',\n",
            "       'fax_number', 'grade_span_min', 'grade_span_max', 'expgrade_span_min',\n",
            "       'expgrade_span_max', 'bus', 'subway', 'primary_address_line_1', 'city',\n",
            "       'state_code', 'postcode', 'website', 'total_students', 'campus_name',\n",
            "       'school_type', 'overview_paragraph', 'program_highlights',\n",
            "       'language_classes', 'advancedplacement_courses', 'online_ap_courses',\n",
            "       'online_language_courses', 'extracurricular_activities',\n",
            "       'psal_sports_boys', 'psal_sports_girls', 'psal_sports_coed',\n",
            "       'school_sports', 'partner_cbo', 'partner_hospital', 'partner_highered',\n",
            "       'partner_cultural', 'partner_nonprofit', 'partner_corporate',\n",
            "       'partner_financial', 'partner_other', 'addtl_info1', 'addtl_info2',\n",
            "       'start_time', 'end_time', 'se_services', 'ell_programs',\n",
            "       'school_accessibility_description', 'number_programs', 'priority01',\n",
            "       'priority02', 'priority03', 'priority04', 'priority05', 'priority06',\n",
            "       'priority07', 'priority08', 'priority09', 'priority10', 'Location 1',\n",
            "       'Community Board', 'Council District', 'Census Tract', 'BIN', 'BBL',\n",
            "       'NTA', 'Zip Codes', 'Community Districts', 'Borough Boundaries',\n",
            "       'City Council Districts', 'Police Precincts'],\n",
            "      dtype='object')\n",
            "      dbn                                        school_name    borough  \\\n",
            "0  27Q260          Frederick Douglass Academy VI High School     Queens   \n",
            "1  21K559        Life Academy High School for Film and Music   Brooklyn   \n",
            "2  16K393     Frederick Douglass Academy IV Secondary School   Brooklyn   \n",
            "3  08X305                               Pablo Neruda Academy      Bronx   \n",
            "4  03M485  Fiorello H. LaGuardia High School of Music & A...  Manhattan   \n",
            "\n",
            "  building_code  phone_number    fax_number  grade_span_min  grade_span_max  \\\n",
            "0          Q465  718-471-2154  718-471-2890             9.0              12   \n",
            "1          K400  718-333-7750  718-333-7775             9.0              12   \n",
            "2          K026  718-574-2820  718-574-2821             9.0              12   \n",
            "3          X450  718-824-1682  718-824-1663             9.0              12   \n",
            "4          M485  212-496-0700  212-724-5748             9.0              12   \n",
            "\n",
            "   expgrade_span_min  expgrade_span_max  ... Council District Census Tract  \\\n",
            "0                NaN                NaN  ...             31.0     100802.0   \n",
            "1                NaN                NaN  ...             47.0        306.0   \n",
            "2                NaN                NaN  ...             36.0        291.0   \n",
            "3                NaN                NaN  ...             18.0         16.0   \n",
            "4                NaN                NaN  ...              6.0        151.0   \n",
            "\n",
            "         BIN           BBL                                                NTA  \\\n",
            "0  4300730.0  4.157360e+09  Far Rockaway-Bayswater                        ...   \n",
            "1  3186454.0  3.068830e+09  Gravesend                                     ...   \n",
            "2  3393805.0  3.016160e+09  Stuyvesant Heights                            ...   \n",
            "3  2022205.0  2.036040e+09  Soundview-Castle Hill-Clason Point-Harding Par...   \n",
            "4  1030341.0  1.011560e+09  Lincoln Square                                ...   \n",
            "\n",
            "   Zip Codes Community Districts  Borough Boundaries City Council Districts  \\\n",
            "0    20529.0                  51                   3                     47   \n",
            "1    17616.0                  21                   2                     45   \n",
            "2    18181.0                  69                   2                     49   \n",
            "3    11611.0                  58                   5                     31   \n",
            "4    12420.0                  20                   4                     19   \n",
            "\n",
            "  Police Precincts  \n",
            "0               59  \n",
            "1               35  \n",
            "2               52  \n",
            "3               26  \n",
            "4               12  \n",
            "\n",
            "[5 rows x 69 columns]\n"
          ]
        }
      ],
      "source": [
        "df = pd.read_csv('high-school-directory.csv')\n",
        "print(df.columns)\n",
        "print(df.head())\n"
      ]
    },
    {
      "cell_type": "markdown",
      "metadata": {
        "id": "Y-SdQD9v0Xvs"
      },
      "source": [
        "##2. Clean column names"
      ]
    },
    {
      "cell_type": "code",
      "execution_count": 4,
      "metadata": {
        "colab": {
          "base_uri": "https://localhost:8080/"
        },
        "id": "ZdoMW3jPiwLQ",
        "outputId": "4e6c69f4-2056-4e60-bb3a-c6b5a3d3f54b"
      },
      "outputs": [
        {
          "name": "stdout",
          "output_type": "stream",
          "text": [
            "['dbn', 'school_name', 'borough', 'building_code', 'phone_number', 'fax_number', 'grade_span_min', 'grade_span_max', 'expgrade_span_min', 'expgrade_span_max', 'bus', 'subway', 'primary_address_line_1', 'city', 'state_code', 'postcode', 'website', 'total_students', 'campus_name', 'school_type', 'overview_paragraph', 'program_highlights', 'language_classes', 'advancedplacement_courses', 'online_ap_courses', 'online_language_courses', 'extracurricular_activities', 'psal_sports_boys', 'psal_sports_girls', 'psal_sports_coed', 'school_sports', 'partner_cbo', 'partner_hospital', 'partner_highered', 'partner_cultural', 'partner_nonprofit', 'partner_corporate', 'partner_financial', 'partner_other', 'addtl_info1', 'addtl_info2', 'start_time', 'end_time', 'se_services', 'ell_programs', 'school_accessibility_description', 'number_programs', 'priority01', 'priority02', 'priority03', 'priority04', 'priority05', 'priority06', 'priority07', 'priority08', 'priority09', 'priority10', 'location_1', 'community_board', 'council_district', 'census_tract', 'bin', 'bbl', 'nta', 'zip_codes', 'community_districts', 'borough_boundaries', 'city_council_districts', 'police_precincts']\n"
          ]
        }
      ],
      "source": [
        "def clean_column_names(df):\n",
        "    df.columns = [\n",
        "        re.sub(r'[^a-z0-9_]', '', col.lower().replace(' ', '_'))\n",
        "        for col in df.columns\n",
        "    ]\n",
        "    return df\n",
        "\n",
        "df = clean_column_names(df)\n",
        "\n",
        "print(df.columns.tolist())"
      ]
    },
    {
      "cell_type": "markdown",
      "metadata": {
        "id": "OTEDSV2A0oF4"
      },
      "source": [
        "##3. Basic Review of the Dataset"
      ]
    },
    {
      "cell_type": "code",
      "execution_count": 5,
      "metadata": {
        "colab": {
          "base_uri": "https://localhost:8080/",
          "height": 1000
        },
        "collapsed": true,
        "id": "lH2PDVCtkk_c",
        "outputId": "012bce30-7d45-45bb-a339-d44c85105429"
      },
      "outputs": [
        {
          "name": "stdout",
          "output_type": "stream",
          "text": [
            "<class 'pandas.core.frame.DataFrame'>\n",
            "RangeIndex: 435 entries, 0 to 434\n",
            "Data columns (total 69 columns):\n",
            " #   Column                            Non-Null Count  Dtype  \n",
            "---  ------                            --------------  -----  \n",
            " 0   dbn                               435 non-null    object \n",
            " 1   school_name                       435 non-null    object \n",
            " 2   borough                           435 non-null    object \n",
            " 3   building_code                     435 non-null    object \n",
            " 4   phone_number                      435 non-null    object \n",
            " 5   fax_number                        423 non-null    object \n",
            " 6   grade_span_min                    432 non-null    float64\n",
            " 7   grade_span_max                    435 non-null    int64  \n",
            " 8   expgrade_span_min                 31 non-null     float64\n",
            " 9   expgrade_span_max                 33 non-null     float64\n",
            " 10  bus                               434 non-null    object \n",
            " 11  subway                            358 non-null    object \n",
            " 12  primary_address_line_1            435 non-null    object \n",
            " 13  city                              435 non-null    object \n",
            " 14  state_code                        435 non-null    object \n",
            " 15  postcode                          435 non-null    int64  \n",
            " 16  website                           430 non-null    object \n",
            " 17  total_students                    426 non-null    float64\n",
            " 18  campus_name                       217 non-null    object \n",
            " 19  school_type                       104 non-null    object \n",
            " 20  overview_paragraph                434 non-null    object \n",
            " 21  program_highlights                434 non-null    object \n",
            " 22  language_classes                  412 non-null    object \n",
            " 23  advancedplacement_courses         340 non-null    object \n",
            " 24  online_ap_courses                 64 non-null     object \n",
            " 25  online_language_courses           73 non-null     object \n",
            " 26  extracurricular_activities        435 non-null    object \n",
            " 27  psal_sports_boys                  373 non-null    object \n",
            " 28  psal_sports_girls                 373 non-null    object \n",
            " 29  psal_sports_coed                  147 non-null    object \n",
            " 30  school_sports                     297 non-null    object \n",
            " 31  partner_cbo                       354 non-null    object \n",
            " 32  partner_hospital                  196 non-null    object \n",
            " 33  partner_highered                  378 non-null    object \n",
            " 34  partner_cultural                  305 non-null    object \n",
            " 35  partner_nonprofit                 297 non-null    object \n",
            " 36  partner_corporate                 198 non-null    object \n",
            " 37  partner_financial                 72 non-null     object \n",
            " 38  partner_other                     187 non-null    object \n",
            " 39  addtl_info1                       354 non-null    object \n",
            " 40  addtl_info2                       229 non-null    object \n",
            " 41  start_time                        431 non-null    object \n",
            " 42  end_time                          431 non-null    object \n",
            " 43  se_services                       435 non-null    object \n",
            " 44  ell_programs                      435 non-null    object \n",
            " 45  school_accessibility_description  435 non-null    object \n",
            " 46  number_programs                   435 non-null    int64  \n",
            " 47  priority01                        435 non-null    object \n",
            " 48  priority02                        352 non-null    object \n",
            " 49  priority03                        243 non-null    object \n",
            " 50  priority04                        177 non-null    object \n",
            " 51  priority05                        39 non-null     object \n",
            " 52  priority06                        17 non-null     object \n",
            " 53  priority07                        4 non-null      object \n",
            " 54  priority08                        1 non-null      object \n",
            " 55  priority09                        1 non-null      object \n",
            " 56  priority10                        1 non-null      object \n",
            " 57  location_1                        435 non-null    object \n",
            " 58  community_board                   432 non-null    float64\n",
            " 59  council_district                  432 non-null    float64\n",
            " 60  census_tract                      432 non-null    float64\n",
            " 61  bin                               431 non-null    float64\n",
            " 62  bbl                               431 non-null    float64\n",
            " 63  nta                               432 non-null    object \n",
            " 64  zip_codes                         434 non-null    float64\n",
            " 65  community_districts               435 non-null    int64  \n",
            " 66  borough_boundaries                435 non-null    int64  \n",
            " 67  city_council_districts            435 non-null    int64  \n",
            " 68  police_precincts                  435 non-null    int64  \n",
            "dtypes: float64(10), int64(7), object(52)\n",
            "memory usage: 234.6+ KB\n"
          ]
        },
        {
          "data": {
            "text/html": [
              "<div>\n",
              "<style scoped>\n",
              "    .dataframe tbody tr th:only-of-type {\n",
              "        vertical-align: middle;\n",
              "    }\n",
              "\n",
              "    .dataframe tbody tr th {\n",
              "        vertical-align: top;\n",
              "    }\n",
              "\n",
              "    .dataframe thead th {\n",
              "        text-align: right;\n",
              "    }\n",
              "</style>\n",
              "<table border=\"1\" class=\"dataframe\">\n",
              "  <thead>\n",
              "    <tr style=\"text-align: right;\">\n",
              "      <th></th>\n",
              "      <th>count</th>\n",
              "      <th>unique</th>\n",
              "      <th>top</th>\n",
              "      <th>freq</th>\n",
              "      <th>mean</th>\n",
              "      <th>std</th>\n",
              "      <th>min</th>\n",
              "      <th>25%</th>\n",
              "      <th>50%</th>\n",
              "      <th>75%</th>\n",
              "      <th>max</th>\n",
              "    </tr>\n",
              "  </thead>\n",
              "  <tbody>\n",
              "    <tr>\n",
              "      <th>dbn</th>\n",
              "      <td>435</td>\n",
              "      <td>435</td>\n",
              "      <td>21K344</td>\n",
              "      <td>1</td>\n",
              "      <td>NaN</td>\n",
              "      <td>NaN</td>\n",
              "      <td>NaN</td>\n",
              "      <td>NaN</td>\n",
              "      <td>NaN</td>\n",
              "      <td>NaN</td>\n",
              "      <td>NaN</td>\n",
              "    </tr>\n",
              "    <tr>\n",
              "      <th>school_name</th>\n",
              "      <td>435</td>\n",
              "      <td>435</td>\n",
              "      <td>Rachel Carson High School for Coastal Studies</td>\n",
              "      <td>1</td>\n",
              "      <td>NaN</td>\n",
              "      <td>NaN</td>\n",
              "      <td>NaN</td>\n",
              "      <td>NaN</td>\n",
              "      <td>NaN</td>\n",
              "      <td>NaN</td>\n",
              "      <td>NaN</td>\n",
              "    </tr>\n",
              "    <tr>\n",
              "      <th>borough</th>\n",
              "      <td>435</td>\n",
              "      <td>5</td>\n",
              "      <td>Brooklyn</td>\n",
              "      <td>121</td>\n",
              "      <td>NaN</td>\n",
              "      <td>NaN</td>\n",
              "      <td>NaN</td>\n",
              "      <td>NaN</td>\n",
              "      <td>NaN</td>\n",
              "      <td>NaN</td>\n",
              "      <td>NaN</td>\n",
              "    </tr>\n",
              "    <tr>\n",
              "      <th>building_code</th>\n",
              "      <td>435</td>\n",
              "      <td>256</td>\n",
              "      <td>X450</td>\n",
              "      <td>6</td>\n",
              "      <td>NaN</td>\n",
              "      <td>NaN</td>\n",
              "      <td>NaN</td>\n",
              "      <td>NaN</td>\n",
              "      <td>NaN</td>\n",
              "      <td>NaN</td>\n",
              "      <td>NaN</td>\n",
              "    </tr>\n",
              "    <tr>\n",
              "      <th>phone_number</th>\n",
              "      <td>435</td>\n",
              "      <td>427</td>\n",
              "      <td>718-381-7100</td>\n",
              "      <td>4</td>\n",
              "      <td>NaN</td>\n",
              "      <td>NaN</td>\n",
              "      <td>NaN</td>\n",
              "      <td>NaN</td>\n",
              "      <td>NaN</td>\n",
              "      <td>NaN</td>\n",
              "      <td>NaN</td>\n",
              "    </tr>\n",
              "    <tr>\n",
              "      <th>...</th>\n",
              "      <td>...</td>\n",
              "      <td>...</td>\n",
              "      <td>...</td>\n",
              "      <td>...</td>\n",
              "      <td>...</td>\n",
              "      <td>...</td>\n",
              "      <td>...</td>\n",
              "      <td>...</td>\n",
              "      <td>...</td>\n",
              "      <td>...</td>\n",
              "      <td>...</td>\n",
              "    </tr>\n",
              "    <tr>\n",
              "      <th>zip_codes</th>\n",
              "      <td>434.0</td>\n",
              "      <td>NaN</td>\n",
              "      <td>NaN</td>\n",
              "      <td>NaN</td>\n",
              "      <td>14232.228111</td>\n",
              "      <td>3529.272774</td>\n",
              "      <td>10090.0</td>\n",
              "      <td>11606.0</td>\n",
              "      <td>13093.0</td>\n",
              "      <td>16865.75</td>\n",
              "      <td>24669.0</td>\n",
              "    </tr>\n",
              "    <tr>\n",
              "      <th>community_districts</th>\n",
              "      <td>435.0</td>\n",
              "      <td>NaN</td>\n",
              "      <td>NaN</td>\n",
              "      <td>NaN</td>\n",
              "      <td>38.372414</td>\n",
              "      <td>19.345374</td>\n",
              "      <td>1.0</td>\n",
              "      <td>22.0</td>\n",
              "      <td>39.0</td>\n",
              "      <td>53.5</td>\n",
              "      <td>71.0</td>\n",
              "    </tr>\n",
              "    <tr>\n",
              "      <th>borough_boundaries</th>\n",
              "      <td>435.0</td>\n",
              "      <td>NaN</td>\n",
              "      <td>NaN</td>\n",
              "      <td>NaN</td>\n",
              "      <td>3.452874</td>\n",
              "      <td>1.212249</td>\n",
              "      <td>1.0</td>\n",
              "      <td>2.0</td>\n",
              "      <td>4.0</td>\n",
              "      <td>5.0</td>\n",
              "      <td>5.0</td>\n",
              "    </tr>\n",
              "    <tr>\n",
              "      <th>city_council_districts</th>\n",
              "      <td>435.0</td>\n",
              "      <td>NaN</td>\n",
              "      <td>NaN</td>\n",
              "      <td>NaN</td>\n",
              "      <td>28.832184</td>\n",
              "      <td>14.209488</td>\n",
              "      <td>1.0</td>\n",
              "      <td>17.0</td>\n",
              "      <td>32.0</td>\n",
              "      <td>40.0</td>\n",
              "      <td>51.0</td>\n",
              "    </tr>\n",
              "    <tr>\n",
              "      <th>police_precincts</th>\n",
              "      <td>435.0</td>\n",
              "      <td>NaN</td>\n",
              "      <td>NaN</td>\n",
              "      <td>NaN</td>\n",
              "      <td>36.949425</td>\n",
              "      <td>21.10752</td>\n",
              "      <td>1.0</td>\n",
              "      <td>23.0</td>\n",
              "      <td>34.0</td>\n",
              "      <td>54.0</td>\n",
              "      <td>77.0</td>\n",
              "    </tr>\n",
              "  </tbody>\n",
              "</table>\n",
              "<p>69 rows × 11 columns</p>\n",
              "</div>"
            ],
            "text/plain": [
              "                        count unique  \\\n",
              "dbn                       435    435   \n",
              "school_name               435    435   \n",
              "borough                   435      5   \n",
              "building_code             435    256   \n",
              "phone_number              435    427   \n",
              "...                       ...    ...   \n",
              "zip_codes               434.0    NaN   \n",
              "community_districts     435.0    NaN   \n",
              "borough_boundaries      435.0    NaN   \n",
              "city_council_districts  435.0    NaN   \n",
              "police_precincts        435.0    NaN   \n",
              "\n",
              "                                                                  top freq  \\\n",
              "dbn                                                            21K344    1   \n",
              "school_name             Rachel Carson High School for Coastal Studies    1   \n",
              "borough                                                      Brooklyn  121   \n",
              "building_code                                                    X450    6   \n",
              "phone_number                                             718-381-7100    4   \n",
              "...                                                               ...  ...   \n",
              "zip_codes                                                         NaN  NaN   \n",
              "community_districts                                               NaN  NaN   \n",
              "borough_boundaries                                                NaN  NaN   \n",
              "city_council_districts                                            NaN  NaN   \n",
              "police_precincts                                                  NaN  NaN   \n",
              "\n",
              "                                mean          std      min      25%      50%  \\\n",
              "dbn                              NaN          NaN      NaN      NaN      NaN   \n",
              "school_name                      NaN          NaN      NaN      NaN      NaN   \n",
              "borough                          NaN          NaN      NaN      NaN      NaN   \n",
              "building_code                    NaN          NaN      NaN      NaN      NaN   \n",
              "phone_number                     NaN          NaN      NaN      NaN      NaN   \n",
              "...                              ...          ...      ...      ...      ...   \n",
              "zip_codes               14232.228111  3529.272774  10090.0  11606.0  13093.0   \n",
              "community_districts        38.372414    19.345374      1.0     22.0     39.0   \n",
              "borough_boundaries          3.452874     1.212249      1.0      2.0      4.0   \n",
              "city_council_districts     28.832184    14.209488      1.0     17.0     32.0   \n",
              "police_precincts           36.949425     21.10752      1.0     23.0     34.0   \n",
              "\n",
              "                             75%      max  \n",
              "dbn                          NaN      NaN  \n",
              "school_name                  NaN      NaN  \n",
              "borough                      NaN      NaN  \n",
              "building_code                NaN      NaN  \n",
              "phone_number                 NaN      NaN  \n",
              "...                          ...      ...  \n",
              "zip_codes               16865.75  24669.0  \n",
              "community_districts         53.5     71.0  \n",
              "borough_boundaries           5.0      5.0  \n",
              "city_council_districts      40.0     51.0  \n",
              "police_precincts            54.0     77.0  \n",
              "\n",
              "[69 rows x 11 columns]"
            ]
          },
          "execution_count": 5,
          "metadata": {},
          "output_type": "execute_result"
        }
      ],
      "source": [
        "df.info()\n",
        "df.describe(include='all').T"
      ]
    },
    {
      "cell_type": "markdown",
      "metadata": {
        "id": "XXO5daqhZ8as"
      },
      "source": [
        "### 3.1 Answer Questions"
      ]
    },
    {
      "cell_type": "code",
      "execution_count": 6,
      "metadata": {
        "colab": {
          "base_uri": "https://localhost:8080/"
        },
        "id": "dU20E86IaEaN",
        "outputId": "522cd4b1-77e8-45ad-d341-7ec6f6ff1333"
      },
      "outputs": [
        {
          "name": "stdout",
          "output_type": "stream",
          "text": [
            "Total schools in Brooklyn: 121\n"
          ]
        }
      ],
      "source": [
        "brooklyn_schools = df[df['borough'] == 'Brooklyn']\n",
        "total_brooklyn_schools = brooklyn_schools.shape[0]\n",
        "print(f\"Total schools in Brooklyn: {total_brooklyn_schools}\")"
      ]
    },
    {
      "cell_type": "code",
      "execution_count": 7,
      "metadata": {
        "colab": {
          "base_uri": "https://localhost:8080/"
        },
        "id": "elYHEd0eaVHX",
        "outputId": "79fd71c0-d551-42eb-f46b-919979f01c1e"
      },
      "outputs": [
        {
          "name": "stdout",
          "output_type": "stream",
          "text": [
            "Brooklyn schools offering Grade 9 entry: 121\n"
          ]
        }
      ],
      "source": [
        "brooklyn_grade9 = brooklyn_schools[\n",
        "    (brooklyn_schools['grade_span_min'] <= 9) &\n",
        "    (brooklyn_schools['grade_span_max'] >= 9)\n",
        "]\n",
        "\n",
        "grade9_count = brooklyn_grade9.shape[0]\n",
        "print(f\"Brooklyn schools offering Grade 9 entry: {grade9_count}\")\n"
      ]
    },
    {
      "cell_type": "code",
      "execution_count": 8,
      "metadata": {
        "colab": {
          "base_uri": "https://localhost:8080/"
        },
        "id": "iPDemZIFapjj",
        "outputId": "ac7338a4-1423-4f8b-9937-187b5de0a56f"
      },
      "outputs": [
        {
          "name": "stdout",
          "output_type": "stream",
          "text": [
            "borough\n",
            "Brooklyn         121\n",
            "Bronx            118\n",
            "Manhattan        106\n",
            "Queens            80\n",
            "Staten Island     10\n",
            "Name: count, dtype: int64\n"
          ]
        }
      ],
      "source": [
        "schools_per_borough = df['borough'].value_counts().sort_values(ascending=False)\n",
        "print(schools_per_borough)\n"
      ]
    },
    {
      "cell_type": "code",
      "execution_count": 9,
      "metadata": {
        "colab": {
          "base_uri": "https://localhost:8080/"
        },
        "id": "ETaRQKGwawFj",
        "outputId": "6c6e5f99-494c-427e-9e85-255359edab42"
      },
      "outputs": [
        {
          "name": "stdout",
          "output_type": "stream",
          "text": [
            "borough\n",
            "Bronx             490.4\n",
            "Brooklyn          699.1\n",
            "Manhattan         589.8\n",
            "Queens           1046.6\n",
            "Staten Island    1847.5\n",
            "Name: total_students, dtype: float64\n"
          ]
        }
      ],
      "source": [
        "avg_students = df.groupby('borough')['total_students'].mean().round(1)\n",
        "print(avg_students)\n"
      ]
    },
    {
      "cell_type": "code",
      "execution_count": 10,
      "metadata": {
        "colab": {
          "base_uri": "https://localhost:8080/"
        },
        "id": "NHnB7CNxa4k9",
        "outputId": "dfcbda25-18e8-4912-e52d-2bc282516dee"
      },
      "outputs": [
        {
          "name": "stdout",
          "output_type": "stream",
          "text": [
            "               count       mean       std   min   25%   50%   75%   max\n",
            "borough                                                                \n",
            "Bronx          118.0  11.906780  0.369506   9.0  12.0  12.0  12.0  12.0\n",
            "Brooklyn       121.0  11.933884  0.381566   9.0  12.0  12.0  12.0  12.0\n",
            "Manhattan      106.0  11.877358  0.472135   9.0  12.0  12.0  12.0  12.0\n",
            "Queens          80.0  11.825000  0.497462  10.0  12.0  12.0  12.0  12.0\n",
            "Staten Island   10.0  12.000000  0.000000  12.0  12.0  12.0  12.0  12.0\n"
          ]
        }
      ],
      "source": [
        "grade_span_summary = df.groupby('borough')['grade_span_max'].describe()\n",
        "print(grade_span_summary)\n"
      ]
    },
    {
      "cell_type": "code",
      "execution_count": 11,
      "metadata": {
        "colab": {
          "base_uri": "https://localhost:8080/",
          "height": 506
        },
        "id": "Yr1duok5bHFo",
        "outputId": "83be26d8-e1d4-4d40-c623-1cfeb234ffb1"
      },
      "outputs": [
        {
          "data": {
            "image/png": "[encoded data removed]",
            "text/plain": [
              "<Figure size 800x500 with 1 Axes>"
            ]
          },
          "metadata": {},
          "output_type": "display_data"
        }
      ],
      "source": [
        "schools_per_borough.plot(kind='bar', figsize=(8, 5))\n",
        "\n",
        "plt.title('Number of Schools per Borough')\n",
        "plt.xlabel('Borough')\n",
        "plt.ylabel('Number of Schools')\n",
        "plt.xticks(rotation=45)\n",
        "plt.tight_layout()\n",
        "plt.show()"
      ]
    },
    {
      "cell_type": "code",
      "execution_count": 12,
      "metadata": {
        "colab": {
          "base_uri": "https://localhost:8080/",
          "height": 507
        },
        "id": "cFUqY_g3cu1o",
        "outputId": "a0fc93d7-2c69-45ce-8032-4a27bfabefa8"
      },
      "outputs": [
        {
          "data": {
            "image/png": "[encoded data removed]",
            "text/plain": [
              "<Figure size 800x500 with 1 Axes>"
            ]
          },
          "metadata": {},
          "output_type": "display_data"
        }
      ],
      "source": [
        "# Bar chart: Average number of students\n",
        "avg_students.sort_values().plot(kind='barh', figsize=(8, 5), color='skyblue')\n",
        "\n",
        "plt.title('Average Number of Students per School (by Borough)')\n",
        "plt.xlabel('Average Students')\n",
        "plt.ylabel('Borough')\n",
        "plt.tight_layout()\n",
        "plt.show()\n"
      ]
    },
    {
      "cell_type": "markdown",
      "metadata": {
        "id": "b67YOrLGcI0C"
      },
      "source": [
        "#SUMMARY:\n",
        "## 📊 Brooklyn High School Summary\n",
        "\n",
        "### Key Findings:\n",
        "\n",
        "- **Total Schools in Brooklyn**: 121\n",
        "- **Schools Offering Grade 9 Entry**: 121 (🔁 All schools in Brooklyn offer entry at Grade 9)\n",
        "\n",
        "### Borough-Level Comparison:\n",
        "\n",
        "- **Number of Schools per Borough**:\n",
        "  - Brooklyn: 121\n",
        "  - Bronx: 118\n",
        "  - Manhattan: 106\n",
        "  - Queens: 80\n",
        "  - Staten Island: 10\n",
        "\n",
        "- **Average Number of Students per School**:\n",
        "  - Staten Island: 1,847.5\n",
        "  - Queens: 1,046.6\n",
        "  - Brooklyn: 699.1\n",
        "  - Manhattan: 589.8\n",
        "  - Bronx: 490.4\n",
        "\n",
        "- **Grade Span (Maximum Grade Offered)**:\n",
        "  - All boroughs predominantly offer up to **Grade 12**\n",
        "  - Staten Island schools **uniformly** end at Grade 12\n",
        "  - Queens has slightly more variation (min: Grade 10)\n",
        "\n",
        "Brooklyn stands out by having the **highest number of schools**, all offering **Grade 9 entry**, and an average school size larger than Manhattan and the Bronx, but smaller than Queens and Staten Island.\n"
      ]
    },
    {
      "cell_type": "markdown",
      "metadata": {
        "id": "TdGjoneicVlE"
      },
      "source": [
        "# ADDITIONAL ANALYSIS"
      ]
    },
    {
      "cell_type": "markdown",
      "metadata": {
        "id": "3YMNKKFl1C3M"
      },
      "source": [
        "## 4. Boroughs Summaries"
      ]
    },
    {
      "cell_type": "code",
      "execution_count": 13,
      "metadata": {
        "colab": {
          "base_uri": "https://localhost:8080/",
          "height": 237
        },
        "id": "AAGBNOYvnVmg",
        "outputId": "468cd020-cd50-4adb-8548-c50d55c1fd3b"
      },
      "outputs": [
        {
          "data": {
            "text/html": [
              "<style type=\"text/css\">\n",
              "</style>\n",
              "<table id=\"T_6c318\">\n",
              "  <thead>\n",
              "    <tr>\n",
              "      <th class=\"blank level0\" >&nbsp;</th>\n",
              "      <th id=\"T_6c318_level0_col0\" class=\"col_heading level0 col0\" >num_schools</th>\n",
              "      <th id=\"T_6c318_level0_col1\" class=\"col_heading level0 col1\" >total_students</th>\n",
              "    </tr>\n",
              "    <tr>\n",
              "      <th class=\"index_name level0\" >borough</th>\n",
              "      <th class=\"blank col0\" >&nbsp;</th>\n",
              "      <th class=\"blank col1\" >&nbsp;</th>\n",
              "    </tr>\n",
              "  </thead>\n",
              "  <tbody>\n",
              "    <tr>\n",
              "      <th id=\"T_6c318_level0_row0\" class=\"row_heading level0 row0\" >Brooklyn</th>\n",
              "      <td id=\"T_6c318_row0_col0\" class=\"data row0 col0\" >121</td>\n",
              "      <td id=\"T_6c318_row0_col1\" class=\"data row0 col1\" >83,197</td>\n",
              "    </tr>\n",
              "    <tr>\n",
              "      <th id=\"T_6c318_level0_row1\" class=\"row_heading level0 row1\" >Queens</th>\n",
              "      <td id=\"T_6c318_row1_col0\" class=\"data row1 col0\" >80</td>\n",
              "      <td id=\"T_6c318_row1_col1\" class=\"data row1 col1\" >79,545</td>\n",
              "    </tr>\n",
              "    <tr>\n",
              "      <th id=\"T_6c318_level0_row2\" class=\"row_heading level0 row2\" >Manhattan</th>\n",
              "      <td id=\"T_6c318_row2_col0\" class=\"data row2 col0\" >106</td>\n",
              "      <td id=\"T_6c318_row2_col1\" class=\"data row2 col1\" >60,752</td>\n",
              "    </tr>\n",
              "    <tr>\n",
              "      <th id=\"T_6c318_level0_row3\" class=\"row_heading level0 row3\" >Bronx</th>\n",
              "      <td id=\"T_6c318_row3_col0\" class=\"data row3 col0\" >118</td>\n",
              "      <td id=\"T_6c318_row3_col1\" class=\"data row3 col1\" >57,868</td>\n",
              "    </tr>\n",
              "    <tr>\n",
              "      <th id=\"T_6c318_level0_row4\" class=\"row_heading level0 row4\" >Staten Island</th>\n",
              "      <td id=\"T_6c318_row4_col0\" class=\"data row4 col0\" >10</td>\n",
              "      <td id=\"T_6c318_row4_col1\" class=\"data row4 col1\" >18,475</td>\n",
              "    </tr>\n",
              "  </tbody>\n",
              "</table>\n"
            ],
            "text/plain": [
              "<pandas.io.formats.style.Styler at 0x1d289789a90>"
            ]
          },
          "execution_count": 13,
          "metadata": {},
          "output_type": "execute_result"
        }
      ],
      "source": [
        "borough_summary = df.groupby('borough').agg(\n",
        "    num_schools=('dbn', 'count'),\n",
        "    total_students=('total_students', 'sum')\n",
        ").sort_values(by='total_students', ascending=False)\n",
        "\n",
        "# Display with thousands separator\n",
        "borough_summary.style.format({'total_students': '{:,.0f}'})"
      ]
    },
    {
      "cell_type": "markdown",
      "metadata": {
        "id": "hXC9Y5DJMrTl"
      },
      "source": [
        "## 5. School Types and English Learners"
      ]
    },
    {
      "cell_type": "code",
      "execution_count": 14,
      "metadata": {
        "colab": {
          "base_uri": "https://localhost:8080/"
        },
        "id": "xLEufivOCZvE",
        "outputId": "e5af1053-f0c4-48ba-c7d9-e204e08fbc54"
      },
      "outputs": [
        {
          "name": "stdout",
          "output_type": "stream",
          "text": [
            "school_type\n",
            "Unknown                             331\n",
            "CTE School                           36\n",
            "Consortium School                    17\n",
            "International School                 12\n",
            "Specialized School                    9\n",
            "All-Girls School                      8\n",
            "New School                            6\n",
            "NYC P-Tech 9-14 School                3\n",
            "All-Boys School                       3\n",
            "NYC P-Tech 9-14, New School           3\n",
            "Consortium, International School      3\n",
            "CTE - New School                      2\n",
            "CTE, New School                       1\n",
            "CTE, International School             1\n",
            "Name: count, dtype: int64\n"
          ]
        }
      ],
      "source": [
        "df['school_type'] = df['school_type'].fillna('Unknown')\n",
        "school_types = df['school_type'].value_counts()\n",
        "print(school_types)\n",
        "\n"
      ]
    },
    {
      "cell_type": "code",
      "execution_count": 15,
      "metadata": {
        "colab": {
          "base_uri": "https://localhost:8080/",
          "height": 429
        },
        "id": "Tnm_DfeUA_h-",
        "outputId": "391c9c58-c67b-480d-b12b-5251c9c72980"
      },
      "outputs": [
        {
          "data": {
            "text/plain": [
              "ell_programs\n",
              "ESL                                                                                            392\n",
              "ESL; Transitional Bilingual Program: Spanish                                                    23\n",
              "ESL; Transitional Bilingual Program: Chinese, Spanish                                            7\n",
              "ESL; Transitional Bilingual Program: Chinese                                                     3\n",
              "ESL; Dual Language: Spanish                                                                      3\n",
              "ESL; Dual Language: Chinese; Transitional Bilingual Program: Chinese                             2\n",
              "ESL; Dual Language: Spanish; Transitional Bilingual Program: Spanish                             2\n",
              "ESL; Dual Language: Haitian Creole, Russian; Transitional Bilingual Program: Haitian Creole      1\n",
              "ESL; Transitional Bilingual Program: Arabic, Chinese, Spanish                                    1\n",
              "ESL; Transitional Bilingual Program: Bengali, Spanish                                            1\n",
              "Name: count, dtype: int64"
            ]
          },
          "execution_count": 15,
          "metadata": {},
          "output_type": "execute_result"
        }
      ],
      "source": [
        "df[\"ell_programs\"].value_counts()"
      ]
    },
    {
      "cell_type": "code",
      "execution_count": 16,
      "metadata": {
        "id": "B5r9RJ-qDmy8"
      },
      "outputs": [],
      "source": [
        "# Basic ESL flag (almost all schools)\n",
        "df['has_esl'] = df['ell_programs'].str.startswith('ESL', na=False)\n",
        "\n",
        "# \"Advanced ELL\" = any program with more than just ESL\n",
        "df['has_advanced_ell'] = df['ell_programs'].str.contains(';', na=False)"
      ]
    },
    {
      "cell_type": "markdown",
      "metadata": {
        "id": "psfK_Uch1c4e"
      },
      "source": [
        "## 6.  Visualization of Advanced ELL Support by Borough\n",
        "\n",
        "- **Queens** stands out with the highest *number* and *percentage* of schools offering advanced ELL programs.\n",
        "- **Staten Island** has low total numbers, but still a decent proportion (10%) of schools with bilingual/dual language options.\n",
        "- The rest of the boroughs hover around 7–9%, indicating room for growth in multilingual education support.\n"
      ]
    },
    {
      "cell_type": "code",
      "execution_count": 17,
      "metadata": {
        "colab": {
          "base_uri": "https://localhost:8080/",
          "height": 237
        },
        "id": "nm9wlW43EI4B",
        "outputId": "53608c0e-e4bf-4ccf-a499-f66259b19c83"
      },
      "outputs": [
        {
          "data": {
            "text/html": [
              "<div>\n",
              "<style scoped>\n",
              "    .dataframe tbody tr th:only-of-type {\n",
              "        vertical-align: middle;\n",
              "    }\n",
              "\n",
              "    .dataframe tbody tr th {\n",
              "        vertical-align: top;\n",
              "    }\n",
              "\n",
              "    .dataframe thead th {\n",
              "        text-align: right;\n",
              "    }\n",
              "</style>\n",
              "<table border=\"1\" class=\"dataframe\">\n",
              "  <thead>\n",
              "    <tr style=\"text-align: right;\">\n",
              "      <th></th>\n",
              "      <th>total_schools</th>\n",
              "      <th>ell_schools</th>\n",
              "      <th>advanced_ell_schools</th>\n",
              "      <th>%_offering_ell</th>\n",
              "      <th>%_advanced_ell</th>\n",
              "    </tr>\n",
              "    <tr>\n",
              "      <th>borough</th>\n",
              "      <th></th>\n",
              "      <th></th>\n",
              "      <th></th>\n",
              "      <th></th>\n",
              "      <th></th>\n",
              "    </tr>\n",
              "  </thead>\n",
              "  <tbody>\n",
              "    <tr>\n",
              "      <th>Queens</th>\n",
              "      <td>80</td>\n",
              "      <td>80</td>\n",
              "      <td>14</td>\n",
              "      <td>100.0</td>\n",
              "      <td>17.5</td>\n",
              "    </tr>\n",
              "    <tr>\n",
              "      <th>Brooklyn</th>\n",
              "      <td>121</td>\n",
              "      <td>121</td>\n",
              "      <td>10</td>\n",
              "      <td>100.0</td>\n",
              "      <td>8.3</td>\n",
              "    </tr>\n",
              "    <tr>\n",
              "      <th>Bronx</th>\n",
              "      <td>118</td>\n",
              "      <td>118</td>\n",
              "      <td>9</td>\n",
              "      <td>100.0</td>\n",
              "      <td>7.6</td>\n",
              "    </tr>\n",
              "    <tr>\n",
              "      <th>Manhattan</th>\n",
              "      <td>106</td>\n",
              "      <td>106</td>\n",
              "      <td>9</td>\n",
              "      <td>100.0</td>\n",
              "      <td>8.5</td>\n",
              "    </tr>\n",
              "    <tr>\n",
              "      <th>Staten Island</th>\n",
              "      <td>10</td>\n",
              "      <td>10</td>\n",
              "      <td>1</td>\n",
              "      <td>100.0</td>\n",
              "      <td>10.0</td>\n",
              "    </tr>\n",
              "  </tbody>\n",
              "</table>\n",
              "</div>"
            ],
            "text/plain": [
              "               total_schools  ell_schools  advanced_ell_schools  \\\n",
              "borough                                                           \n",
              "Queens                    80           80                    14   \n",
              "Brooklyn                 121          121                    10   \n",
              "Bronx                    118          118                     9   \n",
              "Manhattan                106          106                     9   \n",
              "Staten Island             10           10                     1   \n",
              "\n",
              "               %_offering_ell  %_advanced_ell  \n",
              "borough                                        \n",
              "Queens                  100.0            17.5  \n",
              "Brooklyn                100.0             8.3  \n",
              "Bronx                   100.0             7.6  \n",
              "Manhattan               100.0             8.5  \n",
              "Staten Island           100.0            10.0  "
            ]
          },
          "execution_count": 17,
          "metadata": {},
          "output_type": "execute_result"
        }
      ],
      "source": [
        "ell_summary = df.groupby('borough').agg(\n",
        "    total_schools=('dbn', 'count'),\n",
        "    ell_schools=('has_esl', 'sum'),\n",
        "    advanced_ell_schools=('has_advanced_ell', 'sum')\n",
        ")\n",
        "\n",
        "# Percent columns\n",
        "ell_summary['%_offering_ell'] = (ell_summary['ell_schools'] / ell_summary['total_schools'] * 100).round(1)\n",
        "ell_summary['%_advanced_ell'] = (ell_summary['advanced_ell_schools'] / ell_summary['total_schools'] * 100).round(1)\n",
        "\n",
        "ell_summary = ell_summary.sort_values(by='advanced_ell_schools', ascending=False)\n",
        "ell_summary\n"
      ]
    },
    {
      "cell_type": "code",
      "execution_count": 18,
      "metadata": {
        "colab": {
          "base_uri": "https://localhost:8080/",
          "height": 614
        },
        "id": "JrcFUdq6ErJr",
        "outputId": "02372751-6508-4e68-d505-26006264c0be"
      },
      "outputs": [
        {
          "name": "stderr",
          "output_type": "stream",
          "text": [
            "C:\\Users\\User\\AppData\\Local\\Temp\\ipykernel_13304\\620877397.py:5: FutureWarning: \n",
            "\n",
            "Passing `palette` without assigning `hue` is deprecated and will be removed in v0.14.0. Assign the `x` variable to `hue` and set `legend=False` for the same effect.\n",
            "\n",
            "  sns.barplot(\n"
          ]
        },
        {
          "data": {
            "image/png": "[encoded data removed]",
            "text/plain": [
              "<Figure size 800x500 with 1 Axes>"
            ]
          },
          "metadata": {},
          "output_type": "display_data"
        }
      ],
      "source": [
        "\n",
        "\n",
        "# Reset index for plotting\n",
        "ell_summary_plot = ell_summary.reset_index()\n",
        "\n",
        "plt.figure(figsize=(8, 5))\n",
        "sns.barplot(\n",
        "    data=ell_summary_plot,\n",
        "    x='borough',\n",
        "    y='advanced_ell_schools',\n",
        "    palette='Blues_d'\n",
        ")\n",
        "plt.title('Number of Schools Offering Advanced ELL by Borough')\n",
        "plt.xlabel('Borough')\n",
        "plt.ylabel('Number of Schools')\n",
        "plt.tight_layout()\n",
        "plt.show()\n"
      ]
    },
    {
      "cell_type": "code",
      "execution_count": 19,
      "metadata": {
        "colab": {
          "base_uri": "https://localhost:8080/",
          "height": 614
        },
        "id": "yfhnb016FLhP",
        "outputId": "aa4f4131-3ef5-4cf4-b0f7-e2f6f4290a6f"
      },
      "outputs": [
        {
          "name": "stderr",
          "output_type": "stream",
          "text": [
            "C:\\Users\\User\\AppData\\Local\\Temp\\ipykernel_13304\\1734249300.py:2: FutureWarning: \n",
            "\n",
            "Passing `palette` without assigning `hue` is deprecated and will be removed in v0.14.0. Assign the `x` variable to `hue` and set `legend=False` for the same effect.\n",
            "\n",
            "  sns.barplot(\n"
          ]
        },
        {
          "data": {
            "image/png": "[encoded data removed]",
            "text/plain": [
              "<Figure size 800x500 with 1 Axes>"
            ]
          },
          "metadata": {},
          "output_type": "display_data"
        }
      ],
      "source": [
        "plt.figure(figsize=(8, 5))\n",
        "sns.barplot(\n",
        "    data=ell_summary_plot,\n",
        "    x='borough',\n",
        "    y='%_advanced_ell',\n",
        "    palette='Greens_d'\n",
        ")\n",
        "plt.title('Percent of Schools with Advanced ELL Programs by Borough')\n",
        "plt.xlabel('Borough')\n",
        "plt.ylabel('% of Schools')\n",
        "plt.ylim(0, 20)\n",
        "plt.tight_layout()\n",
        "plt.show()\n"
      ]
    },
    {
      "cell_type": "markdown",
      "metadata": {
        "id": "JWTPQOQq107F"
      },
      "source": [
        "## 7. Partnership Summary"
      ]
    },
    {
      "cell_type": "code",
      "execution_count": 20,
      "metadata": {
        "colab": {
          "base_uri": "https://localhost:8080/",
          "height": 206
        },
        "id": "XdvBs4GEpkVH",
        "outputId": "23d155ca-25a7-4b7c-b442-5cbc627eb2f5"
      },
      "outputs": [
        {
          "data": {
            "text/html": [
              "<div>\n",
              "<style scoped>\n",
              "    .dataframe tbody tr th:only-of-type {\n",
              "        vertical-align: middle;\n",
              "    }\n",
              "\n",
              "    .dataframe tbody tr th {\n",
              "        vertical-align: top;\n",
              "    }\n",
              "\n",
              "    .dataframe thead th {\n",
              "        text-align: right;\n",
              "    }\n",
              "</style>\n",
              "<table border=\"1\" class=\"dataframe\">\n",
              "  <thead>\n",
              "    <tr style=\"text-align: right;\">\n",
              "      <th></th>\n",
              "      <th>borough</th>\n",
              "      <th>school_name</th>\n",
              "      <th>num_partners</th>\n",
              "    </tr>\n",
              "  </thead>\n",
              "  <tbody>\n",
              "    <tr>\n",
              "      <th>137</th>\n",
              "      <td>Brooklyn</td>\n",
              "      <td>Abraham Lincoln High School</td>\n",
              "      <td>6</td>\n",
              "    </tr>\n",
              "    <tr>\n",
              "      <th>210</th>\n",
              "      <td>Manhattan</td>\n",
              "      <td>THE HIGH SCHOOL FOR LANGUAGE AND DIPLOMACY</td>\n",
              "      <td>6</td>\n",
              "    </tr>\n",
              "    <tr>\n",
              "      <th>365</th>\n",
              "      <td>Bronx</td>\n",
              "      <td>Validus Preparatory Academy: An Expeditionary ...</td>\n",
              "      <td>6</td>\n",
              "    </tr>\n",
              "    <tr>\n",
              "      <th>389</th>\n",
              "      <td>Brooklyn</td>\n",
              "      <td>Brooklyn Generation School</td>\n",
              "      <td>8</td>\n",
              "    </tr>\n",
              "    <tr>\n",
              "      <th>397</th>\n",
              "      <td>Queens</td>\n",
              "      <td>Flushing High School</td>\n",
              "      <td>5</td>\n",
              "    </tr>\n",
              "  </tbody>\n",
              "</table>\n",
              "</div>"
            ],
            "text/plain": [
              "       borough                                        school_name  \\\n",
              "137   Brooklyn                        Abraham Lincoln High School   \n",
              "210  Manhattan         THE HIGH SCHOOL FOR LANGUAGE AND DIPLOMACY   \n",
              "365      Bronx  Validus Preparatory Academy: An Expeditionary ...   \n",
              "389   Brooklyn                         Brooklyn Generation School   \n",
              "397     Queens                               Flushing High School   \n",
              "\n",
              "     num_partners  \n",
              "137             6  \n",
              "210             6  \n",
              "365             6  \n",
              "389             8  \n",
              "397             5  "
            ]
          },
          "execution_count": 20,
          "metadata": {},
          "output_type": "execute_result"
        }
      ],
      "source": [
        "# Select all columns that start with 'partner_'\n",
        "partner_cols = [col for col in df.columns if col.startswith('partner_')]\n",
        "\n",
        "# Create a new column counting number of non-null partnerships\n",
        "df['num_partners'] = df[partner_cols].notna().sum(axis=1)\n",
        "\n",
        "# Quick preview\n",
        "df[['borough', 'school_name', 'num_partners']].sample(5)\n"
      ]
    },
    {
      "cell_type": "code",
      "execution_count": 21,
      "metadata": {
        "colab": {
          "base_uri": "https://localhost:8080/",
          "height": 237
        },
        "id": "VWpxnQIGIHRu",
        "outputId": "e754c212-8665-45c2-8698-978344c244e3"
      },
      "outputs": [
        {
          "data": {
            "text/html": [
              "<div>\n",
              "<style scoped>\n",
              "    .dataframe tbody tr th:only-of-type {\n",
              "        vertical-align: middle;\n",
              "    }\n",
              "\n",
              "    .dataframe tbody tr th {\n",
              "        vertical-align: top;\n",
              "    }\n",
              "\n",
              "    .dataframe thead th {\n",
              "        text-align: right;\n",
              "    }\n",
              "</style>\n",
              "<table border=\"1\" class=\"dataframe\">\n",
              "  <thead>\n",
              "    <tr style=\"text-align: right;\">\n",
              "      <th></th>\n",
              "      <th>total_schools</th>\n",
              "      <th>total_partners</th>\n",
              "      <th>avg_partners_per_school</th>\n",
              "    </tr>\n",
              "    <tr>\n",
              "      <th>borough</th>\n",
              "      <th></th>\n",
              "      <th></th>\n",
              "      <th></th>\n",
              "    </tr>\n",
              "  </thead>\n",
              "  <tbody>\n",
              "    <tr>\n",
              "      <th>Staten Island</th>\n",
              "      <td>10</td>\n",
              "      <td>58</td>\n",
              "      <td>5.80</td>\n",
              "    </tr>\n",
              "    <tr>\n",
              "      <th>Manhattan</th>\n",
              "      <td>106</td>\n",
              "      <td>502</td>\n",
              "      <td>4.74</td>\n",
              "    </tr>\n",
              "    <tr>\n",
              "      <th>Brooklyn</th>\n",
              "      <td>121</td>\n",
              "      <td>569</td>\n",
              "      <td>4.70</td>\n",
              "    </tr>\n",
              "    <tr>\n",
              "      <th>Queens</th>\n",
              "      <td>80</td>\n",
              "      <td>347</td>\n",
              "      <td>4.34</td>\n",
              "    </tr>\n",
              "    <tr>\n",
              "      <th>Bronx</th>\n",
              "      <td>118</td>\n",
              "      <td>511</td>\n",
              "      <td>4.33</td>\n",
              "    </tr>\n",
              "  </tbody>\n",
              "</table>\n",
              "</div>"
            ],
            "text/plain": [
              "               total_schools  total_partners  avg_partners_per_school\n",
              "borough                                                              \n",
              "Staten Island             10              58                     5.80\n",
              "Manhattan                106             502                     4.74\n",
              "Brooklyn                 121             569                     4.70\n",
              "Queens                    80             347                     4.34\n",
              "Bronx                    118             511                     4.33"
            ]
          },
          "execution_count": 21,
          "metadata": {},
          "output_type": "execute_result"
        }
      ],
      "source": [
        "partner_summary = df.groupby('borough').agg(\n",
        "    total_schools=('dbn', 'count'),\n",
        "    total_partners=('num_partners', 'sum'),\n",
        "    avg_partners_per_school=('num_partners', 'mean')\n",
        ").round(2)\n",
        "\n",
        "partner_summary = partner_summary.sort_values('avg_partners_per_school', ascending=False)\n",
        "partner_summary"
      ]
    },
    {
      "cell_type": "code",
      "execution_count": 22,
      "metadata": {
        "colab": {
          "base_uri": "https://localhost:8080/",
          "height": 614
        },
        "id": "qJNv_N6qIi_D",
        "outputId": "139f5ac4-f2a8-4827-af06-a215d0f8c42e"
      },
      "outputs": [
        {
          "name": "stderr",
          "output_type": "stream",
          "text": [
            "C:\\Users\\User\\AppData\\Local\\Temp\\ipykernel_13304\\1590101256.py:7: FutureWarning: \n",
            "\n",
            "Passing `palette` without assigning `hue` is deprecated and will be removed in v0.14.0. Assign the `x` variable to `hue` and set `legend=False` for the same effect.\n",
            "\n",
            "  sns.barplot(\n"
          ]
        },
        {
          "data": {
            "image/png": "[encoded data removed]",
            "text/plain": [
              "<Figure size 800x500 with 1 Axes>"
            ]
          },
          "metadata": {},
          "output_type": "display_data"
        }
      ],
      "source": [
        "import matplotlib.pyplot as plt\n",
        "import seaborn as sns\n",
        "\n",
        "partner_plot = partner_summary.reset_index()\n",
        "\n",
        "plt.figure(figsize=(8, 5))\n",
        "sns.barplot(\n",
        "    data=partner_plot,\n",
        "    x='borough',\n",
        "    y='avg_partners_per_school',\n",
        "    palette='Purples_d'\n",
        ")\n",
        "plt.title('Average Number of Partners per School by Borough')\n",
        "plt.ylabel('Avg. Partners per School')\n",
        "plt.xlabel('Borough')\n",
        "plt.ylim(0, partner_plot['avg_partners_per_school'].max() + 1)\n",
        "plt.tight_layout()\n",
        "plt.show()\n"
      ]
    },
    {
      "cell_type": "code",
      "execution_count": 23,
      "metadata": {
        "colab": {
          "base_uri": "https://localhost:8080/",
          "height": 272
        },
        "id": "bpGsXlRWKCYh",
        "outputId": "714a3a7a-85ab-4d64-cffc-c5a578b4fb98"
      },
      "outputs": [
        {
          "data": {
            "text/plain": [
              "borough\n",
              "Bronx            5.9\n",
              "Brooklyn         4.1\n",
              "Manhattan        5.7\n",
              "Queens           6.2\n",
              "Staten Island    0.0\n",
              "dtype: float64"
            ]
          },
          "execution_count": 23,
          "metadata": {},
          "output_type": "execute_result"
        }
      ],
      "source": [
        "zero_partner_counts = df[df['num_partners'] == 0].groupby('borough').size()\n",
        "total_schools = df.groupby('borough').size()\n",
        "zero_partner_pct = (zero_partner_counts / total_schools * 100).fillna(0).round(1)\n",
        "\n",
        "zero_partner_pct\n"
      ]
    },
    {
      "cell_type": "markdown",
      "metadata": {
        "id": "tl2oR67kKr_B"
      },
      "source": [
        "## Partnership Analysis Summary\n",
        "\n",
        "Our analysis of partnership organizations across NYC boroughs reveals important patterns in external support for public high schools:\n",
        "\n",
        "- **Staten Island schools have the highest average number of partners per school (5.8),** with every school engaged in at least one partnership. This indicates a strong and consistent network of external support despite Staten Island having the fewest schools overall.\n",
        "\n",
        "- Other boroughs like **Manhattan, Brooklyn, Queens, and the Bronx** have slightly lower average partners per school (ranging from 4.3 to 4.7) and exhibit small percentages (4-6%) of schools without any partnerships. These gaps highlight potential areas where partnership outreach could be strengthened.\n",
        "\n",
        "- The most common partnership types, while not explicitly quantified here, tend to be community-based organizations and higher education institutions, with corporate and financial partnerships being relatively rare across all boroughs.\n",
        "\n",
        "- This distribution suggests **potential inequities in resource access**, with Staten Island’s concentrated partnerships offering a model for more uniform engagement, while the other boroughs may benefit from targeted efforts to connect underserved schools with external resources.\n"
      ]
    }
  ],
  "metadata": {
    "colab": {
      "provenance": [],
      "toc_visible": true
    },
    "kernelspec": {
      "display_name": "Python 3",
      "name": "python3"
    },
    "language_info": {
      "codemirror_mode": {
        "name": "ipython",
        "version": 3
      },
      "file_extension": ".py",
      "mimetype": "text/x-python",
      "name": "python",
      "nbconvert_exporter": "python",
      "pygments_lexer": "ipython3",
      "version": "3.13.2"
    }
  },
  "nbformat": 4,
  "nbformat_minor": 0
}
