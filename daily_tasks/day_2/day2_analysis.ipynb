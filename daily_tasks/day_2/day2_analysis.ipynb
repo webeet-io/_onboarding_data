{
 "cells": [
  {
   "cell_type": "markdown",
   "id": "8245d38d",
   "metadata": {},
   "source": [
    "# NYC High School Directory Exploration\n",
    "\n",
    "## Objectives\n",
    "\n",
    "In this notebook I will explore a real world dataset.\n",
    "\n",
    "The main tasks will be the following:\n",
    "\n",
    "1. Loading libraries and the dataset using pandas and cleaning the column names \n",
    "   - lowercase, '_' instead of spaces, no special characters\n",
    "2. Filtering the dataset for schools located in Brooklyn\n",
    "3. Answering the following questions:\n",
    "   - How many total schools are in Brooklyn?  \n",
    "   - How many schools in Brooklyn offer Grade 9 entry?  \n",
    "4. Grouping and summarizing:\n",
    "   - Count of unique schools per borough\n",
    "   - Average number of students per borough\n",
    "   - Summary of `grade_span_max` grouped by borough\n",
    "5. Visualizations\n",
    "6. Key insights\n"
   ]
  },
  {
   "cell_type": "markdown",
   "id": "11118196",
   "metadata": {},
   "source": [
    "### 1. Loading libraries and dataset, cleaning column names"
   ]
  },
  {
   "cell_type": "code",
   "execution_count": 47,
   "id": "4cb36cae",
   "metadata": {},
   "outputs": [],
   "source": [
    "import pandas as pd\n",
    "import numpy as numpy\n",
    "import matplotlib.pyplot as plt\n",
    "import seaborn as sns\n",
    "from IPython.display import display"
   ]
  },
  {
   "cell_type": "code",
   "execution_count": 48,
   "id": "9f05c29c",
   "metadata": {},
   "outputs": [
    {
     "name": "stdout",
     "output_type": "stream",
     "text": [
      "The dataset contains 435 rows and 69 columns.\n"
     ]
    },
    {
     "data": {
      "text/html": [
       "<div>\n",
       "<style scoped>\n",
       "    .dataframe tbody tr th:only-of-type {\n",
       "        vertical-align: middle;\n",
       "    }\n",
       "\n",
       "    .dataframe tbody tr th {\n",
       "        vertical-align: top;\n",
       "    }\n",
       "\n",
       "    .dataframe thead th {\n",
       "        text-align: right;\n",
       "    }\n",
       "</style>\n",
       "<table border=\"1\" class=\"dataframe\">\n",
       "  <thead>\n",
       "    <tr style=\"text-align: right;\">\n",
       "      <th></th>\n",
       "      <th>dbn</th>\n",
       "      <th>school_name</th>\n",
       "      <th>borough</th>\n",
       "      <th>building_code</th>\n",
       "      <th>phone_number</th>\n",
       "      <th>fax_number</th>\n",
       "      <th>grade_span_min</th>\n",
       "      <th>grade_span_max</th>\n",
       "      <th>expgrade_span_min</th>\n",
       "      <th>expgrade_span_max</th>\n",
       "      <th>...</th>\n",
       "      <th>Council District</th>\n",
       "      <th>Census Tract</th>\n",
       "      <th>BIN</th>\n",
       "      <th>BBL</th>\n",
       "      <th>NTA</th>\n",
       "      <th>Zip Codes</th>\n",
       "      <th>Community Districts</th>\n",
       "      <th>Borough Boundaries</th>\n",
       "      <th>City Council Districts</th>\n",
       "      <th>Police Precincts</th>\n",
       "    </tr>\n",
       "  </thead>\n",
       "  <tbody>\n",
       "    <tr>\n",
       "      <th>0</th>\n",
       "      <td>27Q260</td>\n",
       "      <td>Frederick Douglass Academy VI High School</td>\n",
       "      <td>Queens</td>\n",
       "      <td>Q465</td>\n",
       "      <td>718-471-2154</td>\n",
       "      <td>718-471-2890</td>\n",
       "      <td>9.0</td>\n",
       "      <td>12</td>\n",
       "      <td>NaN</td>\n",
       "      <td>NaN</td>\n",
       "      <td>...</td>\n",
       "      <td>31.0</td>\n",
       "      <td>100802.0</td>\n",
       "      <td>4300730.0</td>\n",
       "      <td>4.157360e+09</td>\n",
       "      <td>Far Rockaway-Bayswater                        ...</td>\n",
       "      <td>20529.0</td>\n",
       "      <td>51</td>\n",
       "      <td>3</td>\n",
       "      <td>47</td>\n",
       "      <td>59</td>\n",
       "    </tr>\n",
       "    <tr>\n",
       "      <th>1</th>\n",
       "      <td>21K559</td>\n",
       "      <td>Life Academy High School for Film and Music</td>\n",
       "      <td>Brooklyn</td>\n",
       "      <td>K400</td>\n",
       "      <td>718-333-7750</td>\n",
       "      <td>718-333-7775</td>\n",
       "      <td>9.0</td>\n",
       "      <td>12</td>\n",
       "      <td>NaN</td>\n",
       "      <td>NaN</td>\n",
       "      <td>...</td>\n",
       "      <td>47.0</td>\n",
       "      <td>306.0</td>\n",
       "      <td>3186454.0</td>\n",
       "      <td>3.068830e+09</td>\n",
       "      <td>Gravesend                                     ...</td>\n",
       "      <td>17616.0</td>\n",
       "      <td>21</td>\n",
       "      <td>2</td>\n",
       "      <td>45</td>\n",
       "      <td>35</td>\n",
       "    </tr>\n",
       "    <tr>\n",
       "      <th>2</th>\n",
       "      <td>16K393</td>\n",
       "      <td>Frederick Douglass Academy IV Secondary School</td>\n",
       "      <td>Brooklyn</td>\n",
       "      <td>K026</td>\n",
       "      <td>718-574-2820</td>\n",
       "      <td>718-574-2821</td>\n",
       "      <td>9.0</td>\n",
       "      <td>12</td>\n",
       "      <td>NaN</td>\n",
       "      <td>NaN</td>\n",
       "      <td>...</td>\n",
       "      <td>36.0</td>\n",
       "      <td>291.0</td>\n",
       "      <td>3393805.0</td>\n",
       "      <td>3.016160e+09</td>\n",
       "      <td>Stuyvesant Heights                            ...</td>\n",
       "      <td>18181.0</td>\n",
       "      <td>69</td>\n",
       "      <td>2</td>\n",
       "      <td>49</td>\n",
       "      <td>52</td>\n",
       "    </tr>\n",
       "    <tr>\n",
       "      <th>3</th>\n",
       "      <td>08X305</td>\n",
       "      <td>Pablo Neruda Academy</td>\n",
       "      <td>Bronx</td>\n",
       "      <td>X450</td>\n",
       "      <td>718-824-1682</td>\n",
       "      <td>718-824-1663</td>\n",
       "      <td>9.0</td>\n",
       "      <td>12</td>\n",
       "      <td>NaN</td>\n",
       "      <td>NaN</td>\n",
       "      <td>...</td>\n",
       "      <td>18.0</td>\n",
       "      <td>16.0</td>\n",
       "      <td>2022205.0</td>\n",
       "      <td>2.036040e+09</td>\n",
       "      <td>Soundview-Castle Hill-Clason Point-Harding Par...</td>\n",
       "      <td>11611.0</td>\n",
       "      <td>58</td>\n",
       "      <td>5</td>\n",
       "      <td>31</td>\n",
       "      <td>26</td>\n",
       "    </tr>\n",
       "    <tr>\n",
       "      <th>4</th>\n",
       "      <td>03M485</td>\n",
       "      <td>Fiorello H. LaGuardia High School of Music &amp; A...</td>\n",
       "      <td>Manhattan</td>\n",
       "      <td>M485</td>\n",
       "      <td>212-496-0700</td>\n",
       "      <td>212-724-5748</td>\n",
       "      <td>9.0</td>\n",
       "      <td>12</td>\n",
       "      <td>NaN</td>\n",
       "      <td>NaN</td>\n",
       "      <td>...</td>\n",
       "      <td>6.0</td>\n",
       "      <td>151.0</td>\n",
       "      <td>1030341.0</td>\n",
       "      <td>1.011560e+09</td>\n",
       "      <td>Lincoln Square                                ...</td>\n",
       "      <td>12420.0</td>\n",
       "      <td>20</td>\n",
       "      <td>4</td>\n",
       "      <td>19</td>\n",
       "      <td>12</td>\n",
       "    </tr>\n",
       "  </tbody>\n",
       "</table>\n",
       "<p>5 rows × 69 columns</p>\n",
       "</div>"
      ],
      "text/plain": [
       "      dbn                                        school_name    borough  \\\n",
       "0  27Q260          Frederick Douglass Academy VI High School     Queens   \n",
       "1  21K559        Life Academy High School for Film and Music   Brooklyn   \n",
       "2  16K393     Frederick Douglass Academy IV Secondary School   Brooklyn   \n",
       "3  08X305                               Pablo Neruda Academy      Bronx   \n",
       "4  03M485  Fiorello H. LaGuardia High School of Music & A...  Manhattan   \n",
       "\n",
       "  building_code  phone_number    fax_number  grade_span_min  grade_span_max  \\\n",
       "0          Q465  718-471-2154  718-471-2890             9.0              12   \n",
       "1          K400  718-333-7750  718-333-7775             9.0              12   \n",
       "2          K026  718-574-2820  718-574-2821             9.0              12   \n",
       "3          X450  718-824-1682  718-824-1663             9.0              12   \n",
       "4          M485  212-496-0700  212-724-5748             9.0              12   \n",
       "\n",
       "   expgrade_span_min  expgrade_span_max  ... Council District Census Tract  \\\n",
       "0                NaN                NaN  ...             31.0     100802.0   \n",
       "1                NaN                NaN  ...             47.0        306.0   \n",
       "2                NaN                NaN  ...             36.0        291.0   \n",
       "3                NaN                NaN  ...             18.0         16.0   \n",
       "4                NaN                NaN  ...              6.0        151.0   \n",
       "\n",
       "         BIN           BBL                                                NTA  \\\n",
       "0  4300730.0  4.157360e+09  Far Rockaway-Bayswater                        ...   \n",
       "1  3186454.0  3.068830e+09  Gravesend                                     ...   \n",
       "2  3393805.0  3.016160e+09  Stuyvesant Heights                            ...   \n",
       "3  2022205.0  2.036040e+09  Soundview-Castle Hill-Clason Point-Harding Par...   \n",
       "4  1030341.0  1.011560e+09  Lincoln Square                                ...   \n",
       "\n",
       "   Zip Codes Community Districts  Borough Boundaries City Council Districts  \\\n",
       "0    20529.0                  51                   3                     47   \n",
       "1    17616.0                  21                   2                     45   \n",
       "2    18181.0                  69                   2                     49   \n",
       "3    11611.0                  58                   5                     31   \n",
       "4    12420.0                  20                   4                     19   \n",
       "\n",
       "  Police Precincts  \n",
       "0               59  \n",
       "1               35  \n",
       "2               52  \n",
       "3               26  \n",
       "4               12  \n",
       "\n",
       "[5 rows x 69 columns]"
      ]
     },
     "execution_count": 48,
     "metadata": {},
     "output_type": "execute_result"
    }
   ],
   "source": [
    "df = pd.read_csv(\"day_2_datasets/high-school-directory.csv\")\n",
    "print(f\"The dataset contains {df.shape[0]} rows and {df.shape[1]} columns.\")\n",
    "df.head()"
   ]
  },
  {
   "cell_type": "code",
   "execution_count": 49,
   "id": "63534b7b",
   "metadata": {},
   "outputs": [
    {
     "data": {
      "text/html": [
       "<div>\n",
       "<style scoped>\n",
       "    .dataframe tbody tr th:only-of-type {\n",
       "        vertical-align: middle;\n",
       "    }\n",
       "\n",
       "    .dataframe tbody tr th {\n",
       "        vertical-align: top;\n",
       "    }\n",
       "\n",
       "    .dataframe thead th {\n",
       "        text-align: right;\n",
       "    }\n",
       "</style>\n",
       "<table border=\"1\" class=\"dataframe\">\n",
       "  <thead>\n",
       "    <tr style=\"text-align: right;\">\n",
       "      <th></th>\n",
       "      <th>column</th>\n",
       "      <th>missing_count</th>\n",
       "      <th>missing_pct</th>\n",
       "    </tr>\n",
       "  </thead>\n",
       "  <tbody>\n",
       "    <tr>\n",
       "      <th>38</th>\n",
       "      <td>priority08</td>\n",
       "      <td>434</td>\n",
       "      <td>99.770115</td>\n",
       "    </tr>\n",
       "    <tr>\n",
       "      <th>40</th>\n",
       "      <td>priority10</td>\n",
       "      <td>434</td>\n",
       "      <td>99.770115</td>\n",
       "    </tr>\n",
       "    <tr>\n",
       "      <th>39</th>\n",
       "      <td>priority09</td>\n",
       "      <td>434</td>\n",
       "      <td>99.770115</td>\n",
       "    </tr>\n",
       "    <tr>\n",
       "      <th>37</th>\n",
       "      <td>priority07</td>\n",
       "      <td>431</td>\n",
       "      <td>99.080460</td>\n",
       "    </tr>\n",
       "    <tr>\n",
       "      <th>36</th>\n",
       "      <td>priority06</td>\n",
       "      <td>418</td>\n",
       "      <td>96.091954</td>\n",
       "    </tr>\n",
       "    <tr>\n",
       "      <th>2</th>\n",
       "      <td>expgrade_span_min</td>\n",
       "      <td>404</td>\n",
       "      <td>92.873563</td>\n",
       "    </tr>\n",
       "    <tr>\n",
       "      <th>3</th>\n",
       "      <td>expgrade_span_max</td>\n",
       "      <td>402</td>\n",
       "      <td>92.413793</td>\n",
       "    </tr>\n",
       "    <tr>\n",
       "      <th>35</th>\n",
       "      <td>priority05</td>\n",
       "      <td>396</td>\n",
       "      <td>91.034483</td>\n",
       "    </tr>\n",
       "    <tr>\n",
       "      <th>14</th>\n",
       "      <td>online_ap_courses</td>\n",
       "      <td>371</td>\n",
       "      <td>85.287356</td>\n",
       "    </tr>\n",
       "    <tr>\n",
       "      <th>26</th>\n",
       "      <td>partner_financial</td>\n",
       "      <td>363</td>\n",
       "      <td>83.448276</td>\n",
       "    </tr>\n",
       "    <tr>\n",
       "      <th>15</th>\n",
       "      <td>online_language_courses</td>\n",
       "      <td>362</td>\n",
       "      <td>83.218391</td>\n",
       "    </tr>\n",
       "    <tr>\n",
       "      <th>9</th>\n",
       "      <td>school_type</td>\n",
       "      <td>331</td>\n",
       "      <td>76.091954</td>\n",
       "    </tr>\n",
       "    <tr>\n",
       "      <th>18</th>\n",
       "      <td>psal_sports_coed</td>\n",
       "      <td>288</td>\n",
       "      <td>66.206897</td>\n",
       "    </tr>\n",
       "    <tr>\n",
       "      <th>34</th>\n",
       "      <td>priority04</td>\n",
       "      <td>258</td>\n",
       "      <td>59.310345</td>\n",
       "    </tr>\n",
       "    <tr>\n",
       "      <th>27</th>\n",
       "      <td>partner_other</td>\n",
       "      <td>248</td>\n",
       "      <td>57.011494</td>\n",
       "    </tr>\n",
       "    <tr>\n",
       "      <th>21</th>\n",
       "      <td>partner_hospital</td>\n",
       "      <td>239</td>\n",
       "      <td>54.942529</td>\n",
       "    </tr>\n",
       "    <tr>\n",
       "      <th>25</th>\n",
       "      <td>partner_corporate</td>\n",
       "      <td>237</td>\n",
       "      <td>54.482759</td>\n",
       "    </tr>\n",
       "    <tr>\n",
       "      <th>8</th>\n",
       "      <td>campus_name</td>\n",
       "      <td>218</td>\n",
       "      <td>50.114943</td>\n",
       "    </tr>\n",
       "    <tr>\n",
       "      <th>29</th>\n",
       "      <td>addtl_info2</td>\n",
       "      <td>206</td>\n",
       "      <td>47.356322</td>\n",
       "    </tr>\n",
       "    <tr>\n",
       "      <th>33</th>\n",
       "      <td>priority03</td>\n",
       "      <td>192</td>\n",
       "      <td>44.137931</td>\n",
       "    </tr>\n",
       "    <tr>\n",
       "      <th>24</th>\n",
       "      <td>partner_nonprofit</td>\n",
       "      <td>138</td>\n",
       "      <td>31.724138</td>\n",
       "    </tr>\n",
       "    <tr>\n",
       "      <th>19</th>\n",
       "      <td>school_sports</td>\n",
       "      <td>138</td>\n",
       "      <td>31.724138</td>\n",
       "    </tr>\n",
       "    <tr>\n",
       "      <th>23</th>\n",
       "      <td>partner_cultural</td>\n",
       "      <td>130</td>\n",
       "      <td>29.885057</td>\n",
       "    </tr>\n",
       "    <tr>\n",
       "      <th>13</th>\n",
       "      <td>advancedplacement_courses</td>\n",
       "      <td>95</td>\n",
       "      <td>21.839080</td>\n",
       "    </tr>\n",
       "    <tr>\n",
       "      <th>32</th>\n",
       "      <td>priority02</td>\n",
       "      <td>83</td>\n",
       "      <td>19.080460</td>\n",
       "    </tr>\n",
       "    <tr>\n",
       "      <th>20</th>\n",
       "      <td>partner_cbo</td>\n",
       "      <td>81</td>\n",
       "      <td>18.620690</td>\n",
       "    </tr>\n",
       "    <tr>\n",
       "      <th>28</th>\n",
       "      <td>addtl_info1</td>\n",
       "      <td>81</td>\n",
       "      <td>18.620690</td>\n",
       "    </tr>\n",
       "    <tr>\n",
       "      <th>5</th>\n",
       "      <td>subway</td>\n",
       "      <td>77</td>\n",
       "      <td>17.701149</td>\n",
       "    </tr>\n",
       "    <tr>\n",
       "      <th>17</th>\n",
       "      <td>psal_sports_girls</td>\n",
       "      <td>62</td>\n",
       "      <td>14.252874</td>\n",
       "    </tr>\n",
       "    <tr>\n",
       "      <th>16</th>\n",
       "      <td>psal_sports_boys</td>\n",
       "      <td>62</td>\n",
       "      <td>14.252874</td>\n",
       "    </tr>\n",
       "    <tr>\n",
       "      <th>22</th>\n",
       "      <td>partner_highered</td>\n",
       "      <td>57</td>\n",
       "      <td>13.103448</td>\n",
       "    </tr>\n",
       "    <tr>\n",
       "      <th>12</th>\n",
       "      <td>language_classes</td>\n",
       "      <td>23</td>\n",
       "      <td>5.287356</td>\n",
       "    </tr>\n",
       "    <tr>\n",
       "      <th>0</th>\n",
       "      <td>fax_number</td>\n",
       "      <td>12</td>\n",
       "      <td>2.758621</td>\n",
       "    </tr>\n",
       "    <tr>\n",
       "      <th>7</th>\n",
       "      <td>total_students</td>\n",
       "      <td>9</td>\n",
       "      <td>2.068966</td>\n",
       "    </tr>\n",
       "    <tr>\n",
       "      <th>6</th>\n",
       "      <td>website</td>\n",
       "      <td>5</td>\n",
       "      <td>1.149425</td>\n",
       "    </tr>\n",
       "    <tr>\n",
       "      <th>31</th>\n",
       "      <td>end_time</td>\n",
       "      <td>4</td>\n",
       "      <td>0.919540</td>\n",
       "    </tr>\n",
       "    <tr>\n",
       "      <th>30</th>\n",
       "      <td>start_time</td>\n",
       "      <td>4</td>\n",
       "      <td>0.919540</td>\n",
       "    </tr>\n",
       "    <tr>\n",
       "      <th>44</th>\n",
       "      <td>BIN</td>\n",
       "      <td>4</td>\n",
       "      <td>0.919540</td>\n",
       "    </tr>\n",
       "    <tr>\n",
       "      <th>45</th>\n",
       "      <td>BBL</td>\n",
       "      <td>4</td>\n",
       "      <td>0.919540</td>\n",
       "    </tr>\n",
       "    <tr>\n",
       "      <th>1</th>\n",
       "      <td>grade_span_min</td>\n",
       "      <td>3</td>\n",
       "      <td>0.689655</td>\n",
       "    </tr>\n",
       "    <tr>\n",
       "      <th>41</th>\n",
       "      <td>Community Board</td>\n",
       "      <td>3</td>\n",
       "      <td>0.689655</td>\n",
       "    </tr>\n",
       "    <tr>\n",
       "      <th>42</th>\n",
       "      <td>Council District</td>\n",
       "      <td>3</td>\n",
       "      <td>0.689655</td>\n",
       "    </tr>\n",
       "    <tr>\n",
       "      <th>43</th>\n",
       "      <td>Census Tract</td>\n",
       "      <td>3</td>\n",
       "      <td>0.689655</td>\n",
       "    </tr>\n",
       "    <tr>\n",
       "      <th>46</th>\n",
       "      <td>NTA</td>\n",
       "      <td>3</td>\n",
       "      <td>0.689655</td>\n",
       "    </tr>\n",
       "    <tr>\n",
       "      <th>11</th>\n",
       "      <td>program_highlights</td>\n",
       "      <td>1</td>\n",
       "      <td>0.229885</td>\n",
       "    </tr>\n",
       "    <tr>\n",
       "      <th>10</th>\n",
       "      <td>overview_paragraph</td>\n",
       "      <td>1</td>\n",
       "      <td>0.229885</td>\n",
       "    </tr>\n",
       "    <tr>\n",
       "      <th>4</th>\n",
       "      <td>bus</td>\n",
       "      <td>1</td>\n",
       "      <td>0.229885</td>\n",
       "    </tr>\n",
       "    <tr>\n",
       "      <th>47</th>\n",
       "      <td>Zip Codes</td>\n",
       "      <td>1</td>\n",
       "      <td>0.229885</td>\n",
       "    </tr>\n",
       "  </tbody>\n",
       "</table>\n",
       "</div>"
      ],
      "text/plain": [
       "                       column  missing_count  missing_pct\n",
       "38                 priority08            434    99.770115\n",
       "40                 priority10            434    99.770115\n",
       "39                 priority09            434    99.770115\n",
       "37                 priority07            431    99.080460\n",
       "36                 priority06            418    96.091954\n",
       "2           expgrade_span_min            404    92.873563\n",
       "3           expgrade_span_max            402    92.413793\n",
       "35                 priority05            396    91.034483\n",
       "14          online_ap_courses            371    85.287356\n",
       "26          partner_financial            363    83.448276\n",
       "15    online_language_courses            362    83.218391\n",
       "9                 school_type            331    76.091954\n",
       "18           psal_sports_coed            288    66.206897\n",
       "34                 priority04            258    59.310345\n",
       "27              partner_other            248    57.011494\n",
       "21           partner_hospital            239    54.942529\n",
       "25          partner_corporate            237    54.482759\n",
       "8                 campus_name            218    50.114943\n",
       "29                addtl_info2            206    47.356322\n",
       "33                 priority03            192    44.137931\n",
       "24          partner_nonprofit            138    31.724138\n",
       "19              school_sports            138    31.724138\n",
       "23           partner_cultural            130    29.885057\n",
       "13  advancedplacement_courses             95    21.839080\n",
       "32                 priority02             83    19.080460\n",
       "20                partner_cbo             81    18.620690\n",
       "28                addtl_info1             81    18.620690\n",
       "5                      subway             77    17.701149\n",
       "17          psal_sports_girls             62    14.252874\n",
       "16           psal_sports_boys             62    14.252874\n",
       "22           partner_highered             57    13.103448\n",
       "12           language_classes             23     5.287356\n",
       "0                  fax_number             12     2.758621\n",
       "7              total_students              9     2.068966\n",
       "6                     website              5     1.149425\n",
       "31                   end_time              4     0.919540\n",
       "30                 start_time              4     0.919540\n",
       "44                        BIN              4     0.919540\n",
       "45                        BBL              4     0.919540\n",
       "1              grade_span_min              3     0.689655\n",
       "41            Community Board              3     0.689655\n",
       "42           Council District              3     0.689655\n",
       "43               Census Tract              3     0.689655\n",
       "46                        NTA              3     0.689655\n",
       "11         program_highlights              1     0.229885\n",
       "10         overview_paragraph              1     0.229885\n",
       "4                         bus              1     0.229885\n",
       "47                  Zip Codes              1     0.229885"
      ]
     },
     "metadata": {},
     "output_type": "display_data"
    }
   ],
   "source": [
    "missing = df.isna().sum()\n",
    "missing = missing[missing > 0].reset_index()\n",
    "missing.columns = [\"column\", \"missing_count\"]\n",
    "missing[\"missing_pct\"] = (missing[\"missing_count\"] / len(df)) * 100\n",
    "\n",
    "missing = missing.sort_values(by=\"missing_count\", ascending=False)\n",
    "\n",
    "display(missing)"
   ]
  },
  {
   "cell_type": "code",
   "execution_count": 50,
   "id": "e39eccd8",
   "metadata": {},
   "outputs": [
    {
     "name": "stdout",
     "output_type": "stream",
     "text": [
      "Index(['dbn', 'school_name', 'borough', 'building_code', 'phone_number',\n",
      "       'fax_number', 'grade_span_min', 'grade_span_max', 'expgrade_span_min',\n",
      "       'expgrade_span_max', 'bus', 'subway', 'primary_address_line_1', 'city',\n",
      "       'state_code', 'postcode', 'website', 'total_students', 'campus_name',\n",
      "       'school_type', 'overview_paragraph', 'program_highlights',\n",
      "       'language_classes', 'advancedplacement_courses', 'online_ap_courses',\n",
      "       'online_language_courses', 'extracurricular_activities',\n",
      "       'psal_sports_boys', 'psal_sports_girls', 'psal_sports_coed',\n",
      "       'school_sports', 'partner_cbo', 'partner_hospital', 'partner_highered',\n",
      "       'partner_cultural', 'partner_nonprofit', 'partner_corporate',\n",
      "       'partner_financial', 'partner_other', 'addtl_info1', 'addtl_info2',\n",
      "       'start_time', 'end_time', 'se_services', 'ell_programs',\n",
      "       'school_accessibility_description', 'number_programs', 'priority01',\n",
      "       'priority02', 'priority03', 'priority04', 'priority05', 'priority06',\n",
      "       'priority07', 'priority08', 'priority09', 'priority10', 'Location 1',\n",
      "       'Community Board', 'Council District', 'Census Tract', 'BIN', 'BBL',\n",
      "       'NTA', 'Zip Codes', 'Community Districts', 'Borough Boundaries',\n",
      "       'City Council Districts', 'Police Precincts'],\n",
      "      dtype='object')\n"
     ]
    }
   ],
   "source": [
    "print(df.columns)"
   ]
  },
  {
   "cell_type": "code",
   "execution_count": 51,
   "id": "ea49758a",
   "metadata": {},
   "outputs": [
    {
     "data": {
      "text/plain": [
       "Index(['dbn', 'school_name', 'borough', 'building_code', 'phone_number',\n",
       "       'fax_number', 'grade_span_min', 'grade_span_max', 'expgrade_span_min',\n",
       "       'expgrade_span_max', 'bus', 'subway', 'primary_address_line_1', 'city',\n",
       "       'state_code', 'postcode', 'website', 'total_students', 'campus_name',\n",
       "       'school_type', 'overview_paragraph', 'program_highlights',\n",
       "       'language_classes', 'advancedplacement_courses', 'online_ap_courses',\n",
       "       'online_language_courses', 'extracurricular_activities',\n",
       "       'psal_sports_boys', 'psal_sports_girls', 'psal_sports_coed',\n",
       "       'school_sports', 'partner_cbo', 'partner_hospital', 'partner_highered',\n",
       "       'partner_cultural', 'partner_nonprofit', 'partner_corporate',\n",
       "       'partner_financial', 'partner_other', 'addtl_info1', 'addtl_info2',\n",
       "       'start_time', 'end_time', 'se_services', 'ell_programs',\n",
       "       'school_accessibility_description', 'number_programs', 'priority01',\n",
       "       'priority02', 'priority03', 'priority04', 'priority05', 'priority06',\n",
       "       'priority07', 'priority08', 'priority09', 'priority10', 'location_1',\n",
       "       'community_board', 'council_district', 'census_tract', 'bin', 'bbl',\n",
       "       'nta', 'zip_codes', 'community_districts', 'borough_boundaries',\n",
       "       'city_council_districts', 'police_precincts'],\n",
       "      dtype='object')"
      ]
     },
     "execution_count": 51,
     "metadata": {},
     "output_type": "execute_result"
    }
   ],
   "source": [
    "# Cleaning column names\n",
    "df.columns = (\n",
    "    df.columns\n",
    "      .str.strip()\n",
    "      .str.lower()\n",
    "      .str.replace(' ', '_')\n",
    "     # .str.replace(r'\\s+', '_', regex=True)            # for more universal usage\n",
    "     #  .str.replace(r'[^a-z0-9_]', '', regex=True)     # for more universal usage\n",
    ")\n",
    "df.columns"
   ]
  },
  {
   "cell_type": "markdown",
   "id": "b3b836a2",
   "metadata": {},
   "source": [
    "### 2. Filtering for 'Brooklyn'"
   ]
  },
  {
   "cell_type": "code",
   "execution_count": 52,
   "id": "8f9c0e9b",
   "metadata": {},
   "outputs": [
    {
     "data": {
      "text/plain": [
       "(121, 69)"
      ]
     },
     "execution_count": 52,
     "metadata": {},
     "output_type": "execute_result"
    }
   ],
   "source": [
    "df_brooklyn = df[df[\"borough\"].str.casefold() == \"brooklyn\"]    # .casefold() for case insensitive comparison\n",
    "df_brooklyn.shape"
   ]
  },
  {
   "cell_type": "markdown",
   "id": "bde9ffe2",
   "metadata": {},
   "source": [
    "Nearly 1/3 of all entries are related to the Brookly borough."
   ]
  },
  {
   "cell_type": "markdown",
   "id": "372e8ee9",
   "metadata": {},
   "source": [
    "### 3. Questions"
   ]
  },
  {
   "cell_type": "markdown",
   "id": "ccd63a5f",
   "metadata": {},
   "source": [
    "#### How many total schools are in Brooklyn?"
   ]
  },
  {
   "cell_type": "code",
   "execution_count": 53,
   "id": "4729e264",
   "metadata": {},
   "outputs": [
    {
     "name": "stdout",
     "output_type": "stream",
     "text": [
      "There are 121 unique schools in Brooklyn.\n"
     ]
    }
   ],
   "source": [
    "total_schools_brooklyn = df_brooklyn[\"dbn\"].nunique()\n",
    "print(f\"There are {total_schools_brooklyn} unique schools in Brooklyn.\")  "
   ]
  },
  {
   "cell_type": "markdown",
   "id": "6ed9968b",
   "metadata": {},
   "source": [
    "#### How many schools in Brooklyn offer Grade 9 entry?"
   ]
  },
  {
   "cell_type": "code",
   "execution_count": 56,
   "id": "b79ba2ee",
   "metadata": {},
   "outputs": [
    {
     "name": "stdout",
     "output_type": "stream",
     "text": [
      "Index(['dbn', 'school_name', 'borough', 'building_code', 'phone_number',\n",
      "       'fax_number', 'grade_span_min', 'grade_span_max', 'expgrade_span_min',\n",
      "       'expgrade_span_max', 'bus', 'subway', 'primary_address_line_1', 'city',\n",
      "       'state_code', 'postcode', 'website', 'total_students', 'campus_name',\n",
      "       'school_type', 'overview_paragraph', 'program_highlights',\n",
      "       'language_classes', 'advancedplacement_courses', 'online_ap_courses',\n",
      "       'online_language_courses', 'extracurricular_activities',\n",
      "       'psal_sports_boys', 'psal_sports_girls', 'psal_sports_coed',\n",
      "       'school_sports', 'partner_cbo', 'partner_hospital', 'partner_highered',\n",
      "       'partner_cultural', 'partner_nonprofit', 'partner_corporate',\n",
      "       'partner_financial', 'partner_other', 'addtl_info1', 'addtl_info2',\n",
      "       'start_time', 'end_time', 'se_services', 'ell_programs',\n",
      "       'school_accessibility_description', 'number_programs', 'priority01',\n",
      "       'priority02', 'priority03', 'priority04', 'priority05', 'priority06',\n",
      "       'priority07', 'priority08', 'priority09', 'priority10', 'location_1',\n",
      "       'community_board', 'council_district', 'census_tract', 'bin', 'bbl',\n",
      "       'nta', 'zip_codes', 'community_districts', 'borough_boundaries',\n",
      "       'city_council_districts', 'police_precincts'],\n",
      "      dtype='object')\n"
     ]
    }
   ],
   "source": [
    "print(df_brooklyn.columns)"
   ]
  },
  {
   "cell_type": "code",
   "execution_count": 59,
   "id": "513dcab5",
   "metadata": {},
   "outputs": [
    {
     "name": "stdout",
     "output_type": "stream",
     "text": [
      "grade_span_min\n",
      "9.0    98\n",
      "6.0    23\n",
      "Name: count, dtype: int64\n",
      "\n",
      "grade_span_max\n",
      "12    117\n",
      "10      2\n",
      "9       1\n",
      "11      1\n",
      "Name: count, dtype: int64\n"
     ]
    }
   ],
   "source": [
    "print(df_brooklyn[\"grade_span_min\"].value_counts())\n",
    "print()\n",
    "print(df_brooklyn[\"grade_span_max\"].value_counts())"
   ]
  },
  {
   "cell_type": "code",
   "execution_count": 62,
   "id": "db78eaaf",
   "metadata": {},
   "outputs": [
    {
     "name": "stdout",
     "output_type": "stream",
     "text": [
      "121 unique schools in Brooklyn offer Grade 9 entry.\n"
     ]
    }
   ],
   "source": [
    "has_grade9 = df_brooklyn[(df_brooklyn[\"grade_span_min\"] <= 9) & (df_brooklyn[\"grade_span_max\"] >= 9)]\n",
    "n_schools_with_grade9 = has_grade9[\"dbn\"].nunique()\n",
    "print(f\"{n_schools_with_grade9} unique schools in Brooklyn offer Grade 9 entry.\")"
   ]
  },
  {
   "cell_type": "markdown",
   "id": "52fd67d2",
   "metadata": {},
   "source": [
    "### 4. Grouping and Summarizing"
   ]
  },
  {
   "cell_type": "markdown",
   "id": "13e1e990",
   "metadata": {},
   "source": [
    "#### Count unique schools per borough"
   ]
  },
  {
   "cell_type": "code",
   "execution_count": 63,
   "id": "593e67d0",
   "metadata": {},
   "outputs": [
    {
     "data": {
      "text/html": [
       "<div>\n",
       "<style scoped>\n",
       "    .dataframe tbody tr th:only-of-type {\n",
       "        vertical-align: middle;\n",
       "    }\n",
       "\n",
       "    .dataframe tbody tr th {\n",
       "        vertical-align: top;\n",
       "    }\n",
       "\n",
       "    .dataframe thead th {\n",
       "        text-align: right;\n",
       "    }\n",
       "</style>\n",
       "<table border=\"1\" class=\"dataframe\">\n",
       "  <thead>\n",
       "    <tr style=\"text-align: right;\">\n",
       "      <th></th>\n",
       "      <th>borough</th>\n",
       "      <th>n_schools</th>\n",
       "    </tr>\n",
       "  </thead>\n",
       "  <tbody>\n",
       "    <tr>\n",
       "      <th>0</th>\n",
       "      <td>Bronx</td>\n",
       "      <td>118</td>\n",
       "    </tr>\n",
       "    <tr>\n",
       "      <th>1</th>\n",
       "      <td>Brooklyn</td>\n",
       "      <td>121</td>\n",
       "    </tr>\n",
       "    <tr>\n",
       "      <th>2</th>\n",
       "      <td>Manhattan</td>\n",
       "      <td>106</td>\n",
       "    </tr>\n",
       "    <tr>\n",
       "      <th>3</th>\n",
       "      <td>Queens</td>\n",
       "      <td>80</td>\n",
       "    </tr>\n",
       "    <tr>\n",
       "      <th>4</th>\n",
       "      <td>Staten Island</td>\n",
       "      <td>10</td>\n",
       "    </tr>\n",
       "  </tbody>\n",
       "</table>\n",
       "</div>"
      ],
      "text/plain": [
       "         borough  n_schools\n",
       "0          Bronx        118\n",
       "1       Brooklyn        121\n",
       "2      Manhattan        106\n",
       "3         Queens         80\n",
       "4  Staten Island         10"
      ]
     },
     "execution_count": 63,
     "metadata": {},
     "output_type": "execute_result"
    }
   ],
   "source": [
    "df_grouped = (df.groupby(\"borough\")\n",
    "                .agg(n_schools=(\"dbn\", \"nunique\"))\n",
    "                .reset_index()\n",
    "             )\n",
    "df_grouped"
   ]
  },
  {
   "cell_type": "markdown",
   "id": "222fd85a",
   "metadata": {},
   "source": [
    "#### Average number of students per borough"
   ]
  },
  {
   "cell_type": "code",
   "execution_count": 65,
   "id": "3470bc55",
   "metadata": {},
   "outputs": [
    {
     "data": {
      "text/html": [
       "<div>\n",
       "<style scoped>\n",
       "    .dataframe tbody tr th:only-of-type {\n",
       "        vertical-align: middle;\n",
       "    }\n",
       "\n",
       "    .dataframe tbody tr th {\n",
       "        vertical-align: top;\n",
       "    }\n",
       "\n",
       "    .dataframe thead th {\n",
       "        text-align: right;\n",
       "    }\n",
       "</style>\n",
       "<table border=\"1\" class=\"dataframe\">\n",
       "  <thead>\n",
       "    <tr style=\"text-align: right;\">\n",
       "      <th></th>\n",
       "      <th>borough</th>\n",
       "      <th>avg_students</th>\n",
       "    </tr>\n",
       "  </thead>\n",
       "  <tbody>\n",
       "    <tr>\n",
       "      <th>0</th>\n",
       "      <td>Bronx</td>\n",
       "      <td>490</td>\n",
       "    </tr>\n",
       "    <tr>\n",
       "      <th>1</th>\n",
       "      <td>Brooklyn</td>\n",
       "      <td>699</td>\n",
       "    </tr>\n",
       "    <tr>\n",
       "      <th>2</th>\n",
       "      <td>Manhattan</td>\n",
       "      <td>590</td>\n",
       "    </tr>\n",
       "    <tr>\n",
       "      <th>3</th>\n",
       "      <td>Queens</td>\n",
       "      <td>1047</td>\n",
       "    </tr>\n",
       "    <tr>\n",
       "      <th>4</th>\n",
       "      <td>Staten Island</td>\n",
       "      <td>1848</td>\n",
       "    </tr>\n",
       "  </tbody>\n",
       "</table>\n",
       "</div>"
      ],
      "text/plain": [
       "         borough  avg_students\n",
       "0          Bronx           490\n",
       "1       Brooklyn           699\n",
       "2      Manhattan           590\n",
       "3         Queens          1047\n",
       "4  Staten Island          1848"
      ]
     },
     "execution_count": 65,
     "metadata": {},
     "output_type": "execute_result"
    }
   ],
   "source": [
    "df_grouped_avg_students = (df.groupby(\"borough\")\n",
    "                             .agg(avg_students=(\"total_students\", \"mean\"))\n",
    "                             .reset_index()\n",
    "                          )\n",
    "\n",
    "# Round on whole numbers\n",
    "df_grouped_avg_students[\"avg_students\"] = df_grouped_avg_students[\"avg_students\"].round(0).astype(int)\n",
    "\n",
    "df_grouped_avg_students\n"
   ]
  },
  {
   "cell_type": "markdown",
   "id": "e48fc9e9",
   "metadata": {},
   "source": [
    "#### Summary of `grade_span_max` grouped by borough"
   ]
  },
  {
   "cell_type": "code",
   "execution_count": 66,
   "id": "c747b5e2",
   "metadata": {},
   "outputs": [
    {
     "name": "stdout",
     "output_type": "stream",
     "text": [
      "         borough  count       mean       std   min   25%   50%   75%   max\n",
      "0          Bronx  118.0  11.906780  0.369506   9.0  12.0  12.0  12.0  12.0\n",
      "1       Brooklyn  121.0  11.933884  0.381566   9.0  12.0  12.0  12.0  12.0\n",
      "2      Manhattan  106.0  11.877358  0.472135   9.0  12.0  12.0  12.0  12.0\n",
      "3         Queens   80.0  11.825000  0.497462  10.0  12.0  12.0  12.0  12.0\n",
      "4  Staten Island   10.0  12.000000  0.000000  12.0  12.0  12.0  12.0  12.0\n"
     ]
    }
   ],
   "source": [
    "grade_span_summary = (\n",
    "    df.groupby(\"borough\")[\"grade_span_max\"]\n",
    "      .describe()\n",
    "      .reset_index()\n",
    ")\n",
    "print(grade_span_summary)"
   ]
  },
  {
   "cell_type": "markdown",
   "id": "61f2ce75",
   "metadata": {},
   "source": [
    "### 5. Visualisations"
   ]
  },
  {
   "cell_type": "code",
   "execution_count": 90,
   "id": "3ec52f04",
   "metadata": {},
   "outputs": [
    {
     "data": {
      "image/png": "[encoded data removed]",
      "text/plain": [
       "<Figure size 640x480 with 1 Axes>"
      ]
     },
     "metadata": {},
     "output_type": "display_data"
    }
   ],
   "source": [
    "df_grouped.plot(kind=\"bar\", x=\"borough\", y=\"n_schools\", legend=False)\n",
    "plt.xlabel(\"Borough\", fontsize=12, labelpad=10)\n",
    "plt.ylabel(\"Number of Unique Schools\", fontsize=12, labelpad=10)\n",
    "plt.title(\"Number of Unique Schools per Borough\", fontsize=16)\n",
    "plt.xticks(rotation=0)\n",
    "plt.grid(axis='y')\n",
    "plt.tight_layout()\n",
    "plt.show()"
   ]
  },
  {
   "cell_type": "markdown",
   "id": "baa37216",
   "metadata": {},
   "source": [
    "Brooklyn and the Bronx have the largest number of high schools, while Staten Island has very few. Maybe this reflects the differences in population across the boroughs."
   ]
  },
  {
   "cell_type": "code",
   "execution_count": null,
   "id": "1c0a5f57",
   "metadata": {},
   "outputs": [
    {
     "data": {
      "text/plain": [
       "<Figure size 800x500 with 0 Axes>"
      ]
     },
     "metadata": {},
     "output_type": "display_data"
    },
    {
     "data": {
      "image/png": "[encoded data removed]",
      "text/plain": [
       "<Figure size 640x480 with 1 Axes>"
      ]
     },
     "metadata": {},
     "output_type": "display_data"
    }
   ],
   "source": [
    "df_grouped_avg_students.plot(kind=\"bar\", x=\"borough\", y=\"avg_students\", legend=False)\n",
    "plt.xlabel(\"Borough\", fontsize=12, labelpad=10)\n",
    "plt.ylabel(\"Average Students\", fontsize=12, labelpad=10)\n",
    "plt.title(\"Average Students per Borough\", fontsize=16)\n",
    "plt.xticks(rotation=0)\n",
    "plt.grid(axis='y')\n",
    "plt.tight_layout()\n",
    "plt.show()"
   ]
  },
  {
   "cell_type": "markdown",
   "id": "2c6bc9f6",
   "metadata": {},
   "source": [
    "Staten Island stands out with a particularly high average number of students per school. In contrast, schools in the Bronx, Manhattan, and Brooklyn tend to be smaller on average."
   ]
  },
  {
   "cell_type": "code",
   "execution_count": 95,
   "id": "c8629d95",
   "metadata": {},
   "outputs": [
    {
     "data": {
      "image/png": "[encoded data removed]",
      "text/plain": [
       "<Figure size 800x500 with 1 Axes>"
      ]
     },
     "metadata": {},
     "output_type": "display_data"
    }
   ],
   "source": [
    "plt.figure(figsize=(8,5))\n",
    "df[\"total_students\"].plot(kind=\"hist\", bins=20, edgecolor=\"black\")\n",
    "plt.xlabel(\"Number of Students\", fontsize=12, labelpad=10)\n",
    "plt.ylabel(\"Number of Schools\", fontsize=12, labelpad=10)\n",
    "plt.title(\"Distribution of School Sizes\", fontsize=16)\n",
    "plt.grid(axis=\"y\")\n",
    "plt.tight_layout()\n",
    "plt.show()"
   ]
  },
  {
   "cell_type": "markdown",
   "id": "59006909",
   "metadata": {},
   "source": [
    "Most NYC high schools have fewer than 1,000 students, with a clear concentration between 200 and 800. Only a small number of schools have very large enrollments (over 3,000 students), which appear as outliers in the distribution. This suggests that the majority of schools operate on a relatively smaller scale, while a few very large institutions drive the upper tail."
   ]
  },
  {
   "cell_type": "code",
   "execution_count": 93,
   "id": "75a61de3",
   "metadata": {},
   "outputs": [
    {
     "data": {
      "image/png": "[encoded data removed]",
      "text/plain": [
       "<Figure size 640x480 with 1 Axes>"
      ]
     },
     "metadata": {},
     "output_type": "display_data"
    }
   ],
   "source": [
    "df_grouped_languages = (\n",
    "    df[\"language_classes\"]\n",
    "    .dropna()\n",
    "    .str.split(\",\")\n",
    "    .explode()\n",
    "    .str.strip()\n",
    "    .value_counts()\n",
    "    .reset_index()\n",
    ")\n",
    "df_grouped_languages.columns = [\"language\", \"n_schools\"]\n",
    "\n",
    "df_grouped_languages.head(10).plot(\n",
    "    kind=\"bar\", x=\"language\", y=\"n_schools\", legend=False\n",
    ")\n",
    "plt.xlabel(\"Language\", fontsize=12, labelpad=10)\n",
    "plt.ylabel(\"Number of Schools\", fontsize=12, labelpad=10)\n",
    "plt.title(\"Top 10 Offered Languages\", fontsize=16)\n",
    "plt.xticks(rotation=45, ha=\"right\")\n",
    "plt.grid(axis=\"y\")\n",
    "plt.tight_layout()\n",
    "plt.show()"
   ]
  },
  {
   "cell_type": "markdown",
   "id": "23dc2885",
   "metadata": {},
   "source": [
    "Spanish is by far the most commonly offered language across NYC high schools, followed by French and Italian. Other languages such as Latin, Chinese (Mandarin), and Japanese are available but only at a much smaller number of schools. This highlights the strong emphasis on Spanish as the primary foreign language option in the school system."
   ]
  },
  {
   "cell_type": "code",
   "execution_count": 94,
   "id": "205e0233",
   "metadata": {},
   "outputs": [
    {
     "data": {
      "image/png": "[encoded data removed]",
      "text/plain": [
       "<Figure size 640x480 with 1 Axes>"
      ]
     },
     "metadata": {},
     "output_type": "display_data"
    }
   ],
   "source": [
    "df_grouped_access = (\n",
    "    df.assign(accessible=df[\"school_accessibility_description\"].str.contains(\"accessible\", case=False, na=False))\n",
    "      .groupby(\"borough\")[\"accessible\"]\n",
    "      .mean()\n",
    "      .reset_index()\n",
    ")\n",
    "\n",
    "df_grouped_access[\"accessible\"] = df_grouped_access[\"accessible\"] * 100  # Prozent\n",
    "\n",
    "df_grouped_access.plot(kind=\"bar\", x=\"borough\", y=\"accessible\", legend=False)\n",
    "plt.xlabel(\"Borough\", fontsize=12, labelpad=10)\n",
    "plt.ylabel(\"Accessible Schools (%)\", fontsize=12, labelpad=10)\n",
    "plt.title(\"Share of Accessible Schools per Borough\", fontsize=16)\n",
    "plt.xticks(rotation=0)\n",
    "plt.grid(axis=\"y\")\n",
    "plt.tight_layout()\n",
    "plt.show()"
   ]
  },
  {
   "cell_type": "markdown",
   "id": "3f32ab1a",
   "metadata": {},
   "source": [
    "All boroughs report 100% of schools as accessible according to the dataset. While this uniformity may reflect a data-entry convention rather than reality, it suggests that accessibility is considered a standard feature across all NYC high schools."
   ]
  },
  {
   "cell_type": "markdown",
   "id": "cb56138d",
   "metadata": {},
   "source": [
    "### 6. Key insights"
   ]
  },
  {
   "cell_type": "markdown",
   "id": "bfd59039",
   "metadata": {},
   "source": [
    "- **Dataset scope:** 435 rows, 69 columns.  \n",
    "- **Data quality:** Many fields are sparsely populated (e.g., `priority07–10` ~99% missing; expected grade span fields `expgrade_span_min/max` >92% missing). Core fields (`total_students`, `grade_span_min/max`) are mostly complete.  \n",
    "- **Brooklyn focus:** 121 unique schools in Brooklyn, and **all 121 offer Grade-9 entry** (`grade_span_min ≤ 9` and `grade_span_max ≥ 9`).  \n",
    "- **Schools per borough (unique DBNs):** Brooklyn (121) and Bronx (118) lead; Manhattan (106), Queens (80), Staten Island (10).  \n",
    "- **Average students per school:** Staten Island (~1,848) and Queens (~1,047) are much larger on average; Brooklyn (~699), Manhattan (~590), Bronx (~490) are smaller.  \n",
    "- **Grade span (max grade) by borough:** Nearly all boroughs cluster at **grade 12** as the max; variation is minimal (means ≈ 11.8–12.0, tiny std; Staten Island is 100% at 12).  \n",
    "- **Languages plot:** Spanish dominates by a wide margin; French and Italian follow—others appear only at small counts.  \n",
    "- **School size distribution:** Most schools are between ~200–800 students; a few very large schools create a long right tail (outliers >3,000).  \n",
    "- **Accessibility plot:** Dataset reports 100% “accessible” across boroughs—likely a data-entry convention rather than a nuanced reality.\n",
    "\n",
    "The analysis shows that Brooklyn and the Bronx host the largest number of high schools, while Staten Island has only a few but much larger ones on average. Nearly all schools span up to grade 12, and every school in Brooklyn offers grade-9 entry. Spanish is by far the most common foreign language, with French and Italian trailing behind. Most schools are relatively small (200–800 students), with only a few outliers above 3,000. Interestingly, the dataset reports 100% accessibility across all boroughs, which likely reflects a data-entry convention rather than the actual situation."
   ]
  }
 ],
 "metadata": {
  "kernelspec": {
   "display_name": "base",
   "language": "python",
   "name": "python3"
  },
  "language_info": {
   "codemirror_mode": {
    "name": "ipython",
    "version": 3
   },
   "file_extension": ".py",
   "mimetype": "text/x-python",
   "name": "python",
   "nbconvert_exporter": "python",
   "pygments_lexer": "ipython3",
   "version": "3.12.2"
  }
 },
 "nbformat": 4,
 "nbformat_minor": 5
}
