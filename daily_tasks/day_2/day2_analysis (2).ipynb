{
 "cells": [
  {
   "cell_type": "markdown",
   "id": "867c71e9-d735-4252-b897-6c4a281188df",
   "metadata": {},
   "source": [
    "\n",
    "## 🐍 NYC High School Directory Exploration"
   ]
  },
  {
   "cell_type": "markdown",
   "id": "a59c7659-c433-41a9-838a-ea995aade73b",
   "metadata": {},
   "source": [
    "## Load & clean data"
   ]
  },
  {
   "cell_type": "code",
   "execution_count": 3,
   "id": "fcd3b0fb-7378-4def-84ac-4adc1f04d641",
   "metadata": {},
   "outputs": [],
   "source": [
    "import pandas as pd\n",
    "import matplotlib.pyplot as plt"
   ]
  },
  {
   "cell_type": "code",
   "execution_count": 4,
   "id": "6fa5a60a-0b96-4295-9816-2af2f000e27e",
   "metadata": {},
   "outputs": [],
   "source": [
    "df = pd.read_csv(\"high-school-directory.csv\")"
   ]
  },
  {
   "cell_type": "code",
   "execution_count": 5,
   "id": "c59d4dd9-5e9d-4baa-beb9-cb9d58f23ca0",
   "metadata": {},
   "outputs": [
    {
     "name": "stdout",
     "output_type": "stream",
     "text": [
      "Shape: (435, 69)\n"
     ]
    },
    {
     "data": {
      "text/html": [
       "<div>\n",
       "<style scoped>\n",
       "    .dataframe tbody tr th:only-of-type {\n",
       "        vertical-align: middle;\n",
       "    }\n",
       "\n",
       "    .dataframe tbody tr th {\n",
       "        vertical-align: top;\n",
       "    }\n",
       "\n",
       "    .dataframe thead th {\n",
       "        text-align: right;\n",
       "    }\n",
       "</style>\n",
       "<table border=\"1\" class=\"dataframe\">\n",
       "  <thead>\n",
       "    <tr style=\"text-align: right;\">\n",
       "      <th></th>\n",
       "      <th>dbn</th>\n",
       "      <th>school_name</th>\n",
       "      <th>borough</th>\n",
       "      <th>building_code</th>\n",
       "      <th>phone_number</th>\n",
       "      <th>fax_number</th>\n",
       "      <th>grade_span_min</th>\n",
       "      <th>grade_span_max</th>\n",
       "      <th>expgrade_span_min</th>\n",
       "      <th>expgrade_span_max</th>\n",
       "      <th>...</th>\n",
       "      <th>Council District</th>\n",
       "      <th>Census Tract</th>\n",
       "      <th>BIN</th>\n",
       "      <th>BBL</th>\n",
       "      <th>NTA</th>\n",
       "      <th>Zip Codes</th>\n",
       "      <th>Community Districts</th>\n",
       "      <th>Borough Boundaries</th>\n",
       "      <th>City Council Districts</th>\n",
       "      <th>Police Precincts</th>\n",
       "    </tr>\n",
       "  </thead>\n",
       "  <tbody>\n",
       "    <tr>\n",
       "      <th>0</th>\n",
       "      <td>27Q260</td>\n",
       "      <td>Frederick Douglass Academy VI High School</td>\n",
       "      <td>Queens</td>\n",
       "      <td>Q465</td>\n",
       "      <td>718-471-2154</td>\n",
       "      <td>718-471-2890</td>\n",
       "      <td>9.0</td>\n",
       "      <td>12</td>\n",
       "      <td>NaN</td>\n",
       "      <td>NaN</td>\n",
       "      <td>...</td>\n",
       "      <td>31.0</td>\n",
       "      <td>100802.0</td>\n",
       "      <td>4300730.0</td>\n",
       "      <td>4.157360e+09</td>\n",
       "      <td>Far Rockaway-Bayswater                        ...</td>\n",
       "      <td>20529.0</td>\n",
       "      <td>51</td>\n",
       "      <td>3</td>\n",
       "      <td>47</td>\n",
       "      <td>59</td>\n",
       "    </tr>\n",
       "    <tr>\n",
       "      <th>1</th>\n",
       "      <td>21K559</td>\n",
       "      <td>Life Academy High School for Film and Music</td>\n",
       "      <td>Brooklyn</td>\n",
       "      <td>K400</td>\n",
       "      <td>718-333-7750</td>\n",
       "      <td>718-333-7775</td>\n",
       "      <td>9.0</td>\n",
       "      <td>12</td>\n",
       "      <td>NaN</td>\n",
       "      <td>NaN</td>\n",
       "      <td>...</td>\n",
       "      <td>47.0</td>\n",
       "      <td>306.0</td>\n",
       "      <td>3186454.0</td>\n",
       "      <td>3.068830e+09</td>\n",
       "      <td>Gravesend                                     ...</td>\n",
       "      <td>17616.0</td>\n",
       "      <td>21</td>\n",
       "      <td>2</td>\n",
       "      <td>45</td>\n",
       "      <td>35</td>\n",
       "    </tr>\n",
       "    <tr>\n",
       "      <th>2</th>\n",
       "      <td>16K393</td>\n",
       "      <td>Frederick Douglass Academy IV Secondary School</td>\n",
       "      <td>Brooklyn</td>\n",
       "      <td>K026</td>\n",
       "      <td>718-574-2820</td>\n",
       "      <td>718-574-2821</td>\n",
       "      <td>9.0</td>\n",
       "      <td>12</td>\n",
       "      <td>NaN</td>\n",
       "      <td>NaN</td>\n",
       "      <td>...</td>\n",
       "      <td>36.0</td>\n",
       "      <td>291.0</td>\n",
       "      <td>3393805.0</td>\n",
       "      <td>3.016160e+09</td>\n",
       "      <td>Stuyvesant Heights                            ...</td>\n",
       "      <td>18181.0</td>\n",
       "      <td>69</td>\n",
       "      <td>2</td>\n",
       "      <td>49</td>\n",
       "      <td>52</td>\n",
       "    </tr>\n",
       "    <tr>\n",
       "      <th>3</th>\n",
       "      <td>08X305</td>\n",
       "      <td>Pablo Neruda Academy</td>\n",
       "      <td>Bronx</td>\n",
       "      <td>X450</td>\n",
       "      <td>718-824-1682</td>\n",
       "      <td>718-824-1663</td>\n",
       "      <td>9.0</td>\n",
       "      <td>12</td>\n",
       "      <td>NaN</td>\n",
       "      <td>NaN</td>\n",
       "      <td>...</td>\n",
       "      <td>18.0</td>\n",
       "      <td>16.0</td>\n",
       "      <td>2022205.0</td>\n",
       "      <td>2.036040e+09</td>\n",
       "      <td>Soundview-Castle Hill-Clason Point-Harding Par...</td>\n",
       "      <td>11611.0</td>\n",
       "      <td>58</td>\n",
       "      <td>5</td>\n",
       "      <td>31</td>\n",
       "      <td>26</td>\n",
       "    </tr>\n",
       "    <tr>\n",
       "      <th>4</th>\n",
       "      <td>03M485</td>\n",
       "      <td>Fiorello H. LaGuardia High School of Music &amp; A...</td>\n",
       "      <td>Manhattan</td>\n",
       "      <td>M485</td>\n",
       "      <td>212-496-0700</td>\n",
       "      <td>212-724-5748</td>\n",
       "      <td>9.0</td>\n",
       "      <td>12</td>\n",
       "      <td>NaN</td>\n",
       "      <td>NaN</td>\n",
       "      <td>...</td>\n",
       "      <td>6.0</td>\n",
       "      <td>151.0</td>\n",
       "      <td>1030341.0</td>\n",
       "      <td>1.011560e+09</td>\n",
       "      <td>Lincoln Square                                ...</td>\n",
       "      <td>12420.0</td>\n",
       "      <td>20</td>\n",
       "      <td>4</td>\n",
       "      <td>19</td>\n",
       "      <td>12</td>\n",
       "    </tr>\n",
       "  </tbody>\n",
       "</table>\n",
       "<p>5 rows × 69 columns</p>\n",
       "</div>"
      ],
      "text/plain": [
       "      dbn                                        school_name    borough  \\\n",
       "0  27Q260          Frederick Douglass Academy VI High School     Queens   \n",
       "1  21K559        Life Academy High School for Film and Music   Brooklyn   \n",
       "2  16K393     Frederick Douglass Academy IV Secondary School   Brooklyn   \n",
       "3  08X305                               Pablo Neruda Academy      Bronx   \n",
       "4  03M485  Fiorello H. LaGuardia High School of Music & A...  Manhattan   \n",
       "\n",
       "  building_code  phone_number    fax_number  grade_span_min  grade_span_max  \\\n",
       "0          Q465  718-471-2154  718-471-2890             9.0              12   \n",
       "1          K400  718-333-7750  718-333-7775             9.0              12   \n",
       "2          K026  718-574-2820  718-574-2821             9.0              12   \n",
       "3          X450  718-824-1682  718-824-1663             9.0              12   \n",
       "4          M485  212-496-0700  212-724-5748             9.0              12   \n",
       "\n",
       "   expgrade_span_min  expgrade_span_max  ... Council District Census Tract  \\\n",
       "0                NaN                NaN  ...             31.0     100802.0   \n",
       "1                NaN                NaN  ...             47.0        306.0   \n",
       "2                NaN                NaN  ...             36.0        291.0   \n",
       "3                NaN                NaN  ...             18.0         16.0   \n",
       "4                NaN                NaN  ...              6.0        151.0   \n",
       "\n",
       "         BIN           BBL                                                NTA  \\\n",
       "0  4300730.0  4.157360e+09  Far Rockaway-Bayswater                        ...   \n",
       "1  3186454.0  3.068830e+09  Gravesend                                     ...   \n",
       "2  3393805.0  3.016160e+09  Stuyvesant Heights                            ...   \n",
       "3  2022205.0  2.036040e+09  Soundview-Castle Hill-Clason Point-Harding Par...   \n",
       "4  1030341.0  1.011560e+09  Lincoln Square                                ...   \n",
       "\n",
       "   Zip Codes Community Districts  Borough Boundaries City Council Districts  \\\n",
       "0    20529.0                  51                   3                     47   \n",
       "1    17616.0                  21                   2                     45   \n",
       "2    18181.0                  69                   2                     49   \n",
       "3    11611.0                  58                   5                     31   \n",
       "4    12420.0                  20                   4                     19   \n",
       "\n",
       "  Police Precincts  \n",
       "0               59  \n",
       "1               35  \n",
       "2               52  \n",
       "3               26  \n",
       "4               12  \n",
       "\n",
       "[5 rows x 69 columns]"
      ]
     },
     "metadata": {},
     "output_type": "display_data"
    }
   ],
   "source": [
    "print(\"Shape:\", df.shape)\n",
    "display(df.head())"
   ]
  },
  {
   "cell_type": "markdown",
   "id": "05631919-f9b0-47b1-a882-368b982d8878",
   "metadata": {},
   "source": [
    "## a) Filter for Brooklyn"
   ]
  },
  {
   "cell_type": "code",
   "execution_count": 15,
   "id": "e8dc2330-1f58-4c4d-8cc4-d7d9be0111e5",
   "metadata": {},
   "outputs": [
    {
     "data": {
      "text/html": [
       "<div>\n",
       "<style scoped>\n",
       "    .dataframe tbody tr th:only-of-type {\n",
       "        vertical-align: middle;\n",
       "    }\n",
       "\n",
       "    .dataframe tbody tr th {\n",
       "        vertical-align: top;\n",
       "    }\n",
       "\n",
       "    .dataframe thead th {\n",
       "        text-align: right;\n",
       "    }\n",
       "</style>\n",
       "<table border=\"1\" class=\"dataframe\">\n",
       "  <thead>\n",
       "    <tr style=\"text-align: right;\">\n",
       "      <th></th>\n",
       "      <th>dbn</th>\n",
       "      <th>school_name</th>\n",
       "      <th>borough</th>\n",
       "      <th>building_code</th>\n",
       "      <th>phone_number</th>\n",
       "      <th>fax_number</th>\n",
       "      <th>grade_span_min</th>\n",
       "      <th>grade_span_max</th>\n",
       "      <th>expgrade_span_min</th>\n",
       "      <th>expgrade_span_max</th>\n",
       "      <th>...</th>\n",
       "      <th>council_district</th>\n",
       "      <th>census_tract</th>\n",
       "      <th>bin</th>\n",
       "      <th>bbl</th>\n",
       "      <th>nta</th>\n",
       "      <th>zip_codes</th>\n",
       "      <th>community_districts</th>\n",
       "      <th>borough_boundaries</th>\n",
       "      <th>city_council_districts</th>\n",
       "      <th>police_precincts</th>\n",
       "    </tr>\n",
       "  </thead>\n",
       "  <tbody>\n",
       "    <tr>\n",
       "      <th>1</th>\n",
       "      <td>21K559</td>\n",
       "      <td>Life Academy High School for Film and Music</td>\n",
       "      <td>Brooklyn</td>\n",
       "      <td>K400</td>\n",
       "      <td>718-333-7750</td>\n",
       "      <td>718-333-7775</td>\n",
       "      <td>9.0</td>\n",
       "      <td>12</td>\n",
       "      <td>NaN</td>\n",
       "      <td>NaN</td>\n",
       "      <td>...</td>\n",
       "      <td>47.0</td>\n",
       "      <td>306.0</td>\n",
       "      <td>3186454.0</td>\n",
       "      <td>3.068830e+09</td>\n",
       "      <td>Gravesend                                     ...</td>\n",
       "      <td>17616.0</td>\n",
       "      <td>21</td>\n",
       "      <td>2</td>\n",
       "      <td>45</td>\n",
       "      <td>35</td>\n",
       "    </tr>\n",
       "    <tr>\n",
       "      <th>2</th>\n",
       "      <td>16K393</td>\n",
       "      <td>Frederick Douglass Academy IV Secondary School</td>\n",
       "      <td>Brooklyn</td>\n",
       "      <td>K026</td>\n",
       "      <td>718-574-2820</td>\n",
       "      <td>718-574-2821</td>\n",
       "      <td>9.0</td>\n",
       "      <td>12</td>\n",
       "      <td>NaN</td>\n",
       "      <td>NaN</td>\n",
       "      <td>...</td>\n",
       "      <td>36.0</td>\n",
       "      <td>291.0</td>\n",
       "      <td>3393805.0</td>\n",
       "      <td>3.016160e+09</td>\n",
       "      <td>Stuyvesant Heights                            ...</td>\n",
       "      <td>18181.0</td>\n",
       "      <td>69</td>\n",
       "      <td>2</td>\n",
       "      <td>49</td>\n",
       "      <td>52</td>\n",
       "    </tr>\n",
       "    <tr>\n",
       "      <th>7</th>\n",
       "      <td>17K122</td>\n",
       "      <td>Pathways in Technology Early College High Scho...</td>\n",
       "      <td>Brooklyn</td>\n",
       "      <td>K625</td>\n",
       "      <td>718-221-1593</td>\n",
       "      <td>718-221-1781</td>\n",
       "      <td>9.0</td>\n",
       "      <td>12</td>\n",
       "      <td>9.0</td>\n",
       "      <td>14.0</td>\n",
       "      <td>...</td>\n",
       "      <td>36.0</td>\n",
       "      <td>311.0</td>\n",
       "      <td>3030553.0</td>\n",
       "      <td>3.012160e+09</td>\n",
       "      <td>Crown Heights North                           ...</td>\n",
       "      <td>17615.0</td>\n",
       "      <td>16</td>\n",
       "      <td>2</td>\n",
       "      <td>49</td>\n",
       "      <td>49</td>\n",
       "    </tr>\n",
       "    <tr>\n",
       "      <th>10</th>\n",
       "      <td>23K644</td>\n",
       "      <td>Eagle Academy for Young Men II</td>\n",
       "      <td>Brooklyn</td>\n",
       "      <td>K271</td>\n",
       "      <td>718-495-0863</td>\n",
       "      <td>718-732-2129</td>\n",
       "      <td>6.0</td>\n",
       "      <td>12</td>\n",
       "      <td>NaN</td>\n",
       "      <td>NaN</td>\n",
       "      <td>...</td>\n",
       "      <td>41.0</td>\n",
       "      <td>301.0</td>\n",
       "      <td>3042157.0</td>\n",
       "      <td>3.015500e+09</td>\n",
       "      <td>Ocean Hill                                    ...</td>\n",
       "      <td>13516.0</td>\n",
       "      <td>55</td>\n",
       "      <td>2</td>\n",
       "      <td>17</td>\n",
       "      <td>46</td>\n",
       "    </tr>\n",
       "    <tr>\n",
       "      <th>12</th>\n",
       "      <td>15K462</td>\n",
       "      <td>Secondary School for Law</td>\n",
       "      <td>Brooklyn</td>\n",
       "      <td>K460</td>\n",
       "      <td>718-832-4250</td>\n",
       "      <td>718-499-3947</td>\n",
       "      <td>9.0</td>\n",
       "      <td>12</td>\n",
       "      <td>NaN</td>\n",
       "      <td>NaN</td>\n",
       "      <td>...</td>\n",
       "      <td>39.0</td>\n",
       "      <td>155.0</td>\n",
       "      <td>3025510.0</td>\n",
       "      <td>3.010820e+09</td>\n",
       "      <td>Park Slope-Gowanus                            ...</td>\n",
       "      <td>17617.0</td>\n",
       "      <td>14</td>\n",
       "      <td>2</td>\n",
       "      <td>27</td>\n",
       "      <td>50</td>\n",
       "    </tr>\n",
       "  </tbody>\n",
       "</table>\n",
       "<p>5 rows × 69 columns</p>\n",
       "</div>"
      ],
      "text/plain": [
       "       dbn                                        school_name   borough  \\\n",
       "1   21K559        Life Academy High School for Film and Music  Brooklyn   \n",
       "2   16K393     Frederick Douglass Academy IV Secondary School  Brooklyn   \n",
       "7   17K122  Pathways in Technology Early College High Scho...  Brooklyn   \n",
       "10  23K644                     Eagle Academy for Young Men II  Brooklyn   \n",
       "12  15K462                           Secondary School for Law  Brooklyn   \n",
       "\n",
       "   building_code  phone_number    fax_number  grade_span_min  grade_span_max  \\\n",
       "1           K400  718-333-7750  718-333-7775             9.0              12   \n",
       "2           K026  718-574-2820  718-574-2821             9.0              12   \n",
       "7           K625  718-221-1593  718-221-1781             9.0              12   \n",
       "10          K271  718-495-0863  718-732-2129             6.0              12   \n",
       "12          K460  718-832-4250  718-499-3947             9.0              12   \n",
       "\n",
       "    expgrade_span_min  expgrade_span_max  ... council_district census_tract  \\\n",
       "1                 NaN                NaN  ...             47.0        306.0   \n",
       "2                 NaN                NaN  ...             36.0        291.0   \n",
       "7                 9.0               14.0  ...             36.0        311.0   \n",
       "10                NaN                NaN  ...             41.0        301.0   \n",
       "12                NaN                NaN  ...             39.0        155.0   \n",
       "\n",
       "          bin           bbl  \\\n",
       "1   3186454.0  3.068830e+09   \n",
       "2   3393805.0  3.016160e+09   \n",
       "7   3030553.0  3.012160e+09   \n",
       "10  3042157.0  3.015500e+09   \n",
       "12  3025510.0  3.010820e+09   \n",
       "\n",
       "                                                  nta  zip_codes  \\\n",
       "1   Gravesend                                     ...    17616.0   \n",
       "2   Stuyvesant Heights                            ...    18181.0   \n",
       "7   Crown Heights North                           ...    17615.0   \n",
       "10  Ocean Hill                                    ...    13516.0   \n",
       "12  Park Slope-Gowanus                            ...    17617.0   \n",
       "\n",
       "   community_districts  borough_boundaries city_council_districts  \\\n",
       "1                   21                   2                     45   \n",
       "2                   69                   2                     49   \n",
       "7                   16                   2                     49   \n",
       "10                  55                   2                     17   \n",
       "12                  14                   2                     27   \n",
       "\n",
       "   police_precincts  \n",
       "1                35  \n",
       "2                52  \n",
       "7                49  \n",
       "10               46  \n",
       "12               50  \n",
       "\n",
       "[5 rows x 69 columns]"
      ]
     },
     "execution_count": 15,
     "metadata": {},
     "output_type": "execute_result"
    }
   ],
   "source": [
    "brooklyn = df[df[\"borough\"] == \"Brooklyn\"].copy()\n",
    "brooklyn.head()"
   ]
  },
  {
   "cell_type": "markdown",
   "id": "e652bc0c-5dfd-4e7a-b83a-4fcd70f8a5ed",
   "metadata": {},
   "source": [
    "## b) Count Total Schools in Brooklyn"
   ]
  },
  {
   "cell_type": "code",
   "execution_count": 9,
   "id": "350bc799-2765-482c-bbc8-a2bc2a5c56fe",
   "metadata": {},
   "outputs": [
    {
     "name": "stdout",
     "output_type": "stream",
     "text": [
      "Total schools in Brooklyn: 121\n"
     ]
    }
   ],
   "source": [
    "total_brooklyn_schools = brooklyn_schools[\"dbn\"].nunique()\n",
    "print(\"Total schools in Brooklyn:\", total_brooklyn_schools)"
   ]
  },
  {
   "cell_type": "markdown",
   "id": "550084ce-3926-4bbc-97b8-d2af3c390373",
   "metadata": {},
   "source": [
    "## c) Schools in Brooklyn with Grade 9 Entry"
   ]
  },
  {
   "cell_type": "code",
   "execution_count": 10,
   "id": "83b3f680-171e-4d4a-8417-bfc18a03ff9e",
   "metadata": {},
   "outputs": [
    {
     "name": "stdout",
     "output_type": "stream",
     "text": [
      "Brooklyn schools offering Grade 9 entry: 121\n"
     ]
    }
   ],
   "source": [
    "df[\"grade_span_max\"] = pd.to_numeric(df[\"grade_span_max\"], errors=\"coerce\")\n",
    "df[\"grade_span_min\"] = pd.to_numeric(df[\"grade_span_min\"], errors=\"coerce\")\n",
    "\n",
    "brooklyn_with_9 = brooklyn_schools[\n",
    "    (brooklyn_schools[\"grade_span_min\"] <= 9) & \n",
    "    (brooklyn_schools[\"grade_span_max\"] >= 9)\n",
    "][\"dbn\"].nunique()\n",
    "\n",
    "print(\"Brooklyn schools offering Grade 9 entry:\", brooklyn_with_9)"
   ]
  },
  {
   "cell_type": "markdown",
   "id": "c4a7e20c-260c-47aa-a56e-1968f806cd4d",
   "metadata": {},
   "source": [
    "## Count of Schools per Borough"
   ]
  },
  {
   "cell_type": "code",
   "execution_count": 11,
   "id": "3fbebc97-19a3-4a7b-a686-d6c6538f367d",
   "metadata": {},
   "outputs": [
    {
     "name": "stdout",
     "output_type": "stream",
     "text": [
      "borough\n",
      "Bronx            118\n",
      "Brooklyn         121\n",
      "Manhattan        106\n",
      "Queens            80\n",
      "Staten Island     10\n",
      "Name: dbn, dtype: int64\n"
     ]
    }
   ],
   "source": [
    "schools_per_borough = df.groupby(\"borough\")[\"dbn\"].nunique()\n",
    "print(schools_per_borough)"
   ]
  },
  {
   "cell_type": "markdown",
   "id": "a9b9cdc9-3866-4973-983d-d02fc5a64f7e",
   "metadata": {},
   "source": [
    "## Average Number of Students per Borough"
   ]
  },
  {
   "cell_type": "code",
   "execution_count": 12,
   "id": "1ff54f04-ad1a-48be-a431-2d315479f94a",
   "metadata": {},
   "outputs": [
    {
     "name": "stdout",
     "output_type": "stream",
     "text": [
      "borough\n",
      "Bronx             490.406780\n",
      "Brooklyn          699.134454\n",
      "Manhattan         589.825243\n",
      "Queens           1046.644737\n",
      "Staten Island    1847.500000\n",
      "Name: total_students, dtype: float64\n"
     ]
    }
   ],
   "source": [
    "avg_students = df.groupby(\"borough\")[\"total_students\"].mean()\n",
    "print(avg_students)"
   ]
  },
  {
   "cell_type": "markdown",
   "id": "edad121b-6cf8-412c-839f-c8bf1eca87f5",
   "metadata": {},
   "source": [
    "## Summary of Grade Span Max by Borough"
   ]
  },
  {
   "cell_type": "code",
   "execution_count": 13,
   "id": "76cc28fb-a5ae-4f9e-9595-f8bbcf18253d",
   "metadata": {},
   "outputs": [
    {
     "name": "stdout",
     "output_type": "stream",
     "text": [
      "               count       mean       std   min   25%   50%   75%   max\n",
      "borough                                                                \n",
      "Bronx          118.0  11.906780  0.369506   9.0  12.0  12.0  12.0  12.0\n",
      "Brooklyn       121.0  11.933884  0.381566   9.0  12.0  12.0  12.0  12.0\n",
      "Manhattan      106.0  11.877358  0.472135   9.0  12.0  12.0  12.0  12.0\n",
      "Queens          80.0  11.825000  0.497462  10.0  12.0  12.0  12.0  12.0\n",
      "Staten Island   10.0  12.000000  0.000000  12.0  12.0  12.0  12.0  12.0\n"
     ]
    }
   ],
   "source": [
    "summary_grade_span = df.groupby(\"borough\")[\"grade_span_max\"].describe()\n",
    "print(summary_grade_span)"
   ]
  },
  {
   "cell_type": "markdown",
   "id": "bcb9f053-d96a-4062-8f80-2b534ab049fc",
   "metadata": {},
   "source": [
    "## Visualization"
   ]
  },
  {
   "cell_type": "code",
   "execution_count": 14,
   "id": "5ebd871c-b32a-4bfd-b5fd-0bbb9c1d8af3",
   "metadata": {},
   "outputs": [
    {
     "data": {
      "image/png": "[encoded data removed]",
      "text/plain": [
       "<Figure size 800x500 with 1 Axes>"
      ]
     },
     "metadata": {},
     "output_type": "display_data"
    }
   ],
   "source": [
    "import matplotlib.pyplot as plt\n",
    "\n",
    "plt.figure(figsize=(8,5))\n",
    "schools_per_borough.plot(kind=\"bar\", color=\"skyblue\")\n",
    "plt.title(\"Number of Schools per Borough\")\n",
    "plt.xlabel(\"Borough\")\n",
    "plt.ylabel(\"Number of Schools\")\n",
    "plt.show()"
   ]
  },
  {
   "cell_type": "markdown",
   "id": "a792abbf-0c0c-487a-ac78-cdd73d2bfb97",
   "metadata": {},
   "source": [
    "## 7. Key Insights\n",
    "-Brooklyn has the highest number of schools compared to other boroughs.\n",
    "\n",
    "-The average number of students is largest in [X Borough], suggesting bigger schools.\n",
    "\n",
    "-Grade span distribution shows that [X Borough] tends to have more K–12 schools, while others have more specialized grade spans."
   ]
  }
 ],
 "metadata": {
  "kernelspec": {
   "display_name": "Python [conda env:base] *",
   "language": "python",
   "name": "conda-base-py"
  },
  "language_info": {
   "codemirror_mode": {
    "name": "ipython",
    "version": 3
   },
   "file_extension": ".py",
   "mimetype": "text/x-python",
   "name": "python",
   "nbconvert_exporter": "python",
   "pygments_lexer": "ipython3",
   "version": "3.13.5"
  }
 },
 "nbformat": 4,
 "nbformat_minor": 5
}
