{
 "cells": [
  {
   "cell_type": "code",
   "execution_count": 226,
   "id": "7a84d54c",
   "metadata": {},
   "outputs": [
    {
     "name": "stdout",
     "output_type": "stream",
     "text": [
      "Defaulting to user installation because normal site-packages is not writeable\n",
      "Requirement already satisfied: pandas in c:\\users\\aminm\\appdata\\local\\packages\\pythonsoftwarefoundation.python.3.13_qbz5n2kfra8p0\\localcache\\local-packages\\python313\\site-packages (2.3.2)\n",
      "Requirement already satisfied: matplotlib in c:\\users\\aminm\\appdata\\local\\packages\\pythonsoftwarefoundation.python.3.13_qbz5n2kfra8p0\\localcache\\local-packages\\python313\\site-packages (3.10.6)\n",
      "Requirement already satisfied: numpy>=1.26.0 in c:\\users\\aminm\\appdata\\local\\packages\\pythonsoftwarefoundation.python.3.13_qbz5n2kfra8p0\\localcache\\local-packages\\python313\\site-packages (from pandas) (2.3.3)\n",
      "Requirement already satisfied: python-dateutil>=2.8.2 in c:\\users\\aminm\\appdata\\local\\packages\\pythonsoftwarefoundation.python.3.13_qbz5n2kfra8p0\\localcache\\local-packages\\python313\\site-packages (from pandas) (2.9.0.post0)\n",
      "Requirement already satisfied: pytz>=2020.1 in c:\\users\\aminm\\appdata\\local\\packages\\pythonsoftwarefoundation.python.3.13_qbz5n2kfra8p0\\localcache\\local-packages\\python313\\site-packages (from pandas) (2025.2)\n",
      "Requirement already satisfied: tzdata>=2022.7 in c:\\users\\aminm\\appdata\\local\\packages\\pythonsoftwarefoundation.python.3.13_qbz5n2kfra8p0\\localcache\\local-packages\\python313\\site-packages (from pandas) (2025.2)\n",
      "Requirement already satisfied: contourpy>=1.0.1 in c:\\users\\aminm\\appdata\\local\\packages\\pythonsoftwarefoundation.python.3.13_qbz5n2kfra8p0\\localcache\\local-packages\\python313\\site-packages (from matplotlib) (1.3.3)\n",
      "Requirement already satisfied: cycler>=0.10 in c:\\users\\aminm\\appdata\\local\\packages\\pythonsoftwarefoundation.python.3.13_qbz5n2kfra8p0\\localcache\\local-packages\\python313\\site-packages (from matplotlib) (0.12.1)\n",
      "Requirement already satisfied: fonttools>=4.22.0 in c:\\users\\aminm\\appdata\\local\\packages\\pythonsoftwarefoundation.python.3.13_qbz5n2kfra8p0\\localcache\\local-packages\\python313\\site-packages (from matplotlib) (4.60.0)\n",
      "Requirement already satisfied: kiwisolver>=1.3.1 in c:\\users\\aminm\\appdata\\local\\packages\\pythonsoftwarefoundation.python.3.13_qbz5n2kfra8p0\\localcache\\local-packages\\python313\\site-packages (from matplotlib) (1.4.9)\n",
      "Requirement already satisfied: packaging>=20.0 in c:\\users\\aminm\\appdata\\local\\packages\\pythonsoftwarefoundation.python.3.13_qbz5n2kfra8p0\\localcache\\local-packages\\python313\\site-packages (from matplotlib) (25.0)\n",
      "Requirement already satisfied: pillow>=8 in c:\\users\\aminm\\appdata\\local\\packages\\pythonsoftwarefoundation.python.3.13_qbz5n2kfra8p0\\localcache\\local-packages\\python313\\site-packages (from matplotlib) (11.3.0)\n",
      "Requirement already satisfied: pyparsing>=2.3.1 in c:\\users\\aminm\\appdata\\local\\packages\\pythonsoftwarefoundation.python.3.13_qbz5n2kfra8p0\\localcache\\local-packages\\python313\\site-packages (from matplotlib) (3.2.5)\n",
      "Requirement already satisfied: six>=1.5 in c:\\users\\aminm\\appdata\\local\\packages\\pythonsoftwarefoundation.python.3.13_qbz5n2kfra8p0\\localcache\\local-packages\\python313\\site-packages (from python-dateutil>=2.8.2->pandas) (1.17.0)\n"
     ]
    }
   ],
   "source": [
    "!pip install pandas matplotlib"
   ]
  },
  {
   "cell_type": "code",
   "execution_count": 227,
   "id": "986c7b3d",
   "metadata": {},
   "outputs": [
    {
     "name": "stdout",
     "output_type": "stream",
     "text": [
      "2.3.2\n"
     ]
    }
   ],
   "source": [
    "import pandas as pd\n",
    "import matplotlib.pyplot as plt\n",
    "print(pd.__version__)"
   ]
  },
  {
   "cell_type": "code",
   "execution_count": 228,
   "id": "1e84ba13",
   "metadata": {},
   "outputs": [],
   "source": [
    "df = pd.read_csv(\"E:/DATA ANALYS/webeet project/day 2 webeet/high-school-directory.csv\")\n",
    "#df.head()\n"
   ]
  },
  {
   "cell_type": "code",
   "execution_count": 229,
   "id": "225367d1",
   "metadata": {},
   "outputs": [],
   "source": [
    "\n",
    "df.columns = (               # assign cleaned column names back to the DataFrame\n",
    "    df.columns\n",
    "    .str.lower()             # make all column names lowercase (e.g., 'School Name' -> 'school name')\n",
    "    .str.strip()             # remove leading/trailing whitespace\n",
    "    .str.replace(' ', '_')   # replace spaces with underscores (e.g., 'school name' -> 'school_name')\n",
    "    .str.replace('[^a-z0-9_]', '', regex=True)  # remove special characters, keep only a–z, 0–9, and underscores\n",
    ")\n",
    "#df.head()"
   ]
  },
  {
   "cell_type": "code",
   "execution_count": 230,
   "id": "f0a68e02",
   "metadata": {},
   "outputs": [
    {
     "data": {
      "text/plain": [
       "(121, 69)"
      ]
     },
     "execution_count": 230,
     "metadata": {},
     "output_type": "execute_result"
    }
   ],
   "source": [
    "# Filter the DataFrame to include only schools located in Brooklyn\n",
    "brooklyn_schools = df[df['borough'].str.lower() == 'brooklyn']  \n",
    "\n",
    "# Show the shape (rows, columns) of the filtered DataFrame\n",
    "brooklyn_schools.shape  \n"
   ]
  },
  {
   "cell_type": "code",
   "execution_count": 231,
   "id": "2136d677",
   "metadata": {},
   "outputs": [
    {
     "data": {
      "text/plain": [
       "borough\n",
       "Bronx             490\n",
       "Brooklyn          699\n",
       "Manhattan         590\n",
       "Queens           1047\n",
       "Staten Island    1848\n",
       "Name: total_students, dtype: int64"
      ]
     },
     "execution_count": 231,
     "metadata": {},
     "output_type": "execute_result"
    }
   ],
   "source": [
    "df['total_students'] = pd.to_numeric(df['total_students'], errors='coerce')   # convert column to numeric, handle errors as NaN\n",
    "avg_students = df.groupby('borough')['total_students'].mean().round(0).astype(int)  # group by borough, calculate average students, round and convert to int\n",
    "avg_students   # show result\n",
    "\n"
   ]
  },
  {
   "cell_type": "code",
   "execution_count": 232,
   "id": "ea09b999",
   "metadata": {},
   "outputs": [
    {
     "name": "stdout",
     "output_type": "stream",
     "text": [
      "Number of unique schools in Brooklyn: 121\n"
     ]
    }
   ],
   "source": [
    "brooklyn_unique = brooklyn_schools['dbn'].nunique()   # count unique school IDs (dbn) in Brooklyn\n",
    "print(\"Number of unique schools in Brooklyn:\", brooklyn_unique)   # print the result\n",
    "\n"
   ]
  },
  {
   "cell_type": "code",
   "execution_count": 233,
   "id": "2dbca24a",
   "metadata": {},
   "outputs": [
    {
     "name": "stdout",
     "output_type": "stream",
     "text": [
      "Number of Brooklyn schools with Grade 9 entry: 121\n"
     ]
    }
   ],
   "source": [
    "def grade_to_int(x):\n",
    "    try:\n",
    "        return int(x.replace(\"K\",\"0\"))   # convert 'K' to 0 if grade is Kindergarten\n",
    "    except:\n",
    "        try:\n",
    "            return int(x)                # convert grade values to integer\n",
    "        except:\n",
    "            return None                  # return None if conversion fails\n",
    "\n",
    "# apply conversion to grade columns\n",
    "df['grade_span_min'] = df['grade_span_min'].astype(str).apply(grade_to_int)\n",
    "df['grade_span_max'] = df['grade_span_max'].astype(str).apply(grade_to_int)\n",
    "\n",
    "# filter Brooklyn schools that include grade 9 in their span\n",
    "brooklyn_with_grade9 = brooklyn_schools[\n",
    "    (brooklyn_schools['grade_span_min'] <= 9) &   # minimum grade <= 9\n",
    "    (brooklyn_schools['grade_span_max'] >= 9)     # maximum grade >= 9\n",
    "]['dbn'].nunique()                                # count unique schools (by dbn)\n",
    "\n",
    "print(\"Number of Brooklyn schools with Grade 9 entry:\", brooklyn_with_grade9)\n"
   ]
  },
  {
   "cell_type": "code",
   "execution_count": 234,
   "id": "df327ffd",
   "metadata": {},
   "outputs": [],
   "source": [
    "schools_per_borough = df.groupby('borough')['dbn'].nunique()  # group by borough and count unique schools (dbn)\n",
    "\n"
   ]
  },
  {
   "cell_type": "code",
   "execution_count": 235,
   "id": "0c4688d2",
   "metadata": {},
   "outputs": [],
   "source": [
    "df['total_students'] = pd.to_numeric(df['total_students'], errors='coerce')  # convert student numbers to numeric, invalid values become NaN\n",
    "avg_students = df.groupby('borough')['total_students'].mean()                # calculate average students per borough\n",
    "\n"
   ]
  },
  {
   "cell_type": "code",
   "execution_count": 236,
   "id": "adb03c7e",
   "metadata": {},
   "outputs": [
    {
     "data": {
      "text/html": [
       "<div>\n",
       "<style scoped>\n",
       "    .dataframe tbody tr th:only-of-type {\n",
       "        vertical-align: middle;\n",
       "    }\n",
       "\n",
       "    .dataframe tbody tr th {\n",
       "        vertical-align: top;\n",
       "    }\n",
       "\n",
       "    .dataframe thead th {\n",
       "        text-align: right;\n",
       "    }\n",
       "</style>\n",
       "<table border=\"1\" class=\"dataframe\">\n",
       "  <thead>\n",
       "    <tr style=\"text-align: right;\">\n",
       "      <th></th>\n",
       "      <th>count</th>\n",
       "      <th>mean</th>\n",
       "      <th>min</th>\n",
       "      <th>max</th>\n",
       "    </tr>\n",
       "    <tr>\n",
       "      <th>borough</th>\n",
       "      <th></th>\n",
       "      <th></th>\n",
       "      <th></th>\n",
       "      <th></th>\n",
       "    </tr>\n",
       "  </thead>\n",
       "  <tbody>\n",
       "    <tr>\n",
       "      <th>Bronx</th>\n",
       "      <td>118.0</td>\n",
       "      <td>11.906780</td>\n",
       "      <td>9.0</td>\n",
       "      <td>12.0</td>\n",
       "    </tr>\n",
       "    <tr>\n",
       "      <th>Brooklyn</th>\n",
       "      <td>121.0</td>\n",
       "      <td>11.933884</td>\n",
       "      <td>9.0</td>\n",
       "      <td>12.0</td>\n",
       "    </tr>\n",
       "    <tr>\n",
       "      <th>Manhattan</th>\n",
       "      <td>106.0</td>\n",
       "      <td>11.877358</td>\n",
       "      <td>9.0</td>\n",
       "      <td>12.0</td>\n",
       "    </tr>\n",
       "    <tr>\n",
       "      <th>Queens</th>\n",
       "      <td>80.0</td>\n",
       "      <td>11.825000</td>\n",
       "      <td>10.0</td>\n",
       "      <td>12.0</td>\n",
       "    </tr>\n",
       "    <tr>\n",
       "      <th>Staten Island</th>\n",
       "      <td>10.0</td>\n",
       "      <td>12.000000</td>\n",
       "      <td>12.0</td>\n",
       "      <td>12.0</td>\n",
       "    </tr>\n",
       "  </tbody>\n",
       "</table>\n",
       "</div>"
      ],
      "text/plain": [
       "               count       mean   min   max\n",
       "borough                                    \n",
       "Bronx          118.0  11.906780   9.0  12.0\n",
       "Brooklyn       121.0  11.933884   9.0  12.0\n",
       "Manhattan      106.0  11.877358   9.0  12.0\n",
       "Queens          80.0  11.825000  10.0  12.0\n",
       "Staten Island   10.0  12.000000  12.0  12.0"
      ]
     },
     "execution_count": 236,
     "metadata": {},
     "output_type": "execute_result"
    }
   ],
   "source": [
    "summary_grade = df.groupby('borough')['grade_span_max'].describe()[['count', 'mean', 'min', 'max']]\n",
    "summary_grade\n",
    "\n",
    "\n"
   ]
  },
  {
   "cell_type": "code",
   "execution_count": 237,
   "id": "06d8e565",
   "metadata": {},
   "outputs": [
    {
     "data": {
      "image/png": "[encoded data removed]",
      "text/plain": [
       "<Figure size 800x500 with 1 Axes>"
      ]
     },
     "metadata": {},
     "output_type": "display_data"
    }
   ],
   "source": [
    "ax = schools_per_borough.plot(kind='bar', figsize=(8,5), color=['#5e3c99','#b2abd2','#fdb863','#e66101','#1b7837'])\n",
    "for i, v in enumerate(schools_per_borough):\n",
    "    ax.text(i, v + 1, str(v), ha='center', fontweight='bold')\n",
    "plt.title(\"Number of Schools per Borough\")\n",
    "plt.ylabel(\"Unique Schools (by DBN)\")\n",
    "plt.xlabel(\"Borough\")\n",
    "plt.show()\n",
    "\n",
    "\n"
   ]
  },
  {
   "cell_type": "markdown",
   "id": "247d7222",
   "metadata": {},
   "source": [
    "Q1. How many total schools are in Brooklyn?\n",
    "Answer: 121 unique schools (identified by the dbn column).\n",
    "\n",
    "Q2. How many schools in Brooklyn offer Grade 9 entry?\n",
    "Answer: 121 schools.\n",
    "Method: Applied the range condition grade_span_min <= 9 <= grade_span_max. Since every Brooklyn school in the dataset covers Grade 9, the result is equal to the total number of schools in Brooklyn.\n",
    "\n",
    "Q3. Count of schools per borough (unique by dbn):\n",
    "\n",
    "Brooklyn: 121\n",
    "\n",
    "Bronx: 118\n",
    "\n",
    "Manhattan: 106\n",
    "\n",
    "Queens: 80\n",
    "\n",
    "Staten Island: 10\n",
    "\n",
    "Q4. Average number of students per borough:\n",
    "\n",
    "Bronx: 490\n",
    "\n",
    "Brooklyn: 699\n",
    "\n",
    "Manhattan: 590\n",
    "\n",
    "Queens: 1047\n",
    "\n",
    "Staten Island: 1848\n",
    "\n",
    "Q5. Summary of grade_span_max grouped by borough (count, mean, min, max):\n",
    "\n",
    "Borough       \tCount\tMean\tMin\tMax\n",
    "Bronx\t         118\t11.91\t9\t12\n",
    "Brooklyn\t     121\t11.93\t9\t12\n",
    "Manhattan\t     106\t11.88\t9\t12\n",
    "Queens\t          80\t11.83\t10\t12\n",
    "Staten Island\t  10\t12.00\t12\t12\n",
    "\n",
    "\n",
    "\n",
    "Key Insights:\n",
    "\n",
    "Brooklyn has the largest number of schools, followed closely by the Bronx.\n",
    "\n",
    "Staten Island has the fewest schools, but its schools have the largest average student enrollment.\n",
    "\n",
    "Queens schools also stand out with high average enrollment compared to Manhattan and Brooklyn."
   ]
  }
 ],
 "metadata": {
  "kernelspec": {
   "display_name": "Python 3",
   "language": "python",
   "name": "python3"
  },
  "language_info": {
   "codemirror_mode": {
    "name": "ipython",
    "version": 3
   },
   "file_extension": ".py",
   "mimetype": "text/x-python",
   "name": "python",
   "nbconvert_exporter": "python",
   "pygments_lexer": "ipython3",
   "version": "3.13.7"
  }
 },
 "nbformat": 4,
 "nbformat_minor": 5
}
