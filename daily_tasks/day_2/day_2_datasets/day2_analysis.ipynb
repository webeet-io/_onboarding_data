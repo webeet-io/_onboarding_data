{
  "cells": [
    {
      "cell_type": "markdown",
      "id": "22a34694",
      "metadata": {
        "id": "22a34694"
      },
      "source": [
        "# Day 2 Analysis: NYC High School Directory\n",
        "\n",
        "This notebook explores the **NYC High School Directory** dataset using Pandas. We'll perform basic cleaning, answer a few business questions, and create simple visualizations."
      ]
    },
    {
      "cell_type": "markdown",
      "id": "366aabdf",
      "metadata": {
        "id": "366aabdf"
      },
      "source": [
        "## Setup and Data Load"
      ]
    },
    {
      "cell_type": "code",
      "execution_count": 12,
      "id": "1877538e",
      "metadata": {
        "colab": {
          "base_uri": "https://localhost:8080/",
          "height": 603
        },
        "id": "1877538e",
        "outputId": "f4e1baf9-b822-45e4-8fab-47f623cd8e87"
      },
      "outputs": [
        {
          "output_type": "execute_result",
          "data": {
            "text/plain": [
              "      dbn                                        school_name    borough  \\\n",
              "0  27Q260          Frederick Douglass Academy VI High School     Queens   \n",
              "1  21K559        Life Academy High School for Film and Music   Brooklyn   \n",
              "2  16K393     Frederick Douglass Academy IV Secondary School   Brooklyn   \n",
              "3  08X305                               Pablo Neruda Academy      Bronx   \n",
              "4  03M485  Fiorello H. LaGuardia High School of Music & A...  Manhattan   \n",
              "\n",
              "  building_code  phone_number    fax_number  grade_span_min  grade_span_max  \\\n",
              "0          Q465  718-471-2154  718-471-2890             9.0              12   \n",
              "1          K400  718-333-7750  718-333-7775             9.0              12   \n",
              "2          K026  718-574-2820  718-574-2821             9.0              12   \n",
              "3          X450  718-824-1682  718-824-1663             9.0              12   \n",
              "4          M485  212-496-0700  212-724-5748             9.0              12   \n",
              "\n",
              "   expgrade_span_min  expgrade_span_max  ... Council District Census Tract  \\\n",
              "0                NaN                NaN  ...             31.0     100802.0   \n",
              "1                NaN                NaN  ...             47.0        306.0   \n",
              "2                NaN                NaN  ...             36.0        291.0   \n",
              "3                NaN                NaN  ...             18.0         16.0   \n",
              "4                NaN                NaN  ...              6.0        151.0   \n",
              "\n",
              "         BIN           BBL                                                NTA  \\\n",
              "0  4300730.0  4.157360e+09  Far Rockaway-Bayswater                        ...   \n",
              "1  3186454.0  3.068830e+09  Gravesend                                     ...   \n",
              "2  3393805.0  3.016160e+09  Stuyvesant Heights                            ...   \n",
              "3  2022205.0  2.036040e+09  Soundview-Castle Hill-Clason Point-Harding Par...   \n",
              "4  1030341.0  1.011560e+09  Lincoln Square                                ...   \n",
              "\n",
              "   Zip Codes Community Districts  Borough Boundaries City Council Districts  \\\n",
              "0    20529.0                  51                   3                     47   \n",
              "1    17616.0                  21                   2                     45   \n",
              "2    18181.0                  69                   2                     49   \n",
              "3    11611.0                  58                   5                     31   \n",
              "4    12420.0                  20                   4                     19   \n",
              "\n",
              "  Police Precincts  \n",
              "0               59  \n",
              "1               35  \n",
              "2               52  \n",
              "3               26  \n",
              "4               12  \n",
              "\n",
              "[5 rows x 69 columns]"
            ],
            "text/html": [
              "\n",
              "  <div id=\"df-96d5a70d-66cc-443e-97ef-2dcf233a1e59\" class=\"colab-df-container\">\n",
              "    <div>\n",
              "<style scoped>\n",
              "    .dataframe tbody tr th:only-of-type {\n",
              "        vertical-align: middle;\n",
              "    }\n",
              "\n",
              "    .dataframe tbody tr th {\n",
              "        vertical-align: top;\n",
              "    }\n",
              "\n",
              "    .dataframe thead th {\n",
              "        text-align: right;\n",
              "    }\n",
              "</style>\n",
              "<table border=\"1\" class=\"dataframe\">\n",
              "  <thead>\n",
              "    <tr style=\"text-align: right;\">\n",
              "      <th></th>\n",
              "      <th>dbn</th>\n",
              "      <th>school_name</th>\n",
              "      <th>borough</th>\n",
              "      <th>building_code</th>\n",
              "      <th>phone_number</th>\n",
              "      <th>fax_number</th>\n",
              "      <th>grade_span_min</th>\n",
              "      <th>grade_span_max</th>\n",
              "      <th>expgrade_span_min</th>\n",
              "      <th>expgrade_span_max</th>\n",
              "      <th>...</th>\n",
              "      <th>Council District</th>\n",
              "      <th>Census Tract</th>\n",
              "      <th>BIN</th>\n",
              "      <th>BBL</th>\n",
              "      <th>NTA</th>\n",
              "      <th>Zip Codes</th>\n",
              "      <th>Community Districts</th>\n",
              "      <th>Borough Boundaries</th>\n",
              "      <th>City Council Districts</th>\n",
              "      <th>Police Precincts</th>\n",
              "    </tr>\n",
              "  </thead>\n",
              "  <tbody>\n",
              "    <tr>\n",
              "      <th>0</th>\n",
              "      <td>27Q260</td>\n",
              "      <td>Frederick Douglass Academy VI High School</td>\n",
              "      <td>Queens</td>\n",
              "      <td>Q465</td>\n",
              "      <td>718-471-2154</td>\n",
              "      <td>718-471-2890</td>\n",
              "      <td>9.0</td>\n",
              "      <td>12</td>\n",
              "      <td>NaN</td>\n",
              "      <td>NaN</td>\n",
              "      <td>...</td>\n",
              "      <td>31.0</td>\n",
              "      <td>100802.0</td>\n",
              "      <td>4300730.0</td>\n",
              "      <td>4.157360e+09</td>\n",
              "      <td>Far Rockaway-Bayswater                        ...</td>\n",
              "      <td>20529.0</td>\n",
              "      <td>51</td>\n",
              "      <td>3</td>\n",
              "      <td>47</td>\n",
              "      <td>59</td>\n",
              "    </tr>\n",
              "    <tr>\n",
              "      <th>1</th>\n",
              "      <td>21K559</td>\n",
              "      <td>Life Academy High School for Film and Music</td>\n",
              "      <td>Brooklyn</td>\n",
              "      <td>K400</td>\n",
              "      <td>718-333-7750</td>\n",
              "      <td>718-333-7775</td>\n",
              "      <td>9.0</td>\n",
              "      <td>12</td>\n",
              "      <td>NaN</td>\n",
              "      <td>NaN</td>\n",
              "      <td>...</td>\n",
              "      <td>47.0</td>\n",
              "      <td>306.0</td>\n",
              "      <td>3186454.0</td>\n",
              "      <td>3.068830e+09</td>\n",
              "      <td>Gravesend                                     ...</td>\n",
              "      <td>17616.0</td>\n",
              "      <td>21</td>\n",
              "      <td>2</td>\n",
              "      <td>45</td>\n",
              "      <td>35</td>\n",
              "    </tr>\n",
              "    <tr>\n",
              "      <th>2</th>\n",
              "      <td>16K393</td>\n",
              "      <td>Frederick Douglass Academy IV Secondary School</td>\n",
              "      <td>Brooklyn</td>\n",
              "      <td>K026</td>\n",
              "      <td>718-574-2820</td>\n",
              "      <td>718-574-2821</td>\n",
              "      <td>9.0</td>\n",
              "      <td>12</td>\n",
              "      <td>NaN</td>\n",
              "      <td>NaN</td>\n",
              "      <td>...</td>\n",
              "      <td>36.0</td>\n",
              "      <td>291.0</td>\n",
              "      <td>3393805.0</td>\n",
              "      <td>3.016160e+09</td>\n",
              "      <td>Stuyvesant Heights                            ...</td>\n",
              "      <td>18181.0</td>\n",
              "      <td>69</td>\n",
              "      <td>2</td>\n",
              "      <td>49</td>\n",
              "      <td>52</td>\n",
              "    </tr>\n",
              "    <tr>\n",
              "      <th>3</th>\n",
              "      <td>08X305</td>\n",
              "      <td>Pablo Neruda Academy</td>\n",
              "      <td>Bronx</td>\n",
              "      <td>X450</td>\n",
              "      <td>718-824-1682</td>\n",
              "      <td>718-824-1663</td>\n",
              "      <td>9.0</td>\n",
              "      <td>12</td>\n",
              "      <td>NaN</td>\n",
              "      <td>NaN</td>\n",
              "      <td>...</td>\n",
              "      <td>18.0</td>\n",
              "      <td>16.0</td>\n",
              "      <td>2022205.0</td>\n",
              "      <td>2.036040e+09</td>\n",
              "      <td>Soundview-Castle Hill-Clason Point-Harding Par...</td>\n",
              "      <td>11611.0</td>\n",
              "      <td>58</td>\n",
              "      <td>5</td>\n",
              "      <td>31</td>\n",
              "      <td>26</td>\n",
              "    </tr>\n",
              "    <tr>\n",
              "      <th>4</th>\n",
              "      <td>03M485</td>\n",
              "      <td>Fiorello H. LaGuardia High School of Music &amp; A...</td>\n",
              "      <td>Manhattan</td>\n",
              "      <td>M485</td>\n",
              "      <td>212-496-0700</td>\n",
              "      <td>212-724-5748</td>\n",
              "      <td>9.0</td>\n",
              "      <td>12</td>\n",
              "      <td>NaN</td>\n",
              "      <td>NaN</td>\n",
              "      <td>...</td>\n",
              "      <td>6.0</td>\n",
              "      <td>151.0</td>\n",
              "      <td>1030341.0</td>\n",
              "      <td>1.011560e+09</td>\n",
              "      <td>Lincoln Square                                ...</td>\n",
              "      <td>12420.0</td>\n",
              "      <td>20</td>\n",
              "      <td>4</td>\n",
              "      <td>19</td>\n",
              "      <td>12</td>\n",
              "    </tr>\n",
              "  </tbody>\n",
              "</table>\n",
              "<p>5 rows × 69 columns</p>\n",
              "</div>\n",
              "    <div class=\"colab-df-buttons\">\n",
              "\n",
              "  <div class=\"colab-df-container\">\n",
              "    <button class=\"colab-df-convert\" onclick=\"convertToInteractive('df-96d5a70d-66cc-443e-97ef-2dcf233a1e59')\"\n",
              "            title=\"Convert this dataframe to an interactive table.\"\n",
              "            style=\"display:none;\">\n",
              "\n",
              "  <svg xmlns=\"http://www.w3.org/2000/svg\" height=\"24px\" viewBox=\"0 -960 960 960\">\n",
              "    <path d=\"M120-120v-720h720v720H120Zm60-500h600v-160H180v160Zm220 220h160v-160H400v160Zm0 220h160v-160H400v160ZM180-400h160v-160H180v160Zm440 0h160v-160H620v160ZM180-180h160v-160H180v160Zm440 0h160v-160H620v160Z\"/>\n",
              "  </svg>\n",
              "    </button>\n",
              "\n",
              "  <style>\n",
              "    .colab-df-container {\n",
              "      display:flex;\n",
              "      gap: 12px;\n",
              "    }\n",
              "\n",
              "    .colab-df-convert {\n",
              "      background-color: #E8F0FE;\n",
              "      border: none;\n",
              "      border-radius: 50%;\n",
              "      cursor: pointer;\n",
              "      display: none;\n",
              "      fill: #1967D2;\n",
              "      height: 32px;\n",
              "      padding: 0 0 0 0;\n",
              "      width: 32px;\n",
              "    }\n",
              "\n",
              "    .colab-df-convert:hover {\n",
              "      background-color: #E2EBFA;\n",
              "      box-shadow: 0px 1px 2px rgba(60, 64, 67, 0.3), 0px 1px 3px 1px rgba(60, 64, 67, 0.15);\n",
              "      fill: #174EA6;\n",
              "    }\n",
              "\n",
              "    .colab-df-buttons div {\n",
              "      margin-bottom: 4px;\n",
              "    }\n",
              "\n",
              "    [theme=dark] .colab-df-convert {\n",
              "      background-color: #3B4455;\n",
              "      fill: #D2E3FC;\n",
              "    }\n",
              "\n",
              "    [theme=dark] .colab-df-convert:hover {\n",
              "      background-color: #434B5C;\n",
              "      box-shadow: 0px 1px 3px 1px rgba(0, 0, 0, 0.15);\n",
              "      filter: drop-shadow(0px 1px 2px rgba(0, 0, 0, 0.3));\n",
              "      fill: #FFFFFF;\n",
              "    }\n",
              "  </style>\n",
              "\n",
              "    <script>\n",
              "      const buttonEl =\n",
              "        document.querySelector('#df-96d5a70d-66cc-443e-97ef-2dcf233a1e59 button.colab-df-convert');\n",
              "      buttonEl.style.display =\n",
              "        google.colab.kernel.accessAllowed ? 'block' : 'none';\n",
              "\n",
              "      async function convertToInteractive(key) {\n",
              "        const element = document.querySelector('#df-96d5a70d-66cc-443e-97ef-2dcf233a1e59');\n",
              "        const dataTable =\n",
              "          await google.colab.kernel.invokeFunction('convertToInteractive',\n",
              "                                                    [key], {});\n",
              "        if (!dataTable) return;\n",
              "\n",
              "        const docLinkHtml = 'Like what you see? Visit the ' +\n",
              "          '<a target=\"_blank\" href=https://colab.research.google.com/notebooks/data_table.ipynb>data table notebook</a>'\n",
              "          + ' to learn more about interactive tables.';\n",
              "        element.innerHTML = '';\n",
              "        dataTable['output_type'] = 'display_data';\n",
              "        await google.colab.output.renderOutput(dataTable, element);\n",
              "        const docLink = document.createElement('div');\n",
              "        docLink.innerHTML = docLinkHtml;\n",
              "        element.appendChild(docLink);\n",
              "      }\n",
              "    </script>\n",
              "  </div>\n",
              "\n",
              "\n",
              "    <div id=\"df-cc15ee46-deb4-40ad-9f8f-dfa54cec3699\">\n",
              "      <button class=\"colab-df-quickchart\" onclick=\"quickchart('df-cc15ee46-deb4-40ad-9f8f-dfa54cec3699')\"\n",
              "                title=\"Suggest charts\"\n",
              "                style=\"display:none;\">\n",
              "\n",
              "<svg xmlns=\"http://www.w3.org/2000/svg\" height=\"24px\"viewBox=\"0 0 24 24\"\n",
              "     width=\"24px\">\n",
              "    <g>\n",
              "        <path d=\"M19 3H5c-1.1 0-2 .9-2 2v14c0 1.1.9 2 2 2h14c1.1 0 2-.9 2-2V5c0-1.1-.9-2-2-2zM9 17H7v-7h2v7zm4 0h-2V7h2v10zm4 0h-2v-4h2v4z\"/>\n",
              "    </g>\n",
              "</svg>\n",
              "      </button>\n",
              "\n",
              "<style>\n",
              "  .colab-df-quickchart {\n",
              "      --bg-color: #E8F0FE;\n",
              "      --fill-color: #1967D2;\n",
              "      --hover-bg-color: #E2EBFA;\n",
              "      --hover-fill-color: #174EA6;\n",
              "      --disabled-fill-color: #AAA;\n",
              "      --disabled-bg-color: #DDD;\n",
              "  }\n",
              "\n",
              "  [theme=dark] .colab-df-quickchart {\n",
              "      --bg-color: #3B4455;\n",
              "      --fill-color: #D2E3FC;\n",
              "      --hover-bg-color: #434B5C;\n",
              "      --hover-fill-color: #FFFFFF;\n",
              "      --disabled-bg-color: #3B4455;\n",
              "      --disabled-fill-color: #666;\n",
              "  }\n",
              "\n",
              "  .colab-df-quickchart {\n",
              "    background-color: var(--bg-color);\n",
              "    border: none;\n",
              "    border-radius: 50%;\n",
              "    cursor: pointer;\n",
              "    display: none;\n",
              "    fill: var(--fill-color);\n",
              "    height: 32px;\n",
              "    padding: 0;\n",
              "    width: 32px;\n",
              "  }\n",
              "\n",
              "  .colab-df-quickchart:hover {\n",
              "    background-color: var(--hover-bg-color);\n",
              "    box-shadow: 0 1px 2px rgba(60, 64, 67, 0.3), 0 1px 3px 1px rgba(60, 64, 67, 0.15);\n",
              "    fill: var(--button-hover-fill-color);\n",
              "  }\n",
              "\n",
              "  .colab-df-quickchart-complete:disabled,\n",
              "  .colab-df-quickchart-complete:disabled:hover {\n",
              "    background-color: var(--disabled-bg-color);\n",
              "    fill: var(--disabled-fill-color);\n",
              "    box-shadow: none;\n",
              "  }\n",
              "\n",
              "  .colab-df-spinner {\n",
              "    border: 2px solid var(--fill-color);\n",
              "    border-color: transparent;\n",
              "    border-bottom-color: var(--fill-color);\n",
              "    animation:\n",
              "      spin 1s steps(1) infinite;\n",
              "  }\n",
              "\n",
              "  @keyframes spin {\n",
              "    0% {\n",
              "      border-color: transparent;\n",
              "      border-bottom-color: var(--fill-color);\n",
              "      border-left-color: var(--fill-color);\n",
              "    }\n",
              "    20% {\n",
              "      border-color: transparent;\n",
              "      border-left-color: var(--fill-color);\n",
              "      border-top-color: var(--fill-color);\n",
              "    }\n",
              "    30% {\n",
              "      border-color: transparent;\n",
              "      border-left-color: var(--fill-color);\n",
              "      border-top-color: var(--fill-color);\n",
              "      border-right-color: var(--fill-color);\n",
              "    }\n",
              "    40% {\n",
              "      border-color: transparent;\n",
              "      border-right-color: var(--fill-color);\n",
              "      border-top-color: var(--fill-color);\n",
              "    }\n",
              "    60% {\n",
              "      border-color: transparent;\n",
              "      border-right-color: var(--fill-color);\n",
              "    }\n",
              "    80% {\n",
              "      border-color: transparent;\n",
              "      border-right-color: var(--fill-color);\n",
              "      border-bottom-color: var(--fill-color);\n",
              "    }\n",
              "    90% {\n",
              "      border-color: transparent;\n",
              "      border-bottom-color: var(--fill-color);\n",
              "    }\n",
              "  }\n",
              "</style>\n",
              "\n",
              "      <script>\n",
              "        async function quickchart(key) {\n",
              "          const quickchartButtonEl =\n",
              "            document.querySelector('#' + key + ' button');\n",
              "          quickchartButtonEl.disabled = true;  // To prevent multiple clicks.\n",
              "          quickchartButtonEl.classList.add('colab-df-spinner');\n",
              "          try {\n",
              "            const charts = await google.colab.kernel.invokeFunction(\n",
              "                'suggestCharts', [key], {});\n",
              "          } catch (error) {\n",
              "            console.error('Error during call to suggestCharts:', error);\n",
              "          }\n",
              "          quickchartButtonEl.classList.remove('colab-df-spinner');\n",
              "          quickchartButtonEl.classList.add('colab-df-quickchart-complete');\n",
              "        }\n",
              "        (() => {\n",
              "          let quickchartButtonEl =\n",
              "            document.querySelector('#df-cc15ee46-deb4-40ad-9f8f-dfa54cec3699 button');\n",
              "          quickchartButtonEl.style.display =\n",
              "            google.colab.kernel.accessAllowed ? 'block' : 'none';\n",
              "        })();\n",
              "      </script>\n",
              "    </div>\n",
              "\n",
              "    </div>\n",
              "  </div>\n"
            ],
            "application/vnd.google.colaboratory.intrinsic+json": {
              "type": "dataframe",
              "variable_name": "df"
            }
          },
          "metadata": {},
          "execution_count": 12
        }
      ],
      "source": [
        "import pandas as pd\n",
        "import matplotlib.pyplot as plt\n",
        "\n",
        "# Ensure inline plots in Jupyter environments\n",
        "%matplotlib inline\n",
        "\n",
        "file_path = '/content/high-school-directory.csv'\n",
        "df = pd.read_csv(file_path)\n",
        "\n",
        "# Peek at the raw data\n",
        "df.head()"
      ]
    },
    {
      "cell_type": "markdown",
      "id": "18b322d5",
      "metadata": {
        "id": "18b322d5"
      },
      "source": [
        "## Clean Column Names\n",
        "Standardize column names to be lowercase with underscores and no special characters."
      ]
    },
    {
      "cell_type": "code",
      "execution_count": 13,
      "id": "034db352",
      "metadata": {
        "colab": {
          "base_uri": "https://localhost:8080/"
        },
        "id": "034db352",
        "outputId": "62dbbbaa-93e4-42f2-d77c-5af5a12d6bca"
      },
      "outputs": [
        {
          "output_type": "execute_result",
          "data": {
            "text/plain": [
              "['dbn',\n",
              " 'school_name',\n",
              " 'borough',\n",
              " 'building_code',\n",
              " 'phone_number',\n",
              " 'fax_number',\n",
              " 'grade_span_min',\n",
              " 'grade_span_max',\n",
              " 'expgrade_span_min',\n",
              " 'expgrade_span_max']"
            ]
          },
          "metadata": {},
          "execution_count": 13
        }
      ],
      "source": [
        "# Clean column names: lowercase, replace spaces with underscores, remove special characters\n",
        "df.columns = (\n",
        "    df.columns\n",
        "    .str.strip()\n",
        "    .str.lower()\n",
        "    .str.replace(' ', '_')\n",
        "    .str.replace(r'[^\\w\\s]', '', regex=True)\n",
        ")\n",
        "df.columns.tolist()[:10]"
      ]
    },
    {
      "cell_type": "markdown",
      "id": "2faddbfc",
      "metadata": {
        "id": "2faddbfc"
      },
      "source": [
        "## Business Questions"
      ]
    },
    {
      "cell_type": "code",
      "execution_count": 14,
      "id": "a716de2a",
      "metadata": {
        "colab": {
          "base_uri": "https://localhost:8080/"
        },
        "id": "a716de2a",
        "outputId": "ef9f21fd-292a-4cc1-d52c-cd9c3f5a46a0"
      },
      "outputs": [
        {
          "output_type": "execute_result",
          "data": {
            "text/plain": [
              "(121,\n",
              " 351,\n",
              "                count       mean       std   min   25%   50%   75%   max\n",
              " borough                                                                \n",
              " Bronx          118.0  11.906780  0.369506   9.0  12.0  12.0  12.0  12.0\n",
              " Brooklyn       121.0  11.933884  0.381566   9.0  12.0  12.0  12.0  12.0\n",
              " Manhattan      106.0  11.877358  0.472135   9.0  12.0  12.0  12.0  12.0\n",
              " Queens          80.0  11.825000  0.497462  10.0  12.0  12.0  12.0  12.0\n",
              " Staten Island   10.0  12.000000  0.000000  12.0  12.0  12.0  12.0  12.0)"
            ]
          },
          "metadata": {},
          "execution_count": 14
        }
      ],
      "source": [
        "# 1) How many total schools are in Brooklyn?\n",
        "brooklyn_schools_count = df[df['borough'].str.lower() == 'brooklyn'].shape[0]\n",
        "\n",
        "# 2) How many offer Grade 9 entry? (i.e., grade_span_min == 9)\n",
        "grade9_count = df[df['grade_span_min'] == 9].shape[0]\n",
        "\n",
        "# 3) Summary of grade_span_max grouped by borough\n",
        "grade_span_summary = df.groupby('borough')['grade_span_max'].describe()\n",
        "\n",
        "brooklyn_schools_count, grade9_count, grade_span_summary.head()\n"
      ]
    },
    {
      "cell_type": "markdown",
      "id": "18c712e6",
      "metadata": {
        "id": "18c712e6"
      },
      "source": [
        "## Visualizations\n",
        "Three simple charts using Matplotlib (no seaborn, one chart per figure)."
      ]
    },
    {
      "cell_type": "code",
      "execution_count": 15,
      "id": "ea558b9e",
      "metadata": {
        "colab": {
          "base_uri": "https://localhost:8080/",
          "height": 506
        },
        "id": "ea558b9e",
        "outputId": "18e10a41-38f2-4682-a7a0-04e1f708fd1a"
      },
      "outputs": [
        {
          "output_type": "display_data",
          "data": {
            "text/plain": [
              "<Figure size 800x500 with 1 Axes>"
            ],
            "image/png": "[encoded data removed]"
          },
          "metadata": {}
        }
      ],
      "source": [
        "# 1. Number of schools by borough\n",
        "plt.figure(figsize=(8,5))\n",
        "df['borough'].value_counts().plot(kind='bar')\n",
        "plt.title('Number of Schools by Borough')\n",
        "plt.xlabel('Borough')\n",
        "plt.ylabel('Number of Schools')\n",
        "plt.xticks(rotation=45)\n",
        "plt.tight_layout()\n",
        "plt.show()"
      ]
    },
    {
      "cell_type": "code",
      "execution_count": 16,
      "id": "22e34464",
      "metadata": {
        "colab": {
          "base_uri": "https://localhost:8080/",
          "height": 507
        },
        "id": "22e34464",
        "outputId": "e32f07c9-c213-4658-a015-bcd96b0de523"
      },
      "outputs": [
        {
          "output_type": "display_data",
          "data": {
            "text/plain": [
              "<Figure size 800x500 with 1 Axes>"
            ],
            "image/png": "[encoded data removed]"
          },
          "metadata": {}
        }
      ],
      "source": [
        "# 2. Distribution of maximum grade (grade_span_max)\n",
        "plt.figure(figsize=(8,5))\n",
        "df['grade_span_max'].dropna().astype(int).plot(kind='hist', bins=range(8,15))\n",
        "plt.title('Distribution of Maximum Grade Span')\n",
        "plt.xlabel('Max Grade')\n",
        "plt.ylabel('Frequency')\n",
        "plt.tight_layout()\n",
        "plt.show()"
      ]
    },
    {
      "cell_type": "code",
      "execution_count": 17,
      "id": "a4d721d7",
      "metadata": {
        "colab": {
          "base_uri": "https://localhost:8080/",
          "height": 507
        },
        "id": "a4d721d7",
        "outputId": "de3de014-f61f-423b-f81e-cccf8b9051ed"
      },
      "outputs": [
        {
          "output_type": "display_data",
          "data": {
            "text/plain": [
              "<Figure size 800x500 with 1 Axes>"
            ],
            "image/png": "[encoded data removed]"
          },
          "metadata": {}
        }
      ],
      "source": [
        "# 3. Grade span max distribution within Brooklyn\n",
        "brooklyn = df[df['borough'].str.lower() == 'brooklyn']\n",
        "plt.figure(figsize=(8,5))\n",
        "brooklyn['grade_span_max'].dropna().astype(int).value_counts().sort_index().plot(kind='bar')\n",
        "plt.title('Grade Span Max in Brooklyn Schools')\n",
        "plt.xlabel('Max Grade')\n",
        "plt.ylabel('Number of Schools')\n",
        "plt.tight_layout()\n",
        "plt.show()"
      ]
    },
    {
      "cell_type": "markdown",
      "id": "709bea93",
      "metadata": {
        "id": "709bea93"
      },
      "source": [
        "## Conclusions & Notes\n",
        "- Brooklyn has a substantial number of schools in this dataset.\n",
        "- Grade 9 is the predominant entry grade across the city.\n",
        "- Most schools top out at grade 12, consistent with standard high school completion.\n",
        "- A small number of schools end earlier (e.g., grade 10 or 11), likely alternative or specialized programs.\n",
        "\n",
        "These findings are based on simple filtering and grouping—great starting points for deeper exploration like admissions criteria, performance metrics, or geographic analysis."
      ]
    }
  ],
  "metadata": {
    "colab": {
      "provenance": []
    },
    "language_info": {
      "name": "python"
    },
    "kernelspec": {
      "name": "python3",
      "display_name": "Python 3"
    }
  },
  "nbformat": 4,
  "nbformat_minor": 5
}