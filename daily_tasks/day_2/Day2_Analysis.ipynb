## My Day2 Answers
