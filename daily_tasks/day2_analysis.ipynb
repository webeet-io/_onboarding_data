{
 "cells": [
  {
   "cell_type": "markdown",
   "metadata": {
    "id": "vX7wnhPls_CE"
   },
   "source": [
    "# NYC Schools #\n",
    "New York City schools are organized by geographic borough: Manhattan, Bronx, Brooklyn, Queens, and Staten Island"
   ]
  },
  {
   "cell_type": "markdown",
   "metadata": {},
   "source": [
    "# Import libraries"
   ]
  },
  {
   "cell_type": "code",
   "execution_count": 24,
   "metadata": {},
   "outputs": [],
   "source": [
    "import pandas as pd\n",
    "import seaborn as sns\n",
    "import matplotlib.pyplot as plt"
   ]
  },
  {
   "cell_type": "markdown",
   "metadata": {
    "id": "JuMbfKPrtjlv"
   },
   "source": [
    "# Load and preview the dataset"
   ]
  },
  {
   "cell_type": "code",
   "execution_count": 25,
   "metadata": {},
   "outputs": [
    {
     "data": {
      "text/html": [
       "<div>\n",
       "<style scoped>\n",
       "    .dataframe tbody tr th:only-of-type {\n",
       "        vertical-align: middle;\n",
       "    }\n",
       "\n",
       "    .dataframe tbody tr th {\n",
       "        vertical-align: top;\n",
       "    }\n",
       "\n",
       "    .dataframe thead th {\n",
       "        text-align: right;\n",
       "    }\n",
       "</style>\n",
       "<table border=\"1\" class=\"dataframe\">\n",
       "  <thead>\n",
       "    <tr style=\"text-align: right;\">\n",
       "      <th></th>\n",
       "      <th>dbn</th>\n",
       "      <th>school_name</th>\n",
       "      <th>borough</th>\n",
       "      <th>building_code</th>\n",
       "      <th>phone_number</th>\n",
       "      <th>fax_number</th>\n",
       "      <th>grade_span_min</th>\n",
       "      <th>grade_span_max</th>\n",
       "      <th>expgrade_span_min</th>\n",
       "      <th>expgrade_span_max</th>\n",
       "      <th>...</th>\n",
       "      <th>Council District</th>\n",
       "      <th>Census Tract</th>\n",
       "      <th>BIN</th>\n",
       "      <th>BBL</th>\n",
       "      <th>NTA</th>\n",
       "      <th>Zip Codes</th>\n",
       "      <th>Community Districts</th>\n",
       "      <th>Borough Boundaries</th>\n",
       "      <th>City Council Districts</th>\n",
       "      <th>Police Precincts</th>\n",
       "    </tr>\n",
       "  </thead>\n",
       "  <tbody>\n",
       "    <tr>\n",
       "      <th>0</th>\n",
       "      <td>27Q260</td>\n",
       "      <td>Frederick Douglass Academy VI High School</td>\n",
       "      <td>Queens</td>\n",
       "      <td>Q465</td>\n",
       "      <td>718-471-2154</td>\n",
       "      <td>718-471-2890</td>\n",
       "      <td>9.0</td>\n",
       "      <td>12</td>\n",
       "      <td>NaN</td>\n",
       "      <td>NaN</td>\n",
       "      <td>...</td>\n",
       "      <td>31.0</td>\n",
       "      <td>100802.0</td>\n",
       "      <td>4300730.0</td>\n",
       "      <td>4.157360e+09</td>\n",
       "      <td>Far Rockaway-Bayswater                        ...</td>\n",
       "      <td>20529.0</td>\n",
       "      <td>51</td>\n",
       "      <td>3</td>\n",
       "      <td>47</td>\n",
       "      <td>59</td>\n",
       "    </tr>\n",
       "    <tr>\n",
       "      <th>1</th>\n",
       "      <td>21K559</td>\n",
       "      <td>Life Academy High School for Film and Music</td>\n",
       "      <td>Brooklyn</td>\n",
       "      <td>K400</td>\n",
       "      <td>718-333-7750</td>\n",
       "      <td>718-333-7775</td>\n",
       "      <td>9.0</td>\n",
       "      <td>12</td>\n",
       "      <td>NaN</td>\n",
       "      <td>NaN</td>\n",
       "      <td>...</td>\n",
       "      <td>47.0</td>\n",
       "      <td>306.0</td>\n",
       "      <td>3186454.0</td>\n",
       "      <td>3.068830e+09</td>\n",
       "      <td>Gravesend                                     ...</td>\n",
       "      <td>17616.0</td>\n",
       "      <td>21</td>\n",
       "      <td>2</td>\n",
       "      <td>45</td>\n",
       "      <td>35</td>\n",
       "    </tr>\n",
       "    <tr>\n",
       "      <th>2</th>\n",
       "      <td>16K393</td>\n",
       "      <td>Frederick Douglass Academy IV Secondary School</td>\n",
       "      <td>Brooklyn</td>\n",
       "      <td>K026</td>\n",
       "      <td>718-574-2820</td>\n",
       "      <td>718-574-2821</td>\n",
       "      <td>9.0</td>\n",
       "      <td>12</td>\n",
       "      <td>NaN</td>\n",
       "      <td>NaN</td>\n",
       "      <td>...</td>\n",
       "      <td>36.0</td>\n",
       "      <td>291.0</td>\n",
       "      <td>3393805.0</td>\n",
       "      <td>3.016160e+09</td>\n",
       "      <td>Stuyvesant Heights                            ...</td>\n",
       "      <td>18181.0</td>\n",
       "      <td>69</td>\n",
       "      <td>2</td>\n",
       "      <td>49</td>\n",
       "      <td>52</td>\n",
       "    </tr>\n",
       "    <tr>\n",
       "      <th>3</th>\n",
       "      <td>08X305</td>\n",
       "      <td>Pablo Neruda Academy</td>\n",
       "      <td>Bronx</td>\n",
       "      <td>X450</td>\n",
       "      <td>718-824-1682</td>\n",
       "      <td>718-824-1663</td>\n",
       "      <td>9.0</td>\n",
       "      <td>12</td>\n",
       "      <td>NaN</td>\n",
       "      <td>NaN</td>\n",
       "      <td>...</td>\n",
       "      <td>18.0</td>\n",
       "      <td>16.0</td>\n",
       "      <td>2022205.0</td>\n",
       "      <td>2.036040e+09</td>\n",
       "      <td>Soundview-Castle Hill-Clason Point-Harding Par...</td>\n",
       "      <td>11611.0</td>\n",
       "      <td>58</td>\n",
       "      <td>5</td>\n",
       "      <td>31</td>\n",
       "      <td>26</td>\n",
       "    </tr>\n",
       "    <tr>\n",
       "      <th>4</th>\n",
       "      <td>03M485</td>\n",
       "      <td>Fiorello H. LaGuardia High School of Music &amp; A...</td>\n",
       "      <td>Manhattan</td>\n",
       "      <td>M485</td>\n",
       "      <td>212-496-0700</td>\n",
       "      <td>212-724-5748</td>\n",
       "      <td>9.0</td>\n",
       "      <td>12</td>\n",
       "      <td>NaN</td>\n",
       "      <td>NaN</td>\n",
       "      <td>...</td>\n",
       "      <td>6.0</td>\n",
       "      <td>151.0</td>\n",
       "      <td>1030341.0</td>\n",
       "      <td>1.011560e+09</td>\n",
       "      <td>Lincoln Square                                ...</td>\n",
       "      <td>12420.0</td>\n",
       "      <td>20</td>\n",
       "      <td>4</td>\n",
       "      <td>19</td>\n",
       "      <td>12</td>\n",
       "    </tr>\n",
       "    <tr>\n",
       "      <th>...</th>\n",
       "      <td>...</td>\n",
       "      <td>...</td>\n",
       "      <td>...</td>\n",
       "      <td>...</td>\n",
       "      <td>...</td>\n",
       "      <td>...</td>\n",
       "      <td>...</td>\n",
       "      <td>...</td>\n",
       "      <td>...</td>\n",
       "      <td>...</td>\n",
       "      <td>...</td>\n",
       "      <td>...</td>\n",
       "      <td>...</td>\n",
       "      <td>...</td>\n",
       "      <td>...</td>\n",
       "      <td>...</td>\n",
       "      <td>...</td>\n",
       "      <td>...</td>\n",
       "      <td>...</td>\n",
       "      <td>...</td>\n",
       "      <td>...</td>\n",
       "    </tr>\n",
       "    <tr>\n",
       "      <th>430</th>\n",
       "      <td>02M300</td>\n",
       "      <td>Urban Assembly School of Design and Constructi...</td>\n",
       "      <td>Manhattan</td>\n",
       "      <td>M535</td>\n",
       "      <td>212-586-0981</td>\n",
       "      <td>212-586-1731</td>\n",
       "      <td>9.0</td>\n",
       "      <td>12</td>\n",
       "      <td>NaN</td>\n",
       "      <td>NaN</td>\n",
       "      <td>...</td>\n",
       "      <td>3.0</td>\n",
       "      <td>135.0</td>\n",
       "      <td>1083802.0</td>\n",
       "      <td>1.010790e+09</td>\n",
       "      <td>Clinton                                       ...</td>\n",
       "      <td>12081.0</td>\n",
       "      <td>12</td>\n",
       "      <td>4</td>\n",
       "      <td>10</td>\n",
       "      <td>10</td>\n",
       "    </tr>\n",
       "    <tr>\n",
       "      <th>431</th>\n",
       "      <td>09X412</td>\n",
       "      <td>Bronx High School of Business</td>\n",
       "      <td>Bronx</td>\n",
       "      <td>X410</td>\n",
       "      <td>718-410-4060</td>\n",
       "      <td>718-992-5760</td>\n",
       "      <td>9.0</td>\n",
       "      <td>12</td>\n",
       "      <td>NaN</td>\n",
       "      <td>NaN</td>\n",
       "      <td>...</td>\n",
       "      <td>16.0</td>\n",
       "      <td>225.0</td>\n",
       "      <td>2007806.0</td>\n",
       "      <td>2.028170e+09</td>\n",
       "      <td>East Concourse-Concourse Village              ...</td>\n",
       "      <td>10935.0</td>\n",
       "      <td>50</td>\n",
       "      <td>5</td>\n",
       "      <td>42</td>\n",
       "      <td>27</td>\n",
       "    </tr>\n",
       "    <tr>\n",
       "      <th>432</th>\n",
       "      <td>32K549</td>\n",
       "      <td>Bushwick School for Social Justice</td>\n",
       "      <td>Brooklyn</td>\n",
       "      <td>K480</td>\n",
       "      <td>718-381-7100</td>\n",
       "      <td>718-418-0192</td>\n",
       "      <td>9.0</td>\n",
       "      <td>12</td>\n",
       "      <td>NaN</td>\n",
       "      <td>NaN</td>\n",
       "      <td>...</td>\n",
       "      <td>37.0</td>\n",
       "      <td>435.0</td>\n",
       "      <td>3076908.0</td>\n",
       "      <td>3.033650e+09</td>\n",
       "      <td>Bushwick North                                ...</td>\n",
       "      <td>18181.0</td>\n",
       "      <td>42</td>\n",
       "      <td>2</td>\n",
       "      <td>37</td>\n",
       "      <td>53</td>\n",
       "    </tr>\n",
       "    <tr>\n",
       "      <th>433</th>\n",
       "      <td>02M407</td>\n",
       "      <td>Institute for Collaborative Education</td>\n",
       "      <td>Manhattan</td>\n",
       "      <td>M475</td>\n",
       "      <td>212-475-7972</td>\n",
       "      <td>212-475-0459</td>\n",
       "      <td>6.0</td>\n",
       "      <td>12</td>\n",
       "      <td>NaN</td>\n",
       "      <td>NaN</td>\n",
       "      <td>...</td>\n",
       "      <td>2.0</td>\n",
       "      <td>48.0</td>\n",
       "      <td>1020419.0</td>\n",
       "      <td>1.009220e+09</td>\n",
       "      <td>Gramercy                                      ...</td>\n",
       "      <td>11724.0</td>\n",
       "      <td>71</td>\n",
       "      <td>4</td>\n",
       "      <td>50</td>\n",
       "      <td>7</td>\n",
       "    </tr>\n",
       "    <tr>\n",
       "      <th>434</th>\n",
       "      <td>21K344</td>\n",
       "      <td>Rachel Carson High School for Coastal Studies</td>\n",
       "      <td>Brooklyn</td>\n",
       "      <td>K303</td>\n",
       "      <td>718-265-0329</td>\n",
       "      <td>718-372-2514</td>\n",
       "      <td>9.0</td>\n",
       "      <td>12</td>\n",
       "      <td>NaN</td>\n",
       "      <td>NaN</td>\n",
       "      <td>...</td>\n",
       "      <td>47.0</td>\n",
       "      <td>354.0</td>\n",
       "      <td>3196292.0</td>\n",
       "      <td>3.072500e+09</td>\n",
       "      <td>West Brighton                                 ...</td>\n",
       "      <td>18184.0</td>\n",
       "      <td>21</td>\n",
       "      <td>2</td>\n",
       "      <td>45</td>\n",
       "      <td>35</td>\n",
       "    </tr>\n",
       "  </tbody>\n",
       "</table>\n",
       "<p>435 rows × 69 columns</p>\n",
       "</div>"
      ],
      "text/plain": [
       "        dbn                                        school_name    borough  \\\n",
       "0    27Q260          Frederick Douglass Academy VI High School     Queens   \n",
       "1    21K559        Life Academy High School for Film and Music   Brooklyn   \n",
       "2    16K393     Frederick Douglass Academy IV Secondary School   Brooklyn   \n",
       "3    08X305                               Pablo Neruda Academy      Bronx   \n",
       "4    03M485  Fiorello H. LaGuardia High School of Music & A...  Manhattan   \n",
       "..      ...                                                ...        ...   \n",
       "430  02M300  Urban Assembly School of Design and Constructi...  Manhattan   \n",
       "431  09X412                      Bronx High School of Business      Bronx   \n",
       "432  32K549                 Bushwick School for Social Justice   Brooklyn   \n",
       "433  02M407              Institute for Collaborative Education  Manhattan   \n",
       "434  21K344      Rachel Carson High School for Coastal Studies   Brooklyn   \n",
       "\n",
       "    building_code  phone_number    fax_number  grade_span_min  grade_span_max  \\\n",
       "0            Q465  718-471-2154  718-471-2890             9.0              12   \n",
       "1            K400  718-333-7750  718-333-7775             9.0              12   \n",
       "2            K026  718-574-2820  718-574-2821             9.0              12   \n",
       "3            X450  718-824-1682  718-824-1663             9.0              12   \n",
       "4            M485  212-496-0700  212-724-5748             9.0              12   \n",
       "..            ...           ...           ...             ...             ...   \n",
       "430          M535  212-586-0981  212-586-1731             9.0              12   \n",
       "431          X410  718-410-4060  718-992-5760             9.0              12   \n",
       "432          K480  718-381-7100  718-418-0192             9.0              12   \n",
       "433          M475  212-475-7972  212-475-0459             6.0              12   \n",
       "434          K303  718-265-0329  718-372-2514             9.0              12   \n",
       "\n",
       "     expgrade_span_min  expgrade_span_max  ... Council District Census Tract  \\\n",
       "0                  NaN                NaN  ...             31.0     100802.0   \n",
       "1                  NaN                NaN  ...             47.0        306.0   \n",
       "2                  NaN                NaN  ...             36.0        291.0   \n",
       "3                  NaN                NaN  ...             18.0         16.0   \n",
       "4                  NaN                NaN  ...              6.0        151.0   \n",
       "..                 ...                ...  ...              ...          ...   \n",
       "430                NaN                NaN  ...              3.0        135.0   \n",
       "431                NaN                NaN  ...             16.0        225.0   \n",
       "432                NaN                NaN  ...             37.0        435.0   \n",
       "433                NaN                NaN  ...              2.0         48.0   \n",
       "434                NaN                NaN  ...             47.0        354.0   \n",
       "\n",
       "           BIN           BBL  \\\n",
       "0    4300730.0  4.157360e+09   \n",
       "1    3186454.0  3.068830e+09   \n",
       "2    3393805.0  3.016160e+09   \n",
       "3    2022205.0  2.036040e+09   \n",
       "4    1030341.0  1.011560e+09   \n",
       "..         ...           ...   \n",
       "430  1083802.0  1.010790e+09   \n",
       "431  2007806.0  2.028170e+09   \n",
       "432  3076908.0  3.033650e+09   \n",
       "433  1020419.0  1.009220e+09   \n",
       "434  3196292.0  3.072500e+09   \n",
       "\n",
       "                                                   NTA  Zip Codes  \\\n",
       "0    Far Rockaway-Bayswater                        ...    20529.0   \n",
       "1    Gravesend                                     ...    17616.0   \n",
       "2    Stuyvesant Heights                            ...    18181.0   \n",
       "3    Soundview-Castle Hill-Clason Point-Harding Par...    11611.0   \n",
       "4    Lincoln Square                                ...    12420.0   \n",
       "..                                                 ...        ...   \n",
       "430  Clinton                                       ...    12081.0   \n",
       "431  East Concourse-Concourse Village              ...    10935.0   \n",
       "432  Bushwick North                                ...    18181.0   \n",
       "433  Gramercy                                      ...    11724.0   \n",
       "434  West Brighton                                 ...    18184.0   \n",
       "\n",
       "    Community Districts  Borough Boundaries City Council Districts  \\\n",
       "0                    51                   3                     47   \n",
       "1                    21                   2                     45   \n",
       "2                    69                   2                     49   \n",
       "3                    58                   5                     31   \n",
       "4                    20                   4                     19   \n",
       "..                  ...                 ...                    ...   \n",
       "430                  12                   4                     10   \n",
       "431                  50                   5                     42   \n",
       "432                  42                   2                     37   \n",
       "433                  71                   4                     50   \n",
       "434                  21                   2                     45   \n",
       "\n",
       "    Police Precincts  \n",
       "0                 59  \n",
       "1                 35  \n",
       "2                 52  \n",
       "3                 26  \n",
       "4                 12  \n",
       "..               ...  \n",
       "430               10  \n",
       "431               27  \n",
       "432               53  \n",
       "433                7  \n",
       "434               35  \n",
       "\n",
       "[435 rows x 69 columns]"
      ]
     },
     "execution_count": 25,
     "metadata": {},
     "output_type": "execute_result"
    }
   ],
   "source": [
    "path = './high-school-directory.csv'\n",
    "df = pd.read_csv(path)\n",
    "df"
   ]
  },
  {
   "cell_type": "markdown",
   "metadata": {
    "id": "cyeCHB5htosH"
   },
   "source": [
    "# Clean column names"
   ]
  },
  {
   "cell_type": "code",
   "execution_count": 26,
   "metadata": {},
   "outputs": [
    {
     "name": "stdout",
     "output_type": "stream",
     "text": [
      "<class 'pandas.core.frame.DataFrame'>\n",
      "RangeIndex: 435 entries, 0 to 434\n",
      "Data columns (total 69 columns):\n",
      " #   Column                            Non-Null Count  Dtype  \n",
      "---  ------                            --------------  -----  \n",
      " 0   dbn                               435 non-null    object \n",
      " 1   school_name                       435 non-null    object \n",
      " 2   borough                           435 non-null    object \n",
      " 3   building_code                     435 non-null    object \n",
      " 4   phone_number                      435 non-null    object \n",
      " 5   fax_number                        423 non-null    object \n",
      " 6   grade_span_min                    432 non-null    float64\n",
      " 7   grade_span_max                    435 non-null    int64  \n",
      " 8   expgrade_span_min                 31 non-null     float64\n",
      " 9   expgrade_span_max                 33 non-null     float64\n",
      " 10  bus                               434 non-null    object \n",
      " 11  subway                            358 non-null    object \n",
      " 12  primary_address_line_1            435 non-null    object \n",
      " 13  city                              435 non-null    object \n",
      " 14  state_code                        435 non-null    object \n",
      " 15  postcode                          435 non-null    int64  \n",
      " 16  website                           430 non-null    object \n",
      " 17  total_students                    426 non-null    float64\n",
      " 18  campus_name                       217 non-null    object \n",
      " 19  school_type                       104 non-null    object \n",
      " 20  overview_paragraph                434 non-null    object \n",
      " 21  program_highlights                434 non-null    object \n",
      " 22  language_classes                  412 non-null    object \n",
      " 23  advancedplacement_courses         340 non-null    object \n",
      " 24  online_ap_courses                 64 non-null     object \n",
      " 25  online_language_courses           73 non-null     object \n",
      " 26  extracurricular_activities        435 non-null    object \n",
      " 27  psal_sports_boys                  373 non-null    object \n",
      " 28  psal_sports_girls                 373 non-null    object \n",
      " 29  psal_sports_coed                  147 non-null    object \n",
      " 30  school_sports                     297 non-null    object \n",
      " 31  partner_cbo                       354 non-null    object \n",
      " 32  partner_hospital                  196 non-null    object \n",
      " 33  partner_highered                  378 non-null    object \n",
      " 34  partner_cultural                  305 non-null    object \n",
      " 35  partner_nonprofit                 297 non-null    object \n",
      " 36  partner_corporate                 198 non-null    object \n",
      " 37  partner_financial                 72 non-null     object \n",
      " 38  partner_other                     187 non-null    object \n",
      " 39  addtl_info1                       354 non-null    object \n",
      " 40  addtl_info2                       229 non-null    object \n",
      " 41  start_time                        431 non-null    object \n",
      " 42  end_time                          431 non-null    object \n",
      " 43  se_services                       435 non-null    object \n",
      " 44  ell_programs                      435 non-null    object \n",
      " 45  school_accessibility_description  435 non-null    object \n",
      " 46  number_programs                   435 non-null    int64  \n",
      " 47  priority01                        435 non-null    object \n",
      " 48  priority02                        352 non-null    object \n",
      " 49  priority03                        243 non-null    object \n",
      " 50  priority04                        177 non-null    object \n",
      " 51  priority05                        39 non-null     object \n",
      " 52  priority06                        17 non-null     object \n",
      " 53  priority07                        4 non-null      object \n",
      " 54  priority08                        1 non-null      object \n",
      " 55  priority09                        1 non-null      object \n",
      " 56  priority10                        1 non-null      object \n",
      " 57  location_1                        435 non-null    object \n",
      " 58  community_board                   432 non-null    float64\n",
      " 59  council_district                  432 non-null    float64\n",
      " 60  census_tract                      432 non-null    float64\n",
      " 61  bin                               431 non-null    float64\n",
      " 62  bbl                               431 non-null    float64\n",
      " 63  nta                               432 non-null    object \n",
      " 64  zip_codes                         434 non-null    float64\n",
      " 65  community_districts               435 non-null    int64  \n",
      " 66  borough_boundaries                435 non-null    int64  \n",
      " 67  city_council_districts            435 non-null    int64  \n",
      " 68  police_precincts                  435 non-null    int64  \n",
      "dtypes: float64(10), int64(7), object(52)\n",
      "memory usage: 234.6+ KB\n"
     ]
    }
   ],
   "source": [
    "# Clean column names: make all lowercase, replace spaces and special characters with underscores\n",
    "df.columns = (df.columns.str.lower().str.replace(r' ', '_', regex=True)).str.replace(r'[^\\w]+', '_', regex=True)\n",
    "df.info()"
   ]
  },
  {
   "cell_type": "markdown",
   "metadata": {},
   "source": [
    "The columns name are cleaned."
   ]
  },
  {
   "cell_type": "markdown",
   "metadata": {},
   "source": [
    "# Total unique schools in Brooklyn"
   ]
  },
  {
   "cell_type": "code",
   "execution_count": 27,
   "metadata": {},
   "outputs": [
    {
     "data": {
      "text/plain": [
       "121"
      ]
     },
     "execution_count": 27,
     "metadata": {},
     "output_type": "execute_result"
    }
   ],
   "source": [
    "# Dataframe filtered to include only schools located in Brooklyn\n",
    "df_brooklyn = df[df['borough'] == 'Brooklyn']\n",
    "df_brooklyn['dbn'].nunique()"
   ]
  },
  {
   "cell_type": "markdown",
   "metadata": {},
   "source": [
    "Totally  in Brooklyn there are 121 unique schools."
   ]
  },
  {
   "cell_type": "markdown",
   "metadata": {},
   "source": [
    "# Number of schools in Brooklyn offer Grade 9 entry. "
   ]
  },
  {
   "cell_type": "code",
   "execution_count": 28,
   "metadata": {},
   "outputs": [
    {
     "data": {
      "text/plain": [
       "121"
      ]
     },
     "execution_count": 28,
     "metadata": {},
     "output_type": "execute_result"
    }
   ],
   "source": [
    "# Number of schools in Brooklyn offer Grade 9 entry.\n",
    "df_brooklyn_9 = df_brooklyn[(df_brooklyn['grade_span_min'] <= 9) & (df_brooklyn['grade_span_max'] >= 9)]\n",
    "df_brooklyn_9['dbn'].nunique()"
   ]
  },
  {
   "cell_type": "markdown",
   "metadata": {},
   "source": [
    "all schools in Brooklyn offer Grade 9 entry"
   ]
  },
  {
   "cell_type": "markdown",
   "metadata": {},
   "source": [
    "# Group and summary"
   ]
  },
  {
   "cell_type": "code",
   "execution_count": 29,
   "metadata": {},
   "outputs": [
    {
     "data": {
      "text/plain": [
       "borough\n",
       "Brooklyn         121\n",
       "Bronx            118\n",
       "Manhattan        106\n",
       "Queens            80\n",
       "Staten Island     10\n",
       "Name: dbn, dtype: int64"
      ]
     },
     "execution_count": 29,
     "metadata": {},
     "output_type": "execute_result"
    }
   ],
   "source": [
    "# Count unique schools per borough\n",
    "df_school_count = df.groupby('borough')['dbn'].nunique().sort_values(ascending=False)\n",
    "df_school_count\n"
   ]
  },
  {
   "cell_type": "code",
   "execution_count": 30,
   "metadata": {},
   "outputs": [
    {
     "data": {
      "text/plain": [
       "borough\n",
       "Staten Island    1848.0\n",
       "Queens           1047.0\n",
       "Brooklyn          699.0\n",
       "Manhattan         590.0\n",
       "Bronx             490.0\n",
       "Name: total_students, dtype: float64"
      ]
     },
     "execution_count": 30,
     "metadata": {},
     "output_type": "execute_result"
    }
   ],
   "source": [
    "#average number of students per borough\n",
    "df_avg_stud = df.groupby('borough')['total_students'].mean().round().sort_values(ascending=False)\n",
    "df_avg_stud"
   ]
  },
  {
   "cell_type": "code",
   "execution_count": 31,
   "metadata": {},
   "outputs": [
    {
     "data": {
      "text/html": [
       "<div>\n",
       "<style scoped>\n",
       "    .dataframe tbody tr th:only-of-type {\n",
       "        vertical-align: middle;\n",
       "    }\n",
       "\n",
       "    .dataframe tbody tr th {\n",
       "        vertical-align: top;\n",
       "    }\n",
       "\n",
       "    .dataframe thead th {\n",
       "        text-align: right;\n",
       "    }\n",
       "</style>\n",
       "<table border=\"1\" class=\"dataframe\">\n",
       "  <thead>\n",
       "    <tr style=\"text-align: right;\">\n",
       "      <th></th>\n",
       "      <th>count</th>\n",
       "      <th>mean</th>\n",
       "      <th>std</th>\n",
       "      <th>min</th>\n",
       "      <th>25%</th>\n",
       "      <th>50%</th>\n",
       "      <th>75%</th>\n",
       "      <th>max</th>\n",
       "    </tr>\n",
       "    <tr>\n",
       "      <th>borough</th>\n",
       "      <th></th>\n",
       "      <th></th>\n",
       "      <th></th>\n",
       "      <th></th>\n",
       "      <th></th>\n",
       "      <th></th>\n",
       "      <th></th>\n",
       "      <th></th>\n",
       "    </tr>\n",
       "  </thead>\n",
       "  <tbody>\n",
       "    <tr>\n",
       "      <th>Bronx</th>\n",
       "      <td>118.0</td>\n",
       "      <td>11.906780</td>\n",
       "      <td>0.369506</td>\n",
       "      <td>9.0</td>\n",
       "      <td>12.0</td>\n",
       "      <td>12.0</td>\n",
       "      <td>12.0</td>\n",
       "      <td>12.0</td>\n",
       "    </tr>\n",
       "    <tr>\n",
       "      <th>Brooklyn</th>\n",
       "      <td>121.0</td>\n",
       "      <td>11.933884</td>\n",
       "      <td>0.381566</td>\n",
       "      <td>9.0</td>\n",
       "      <td>12.0</td>\n",
       "      <td>12.0</td>\n",
       "      <td>12.0</td>\n",
       "      <td>12.0</td>\n",
       "    </tr>\n",
       "    <tr>\n",
       "      <th>Manhattan</th>\n",
       "      <td>106.0</td>\n",
       "      <td>11.877358</td>\n",
       "      <td>0.472135</td>\n",
       "      <td>9.0</td>\n",
       "      <td>12.0</td>\n",
       "      <td>12.0</td>\n",
       "      <td>12.0</td>\n",
       "      <td>12.0</td>\n",
       "    </tr>\n",
       "    <tr>\n",
       "      <th>Queens</th>\n",
       "      <td>80.0</td>\n",
       "      <td>11.825000</td>\n",
       "      <td>0.497462</td>\n",
       "      <td>10.0</td>\n",
       "      <td>12.0</td>\n",
       "      <td>12.0</td>\n",
       "      <td>12.0</td>\n",
       "      <td>12.0</td>\n",
       "    </tr>\n",
       "    <tr>\n",
       "      <th>Staten Island</th>\n",
       "      <td>10.0</td>\n",
       "      <td>12.000000</td>\n",
       "      <td>0.000000</td>\n",
       "      <td>12.0</td>\n",
       "      <td>12.0</td>\n",
       "      <td>12.0</td>\n",
       "      <td>12.0</td>\n",
       "      <td>12.0</td>\n",
       "    </tr>\n",
       "  </tbody>\n",
       "</table>\n",
       "</div>"
      ],
      "text/plain": [
       "               count       mean       std   min   25%   50%   75%   max\n",
       "borough                                                                \n",
       "Bronx          118.0  11.906780  0.369506   9.0  12.0  12.0  12.0  12.0\n",
       "Brooklyn       121.0  11.933884  0.381566   9.0  12.0  12.0  12.0  12.0\n",
       "Manhattan      106.0  11.877358  0.472135   9.0  12.0  12.0  12.0  12.0\n",
       "Queens          80.0  11.825000  0.497462  10.0  12.0  12.0  12.0  12.0\n",
       "Staten Island   10.0  12.000000  0.000000  12.0  12.0  12.0  12.0  12.0"
      ]
     },
     "execution_count": 31,
     "metadata": {},
     "output_type": "execute_result"
    }
   ],
   "source": [
    "# Summary of 'grade_span_max' grouped by borough\n",
    "df.groupby('borough')['grade_span_max'].describe()"
   ]
  },
  {
   "cell_type": "markdown",
   "metadata": {
    "id": "2538653a"
   },
   "source": [
    "# Create a bar plot of school counts per borough"
   ]
  },
  {
   "cell_type": "code",
   "execution_count": 32,
   "metadata": {},
   "outputs": [
    {
     "data": {
      "image/png": "[encoded data removed]",
      "text/plain": [
       "<Figure size 640x480 with 1 Axes>"
      ]
     },
     "metadata": {},
     "output_type": "display_data"
    }
   ],
   "source": [
    "import warnings as wrg\n",
    "wrg.filterwarnings('ignore')\n",
    "\n",
    "# Reset index to get borough as a column for seaborn\n",
    "df_school_count_plot = df_school_count.reset_index()\n",
    "df_school_count_plot.columns = ['borough', 'school_count']\n",
    "\n",
    "# Plot using seaborn\n",
    "sns.barplot( data=df_school_count_plot, x='borough', y='school_count', palette='pastel')\n",
    "plt.title('Number of High Schools per Borough')   \n",
    "plt.xlabel('Borough')                            \n",
    "plt.ylabel('Number of Schools')  \n",
    "\n",
    "plt.xticks(rotation=0)                           \n",
    "plt.tight_layout()                               \n",
    "plt.show()                                      "
   ]
  },
  {
   "cell_type": "code",
   "execution_count": 33,
   "metadata": {},
   "outputs": [
    {
     "data": {
      "text/plain": [
       "grade_span_min\n",
       "6.0     79\n",
       "7.0      2\n",
       "9.0    351\n",
       "Name: count, dtype: int64"
      ]
     },
     "execution_count": 33,
     "metadata": {},
     "output_type": "execute_result"
    }
   ],
   "source": [
    "df['grade_span_min'].value_counts().sort_index()"
   ]
  },
  {
   "cell_type": "code",
   "execution_count": 34,
   "metadata": {},
   "outputs": [
    {
     "data": {
      "text/plain": [
       "grade_span_max\n",
       "9       3\n",
       "10      9\n",
       "11     19\n",
       "12    404\n",
       "Name: count, dtype: int64"
      ]
     },
     "execution_count": 34,
     "metadata": {},
     "output_type": "execute_result"
    }
   ],
   "source": [
    "df['grade_span_max'].value_counts().sort_index()"
   ]
  },
  {
   "cell_type": "markdown",
   "metadata": {
    "id": "2daf89be"
   },
   "source": [
    "# Insights \n",
    "• The dataset included 121 different schools bouroughs Brooklyn. \n",
    "\n",
    "• Borough Brooklyn has the most and Staaten Island  has the fewest number of  schools.\n",
    "\n",
    "• In NYC there are some schools in Bronx, Brooklyn and Manhattan that are only until grade 9."
   ]
  }
 ],
 "metadata": {
  "colab": {
   "authorship_tag": "ABX9TyOKKyEPR7nA1nJuDMgQrl8N",
   "provenance": []
  },
  "kernelspec": {
   "display_name": "base",
   "language": "python",
   "name": "python3"
  },
  "language_info": {
   "codemirror_mode": {
    "name": "ipython",
    "version": 3
   },
   "file_extension": ".py",
   "mimetype": "text/x-python",
   "name": "python",
   "nbconvert_exporter": "python",
   "pygments_lexer": "ipython3",
   "version": "3.13.5"
  }
 },
 "nbformat": 4,
 "nbformat_minor": 0
}
