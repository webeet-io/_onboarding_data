{
 "cells": [
  {
   "cell_type": "markdown",
   "id": "db9b5a21",
   "metadata": {},
   "source": [
    "### **Import Libraries**"
   ]
  },
  {
   "cell_type": "code",
   "execution_count": 30,
   "id": "c4a18add",
   "metadata": {},
   "outputs": [],
   "source": [
    "import pandas as pd\n",
    "from sqlalchemy import create_engine"
   ]
  },
  {
   "cell_type": "markdown",
   "id": "82a85682",
   "metadata": {},
   "source": [
    "### **Load Dataset**"
   ]
  },
  {
   "cell_type": "code",
   "execution_count": 14,
   "id": "187bef8c",
   "metadata": {},
   "outputs": [
    {
     "data": {
      "text/html": [
       "<div>\n",
       "<style scoped>\n",
       "    .dataframe tbody tr th:only-of-type {\n",
       "        vertical-align: middle;\n",
       "    }\n",
       "\n",
       "    .dataframe tbody tr th {\n",
       "        vertical-align: top;\n",
       "    }\n",
       "\n",
       "    .dataframe thead th {\n",
       "        text-align: right;\n",
       "    }\n",
       "</style>\n",
       "<table border=\"1\" class=\"dataframe\">\n",
       "  <thead>\n",
       "    <tr style=\"text-align: right;\">\n",
       "      <th></th>\n",
       "      <th>DBN</th>\n",
       "      <th>SCHOOL NAME</th>\n",
       "      <th>Num of SAT Test Takers</th>\n",
       "      <th>SAT Critical Reading Avg. Score</th>\n",
       "      <th>SAT Math Avg. Score</th>\n",
       "      <th>SAT Writing Avg. Score</th>\n",
       "      <th>SAT Critical Readng Avg. Score</th>\n",
       "      <th>internal_school_id</th>\n",
       "      <th>contact_extension</th>\n",
       "      <th>pct_students_tested</th>\n",
       "      <th>academic_tier_rating</th>\n",
       "    </tr>\n",
       "  </thead>\n",
       "  <tbody>\n",
       "    <tr>\n",
       "      <th>0</th>\n",
       "      <td>01M292</td>\n",
       "      <td>HENRY STREET SCHOOL FOR INTERNATIONAL STUDIES</td>\n",
       "      <td>29</td>\n",
       "      <td>355</td>\n",
       "      <td>404</td>\n",
       "      <td>363</td>\n",
       "      <td>355</td>\n",
       "      <td>218160</td>\n",
       "      <td>x345</td>\n",
       "      <td>78%</td>\n",
       "      <td>2.0</td>\n",
       "    </tr>\n",
       "    <tr>\n",
       "      <th>1</th>\n",
       "      <td>01M448</td>\n",
       "      <td>UNIVERSITY NEIGHBORHOOD HIGH SCHOOL</td>\n",
       "      <td>91</td>\n",
       "      <td>383</td>\n",
       "      <td>423</td>\n",
       "      <td>366</td>\n",
       "      <td>383</td>\n",
       "      <td>268547</td>\n",
       "      <td>x234</td>\n",
       "      <td>NaN</td>\n",
       "      <td>3.0</td>\n",
       "    </tr>\n",
       "    <tr>\n",
       "      <th>2</th>\n",
       "      <td>01M450</td>\n",
       "      <td>EAST SIDE COMMUNITY SCHOOL</td>\n",
       "      <td>70</td>\n",
       "      <td>377</td>\n",
       "      <td>402</td>\n",
       "      <td>370</td>\n",
       "      <td>377</td>\n",
       "      <td>236446</td>\n",
       "      <td>x123</td>\n",
       "      <td>NaN</td>\n",
       "      <td>3.0</td>\n",
       "    </tr>\n",
       "    <tr>\n",
       "      <th>3</th>\n",
       "      <td>01M458</td>\n",
       "      <td>FORSYTH SATELLITE ACADEMY</td>\n",
       "      <td>7</td>\n",
       "      <td>414</td>\n",
       "      <td>401</td>\n",
       "      <td>359</td>\n",
       "      <td>414</td>\n",
       "      <td>427826</td>\n",
       "      <td>x123</td>\n",
       "      <td>92%</td>\n",
       "      <td>4.0</td>\n",
       "    </tr>\n",
       "    <tr>\n",
       "      <th>4</th>\n",
       "      <td>01M509</td>\n",
       "      <td>MARTA VALLE HIGH SCHOOL</td>\n",
       "      <td>44</td>\n",
       "      <td>390</td>\n",
       "      <td>433</td>\n",
       "      <td>384</td>\n",
       "      <td>390</td>\n",
       "      <td>672714</td>\n",
       "      <td>x123</td>\n",
       "      <td>92%</td>\n",
       "      <td>2.0</td>\n",
       "    </tr>\n",
       "  </tbody>\n",
       "</table>\n",
       "</div>"
      ],
      "text/plain": [
       "      DBN                                    SCHOOL NAME  \\\n",
       "0  01M292  HENRY STREET SCHOOL FOR INTERNATIONAL STUDIES   \n",
       "1  01M448            UNIVERSITY NEIGHBORHOOD HIGH SCHOOL   \n",
       "2  01M450                     EAST SIDE COMMUNITY SCHOOL   \n",
       "3  01M458                      FORSYTH SATELLITE ACADEMY   \n",
       "4  01M509                        MARTA VALLE HIGH SCHOOL   \n",
       "\n",
       "  Num of SAT Test Takers SAT Critical Reading Avg. Score SAT Math Avg. Score  \\\n",
       "0                     29                             355                 404   \n",
       "1                     91                             383                 423   \n",
       "2                     70                             377                 402   \n",
       "3                      7                             414                 401   \n",
       "4                     44                             390                 433   \n",
       "\n",
       "  SAT Writing Avg. Score SAT Critical Readng Avg. Score  internal_school_id  \\\n",
       "0                    363                            355              218160   \n",
       "1                    366                            383              268547   \n",
       "2                    370                            377              236446   \n",
       "3                    359                            414              427826   \n",
       "4                    384                            390              672714   \n",
       "\n",
       "  contact_extension pct_students_tested  academic_tier_rating  \n",
       "0              x345                 78%                   2.0  \n",
       "1              x234                 NaN                   3.0  \n",
       "2              x123                 NaN                   3.0  \n",
       "3              x123                 92%                   4.0  \n",
       "4              x123                 92%                   2.0  "
      ]
     },
     "execution_count": 14,
     "metadata": {},
     "output_type": "execute_result"
    }
   ],
   "source": [
    "df = pd.read_csv('sat-results.csv')\n",
    "df.head()"
   ]
  },
  {
   "cell_type": "markdown",
   "id": "f7e1f3c9",
   "metadata": {},
   "source": [
    "### **Explore the dataset**"
   ]
  },
  {
   "cell_type": "code",
   "execution_count": 15,
   "id": "5568029f",
   "metadata": {},
   "outputs": [
    {
     "name": "stdout",
     "output_type": "stream",
     "text": [
      "<class 'pandas.core.frame.DataFrame'>\n",
      "RangeIndex: 493 entries, 0 to 492\n",
      "Data columns (total 11 columns):\n",
      " #   Column                           Non-Null Count  Dtype  \n",
      "---  ------                           --------------  -----  \n",
      " 0   DBN                              493 non-null    object \n",
      " 1   SCHOOL NAME                      493 non-null    object \n",
      " 2   Num of SAT Test Takers           493 non-null    object \n",
      " 3   SAT Critical Reading Avg. Score  493 non-null    object \n",
      " 4   SAT Math Avg. Score              493 non-null    object \n",
      " 5   SAT Writing Avg. Score           493 non-null    object \n",
      " 6   SAT Critical Readng Avg. Score   493 non-null    object \n",
      " 7   internal_school_id               493 non-null    int64  \n",
      " 8   contact_extension                388 non-null    object \n",
      " 9   pct_students_tested              376 non-null    object \n",
      " 10  academic_tier_rating             402 non-null    float64\n",
      "dtypes: float64(1), int64(1), object(9)\n",
      "memory usage: 42.5+ KB\n"
     ]
    }
   ],
   "source": [
    "df.info()"
   ]
  },
  {
   "cell_type": "code",
   "execution_count": 16,
   "id": "67e00bb3",
   "metadata": {},
   "outputs": [
    {
     "data": {
      "text/plain": [
       "DBN                                  0\n",
       "SCHOOL NAME                          0\n",
       "Num of SAT Test Takers               0\n",
       "SAT Critical Reading Avg. Score      0\n",
       "SAT Math Avg. Score                  0\n",
       "SAT Writing Avg. Score               0\n",
       "SAT Critical Readng Avg. Score       0\n",
       "internal_school_id                   0\n",
       "contact_extension                  105\n",
       "pct_students_tested                117\n",
       "academic_tier_rating                91\n",
       "dtype: int64"
      ]
     },
     "execution_count": 16,
     "metadata": {},
     "output_type": "execute_result"
    }
   ],
   "source": [
    "df.isnull().sum()"
   ]
  },
  {
   "cell_type": "markdown",
   "id": "5ed397d3",
   "metadata": {},
   "source": [
    "### **Clean The Dataset**"
   ]
  },
  {
   "cell_type": "markdown",
   "id": "70e0b59d",
   "metadata": {},
   "source": [
    "##### Normalize column head"
   ]
  },
  {
   "cell_type": "code",
   "execution_count": 17,
   "id": "0ab69638",
   "metadata": {},
   "outputs": [],
   "source": [
    "# Normalize column headings\n",
    "df.columns = (df.columns.str.strip()\n",
    "                     .str.lower()\n",
    "                     .str.replace(\" \", \"_\")\n",
    "                     .str.replace(\"[^0-9a-zA-Z_]\", \"\", regex=True))"
   ]
  },
  {
   "cell_type": "code",
   "execution_count": 18,
   "id": "1fa2493c",
   "metadata": {},
   "outputs": [
    {
     "data": {
      "text/html": [
       "<div>\n",
       "<style scoped>\n",
       "    .dataframe tbody tr th:only-of-type {\n",
       "        vertical-align: middle;\n",
       "    }\n",
       "\n",
       "    .dataframe tbody tr th {\n",
       "        vertical-align: top;\n",
       "    }\n",
       "\n",
       "    .dataframe thead th {\n",
       "        text-align: right;\n",
       "    }\n",
       "</style>\n",
       "<table border=\"1\" class=\"dataframe\">\n",
       "  <thead>\n",
       "    <tr style=\"text-align: right;\">\n",
       "      <th></th>\n",
       "      <th>dbn</th>\n",
       "      <th>school_name</th>\n",
       "      <th>num_of_sat_test_takers</th>\n",
       "      <th>sat_critical_reading_avg_score</th>\n",
       "      <th>sat_math_avg_score</th>\n",
       "      <th>sat_writing_avg_score</th>\n",
       "      <th>sat_critical_readng_avg_score</th>\n",
       "      <th>internal_school_id</th>\n",
       "      <th>contact_extension</th>\n",
       "      <th>pct_students_tested</th>\n",
       "      <th>academic_tier_rating</th>\n",
       "    </tr>\n",
       "  </thead>\n",
       "  <tbody>\n",
       "    <tr>\n",
       "      <th>0</th>\n",
       "      <td>01M292</td>\n",
       "      <td>HENRY STREET SCHOOL FOR INTERNATIONAL STUDIES</td>\n",
       "      <td>29</td>\n",
       "      <td>355</td>\n",
       "      <td>404</td>\n",
       "      <td>363</td>\n",
       "      <td>355</td>\n",
       "      <td>218160</td>\n",
       "      <td>x345</td>\n",
       "      <td>78%</td>\n",
       "      <td>2.0</td>\n",
       "    </tr>\n",
       "    <tr>\n",
       "      <th>1</th>\n",
       "      <td>01M448</td>\n",
       "      <td>UNIVERSITY NEIGHBORHOOD HIGH SCHOOL</td>\n",
       "      <td>91</td>\n",
       "      <td>383</td>\n",
       "      <td>423</td>\n",
       "      <td>366</td>\n",
       "      <td>383</td>\n",
       "      <td>268547</td>\n",
       "      <td>x234</td>\n",
       "      <td>NaN</td>\n",
       "      <td>3.0</td>\n",
       "    </tr>\n",
       "    <tr>\n",
       "      <th>2</th>\n",
       "      <td>01M450</td>\n",
       "      <td>EAST SIDE COMMUNITY SCHOOL</td>\n",
       "      <td>70</td>\n",
       "      <td>377</td>\n",
       "      <td>402</td>\n",
       "      <td>370</td>\n",
       "      <td>377</td>\n",
       "      <td>236446</td>\n",
       "      <td>x123</td>\n",
       "      <td>NaN</td>\n",
       "      <td>3.0</td>\n",
       "    </tr>\n",
       "    <tr>\n",
       "      <th>3</th>\n",
       "      <td>01M458</td>\n",
       "      <td>FORSYTH SATELLITE ACADEMY</td>\n",
       "      <td>7</td>\n",
       "      <td>414</td>\n",
       "      <td>401</td>\n",
       "      <td>359</td>\n",
       "      <td>414</td>\n",
       "      <td>427826</td>\n",
       "      <td>x123</td>\n",
       "      <td>92%</td>\n",
       "      <td>4.0</td>\n",
       "    </tr>\n",
       "    <tr>\n",
       "      <th>4</th>\n",
       "      <td>01M509</td>\n",
       "      <td>MARTA VALLE HIGH SCHOOL</td>\n",
       "      <td>44</td>\n",
       "      <td>390</td>\n",
       "      <td>433</td>\n",
       "      <td>384</td>\n",
       "      <td>390</td>\n",
       "      <td>672714</td>\n",
       "      <td>x123</td>\n",
       "      <td>92%</td>\n",
       "      <td>2.0</td>\n",
       "    </tr>\n",
       "  </tbody>\n",
       "</table>\n",
       "</div>"
      ],
      "text/plain": [
       "      dbn                                    school_name  \\\n",
       "0  01M292  HENRY STREET SCHOOL FOR INTERNATIONAL STUDIES   \n",
       "1  01M448            UNIVERSITY NEIGHBORHOOD HIGH SCHOOL   \n",
       "2  01M450                     EAST SIDE COMMUNITY SCHOOL   \n",
       "3  01M458                      FORSYTH SATELLITE ACADEMY   \n",
       "4  01M509                        MARTA VALLE HIGH SCHOOL   \n",
       "\n",
       "  num_of_sat_test_takers sat_critical_reading_avg_score sat_math_avg_score  \\\n",
       "0                     29                            355                404   \n",
       "1                     91                            383                423   \n",
       "2                     70                            377                402   \n",
       "3                      7                            414                401   \n",
       "4                     44                            390                433   \n",
       "\n",
       "  sat_writing_avg_score sat_critical_readng_avg_score  internal_school_id  \\\n",
       "0                   363                           355              218160   \n",
       "1                   366                           383              268547   \n",
       "2                   370                           377              236446   \n",
       "3                   359                           414              427826   \n",
       "4                   384                           390              672714   \n",
       "\n",
       "  contact_extension pct_students_tested  academic_tier_rating  \n",
       "0              x345                 78%                   2.0  \n",
       "1              x234                 NaN                   3.0  \n",
       "2              x123                 NaN                   3.0  \n",
       "3              x123                 92%                   4.0  \n",
       "4              x123                 92%                   2.0  "
      ]
     },
     "execution_count": 18,
     "metadata": {},
     "output_type": "execute_result"
    }
   ],
   "source": [
    "df.head()"
   ]
  },
  {
   "cell_type": "markdown",
   "id": "499e3567",
   "metadata": {},
   "source": [
    "##### Column Duplication Issue\n",
    "\n",
    "We identified that the columns 'sat_critical_readng_avg_score' and 'sat_critical_reading_avg_score' are identical. The column 'sat_critical_readng_avg_score' contains a typo and will be removed to avoid redundancy."
   ]
  },
  {
   "cell_type": "code",
   "execution_count": 19,
   "id": "f2ca5e53",
   "metadata": {},
   "outputs": [
    {
     "name": "stdout",
     "output_type": "stream",
     "text": [
      "Columns are identical. Dropping the duplicate column.\n"
     ]
    }
   ],
   "source": [
    "# check if column 'sat_critical_reading_avg_score' and 'sat_critical_readng_avg_score' are same\n",
    "if 'sat_critical_reading_avg_score' in df.columns and 'sat_critical_readng_avg_score' in df.columns:\n",
    "    if df['sat_critical_reading_avg_score'].equals(df['sat_critical_readng_avg_score']):\n",
    "        print(\"Columns are identical. Dropping the duplicate column.\")\n",
    "        df = df.drop(columns=[\"sat_critical_readng_avg_score\"])\n",
    "    else:\n",
    "        print(\"Warning: Columns have different values.\")\n",
    "else:\n",
    "    print(\"One or both columns are missing. No action taken.\")\n"
   ]
  },
  {
   "cell_type": "code",
   "execution_count": 20,
   "id": "869f2d06",
   "metadata": {},
   "outputs": [],
   "source": [
    "# Drop unnecessary columns \n",
    "df = df.drop(columns=[\n",
    "    \"sat_critical_readng_avg_score\",  # Duplicate column\n",
    "    \"internal_school_id\",             # Since DBN is the unique key already present\n",
    "    \"contact_extension\"               # Mostly null values, not useful\n",
    "], errors=\"ignore\")"
   ]
  },
  {
   "cell_type": "markdown",
   "id": "11fd1b04",
   "metadata": {},
   "source": [
    "##### Data Type Adjustments\n",
    "\n",
    "Some columns have incorrect data types that need to be adjusted for accurate analysis. And we removed NAN values with 0."
   ]
  },
  {
   "cell_type": "code",
   "execution_count": 21,
   "id": "ee6fe178",
   "metadata": {},
   "outputs": [
    {
     "name": "stdout",
     "output_type": "stream",
     "text": [
      "Index(['dbn', 'school_name', 'num_of_sat_test_takers',\n",
      "       'sat_critical_reading_avg_score', 'sat_math_avg_score',\n",
      "       'sat_writing_avg_score', 'pct_students_tested', 'academic_tier_rating'],\n",
      "      dtype='object')\n"
     ]
    },
    {
     "data": {
      "text/plain": [
       "dbn                                object\n",
       "school_name                        object\n",
       "num_of_sat_test_takers            float64\n",
       "sat_critical_reading_avg_score    float64\n",
       "sat_math_avg_score                float64\n",
       "sat_writing_avg_score             float64\n",
       "pct_students_tested                object\n",
       "academic_tier_rating              float64\n",
       "dtype: object"
      ]
     },
     "execution_count": 21,
     "metadata": {},
     "output_type": "execute_result"
    }
   ],
   "source": [
    "# Strip leading/trailing spaces from column names\n",
    "df.columns = df.columns.str.strip()\n",
    "print(df.columns)\n",
    "# Verify and update columns_to_change\n",
    "columns_to_change = ['sat_critical_reading_avg_score', 'sat_math_avg_score', 'sat_writing_avg_score', 'num_of_sat_test_takers']\n",
    "\n",
    "# Apply the transformation\n",
    "df[columns_to_change] = df[columns_to_change].apply(pd.to_numeric, errors='coerce').astype('float64')\n",
    "\n",
    "df.dtypes"
   ]
  },
  {
   "cell_type": "markdown",
   "id": "81c42838",
   "metadata": {},
   "source": [
    "#### Handling Percentage Values\n",
    "\n",
    "The column 'pct_students_tested' contains percentage signs ('%') that need to be removed for accurate numerical analysis. The '%' sign will be stripped, and the values will be converted to a numeric type (float), and we fill NAN values with 0 for further processing."
   ]
  },
  {
   "cell_type": "code",
   "execution_count": 22,
   "id": "3d759177",
   "metadata": {},
   "outputs": [
    {
     "data": {
      "text/plain": [
       "0    78.0\n",
       "1     NaN\n",
       "2     NaN\n",
       "3    92.0\n",
       "4    92.0\n",
       "Name: pct_students_tested, dtype: float64"
      ]
     },
     "execution_count": 22,
     "metadata": {},
     "output_type": "execute_result"
    }
   ],
   "source": [
    "# Remove the '%' sign and convert to numeric\n",
    "df['pct_students_tested'] = df['pct_students_tested'].str.replace('%', '').astype(float)\n",
    "\n",
    "# Verify the changes\n",
    "df['pct_students_tested'].head()"
   ]
  },
  {
   "cell_type": "markdown",
   "id": "8e8d10ba",
   "metadata": {},
   "source": [
    "##### Handle Duplicates"
   ]
  },
  {
   "cell_type": "code",
   "execution_count": 23,
   "id": "89f52ba7",
   "metadata": {},
   "outputs": [
    {
     "name": "stdout",
     "output_type": "stream",
     "text": [
      "15\n",
      "(493, 8)\n"
     ]
    },
    {
     "data": {
      "text/html": [
       "<div>\n",
       "<style scoped>\n",
       "    .dataframe tbody tr th:only-of-type {\n",
       "        vertical-align: middle;\n",
       "    }\n",
       "\n",
       "    .dataframe tbody tr th {\n",
       "        vertical-align: top;\n",
       "    }\n",
       "\n",
       "    .dataframe thead th {\n",
       "        text-align: right;\n",
       "    }\n",
       "</style>\n",
       "<table border=\"1\" class=\"dataframe\">\n",
       "  <thead>\n",
       "    <tr style=\"text-align: right;\">\n",
       "      <th></th>\n",
       "      <th>dbn</th>\n",
       "      <th>school_name</th>\n",
       "      <th>num_of_sat_test_takers</th>\n",
       "      <th>sat_critical_reading_avg_score</th>\n",
       "      <th>sat_math_avg_score</th>\n",
       "      <th>sat_writing_avg_score</th>\n",
       "      <th>pct_students_tested</th>\n",
       "      <th>academic_tier_rating</th>\n",
       "    </tr>\n",
       "  </thead>\n",
       "  <tbody>\n",
       "    <tr>\n",
       "      <th>0</th>\n",
       "      <td>01M292</td>\n",
       "      <td>HENRY STREET SCHOOL FOR INTERNATIONAL STUDIES</td>\n",
       "      <td>29.0</td>\n",
       "      <td>355.0</td>\n",
       "      <td>404.0</td>\n",
       "      <td>363.0</td>\n",
       "      <td>78.0</td>\n",
       "      <td>2.0</td>\n",
       "    </tr>\n",
       "    <tr>\n",
       "      <th>1</th>\n",
       "      <td>01M448</td>\n",
       "      <td>UNIVERSITY NEIGHBORHOOD HIGH SCHOOL</td>\n",
       "      <td>91.0</td>\n",
       "      <td>383.0</td>\n",
       "      <td>423.0</td>\n",
       "      <td>366.0</td>\n",
       "      <td>NaN</td>\n",
       "      <td>3.0</td>\n",
       "    </tr>\n",
       "    <tr>\n",
       "      <th>2</th>\n",
       "      <td>01M450</td>\n",
       "      <td>EAST SIDE COMMUNITY SCHOOL</td>\n",
       "      <td>70.0</td>\n",
       "      <td>377.0</td>\n",
       "      <td>402.0</td>\n",
       "      <td>370.0</td>\n",
       "      <td>NaN</td>\n",
       "      <td>3.0</td>\n",
       "    </tr>\n",
       "    <tr>\n",
       "      <th>3</th>\n",
       "      <td>01M458</td>\n",
       "      <td>FORSYTH SATELLITE ACADEMY</td>\n",
       "      <td>7.0</td>\n",
       "      <td>414.0</td>\n",
       "      <td>401.0</td>\n",
       "      <td>359.0</td>\n",
       "      <td>92.0</td>\n",
       "      <td>4.0</td>\n",
       "    </tr>\n",
       "    <tr>\n",
       "      <th>4</th>\n",
       "      <td>01M509</td>\n",
       "      <td>MARTA VALLE HIGH SCHOOL</td>\n",
       "      <td>44.0</td>\n",
       "      <td>390.0</td>\n",
       "      <td>433.0</td>\n",
       "      <td>384.0</td>\n",
       "      <td>92.0</td>\n",
       "      <td>2.0</td>\n",
       "    </tr>\n",
       "  </tbody>\n",
       "</table>\n",
       "</div>"
      ],
      "text/plain": [
       "      dbn                                    school_name  \\\n",
       "0  01M292  HENRY STREET SCHOOL FOR INTERNATIONAL STUDIES   \n",
       "1  01M448            UNIVERSITY NEIGHBORHOOD HIGH SCHOOL   \n",
       "2  01M450                     EAST SIDE COMMUNITY SCHOOL   \n",
       "3  01M458                      FORSYTH SATELLITE ACADEMY   \n",
       "4  01M509                        MARTA VALLE HIGH SCHOOL   \n",
       "\n",
       "   num_of_sat_test_takers  sat_critical_reading_avg_score  sat_math_avg_score  \\\n",
       "0                    29.0                           355.0               404.0   \n",
       "1                    91.0                           383.0               423.0   \n",
       "2                    70.0                           377.0               402.0   \n",
       "3                     7.0                           414.0               401.0   \n",
       "4                    44.0                           390.0               433.0   \n",
       "\n",
       "   sat_writing_avg_score  pct_students_tested  academic_tier_rating  \n",
       "0                  363.0                 78.0                   2.0  \n",
       "1                  366.0                  NaN                   3.0  \n",
       "2                  370.0                  NaN                   3.0  \n",
       "3                  359.0                 92.0                   4.0  \n",
       "4                  384.0                 92.0                   2.0  "
      ]
     },
     "execution_count": 23,
     "metadata": {},
     "output_type": "execute_result"
    }
   ],
   "source": [
    "# Ensure new_df is a DataFrame\n",
    "if df is None or not isinstance(df, pd.DataFrame):\n",
    "\tdf = df.drop_duplicates()\n",
    "\n",
    "# Print the number of duplicated rows and the shape of the DataFrame\n",
    "print(df.duplicated().sum())\n",
    "print(df.shape)\n",
    "\n",
    "# Display the first few rows of the DataFrame\n",
    "df.head()"
   ]
  },
  {
   "cell_type": "code",
   "execution_count": 24,
   "id": "7ebb2a6f",
   "metadata": {},
   "outputs": [
    {
     "data": {
      "text/html": [
       "<div>\n",
       "<style scoped>\n",
       "    .dataframe tbody tr th:only-of-type {\n",
       "        vertical-align: middle;\n",
       "    }\n",
       "\n",
       "    .dataframe tbody tr th {\n",
       "        vertical-align: top;\n",
       "    }\n",
       "\n",
       "    .dataframe thead th {\n",
       "        text-align: right;\n",
       "    }\n",
       "</style>\n",
       "<table border=\"1\" class=\"dataframe\">\n",
       "  <thead>\n",
       "    <tr style=\"text-align: right;\">\n",
       "      <th></th>\n",
       "      <th>dbn</th>\n",
       "      <th>school_name</th>\n",
       "      <th>num_of_sat_test_takers</th>\n",
       "      <th>sat_critical_reading_avg_score</th>\n",
       "      <th>sat_math_avg_score</th>\n",
       "      <th>sat_writing_avg_score</th>\n",
       "      <th>pct_students_tested</th>\n",
       "      <th>academic_tier_rating</th>\n",
       "    </tr>\n",
       "  </thead>\n",
       "  <tbody>\n",
       "    <tr>\n",
       "      <th>0</th>\n",
       "      <td>01M292</td>\n",
       "      <td>HENRY STREET SCHOOL FOR INTERNATIONAL STUDIES</td>\n",
       "      <td>29.0</td>\n",
       "      <td>355.0</td>\n",
       "      <td>404.0</td>\n",
       "      <td>363.0</td>\n",
       "      <td>78.0</td>\n",
       "      <td>2.0</td>\n",
       "    </tr>\n",
       "    <tr>\n",
       "      <th>1</th>\n",
       "      <td>01M448</td>\n",
       "      <td>UNIVERSITY NEIGHBORHOOD HIGH SCHOOL</td>\n",
       "      <td>91.0</td>\n",
       "      <td>383.0</td>\n",
       "      <td>423.0</td>\n",
       "      <td>366.0</td>\n",
       "      <td>NaN</td>\n",
       "      <td>3.0</td>\n",
       "    </tr>\n",
       "    <tr>\n",
       "      <th>2</th>\n",
       "      <td>01M450</td>\n",
       "      <td>EAST SIDE COMMUNITY SCHOOL</td>\n",
       "      <td>70.0</td>\n",
       "      <td>377.0</td>\n",
       "      <td>402.0</td>\n",
       "      <td>370.0</td>\n",
       "      <td>NaN</td>\n",
       "      <td>3.0</td>\n",
       "    </tr>\n",
       "    <tr>\n",
       "      <th>3</th>\n",
       "      <td>01M458</td>\n",
       "      <td>FORSYTH SATELLITE ACADEMY</td>\n",
       "      <td>7.0</td>\n",
       "      <td>414.0</td>\n",
       "      <td>401.0</td>\n",
       "      <td>359.0</td>\n",
       "      <td>92.0</td>\n",
       "      <td>4.0</td>\n",
       "    </tr>\n",
       "    <tr>\n",
       "      <th>4</th>\n",
       "      <td>01M509</td>\n",
       "      <td>MARTA VALLE HIGH SCHOOL</td>\n",
       "      <td>44.0</td>\n",
       "      <td>390.0</td>\n",
       "      <td>433.0</td>\n",
       "      <td>384.0</td>\n",
       "      <td>92.0</td>\n",
       "      <td>2.0</td>\n",
       "    </tr>\n",
       "  </tbody>\n",
       "</table>\n",
       "</div>"
      ],
      "text/plain": [
       "      dbn                                    school_name  \\\n",
       "0  01M292  HENRY STREET SCHOOL FOR INTERNATIONAL STUDIES   \n",
       "1  01M448            UNIVERSITY NEIGHBORHOOD HIGH SCHOOL   \n",
       "2  01M450                     EAST SIDE COMMUNITY SCHOOL   \n",
       "3  01M458                      FORSYTH SATELLITE ACADEMY   \n",
       "4  01M509                        MARTA VALLE HIGH SCHOOL   \n",
       "\n",
       "   num_of_sat_test_takers  sat_critical_reading_avg_score  sat_math_avg_score  \\\n",
       "0                    29.0                           355.0               404.0   \n",
       "1                    91.0                           383.0               423.0   \n",
       "2                    70.0                           377.0               402.0   \n",
       "3                     7.0                           414.0               401.0   \n",
       "4                    44.0                           390.0               433.0   \n",
       "\n",
       "   sat_writing_avg_score  pct_students_tested  academic_tier_rating  \n",
       "0                  363.0                 78.0                   2.0  \n",
       "1                  366.0                  NaN                   3.0  \n",
       "2                  370.0                  NaN                   3.0  \n",
       "3                  359.0                 92.0                   4.0  \n",
       "4                  384.0                 92.0                   2.0  "
      ]
     },
     "execution_count": 24,
     "metadata": {},
     "output_type": "execute_result"
    }
   ],
   "source": [
    "df = df.drop_duplicates()\n",
    "df.head()"
   ]
  },
  {
   "cell_type": "code",
   "execution_count": 25,
   "id": "b2bd5279",
   "metadata": {},
   "outputs": [
    {
     "data": {
      "text/plain": [
       "dbn                                 0\n",
       "school_name                         0\n",
       "num_of_sat_test_takers             57\n",
       "sat_critical_reading_avg_score     57\n",
       "sat_math_avg_score                 57\n",
       "sat_writing_avg_score              57\n",
       "pct_students_tested               115\n",
       "academic_tier_rating               86\n",
       "dtype: int64"
      ]
     },
     "execution_count": 25,
     "metadata": {},
     "output_type": "execute_result"
    }
   ],
   "source": [
    "# check missing values \n",
    "df.isnull().sum()"
   ]
  },
  {
   "cell_type": "code",
   "execution_count": 26,
   "id": "408fb255",
   "metadata": {},
   "outputs": [
    {
     "name": "stdout",
     "output_type": "stream",
     "text": [
      "<class 'pandas.core.frame.DataFrame'>\n",
      "Index: 478 entries, 0 to 477\n",
      "Data columns (total 8 columns):\n",
      " #   Column                          Non-Null Count  Dtype  \n",
      "---  ------                          --------------  -----  \n",
      " 0   dbn                             478 non-null    object \n",
      " 1   school_name                     478 non-null    object \n",
      " 2   num_of_sat_test_takers          421 non-null    float64\n",
      " 3   sat_critical_reading_avg_score  421 non-null    float64\n",
      " 4   sat_math_avg_score              421 non-null    float64\n",
      " 5   sat_writing_avg_score           421 non-null    float64\n",
      " 6   pct_students_tested             363 non-null    float64\n",
      " 7   academic_tier_rating            392 non-null    float64\n",
      "dtypes: float64(6), object(2)\n",
      "memory usage: 33.6+ KB\n"
     ]
    }
   ],
   "source": [
    "df.info()"
   ]
  },
  {
   "cell_type": "markdown",
   "id": "90e901de",
   "metadata": {},
   "source": [
    "##### Handle Outliers\n",
    "Filter Invalid SAT Scores: Ensure all SAT scores are within the valid range (200–800). \n"
   ]
  },
  {
   "cell_type": "code",
   "execution_count": 27,
   "id": "9f487392",
   "metadata": {},
   "outputs": [
    {
     "name": "stdout",
     "output_type": "stream",
     "text": [
      "<class 'pandas.core.frame.DataFrame'>\n",
      "Index: 416 entries, 0 to 477\n",
      "Data columns (total 8 columns):\n",
      " #   Column                          Non-Null Count  Dtype  \n",
      "---  ------                          --------------  -----  \n",
      " 0   dbn                             416 non-null    object \n",
      " 1   school_name                     416 non-null    object \n",
      " 2   num_of_sat_test_takers          416 non-null    float64\n",
      " 3   sat_critical_reading_avg_score  416 non-null    float64\n",
      " 4   sat_math_avg_score              416 non-null    float64\n",
      " 5   sat_writing_avg_score           416 non-null    float64\n",
      " 6   pct_students_tested             313 non-null    float64\n",
      " 7   academic_tier_rating            349 non-null    float64\n",
      "dtypes: float64(6), object(2)\n",
      "memory usage: 29.2+ KB\n",
      "None\n",
      "      dbn                                    school_name  \\\n",
      "0  01M292  HENRY STREET SCHOOL FOR INTERNATIONAL STUDIES   \n",
      "1  01M448            UNIVERSITY NEIGHBORHOOD HIGH SCHOOL   \n",
      "2  01M450                     EAST SIDE COMMUNITY SCHOOL   \n",
      "3  01M458                      FORSYTH SATELLITE ACADEMY   \n",
      "4  01M509                        MARTA VALLE HIGH SCHOOL   \n",
      "\n",
      "   num_of_sat_test_takers  sat_critical_reading_avg_score  sat_math_avg_score  \\\n",
      "0                    29.0                           355.0               404.0   \n",
      "1                    91.0                           383.0               423.0   \n",
      "2                    70.0                           377.0               402.0   \n",
      "3                     7.0                           414.0               401.0   \n",
      "4                    44.0                           390.0               433.0   \n",
      "\n",
      "   sat_writing_avg_score  pct_students_tested  academic_tier_rating  \n",
      "0                  363.0                 78.0                   2.0  \n",
      "1                  366.0                  NaN                   3.0  \n",
      "2                  370.0                  NaN                   3.0  \n",
      "3                  359.0                 92.0                   4.0  \n",
      "4                  384.0                 92.0                   2.0  \n"
     ]
    }
   ],
   "source": [
    "# Define the valid SAT score range\n",
    "valid_score_range = (200, 800)\n",
    "\n",
    "# List of SAT score columns to filter\n",
    "sat_cols = ['sat_critical_reading_avg_score', 'sat_math_avg_score', 'sat_writing_avg_score']\n",
    "\n",
    "# Convert SAT score columns to numeric, coercing errors to NaN\n",
    "#new_df[sat_cols] = new_df[sat_cols].apply(pd.to_numeric, errors='coerce')\n",
    "\n",
    "# Filter rows where all SAT scores are within the valid range\n",
    "for col in sat_cols:\n",
    "    df = df[(df[col] >= valid_score_range[0]) & (df[col] <= valid_score_range[1])]\n",
    "\n",
    "# Verify the filtered dataset\n",
    "print(df.info())\n",
    "print(df.head())"
   ]
  },
  {
   "cell_type": "markdown",
   "id": "bd75e88d",
   "metadata": {},
   "source": [
    "##### Create Total SAT Score Column"
   ]
  },
  {
   "cell_type": "code",
   "execution_count": 28,
   "id": "741eb1b6",
   "metadata": {},
   "outputs": [
    {
     "data": {
      "text/html": [
       "<div>\n",
       "<style scoped>\n",
       "    .dataframe tbody tr th:only-of-type {\n",
       "        vertical-align: middle;\n",
       "    }\n",
       "\n",
       "    .dataframe tbody tr th {\n",
       "        vertical-align: top;\n",
       "    }\n",
       "\n",
       "    .dataframe thead th {\n",
       "        text-align: right;\n",
       "    }\n",
       "</style>\n",
       "<table border=\"1\" class=\"dataframe\">\n",
       "  <thead>\n",
       "    <tr style=\"text-align: right;\">\n",
       "      <th></th>\n",
       "      <th>dbn</th>\n",
       "      <th>school_name</th>\n",
       "      <th>num_of_sat_test_takers</th>\n",
       "      <th>sat_critical_reading_avg_score</th>\n",
       "      <th>sat_math_avg_score</th>\n",
       "      <th>sat_writing_avg_score</th>\n",
       "      <th>pct_students_tested</th>\n",
       "      <th>academic_tier_rating</th>\n",
       "      <th>sat_total_avg_score</th>\n",
       "    </tr>\n",
       "  </thead>\n",
       "  <tbody>\n",
       "    <tr>\n",
       "      <th>0</th>\n",
       "      <td>01M292</td>\n",
       "      <td>HENRY STREET SCHOOL FOR INTERNATIONAL STUDIES</td>\n",
       "      <td>29.0</td>\n",
       "      <td>355.0</td>\n",
       "      <td>404.0</td>\n",
       "      <td>363.0</td>\n",
       "      <td>78.0</td>\n",
       "      <td>2.0</td>\n",
       "      <td>1122.0</td>\n",
       "    </tr>\n",
       "    <tr>\n",
       "      <th>1</th>\n",
       "      <td>01M448</td>\n",
       "      <td>UNIVERSITY NEIGHBORHOOD HIGH SCHOOL</td>\n",
       "      <td>91.0</td>\n",
       "      <td>383.0</td>\n",
       "      <td>423.0</td>\n",
       "      <td>366.0</td>\n",
       "      <td>NaN</td>\n",
       "      <td>3.0</td>\n",
       "      <td>1172.0</td>\n",
       "    </tr>\n",
       "    <tr>\n",
       "      <th>2</th>\n",
       "      <td>01M450</td>\n",
       "      <td>EAST SIDE COMMUNITY SCHOOL</td>\n",
       "      <td>70.0</td>\n",
       "      <td>377.0</td>\n",
       "      <td>402.0</td>\n",
       "      <td>370.0</td>\n",
       "      <td>NaN</td>\n",
       "      <td>3.0</td>\n",
       "      <td>1149.0</td>\n",
       "    </tr>\n",
       "    <tr>\n",
       "      <th>3</th>\n",
       "      <td>01M458</td>\n",
       "      <td>FORSYTH SATELLITE ACADEMY</td>\n",
       "      <td>7.0</td>\n",
       "      <td>414.0</td>\n",
       "      <td>401.0</td>\n",
       "      <td>359.0</td>\n",
       "      <td>92.0</td>\n",
       "      <td>4.0</td>\n",
       "      <td>1174.0</td>\n",
       "    </tr>\n",
       "    <tr>\n",
       "      <th>4</th>\n",
       "      <td>01M509</td>\n",
       "      <td>MARTA VALLE HIGH SCHOOL</td>\n",
       "      <td>44.0</td>\n",
       "      <td>390.0</td>\n",
       "      <td>433.0</td>\n",
       "      <td>384.0</td>\n",
       "      <td>92.0</td>\n",
       "      <td>2.0</td>\n",
       "      <td>1207.0</td>\n",
       "    </tr>\n",
       "  </tbody>\n",
       "</table>\n",
       "</div>"
      ],
      "text/plain": [
       "      dbn                                    school_name  \\\n",
       "0  01M292  HENRY STREET SCHOOL FOR INTERNATIONAL STUDIES   \n",
       "1  01M448            UNIVERSITY NEIGHBORHOOD HIGH SCHOOL   \n",
       "2  01M450                     EAST SIDE COMMUNITY SCHOOL   \n",
       "3  01M458                      FORSYTH SATELLITE ACADEMY   \n",
       "4  01M509                        MARTA VALLE HIGH SCHOOL   \n",
       "\n",
       "   num_of_sat_test_takers  sat_critical_reading_avg_score  sat_math_avg_score  \\\n",
       "0                    29.0                           355.0               404.0   \n",
       "1                    91.0                           383.0               423.0   \n",
       "2                    70.0                           377.0               402.0   \n",
       "3                     7.0                           414.0               401.0   \n",
       "4                    44.0                           390.0               433.0   \n",
       "\n",
       "   sat_writing_avg_score  pct_students_tested  academic_tier_rating  \\\n",
       "0                  363.0                 78.0                   2.0   \n",
       "1                  366.0                  NaN                   3.0   \n",
       "2                  370.0                  NaN                   3.0   \n",
       "3                  359.0                 92.0                   4.0   \n",
       "4                  384.0                 92.0                   2.0   \n",
       "\n",
       "   sat_total_avg_score  \n",
       "0               1122.0  \n",
       "1               1172.0  \n",
       "2               1149.0  \n",
       "3               1174.0  \n",
       "4               1207.0  "
      ]
     },
     "execution_count": 28,
     "metadata": {},
     "output_type": "execute_result"
    }
   ],
   "source": [
    "# Sum SAT scores (row-wise)\n",
    "df[\"sat_total_avg_score\"] = df[sat_cols].sum(axis=1, min_count=1)\n",
    "df.head()"
   ]
  },
  {
   "cell_type": "markdown",
   "id": "d51f24da",
   "metadata": {},
   "source": [
    "#### Save Cleaned DATA to CSV"
   ]
  },
  {
   "cell_type": "code",
   "execution_count": 29,
   "id": "791aa80a",
   "metadata": {},
   "outputs": [
    {
     "name": "stdout",
     "output_type": "stream",
     "text": [
      "✅ Cleaned data saved to cleaned_sat_results.csv\n"
     ]
    }
   ],
   "source": [
    "# Save the cleaned CSV file\n",
    "df.to_csv(\"cleaned_sat_results.csv\", index=False)\n",
    "print(\"✅ Cleaned data saved to cleaned_sat_results.csv\")\n"
   ]
  },
  {
   "cell_type": "code",
   "execution_count": 31,
   "id": "c22407e8",
   "metadata": {},
   "outputs": [],
   "source": [
    "# SQLAlchemy connection string format:\n",
    "\n",
    "DATABASE_URL = (\n",
    "    \"postgresql+psycopg2://neondb_owner:npg_CeS9fJg2azZD\"\n",
    "    \"@ep-falling-glitter-a5m0j5gk-pooler.us-east-2.aws.neon.tech:5432/neondb\"\n",
    "    \"?sslmode=require\"\n",
    ")\n",
    "\n",
    "# Create engine and establish connection\n",
    "engine = create_engine(DATABASE_URL)"
   ]
  },
  {
   "cell_type": "code",
   "execution_count": 34,
   "id": "6120d004",
   "metadata": {},
   "outputs": [
    {
     "name": "stdout",
     "output_type": "stream",
     "text": [
      "Data uploaded\n"
     ]
    }
   ],
   "source": [
    "# Insert into database\n",
    "df.to_sql(\"abida_sultana_sat_scores\", engine, schema='nyc_schools', if_exists=\"replace\", index=False)\n",
    "print(\"Data uploaded\")"
   ]
  }
 ],
 "metadata": {
  "kernelspec": {
   "display_name": "base",
   "language": "python",
   "name": "python3"
  },
  "language_info": {
   "codemirror_mode": {
    "name": "ipython",
    "version": 3
   },
   "file_extension": ".py",
   "mimetype": "text/x-python",
   "name": "python",
   "nbconvert_exporter": "python",
   "pygments_lexer": "ipython3",
   "version": "3.13.5"
  }
 },
 "nbformat": 4,
 "nbformat_minor": 5
}
