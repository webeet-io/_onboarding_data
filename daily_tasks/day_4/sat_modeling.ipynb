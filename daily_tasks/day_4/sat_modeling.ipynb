{
 "cells": [
  {
   "cell_type": "markdown",
   "id": "41b9551a",
   "metadata": {},
   "source": [
    "# Importing Libraries"
   ]
  },
  {
   "cell_type": "code",
   "execution_count": 1,
   "id": "164db14d",
   "metadata": {},
   "outputs": [],
   "source": [
    "import pandas as pd\n",
    "import numpy as np\n",
    "import matplotlib.pyplot as plt\n",
    "import seaborn as sns\n",
    "import psycopg2\n",
    "from sqlalchemy import create_engine"
   ]
  },
  {
   "cell_type": "markdown",
   "id": "4cca291a",
   "metadata": {},
   "source": [
    "# loading the Dataset"
   ]
  },
  {
   "cell_type": "code",
   "execution_count": 2,
   "id": "5443ca24",
   "metadata": {},
   "outputs": [],
   "source": [
    "df = pd.read_csv('/Users/essamalasaad/Desktop/Webeet Day4/sat-results.csv')"
   ]
  },
  {
   "cell_type": "markdown",
   "id": "09773fe1",
   "metadata": {},
   "source": [
    "# Exploring The Dataset"
   ]
  },
  {
   "cell_type": "code",
   "execution_count": 3,
   "id": "0ae348a3",
   "metadata": {},
   "outputs": [
    {
     "data": {
      "application/vnd.microsoft.datawrangler.viewer.v0+json": {
       "columns": [
        {
         "name": "index",
         "rawType": "int64",
         "type": "integer"
        },
        {
         "name": "DBN",
         "rawType": "object",
         "type": "string"
        },
        {
         "name": "SCHOOL NAME",
         "rawType": "object",
         "type": "string"
        },
        {
         "name": "Num of SAT Test Takers",
         "rawType": "object",
         "type": "string"
        },
        {
         "name": "SAT Critical Reading Avg. Score",
         "rawType": "object",
         "type": "string"
        },
        {
         "name": "SAT Math Avg. Score",
         "rawType": "object",
         "type": "string"
        },
        {
         "name": "SAT Writing Avg. Score",
         "rawType": "object",
         "type": "string"
        },
        {
         "name": "SAT Critical Readng Avg. Score",
         "rawType": "object",
         "type": "string"
        },
        {
         "name": "internal_school_id",
         "rawType": "int64",
         "type": "integer"
        },
        {
         "name": "contact_extension",
         "rawType": "object",
         "type": "string"
        },
        {
         "name": "pct_students_tested",
         "rawType": "object",
         "type": "unknown"
        },
        {
         "name": "academic_tier_rating",
         "rawType": "float64",
         "type": "float"
        }
       ],
       "ref": "76325f52-14cc-436c-8e75-9ef8b9144080",
       "rows": [
        [
         "0",
         "01M292",
         "HENRY STREET SCHOOL FOR INTERNATIONAL STUDIES",
         "29",
         "355",
         "404",
         "363",
         "355",
         "218160",
         "x345",
         "78%",
         "2.0"
        ],
        [
         "1",
         "01M448",
         "UNIVERSITY NEIGHBORHOOD HIGH SCHOOL",
         "91",
         "383",
         "423",
         "366",
         "383",
         "268547",
         "x234",
         null,
         "3.0"
        ],
        [
         "2",
         "01M450",
         "EAST SIDE COMMUNITY SCHOOL",
         "70",
         "377",
         "402",
         "370",
         "377",
         "236446",
         "x123",
         null,
         "3.0"
        ],
        [
         "3",
         "01M458",
         "FORSYTH SATELLITE ACADEMY",
         "7",
         "414",
         "401",
         "359",
         "414",
         "427826",
         "x123",
         "92%",
         "4.0"
        ],
        [
         "4",
         "01M509",
         "MARTA VALLE HIGH SCHOOL",
         "44",
         "390",
         "433",
         "384",
         "390",
         "672714",
         "x123",
         "92%",
         "2.0"
        ]
       ],
       "shape": {
        "columns": 11,
        "rows": 5
       }
      },
      "text/html": [
       "<div>\n",
       "<style scoped>\n",
       "    .dataframe tbody tr th:only-of-type {\n",
       "        vertical-align: middle;\n",
       "    }\n",
       "\n",
       "    .dataframe tbody tr th {\n",
       "        vertical-align: top;\n",
       "    }\n",
       "\n",
       "    .dataframe thead th {\n",
       "        text-align: right;\n",
       "    }\n",
       "</style>\n",
       "<table border=\"1\" class=\"dataframe\">\n",
       "  <thead>\n",
       "    <tr style=\"text-align: right;\">\n",
       "      <th></th>\n",
       "      <th>DBN</th>\n",
       "      <th>SCHOOL NAME</th>\n",
       "      <th>Num of SAT Test Takers</th>\n",
       "      <th>SAT Critical Reading Avg. Score</th>\n",
       "      <th>SAT Math Avg. Score</th>\n",
       "      <th>SAT Writing Avg. Score</th>\n",
       "      <th>SAT Critical Readng Avg. Score</th>\n",
       "      <th>internal_school_id</th>\n",
       "      <th>contact_extension</th>\n",
       "      <th>pct_students_tested</th>\n",
       "      <th>academic_tier_rating</th>\n",
       "    </tr>\n",
       "  </thead>\n",
       "  <tbody>\n",
       "    <tr>\n",
       "      <th>0</th>\n",
       "      <td>01M292</td>\n",
       "      <td>HENRY STREET SCHOOL FOR INTERNATIONAL STUDIES</td>\n",
       "      <td>29</td>\n",
       "      <td>355</td>\n",
       "      <td>404</td>\n",
       "      <td>363</td>\n",
       "      <td>355</td>\n",
       "      <td>218160</td>\n",
       "      <td>x345</td>\n",
       "      <td>78%</td>\n",
       "      <td>2.0</td>\n",
       "    </tr>\n",
       "    <tr>\n",
       "      <th>1</th>\n",
       "      <td>01M448</td>\n",
       "      <td>UNIVERSITY NEIGHBORHOOD HIGH SCHOOL</td>\n",
       "      <td>91</td>\n",
       "      <td>383</td>\n",
       "      <td>423</td>\n",
       "      <td>366</td>\n",
       "      <td>383</td>\n",
       "      <td>268547</td>\n",
       "      <td>x234</td>\n",
       "      <td>NaN</td>\n",
       "      <td>3.0</td>\n",
       "    </tr>\n",
       "    <tr>\n",
       "      <th>2</th>\n",
       "      <td>01M450</td>\n",
       "      <td>EAST SIDE COMMUNITY SCHOOL</td>\n",
       "      <td>70</td>\n",
       "      <td>377</td>\n",
       "      <td>402</td>\n",
       "      <td>370</td>\n",
       "      <td>377</td>\n",
       "      <td>236446</td>\n",
       "      <td>x123</td>\n",
       "      <td>NaN</td>\n",
       "      <td>3.0</td>\n",
       "    </tr>\n",
       "    <tr>\n",
       "      <th>3</th>\n",
       "      <td>01M458</td>\n",
       "      <td>FORSYTH SATELLITE ACADEMY</td>\n",
       "      <td>7</td>\n",
       "      <td>414</td>\n",
       "      <td>401</td>\n",
       "      <td>359</td>\n",
       "      <td>414</td>\n",
       "      <td>427826</td>\n",
       "      <td>x123</td>\n",
       "      <td>92%</td>\n",
       "      <td>4.0</td>\n",
       "    </tr>\n",
       "    <tr>\n",
       "      <th>4</th>\n",
       "      <td>01M509</td>\n",
       "      <td>MARTA VALLE HIGH SCHOOL</td>\n",
       "      <td>44</td>\n",
       "      <td>390</td>\n",
       "      <td>433</td>\n",
       "      <td>384</td>\n",
       "      <td>390</td>\n",
       "      <td>672714</td>\n",
       "      <td>x123</td>\n",
       "      <td>92%</td>\n",
       "      <td>2.0</td>\n",
       "    </tr>\n",
       "  </tbody>\n",
       "</table>\n",
       "</div>"
      ],
      "text/plain": [
       "      DBN                                    SCHOOL NAME  \\\n",
       "0  01M292  HENRY STREET SCHOOL FOR INTERNATIONAL STUDIES   \n",
       "1  01M448            UNIVERSITY NEIGHBORHOOD HIGH SCHOOL   \n",
       "2  01M450                     EAST SIDE COMMUNITY SCHOOL   \n",
       "3  01M458                      FORSYTH SATELLITE ACADEMY   \n",
       "4  01M509                        MARTA VALLE HIGH SCHOOL   \n",
       "\n",
       "  Num of SAT Test Takers SAT Critical Reading Avg. Score SAT Math Avg. Score  \\\n",
       "0                     29                             355                 404   \n",
       "1                     91                             383                 423   \n",
       "2                     70                             377                 402   \n",
       "3                      7                             414                 401   \n",
       "4                     44                             390                 433   \n",
       "\n",
       "  SAT Writing Avg. Score SAT Critical Readng Avg. Score  internal_school_id  \\\n",
       "0                    363                            355              218160   \n",
       "1                    366                            383              268547   \n",
       "2                    370                            377              236446   \n",
       "3                    359                            414              427826   \n",
       "4                    384                            390              672714   \n",
       "\n",
       "  contact_extension pct_students_tested  academic_tier_rating  \n",
       "0              x345                 78%                   2.0  \n",
       "1              x234                 NaN                   3.0  \n",
       "2              x123                 NaN                   3.0  \n",
       "3              x123                 92%                   4.0  \n",
       "4              x123                 92%                   2.0  "
      ]
     },
     "execution_count": 3,
     "metadata": {},
     "output_type": "execute_result"
    }
   ],
   "source": [
    "# Exploring first 5 rows\n",
    "df.head()"
   ]
  },
  {
   "cell_type": "code",
   "execution_count": 4,
   "id": "a6a591cf",
   "metadata": {},
   "outputs": [
    {
     "name": "stdout",
     "output_type": "stream",
     "text": [
      "<class 'pandas.core.frame.DataFrame'>\n",
      "RangeIndex: 493 entries, 0 to 492\n",
      "Data columns (total 11 columns):\n",
      " #   Column                           Non-Null Count  Dtype  \n",
      "---  ------                           --------------  -----  \n",
      " 0   DBN                              493 non-null    object \n",
      " 1   SCHOOL NAME                      493 non-null    object \n",
      " 2   Num of SAT Test Takers           493 non-null    object \n",
      " 3   SAT Critical Reading Avg. Score  493 non-null    object \n",
      " 4   SAT Math Avg. Score              493 non-null    object \n",
      " 5   SAT Writing Avg. Score           493 non-null    object \n",
      " 6   SAT Critical Readng Avg. Score   493 non-null    object \n",
      " 7   internal_school_id               493 non-null    int64  \n",
      " 8   contact_extension                388 non-null    object \n",
      " 9   pct_students_tested              376 non-null    object \n",
      " 10  academic_tier_rating             402 non-null    float64\n",
      "dtypes: float64(1), int64(1), object(9)\n",
      "memory usage: 42.5+ KB\n"
     ]
    }
   ],
   "source": [
    "# Exploring the structure of the dataset\n",
    "df.info()\n"
   ]
  },
  {
   "cell_type": "markdown",
   "id": "44e96708",
   "metadata": {},
   "source": [
    "# Cleaning the Data"
   ]
  },
  {
   "cell_type": "code",
   "execution_count": 5,
   "id": "1fcb9e64",
   "metadata": {},
   "outputs": [
    {
     "data": {
      "application/vnd.microsoft.datawrangler.viewer.v0+json": {
       "columns": [
        {
         "name": "index",
         "rawType": "int64",
         "type": "integer"
        },
        {
         "name": "dbn",
         "rawType": "object",
         "type": "string"
        },
        {
         "name": "school_name",
         "rawType": "object",
         "type": "string"
        },
        {
         "name": "num_of_sat_test_takers",
         "rawType": "object",
         "type": "string"
        },
        {
         "name": "sat_critical_reading_avg_score",
         "rawType": "object",
         "type": "string"
        },
        {
         "name": "sat_math_avg_score",
         "rawType": "object",
         "type": "string"
        },
        {
         "name": "sat_writing_avg_score",
         "rawType": "object",
         "type": "string"
        },
        {
         "name": "sat_critical_readng_avg_score",
         "rawType": "object",
         "type": "string"
        },
        {
         "name": "internal_school_id",
         "rawType": "int64",
         "type": "integer"
        },
        {
         "name": "contact_extension",
         "rawType": "object",
         "type": "string"
        },
        {
         "name": "pct_students_tested",
         "rawType": "object",
         "type": "unknown"
        },
        {
         "name": "academic_tier_rating",
         "rawType": "float64",
         "type": "float"
        }
       ],
       "ref": "c84ccd4d-cd70-46d4-8c68-8444419271bc",
       "rows": [
        [
         "0",
         "01M292",
         "HENRY STREET SCHOOL FOR INTERNATIONAL STUDIES",
         "29",
         "355",
         "404",
         "363",
         "355",
         "218160",
         "x345",
         "78%",
         "2.0"
        ],
        [
         "1",
         "01M448",
         "UNIVERSITY NEIGHBORHOOD HIGH SCHOOL",
         "91",
         "383",
         "423",
         "366",
         "383",
         "268547",
         "x234",
         null,
         "3.0"
        ],
        [
         "2",
         "01M450",
         "EAST SIDE COMMUNITY SCHOOL",
         "70",
         "377",
         "402",
         "370",
         "377",
         "236446",
         "x123",
         null,
         "3.0"
        ],
        [
         "3",
         "01M458",
         "FORSYTH SATELLITE ACADEMY",
         "7",
         "414",
         "401",
         "359",
         "414",
         "427826",
         "x123",
         "92%",
         "4.0"
        ],
        [
         "4",
         "01M509",
         "MARTA VALLE HIGH SCHOOL",
         "44",
         "390",
         "433",
         "384",
         "390",
         "672714",
         "x123",
         "92%",
         "2.0"
        ]
       ],
       "shape": {
        "columns": 11,
        "rows": 5
       }
      },
      "text/html": [
       "<div>\n",
       "<style scoped>\n",
       "    .dataframe tbody tr th:only-of-type {\n",
       "        vertical-align: middle;\n",
       "    }\n",
       "\n",
       "    .dataframe tbody tr th {\n",
       "        vertical-align: top;\n",
       "    }\n",
       "\n",
       "    .dataframe thead th {\n",
       "        text-align: right;\n",
       "    }\n",
       "</style>\n",
       "<table border=\"1\" class=\"dataframe\">\n",
       "  <thead>\n",
       "    <tr style=\"text-align: right;\">\n",
       "      <th></th>\n",
       "      <th>dbn</th>\n",
       "      <th>school_name</th>\n",
       "      <th>num_of_sat_test_takers</th>\n",
       "      <th>sat_critical_reading_avg_score</th>\n",
       "      <th>sat_math_avg_score</th>\n",
       "      <th>sat_writing_avg_score</th>\n",
       "      <th>sat_critical_readng_avg_score</th>\n",
       "      <th>internal_school_id</th>\n",
       "      <th>contact_extension</th>\n",
       "      <th>pct_students_tested</th>\n",
       "      <th>academic_tier_rating</th>\n",
       "    </tr>\n",
       "  </thead>\n",
       "  <tbody>\n",
       "    <tr>\n",
       "      <th>0</th>\n",
       "      <td>01M292</td>\n",
       "      <td>HENRY STREET SCHOOL FOR INTERNATIONAL STUDIES</td>\n",
       "      <td>29</td>\n",
       "      <td>355</td>\n",
       "      <td>404</td>\n",
       "      <td>363</td>\n",
       "      <td>355</td>\n",
       "      <td>218160</td>\n",
       "      <td>x345</td>\n",
       "      <td>78%</td>\n",
       "      <td>2.0</td>\n",
       "    </tr>\n",
       "    <tr>\n",
       "      <th>1</th>\n",
       "      <td>01M448</td>\n",
       "      <td>UNIVERSITY NEIGHBORHOOD HIGH SCHOOL</td>\n",
       "      <td>91</td>\n",
       "      <td>383</td>\n",
       "      <td>423</td>\n",
       "      <td>366</td>\n",
       "      <td>383</td>\n",
       "      <td>268547</td>\n",
       "      <td>x234</td>\n",
       "      <td>NaN</td>\n",
       "      <td>3.0</td>\n",
       "    </tr>\n",
       "    <tr>\n",
       "      <th>2</th>\n",
       "      <td>01M450</td>\n",
       "      <td>EAST SIDE COMMUNITY SCHOOL</td>\n",
       "      <td>70</td>\n",
       "      <td>377</td>\n",
       "      <td>402</td>\n",
       "      <td>370</td>\n",
       "      <td>377</td>\n",
       "      <td>236446</td>\n",
       "      <td>x123</td>\n",
       "      <td>NaN</td>\n",
       "      <td>3.0</td>\n",
       "    </tr>\n",
       "    <tr>\n",
       "      <th>3</th>\n",
       "      <td>01M458</td>\n",
       "      <td>FORSYTH SATELLITE ACADEMY</td>\n",
       "      <td>7</td>\n",
       "      <td>414</td>\n",
       "      <td>401</td>\n",
       "      <td>359</td>\n",
       "      <td>414</td>\n",
       "      <td>427826</td>\n",
       "      <td>x123</td>\n",
       "      <td>92%</td>\n",
       "      <td>4.0</td>\n",
       "    </tr>\n",
       "    <tr>\n",
       "      <th>4</th>\n",
       "      <td>01M509</td>\n",
       "      <td>MARTA VALLE HIGH SCHOOL</td>\n",
       "      <td>44</td>\n",
       "      <td>390</td>\n",
       "      <td>433</td>\n",
       "      <td>384</td>\n",
       "      <td>390</td>\n",
       "      <td>672714</td>\n",
       "      <td>x123</td>\n",
       "      <td>92%</td>\n",
       "      <td>2.0</td>\n",
       "    </tr>\n",
       "  </tbody>\n",
       "</table>\n",
       "</div>"
      ],
      "text/plain": [
       "      dbn                                    school_name  \\\n",
       "0  01M292  HENRY STREET SCHOOL FOR INTERNATIONAL STUDIES   \n",
       "1  01M448            UNIVERSITY NEIGHBORHOOD HIGH SCHOOL   \n",
       "2  01M450                     EAST SIDE COMMUNITY SCHOOL   \n",
       "3  01M458                      FORSYTH SATELLITE ACADEMY   \n",
       "4  01M509                        MARTA VALLE HIGH SCHOOL   \n",
       "\n",
       "  num_of_sat_test_takers sat_critical_reading_avg_score sat_math_avg_score  \\\n",
       "0                     29                            355                404   \n",
       "1                     91                            383                423   \n",
       "2                     70                            377                402   \n",
       "3                      7                            414                401   \n",
       "4                     44                            390                433   \n",
       "\n",
       "  sat_writing_avg_score sat_critical_readng_avg_score  internal_school_id  \\\n",
       "0                   363                           355              218160   \n",
       "1                   366                           383              268547   \n",
       "2                   370                           377              236446   \n",
       "3                   359                           414              427826   \n",
       "4                   384                           390              672714   \n",
       "\n",
       "  contact_extension pct_students_tested  academic_tier_rating  \n",
       "0              x345                 78%                   2.0  \n",
       "1              x234                 NaN                   3.0  \n",
       "2              x123                 NaN                   3.0  \n",
       "3              x123                 92%                   4.0  \n",
       "4              x123                 92%                   2.0  "
      ]
     },
     "execution_count": 5,
     "metadata": {},
     "output_type": "execute_result"
    }
   ],
   "source": [
    "# Lowercase, replace spaces and fix typos\n",
    "df.columns = df.columns.str.strip().str.lower().str.replace(' ', '_').str.replace('.', '', regex=False)\n",
    "df.head()"
   ]
  },
  {
   "cell_type": "code",
   "execution_count": 6,
   "id": "e5daf0ef",
   "metadata": {},
   "outputs": [
    {
     "data": {
      "text/plain": [
       "(478, 11)"
      ]
     },
     "execution_count": 6,
     "metadata": {},
     "output_type": "execute_result"
    }
   ],
   "source": [
    "#Drop duplicated rows\n",
    "df = df.drop_duplicates()\n",
    "df.shape"
   ]
  },
  {
   "cell_type": "code",
   "execution_count": 7,
   "id": "a1bf04c9",
   "metadata": {},
   "outputs": [
    {
     "data": {
      "text/plain": [
       "(478, 11)"
      ]
     },
     "execution_count": 7,
     "metadata": {},
     "output_type": "execute_result"
    }
   ],
   "source": [
    "#Drop Duplicate Columns\n",
    "df = df.loc[:,~df.columns.duplicated()]\n",
    "df.shape"
   ]
  },
  {
   "cell_type": "code",
   "execution_count": 8,
   "id": "1e31b2b4",
   "metadata": {},
   "outputs": [
    {
     "data": {
      "text/plain": [
       "(478, 9)"
      ]
     },
     "execution_count": 8,
     "metadata": {},
     "output_type": "execute_result"
    }
   ],
   "source": [
    "# Dropping unncessary columns\n",
    "df = df.drop(columns=['contact_extension', 'sat_critical_readng_avg_score'])\n",
    "df.shape"
   ]
  },
  {
   "cell_type": "code",
   "execution_count": 9,
   "id": "7f8ad7a4",
   "metadata": {},
   "outputs": [],
   "source": [
    "# Convert numeric SAT columns to proper dtype and handle invalid entries\n",
    "# Columns that should be numeric\n",
    "sat_columns = [\n",
    "    'num_of_sat_test_takers',\n",
    "    'sat_critical_reading_avg_score',\n",
    "    'sat_math_avg_score',\n",
    "    'sat_writing_avg_score',\n",
    "    'academic_tier_rating'\n",
    "] \n",
    "for col in sat_columns:\n",
    "    df[col] = pd.to_numeric(df[col], errors='coerce')"
   ]
  },
  {
   "cell_type": "code",
   "execution_count": 10,
   "id": "4e32dc99",
   "metadata": {},
   "outputs": [],
   "source": [
    "# Clean Percentages\n",
    "df['pct_students_tested'] = df['pct_students_tested'].str.replace('%', '').astype(float)"
   ]
  },
  {
   "cell_type": "code",
   "execution_count": 11,
   "id": "9069a602",
   "metadata": {},
   "outputs": [],
   "source": [
    "# Filter out outliers (valid SAT score range: 200–800)\n",
    "\n",
    "score_cols = ['sat_critical_reading_avg_score', 'sat_math_avg_score', 'sat_writing_avg_score']\n",
    "for col in score_cols:\n",
    "    df = df[df[col].between(200, 800, inclusive='both') | df[col].isna()]"
   ]
  },
  {
   "cell_type": "code",
   "execution_count": 12,
   "id": "62e886ec",
   "metadata": {},
   "outputs": [],
   "source": [
    "# Drop rows with too many values missing\n",
    "df_clean = df.dropna(subset=[\n",
    "    'num_of_sat_test_takers',\n",
    "    'sat_critical_reading_avg_score',\n",
    "    'sat_math_avg_score',\n",
    "    'sat_writing_avg_score'\n",
    "])"
   ]
  },
  {
   "cell_type": "code",
   "execution_count": 13,
   "id": "ddad508f",
   "metadata": {},
   "outputs": [
    {
     "name": "stdout",
     "output_type": "stream",
     "text": [
      "df_clean shape: (416, 9)\n",
      "df_clean info:\n",
      "<class 'pandas.core.frame.DataFrame'>\n",
      "Index: 416 entries, 0 to 477\n",
      "Data columns (total 9 columns):\n",
      " #   Column                          Non-Null Count  Dtype  \n",
      "---  ------                          --------------  -----  \n",
      " 0   dbn                             416 non-null    object \n",
      " 1   school_name                     416 non-null    object \n",
      " 2   num_of_sat_test_takers          416 non-null    float64\n",
      " 3   sat_critical_reading_avg_score  416 non-null    float64\n",
      " 4   sat_math_avg_score              416 non-null    float64\n",
      " 5   sat_writing_avg_score           416 non-null    float64\n",
      " 6   internal_school_id              416 non-null    int64  \n",
      " 7   pct_students_tested             313 non-null    float64\n",
      " 8   academic_tier_rating            349 non-null    float64\n",
      "dtypes: float64(6), int64(1), object(2)\n",
      "memory usage: 32.5+ KB\n",
      "df_clean head:\n"
     ]
    },
    {
     "data": {
      "application/vnd.microsoft.datawrangler.viewer.v0+json": {
       "columns": [
        {
         "name": "index",
         "rawType": "int64",
         "type": "integer"
        },
        {
         "name": "dbn",
         "rawType": "object",
         "type": "string"
        },
        {
         "name": "school_name",
         "rawType": "object",
         "type": "string"
        },
        {
         "name": "num_of_sat_test_takers",
         "rawType": "float64",
         "type": "float"
        },
        {
         "name": "sat_critical_reading_avg_score",
         "rawType": "float64",
         "type": "float"
        },
        {
         "name": "sat_math_avg_score",
         "rawType": "float64",
         "type": "float"
        },
        {
         "name": "sat_writing_avg_score",
         "rawType": "float64",
         "type": "float"
        },
        {
         "name": "internal_school_id",
         "rawType": "int64",
         "type": "integer"
        },
        {
         "name": "pct_students_tested",
         "rawType": "float64",
         "type": "float"
        },
        {
         "name": "academic_tier_rating",
         "rawType": "float64",
         "type": "float"
        }
       ],
       "ref": "bbe3a386-84ed-4c50-9503-fe4ec886a3ff",
       "rows": [
        [
         "0",
         "01M292",
         "HENRY STREET SCHOOL FOR INTERNATIONAL STUDIES",
         "29.0",
         "355.0",
         "404.0",
         "363.0",
         "218160",
         "78.0",
         "2.0"
        ],
        [
         "1",
         "01M448",
         "UNIVERSITY NEIGHBORHOOD HIGH SCHOOL",
         "91.0",
         "383.0",
         "423.0",
         "366.0",
         "268547",
         null,
         "3.0"
        ],
        [
         "2",
         "01M450",
         "EAST SIDE COMMUNITY SCHOOL",
         "70.0",
         "377.0",
         "402.0",
         "370.0",
         "236446",
         null,
         "3.0"
        ],
        [
         "3",
         "01M458",
         "FORSYTH SATELLITE ACADEMY",
         "7.0",
         "414.0",
         "401.0",
         "359.0",
         "427826",
         "92.0",
         "4.0"
        ],
        [
         "4",
         "01M509",
         "MARTA VALLE HIGH SCHOOL",
         "44.0",
         "390.0",
         "433.0",
         "384.0",
         "672714",
         "92.0",
         "2.0"
        ]
       ],
       "shape": {
        "columns": 9,
        "rows": 5
       }
      },
      "text/html": [
       "<div>\n",
       "<style scoped>\n",
       "    .dataframe tbody tr th:only-of-type {\n",
       "        vertical-align: middle;\n",
       "    }\n",
       "\n",
       "    .dataframe tbody tr th {\n",
       "        vertical-align: top;\n",
       "    }\n",
       "\n",
       "    .dataframe thead th {\n",
       "        text-align: right;\n",
       "    }\n",
       "</style>\n",
       "<table border=\"1\" class=\"dataframe\">\n",
       "  <thead>\n",
       "    <tr style=\"text-align: right;\">\n",
       "      <th></th>\n",
       "      <th>dbn</th>\n",
       "      <th>school_name</th>\n",
       "      <th>num_of_sat_test_takers</th>\n",
       "      <th>sat_critical_reading_avg_score</th>\n",
       "      <th>sat_math_avg_score</th>\n",
       "      <th>sat_writing_avg_score</th>\n",
       "      <th>internal_school_id</th>\n",
       "      <th>pct_students_tested</th>\n",
       "      <th>academic_tier_rating</th>\n",
       "    </tr>\n",
       "  </thead>\n",
       "  <tbody>\n",
       "    <tr>\n",
       "      <th>0</th>\n",
       "      <td>01M292</td>\n",
       "      <td>HENRY STREET SCHOOL FOR INTERNATIONAL STUDIES</td>\n",
       "      <td>29.0</td>\n",
       "      <td>355.0</td>\n",
       "      <td>404.0</td>\n",
       "      <td>363.0</td>\n",
       "      <td>218160</td>\n",
       "      <td>78.0</td>\n",
       "      <td>2.0</td>\n",
       "    </tr>\n",
       "    <tr>\n",
       "      <th>1</th>\n",
       "      <td>01M448</td>\n",
       "      <td>UNIVERSITY NEIGHBORHOOD HIGH SCHOOL</td>\n",
       "      <td>91.0</td>\n",
       "      <td>383.0</td>\n",
       "      <td>423.0</td>\n",
       "      <td>366.0</td>\n",
       "      <td>268547</td>\n",
       "      <td>NaN</td>\n",
       "      <td>3.0</td>\n",
       "    </tr>\n",
       "    <tr>\n",
       "      <th>2</th>\n",
       "      <td>01M450</td>\n",
       "      <td>EAST SIDE COMMUNITY SCHOOL</td>\n",
       "      <td>70.0</td>\n",
       "      <td>377.0</td>\n",
       "      <td>402.0</td>\n",
       "      <td>370.0</td>\n",
       "      <td>236446</td>\n",
       "      <td>NaN</td>\n",
       "      <td>3.0</td>\n",
       "    </tr>\n",
       "    <tr>\n",
       "      <th>3</th>\n",
       "      <td>01M458</td>\n",
       "      <td>FORSYTH SATELLITE ACADEMY</td>\n",
       "      <td>7.0</td>\n",
       "      <td>414.0</td>\n",
       "      <td>401.0</td>\n",
       "      <td>359.0</td>\n",
       "      <td>427826</td>\n",
       "      <td>92.0</td>\n",
       "      <td>4.0</td>\n",
       "    </tr>\n",
       "    <tr>\n",
       "      <th>4</th>\n",
       "      <td>01M509</td>\n",
       "      <td>MARTA VALLE HIGH SCHOOL</td>\n",
       "      <td>44.0</td>\n",
       "      <td>390.0</td>\n",
       "      <td>433.0</td>\n",
       "      <td>384.0</td>\n",
       "      <td>672714</td>\n",
       "      <td>92.0</td>\n",
       "      <td>2.0</td>\n",
       "    </tr>\n",
       "  </tbody>\n",
       "</table>\n",
       "</div>"
      ],
      "text/plain": [
       "      dbn                                    school_name  \\\n",
       "0  01M292  HENRY STREET SCHOOL FOR INTERNATIONAL STUDIES   \n",
       "1  01M448            UNIVERSITY NEIGHBORHOOD HIGH SCHOOL   \n",
       "2  01M450                     EAST SIDE COMMUNITY SCHOOL   \n",
       "3  01M458                      FORSYTH SATELLITE ACADEMY   \n",
       "4  01M509                        MARTA VALLE HIGH SCHOOL   \n",
       "\n",
       "   num_of_sat_test_takers  sat_critical_reading_avg_score  sat_math_avg_score  \\\n",
       "0                    29.0                           355.0               404.0   \n",
       "1                    91.0                           383.0               423.0   \n",
       "2                    70.0                           377.0               402.0   \n",
       "3                     7.0                           414.0               401.0   \n",
       "4                    44.0                           390.0               433.0   \n",
       "\n",
       "   sat_writing_avg_score  internal_school_id  pct_students_tested  \\\n",
       "0                  363.0              218160                 78.0   \n",
       "1                  366.0              268547                  NaN   \n",
       "2                  370.0              236446                  NaN   \n",
       "3                  359.0              427826                 92.0   \n",
       "4                  384.0              672714                 92.0   \n",
       "\n",
       "   academic_tier_rating  \n",
       "0                   2.0  \n",
       "1                   3.0  \n",
       "2                   3.0  \n",
       "3                   4.0  \n",
       "4                   2.0  "
      ]
     },
     "execution_count": 13,
     "metadata": {},
     "output_type": "execute_result"
    }
   ],
   "source": [
    "# Final overview of cleaned data\n",
    "print('df_clean shape:', df_clean.shape)\n",
    "print('df_clean info:')\n",
    "df_clean.info()\n",
    "print('df_clean head:')\n",
    "df_clean.head()"
   ]
  },
  {
   "cell_type": "code",
   "execution_count": 14,
   "id": "25dc0a96",
   "metadata": {},
   "outputs": [],
   "source": [
    "# saving the clean dataset\n",
    "df_clean.to_csv('cleaned_sat_results.csv', index=False)"
   ]
  },
  {
   "cell_type": "code",
   "execution_count": 15,
   "id": "7cbff9aa",
   "metadata": {},
   "outputs": [
    {
     "name": "stdout",
     "output_type": "stream",
     "text": [
      "/Users/essamalasaad/Desktop/Internship/Webeet Intro week/Webeet Day4\n"
     ]
    }
   ],
   "source": [
    "import os\n",
    "print(os.getcwd())\n"
   ]
  },
  {
   "cell_type": "markdown",
   "id": "7fb8081b",
   "metadata": {},
   "source": [
    "# Design the Schema"
   ]
  },
  {
   "cell_type": "code",
   "execution_count": 16,
   "id": "62035220",
   "metadata": {},
   "outputs": [],
   "source": [
    "# Connecting to the database\n",
    "Database_url = (\n",
    "    \"postgresql+psycopg2://neondb_owner:npg_CeS9fJg2azZD\"\n",
    "    \"@ep-falling-glitter-a5m0j5gk-pooler.us-east-2.aws.neon.tech:5432/neondb\"\n",
    "    \"?sslmode=require\"\n",
    ")\n",
    "engine = create_engine(Database_url)"
   ]
  },
  {
   "cell_type": "code",
   "execution_count": null,
   "id": "c2905dc5",
   "metadata": {},
   "outputs": [],
   "source": []
  },
  {
   "cell_type": "code",
   "execution_count": 17,
   "id": "23ad0d64",
   "metadata": {},
   "outputs": [
    {
     "data": {
      "text/plain": [
       "416"
      ]
     },
     "execution_count": 17,
     "metadata": {},
     "output_type": "execute_result"
    }
   ],
   "source": [
    "# Save cleaned DataFrame to PostgreSQL\n",
    "df_clean.to_sql('Essam_alasaad_sat_results', engine, schema='nyc_schools', if_exists='replace', index=False)"
   ]
  }
 ],
 "metadata": {
  "kernelspec": {
   "display_name": "base",
   "language": "python",
   "name": "python3"
  },
  "language_info": {
   "codemirror_mode": {
    "name": "ipython",
    "version": 3
   },
   "file_extension": ".py",
   "mimetype": "text/x-python",
   "name": "python",
   "nbconvert_exporter": "python",
   "pygments_lexer": "ipython3",
   "version": "3.13.5"
  }
 },
 "nbformat": 4,
 "nbformat_minor": 5
}
