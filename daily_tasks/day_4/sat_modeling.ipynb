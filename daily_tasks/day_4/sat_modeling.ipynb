{
 "cells": [
  {
   "cell_type": "markdown",
   "id": "2d2ce467",
   "metadata": {},
   "source": [
    "# 📆 Day 4 - Sat Modeling"
   ]
  },
  {
   "cell_type": "markdown",
   "id": "953cd69b",
   "metadata": {},
   "source": [
    "## 🔌 Load the data"
   ]
  },
  {
   "cell_type": "code",
   "execution_count": 2,
   "id": "0170e5f7",
   "metadata": {},
   "outputs": [],
   "source": [
    "# import libraries\n",
    "\n",
    "import numpy as np\n",
    "import pandas as pd\n",
    "import psycopg2\n",
    "import sqlalchemy\n",
    "import re"
   ]
  },
  {
   "cell_type": "code",
   "execution_count": 5,
   "id": "8a76c4e3",
   "metadata": {},
   "outputs": [],
   "source": [
    "# import csv from github\n",
    "\n",
    "url = 'https://raw.githubusercontent.com/SebastianNic/data_host/refs/heads/main/sat-results.csv'\n",
    "\n",
    "sat_df_original = pd.read_csv(url)"
   ]
  },
  {
   "cell_type": "code",
   "execution_count": 6,
   "id": "faf0d687",
   "metadata": {},
   "outputs": [],
   "source": [
    "# import additional csv for comparison\n",
    "\n",
    "url_hsd = 'https://raw.githubusercontent.com/SebastianNic/data_host/refs/heads/main/high-school-directory.csv'\n",
    "high_school_dir_df = pd.read_csv(url_hsd)"
   ]
  },
  {
   "cell_type": "code",
   "execution_count": 7,
   "id": "82d725eb",
   "metadata": {},
   "outputs": [
    {
     "data": {
      "text/html": [
       "<div>\n",
       "<style scoped>\n",
       "    .dataframe tbody tr th:only-of-type {\n",
       "        vertical-align: middle;\n",
       "    }\n",
       "\n",
       "    .dataframe tbody tr th {\n",
       "        vertical-align: top;\n",
       "    }\n",
       "\n",
       "    .dataframe thead th {\n",
       "        text-align: right;\n",
       "    }\n",
       "</style>\n",
       "<table border=\"1\" class=\"dataframe\">\n",
       "  <thead>\n",
       "    <tr style=\"text-align: right;\">\n",
       "      <th></th>\n",
       "      <th>DBN</th>\n",
       "      <th>SCHOOL NAME</th>\n",
       "      <th>Num of SAT Test Takers</th>\n",
       "      <th>SAT Critical Reading Avg. Score</th>\n",
       "      <th>SAT Math Avg. Score</th>\n",
       "      <th>SAT Writing Avg. Score</th>\n",
       "      <th>SAT Critical Readng Avg. Score</th>\n",
       "      <th>internal_school_id</th>\n",
       "      <th>contact_extension</th>\n",
       "      <th>pct_students_tested</th>\n",
       "      <th>academic_tier_rating</th>\n",
       "    </tr>\n",
       "  </thead>\n",
       "  <tbody>\n",
       "    <tr>\n",
       "      <th>0</th>\n",
       "      <td>01M292</td>\n",
       "      <td>HENRY STREET SCHOOL FOR INTERNATIONAL STUDIES</td>\n",
       "      <td>29</td>\n",
       "      <td>355</td>\n",
       "      <td>404</td>\n",
       "      <td>363</td>\n",
       "      <td>355</td>\n",
       "      <td>218160</td>\n",
       "      <td>x345</td>\n",
       "      <td>78%</td>\n",
       "      <td>2.0</td>\n",
       "    </tr>\n",
       "    <tr>\n",
       "      <th>1</th>\n",
       "      <td>01M448</td>\n",
       "      <td>UNIVERSITY NEIGHBORHOOD HIGH SCHOOL</td>\n",
       "      <td>91</td>\n",
       "      <td>383</td>\n",
       "      <td>423</td>\n",
       "      <td>366</td>\n",
       "      <td>383</td>\n",
       "      <td>268547</td>\n",
       "      <td>x234</td>\n",
       "      <td>NaN</td>\n",
       "      <td>3.0</td>\n",
       "    </tr>\n",
       "    <tr>\n",
       "      <th>2</th>\n",
       "      <td>01M450</td>\n",
       "      <td>EAST SIDE COMMUNITY SCHOOL</td>\n",
       "      <td>70</td>\n",
       "      <td>377</td>\n",
       "      <td>402</td>\n",
       "      <td>370</td>\n",
       "      <td>377</td>\n",
       "      <td>236446</td>\n",
       "      <td>x123</td>\n",
       "      <td>NaN</td>\n",
       "      <td>3.0</td>\n",
       "    </tr>\n",
       "    <tr>\n",
       "      <th>3</th>\n",
       "      <td>01M458</td>\n",
       "      <td>FORSYTH SATELLITE ACADEMY</td>\n",
       "      <td>7</td>\n",
       "      <td>414</td>\n",
       "      <td>401</td>\n",
       "      <td>359</td>\n",
       "      <td>414</td>\n",
       "      <td>427826</td>\n",
       "      <td>x123</td>\n",
       "      <td>92%</td>\n",
       "      <td>4.0</td>\n",
       "    </tr>\n",
       "    <tr>\n",
       "      <th>4</th>\n",
       "      <td>01M509</td>\n",
       "      <td>MARTA VALLE HIGH SCHOOL</td>\n",
       "      <td>44</td>\n",
       "      <td>390</td>\n",
       "      <td>433</td>\n",
       "      <td>384</td>\n",
       "      <td>390</td>\n",
       "      <td>672714</td>\n",
       "      <td>x123</td>\n",
       "      <td>92%</td>\n",
       "      <td>2.0</td>\n",
       "    </tr>\n",
       "  </tbody>\n",
       "</table>\n",
       "</div>"
      ],
      "text/plain": [
       "      DBN                                    SCHOOL NAME  \\\n",
       "0  01M292  HENRY STREET SCHOOL FOR INTERNATIONAL STUDIES   \n",
       "1  01M448            UNIVERSITY NEIGHBORHOOD HIGH SCHOOL   \n",
       "2  01M450                     EAST SIDE COMMUNITY SCHOOL   \n",
       "3  01M458                      FORSYTH SATELLITE ACADEMY   \n",
       "4  01M509                        MARTA VALLE HIGH SCHOOL   \n",
       "\n",
       "  Num of SAT Test Takers SAT Critical Reading Avg. Score SAT Math Avg. Score  \\\n",
       "0                     29                             355                 404   \n",
       "1                     91                             383                 423   \n",
       "2                     70                             377                 402   \n",
       "3                      7                             414                 401   \n",
       "4                     44                             390                 433   \n",
       "\n",
       "  SAT Writing Avg. Score SAT Critical Readng Avg. Score  internal_school_id  \\\n",
       "0                    363                            355              218160   \n",
       "1                    366                            383              268547   \n",
       "2                    370                            377              236446   \n",
       "3                    359                            414              427826   \n",
       "4                    384                            390              672714   \n",
       "\n",
       "  contact_extension pct_students_tested  academic_tier_rating  \n",
       "0              x345                 78%                   2.0  \n",
       "1              x234                 NaN                   3.0  \n",
       "2              x123                 NaN                   3.0  \n",
       "3              x123                 92%                   4.0  \n",
       "4              x123                 92%                   2.0  "
      ]
     },
     "execution_count": 7,
     "metadata": {},
     "output_type": "execute_result"
    }
   ],
   "source": [
    "sat_df_original.head()"
   ]
  },
  {
   "cell_type": "markdown",
   "id": "6c647de0",
   "metadata": {},
   "source": [
    "## 🛁 Clean the data"
   ]
  },
  {
   "cell_type": "code",
   "execution_count": 8,
   "id": "31920f71",
   "metadata": {},
   "outputs": [
    {
     "name": "stdout",
     "output_type": "stream",
     "text": [
      "<class 'pandas.core.frame.DataFrame'>\n",
      "RangeIndex: 493 entries, 0 to 492\n",
      "Data columns (total 11 columns):\n",
      " #   Column                           Non-Null Count  Dtype  \n",
      "---  ------                           --------------  -----  \n",
      " 0   DBN                              493 non-null    object \n",
      " 1   SCHOOL NAME                      493 non-null    object \n",
      " 2   Num of SAT Test Takers           493 non-null    object \n",
      " 3   SAT Critical Reading Avg. Score  493 non-null    object \n",
      " 4   SAT Math Avg. Score              493 non-null    object \n",
      " 5   SAT Writing Avg. Score           493 non-null    object \n",
      " 6   SAT Critical Readng Avg. Score   493 non-null    object \n",
      " 7   internal_school_id               493 non-null    int64  \n",
      " 8   contact_extension                388 non-null    object \n",
      " 9   pct_students_tested              376 non-null    object \n",
      " 10  academic_tier_rating             402 non-null    float64\n",
      "dtypes: float64(1), int64(1), object(9)\n",
      "memory usage: 42.5+ KB\n"
     ]
    }
   ],
   "source": [
    "sat_df_original.info()"
   ]
  },
  {
   "cell_type": "markdown",
   "id": "7e3490c4",
   "metadata": {},
   "source": [
    "### 🗑️ Dropping abiguous columns or unnecessary columns"
   ]
  },
  {
   "cell_type": "markdown",
   "id": "6c02f3ef",
   "metadata": {},
   "source": [
    "#### Ambigous columns\n",
    "Appearently the 'SAT Critical Reading column is there twice. So I'll check wether or not the two columns match and if they do remove one instance."
   ]
  },
  {
   "cell_type": "code",
   "execution_count": 9,
   "id": "586f45ea",
   "metadata": {},
   "outputs": [],
   "source": [
    "#initiate cleaned df\n",
    "\n",
    "sat_df_cleaned = sat_df_original.copy()"
   ]
  },
  {
   "cell_type": "code",
   "execution_count": 10,
   "id": "9124078a",
   "metadata": {},
   "outputs": [
    {
     "data": {
      "text/html": [
       "<div>\n",
       "<style scoped>\n",
       "    .dataframe tbody tr th:only-of-type {\n",
       "        vertical-align: middle;\n",
       "    }\n",
       "\n",
       "    .dataframe tbody tr th {\n",
       "        vertical-align: top;\n",
       "    }\n",
       "\n",
       "    .dataframe thead th {\n",
       "        text-align: right;\n",
       "    }\n",
       "</style>\n",
       "<table border=\"1\" class=\"dataframe\">\n",
       "  <thead>\n",
       "    <tr style=\"text-align: right;\">\n",
       "      <th></th>\n",
       "      <th>DBN</th>\n",
       "      <th>SCHOOL NAME</th>\n",
       "      <th>Num of SAT Test Takers</th>\n",
       "      <th>SAT Critical Reading Avg. Score</th>\n",
       "      <th>SAT Math Avg. Score</th>\n",
       "      <th>SAT Writing Avg. Score</th>\n",
       "      <th>SAT Critical Readng Avg. Score</th>\n",
       "      <th>internal_school_id</th>\n",
       "      <th>contact_extension</th>\n",
       "      <th>pct_students_tested</th>\n",
       "      <th>academic_tier_rating</th>\n",
       "    </tr>\n",
       "  </thead>\n",
       "  <tbody>\n",
       "  </tbody>\n",
       "</table>\n",
       "</div>"
      ],
      "text/plain": [
       "Empty DataFrame\n",
       "Columns: [DBN, SCHOOL NAME, Num of SAT Test Takers, SAT Critical Reading Avg. Score, SAT Math Avg. Score, SAT Writing Avg. Score, SAT Critical Readng Avg. Score, internal_school_id, contact_extension, pct_students_tested, academic_tier_rating]\n",
       "Index: []"
      ]
     },
     "execution_count": 10,
     "metadata": {},
     "output_type": "execute_result"
    }
   ],
   "source": [
    "# check for match\n",
    "\n",
    "sat_df_cleaned[sat_df_cleaned['SAT Critical Reading Avg. Score'] != sat_df_cleaned['SAT Critical Readng Avg. Score']]"
   ]
  },
  {
   "cell_type": "code",
   "execution_count": 11,
   "id": "5956de86",
   "metadata": {},
   "outputs": [],
   "source": [
    "# both columns are identical in each single row, so I'll drop one\n",
    "\n",
    "sat_df_cleaned.drop('SAT Critical Readng Avg. Score', axis=1, inplace=True)"
   ]
  },
  {
   "cell_type": "markdown",
   "id": "0700673c",
   "metadata": {},
   "source": [
    "The school name column might be ambigous since the school name is already in the high school dorectory table. But if there's schools in the sat table that dont appear in the hsd table i'll have to keep the column."
   ]
  },
  {
   "cell_type": "code",
   "execution_count": 12,
   "id": "e14cd82e",
   "metadata": {},
   "outputs": [],
   "source": [
    "# creating a a df with dbn and name from high_school_directory table\n",
    "\n",
    "dbn_name_list = high_school_dir_df[['dbn', 'school_name', 'total_students']]"
   ]
  },
  {
   "cell_type": "code",
   "execution_count": 13,
   "id": "c5a79cb7",
   "metadata": {},
   "outputs": [
    {
     "data": {
      "text/html": [
       "<div>\n",
       "<style scoped>\n",
       "    .dataframe tbody tr th:only-of-type {\n",
       "        vertical-align: middle;\n",
       "    }\n",
       "\n",
       "    .dataframe tbody tr th {\n",
       "        vertical-align: top;\n",
       "    }\n",
       "\n",
       "    .dataframe thead th {\n",
       "        text-align: right;\n",
       "    }\n",
       "</style>\n",
       "<table border=\"1\" class=\"dataframe\">\n",
       "  <thead>\n",
       "    <tr style=\"text-align: right;\">\n",
       "      <th></th>\n",
       "      <th>dbn</th>\n",
       "      <th>school_name</th>\n",
       "      <th>total_students</th>\n",
       "      <th>DBN</th>\n",
       "      <th>SCHOOL NAME</th>\n",
       "      <th>Num of SAT Test Takers</th>\n",
       "      <th>SAT Critical Reading Avg. Score</th>\n",
       "      <th>SAT Math Avg. Score</th>\n",
       "      <th>SAT Writing Avg. Score</th>\n",
       "      <th>internal_school_id</th>\n",
       "      <th>contact_extension</th>\n",
       "      <th>pct_students_tested</th>\n",
       "      <th>academic_tier_rating</th>\n",
       "    </tr>\n",
       "  </thead>\n",
       "  <tbody>\n",
       "    <tr>\n",
       "      <th>0</th>\n",
       "      <td>01M292</td>\n",
       "      <td>Henry Street School for International Studies</td>\n",
       "      <td>323.0</td>\n",
       "      <td>01M292</td>\n",
       "      <td>HENRY STREET SCHOOL FOR INTERNATIONAL STUDIES</td>\n",
       "      <td>29</td>\n",
       "      <td>355</td>\n",
       "      <td>404</td>\n",
       "      <td>363</td>\n",
       "      <td>218160.0</td>\n",
       "      <td>x345</td>\n",
       "      <td>78%</td>\n",
       "      <td>2.0</td>\n",
       "    </tr>\n",
       "    <tr>\n",
       "      <th>1</th>\n",
       "      <td>01M448</td>\n",
       "      <td>University Neighborhood High School</td>\n",
       "      <td>299.0</td>\n",
       "      <td>01M448</td>\n",
       "      <td>UNIVERSITY NEIGHBORHOOD HIGH SCHOOL</td>\n",
       "      <td>91</td>\n",
       "      <td>383</td>\n",
       "      <td>423</td>\n",
       "      <td>366</td>\n",
       "      <td>268547.0</td>\n",
       "      <td>x234</td>\n",
       "      <td>NaN</td>\n",
       "      <td>3.0</td>\n",
       "    </tr>\n",
       "    <tr>\n",
       "      <th>2</th>\n",
       "      <td>01M450</td>\n",
       "      <td>East Side Community School</td>\n",
       "      <td>649.0</td>\n",
       "      <td>01M450</td>\n",
       "      <td>EAST SIDE COMMUNITY SCHOOL</td>\n",
       "      <td>70</td>\n",
       "      <td>377</td>\n",
       "      <td>402</td>\n",
       "      <td>370</td>\n",
       "      <td>236446.0</td>\n",
       "      <td>x123</td>\n",
       "      <td>NaN</td>\n",
       "      <td>3.0</td>\n",
       "    </tr>\n",
       "    <tr>\n",
       "      <th>4</th>\n",
       "      <td>01M509</td>\n",
       "      <td>Marta Valle High School</td>\n",
       "      <td>401.0</td>\n",
       "      <td>01M509</td>\n",
       "      <td>MARTA VALLE HIGH SCHOOL</td>\n",
       "      <td>44</td>\n",
       "      <td>390</td>\n",
       "      <td>433</td>\n",
       "      <td>384</td>\n",
       "      <td>672714.0</td>\n",
       "      <td>x123</td>\n",
       "      <td>92%</td>\n",
       "      <td>2.0</td>\n",
       "    </tr>\n",
       "    <tr>\n",
       "      <th>6</th>\n",
       "      <td>01M539</td>\n",
       "      <td>New Explorations into Science, Technology and ...</td>\n",
       "      <td>1725.0</td>\n",
       "      <td>01M539</td>\n",
       "      <td>NEW EXPLORATIONS INTO SCIENCE, TECHNOLOGY AND ...</td>\n",
       "      <td>159</td>\n",
       "      <td>522</td>\n",
       "      <td>574</td>\n",
       "      <td>525</td>\n",
       "      <td>697107.0</td>\n",
       "      <td>NaN</td>\n",
       "      <td>78%</td>\n",
       "      <td>2.0</td>\n",
       "    </tr>\n",
       "    <tr>\n",
       "      <th>...</th>\n",
       "      <td>...</td>\n",
       "      <td>...</td>\n",
       "      <td>...</td>\n",
       "      <td>...</td>\n",
       "      <td>...</td>\n",
       "      <td>...</td>\n",
       "      <td>...</td>\n",
       "      <td>...</td>\n",
       "      <td>...</td>\n",
       "      <td>...</td>\n",
       "      <td>...</td>\n",
       "      <td>...</td>\n",
       "      <td>...</td>\n",
       "    </tr>\n",
       "    <tr>\n",
       "      <th>543</th>\n",
       "      <td>32K545</td>\n",
       "      <td>EBC High School for Public Service - Bushwick</td>\n",
       "      <td>513.0</td>\n",
       "      <td>32K545</td>\n",
       "      <td>EBC HIGH SCHOOL FOR PUBLIC SERVICE–BUSHWICK</td>\n",
       "      <td>88</td>\n",
       "      <td>384</td>\n",
       "      <td>409</td>\n",
       "      <td>361</td>\n",
       "      <td>221431.0</td>\n",
       "      <td>NaN</td>\n",
       "      <td>85%</td>\n",
       "      <td>3.0</td>\n",
       "    </tr>\n",
       "    <tr>\n",
       "      <th>544</th>\n",
       "      <td>32K549</td>\n",
       "      <td>Bushwick School for Social Justice</td>\n",
       "      <td>416.0</td>\n",
       "      <td>32K549</td>\n",
       "      <td>BUSHWICK SCHOOL FOR SOCIAL JUSTICE</td>\n",
       "      <td>75</td>\n",
       "      <td>348</td>\n",
       "      <td>353</td>\n",
       "      <td>334</td>\n",
       "      <td>954491.0</td>\n",
       "      <td>x234</td>\n",
       "      <td>85%</td>\n",
       "      <td>3.0</td>\n",
       "    </tr>\n",
       "    <tr>\n",
       "      <th>545</th>\n",
       "      <td>32K552</td>\n",
       "      <td>Academy of Urban Planning</td>\n",
       "      <td>313.0</td>\n",
       "      <td>32K552</td>\n",
       "      <td>ACADEMY OF URBAN PLANNING</td>\n",
       "      <td>67</td>\n",
       "      <td>342</td>\n",
       "      <td>364</td>\n",
       "      <td>354</td>\n",
       "      <td>695572.0</td>\n",
       "      <td>x234</td>\n",
       "      <td>92%</td>\n",
       "      <td>3.0</td>\n",
       "    </tr>\n",
       "    <tr>\n",
       "      <th>546</th>\n",
       "      <td>32K554</td>\n",
       "      <td>All City Leadership Secondary School</td>\n",
       "      <td>333.0</td>\n",
       "      <td>32K554</td>\n",
       "      <td>ALL CITY LEADERSHIP SECONDARY SCHOOL</td>\n",
       "      <td>39</td>\n",
       "      <td>428</td>\n",
       "      <td>465</td>\n",
       "      <td>422</td>\n",
       "      <td>587220.0</td>\n",
       "      <td>NaN</td>\n",
       "      <td>NaN</td>\n",
       "      <td>2.0</td>\n",
       "    </tr>\n",
       "    <tr>\n",
       "      <th>547</th>\n",
       "      <td>32K556</td>\n",
       "      <td>Bushwick Leaders High School for Academic Exce...</td>\n",
       "      <td>362.0</td>\n",
       "      <td>32K556</td>\n",
       "      <td>BUSHWICK LEADERS HIGH SCHOOL FOR ACADEMIC EXCE...</td>\n",
       "      <td>23</td>\n",
       "      <td>347</td>\n",
       "      <td>358</td>\n",
       "      <td>350</td>\n",
       "      <td>658210.0</td>\n",
       "      <td>NaN</td>\n",
       "      <td>92%</td>\n",
       "      <td>2.0</td>\n",
       "    </tr>\n",
       "  </tbody>\n",
       "</table>\n",
       "<p>383 rows × 13 columns</p>\n",
       "</div>"
      ],
      "text/plain": [
       "        dbn                                        school_name  \\\n",
       "0    01M292      Henry Street School for International Studies   \n",
       "1    01M448                University Neighborhood High School   \n",
       "2    01M450                         East Side Community School   \n",
       "4    01M509                            Marta Valle High School   \n",
       "6    01M539  New Explorations into Science, Technology and ...   \n",
       "..      ...                                                ...   \n",
       "543  32K545      EBC High School for Public Service - Bushwick   \n",
       "544  32K549                 Bushwick School for Social Justice   \n",
       "545  32K552                          Academy of Urban Planning   \n",
       "546  32K554               All City Leadership Secondary School   \n",
       "547  32K556  Bushwick Leaders High School for Academic Exce...   \n",
       "\n",
       "     total_students     DBN  \\\n",
       "0             323.0  01M292   \n",
       "1             299.0  01M448   \n",
       "2             649.0  01M450   \n",
       "4             401.0  01M509   \n",
       "6            1725.0  01M539   \n",
       "..              ...     ...   \n",
       "543           513.0  32K545   \n",
       "544           416.0  32K549   \n",
       "545           313.0  32K552   \n",
       "546           333.0  32K554   \n",
       "547           362.0  32K556   \n",
       "\n",
       "                                           SCHOOL NAME Num of SAT Test Takers  \\\n",
       "0        HENRY STREET SCHOOL FOR INTERNATIONAL STUDIES                     29   \n",
       "1                  UNIVERSITY NEIGHBORHOOD HIGH SCHOOL                     91   \n",
       "2                           EAST SIDE COMMUNITY SCHOOL                     70   \n",
       "4                              MARTA VALLE HIGH SCHOOL                     44   \n",
       "6    NEW EXPLORATIONS INTO SCIENCE, TECHNOLOGY AND ...                    159   \n",
       "..                                                 ...                    ...   \n",
       "543        EBC HIGH SCHOOL FOR PUBLIC SERVICE–BUSHWICK                     88   \n",
       "544                 BUSHWICK SCHOOL FOR SOCIAL JUSTICE                     75   \n",
       "545                          ACADEMY OF URBAN PLANNING                     67   \n",
       "546               ALL CITY LEADERSHIP SECONDARY SCHOOL                     39   \n",
       "547  BUSHWICK LEADERS HIGH SCHOOL FOR ACADEMIC EXCE...                     23   \n",
       "\n",
       "    SAT Critical Reading Avg. Score SAT Math Avg. Score  \\\n",
       "0                               355                 404   \n",
       "1                               383                 423   \n",
       "2                               377                 402   \n",
       "4                               390                 433   \n",
       "6                               522                 574   \n",
       "..                              ...                 ...   \n",
       "543                             384                 409   \n",
       "544                             348                 353   \n",
       "545                             342                 364   \n",
       "546                             428                 465   \n",
       "547                             347                 358   \n",
       "\n",
       "    SAT Writing Avg. Score  internal_school_id contact_extension  \\\n",
       "0                      363            218160.0              x345   \n",
       "1                      366            268547.0              x234   \n",
       "2                      370            236446.0              x123   \n",
       "4                      384            672714.0              x123   \n",
       "6                      525            697107.0               NaN   \n",
       "..                     ...                 ...               ...   \n",
       "543                    361            221431.0               NaN   \n",
       "544                    334            954491.0              x234   \n",
       "545                    354            695572.0              x234   \n",
       "546                    422            587220.0               NaN   \n",
       "547                    350            658210.0               NaN   \n",
       "\n",
       "    pct_students_tested  academic_tier_rating  \n",
       "0                   78%                   2.0  \n",
       "1                   NaN                   3.0  \n",
       "2                   NaN                   3.0  \n",
       "4                   92%                   2.0  \n",
       "6                   78%                   2.0  \n",
       "..                  ...                   ...  \n",
       "543                 85%                   3.0  \n",
       "544                 85%                   3.0  \n",
       "545                 92%                   3.0  \n",
       "546                 NaN                   2.0  \n",
       "547                 92%                   2.0  \n",
       "\n",
       "[383 rows x 13 columns]"
      ]
     },
     "execution_count": 13,
     "metadata": {},
     "output_type": "execute_result"
    }
   ],
   "source": [
    "# merging with sat table to see if every school is present\n",
    "\n",
    "df_merged = dbn_name_list.merge(sat_df_cleaned, how='outer', left_on='dbn', right_on='DBN')\n",
    "\n",
    "df_merged[df_merged['dbn'] == df_merged['DBN']] # unfortunately not"
   ]
  },
  {
   "cell_type": "markdown",
   "id": "2b0a90e4",
   "metadata": {},
   "source": [
    "#### Unnecessary columns\n",
    "\n",
    "The following columns are irrelevant\n",
    "* internal school id: since there's already an unique identifier with the dbn and the internal school id is generated by the DOE only for there internal use\n",
    "\n",
    "* contact extension: is a phone number extension. not relevant for any analysis\n",
    "\n",
    "* pct_students_tested: this column can easily be calculated with the number of total students and the number of students who got tested\n",
    "\n",
    "* academic tear rating: the rating doesn't use an appearent pattern. Since there is no official unified school ranking in nyc or the us in general and its not comprehensive what this rating is based on, its getting dropped"
   ]
  },
  {
   "cell_type": "code",
   "execution_count": 14,
   "id": "674b0e09",
   "metadata": {},
   "outputs": [
    {
     "name": "stdout",
     "output_type": "stream",
     "text": [
      "<class 'pandas.core.frame.DataFrame'>\n",
      "RangeIndex: 493 entries, 0 to 492\n",
      "Data columns (total 10 columns):\n",
      " #   Column                           Non-Null Count  Dtype  \n",
      "---  ------                           --------------  -----  \n",
      " 0   DBN                              493 non-null    object \n",
      " 1   SCHOOL NAME                      493 non-null    object \n",
      " 2   Num of SAT Test Takers           493 non-null    object \n",
      " 3   SAT Critical Reading Avg. Score  493 non-null    object \n",
      " 4   SAT Math Avg. Score              493 non-null    object \n",
      " 5   SAT Writing Avg. Score           493 non-null    object \n",
      " 6   internal_school_id               493 non-null    int64  \n",
      " 7   contact_extension                388 non-null    object \n",
      " 8   pct_students_tested              376 non-null    object \n",
      " 9   academic_tier_rating             402 non-null    float64\n",
      "dtypes: float64(1), int64(1), object(8)\n",
      "memory usage: 38.6+ KB\n"
     ]
    }
   ],
   "source": [
    "sat_df_cleaned.info()"
   ]
  },
  {
   "cell_type": "code",
   "execution_count": 15,
   "id": "e915fbd1",
   "metadata": {},
   "outputs": [],
   "source": [
    "# drop all the according columns\n",
    "\n",
    "list_of_cols_to_drop = ['internal_school_id', 'contact_extension', \n",
    "                        'pct_students_tested', 'academic_tier_rating']\n",
    "\n",
    "sat_df_cleaned.drop(list_of_cols_to_drop, axis=1, inplace=True)"
   ]
  },
  {
   "cell_type": "markdown",
   "id": "9ad98f8f",
   "metadata": {},
   "source": [
    "### ♻️ Handling duplicates and missing values"
   ]
  },
  {
   "cell_type": "markdown",
   "id": "3007b103",
   "metadata": {},
   "source": [
    "**Handling duplicates**"
   ]
  },
  {
   "cell_type": "code",
   "execution_count": 16,
   "id": "fb0ebbb5",
   "metadata": {},
   "outputs": [],
   "source": [
    "# check for duplicates\n",
    "\n",
    "assert sat_df_cleaned.duplicated().any()"
   ]
  },
  {
   "cell_type": "code",
   "execution_count": 17,
   "id": "886f7b8e",
   "metadata": {},
   "outputs": [
    {
     "data": {
      "text/html": [
       "<div>\n",
       "<style scoped>\n",
       "    .dataframe tbody tr th:only-of-type {\n",
       "        vertical-align: middle;\n",
       "    }\n",
       "\n",
       "    .dataframe tbody tr th {\n",
       "        vertical-align: top;\n",
       "    }\n",
       "\n",
       "    .dataframe thead th {\n",
       "        text-align: right;\n",
       "    }\n",
       "</style>\n",
       "<table border=\"1\" class=\"dataframe\">\n",
       "  <thead>\n",
       "    <tr style=\"text-align: right;\">\n",
       "      <th></th>\n",
       "      <th>DBN</th>\n",
       "      <th>SCHOOL NAME</th>\n",
       "      <th>Num of SAT Test Takers</th>\n",
       "      <th>SAT Critical Reading Avg. Score</th>\n",
       "      <th>SAT Math Avg. Score</th>\n",
       "      <th>SAT Writing Avg. Score</th>\n",
       "    </tr>\n",
       "  </thead>\n",
       "  <tbody>\n",
       "    <tr>\n",
       "      <th>35</th>\n",
       "      <td>02M419</td>\n",
       "      <td>LANDMARK HIGH SCHOOL</td>\n",
       "      <td>62</td>\n",
       "      <td>390</td>\n",
       "      <td>399</td>\n",
       "      <td>381</td>\n",
       "    </tr>\n",
       "    <tr>\n",
       "      <th>486</th>\n",
       "      <td>02M419</td>\n",
       "      <td>LANDMARK HIGH SCHOOL</td>\n",
       "      <td>62</td>\n",
       "      <td>390</td>\n",
       "      <td>399</td>\n",
       "      <td>381</td>\n",
       "    </tr>\n",
       "    <tr>\n",
       "      <th>52</th>\n",
       "      <td>02M520</td>\n",
       "      <td>MURRY BERGTRAUM HIGH SCHOOL FOR BUSINESS CAREERS</td>\n",
       "      <td>264</td>\n",
       "      <td>407</td>\n",
       "      <td>440</td>\n",
       "      <td>393</td>\n",
       "    </tr>\n",
       "    <tr>\n",
       "      <th>484</th>\n",
       "      <td>02M520</td>\n",
       "      <td>MURRY BERGTRAUM HIGH SCHOOL FOR BUSINESS CAREERS</td>\n",
       "      <td>264</td>\n",
       "      <td>407</td>\n",
       "      <td>440</td>\n",
       "      <td>393</td>\n",
       "    </tr>\n",
       "    <tr>\n",
       "      <th>491</th>\n",
       "      <td>02M520</td>\n",
       "      <td>MURRY BERGTRAUM HIGH SCHOOL FOR BUSINESS CAREERS</td>\n",
       "      <td>264</td>\n",
       "      <td>407</td>\n",
       "      <td>440</td>\n",
       "      <td>393</td>\n",
       "    </tr>\n",
       "  </tbody>\n",
       "</table>\n",
       "</div>"
      ],
      "text/plain": [
       "        DBN                                       SCHOOL NAME  \\\n",
       "35   02M419                              LANDMARK HIGH SCHOOL   \n",
       "486  02M419                              LANDMARK HIGH SCHOOL   \n",
       "52   02M520  MURRY BERGTRAUM HIGH SCHOOL FOR BUSINESS CAREERS   \n",
       "484  02M520  MURRY BERGTRAUM HIGH SCHOOL FOR BUSINESS CAREERS   \n",
       "491  02M520  MURRY BERGTRAUM HIGH SCHOOL FOR BUSINESS CAREERS   \n",
       "\n",
       "    Num of SAT Test Takers SAT Critical Reading Avg. Score  \\\n",
       "35                      62                             390   \n",
       "486                     62                             390   \n",
       "52                     264                             407   \n",
       "484                    264                             407   \n",
       "491                    264                             407   \n",
       "\n",
       "    SAT Math Avg. Score SAT Writing Avg. Score  \n",
       "35                  399                    381  \n",
       "486                 399                    381  \n",
       "52                  440                    393  \n",
       "484                 440                    393  \n",
       "491                 440                    393  "
      ]
     },
     "execution_count": 17,
     "metadata": {},
     "output_type": "execute_result"
    }
   ],
   "source": [
    "# create series with duplicate indexes\n",
    "\n",
    "sat_duplicated = sat_df_cleaned.duplicated(['DBN', 'SCHOOL NAME'],keep=False) # create series with duplicate indexes\n",
    "\n",
    "sat_duplicated_df = sat_df_cleaned[sat_duplicated] # subsetting df with series to see duplicate rows\n",
    "\n",
    "sat_duplicated_df.sort_values('DBN').head() # checking"
   ]
  },
  {
   "cell_type": "code",
   "execution_count": 18,
   "id": "a3e72ac4",
   "metadata": {},
   "outputs": [],
   "source": [
    "# time to remove duplicates\n",
    "\n",
    "sat_df_cleaned.drop_duplicates(keep='first', inplace=True)"
   ]
  },
  {
   "cell_type": "code",
   "execution_count": 19,
   "id": "c8860bae",
   "metadata": {},
   "outputs": [
    {
     "data": {
      "text/plain": [
       "np.False_"
      ]
     },
     "execution_count": 19,
     "metadata": {},
     "output_type": "execute_result"
    }
   ],
   "source": [
    "sat_df_cleaned.duplicated().any()"
   ]
  },
  {
   "cell_type": "markdown",
   "id": "52878a51",
   "metadata": {},
   "source": [
    "**Handling missing values.**\n",
    "The challenge is, that in the SAT columns there is missing values but they are marked with 's'.\n",
    "Therefore the columns have the wrong data type and can not be used properly.\n",
    "The approach is to replace all 's'-values with nan."
   ]
  },
  {
   "cell_type": "code",
   "execution_count": 20,
   "id": "87ceb07a",
   "metadata": {},
   "outputs": [],
   "source": [
    "# create a function that will iterate thru all effected columns and replace s with nan\n",
    "\n",
    "def replace_s_with_nan(df):\n",
    "    for i in range(478):\n",
    "        for n in range(2,6):\n",
    "            if df.iloc[i,n] == 's':\n",
    "                df.iloc[i,n] = np.nan\n",
    "            else:\n",
    "                continue"
   ]
  },
  {
   "cell_type": "code",
   "execution_count": 21,
   "id": "60a2b33b",
   "metadata": {},
   "outputs": [],
   "source": [
    "# run function and hope that it works\n",
    "\n",
    "replace_s_with_nan(sat_df_cleaned)"
   ]
  },
  {
   "cell_type": "code",
   "execution_count": 22,
   "id": "90e591ea",
   "metadata": {},
   "outputs": [
    {
     "data": {
      "text/html": [
       "<div>\n",
       "<style scoped>\n",
       "    .dataframe tbody tr th:only-of-type {\n",
       "        vertical-align: middle;\n",
       "    }\n",
       "\n",
       "    .dataframe tbody tr th {\n",
       "        vertical-align: top;\n",
       "    }\n",
       "\n",
       "    .dataframe thead th {\n",
       "        text-align: right;\n",
       "    }\n",
       "</style>\n",
       "<table border=\"1\" class=\"dataframe\">\n",
       "  <thead>\n",
       "    <tr style=\"text-align: right;\">\n",
       "      <th></th>\n",
       "      <th>DBN</th>\n",
       "      <th>SCHOOL NAME</th>\n",
       "      <th>Num of SAT Test Takers</th>\n",
       "      <th>SAT Critical Reading Avg. Score</th>\n",
       "      <th>SAT Math Avg. Score</th>\n",
       "      <th>SAT Writing Avg. Score</th>\n",
       "    </tr>\n",
       "  </thead>\n",
       "  <tbody>\n",
       "    <tr>\n",
       "      <th>22</th>\n",
       "      <td>02M392</td>\n",
       "      <td>MANHATTAN BUSINESS ACADEMY</td>\n",
       "      <td>NaN</td>\n",
       "      <td>NaN</td>\n",
       "      <td>NaN</td>\n",
       "      <td>NaN</td>\n",
       "    </tr>\n",
       "    <tr>\n",
       "      <th>23</th>\n",
       "      <td>02M393</td>\n",
       "      <td>BUSINESS OF SPORTS SCHOOL</td>\n",
       "      <td>NaN</td>\n",
       "      <td>NaN</td>\n",
       "      <td>NaN</td>\n",
       "      <td>NaN</td>\n",
       "    </tr>\n",
       "    <tr>\n",
       "      <th>25</th>\n",
       "      <td>02M399</td>\n",
       "      <td>THE HIGH SCHOOL FOR LANGUAGE AND DIPLOMACY</td>\n",
       "      <td>NaN</td>\n",
       "      <td>NaN</td>\n",
       "      <td>NaN</td>\n",
       "      <td>NaN</td>\n",
       "    </tr>\n",
       "  </tbody>\n",
       "</table>\n",
       "</div>"
      ],
      "text/plain": [
       "       DBN                                 SCHOOL NAME Num of SAT Test Takers  \\\n",
       "22  02M392                  MANHATTAN BUSINESS ACADEMY                    NaN   \n",
       "23  02M393                   BUSINESS OF SPORTS SCHOOL                    NaN   \n",
       "25  02M399  THE HIGH SCHOOL FOR LANGUAGE AND DIPLOMACY                    NaN   \n",
       "\n",
       "   SAT Critical Reading Avg. Score SAT Math Avg. Score SAT Writing Avg. Score  \n",
       "22                             NaN                 NaN                    NaN  \n",
       "23                             NaN                 NaN                    NaN  \n",
       "25                             NaN                 NaN                    NaN  "
      ]
     },
     "execution_count": 22,
     "metadata": {},
     "output_type": "execute_result"
    }
   ],
   "source": [
    "sat_df_cleaned[sat_df_cleaned['Num of SAT Test Takers'].isnull()].head(3) # ...worked!"
   ]
  },
  {
   "cell_type": "markdown",
   "id": "2c65840d",
   "metadata": {},
   "source": [
    "### 💾 Update data types\n",
    "\n",
    "Update data types of measure columns"
   ]
  },
  {
   "cell_type": "code",
   "execution_count": 23,
   "id": "d0c7ec12",
   "metadata": {},
   "outputs": [
    {
     "name": "stdout",
     "output_type": "stream",
     "text": [
      "<class 'pandas.core.frame.DataFrame'>\n",
      "Index: 478 entries, 0 to 477\n",
      "Data columns (total 6 columns):\n",
      " #   Column                           Non-Null Count  Dtype \n",
      "---  ------                           --------------  ----- \n",
      " 0   DBN                              478 non-null    object\n",
      " 1   SCHOOL NAME                      478 non-null    object\n",
      " 2   Num of SAT Test Takers           421 non-null    object\n",
      " 3   SAT Critical Reading Avg. Score  421 non-null    object\n",
      " 4   SAT Math Avg. Score              421 non-null    object\n",
      " 5   SAT Writing Avg. Score           421 non-null    object\n",
      "dtypes: object(6)\n",
      "memory usage: 26.1+ KB\n"
     ]
    }
   ],
   "source": [
    "sat_df_cleaned.info()"
   ]
  },
  {
   "cell_type": "code",
   "execution_count": 24,
   "id": "5412b1d3",
   "metadata": {},
   "outputs": [],
   "source": [
    "# selecting effected columns and changing data type to float\n",
    "\n",
    "sat_df_cleaned[['Num of SAT Test Takers', 'SAT Critical Reading Avg. Score', \n",
    "                'SAT Math Avg. Score', 'SAT Writing Avg. Score']] = sat_df_cleaned[['Num of SAT Test Takers', 'SAT Critical Reading Avg. Score', \n",
    "                'SAT Math Avg. Score', 'SAT Writing Avg. Score']].astype('float')"
   ]
  },
  {
   "cell_type": "code",
   "execution_count": 25,
   "id": "64283632",
   "metadata": {},
   "outputs": [
    {
     "name": "stdout",
     "output_type": "stream",
     "text": [
      "<class 'pandas.core.frame.DataFrame'>\n",
      "Index: 478 entries, 0 to 477\n",
      "Data columns (total 6 columns):\n",
      " #   Column                           Non-Null Count  Dtype  \n",
      "---  ------                           --------------  -----  \n",
      " 0   DBN                              478 non-null    object \n",
      " 1   SCHOOL NAME                      478 non-null    object \n",
      " 2   Num of SAT Test Takers           421 non-null    float64\n",
      " 3   SAT Critical Reading Avg. Score  421 non-null    float64\n",
      " 4   SAT Math Avg. Score              421 non-null    float64\n",
      " 5   SAT Writing Avg. Score           421 non-null    float64\n",
      "dtypes: float64(4), object(2)\n",
      "memory usage: 26.1+ KB\n"
     ]
    }
   ],
   "source": [
    "sat_df_cleaned.info()"
   ]
  },
  {
   "cell_type": "markdown",
   "id": "175357dd",
   "metadata": {},
   "source": [
    "### 📝 rename columns in correct format"
   ]
  },
  {
   "cell_type": "code",
   "execution_count": 26,
   "id": "d0d418d3",
   "metadata": {},
   "outputs": [],
   "source": [
    "# create function to clean column names \n",
    "\n",
    "def clean_columns(x):\n",
    "\n",
    "  x = x.replace(' ', '_') # replacing whitespaces with underscores\n",
    "\n",
    "  x = x.lower() # making the strings lower\n",
    "\n",
    "  x = re.sub('[^\\w]', '', x) # removing special characters\n",
    "\n",
    "  return x"
   ]
  },
  {
   "cell_type": "code",
   "execution_count": 27,
   "id": "0c45cfa6",
   "metadata": {},
   "outputs": [],
   "source": [
    "# call function to clean column names \n",
    "\n",
    "sat_df_cleaned.rename(clean_columns, axis='columns', inplace=True)"
   ]
  },
  {
   "cell_type": "markdown",
   "id": "eef5d095",
   "metadata": {},
   "source": [
    "### 📐 Outliers and Ranges"
   ]
  },
  {
   "cell_type": "markdown",
   "id": "3c565fbc",
   "metadata": {},
   "source": [
    "**Checking for realistic test result values.**\n",
    "SAT results range from 200 to 800 points per field. Therefore some of the avg scores are simply impossible. The approach here is to correct every value below 200 to exaclty 200 hundred and the other way around for the maximum possible score."
   ]
  },
  {
   "cell_type": "code",
   "execution_count": 54,
   "id": "0395f4f7",
   "metadata": {},
   "outputs": [
    {
     "data": {
      "text/html": [
       "<div>\n",
       "<style scoped>\n",
       "    .dataframe tbody tr th:only-of-type {\n",
       "        vertical-align: middle;\n",
       "    }\n",
       "\n",
       "    .dataframe tbody tr th {\n",
       "        vertical-align: top;\n",
       "    }\n",
       "\n",
       "    .dataframe thead th {\n",
       "        text-align: right;\n",
       "    }\n",
       "</style>\n",
       "<table border=\"1\" class=\"dataframe\">\n",
       "  <thead>\n",
       "    <tr style=\"text-align: right;\">\n",
       "      <th></th>\n",
       "      <th>num_of_sat_test_takers</th>\n",
       "      <th>sat_critical_reading_avg_score</th>\n",
       "      <th>sat_math_avg_score</th>\n",
       "      <th>sat_writing_avg_score</th>\n",
       "    </tr>\n",
       "  </thead>\n",
       "  <tbody>\n",
       "    <tr>\n",
       "      <th>count</th>\n",
       "      <td>421.000000</td>\n",
       "      <td>421.000000</td>\n",
       "      <td>421.000000</td>\n",
       "      <td>421.000000</td>\n",
       "    </tr>\n",
       "    <tr>\n",
       "      <th>mean</th>\n",
       "      <td>110.320665</td>\n",
       "      <td>400.850356</td>\n",
       "      <td>416.895487</td>\n",
       "      <td>393.985748</td>\n",
       "    </tr>\n",
       "    <tr>\n",
       "      <th>std</th>\n",
       "      <td>155.534254</td>\n",
       "      <td>56.802783</td>\n",
       "      <td>75.415096</td>\n",
       "      <td>58.635109</td>\n",
       "    </tr>\n",
       "    <tr>\n",
       "      <th>min</th>\n",
       "      <td>6.000000</td>\n",
       "      <td>279.000000</td>\n",
       "      <td>200.000000</td>\n",
       "      <td>286.000000</td>\n",
       "    </tr>\n",
       "    <tr>\n",
       "      <th>25%</th>\n",
       "      <td>41.000000</td>\n",
       "      <td>368.000000</td>\n",
       "      <td>372.000000</td>\n",
       "      <td>360.000000</td>\n",
       "    </tr>\n",
       "    <tr>\n",
       "      <th>50%</th>\n",
       "      <td>62.000000</td>\n",
       "      <td>391.000000</td>\n",
       "      <td>395.000000</td>\n",
       "      <td>381.000000</td>\n",
       "    </tr>\n",
       "    <tr>\n",
       "      <th>75%</th>\n",
       "      <td>95.000000</td>\n",
       "      <td>416.000000</td>\n",
       "      <td>438.000000</td>\n",
       "      <td>411.000000</td>\n",
       "    </tr>\n",
       "    <tr>\n",
       "      <th>max</th>\n",
       "      <td>1277.000000</td>\n",
       "      <td>679.000000</td>\n",
       "      <td>800.000000</td>\n",
       "      <td>682.000000</td>\n",
       "    </tr>\n",
       "  </tbody>\n",
       "</table>\n",
       "</div>"
      ],
      "text/plain": [
       "       num_of_sat_test_takers  sat_critical_reading_avg_score  \\\n",
       "count              421.000000                      421.000000   \n",
       "mean               110.320665                      400.850356   \n",
       "std                155.534254                       56.802783   \n",
       "min                  6.000000                      279.000000   \n",
       "25%                 41.000000                      368.000000   \n",
       "50%                 62.000000                      391.000000   \n",
       "75%                 95.000000                      416.000000   \n",
       "max               1277.000000                      679.000000   \n",
       "\n",
       "       sat_math_avg_score  sat_writing_avg_score  \n",
       "count          421.000000             421.000000  \n",
       "mean           416.895487             393.985748  \n",
       "std             75.415096              58.635109  \n",
       "min            200.000000             286.000000  \n",
       "25%            372.000000             360.000000  \n",
       "50%            395.000000             381.000000  \n",
       "75%            438.000000             411.000000  \n",
       "max            800.000000             682.000000  "
      ]
     },
     "execution_count": 54,
     "metadata": {},
     "output_type": "execute_result"
    }
   ],
   "source": [
    "sat_df_cleaned.describe()"
   ]
  },
  {
   "cell_type": "code",
   "execution_count": 29,
   "id": "e3639049",
   "metadata": {},
   "outputs": [],
   "source": [
    "# create a function that iterates thru the df and corrects all values that fall out of the possible range\n",
    "\n",
    "def correct_sat_results(y):\n",
    "    \n",
    "    for i in range(3,6): # iterates thru columns\n",
    "        for n in range(0,478): # iterates thru rows\n",
    "\n",
    "            if y.iloc[n,i] < 200: # checks for minimum\n",
    "                y.iloc[n,i] = 200\n",
    "\n",
    "            elif y.iloc[n,i] > 800: # checks for maximum\n",
    "                y.iloc[n,i] = 800\n",
    "\n",
    "            else:\n",
    "                continue"
   ]
  },
  {
   "cell_type": "code",
   "execution_count": 30,
   "id": "37a06422",
   "metadata": {},
   "outputs": [],
   "source": [
    "# call the function\n",
    "\n",
    "correct_sat_results(sat_df_cleaned)"
   ]
  },
  {
   "cell_type": "code",
   "execution_count": 31,
   "id": "6fc54ea3",
   "metadata": {},
   "outputs": [
    {
     "data": {
      "text/html": [
       "<div>\n",
       "<style scoped>\n",
       "    .dataframe tbody tr th:only-of-type {\n",
       "        vertical-align: middle;\n",
       "    }\n",
       "\n",
       "    .dataframe tbody tr th {\n",
       "        vertical-align: top;\n",
       "    }\n",
       "\n",
       "    .dataframe thead th {\n",
       "        text-align: right;\n",
       "    }\n",
       "</style>\n",
       "<table border=\"1\" class=\"dataframe\">\n",
       "  <thead>\n",
       "    <tr style=\"text-align: right;\">\n",
       "      <th></th>\n",
       "      <th>num_of_sat_test_takers</th>\n",
       "      <th>sat_critical_reading_avg_score</th>\n",
       "      <th>sat_math_avg_score</th>\n",
       "      <th>sat_writing_avg_score</th>\n",
       "    </tr>\n",
       "  </thead>\n",
       "  <tbody>\n",
       "    <tr>\n",
       "      <th>count</th>\n",
       "      <td>421.000000</td>\n",
       "      <td>421.000000</td>\n",
       "      <td>421.000000</td>\n",
       "      <td>421.000000</td>\n",
       "    </tr>\n",
       "    <tr>\n",
       "      <th>mean</th>\n",
       "      <td>110.320665</td>\n",
       "      <td>400.850356</td>\n",
       "      <td>416.895487</td>\n",
       "      <td>393.985748</td>\n",
       "    </tr>\n",
       "    <tr>\n",
       "      <th>std</th>\n",
       "      <td>155.534254</td>\n",
       "      <td>56.802783</td>\n",
       "      <td>75.415096</td>\n",
       "      <td>58.635109</td>\n",
       "    </tr>\n",
       "    <tr>\n",
       "      <th>min</th>\n",
       "      <td>6.000000</td>\n",
       "      <td>279.000000</td>\n",
       "      <td>200.000000</td>\n",
       "      <td>286.000000</td>\n",
       "    </tr>\n",
       "    <tr>\n",
       "      <th>25%</th>\n",
       "      <td>41.000000</td>\n",
       "      <td>368.000000</td>\n",
       "      <td>372.000000</td>\n",
       "      <td>360.000000</td>\n",
       "    </tr>\n",
       "    <tr>\n",
       "      <th>50%</th>\n",
       "      <td>62.000000</td>\n",
       "      <td>391.000000</td>\n",
       "      <td>395.000000</td>\n",
       "      <td>381.000000</td>\n",
       "    </tr>\n",
       "    <tr>\n",
       "      <th>75%</th>\n",
       "      <td>95.000000</td>\n",
       "      <td>416.000000</td>\n",
       "      <td>438.000000</td>\n",
       "      <td>411.000000</td>\n",
       "    </tr>\n",
       "    <tr>\n",
       "      <th>max</th>\n",
       "      <td>1277.000000</td>\n",
       "      <td>679.000000</td>\n",
       "      <td>800.000000</td>\n",
       "      <td>682.000000</td>\n",
       "    </tr>\n",
       "  </tbody>\n",
       "</table>\n",
       "</div>"
      ],
      "text/plain": [
       "       num_of_sat_test_takers  sat_critical_reading_avg_score  \\\n",
       "count              421.000000                      421.000000   \n",
       "mean               110.320665                      400.850356   \n",
       "std                155.534254                       56.802783   \n",
       "min                  6.000000                      279.000000   \n",
       "25%                 41.000000                      368.000000   \n",
       "50%                 62.000000                      391.000000   \n",
       "75%                 95.000000                      416.000000   \n",
       "max               1277.000000                      679.000000   \n",
       "\n",
       "       sat_math_avg_score  sat_writing_avg_score  \n",
       "count          421.000000             421.000000  \n",
       "mean           416.895487             393.985748  \n",
       "std             75.415096              58.635109  \n",
       "min            200.000000             286.000000  \n",
       "25%            372.000000             360.000000  \n",
       "50%            395.000000             381.000000  \n",
       "75%            438.000000             411.000000  \n",
       "max            800.000000             682.000000  "
      ]
     },
     "execution_count": 31,
     "metadata": {},
     "output_type": "execute_result"
    }
   ],
   "source": [
    "sat_df_cleaned.describe()"
   ]
  },
  {
   "cell_type": "markdown",
   "id": "9c97a60a",
   "metadata": {},
   "source": [
    "**Checking for impossible numbers of test takers.** There is a total_students column in the high school dir dataframe. I intend to use it to check for realistic test takers numbers."
   ]
  },
  {
   "cell_type": "code",
   "execution_count": null,
   "id": "76a15910",
   "metadata": {},
   "outputs": [],
   "source": [
    "# merge with high_school_dir_df to get total count of students for each school\n",
    "# and check wether or not the num of test takers exceeds that\n",
    "\n",
    "sat_test_takers_check = sat_df_cleaned.merge(high_school_dir_df, \n",
    "                                             how='inner', on='dbn')[['dbn', 'total_students', 'num_of_sat_test_takers']]"
   ]
  },
  {
   "cell_type": "code",
   "execution_count": 52,
   "id": "a2ca45a7",
   "metadata": {},
   "outputs": [],
   "source": [
    "# create a boolean array where every row with a higher number of test takers than total students is \n",
    "# marked as true\n",
    "\n",
    "more_tests_than_students = np.where(\n",
    "    sat_test_takers_check['total_students'] \n",
    "         >= sat_test_takers_check['num_of_sat_test_takers'], \n",
    "         False, True)"
   ]
  },
  {
   "cell_type": "code",
   "execution_count": null,
   "id": "8ad06002",
   "metadata": {},
   "outputs": [
    {
     "data": {
      "text/plain": [
       "np.int64(30)"
      ]
     },
     "execution_count": 53,
     "metadata": {},
     "output_type": "execute_result"
    }
   ],
   "source": [
    "more_tests_than_students.sum()"
   ]
  },
  {
   "cell_type": "markdown",
   "id": "b25dc5b4",
   "metadata": {},
   "source": [
    "So there are a few entries with incorrect num of test takers. Thinking about it however, it can't be asured that both numbers (total students and num of test takers) were recorded in the same year. Therefore I'll leave it as is."
   ]
  },
  {
   "cell_type": "markdown",
   "id": "15e95c79",
   "metadata": {},
   "source": [
    "## 📤 Upload cleaned dataset"
   ]
  },
  {
   "cell_type": "code",
   "execution_count": 55,
   "id": "df25e6ae",
   "metadata": {},
   "outputs": [],
   "source": [
    "# establish database connection\n",
    "\n",
    "DATABASE_URL = (\n",
    "    \"postgresql+psycopg2://neondb_owner:npg_CeS9fJg2azZD\"\n",
    "    \"@ep-falling-glitter-a5m0j5gk-pooler.us-east-2.aws.neon.tech:5432/neondb\"\n",
    "    \"?sslmode=require\"\n",
    "    )"
   ]
  },
  {
   "cell_type": "code",
   "execution_count": 56,
   "id": "e752a8e6",
   "metadata": {},
   "outputs": [],
   "source": [
    "engine = sqlalchemy.create_engine(DATABASE_URL)"
   ]
  },
  {
   "cell_type": "code",
   "execution_count": 57,
   "id": "d7b94bd9",
   "metadata": {},
   "outputs": [
    {
     "data": {
      "text/plain": [
       "478"
      ]
     },
     "execution_count": 57,
     "metadata": {},
     "output_type": "execute_result"
    }
   ],
   "source": [
    "# upload sat_df_cleaned to database\n",
    "\n",
    "sat_df_cleaned.to_sql(\n",
    "    name = 'sebastian_sat_results',\n",
    "    con=engine,\n",
    "    schema='nyc_schools',\n",
    "    if_exists='replace',\n",
    "    index=False\n",
    ")"
   ]
  },
  {
   "cell_type": "markdown",
   "id": "7c52c436",
   "metadata": {},
   "source": [
    "Save csv on local"
   ]
  },
  {
   "cell_type": "code",
   "execution_count": 58,
   "id": "a776946d",
   "metadata": {},
   "outputs": [],
   "source": [
    "local_url = '/Users/bastianlenkers/Documents/Masterschool/Webeet/Onboarding_D4/sebastian_sat_results.csv'\n",
    "\n",
    "sat_df_cleaned.to_csv(local_url, index=False)"
   ]
  }
 ],
 "metadata": {
  "kernelspec": {
   "display_name": "Python 3",
   "language": "python",
   "name": "python3"
  },
  "language_info": {
   "codemirror_mode": {
    "name": "ipython",
    "version": 3
   },
   "file_extension": ".py",
   "mimetype": "text/x-python",
   "name": "python",
   "nbconvert_exporter": "python",
   "pygments_lexer": "ipython3",
   "version": "3.9.6"
  }
 },
 "nbformat": 4,
 "nbformat_minor": 5
}
