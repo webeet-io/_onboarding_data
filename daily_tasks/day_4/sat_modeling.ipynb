{
 "cells": [
  {
   "cell_type": "markdown",
   "id": "20098e53-d89e-41d8-bfc4-ed7e012916ec",
   "metadata": {},
   "source": [
    "Day 4 — SAT Results ETL (Explore → Clean → Load)\n"
   ]
  },
  {
   "cell_type": "code",
   "execution_count": null,
   "id": "49df93d0-9f91-4881-8ae8-a3d6fc8c64ab",
   "metadata": {},
   "outputs": [],
   "source": [
    "Objective: Evaluate, clean, and integrate SAT results into existing PostgreSQL schema.\n",
    "\n"
   ]
  },
  {
   "cell_type": "markdown",
   "id": "4e80123f-6d0a-497f-a65d-c06d401fcd9b",
   "metadata": {},
   "source": [
    ". Normalize headers (lowercase, underscores, no special chars).\n",
    "\n",
    ". Remove duplicates.\n",
    "\n",
    ". Fix formatting issues (e.g., \"85%\" → 85).\n",
    "\n",
    ". Validate SAT scores (200–800 only, invalid → NaN).\n",
    "\n",
    ". Drop irrelevant columns if needed."
   ]
  },
  {
   "cell_type": "code",
   "execution_count": 55,
   "id": "196fc81b-94e2-4c61-9628-e122cb6ee070",
   "metadata": {},
   "outputs": [
    {
     "name": "stdout",
     "output_type": "stream",
     "text": [
      "Cleaned dataset saved to cleaned_sat_results.csv\n"
     ]
    },
    {
     "data": {
      "text/html": [
       "<div>\n",
       "<style scoped>\n",
       "    .dataframe tbody tr th:only-of-type {\n",
       "        vertical-align: middle;\n",
       "    }\n",
       "\n",
       "    .dataframe tbody tr th {\n",
       "        vertical-align: top;\n",
       "    }\n",
       "\n",
       "    .dataframe thead th {\n",
       "        text-align: right;\n",
       "    }\n",
       "</style>\n",
       "<table border=\"1\" class=\"dataframe\">\n",
       "  <thead>\n",
       "    <tr style=\"text-align: right;\">\n",
       "      <th></th>\n",
       "      <th>dbn</th>\n",
       "      <th>school_name</th>\n",
       "      <th>num_of_sat_test_takers</th>\n",
       "      <th>sat_critical_reading_avg_score</th>\n",
       "      <th>sat_math_avg_score</th>\n",
       "      <th>sat_writing_avg_score</th>\n",
       "    </tr>\n",
       "  </thead>\n",
       "  <tbody>\n",
       "    <tr>\n",
       "      <th>0</th>\n",
       "      <td>01M292</td>\n",
       "      <td>HENRY STREET SCHOOL FOR INTERNATIONAL STUDIES</td>\n",
       "      <td>29</td>\n",
       "      <td>355.0</td>\n",
       "      <td>404.0</td>\n",
       "      <td>363.0</td>\n",
       "    </tr>\n",
       "    <tr>\n",
       "      <th>1</th>\n",
       "      <td>01M448</td>\n",
       "      <td>UNIVERSITY NEIGHBORHOOD HIGH SCHOOL</td>\n",
       "      <td>91</td>\n",
       "      <td>383.0</td>\n",
       "      <td>423.0</td>\n",
       "      <td>366.0</td>\n",
       "    </tr>\n",
       "    <tr>\n",
       "      <th>2</th>\n",
       "      <td>01M450</td>\n",
       "      <td>EAST SIDE COMMUNITY SCHOOL</td>\n",
       "      <td>70</td>\n",
       "      <td>377.0</td>\n",
       "      <td>402.0</td>\n",
       "      <td>370.0</td>\n",
       "    </tr>\n",
       "    <tr>\n",
       "      <th>3</th>\n",
       "      <td>01M458</td>\n",
       "      <td>FORSYTH SATELLITE ACADEMY</td>\n",
       "      <td>7</td>\n",
       "      <td>414.0</td>\n",
       "      <td>401.0</td>\n",
       "      <td>359.0</td>\n",
       "    </tr>\n",
       "    <tr>\n",
       "      <th>4</th>\n",
       "      <td>01M509</td>\n",
       "      <td>MARTA VALLE HIGH SCHOOL</td>\n",
       "      <td>44</td>\n",
       "      <td>390.0</td>\n",
       "      <td>433.0</td>\n",
       "      <td>384.0</td>\n",
       "    </tr>\n",
       "  </tbody>\n",
       "</table>\n",
       "</div>"
      ],
      "text/plain": [
       "      dbn                                    school_name  \\\n",
       "0  01M292  HENRY STREET SCHOOL FOR INTERNATIONAL STUDIES   \n",
       "1  01M448            UNIVERSITY NEIGHBORHOOD HIGH SCHOOL   \n",
       "2  01M450                     EAST SIDE COMMUNITY SCHOOL   \n",
       "3  01M458                      FORSYTH SATELLITE ACADEMY   \n",
       "4  01M509                        MARTA VALLE HIGH SCHOOL   \n",
       "\n",
       "  num_of_sat_test_takers  sat_critical_reading_avg_score  sat_math_avg_score  \\\n",
       "0                     29                           355.0               404.0   \n",
       "1                     91                           383.0               423.0   \n",
       "2                     70                           377.0               402.0   \n",
       "3                      7                           414.0               401.0   \n",
       "4                     44                           390.0               433.0   \n",
       "\n",
       "   sat_writing_avg_score  \n",
       "0                  363.0  \n",
       "1                  366.0  \n",
       "2                  370.0  \n",
       "3                  359.0  \n",
       "4                  384.0  "
      ]
     },
     "execution_count": 55,
     "metadata": {},
     "output_type": "execute_result"
    }
   ],
   "source": [
    " \n",
    "import pandas as pd\n",
    "import re\n",
    "\n",
    "# Update the file path to the correct location of your CSV file\n",
    "# You need to specify the actual path where your data file is located\n",
    "file_path = \"2012-sat-results.csv\"  # Changed from \"/mnt/data/2012-sat-results.csv\"\n",
    "\n",
    "# Load raw dataset\n",
    "df = pd.read_csv(file_path)\n",
    "\n",
    "# Clean column names\n",
    "df.columns = (\n",
    "    df.columns\n",
    "    .str.lower()\n",
    "    .str.strip()\n",
    "    .str.replace(\" \", \"_\", regex=False)\n",
    "    .str.replace(r\"[^a-z0-9_]\", \"\", regex=True)\n",
    ")\n",
    "\n",
    "# Drop duplicates\n",
    "df = df.drop_duplicates()\n",
    "\n",
    "# Remove \"%\" signs and convert to numeric where applicable\n",
    "for col in df.columns:\n",
    "    if df[col].dtype == \"object\":\n",
    "        df[col] = df[col].astype(str).str.replace(\"%\", \"\", regex=False)\n",
    "\n",
    "# Convert SAT score columns to numeric and filter valid scores (200–800)\n",
    "sat_cols = [\"sat_math_avg_score\", \"sat_critical_reading_avg_score\", \"sat_writing_avg_score\"]\n",
    "for col in sat_cols:\n",
    "    if col in df.columns:\n",
    "        df[col] = pd.to_numeric(df[col], errors=\"coerce\")\n",
    "        df.loc[(df[col] < 200) | (df[col] > 800), col] = None  # mark invalid as NaN\n",
    "\n",
    "# Update the output path to a location where you have write permissions\n",
    "cleaned_path = \"cleaned_sat_results.csv\"  # Changed from \"/mnt/data/cleaned_sat_results.csv\"\n",
    "\n",
    "# Save cleaned CSV\n",
    "df.to_csv(cleaned_path, index=False)\n",
    "\n",
    "print(f\"Cleaned dataset saved to {cleaned_path}\")\n",
    "df.head()"
   ]
  },
  {
   "cell_type": "code",
   "execution_count": 69,
   "id": "f9a5946f-d6f9-4cf2-9d7d-6a2b258145cc",
   "metadata": {},
   "outputs": [
    {
     "name": "stdout",
     "output_type": "stream",
     "text": [
      "<class 'pandas.core.frame.DataFrame'>\n",
      "RangeIndex: 478 entries, 0 to 477\n",
      "Data columns (total 6 columns):\n",
      " #   Column                          Non-Null Count  Dtype  \n",
      "---  ------                          --------------  -----  \n",
      " 0   dbn                             478 non-null    object \n",
      " 1   school_name                     478 non-null    object \n",
      " 2   num_of_sat_test_takers          478 non-null    object \n",
      " 3   sat_critical_reading_avg_score  421 non-null    float64\n",
      " 4   sat_math_avg_score              421 non-null    float64\n",
      " 5   sat_writing_avg_score           421 non-null    float64\n",
      "dtypes: float64(3), object(3)\n",
      "memory usage: 22.5+ KB\n"
     ]
    }
   ],
   "source": [
    "df.info()"
   ]
  },
  {
   "cell_type": "code",
   "execution_count": 72,
   "id": "c62c6739-f6a2-444f-a9f0-56195b36c965",
   "metadata": {},
   "outputs": [
    {
     "name": "stdout",
     "output_type": "stream",
     "text": [
      "Table created successfully\n"
     ]
    }
   ],
   "source": [
    "import sqlite3\n",
    "\n",
    "# Connect to a database (creates one if it doesn't exist)\n",
    "conn = sqlite3.connect('your_database.db')\n",
    "cursor = conn.cursor()\n",
    "\n",
    "# Execute the CREATE TABLE statement\n",
    "cursor.execute('''\n",
    "CREATE TABLE yourname_sat_scores (\n",
    "    dbn TEXT PRIMARY KEY,\n",
    "    school_name TEXT,\n",
    "    borough TEXT,\n",
    "    sat_math_avg_score INT,\n",
    "    sat_critical_reading_avg_score INT,\n",
    "    sat_writing_avg_score INT\n",
    ")\n",
    "''')\n",
    "\n",
    "# Commit the changes and close the connection\n",
    "conn.commit()\n",
    "conn.close()\n",
    "\n",
    "print(\"Table created successfully\")"
   ]
  },
  {
   "cell_type": "markdown",
   "id": "ea06e8a0-2e7b-4d2f-81cc-b4f6713e1848",
   "metadata": {},
   "source": [
    "Python Script to Append Data into PostgreSQL"
   ]
  },
  {
   "cell_type": "code",
   "execution_count": 43,
   "id": "ff688335-6cfe-4639-b792-b5c4021830fe",
   "metadata": {},
   "outputs": [
    {
     "name": "stdout",
     "output_type": "stream",
     "text": [
      "✅ Data appended successfully to PostgreSQL\n"
     ]
    }
   ],
   "source": [
    "from sqlalchemy import create_engine\n",
    "\n",
    "# Database connection - corrected format\n",
    "# The username and password should be part of the connection string, not separate variables\n",
    "# The host should not include the @ symbol in the variable\n",
    "# The database name should be the actual database name, not a CSV file\n",
    "db_user = \"neondb_owner\"\n",
    "db_pass = \"npg_CeS9fJg2azZD\"\n",
    "db_host = \"ep-falling-glitter-a5m0j5gk-pooler.us-east-2.aws.neon.tech\"\n",
    "db_port = \"5432\"\n",
    "db_name = \"neondb\"  # Changed from CSV filename to actual database name\n",
    "\n",
    "# Properly formatted connection string\n",
    "engine = create_engine(f\"postgresql+psycopg2://{db_user}:{db_pass}@{db_host}:{db_port}/{db_name}\")\n",
    "\n",
    "# Append cleaned dataset to PostgreSQL\n",
    "df.to_sql(\"ucheokoli_sat_scores\", engine, if_exists=\"append\", index=False)\n",
    "\n",
    "print(\"✅ Data appended successfully to PostgreSQL\")"
   ]
  },
  {
   "cell_type": "code",
   "execution_count": 56,
   "id": "309864b9-9af7-4d87-8e53-731adef76fe8",
   "metadata": {},
   "outputs": [
    {
     "name": "stdout",
     "output_type": "stream",
     "text": [
      "['dbn', 'school_name', 'num_of_sat_test_takers', 'sat_critical_reading_avg_score', 'sat_math_avg_score', 'sat_writing_avg_score']\n"
     ]
    }
   ],
   "source": [
    "print(df.columns.tolist())\n"
   ]
  },
  {
   "cell_type": "code",
   "execution_count": 63,
   "id": "2f5e9f9b-d1a6-4a6d-8b7a-e6915d2df059",
   "metadata": {},
   "outputs": [
    {
     "data": {
      "text/html": [
       "<div>\n",
       "<style scoped>\n",
       "    .dataframe tbody tr th:only-of-type {\n",
       "        vertical-align: middle;\n",
       "    }\n",
       "\n",
       "    .dataframe tbody tr th {\n",
       "        vertical-align: top;\n",
       "    }\n",
       "\n",
       "    .dataframe thead th {\n",
       "        text-align: right;\n",
       "    }\n",
       "</style>\n",
       "<table border=\"1\" class=\"dataframe\">\n",
       "  <thead>\n",
       "    <tr style=\"text-align: right;\">\n",
       "      <th></th>\n",
       "      <th>dbn</th>\n",
       "      <th>school_name</th>\n",
       "      <th>num_of_sat_test_takers</th>\n",
       "      <th>sat_critical_reading_avg_score</th>\n",
       "      <th>sat_math_avg_score</th>\n",
       "      <th>sat_writing_avg_score</th>\n",
       "    </tr>\n",
       "  </thead>\n",
       "  <tbody>\n",
       "    <tr>\n",
       "      <th>0</th>\n",
       "      <td>01M292</td>\n",
       "      <td>HENRY STREET SCHOOL FOR INTERNATIONAL STUDIES</td>\n",
       "      <td>29</td>\n",
       "      <td>355.0</td>\n",
       "      <td>404.0</td>\n",
       "      <td>363.0</td>\n",
       "    </tr>\n",
       "    <tr>\n",
       "      <th>1</th>\n",
       "      <td>01M448</td>\n",
       "      <td>UNIVERSITY NEIGHBORHOOD HIGH SCHOOL</td>\n",
       "      <td>91</td>\n",
       "      <td>383.0</td>\n",
       "      <td>423.0</td>\n",
       "      <td>366.0</td>\n",
       "    </tr>\n",
       "    <tr>\n",
       "      <th>2</th>\n",
       "      <td>01M450</td>\n",
       "      <td>EAST SIDE COMMUNITY SCHOOL</td>\n",
       "      <td>70</td>\n",
       "      <td>377.0</td>\n",
       "      <td>402.0</td>\n",
       "      <td>370.0</td>\n",
       "    </tr>\n",
       "    <tr>\n",
       "      <th>3</th>\n",
       "      <td>01M458</td>\n",
       "      <td>FORSYTH SATELLITE ACADEMY</td>\n",
       "      <td>7</td>\n",
       "      <td>414.0</td>\n",
       "      <td>401.0</td>\n",
       "      <td>359.0</td>\n",
       "    </tr>\n",
       "    <tr>\n",
       "      <th>4</th>\n",
       "      <td>01M509</td>\n",
       "      <td>MARTA VALLE HIGH SCHOOL</td>\n",
       "      <td>44</td>\n",
       "      <td>390.0</td>\n",
       "      <td>433.0</td>\n",
       "      <td>384.0</td>\n",
       "    </tr>\n",
       "    <tr>\n",
       "      <th>...</th>\n",
       "      <td>...</td>\n",
       "      <td>...</td>\n",
       "      <td>...</td>\n",
       "      <td>...</td>\n",
       "      <td>...</td>\n",
       "      <td>...</td>\n",
       "    </tr>\n",
       "    <tr>\n",
       "      <th>473</th>\n",
       "      <td>75X012</td>\n",
       "      <td>P.S. X012 LEWIS AND CLARK SCHOOL</td>\n",
       "      <td>s</td>\n",
       "      <td>NaN</td>\n",
       "      <td>NaN</td>\n",
       "      <td>NaN</td>\n",
       "    </tr>\n",
       "    <tr>\n",
       "      <th>474</th>\n",
       "      <td>75X754</td>\n",
       "      <td>J. M. RAPPORT SCHOOL CAREER DEVELOPMENT</td>\n",
       "      <td>s</td>\n",
       "      <td>NaN</td>\n",
       "      <td>NaN</td>\n",
       "      <td>NaN</td>\n",
       "    </tr>\n",
       "    <tr>\n",
       "      <th>475</th>\n",
       "      <td>79M645</td>\n",
       "      <td>SCHOOL FOR COOPERATIVE TECHNICAL EDUCATION</td>\n",
       "      <td>s</td>\n",
       "      <td>NaN</td>\n",
       "      <td>NaN</td>\n",
       "      <td>NaN</td>\n",
       "    </tr>\n",
       "    <tr>\n",
       "      <th>476</th>\n",
       "      <td>79Q950</td>\n",
       "      <td>GED PLUS s CITYWIDE</td>\n",
       "      <td>8</td>\n",
       "      <td>496.0</td>\n",
       "      <td>400.0</td>\n",
       "      <td>426.0</td>\n",
       "    </tr>\n",
       "    <tr>\n",
       "      <th>477</th>\n",
       "      <td>79X490</td>\n",
       "      <td>PHOENIX ACADEMY</td>\n",
       "      <td>9</td>\n",
       "      <td>367.0</td>\n",
       "      <td>370.0</td>\n",
       "      <td>360.0</td>\n",
       "    </tr>\n",
       "  </tbody>\n",
       "</table>\n",
       "<p>478 rows × 6 columns</p>\n",
       "</div>"
      ],
      "text/plain": [
       "        dbn                                    school_name  \\\n",
       "0    01M292  HENRY STREET SCHOOL FOR INTERNATIONAL STUDIES   \n",
       "1    01M448            UNIVERSITY NEIGHBORHOOD HIGH SCHOOL   \n",
       "2    01M450                     EAST SIDE COMMUNITY SCHOOL   \n",
       "3    01M458                      FORSYTH SATELLITE ACADEMY   \n",
       "4    01M509                        MARTA VALLE HIGH SCHOOL   \n",
       "..      ...                                            ...   \n",
       "473  75X012               P.S. X012 LEWIS AND CLARK SCHOOL   \n",
       "474  75X754        J. M. RAPPORT SCHOOL CAREER DEVELOPMENT   \n",
       "475  79M645     SCHOOL FOR COOPERATIVE TECHNICAL EDUCATION   \n",
       "476  79Q950                            GED PLUS s CITYWIDE   \n",
       "477  79X490                                PHOENIX ACADEMY   \n",
       "\n",
       "    num_of_sat_test_takers  sat_critical_reading_avg_score  \\\n",
       "0                       29                           355.0   \n",
       "1                       91                           383.0   \n",
       "2                       70                           377.0   \n",
       "3                        7                           414.0   \n",
       "4                       44                           390.0   \n",
       "..                     ...                             ...   \n",
       "473                      s                             NaN   \n",
       "474                      s                             NaN   \n",
       "475                      s                             NaN   \n",
       "476                      8                           496.0   \n",
       "477                      9                           367.0   \n",
       "\n",
       "     sat_math_avg_score  sat_writing_avg_score  \n",
       "0                 404.0                  363.0  \n",
       "1                 423.0                  366.0  \n",
       "2                 402.0                  370.0  \n",
       "3                 401.0                  359.0  \n",
       "4                 433.0                  384.0  \n",
       "..                  ...                    ...  \n",
       "473                 NaN                    NaN  \n",
       "474                 NaN                    NaN  \n",
       "475                 NaN                    NaN  \n",
       "476               400.0                  426.0  \n",
       "477               370.0                  360.0  \n",
       "\n",
       "[478 rows x 6 columns]"
      ]
     },
     "execution_count": 63,
     "metadata": {},
     "output_type": "execute_result"
    }
   ],
   "source": [
    "new_df=df.drop_duplicates()\n",
    "new_df"
   ]
  },
  {
   "cell_type": "code",
   "execution_count": 64,
   "id": "17422ee1-3237-4a12-b493-6d69fa3bf2ed",
   "metadata": {},
   "outputs": [
    {
     "data": {
      "text/plain": [
       "(478, 6)"
      ]
     },
     "execution_count": 64,
     "metadata": {},
     "output_type": "execute_result"
    }
   ],
   "source": [
    "# remove the duplicates for each duplicated dbn\n",
    "df.drop_duplicates(subset=['dbn'], keep='first', inplace=True)\n",
    "df.shape\n"
   ]
  },
  {
   "cell_type": "code",
   "execution_count": 67,
   "id": "b4a1de1d-24d7-46f0-a58c-eb92a50d45ff",
   "metadata": {},
   "outputs": [
    {
     "data": {
      "text/plain": [
       "dbn                                0\n",
       "school_name                        0\n",
       "num_of_sat_test_takers             0\n",
       "sat_critical_reading_avg_score    57\n",
       "sat_math_avg_score                57\n",
       "sat_writing_avg_score             57\n",
       "dtype: int64"
      ]
     },
     "execution_count": 67,
     "metadata": {},
     "output_type": "execute_result"
    }
   ],
   "source": [
    "#rechecking number of missing values in each column\n",
    "df.isna().sum()"
   ]
  },
  {
   "cell_type": "code",
   "execution_count": 70,
   "id": "6c3fa77a-d4d9-4d3c-b636-2c3a429436c1",
   "metadata": {},
   "outputs": [
    {
     "data": {
      "text/plain": [
       "(478, 6)"
      ]
     },
     "execution_count": 70,
     "metadata": {},
     "output_type": "execute_result"
    }
   ],
   "source": [
    "new_df.shape"
   ]
  },
  {
   "cell_type": "code",
   "execution_count": null,
   "id": "ba3bda90-9912-490e-aa10-e5741207b9ad",
   "metadata": {},
   "outputs": [],
   "source": []
  }
 ],
 "metadata": {
  "kernelspec": {
   "display_name": "Python [conda env:base] *",
   "language": "python",
   "name": "conda-base-py"
  },
  "language_info": {
   "codemirror_mode": {
    "name": "ipython",
    "version": 3
   },
   "file_extension": ".py",
   "mimetype": "text/x-python",
   "name": "python",
   "nbconvert_exporter": "python",
   "pygments_lexer": "ipython3",
   "version": "3.13.5"
  }
 },
 "nbformat": 4,
 "nbformat_minor": 5
}
