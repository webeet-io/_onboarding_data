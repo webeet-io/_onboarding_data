{
 "cells": [
  {
   "cell_type": "markdown",
   "id": "10ba02d7",
   "metadata": {},
   "source": [
    "## 1. Setup and load Dataset"
   ]
  },
  {
   "cell_type": "code",
   "execution_count": 191,
   "id": "abed75ac",
   "metadata": {},
   "outputs": [],
   "source": [
    "# Import necessary libraries\n",
    "import pandas as pd\n",
    "from sqlalchemy import create_engine"
   ]
  },
  {
   "cell_type": "code",
   "execution_count": 192,
   "id": "e91c1cf7",
   "metadata": {},
   "outputs": [
    {
     "data": {
      "text/html": [
       "<div>\n",
       "<style scoped>\n",
       "    .dataframe tbody tr th:only-of-type {\n",
       "        vertical-align: middle;\n",
       "    }\n",
       "\n",
       "    .dataframe tbody tr th {\n",
       "        vertical-align: top;\n",
       "    }\n",
       "\n",
       "    .dataframe thead th {\n",
       "        text-align: right;\n",
       "    }\n",
       "</style>\n",
       "<table border=\"1\" class=\"dataframe\">\n",
       "  <thead>\n",
       "    <tr style=\"text-align: right;\">\n",
       "      <th></th>\n",
       "      <th>DBN</th>\n",
       "      <th>SCHOOL NAME</th>\n",
       "      <th>Num of SAT Test Takers</th>\n",
       "      <th>SAT Critical Reading Avg. Score</th>\n",
       "      <th>SAT Math Avg. Score</th>\n",
       "      <th>SAT Writing Avg. Score</th>\n",
       "      <th>SAT Critical Readng Avg. Score</th>\n",
       "      <th>internal_school_id</th>\n",
       "      <th>contact_extension</th>\n",
       "      <th>pct_students_tested</th>\n",
       "      <th>academic_tier_rating</th>\n",
       "    </tr>\n",
       "  </thead>\n",
       "  <tbody>\n",
       "    <tr>\n",
       "      <th>0</th>\n",
       "      <td>01M292</td>\n",
       "      <td>HENRY STREET SCHOOL FOR INTERNATIONAL STUDIES</td>\n",
       "      <td>29</td>\n",
       "      <td>355</td>\n",
       "      <td>404</td>\n",
       "      <td>363</td>\n",
       "      <td>355</td>\n",
       "      <td>218160</td>\n",
       "      <td>x345</td>\n",
       "      <td>78%</td>\n",
       "      <td>2.0</td>\n",
       "    </tr>\n",
       "    <tr>\n",
       "      <th>1</th>\n",
       "      <td>01M448</td>\n",
       "      <td>UNIVERSITY NEIGHBORHOOD HIGH SCHOOL</td>\n",
       "      <td>91</td>\n",
       "      <td>383</td>\n",
       "      <td>423</td>\n",
       "      <td>366</td>\n",
       "      <td>383</td>\n",
       "      <td>268547</td>\n",
       "      <td>x234</td>\n",
       "      <td>NaN</td>\n",
       "      <td>3.0</td>\n",
       "    </tr>\n",
       "    <tr>\n",
       "      <th>2</th>\n",
       "      <td>01M450</td>\n",
       "      <td>EAST SIDE COMMUNITY SCHOOL</td>\n",
       "      <td>70</td>\n",
       "      <td>377</td>\n",
       "      <td>402</td>\n",
       "      <td>370</td>\n",
       "      <td>377</td>\n",
       "      <td>236446</td>\n",
       "      <td>x123</td>\n",
       "      <td>NaN</td>\n",
       "      <td>3.0</td>\n",
       "    </tr>\n",
       "    <tr>\n",
       "      <th>3</th>\n",
       "      <td>01M458</td>\n",
       "      <td>FORSYTH SATELLITE ACADEMY</td>\n",
       "      <td>7</td>\n",
       "      <td>414</td>\n",
       "      <td>401</td>\n",
       "      <td>359</td>\n",
       "      <td>414</td>\n",
       "      <td>427826</td>\n",
       "      <td>x123</td>\n",
       "      <td>92%</td>\n",
       "      <td>4.0</td>\n",
       "    </tr>\n",
       "    <tr>\n",
       "      <th>4</th>\n",
       "      <td>01M509</td>\n",
       "      <td>MARTA VALLE HIGH SCHOOL</td>\n",
       "      <td>44</td>\n",
       "      <td>390</td>\n",
       "      <td>433</td>\n",
       "      <td>384</td>\n",
       "      <td>390</td>\n",
       "      <td>672714</td>\n",
       "      <td>x123</td>\n",
       "      <td>92%</td>\n",
       "      <td>2.0</td>\n",
       "    </tr>\n",
       "  </tbody>\n",
       "</table>\n",
       "</div>"
      ],
      "text/plain": [
       "      DBN                                    SCHOOL NAME  \\\n",
       "0  01M292  HENRY STREET SCHOOL FOR INTERNATIONAL STUDIES   \n",
       "1  01M448            UNIVERSITY NEIGHBORHOOD HIGH SCHOOL   \n",
       "2  01M450                     EAST SIDE COMMUNITY SCHOOL   \n",
       "3  01M458                      FORSYTH SATELLITE ACADEMY   \n",
       "4  01M509                        MARTA VALLE HIGH SCHOOL   \n",
       "\n",
       "  Num of SAT Test Takers SAT Critical Reading Avg. Score SAT Math Avg. Score  \\\n",
       "0                     29                             355                 404   \n",
       "1                     91                             383                 423   \n",
       "2                     70                             377                 402   \n",
       "3                      7                             414                 401   \n",
       "4                     44                             390                 433   \n",
       "\n",
       "  SAT Writing Avg. Score SAT Critical Readng Avg. Score  internal_school_id  \\\n",
       "0                    363                            355              218160   \n",
       "1                    366                            383              268547   \n",
       "2                    370                            377              236446   \n",
       "3                    359                            414              427826   \n",
       "4                    384                            390              672714   \n",
       "\n",
       "  contact_extension pct_students_tested  academic_tier_rating  \n",
       "0              x345                 78%                   2.0  \n",
       "1              x234                 NaN                   3.0  \n",
       "2              x123                 NaN                   3.0  \n",
       "3              x123                 92%                   4.0  \n",
       "4              x123                 92%                   2.0  "
      ]
     },
     "execution_count": 192,
     "metadata": {},
     "output_type": "execute_result"
    }
   ],
   "source": [
    "# Load dataset\n",
    "df = pd.read_csv(\"sat-results.csv\")\n",
    "df.head()"
   ]
  },
  {
   "cell_type": "code",
   "execution_count": 193,
   "id": "81a0b86e",
   "metadata": {},
   "outputs": [
    {
     "name": "stdout",
     "output_type": "stream",
     "text": [
      "<class 'pandas.core.frame.DataFrame'>\n",
      "RangeIndex: 493 entries, 0 to 492\n",
      "Data columns (total 11 columns):\n",
      " #   Column                           Non-Null Count  Dtype  \n",
      "---  ------                           --------------  -----  \n",
      " 0   DBN                              493 non-null    object \n",
      " 1   SCHOOL NAME                      493 non-null    object \n",
      " 2   Num of SAT Test Takers           493 non-null    object \n",
      " 3   SAT Critical Reading Avg. Score  493 non-null    object \n",
      " 4   SAT Math Avg. Score              493 non-null    object \n",
      " 5   SAT Writing Avg. Score           493 non-null    object \n",
      " 6   SAT Critical Readng Avg. Score   493 non-null    object \n",
      " 7   internal_school_id               493 non-null    int64  \n",
      " 8   contact_extension                388 non-null    object \n",
      " 9   pct_students_tested              376 non-null    object \n",
      " 10  academic_tier_rating             402 non-null    float64\n",
      "dtypes: float64(1), int64(1), object(9)\n",
      "memory usage: 42.5+ KB\n"
     ]
    }
   ],
   "source": [
    "df.info()\n"
   ]
  },
  {
   "cell_type": "markdown",
   "id": "0b6ea75c",
   "metadata": {},
   "source": [
    "## 2. Clean Column Names"
   ]
  },
  {
   "cell_type": "code",
   "execution_count": 194,
   "id": "c0a7339c",
   "metadata": {},
   "outputs": [],
   "source": [
    "# Standardize column names\n",
    "df.columns = (\n",
    "    df.columns.str.strip()\n",
    "              .str.lower()\n",
    "              .str.replace(\" \", \"_\")\n",
    "              .str.replace(\"[^0-9a-zA-Z_]\", \"\", regex=True)\n",
    ")"
   ]
  },
  {
   "cell_type": "code",
   "execution_count": 195,
   "id": "e8547d70",
   "metadata": {},
   "outputs": [
    {
     "data": {
      "text/html": [
       "<div>\n",
       "<style scoped>\n",
       "    .dataframe tbody tr th:only-of-type {\n",
       "        vertical-align: middle;\n",
       "    }\n",
       "\n",
       "    .dataframe tbody tr th {\n",
       "        vertical-align: top;\n",
       "    }\n",
       "\n",
       "    .dataframe thead th {\n",
       "        text-align: right;\n",
       "    }\n",
       "</style>\n",
       "<table border=\"1\" class=\"dataframe\">\n",
       "  <thead>\n",
       "    <tr style=\"text-align: right;\">\n",
       "      <th></th>\n",
       "      <th>dbn</th>\n",
       "      <th>school_name</th>\n",
       "      <th>num_of_sat_test_takers</th>\n",
       "      <th>sat_critical_reading_avg_score</th>\n",
       "      <th>sat_math_avg_score</th>\n",
       "      <th>sat_writing_avg_score</th>\n",
       "      <th>sat_critical_readng_avg_score</th>\n",
       "      <th>internal_school_id</th>\n",
       "      <th>contact_extension</th>\n",
       "      <th>pct_students_tested</th>\n",
       "      <th>academic_tier_rating</th>\n",
       "    </tr>\n",
       "  </thead>\n",
       "  <tbody>\n",
       "    <tr>\n",
       "      <th>0</th>\n",
       "      <td>01M292</td>\n",
       "      <td>HENRY STREET SCHOOL FOR INTERNATIONAL STUDIES</td>\n",
       "      <td>29</td>\n",
       "      <td>355</td>\n",
       "      <td>404</td>\n",
       "      <td>363</td>\n",
       "      <td>355</td>\n",
       "      <td>218160</td>\n",
       "      <td>x345</td>\n",
       "      <td>78%</td>\n",
       "      <td>2.0</td>\n",
       "    </tr>\n",
       "    <tr>\n",
       "      <th>1</th>\n",
       "      <td>01M448</td>\n",
       "      <td>UNIVERSITY NEIGHBORHOOD HIGH SCHOOL</td>\n",
       "      <td>91</td>\n",
       "      <td>383</td>\n",
       "      <td>423</td>\n",
       "      <td>366</td>\n",
       "      <td>383</td>\n",
       "      <td>268547</td>\n",
       "      <td>x234</td>\n",
       "      <td>NaN</td>\n",
       "      <td>3.0</td>\n",
       "    </tr>\n",
       "    <tr>\n",
       "      <th>2</th>\n",
       "      <td>01M450</td>\n",
       "      <td>EAST SIDE COMMUNITY SCHOOL</td>\n",
       "      <td>70</td>\n",
       "      <td>377</td>\n",
       "      <td>402</td>\n",
       "      <td>370</td>\n",
       "      <td>377</td>\n",
       "      <td>236446</td>\n",
       "      <td>x123</td>\n",
       "      <td>NaN</td>\n",
       "      <td>3.0</td>\n",
       "    </tr>\n",
       "    <tr>\n",
       "      <th>3</th>\n",
       "      <td>01M458</td>\n",
       "      <td>FORSYTH SATELLITE ACADEMY</td>\n",
       "      <td>7</td>\n",
       "      <td>414</td>\n",
       "      <td>401</td>\n",
       "      <td>359</td>\n",
       "      <td>414</td>\n",
       "      <td>427826</td>\n",
       "      <td>x123</td>\n",
       "      <td>92%</td>\n",
       "      <td>4.0</td>\n",
       "    </tr>\n",
       "    <tr>\n",
       "      <th>4</th>\n",
       "      <td>01M509</td>\n",
       "      <td>MARTA VALLE HIGH SCHOOL</td>\n",
       "      <td>44</td>\n",
       "      <td>390</td>\n",
       "      <td>433</td>\n",
       "      <td>384</td>\n",
       "      <td>390</td>\n",
       "      <td>672714</td>\n",
       "      <td>x123</td>\n",
       "      <td>92%</td>\n",
       "      <td>2.0</td>\n",
       "    </tr>\n",
       "  </tbody>\n",
       "</table>\n",
       "</div>"
      ],
      "text/plain": [
       "      dbn                                    school_name  \\\n",
       "0  01M292  HENRY STREET SCHOOL FOR INTERNATIONAL STUDIES   \n",
       "1  01M448            UNIVERSITY NEIGHBORHOOD HIGH SCHOOL   \n",
       "2  01M450                     EAST SIDE COMMUNITY SCHOOL   \n",
       "3  01M458                      FORSYTH SATELLITE ACADEMY   \n",
       "4  01M509                        MARTA VALLE HIGH SCHOOL   \n",
       "\n",
       "  num_of_sat_test_takers sat_critical_reading_avg_score sat_math_avg_score  \\\n",
       "0                     29                            355                404   \n",
       "1                     91                            383                423   \n",
       "2                     70                            377                402   \n",
       "3                      7                            414                401   \n",
       "4                     44                            390                433   \n",
       "\n",
       "  sat_writing_avg_score sat_critical_readng_avg_score  internal_school_id  \\\n",
       "0                   363                           355              218160   \n",
       "1                   366                           383              268547   \n",
       "2                   370                           377              236446   \n",
       "3                   359                           414              427826   \n",
       "4                   384                           390              672714   \n",
       "\n",
       "  contact_extension pct_students_tested  academic_tier_rating  \n",
       "0              x345                 78%                   2.0  \n",
       "1              x234                 NaN                   3.0  \n",
       "2              x123                 NaN                   3.0  \n",
       "3              x123                 92%                   4.0  \n",
       "4              x123                 92%                   2.0  "
      ]
     },
     "execution_count": 195,
     "metadata": {},
     "output_type": "execute_result"
    }
   ],
   "source": [
    "df.head()"
   ]
  },
  {
   "cell_type": "markdown",
   "id": "24025ec9",
   "metadata": {},
   "source": [
    "## 3. Drop Unnecessary Columns"
   ]
  },
  {
   "cell_type": "code",
   "execution_count": 196,
   "id": "84e92898",
   "metadata": {},
   "outputs": [],
   "source": [
    "# Drop unnecessary columns \n",
    "df = df.drop(columns=[\n",
    "    \"sat_critical_readng_avg_score\",  # duplicate with typo\n",
    "    \"internal_school_id\",             # DBN already as the unique key\n",
    "    \"contact_extension\"               # phone extension, many nulls, not useful\n",
    "])"
   ]
  },
  {
   "cell_type": "markdown",
   "id": "86ee9c17",
   "metadata": {},
   "source": [
    "## 4. Convert Data Types"
   ]
  },
  {
   "cell_type": "code",
   "execution_count": 197,
   "id": "0a7d713b",
   "metadata": {},
   "outputs": [],
   "source": [
    "# Convert number of test takers to integer and replace non numeric values with NaN\n",
    "df[\"num_of_sat_test_takers\"] = pd.to_numeric(df[\"num_of_sat_test_takers\"], errors=\"coerce\").astype('Int64')"
   ]
  },
  {
   "cell_type": "code",
   "execution_count": 198,
   "id": "dee3719b",
   "metadata": {},
   "outputs": [],
   "source": [
    "# Convert numeric columns with scores to float and replace non numeric values with NaN\n",
    "score_cols = [\n",
    "    \"sat_critical_reading_avg_score\",\n",
    "    \"sat_math_avg_score\",\n",
    "    \"sat_writing_avg_score\"\n",
    "]\n",
    "df[score_cols] = df[score_cols].apply(pd.to_numeric, errors=\"coerce\")"
   ]
  },
  {
   "cell_type": "markdown",
   "id": "b4fd73ae",
   "metadata": {},
   "source": [
    "## 5. Validate and Clean Scores"
   ]
  },
  {
   "cell_type": "code",
   "execution_count": 199,
   "id": "a25e84c9",
   "metadata": {},
   "outputs": [],
   "source": [
    "# Set to NaN invalid SAT scores (<200 or >800)\n",
    "\n",
    "for col in score_cols:\n",
    "    df.loc[(df[col] < 200) | (df[col] > 800), col] = None"
   ]
  },
  {
   "cell_type": "code",
   "execution_count": 200,
   "id": "20cbc383",
   "metadata": {},
   "outputs": [],
   "source": [
    "# Strip %, convert to float, handle \"N/A\" as NaN\n",
    "df[\"pct_students_tested\"] = (\n",
    "    df[\"pct_students_tested\"]\n",
    "    .replace(\"N/A\", None)\n",
    "    .str.replace(\"%\", \"\", regex=False)\n",
    "    .astype(float)\n",
    ")"
   ]
  },
  {
   "cell_type": "code",
   "execution_count": 201,
   "id": "27844d02",
   "metadata": {},
   "outputs": [],
   "source": [
    "# Convert data type to integer for performance tier (scale 1–4)\n",
    "df[\"academic_tier_rating\"] = pd.to_numeric(df[\"academic_tier_rating\"], errors=\"coerce\").astype('Int64')"
   ]
  },
  {
   "cell_type": "markdown",
   "id": "28110436",
   "metadata": {},
   "source": [
    "## 6. Additional column"
   ]
  },
  {
   "cell_type": "code",
   "execution_count": 202,
   "id": "e5897ecd",
   "metadata": {},
   "outputs": [],
   "source": [
    "# Additional column with average total score\n",
    "df[\"sat_total_avg_score\"] = df[score_cols].sum(axis=1, skipna=True)"
   ]
  },
  {
   "cell_type": "code",
   "execution_count": 203,
   "id": "1872b522",
   "metadata": {},
   "outputs": [
    {
     "name": "stdout",
     "output_type": "stream",
     "text": [
      "dbn                                object\n",
      "school_name                        object\n",
      "num_of_sat_test_takers              Int64\n",
      "sat_critical_reading_avg_score    float64\n",
      "sat_math_avg_score                float64\n",
      "sat_writing_avg_score             float64\n",
      "pct_students_tested               float64\n",
      "academic_tier_rating                Int64\n",
      "sat_total_avg_score               float64\n",
      "dtype: object\n",
      "      dbn                                    school_name  \\\n",
      "0  01M292  HENRY STREET SCHOOL FOR INTERNATIONAL STUDIES   \n",
      "1  01M448            UNIVERSITY NEIGHBORHOOD HIGH SCHOOL   \n",
      "2  01M450                     EAST SIDE COMMUNITY SCHOOL   \n",
      "3  01M458                      FORSYTH SATELLITE ACADEMY   \n",
      "4  01M509                        MARTA VALLE HIGH SCHOOL   \n",
      "\n",
      "   num_of_sat_test_takers  sat_critical_reading_avg_score  sat_math_avg_score  \\\n",
      "0                      29                           355.0               404.0   \n",
      "1                      91                           383.0               423.0   \n",
      "2                      70                           377.0               402.0   \n",
      "3                       7                           414.0               401.0   \n",
      "4                      44                           390.0               433.0   \n",
      "\n",
      "   sat_writing_avg_score  pct_students_tested  academic_tier_rating  \\\n",
      "0                  363.0                 78.0                     2   \n",
      "1                  366.0                  NaN                     3   \n",
      "2                  370.0                  NaN                     3   \n",
      "3                  359.0                 92.0                     4   \n",
      "4                  384.0                 92.0                     2   \n",
      "\n",
      "   sat_total_avg_score  \n",
      "0               1122.0  \n",
      "1               1172.0  \n",
      "2               1149.0  \n",
      "3               1174.0  \n",
      "4               1207.0  \n"
     ]
    }
   ],
   "source": [
    "\n",
    "# Final check\n",
    "print(df.dtypes)\n",
    "print(df.head())"
   ]
  },
  {
   "cell_type": "markdown",
   "id": "32f3ce2e",
   "metadata": {},
   "source": [
    "## 7. Save Cleaned CSV and Database Integration"
   ]
  },
  {
   "cell_type": "code",
   "execution_count": 204,
   "id": "c5b7e1b8",
   "metadata": {},
   "outputs": [],
   "source": [
    "# Save cleaned version\n",
    "df.to_csv(\"cleaned_sat_results.csv\", index=False)"
   ]
  },
  {
   "cell_type": "code",
   "execution_count": 205,
   "id": "f3fefba9",
   "metadata": {},
   "outputs": [],
   "source": [
    "# SQLAlchemy connection string format:\n",
    "\n",
    "DATABASE_URL = (\n",
    "    \"postgresql+psycopg2://neondb_owner:npg_CeS9fJg2azZD\"\n",
    "    \"@ep-falling-glitter-a5m0j5gk-pooler.us-east-2.aws.neon.tech:5432/neondb\"\n",
    "    \"?sslmode=require\"\n",
    ")\n",
    "\n",
    "# Create engine and establish connection\n",
    "engine = create_engine(DATABASE_URL)"
   ]
  },
  {
   "cell_type": "code",
   "execution_count": 206,
   "id": "a3dfc2c8",
   "metadata": {},
   "outputs": [
    {
     "name": "stdout",
     "output_type": "stream",
     "text": [
      "Data uploaded\n"
     ]
    }
   ],
   "source": [
    "# Insert into database\n",
    "df.to_sql(\"serhii_sotnichenko_sat_scores\", engine, if_exists=\"replace\", index=False)\n",
    "print(\"Data uploaded\")"
   ]
  },
  {
   "cell_type": "markdown",
   "id": "9c5b8936",
   "metadata": {},
   "source": [
    "# Day 4 – NYC SAT Results Data Cleaning & Integration\n",
    "\n",
    "## Cleaning Logic\n",
    "- Standardized column names: lowercase, underscores instead of spaces, removed special characters.  \n",
    "- Dropped unnecessary columns:\n",
    "  - `sat_critical_readng_avg_score` (duplicate with typo)  \n",
    "  - `internal_school_id` (DBN already unique identifier)  \n",
    "  - `contact_extension` (mostly null, not relevant)  \n",
    "- Converted numeric columns:\n",
    "  - `num_of_sat_test_takers` → integer (`Int64`)  \n",
    "  - SAT score columns (`sat_critical_reading_avg_score`, `sat_math_avg_score`, `sat_writing_avg_score`) → float  \n",
    "- Set invalid SAT scores (<200 or >800) to NaN.  \n",
    "- Converted `pct_students_tested` from strings with \"%\" to float, handling \"N/A\" as NaN.  \n",
    "- Converted `academic_tier_rating` to integer (`Int64`).  \n",
    "- Added `sat_total_avg_score` as the sum of individual SAT score columns.\n",
    "\n",
    "## Challenges\n",
    "- Some columns contained non-numeric values like `\"s\"` or `\"N/A\"` which required coercion to numeric and replacement with NaN.  \n",
    "- Handling duplicates and typos in column names to avoid conflicts in analysis.  \n",
    "- Ensuring correct data types for integration with PostgreSQL (integer vs float).\n",
    "\n",
    "## SQL Schema / Integration Notes\n",
    "- Created table: `serhii_sotnichenko_sat_scores`  \n",
    "```sql\n",
    "CREATE TABLE serhii_sotnichenko_sat_scores (\n",
    "    dbn TEXT PRIMARY KEY,\n",
    "    school_name TEXT,\n",
    "    num_of_sat_test_takers INT,\n",
    "    sat_critical_reading_avg_score FLOAT,\n",
    "    sat_math_avg_score FLOAT,\n",
    "    sat_writing_avg_score FLOAT,\n",
    "    sat_total_avg_score FLOAT,\n",
    "    pct_students_tested FLOAT,\n",
    "    academic_tier_rating INT\n",
    ");\n",
    "\n",
    "- Data inserted using SQLAlchemy `to_sql` with `if_exists=\"replace\"`.  \n",
    "- DBN used as primary key for relational integrity with existing tables like `high_school_directory`, `school_safety_report` and `school_demographics`.  \n",
    "- Scores cleaned and validated to ensure accurate analytics and reporting."
   ]
  }
 ],
 "metadata": {
  "kernelspec": {
   "display_name": "base",
   "language": "python",
   "name": "python3"
  },
  "language_info": {
   "codemirror_mode": {
    "name": "ipython",
    "version": 3
   },
   "file_extension": ".py",
   "mimetype": "text/x-python",
   "name": "python",
   "nbconvert_exporter": "python",
   "pygments_lexer": "ipython3",
   "version": "3.13.5"
  }
 },
 "nbformat": 4,
 "nbformat_minor": 5
}
