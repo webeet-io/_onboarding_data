{
 "cells": [
  {
   "cell_type": "markdown",
   "id": "78aca194",
   "metadata": {},
   "source": [
    "✅ Instructions\n",
    "\n",
    "### 1. Explore the Dataset\n",
    "\n",
    "* Open the CSV and review its structure\n",
    "* Refer to: daily_tasks/day_4/day_4_datasets/readme.md\n"
   ]
  },
  {
   "cell_type": "code",
   "execution_count": 46,
   "id": "b99d44cd",
   "metadata": {},
   "outputs": [],
   "source": [
    "import pandas as pd\n",
    "import numpy as np\n",
    "import matplotlib.pyplot as plt\n",
    "import seaborn as sns\n",
    "from scipy.stats import zscore\n",
    "from sqlalchemy import create_engine"
   ]
  },
  {
   "cell_type": "code",
   "execution_count": 47,
   "id": "67e19a9a",
   "metadata": {},
   "outputs": [],
   "source": [
    "df = pd.read_csv('/Users/dianaterraza/Desktop/webeet.io/_onboarding_data/daily_tasks/day_4/day_4_datasets/sat-results.csv')\n"
   ]
  },
  {
   "cell_type": "code",
   "execution_count": 48,
   "id": "641b83fc",
   "metadata": {},
   "outputs": [
    {
     "data": {
      "text/html": [
       "<div>\n",
       "<style scoped>\n",
       "    .dataframe tbody tr th:only-of-type {\n",
       "        vertical-align: middle;\n",
       "    }\n",
       "\n",
       "    .dataframe tbody tr th {\n",
       "        vertical-align: top;\n",
       "    }\n",
       "\n",
       "    .dataframe thead th {\n",
       "        text-align: right;\n",
       "    }\n",
       "</style>\n",
       "<table border=\"1\" class=\"dataframe\">\n",
       "  <thead>\n",
       "    <tr style=\"text-align: right;\">\n",
       "      <th></th>\n",
       "      <th>DBN</th>\n",
       "      <th>SCHOOL NAME</th>\n",
       "      <th>Num of SAT Test Takers</th>\n",
       "      <th>SAT Critical Reading Avg. Score</th>\n",
       "      <th>SAT Math Avg. Score</th>\n",
       "      <th>SAT Writing Avg. Score</th>\n",
       "      <th>SAT Critical Readng Avg. Score</th>\n",
       "      <th>internal_school_id</th>\n",
       "      <th>contact_extension</th>\n",
       "      <th>pct_students_tested</th>\n",
       "      <th>academic_tier_rating</th>\n",
       "    </tr>\n",
       "  </thead>\n",
       "  <tbody>\n",
       "    <tr>\n",
       "      <th>0</th>\n",
       "      <td>01M292</td>\n",
       "      <td>HENRY STREET SCHOOL FOR INTERNATIONAL STUDIES</td>\n",
       "      <td>29</td>\n",
       "      <td>355</td>\n",
       "      <td>404</td>\n",
       "      <td>363</td>\n",
       "      <td>355</td>\n",
       "      <td>218160</td>\n",
       "      <td>x345</td>\n",
       "      <td>78%</td>\n",
       "      <td>2.0</td>\n",
       "    </tr>\n",
       "    <tr>\n",
       "      <th>1</th>\n",
       "      <td>01M448</td>\n",
       "      <td>UNIVERSITY NEIGHBORHOOD HIGH SCHOOL</td>\n",
       "      <td>91</td>\n",
       "      <td>383</td>\n",
       "      <td>423</td>\n",
       "      <td>366</td>\n",
       "      <td>383</td>\n",
       "      <td>268547</td>\n",
       "      <td>x234</td>\n",
       "      <td>NaN</td>\n",
       "      <td>3.0</td>\n",
       "    </tr>\n",
       "    <tr>\n",
       "      <th>2</th>\n",
       "      <td>01M450</td>\n",
       "      <td>EAST SIDE COMMUNITY SCHOOL</td>\n",
       "      <td>70</td>\n",
       "      <td>377</td>\n",
       "      <td>402</td>\n",
       "      <td>370</td>\n",
       "      <td>377</td>\n",
       "      <td>236446</td>\n",
       "      <td>x123</td>\n",
       "      <td>NaN</td>\n",
       "      <td>3.0</td>\n",
       "    </tr>\n",
       "    <tr>\n",
       "      <th>3</th>\n",
       "      <td>01M458</td>\n",
       "      <td>FORSYTH SATELLITE ACADEMY</td>\n",
       "      <td>7</td>\n",
       "      <td>414</td>\n",
       "      <td>401</td>\n",
       "      <td>359</td>\n",
       "      <td>414</td>\n",
       "      <td>427826</td>\n",
       "      <td>x123</td>\n",
       "      <td>92%</td>\n",
       "      <td>4.0</td>\n",
       "    </tr>\n",
       "    <tr>\n",
       "      <th>4</th>\n",
       "      <td>01M509</td>\n",
       "      <td>MARTA VALLE HIGH SCHOOL</td>\n",
       "      <td>44</td>\n",
       "      <td>390</td>\n",
       "      <td>433</td>\n",
       "      <td>384</td>\n",
       "      <td>390</td>\n",
       "      <td>672714</td>\n",
       "      <td>x123</td>\n",
       "      <td>92%</td>\n",
       "      <td>2.0</td>\n",
       "    </tr>\n",
       "  </tbody>\n",
       "</table>\n",
       "</div>"
      ],
      "text/plain": [
       "      DBN                                    SCHOOL NAME  \\\n",
       "0  01M292  HENRY STREET SCHOOL FOR INTERNATIONAL STUDIES   \n",
       "1  01M448            UNIVERSITY NEIGHBORHOOD HIGH SCHOOL   \n",
       "2  01M450                     EAST SIDE COMMUNITY SCHOOL   \n",
       "3  01M458                      FORSYTH SATELLITE ACADEMY   \n",
       "4  01M509                        MARTA VALLE HIGH SCHOOL   \n",
       "\n",
       "  Num of SAT Test Takers SAT Critical Reading Avg. Score SAT Math Avg. Score  \\\n",
       "0                     29                             355                 404   \n",
       "1                     91                             383                 423   \n",
       "2                     70                             377                 402   \n",
       "3                      7                             414                 401   \n",
       "4                     44                             390                 433   \n",
       "\n",
       "  SAT Writing Avg. Score SAT Critical Readng Avg. Score  internal_school_id  \\\n",
       "0                    363                            355              218160   \n",
       "1                    366                            383              268547   \n",
       "2                    370                            377              236446   \n",
       "3                    359                            414              427826   \n",
       "4                    384                            390              672714   \n",
       "\n",
       "  contact_extension pct_students_tested  academic_tier_rating  \n",
       "0              x345                 78%                   2.0  \n",
       "1              x234                 NaN                   3.0  \n",
       "2              x123                 NaN                   3.0  \n",
       "3              x123                 92%                   4.0  \n",
       "4              x123                 92%                   2.0  "
      ]
     },
     "execution_count": 48,
     "metadata": {},
     "output_type": "execute_result"
    }
   ],
   "source": [
    "df.head()"
   ]
  },
  {
   "cell_type": "code",
   "execution_count": 49,
   "id": "b37b0a57",
   "metadata": {},
   "outputs": [
    {
     "name": "stdout",
     "output_type": "stream",
     "text": [
      "<class 'pandas.core.frame.DataFrame'>\n",
      "RangeIndex: 493 entries, 0 to 492\n",
      "Data columns (total 11 columns):\n",
      " #   Column                           Non-Null Count  Dtype  \n",
      "---  ------                           --------------  -----  \n",
      " 0   DBN                              493 non-null    object \n",
      " 1   SCHOOL NAME                      493 non-null    object \n",
      " 2   Num of SAT Test Takers           493 non-null    object \n",
      " 3   SAT Critical Reading Avg. Score  493 non-null    object \n",
      " 4   SAT Math Avg. Score              493 non-null    object \n",
      " 5   SAT Writing Avg. Score           493 non-null    object \n",
      " 6   SAT Critical Readng Avg. Score   493 non-null    object \n",
      " 7   internal_school_id               493 non-null    int64  \n",
      " 8   contact_extension                388 non-null    object \n",
      " 9   pct_students_tested              376 non-null    object \n",
      " 10  academic_tier_rating             402 non-null    float64\n",
      "dtypes: float64(1), int64(1), object(9)\n",
      "memory usage: 42.5+ KB\n"
     ]
    }
   ],
   "source": [
    "df.info()"
   ]
  },
  {
   "cell_type": "code",
   "execution_count": 50,
   "id": "b1acd6e1",
   "metadata": {},
   "outputs": [
    {
     "name": "stdout",
     "output_type": "stream",
     "text": [
      "Missing values in each column:\n",
      "DBN                                  0\n",
      "SCHOOL NAME                          0\n",
      "Num of SAT Test Takers               0\n",
      "SAT Critical Reading Avg. Score      0\n",
      "SAT Math Avg. Score                  0\n",
      "SAT Writing Avg. Score               0\n",
      "SAT Critical Readng Avg. Score       0\n",
      "internal_school_id                   0\n",
      "contact_extension                  105\n",
      "pct_students_tested                117\n",
      "academic_tier_rating                91\n",
      "dtype: int64\n"
     ]
    }
   ],
   "source": [
    "missing_values = df.isnull().sum()\n",
    "print(\"Missing values in each column:\")\n",
    "print(missing_values)"
   ]
  },
  {
   "cell_type": "markdown",
   "id": "234a0395",
   "metadata": {},
   "source": [
    "* ### Identify which columns are useful and which are synthetic or dirty"
   ]
  },
  {
   "cell_type": "markdown",
   "id": "175ee989",
   "metadata": {},
   "source": [
    "Mostly missing\n",
    "\n",
    "If most rows are empty (NaN, None, or just empty strings), the column:\n",
    "\n",
    "* Adds no value to the analysis\n",
    "\n",
    "* Makes the data look messy\n",
    "\n",
    "* Could cause problems during data uploads (especially to SQL)"
   ]
  },
  {
   "cell_type": "code",
   "execution_count": 51,
   "id": "e33a94ec",
   "metadata": {},
   "outputs": [],
   "source": [
    "# 0. Drop unwanted column right away\n",
    "df.drop(columns=[\"contact_extension\"], inplace=True)"
   ]
  },
  {
   "cell_type": "code",
   "execution_count": 52,
   "id": "a371f5c6",
   "metadata": {},
   "outputs": [],
   "source": [
    "# 1. Drop the duplicate column with the typo one column says \"SAT Critical Reading Avg. Score\" and the other \"SAT Critical Readng Avg. Score\"\n",
    "df.drop(columns=[\"SAT Critical Readng Avg. Score\"], inplace=True)"
   ]
  },
  {
   "cell_type": "markdown",
   "id": "47031af3",
   "metadata": {},
   "source": [
    "### 2. Clean the Data Using Python\n",
    "\n",
    "* Handle duplicates, invalid SAT scores, and inconsistent formatting (e.g., \"85%\"), weird outliers and any inconsistencies\n",
    "* Normalize headers and drop unrelated fields"
   ]
  },
  {
   "cell_type": "code",
   "execution_count": 53,
   "id": "4493b909",
   "metadata": {},
   "outputs": [],
   "source": [
    "# 2. Convert numeric columns that were mistakenly read as objects\n",
    "numeric_columns = [\n",
    "    \"Num of SAT Test Takers\",\n",
    "    \"SAT Critical Reading Avg. Score\",\n",
    "    \"SAT Math Avg. Score\",\n",
    "    \"SAT Writing Avg. Score\"\n",
    "]\n",
    "\n",
    "for col in numeric_columns:\n",
    "    df[col] = pd.to_numeric(df[col], errors=\"coerce\")  # invalid values become NaN"
   ]
  },
  {
   "cell_type": "code",
   "execution_count": 54,
   "id": "bea23df6",
   "metadata": {},
   "outputs": [],
   "source": [
    "# 3. Clean and convert percentage column (remove %, handle 'N/A')\n",
    "df[\"pct_students_tested\"] = (\n",
    "    df[\"pct_students_tested\"]\n",
    "    .str.replace(\"%\", \"\", regex=False)\n",
    "    .replace(\"N/A\", np.nan)\n",
    "    .astype(float)\n",
    ")"
   ]
  },
  {
   "cell_type": "code",
   "execution_count": 55,
   "id": "caa52963",
   "metadata": {},
   "outputs": [],
   "source": [
    "# 4. Optional: Standardize column names (lowercase and underscores)\n",
    "df.columns = df.columns.str.lower().str.replace(\" \", \"_\")"
   ]
  },
  {
   "cell_type": "code",
   "execution_count": 56,
   "id": "35302dc6",
   "metadata": {},
   "outputs": [
    {
     "name": "stdout",
     "output_type": "stream",
     "text": [
      "<class 'pandas.core.frame.DataFrame'>\n",
      "RangeIndex: 493 entries, 0 to 492\n",
      "Data columns (total 9 columns):\n",
      " #   Column                           Non-Null Count  Dtype  \n",
      "---  ------                           --------------  -----  \n",
      " 0   dbn                              493 non-null    object \n",
      " 1   school_name                      493 non-null    object \n",
      " 2   num_of_sat_test_takers           435 non-null    float64\n",
      " 3   sat_critical_reading_avg._score  435 non-null    float64\n",
      " 4   sat_math_avg._score              435 non-null    float64\n",
      " 5   sat_writing_avg._score           435 non-null    float64\n",
      " 6   internal_school_id               493 non-null    int64  \n",
      " 7   pct_students_tested              376 non-null    float64\n",
      " 8   academic_tier_rating             402 non-null    float64\n",
      "dtypes: float64(6), int64(1), object(2)\n",
      "memory usage: 34.8+ KB\n"
     ]
    }
   ],
   "source": [
    "# 5. Preview cleaned DataFrame info\n",
    "df.info()"
   ]
  },
  {
   "cell_type": "markdown",
   "id": "e28ce83f",
   "metadata": {},
   "source": [
    "Do we need internal_school_id column? we already have a dbn column?\n",
    "\n",
    "To confirm it's safe to drop, check if DBN and internal_school_id map 1:1:"
   ]
  },
  {
   "cell_type": "code",
   "execution_count": 57,
   "id": "95e2f50d",
   "metadata": {},
   "outputs": [
    {
     "name": "stdout",
     "output_type": "stream",
     "text": [
      "False\n"
     ]
    }
   ],
   "source": [
    "# Check uniqueness\n",
    "print(df[['dbn', 'internal_school_id']].drop_duplicates().shape[0] == df.shape[0])\n"
   ]
  },
  {
   "cell_type": "markdown",
   "id": "4e0ad694",
   "metadata": {},
   "source": [
    "Check inconsistences:\n",
    "\n",
    "The result is false this suggests inconsistency or data quality issues.\n",
    "\n",
    "It could be due to:\n",
    "\n",
    "* Typos\n",
    "\n",
    "* Duplicated rows with minor differences\n",
    "\n",
    "* Mismatched or outdated identifiers\n",
    "\n"
   ]
  },
  {
   "cell_type": "code",
   "execution_count": 58,
   "id": "25c4644d",
   "metadata": {},
   "outputs": [
    {
     "data": {
      "text/plain": [
       "internal_school_id\n",
       "101855    1\n",
       "713236    1\n",
       "724775    1\n",
       "723932    1\n",
       "723511    1\n",
       "Name: dbn, dtype: int64"
      ]
     },
     "execution_count": 58,
     "metadata": {},
     "output_type": "execute_result"
    }
   ],
   "source": [
    "# Count how many internal IDs per DBN\n",
    "df.groupby('dbn')['internal_school_id'].nunique().sort_values(ascending=False).head()\n",
    "\n",
    "# Or vice versa\n",
    "df.groupby('internal_school_id')['dbn'].nunique().sort_values(ascending=False).head()\n"
   ]
  },
  {
   "cell_type": "code",
   "execution_count": 59,
   "id": "356dca90",
   "metadata": {},
   "outputs": [
    {
     "data": {
      "text/html": [
       "<div>\n",
       "<style scoped>\n",
       "    .dataframe tbody tr th:only-of-type {\n",
       "        vertical-align: middle;\n",
       "    }\n",
       "\n",
       "    .dataframe tbody tr th {\n",
       "        vertical-align: top;\n",
       "    }\n",
       "\n",
       "    .dataframe thead th {\n",
       "        text-align: right;\n",
       "    }\n",
       "</style>\n",
       "<table border=\"1\" class=\"dataframe\">\n",
       "  <thead>\n",
       "    <tr style=\"text-align: right;\">\n",
       "      <th></th>\n",
       "      <th>dbn</th>\n",
       "      <th>school_name</th>\n",
       "      <th>num_of_sat_test_takers</th>\n",
       "      <th>sat_critical_reading_avg._score</th>\n",
       "      <th>sat_math_avg._score</th>\n",
       "      <th>sat_writing_avg._score</th>\n",
       "      <th>internal_school_id</th>\n",
       "      <th>pct_students_tested</th>\n",
       "      <th>academic_tier_rating</th>\n",
       "    </tr>\n",
       "  </thead>\n",
       "  <tbody>\n",
       "    <tr>\n",
       "      <th>0</th>\n",
       "      <td>01M292</td>\n",
       "      <td>HENRY STREET SCHOOL FOR INTERNATIONAL STUDIES</td>\n",
       "      <td>29.0</td>\n",
       "      <td>355.0</td>\n",
       "      <td>404.0</td>\n",
       "      <td>363.0</td>\n",
       "      <td>218160</td>\n",
       "      <td>78.0</td>\n",
       "      <td>2.0</td>\n",
       "    </tr>\n",
       "    <tr>\n",
       "      <th>1</th>\n",
       "      <td>01M448</td>\n",
       "      <td>UNIVERSITY NEIGHBORHOOD HIGH SCHOOL</td>\n",
       "      <td>91.0</td>\n",
       "      <td>383.0</td>\n",
       "      <td>423.0</td>\n",
       "      <td>366.0</td>\n",
       "      <td>268547</td>\n",
       "      <td>NaN</td>\n",
       "      <td>3.0</td>\n",
       "    </tr>\n",
       "    <tr>\n",
       "      <th>2</th>\n",
       "      <td>01M450</td>\n",
       "      <td>EAST SIDE COMMUNITY SCHOOL</td>\n",
       "      <td>70.0</td>\n",
       "      <td>377.0</td>\n",
       "      <td>402.0</td>\n",
       "      <td>370.0</td>\n",
       "      <td>236446</td>\n",
       "      <td>NaN</td>\n",
       "      <td>3.0</td>\n",
       "    </tr>\n",
       "    <tr>\n",
       "      <th>3</th>\n",
       "      <td>01M458</td>\n",
       "      <td>FORSYTH SATELLITE ACADEMY</td>\n",
       "      <td>7.0</td>\n",
       "      <td>414.0</td>\n",
       "      <td>401.0</td>\n",
       "      <td>359.0</td>\n",
       "      <td>427826</td>\n",
       "      <td>92.0</td>\n",
       "      <td>4.0</td>\n",
       "    </tr>\n",
       "    <tr>\n",
       "      <th>4</th>\n",
       "      <td>01M509</td>\n",
       "      <td>MARTA VALLE HIGH SCHOOL</td>\n",
       "      <td>44.0</td>\n",
       "      <td>390.0</td>\n",
       "      <td>433.0</td>\n",
       "      <td>384.0</td>\n",
       "      <td>672714</td>\n",
       "      <td>92.0</td>\n",
       "      <td>2.0</td>\n",
       "    </tr>\n",
       "  </tbody>\n",
       "</table>\n",
       "</div>"
      ],
      "text/plain": [
       "      dbn                                    school_name  \\\n",
       "0  01M292  HENRY STREET SCHOOL FOR INTERNATIONAL STUDIES   \n",
       "1  01M448            UNIVERSITY NEIGHBORHOOD HIGH SCHOOL   \n",
       "2  01M450                     EAST SIDE COMMUNITY SCHOOL   \n",
       "3  01M458                      FORSYTH SATELLITE ACADEMY   \n",
       "4  01M509                        MARTA VALLE HIGH SCHOOL   \n",
       "\n",
       "   num_of_sat_test_takers  sat_critical_reading_avg._score  \\\n",
       "0                    29.0                            355.0   \n",
       "1                    91.0                            383.0   \n",
       "2                    70.0                            377.0   \n",
       "3                     7.0                            414.0   \n",
       "4                    44.0                            390.0   \n",
       "\n",
       "   sat_math_avg._score  sat_writing_avg._score  internal_school_id  \\\n",
       "0                404.0                   363.0              218160   \n",
       "1                423.0                   366.0              268547   \n",
       "2                402.0                   370.0              236446   \n",
       "3                401.0                   359.0              427826   \n",
       "4                433.0                   384.0              672714   \n",
       "\n",
       "   pct_students_tested  academic_tier_rating  \n",
       "0                 78.0                   2.0  \n",
       "1                  NaN                   3.0  \n",
       "2                  NaN                   3.0  \n",
       "3                 92.0                   4.0  \n",
       "4                 92.0                   2.0  "
      ]
     },
     "execution_count": 59,
     "metadata": {},
     "output_type": "execute_result"
    }
   ],
   "source": [
    "# Show DBNs linked to multiple internal IDs\n",
    "df[df.duplicated(subset=['dbn', 'internal_school_id'], keep=False)].sort_values('dbn')\n",
    "df.head()\n"
   ]
  },
  {
   "cell_type": "markdown",
   "id": "60950d03",
   "metadata": {},
   "source": [
    "In this case the column dbn is more reliable than internal_school_id so I proceed to drop it. "
   ]
  },
  {
   "cell_type": "code",
   "execution_count": 60,
   "id": "74b1a987",
   "metadata": {},
   "outputs": [],
   "source": [
    "# 0. Drop unwanted column internal_school_id\n",
    "df.drop(columns=[\"internal_school_id\"], inplace=True)"
   ]
  },
  {
   "cell_type": "markdown",
   "id": "2462b4ef",
   "metadata": {},
   "source": [
    "* ### Outliers"
   ]
  },
  {
   "cell_type": "markdown",
   "id": "e5cb27cf",
   "metadata": {},
   "source": [
    "SAT Critical Reading Avg. Score  | Average score achieved in the Critical Reading section (valid: 200–800)"
   ]
  },
  {
   "cell_type": "code",
   "execution_count": 61,
   "id": "a547b37a",
   "metadata": {},
   "outputs": [
    {
     "data": {
      "image/png": "[encoded data removed]",
      "text/plain": [
       "<Figure size 1000x600 with 1 Axes>"
      ]
     },
     "metadata": {},
     "output_type": "display_data"
    }
   ],
   "source": [
    "# boxplots for identifying outliers in column sat_critical_reading_avg._score\n",
    "df.boxplot(column='sat_critical_reading_avg._score', figsize=(10, 6))\n",
    "plt.title(\"Boxplot - SAT Critical Reading Avg. Score\")\n",
    "plt.show()\n"
   ]
  },
  {
   "cell_type": "markdown",
   "id": "e188d68e",
   "metadata": {},
   "source": [
    " SAT Math Avg. Score              | Average score achieved in the Math section (valid: 200–800)"
   ]
  },
  {
   "cell_type": "code",
   "execution_count": 62,
   "id": "d155df8d",
   "metadata": {},
   "outputs": [
    {
     "data": {
      "image/png": "[encoded data removed]",
      "text/plain": [
       "<Figure size 1000x600 with 1 Axes>"
      ]
     },
     "metadata": {},
     "output_type": "display_data"
    }
   ],
   "source": [
    "# boxplots for identifying outliers in column sat_math_avg._score\n",
    "df.boxplot(column='sat_math_avg._score',figsize=(10, 6))\n",
    "plt.title(\"Boxplot - SAT Math Score\")\n",
    "plt.show()\n"
   ]
  },
  {
   "cell_type": "markdown",
   "id": "e98b6e91",
   "metadata": {},
   "source": [
    "As it shows this column sat_math_avg._score has outliers. Since SAT scores should be between 200 and 800 i can convert it in null values: \n"
   ]
  },
  {
   "cell_type": "code",
   "execution_count": 63,
   "id": "02e1a9ff",
   "metadata": {},
   "outputs": [
    {
     "data": {
      "text/plain": [
       "<pandas.core.indexing._LocIndexer at 0x13abbca50>"
      ]
     },
     "execution_count": 63,
     "metadata": {},
     "output_type": "execute_result"
    }
   ],
   "source": [
    "# Replace values ​​outside the range [200, 800] with NaN\n",
    "df.loc[(df['sat_math_avg._score'] < 200) | (df['sat_math_avg._score'] > 800), 'sat_math_avg._score'] = np.nan\n",
    "df.loc"
   ]
  },
  {
   "cell_type": "markdown",
   "id": "40cf2f7d",
   "metadata": {},
   "source": [
    "Plot again to prove:"
   ]
  },
  {
   "cell_type": "code",
   "execution_count": 64,
   "id": "ee879795",
   "metadata": {},
   "outputs": [
    {
     "data": {
      "image/png": "[encoded data removed]",
      "text/plain": [
       "<Figure size 1000x600 with 1 Axes>"
      ]
     },
     "metadata": {},
     "output_type": "display_data"
    }
   ],
   "source": [
    "# boxplots for identifying outliers in column sat_math_avg._score\n",
    "df.boxplot(column='sat_math_avg._score',figsize=(10, 6))\n",
    "plt.title(\"Boxplot - SAT Math Score\")\n",
    "plt.show()"
   ]
  },
  {
   "cell_type": "markdown",
   "id": "22a2eb29",
   "metadata": {},
   "source": [
    "SAT Writing Avg. Score           | Average score achieved in the Writing section (valid: 200–800)"
   ]
  },
  {
   "cell_type": "code",
   "execution_count": 65,
   "id": "1aa3a10b",
   "metadata": {},
   "outputs": [
    {
     "data": {
      "image/png": "[encoded data removed]",
      "text/plain": [
       "<Figure size 1000x600 with 1 Axes>"
      ]
     },
     "metadata": {},
     "output_type": "display_data"
    }
   ],
   "source": [
    "# boxplots for identifying outliers in column sat_writing_avg._score\n",
    "df.boxplot(column='sat_writing_avg._score',figsize=(10, 6))\n",
    "plt.title(\"Boxplot - SAT Writing Avg. Score\")\n",
    "plt.show()\n"
   ]
  },
  {
   "cell_type": "code",
   "execution_count": 66,
   "id": "aa4a9f0c",
   "metadata": {},
   "outputs": [
    {
     "data": {
      "image/png": "[encoded data removed]",
      "text/plain": [
       "<Figure size 640x480 with 1 Axes>"
      ]
     },
     "metadata": {},
     "output_type": "display_data"
    }
   ],
   "source": [
    "# boxplots for identifying outliers in column sat_math_avg._score\n",
    "df.boxplot(column='sat_math_avg._score')\n",
    "plt.title(\"Boxplot - SAT Math Score\")\n",
    "plt.show()"
   ]
  },
  {
   "cell_type": "markdown",
   "id": "d61a4410",
   "metadata": {},
   "source": [
    "* ### Duplicates\n",
    "\n",
    "1. Check for duplicates in the entire dataset:"
   ]
  },
  {
   "cell_type": "code",
   "execution_count": 67,
   "id": "a9c1d054",
   "metadata": {},
   "outputs": [
    {
     "data": {
      "text/plain": [
       "np.True_"
      ]
     },
     "execution_count": 67,
     "metadata": {},
     "output_type": "execute_result"
    }
   ],
   "source": [
    "df.duplicated().any()"
   ]
  },
  {
   "cell_type": "markdown",
   "id": "81769f08",
   "metadata": {},
   "source": [
    "2. Count total duplicate rows"
   ]
  },
  {
   "cell_type": "code",
   "execution_count": 68,
   "id": "f7fc9e25",
   "metadata": {},
   "outputs": [
    {
     "data": {
      "text/plain": [
       "np.int64(15)"
      ]
     },
     "execution_count": 68,
     "metadata": {},
     "output_type": "execute_result"
    }
   ],
   "source": [
    "df.duplicated().sum()\n"
   ]
  },
  {
   "cell_type": "markdown",
   "id": "a1ce4cb0",
   "metadata": {},
   "source": [
    "3. View duplicate rows"
   ]
  },
  {
   "cell_type": "code",
   "execution_count": 69,
   "id": "d361d4b1",
   "metadata": {},
   "outputs": [
    {
     "data": {
      "text/html": [
       "<div>\n",
       "<style scoped>\n",
       "    .dataframe tbody tr th:only-of-type {\n",
       "        vertical-align: middle;\n",
       "    }\n",
       "\n",
       "    .dataframe tbody tr th {\n",
       "        vertical-align: top;\n",
       "    }\n",
       "\n",
       "    .dataframe thead th {\n",
       "        text-align: right;\n",
       "    }\n",
       "</style>\n",
       "<table border=\"1\" class=\"dataframe\">\n",
       "  <thead>\n",
       "    <tr style=\"text-align: right;\">\n",
       "      <th></th>\n",
       "      <th>dbn</th>\n",
       "      <th>school_name</th>\n",
       "      <th>num_of_sat_test_takers</th>\n",
       "      <th>sat_critical_reading_avg._score</th>\n",
       "      <th>sat_math_avg._score</th>\n",
       "      <th>sat_writing_avg._score</th>\n",
       "      <th>pct_students_tested</th>\n",
       "      <th>academic_tier_rating</th>\n",
       "    </tr>\n",
       "  </thead>\n",
       "  <tbody>\n",
       "    <tr>\n",
       "      <th>478</th>\n",
       "      <td>14K685</td>\n",
       "      <td>EL PUENTE ACADEMY FOR PEACE AND JUSTICE</td>\n",
       "      <td>28.0</td>\n",
       "      <td>359.0</td>\n",
       "      <td>335.0</td>\n",
       "      <td>341.0</td>\n",
       "      <td>92.0</td>\n",
       "      <td>4.0</td>\n",
       "    </tr>\n",
       "    <tr>\n",
       "      <th>479</th>\n",
       "      <td>13K605</td>\n",
       "      <td>GEORGE WESTINGHOUSE CAREER AND TECHNICAL EDUCA...</td>\n",
       "      <td>85.0</td>\n",
       "      <td>406.0</td>\n",
       "      <td>391.0</td>\n",
       "      <td>392.0</td>\n",
       "      <td>NaN</td>\n",
       "      <td>NaN</td>\n",
       "    </tr>\n",
       "    <tr>\n",
       "      <th>480</th>\n",
       "      <td>27Q480</td>\n",
       "      <td>JOHN ADAMS HIGH SCHOOL</td>\n",
       "      <td>403.0</td>\n",
       "      <td>391.0</td>\n",
       "      <td>409.0</td>\n",
       "      <td>392.0</td>\n",
       "      <td>92.0</td>\n",
       "      <td>1.0</td>\n",
       "    </tr>\n",
       "    <tr>\n",
       "      <th>481</th>\n",
       "      <td>07X221</td>\n",
       "      <td>SOUTH BRONX PREPARATORY: A COLLEGE BOARD SCHOOL</td>\n",
       "      <td>65.0</td>\n",
       "      <td>364.0</td>\n",
       "      <td>378.0</td>\n",
       "      <td>348.0</td>\n",
       "      <td>92.0</td>\n",
       "      <td>NaN</td>\n",
       "    </tr>\n",
       "    <tr>\n",
       "      <th>482</th>\n",
       "      <td>19K420</td>\n",
       "      <td>FRANKLIN K. LANE HIGH SCHOOL</td>\n",
       "      <td>NaN</td>\n",
       "      <td>NaN</td>\n",
       "      <td>NaN</td>\n",
       "      <td>NaN</td>\n",
       "      <td>78.0</td>\n",
       "      <td>3.0</td>\n",
       "    </tr>\n",
       "    <tr>\n",
       "      <th>483</th>\n",
       "      <td>09X525</td>\n",
       "      <td>BRONX LEADERSHIP ACADEMY HIGH SCHOOL</td>\n",
       "      <td>114.0</td>\n",
       "      <td>384.0</td>\n",
       "      <td>394.0</td>\n",
       "      <td>388.0</td>\n",
       "      <td>92.0</td>\n",
       "      <td>1.0</td>\n",
       "    </tr>\n",
       "    <tr>\n",
       "      <th>484</th>\n",
       "      <td>02M520</td>\n",
       "      <td>MURRY BERGTRAUM HIGH SCHOOL FOR BUSINESS CAREERS</td>\n",
       "      <td>264.0</td>\n",
       "      <td>407.0</td>\n",
       "      <td>440.0</td>\n",
       "      <td>393.0</td>\n",
       "      <td>92.0</td>\n",
       "      <td>2.0</td>\n",
       "    </tr>\n",
       "    <tr>\n",
       "      <th>485</th>\n",
       "      <td>17K543</td>\n",
       "      <td>SCIENCE, TECHNOLOGY AND RESEARCH EARLY COLLEGE...</td>\n",
       "      <td>69.0</td>\n",
       "      <td>457.0</td>\n",
       "      <td>462.0</td>\n",
       "      <td>441.0</td>\n",
       "      <td>85.0</td>\n",
       "      <td>NaN</td>\n",
       "    </tr>\n",
       "    <tr>\n",
       "      <th>486</th>\n",
       "      <td>02M419</td>\n",
       "      <td>LANDMARK HIGH SCHOOL</td>\n",
       "      <td>62.0</td>\n",
       "      <td>390.0</td>\n",
       "      <td>399.0</td>\n",
       "      <td>381.0</td>\n",
       "      <td>78.0</td>\n",
       "      <td>2.0</td>\n",
       "    </tr>\n",
       "    <tr>\n",
       "      <th>487</th>\n",
       "      <td>05M304</td>\n",
       "      <td>MOTT HALL HIGH SCHOOL</td>\n",
       "      <td>54.0</td>\n",
       "      <td>413.0</td>\n",
       "      <td>399.0</td>\n",
       "      <td>398.0</td>\n",
       "      <td>78.0</td>\n",
       "      <td>2.0</td>\n",
       "    </tr>\n",
       "    <tr>\n",
       "      <th>488</th>\n",
       "      <td>27Q480</td>\n",
       "      <td>JOHN ADAMS HIGH SCHOOL</td>\n",
       "      <td>403.0</td>\n",
       "      <td>391.0</td>\n",
       "      <td>409.0</td>\n",
       "      <td>392.0</td>\n",
       "      <td>92.0</td>\n",
       "      <td>1.0</td>\n",
       "    </tr>\n",
       "    <tr>\n",
       "      <th>489</th>\n",
       "      <td>13K605</td>\n",
       "      <td>GEORGE WESTINGHOUSE CAREER AND TECHNICAL EDUCA...</td>\n",
       "      <td>85.0</td>\n",
       "      <td>406.0</td>\n",
       "      <td>391.0</td>\n",
       "      <td>392.0</td>\n",
       "      <td>NaN</td>\n",
       "      <td>NaN</td>\n",
       "    </tr>\n",
       "    <tr>\n",
       "      <th>490</th>\n",
       "      <td>05M304</td>\n",
       "      <td>MOTT HALL HIGH SCHOOL</td>\n",
       "      <td>54.0</td>\n",
       "      <td>413.0</td>\n",
       "      <td>399.0</td>\n",
       "      <td>398.0</td>\n",
       "      <td>78.0</td>\n",
       "      <td>2.0</td>\n",
       "    </tr>\n",
       "    <tr>\n",
       "      <th>491</th>\n",
       "      <td>02M520</td>\n",
       "      <td>MURRY BERGTRAUM HIGH SCHOOL FOR BUSINESS CAREERS</td>\n",
       "      <td>264.0</td>\n",
       "      <td>407.0</td>\n",
       "      <td>440.0</td>\n",
       "      <td>393.0</td>\n",
       "      <td>92.0</td>\n",
       "      <td>2.0</td>\n",
       "    </tr>\n",
       "    <tr>\n",
       "      <th>492</th>\n",
       "      <td>07X221</td>\n",
       "      <td>SOUTH BRONX PREPARATORY: A COLLEGE BOARD SCHOOL</td>\n",
       "      <td>65.0</td>\n",
       "      <td>364.0</td>\n",
       "      <td>378.0</td>\n",
       "      <td>348.0</td>\n",
       "      <td>92.0</td>\n",
       "      <td>NaN</td>\n",
       "    </tr>\n",
       "  </tbody>\n",
       "</table>\n",
       "</div>"
      ],
      "text/plain": [
       "        dbn                                        school_name  \\\n",
       "478  14K685            EL PUENTE ACADEMY FOR PEACE AND JUSTICE   \n",
       "479  13K605  GEORGE WESTINGHOUSE CAREER AND TECHNICAL EDUCA...   \n",
       "480  27Q480                             JOHN ADAMS HIGH SCHOOL   \n",
       "481  07X221    SOUTH BRONX PREPARATORY: A COLLEGE BOARD SCHOOL   \n",
       "482  19K420                       FRANKLIN K. LANE HIGH SCHOOL   \n",
       "483  09X525               BRONX LEADERSHIP ACADEMY HIGH SCHOOL   \n",
       "484  02M520   MURRY BERGTRAUM HIGH SCHOOL FOR BUSINESS CAREERS   \n",
       "485  17K543  SCIENCE, TECHNOLOGY AND RESEARCH EARLY COLLEGE...   \n",
       "486  02M419                               LANDMARK HIGH SCHOOL   \n",
       "487  05M304                              MOTT HALL HIGH SCHOOL   \n",
       "488  27Q480                             JOHN ADAMS HIGH SCHOOL   \n",
       "489  13K605  GEORGE WESTINGHOUSE CAREER AND TECHNICAL EDUCA...   \n",
       "490  05M304                              MOTT HALL HIGH SCHOOL   \n",
       "491  02M520   MURRY BERGTRAUM HIGH SCHOOL FOR BUSINESS CAREERS   \n",
       "492  07X221    SOUTH BRONX PREPARATORY: A COLLEGE BOARD SCHOOL   \n",
       "\n",
       "     num_of_sat_test_takers  sat_critical_reading_avg._score  \\\n",
       "478                    28.0                            359.0   \n",
       "479                    85.0                            406.0   \n",
       "480                   403.0                            391.0   \n",
       "481                    65.0                            364.0   \n",
       "482                     NaN                              NaN   \n",
       "483                   114.0                            384.0   \n",
       "484                   264.0                            407.0   \n",
       "485                    69.0                            457.0   \n",
       "486                    62.0                            390.0   \n",
       "487                    54.0                            413.0   \n",
       "488                   403.0                            391.0   \n",
       "489                    85.0                            406.0   \n",
       "490                    54.0                            413.0   \n",
       "491                   264.0                            407.0   \n",
       "492                    65.0                            364.0   \n",
       "\n",
       "     sat_math_avg._score  sat_writing_avg._score  pct_students_tested  \\\n",
       "478                335.0                   341.0                 92.0   \n",
       "479                391.0                   392.0                  NaN   \n",
       "480                409.0                   392.0                 92.0   \n",
       "481                378.0                   348.0                 92.0   \n",
       "482                  NaN                     NaN                 78.0   \n",
       "483                394.0                   388.0                 92.0   \n",
       "484                440.0                   393.0                 92.0   \n",
       "485                462.0                   441.0                 85.0   \n",
       "486                399.0                   381.0                 78.0   \n",
       "487                399.0                   398.0                 78.0   \n",
       "488                409.0                   392.0                 92.0   \n",
       "489                391.0                   392.0                  NaN   \n",
       "490                399.0                   398.0                 78.0   \n",
       "491                440.0                   393.0                 92.0   \n",
       "492                378.0                   348.0                 92.0   \n",
       "\n",
       "     academic_tier_rating  \n",
       "478                   4.0  \n",
       "479                   NaN  \n",
       "480                   1.0  \n",
       "481                   NaN  \n",
       "482                   3.0  \n",
       "483                   1.0  \n",
       "484                   2.0  \n",
       "485                   NaN  \n",
       "486                   2.0  \n",
       "487                   2.0  \n",
       "488                   1.0  \n",
       "489                   NaN  \n",
       "490                   2.0  \n",
       "491                   2.0  \n",
       "492                   NaN  "
      ]
     },
     "execution_count": 69,
     "metadata": {},
     "output_type": "execute_result"
    }
   ],
   "source": [
    "df[df.duplicated()]\n"
   ]
  },
  {
   "cell_type": "markdown",
   "id": "951b70ef",
   "metadata": {},
   "source": [
    "4. Finally Remove duplicates"
   ]
  },
  {
   "cell_type": "code",
   "execution_count": 70,
   "id": "1954ea64",
   "metadata": {},
   "outputs": [],
   "source": [
    "df = df.drop_duplicates()\n"
   ]
  },
  {
   "cell_type": "markdown",
   "id": "ccc90ed2",
   "metadata": {},
   "source": [
    " ### 3. Design the Schema\n",
    "\n",
    "Choose columns to upload to the database"
   ]
  },
  {
   "cell_type": "markdown",
   "id": "51d9a9ac",
   "metadata": {},
   "source": [
    "| Column Name                      | SQL Name                 | Type      | Description                         |\n",
    "| -------------------------------- | ------------------------ | --------- | ----------------------------------- |\n",
    "| `dbn`                            | `dbn`                    | `TEXT`    | Unique school code                  |\n",
    "| `school_name`                    | `school_name`            | `TEXT`    | Full name of the high school        |\n",
    "| `num_of_sat_test_takers`         | `num_of_sat_test_takers` | `INTEGER` | Number of students who took the SAT |\n",
    "| `sat_critical_reading_avg_score` | `reading_score`          | `INTEGER` | Avg. score in Critical Reading      |\n",
    "| `sat_math_avg_score`             | `math_score`             | `INTEGER` | Avg. score in Math                  |\n",
    "| `sat_writing_avg_score`          | `writing_score`          | `INTEGER` | Avg. score in Writing               |\n",
    "| `pct_students_tested`            | `pct_students_tested`    | `FLOAT`   | % of students tested (0–100)        |\n",
    "| `academic_tier_rating`           | `academic_tier_rating`   | `FLOAT`   | Tier rating (1–4)                   |"
   ]
  },
  {
   "cell_type": "markdown",
   "id": "8895c5ce",
   "metadata": {},
   "source": [
    "* Select the relevant Columns"
   ]
  },
  {
   "cell_type": "code",
   "execution_count": 71,
   "id": "f30a64f1",
   "metadata": {},
   "outputs": [],
   "source": [
    "columns_to_upload = [\n",
    "    \"dbn\",\n",
    "    \"school_name\",\n",
    "    \"num_of_sat_test_takers\",\n",
    "    \"sat_critical_reading_avg._score\",\n",
    "    \"sat_math_avg._score\",\n",
    "    \"sat_writing_avg._score\",\n",
    "    \"pct_students_tested\",\n",
    "    \"academic_tier_rating\"\n",
    "]\n",
    "\n",
    "df_to_upload = df[columns_to_upload]\n"
   ]
  },
  {
   "cell_type": "markdown",
   "id": "ce62c888",
   "metadata": {},
   "source": [
    "* Rename Columns to match the DB schema"
   ]
  },
  {
   "cell_type": "code",
   "execution_count": 72,
   "id": "426319ae",
   "metadata": {},
   "outputs": [],
   "source": [
    "df_to_upload.rename(columns={\n",
    "    \"num_of_sat_test_takers\": \"test_takers\",\n",
    "    \"sat_critical_reading_avg_score\": \"reading_score\",\n",
    "    \"sat_math_avg_score\": \"math_score\",\n",
    "    \"sat_writing_avg_score\": \"writing_score\"\n",
    "}, inplace=True)\n"
   ]
  },
  {
   "cell_type": "code",
   "execution_count": 75,
   "id": "77ef71ae",
   "metadata": {},
   "outputs": [
    {
     "data": {
      "text/html": [
       "<div>\n",
       "<style scoped>\n",
       "    .dataframe tbody tr th:only-of-type {\n",
       "        vertical-align: middle;\n",
       "    }\n",
       "\n",
       "    .dataframe tbody tr th {\n",
       "        vertical-align: top;\n",
       "    }\n",
       "\n",
       "    .dataframe thead th {\n",
       "        text-align: right;\n",
       "    }\n",
       "</style>\n",
       "<table border=\"1\" class=\"dataframe\">\n",
       "  <thead>\n",
       "    <tr style=\"text-align: right;\">\n",
       "      <th></th>\n",
       "      <th>dbn</th>\n",
       "      <th>school_name</th>\n",
       "      <th>test_takers</th>\n",
       "      <th>sat_critical_reading_avg._score</th>\n",
       "      <th>sat_math_avg._score</th>\n",
       "      <th>sat_writing_avg._score</th>\n",
       "      <th>pct_students_tested</th>\n",
       "      <th>academic_tier_rating</th>\n",
       "    </tr>\n",
       "  </thead>\n",
       "  <tbody>\n",
       "    <tr>\n",
       "      <th>0</th>\n",
       "      <td>01M292</td>\n",
       "      <td>HENRY STREET SCHOOL FOR INTERNATIONAL STUDIES</td>\n",
       "      <td>29.0</td>\n",
       "      <td>355.0</td>\n",
       "      <td>404.0</td>\n",
       "      <td>363.0</td>\n",
       "      <td>78.0</td>\n",
       "      <td>2.0</td>\n",
       "    </tr>\n",
       "    <tr>\n",
       "      <th>1</th>\n",
       "      <td>01M448</td>\n",
       "      <td>UNIVERSITY NEIGHBORHOOD HIGH SCHOOL</td>\n",
       "      <td>91.0</td>\n",
       "      <td>383.0</td>\n",
       "      <td>423.0</td>\n",
       "      <td>366.0</td>\n",
       "      <td>NaN</td>\n",
       "      <td>3.0</td>\n",
       "    </tr>\n",
       "    <tr>\n",
       "      <th>2</th>\n",
       "      <td>01M450</td>\n",
       "      <td>EAST SIDE COMMUNITY SCHOOL</td>\n",
       "      <td>70.0</td>\n",
       "      <td>377.0</td>\n",
       "      <td>402.0</td>\n",
       "      <td>370.0</td>\n",
       "      <td>NaN</td>\n",
       "      <td>3.0</td>\n",
       "    </tr>\n",
       "    <tr>\n",
       "      <th>3</th>\n",
       "      <td>01M458</td>\n",
       "      <td>FORSYTH SATELLITE ACADEMY</td>\n",
       "      <td>7.0</td>\n",
       "      <td>414.0</td>\n",
       "      <td>401.0</td>\n",
       "      <td>359.0</td>\n",
       "      <td>92.0</td>\n",
       "      <td>4.0</td>\n",
       "    </tr>\n",
       "    <tr>\n",
       "      <th>4</th>\n",
       "      <td>01M509</td>\n",
       "      <td>MARTA VALLE HIGH SCHOOL</td>\n",
       "      <td>44.0</td>\n",
       "      <td>390.0</td>\n",
       "      <td>433.0</td>\n",
       "      <td>384.0</td>\n",
       "      <td>92.0</td>\n",
       "      <td>2.0</td>\n",
       "    </tr>\n",
       "    <tr>\n",
       "      <th>...</th>\n",
       "      <td>...</td>\n",
       "      <td>...</td>\n",
       "      <td>...</td>\n",
       "      <td>...</td>\n",
       "      <td>...</td>\n",
       "      <td>...</td>\n",
       "      <td>...</td>\n",
       "      <td>...</td>\n",
       "    </tr>\n",
       "    <tr>\n",
       "      <th>473</th>\n",
       "      <td>75X012</td>\n",
       "      <td>P.S. X012 LEWIS AND CLARK SCHOOL</td>\n",
       "      <td>NaN</td>\n",
       "      <td>NaN</td>\n",
       "      <td>NaN</td>\n",
       "      <td>NaN</td>\n",
       "      <td>92.0</td>\n",
       "      <td>1.0</td>\n",
       "    </tr>\n",
       "    <tr>\n",
       "      <th>474</th>\n",
       "      <td>75X754</td>\n",
       "      <td>J. M. RAPPORT SCHOOL CAREER DEVELOPMENT</td>\n",
       "      <td>NaN</td>\n",
       "      <td>NaN</td>\n",
       "      <td>NaN</td>\n",
       "      <td>NaN</td>\n",
       "      <td>NaN</td>\n",
       "      <td>4.0</td>\n",
       "    </tr>\n",
       "    <tr>\n",
       "      <th>475</th>\n",
       "      <td>79M645</td>\n",
       "      <td>SCHOOL FOR COOPERATIVE TECHNICAL EDUCATION</td>\n",
       "      <td>NaN</td>\n",
       "      <td>NaN</td>\n",
       "      <td>NaN</td>\n",
       "      <td>NaN</td>\n",
       "      <td>85.0</td>\n",
       "      <td>1.0</td>\n",
       "    </tr>\n",
       "    <tr>\n",
       "      <th>476</th>\n",
       "      <td>79Q950</td>\n",
       "      <td>GED PLUS s CITYWIDE</td>\n",
       "      <td>8.0</td>\n",
       "      <td>496.0</td>\n",
       "      <td>400.0</td>\n",
       "      <td>426.0</td>\n",
       "      <td>92.0</td>\n",
       "      <td>2.0</td>\n",
       "    </tr>\n",
       "    <tr>\n",
       "      <th>477</th>\n",
       "      <td>79X490</td>\n",
       "      <td>PHOENIX ACADEMY</td>\n",
       "      <td>9.0</td>\n",
       "      <td>367.0</td>\n",
       "      <td>370.0</td>\n",
       "      <td>360.0</td>\n",
       "      <td>85.0</td>\n",
       "      <td>NaN</td>\n",
       "    </tr>\n",
       "  </tbody>\n",
       "</table>\n",
       "<p>478 rows × 8 columns</p>\n",
       "</div>"
      ],
      "text/plain": [
       "        dbn                                    school_name  test_takers  \\\n",
       "0    01M292  HENRY STREET SCHOOL FOR INTERNATIONAL STUDIES         29.0   \n",
       "1    01M448            UNIVERSITY NEIGHBORHOOD HIGH SCHOOL         91.0   \n",
       "2    01M450                     EAST SIDE COMMUNITY SCHOOL         70.0   \n",
       "3    01M458                      FORSYTH SATELLITE ACADEMY          7.0   \n",
       "4    01M509                        MARTA VALLE HIGH SCHOOL         44.0   \n",
       "..      ...                                            ...          ...   \n",
       "473  75X012               P.S. X012 LEWIS AND CLARK SCHOOL          NaN   \n",
       "474  75X754        J. M. RAPPORT SCHOOL CAREER DEVELOPMENT          NaN   \n",
       "475  79M645     SCHOOL FOR COOPERATIVE TECHNICAL EDUCATION          NaN   \n",
       "476  79Q950                            GED PLUS s CITYWIDE          8.0   \n",
       "477  79X490                                PHOENIX ACADEMY          9.0   \n",
       "\n",
       "     sat_critical_reading_avg._score  sat_math_avg._score  \\\n",
       "0                              355.0                404.0   \n",
       "1                              383.0                423.0   \n",
       "2                              377.0                402.0   \n",
       "3                              414.0                401.0   \n",
       "4                              390.0                433.0   \n",
       "..                               ...                  ...   \n",
       "473                              NaN                  NaN   \n",
       "474                              NaN                  NaN   \n",
       "475                              NaN                  NaN   \n",
       "476                            496.0                400.0   \n",
       "477                            367.0                370.0   \n",
       "\n",
       "     sat_writing_avg._score  pct_students_tested  academic_tier_rating  \n",
       "0                     363.0                 78.0                   2.0  \n",
       "1                     366.0                  NaN                   3.0  \n",
       "2                     370.0                  NaN                   3.0  \n",
       "3                     359.0                 92.0                   4.0  \n",
       "4                     384.0                 92.0                   2.0  \n",
       "..                      ...                  ...                   ...  \n",
       "473                     NaN                 92.0                   1.0  \n",
       "474                     NaN                  NaN                   4.0  \n",
       "475                     NaN                 85.0                   1.0  \n",
       "476                   426.0                 92.0                   2.0  \n",
       "477                   360.0                 85.0                   NaN  \n",
       "\n",
       "[478 rows x 8 columns]"
      ]
     },
     "execution_count": 75,
     "metadata": {},
     "output_type": "execute_result"
    }
   ],
   "source": [
    "df_to_upload"
   ]
  },
  {
   "cell_type": "markdown",
   "id": "6f4df213",
   "metadata": {},
   "source": [
    "* Define the SQL Schema"
   ]
  },
  {
   "cell_type": "markdown",
   "id": "5f94e89c",
   "metadata": {},
   "source": [
    "### 4. Write a Python Script to Append Data\n",
    "\n",
    "* Use psycopg2 or sqlalchemy to connect\n",
    "* Append cleaned data to your sat_scores table\n",
    "* Use parameterized queries and commit logic"
   ]
  },
  {
   "cell_type": "code",
   "execution_count": 77,
   "id": "96fdc1d7",
   "metadata": {},
   "outputs": [
    {
     "data": {
      "text/plain": [
       "478"
      ]
     },
     "execution_count": 77,
     "metadata": {},
     "output_type": "execute_result"
    }
   ],
   "source": [
    "db_url = (\n",
    "    \"postgresql+psycopg2://neondb_owner:npg_CeS9fJg2azZD\"\n",
    "    \"@ep-falling-glitter-a5m0j5gk-pooler.us-east-2.aws.neon.tech:5432/neondb\"\n",
    "    \"?sslmode=require\"\n",
    ")\n",
    "\n",
    "engine = create_engine(db_url)\n",
    "\n",
    "df_to_upload.to_sql(\n",
    "    name='diana_sat_results',   \n",
    "    con=engine,\n",
    "    schema='nyc_schools',              \n",
    "    if_exists='replace',               \n",
    "    index=False\n",
    ")"
   ]
  }
 ],
 "metadata": {
  "kernelspec": {
   "display_name": ".venv",
   "language": "python",
   "name": "python3"
  },
  "language_info": {
   "codemirror_mode": {
    "name": "ipython",
    "version": 3
   },
   "file_extension": ".py",
   "mimetype": "text/x-python",
   "name": "python",
   "nbconvert_exporter": "python",
   "pygments_lexer": "ipython3",
   "version": "3.13.3"
  }
 },
 "nbformat": 4,
 "nbformat_minor": 5
}
