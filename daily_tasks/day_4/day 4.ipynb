{
 "cells": [
  {
   "cell_type": "markdown",
   "id": "c4dafb1c",
   "metadata": {},
   "source": [
    "this is me\n"
   ]
  },
  {
   "cell_type": "code",
   "execution_count": null,
   "id": "600849e0",
   "metadata": {},
   "outputs": [],
   "source": [
    "import pandas "
   ]
  }
 ],
 "metadata": {
  "kernelspec": {
   "display_name": "base",
   "language": "python",
   "name": "python3"
  },
  "language_info": {
   "name": "python",
   "version": "3.11.5"
  }
 },
 "nbformat": 4,
 "nbformat_minor": 5
}
