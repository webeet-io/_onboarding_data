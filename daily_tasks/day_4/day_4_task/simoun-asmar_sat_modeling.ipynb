{
 "cells": [
  {
   "cell_type": "code",
   "execution_count": 115,
   "id": "fced34be",
   "metadata": {},
   "outputs": [],
   "source": [
    "# importing the libraries we need for our Task\n",
    "\n",
    "import pandas as pd \n",
    "import numpy as np\n",
    "from sqlalchemy import create_engine"
   ]
  },
  {
   "cell_type": "code",
   "execution_count": null,
   "id": "e109e2a8",
   "metadata": {},
   "outputs": [
    {
     "data": {
      "text/html": [
       "<div>\n",
       "<style scoped>\n",
       "    .dataframe tbody tr th:only-of-type {\n",
       "        vertical-align: middle;\n",
       "    }\n",
       "\n",
       "    .dataframe tbody tr th {\n",
       "        vertical-align: top;\n",
       "    }\n",
       "\n",
       "    .dataframe thead th {\n",
       "        text-align: right;\n",
       "    }\n",
       "</style>\n",
       "<table border=\"1\" class=\"dataframe\">\n",
       "  <thead>\n",
       "    <tr style=\"text-align: right;\">\n",
       "      <th></th>\n",
       "      <th>DBN</th>\n",
       "      <th>SCHOOL NAME</th>\n",
       "      <th>Num of SAT Test Takers</th>\n",
       "      <th>SAT Critical Reading Avg. Score</th>\n",
       "      <th>SAT Math Avg. Score</th>\n",
       "      <th>SAT Writing Avg. Score</th>\n",
       "      <th>SAT Critical Readng Avg. Score</th>\n",
       "      <th>internal_school_id</th>\n",
       "      <th>contact_extension</th>\n",
       "      <th>pct_students_tested</th>\n",
       "      <th>academic_tier_rating</th>\n",
       "    </tr>\n",
       "  </thead>\n",
       "  <tbody>\n",
       "    <tr>\n",
       "      <th>0</th>\n",
       "      <td>01M292</td>\n",
       "      <td>HENRY STREET SCHOOL FOR INTERNATIONAL STUDIES</td>\n",
       "      <td>29</td>\n",
       "      <td>355</td>\n",
       "      <td>404</td>\n",
       "      <td>363</td>\n",
       "      <td>355</td>\n",
       "      <td>218160</td>\n",
       "      <td>x345</td>\n",
       "      <td>78%</td>\n",
       "      <td>2.0</td>\n",
       "    </tr>\n",
       "    <tr>\n",
       "      <th>1</th>\n",
       "      <td>01M448</td>\n",
       "      <td>UNIVERSITY NEIGHBORHOOD HIGH SCHOOL</td>\n",
       "      <td>91</td>\n",
       "      <td>383</td>\n",
       "      <td>423</td>\n",
       "      <td>366</td>\n",
       "      <td>383</td>\n",
       "      <td>268547</td>\n",
       "      <td>x234</td>\n",
       "      <td>NaN</td>\n",
       "      <td>3.0</td>\n",
       "    </tr>\n",
       "    <tr>\n",
       "      <th>2</th>\n",
       "      <td>01M450</td>\n",
       "      <td>EAST SIDE COMMUNITY SCHOOL</td>\n",
       "      <td>70</td>\n",
       "      <td>377</td>\n",
       "      <td>402</td>\n",
       "      <td>370</td>\n",
       "      <td>377</td>\n",
       "      <td>236446</td>\n",
       "      <td>x123</td>\n",
       "      <td>NaN</td>\n",
       "      <td>3.0</td>\n",
       "    </tr>\n",
       "    <tr>\n",
       "      <th>3</th>\n",
       "      <td>01M458</td>\n",
       "      <td>FORSYTH SATELLITE ACADEMY</td>\n",
       "      <td>7</td>\n",
       "      <td>414</td>\n",
       "      <td>401</td>\n",
       "      <td>359</td>\n",
       "      <td>414</td>\n",
       "      <td>427826</td>\n",
       "      <td>x123</td>\n",
       "      <td>92%</td>\n",
       "      <td>4.0</td>\n",
       "    </tr>\n",
       "    <tr>\n",
       "      <th>4</th>\n",
       "      <td>01M509</td>\n",
       "      <td>MARTA VALLE HIGH SCHOOL</td>\n",
       "      <td>44</td>\n",
       "      <td>390</td>\n",
       "      <td>433</td>\n",
       "      <td>384</td>\n",
       "      <td>390</td>\n",
       "      <td>672714</td>\n",
       "      <td>x123</td>\n",
       "      <td>92%</td>\n",
       "      <td>2.0</td>\n",
       "    </tr>\n",
       "  </tbody>\n",
       "</table>\n",
       "</div>"
      ],
      "text/plain": [
       "      DBN                                    SCHOOL NAME  \\\n",
       "0  01M292  HENRY STREET SCHOOL FOR INTERNATIONAL STUDIES   \n",
       "1  01M448            UNIVERSITY NEIGHBORHOOD HIGH SCHOOL   \n",
       "2  01M450                     EAST SIDE COMMUNITY SCHOOL   \n",
       "3  01M458                      FORSYTH SATELLITE ACADEMY   \n",
       "4  01M509                        MARTA VALLE HIGH SCHOOL   \n",
       "\n",
       "  Num of SAT Test Takers SAT Critical Reading Avg. Score SAT Math Avg. Score  \\\n",
       "0                     29                             355                 404   \n",
       "1                     91                             383                 423   \n",
       "2                     70                             377                 402   \n",
       "3                      7                             414                 401   \n",
       "4                     44                             390                 433   \n",
       "\n",
       "  SAT Writing Avg. Score SAT Critical Readng Avg. Score  internal_school_id  \\\n",
       "0                    363                            355              218160   \n",
       "1                    366                            383              268547   \n",
       "2                    370                            377              236446   \n",
       "3                    359                            414              427826   \n",
       "4                    384                            390              672714   \n",
       "\n",
       "  contact_extension pct_students_tested  academic_tier_rating  \n",
       "0              x345                 78%                   2.0  \n",
       "1              x234                 NaN                   3.0  \n",
       "2              x123                 NaN                   3.0  \n",
       "3              x123                 92%                   4.0  \n",
       "4              x123                 92%                   2.0  "
      ]
     },
     "execution_count": 116,
     "metadata": {},
     "output_type": "execute_result"
    }
   ],
   "source": [
    "# loading the data \n",
    "df = pd.read_csv('../day_4_datasets/sat-results.csv')\n",
    "df.head(5)"
   ]
  },
  {
   "cell_type": "code",
   "execution_count": null,
   "id": "b5288c62",
   "metadata": {},
   "outputs": [
    {
     "name": "stdout",
     "output_type": "stream",
     "text": [
      "<class 'pandas.core.frame.DataFrame'>\n",
      "RangeIndex: 493 entries, 0 to 492\n",
      "Data columns (total 11 columns):\n",
      " #   Column                           Non-Null Count  Dtype  \n",
      "---  ------                           --------------  -----  \n",
      " 0   DBN                              493 non-null    object \n",
      " 1   SCHOOL NAME                      493 non-null    object \n",
      " 2   Num of SAT Test Takers           493 non-null    object \n",
      " 3   SAT Critical Reading Avg. Score  493 non-null    object \n",
      " 4   SAT Math Avg. Score              493 non-null    object \n",
      " 5   SAT Writing Avg. Score           493 non-null    object \n",
      " 6   SAT Critical Readng Avg. Score   493 non-null    object \n",
      " 7   internal_school_id               493 non-null    int64  \n",
      " 8   contact_extension                388 non-null    object \n",
      " 9   pct_students_tested              376 non-null    object \n",
      " 10  academic_tier_rating             402 non-null    float64\n",
      "dtypes: float64(1), int64(1), object(9)\n",
      "memory usage: 42.5+ KB\n"
     ]
    }
   ],
   "source": [
    "# checking the data \n",
    "\n",
    "\n",
    "df.info()"
   ]
  },
  {
   "cell_type": "code",
   "execution_count": null,
   "id": "c2ba1d7c",
   "metadata": {},
   "outputs": [
    {
     "data": {
      "text/plain": [
       "Index(['DBN', 'SCHOOL NAME', 'Num of SAT Test Takers',\n",
       "       'SAT Critical Reading Avg. Score', 'SAT Math Avg. Score',\n",
       "       'SAT Writing Avg. Score', 'SAT Critical Readng Avg. Score',\n",
       "       'internal_school_id', 'contact_extension', 'pct_students_tested',\n",
       "       'academic_tier_rating'],\n",
       "      dtype='object')"
      ]
     },
     "execution_count": 118,
     "metadata": {},
     "output_type": "execute_result"
    }
   ],
   "source": [
    "# checking columns names \n",
    "df.columns"
   ]
  },
  {
   "cell_type": "code",
   "execution_count": null,
   "id": "7d952433",
   "metadata": {},
   "outputs": [
    {
     "data": {
      "text/plain": [
       "Index(['dbn', 'school_name', 'num_of_sat_test_takers',\n",
       "       'sat_critical_reading_avg_score', 'sat_math_avg_score',\n",
       "       'sat_writing_avg_score', 'sat_critical_readng_avg_score',\n",
       "       'internal_school_id', 'contact_extension', 'pct_students_tested',\n",
       "       'academic_tier_rating'],\n",
       "      dtype='object')"
      ]
     },
     "execution_count": 119,
     "metadata": {},
     "output_type": "execute_result"
    }
   ],
   "source": [
    "# cleaning columns names \n",
    "\n",
    "df.columns = df.columns = df.columns.str.strip().str.lower().str.replace('.', '').str.replace(' ', '_')\n",
    "df.columns"
   ]
  },
  {
   "cell_type": "code",
   "execution_count": null,
   "id": "539b392e",
   "metadata": {},
   "outputs": [
    {
     "data": {
      "text/plain": [
       "dbn                                object\n",
       "school_name                        object\n",
       "num_of_sat_test_takers             object\n",
       "sat_critical_reading_avg_score     object\n",
       "sat_math_avg_score                 object\n",
       "sat_writing_avg_score              object\n",
       "sat_critical_readng_avg_score      object\n",
       "internal_school_id                  int64\n",
       "contact_extension                  object\n",
       "pct_students_tested                object\n",
       "academic_tier_rating              float64\n",
       "dtype: object"
      ]
     },
     "execution_count": 120,
     "metadata": {},
     "output_type": "execute_result"
    }
   ],
   "source": [
    "# checking datatypes to decide which columns data types need to be converted to righ data type\n",
    "\n",
    "df.dtypes"
   ]
  },
  {
   "cell_type": "code",
   "execution_count": null,
   "id": "ea125645",
   "metadata": {},
   "outputs": [
    {
     "data": {
      "text/plain": [
       "dbn                                object\n",
       "school_name                        object\n",
       "num_of_sat_test_takers            float64\n",
       "sat_critical_reading_avg_score    float64\n",
       "sat_math_avg_score                float64\n",
       "sat_writing_avg_score             float64\n",
       "sat_critical_readng_avg_score     float64\n",
       "internal_school_id                  int64\n",
       "contact_extension                  object\n",
       "pct_students_tested                object\n",
       "academic_tier_rating              float64\n",
       "dtype: object"
      ]
     },
     "execution_count": 121,
     "metadata": {},
     "output_type": "execute_result"
    }
   ],
   "source": [
    "# Data types to Numeric \n",
    "\n",
    "col = ['num_of_sat_test_takers', 'sat_critical_reading_avg_score', \n",
    "       'sat_math_avg_score', 'sat_writing_avg_score', \n",
    "       'sat_critical_readng_avg_score']\n",
    "\n",
    "\n",
    "df[col] = df[col].apply(pd.to_numeric, errors='coerce')\n",
    "df.dtypes"
   ]
  },
  {
   "cell_type": "code",
   "execution_count": 122,
   "id": "4fefad95",
   "metadata": {},
   "outputs": [
    {
     "data": {
      "text/plain": [
       "0      0.78\n",
       "1       NaN\n",
       "2       NaN\n",
       "3      0.92\n",
       "4      0.92\n",
       "       ... \n",
       "488    0.92\n",
       "489     NaN\n",
       "490    0.78\n",
       "491    0.92\n",
       "492    0.92\n",
       "Name: pct_students_tested, Length: 493, dtype: float64"
      ]
     },
     "execution_count": 122,
     "metadata": {},
     "output_type": "execute_result"
    }
   ],
   "source": [
    "# After converting the Data to right DataTypes we still have to work on column  'pct_students_tested', \n",
    "# removing the '%' and dividing the column by 100 so we have a percentag we can do calculation on it \n",
    "\n",
    "df['pct_students_tested'] = df['pct_students_tested'].str.replace('%', '')\n",
    "df['pct_students_tested'] = pd.to_numeric(df['pct_students_tested'], errors='coerce')\n",
    "df['pct_students_tested'] = df['pct_students_tested'] / 100\n",
    "df['pct_students_tested']"
   ]
  },
  {
   "cell_type": "code",
   "execution_count": 123,
   "id": "ddeca1e0",
   "metadata": {},
   "outputs": [],
   "source": [
    "# dropping dublicates \n",
    "\n",
    "df = df.drop_duplicates()"
   ]
  },
  {
   "cell_type": "code",
   "execution_count": null,
   "id": "a36a98b3",
   "metadata": {},
   "outputs": [
    {
     "data": {
      "text/plain": [
       "dbn                                 0\n",
       "school_name                         0\n",
       "num_of_sat_test_takers             57\n",
       "sat_critical_reading_avg_score     57\n",
       "sat_math_avg_score                 57\n",
       "sat_writing_avg_score              57\n",
       "sat_critical_readng_avg_score      57\n",
       "internal_school_id                  0\n",
       "contact_extension                 100\n",
       "pct_students_tested               115\n",
       "academic_tier_rating               86\n",
       "dtype: int64"
      ]
     },
     "execution_count": 124,
     "metadata": {},
     "output_type": "execute_result"
    }
   ],
   "source": [
    "# Summing the null values for each column\n",
    "df.isnull().sum()"
   ]
  },
  {
   "cell_type": "code",
   "execution_count": 125,
   "id": "a6b0fb29",
   "metadata": {},
   "outputs": [
    {
     "data": {
      "text/plain": [
       "pct_students_tested               0.240586\n",
       "contact_extension                 0.209205\n",
       "academic_tier_rating              0.179916\n",
       "num_of_sat_test_takers            0.119247\n",
       "sat_critical_reading_avg_score    0.119247\n",
       "sat_math_avg_score                0.119247\n",
       "sat_writing_avg_score             0.119247\n",
       "sat_critical_readng_avg_score     0.119247\n",
       "dbn                               0.000000\n",
       "school_name                       0.000000\n",
       "internal_school_id                0.000000\n",
       "dtype: float64"
      ]
     },
     "execution_count": 125,
     "metadata": {},
     "output_type": "execute_result"
    }
   ],
   "source": [
    "# cheking how much % each column has Null Values , to decide whether we fill the null values , leave it or drop it. \n",
    "\n",
    "df.isnull().mean().sort_values(ascending=False)"
   ]
  },
  {
   "cell_type": "code",
   "execution_count": 127,
   "id": "c9910783",
   "metadata": {},
   "outputs": [],
   "source": [
    "# filling null values for the score column with median \n",
    "score_col = ['academic_tier_rating','num_of_sat_test_takers', 'sat_critical_reading_avg_score', \n",
    "             'sat_math_avg_score', 'sat_writing_avg_score',\n",
    "             'sat_critical_readng_avg_score']\n",
    "df.loc[:, score_col] = df[score_col].fillna(df[score_col].median())"
   ]
  },
  {
   "cell_type": "code",
   "execution_count": null,
   "id": "4902f7c8",
   "metadata": {},
   "outputs": [],
   "source": [
    "# Downlaoding the Data as csv file\n",
    "\n",
    "simoun_asmar_sat_resaults = df\n",
    "simoun_asmar_sat_resaults.to_csv('simoun_asmar_sat_results.csv', index=False)"
   ]
  },
  {
   "cell_type": "code",
   "execution_count": 130,
   "id": "93d74b11",
   "metadata": {},
   "outputs": [
    {
     "data": {
      "text/plain": [
       "478"
      ]
     },
     "execution_count": 130,
     "metadata": {},
     "output_type": "execute_result"
    }
   ],
   "source": [
    "# connecting to the Database\n",
    "\n",
    "db_url = (\n",
    "    \"postgresql+psycopg2://neondb_owner:npg_CeS9fJg2azZD\"\n",
    "    \"@ep-falling-glitter-a5m0j5gk-pooler.us-east-2.aws.neon.tech:5432/neondb\"\n",
    "    \"?sslmode=require\"\n",
    ")\n",
    "\n",
    "# Create engine\n",
    "engine = create_engine(db_url)\n",
    "\n",
    "# Sending DataFrame to the database (inside the `nyc_schools` schema)\n",
    "simoun_asmar_sat_resaults.to_sql(\n",
    "    name='simoun_asmar_sat_results',   \n",
    "    con=engine,\n",
    "    schema='nyc_schools',              \n",
    "    if_exists='replace',               \n",
    "    index=False\n",
    ")"
   ]
  }
 ],
 "metadata": {
  "kernelspec": {
   "display_name": "myenv",
   "language": "python",
   "name": "python3"
  },
  "language_info": {
   "codemirror_mode": {
    "name": "ipython",
    "version": 3
   },
   "file_extension": ".py",
   "mimetype": "text/x-python",
   "name": "python",
   "nbconvert_exporter": "python",
   "pygments_lexer": "ipython3",
   "version": "3.11.13"
  }
 },
 "nbformat": 4,
 "nbformat_minor": 5
}
