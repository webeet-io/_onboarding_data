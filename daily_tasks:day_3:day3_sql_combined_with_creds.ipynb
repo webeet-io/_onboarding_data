{
 "cells": [
  {
   "cell_type": "markdown",
   "id": "642895c1",
   "metadata": {},
   "source": [
    "# Libraries"
   ]
  },
  {
   "cell_type": "code",
   "execution_count": 1,
   "id": "c6920046",
   "metadata": {},
   "outputs": [],
   "source": [
    "import pandas as pd\n",
    "import psycopg2\n",
    "from sqlalchemy import create_engine, inspect\n",
    "import warnings\n",
    "warnings.filterwarnings(\"ignore\")\n",
    "\n",
    "import seaborn as sns\n",
    "import matplotlib.pyplot as plt\n",
    "\n",
    "from itertools import combinations\n",
    "\n",
    "\n",
    "import gc # gc.collect() for rubbish collection\n",
    "import subprocess # cleaning data\n",
    "import sys"
   ]
  },
  {
   "cell_type": "markdown",
   "id": "615c0dc4",
   "metadata": {},
   "source": [
    "# Data"
   ]
  },
  {
   "cell_type": "markdown",
   "id": "67b8ad61",
   "metadata": {},
   "source": [
    "## Data download from SQL"
   ]
  },
  {
   "cell_type": "code",
   "execution_count": 2,
   "id": "0ab52e1d",
   "metadata": {},
   "outputs": [],
   "source": [
    "# DB connection setup using hardcoded credentials (for onboarding only)\n",
    "conn = psycopg2.connect(\n",
    "    dbname=\"neondb\",\n",
    "    user=\"neondb_owner\",\n",
    "    password=\"npg_CeS9fJg2azZD\",\n",
    "    host=\"ep-falling-glitter-a5m0j5gk-pooler.us-east-2.aws.neon.tech\",\n",
    "    port=\"5432\",\n",
    "    sslmode=\"require\"\n",
    ")\n",
    "cur = conn.cursor()\n"
   ]
  },
  {
   "cell_type": "code",
   "execution_count": 3,
   "id": "ff18fa74",
   "metadata": {},
   "outputs": [
    {
     "data": {
      "application/vnd.microsoft.datawrangler.viewer.v0+json": {
       "columns": [
        {
         "name": "index",
         "rawType": "int64",
         "type": "integer"
        },
        {
         "name": "dbn",
         "rawType": "object",
         "type": "string"
        },
        {
         "name": "school_name",
         "rawType": "object",
         "type": "string"
        },
        {
         "name": "borough",
         "rawType": "object",
         "type": "string"
        },
        {
         "name": "building_code",
         "rawType": "object",
         "type": "string"
        },
        {
         "name": "phone_number",
         "rawType": "object",
         "type": "string"
        },
        {
         "name": "fax_number",
         "rawType": "object",
         "type": "string"
        },
        {
         "name": "grade_span_min",
         "rawType": "float64",
         "type": "float"
        },
        {
         "name": "grade_span_max",
         "rawType": "int64",
         "type": "integer"
        },
        {
         "name": "expgrade_span_min",
         "rawType": "object",
         "type": "unknown"
        },
        {
         "name": "expgrade_span_max",
         "rawType": "object",
         "type": "unknown"
        },
        {
         "name": "start_time",
         "rawType": "object",
         "type": "string"
        },
        {
         "name": "end_time",
         "rawType": "object",
         "type": "string"
        },
        {
         "name": "priority01",
         "rawType": "object",
         "type": "string"
        },
        {
         "name": "priority02",
         "rawType": "object",
         "type": "string"
        },
        {
         "name": "priority03",
         "rawType": "object",
         "type": "string"
        },
        {
         "name": "priority04",
         "rawType": "object",
         "type": "string"
        },
        {
         "name": "priority05",
         "rawType": "object",
         "type": "string"
        },
        {
         "name": "priority06",
         "rawType": "object",
         "type": "string"
        },
        {
         "name": "priority07",
         "rawType": "object",
         "type": "string"
        },
        {
         "name": "priority08",
         "rawType": "object",
         "type": "string"
        },
        {
         "name": "priority09",
         "rawType": "object",
         "type": "string"
        },
        {
         "name": "priority10",
         "rawType": "object",
         "type": "string"
        },
        {
         "name": "location",
         "rawType": "object",
         "type": "unknown"
        },
        {
         "name": "phone_number2",
         "rawType": "object",
         "type": "unknown"
        },
        {
         "name": "school_email",
         "rawType": "object",
         "type": "unknown"
        },
        {
         "name": "website",
         "rawType": "object",
         "type": "string"
        },
        {
         "name": "subway",
         "rawType": "object",
         "type": "string"
        },
        {
         "name": "bus",
         "rawType": "object",
         "type": "string"
        },
        {
         "name": "grades2018",
         "rawType": "object",
         "type": "unknown"
        },
        {
         "name": "finalgrades",
         "rawType": "object",
         "type": "unknown"
        },
        {
         "name": "total_students",
         "rawType": "int64",
         "type": "integer"
        },
        {
         "name": "extracurricular_activities",
         "rawType": "object",
         "type": "string"
        },
        {
         "name": "school_sports",
         "rawType": "object",
         "type": "string"
        },
        {
         "name": "attendance_rate",
         "rawType": "object",
         "type": "unknown"
        },
        {
         "name": "pct_stu_enough_variety",
         "rawType": "object",
         "type": "unknown"
        },
        {
         "name": "pct_stu_safe",
         "rawType": "object",
         "type": "unknown"
        },
        {
         "name": "school_accessibility_description",
         "rawType": "object",
         "type": "string"
        },
        {
         "name": "directions1",
         "rawType": "object",
         "type": "unknown"
        },
        {
         "name": "requirement1",
         "rawType": "object",
         "type": "unknown"
        },
        {
         "name": "requirement2",
         "rawType": "object",
         "type": "unknown"
        },
        {
         "name": "requirement3",
         "rawType": "object",
         "type": "unknown"
        },
        {
         "name": "requirement4",
         "rawType": "object",
         "type": "unknown"
        },
        {
         "name": "requirement5",
         "rawType": "object",
         "type": "unknown"
        },
        {
         "name": "program1",
         "rawType": "object",
         "type": "unknown"
        },
        {
         "name": "code1",
         "rawType": "object",
         "type": "unknown"
        },
        {
         "name": "interest1",
         "rawType": "object",
         "type": "unknown"
        },
        {
         "name": "method1",
         "rawType": "object",
         "type": "unknown"
        },
        {
         "name": "seats9ge1",
         "rawType": "object",
         "type": "unknown"
        },
        {
         "name": "grade9gefilledflag1",
         "rawType": "object",
         "type": "unknown"
        },
        {
         "name": "grade9geapplicants1",
         "rawType": "object",
         "type": "unknown"
        },
        {
         "name": "seats9swd1",
         "rawType": "object",
         "type": "unknown"
        },
        {
         "name": "grade9swdfilledflag1",
         "rawType": "object",
         "type": "unknown"
        },
        {
         "name": "grade9swdapplicants1",
         "rawType": "object",
         "type": "unknown"
        },
        {
         "name": "campus_name",
         "rawType": "object",
         "type": "string"
        },
        {
         "name": "building_borough",
         "rawType": "object",
         "type": "unknown"
        },
        {
         "name": "building_location",
         "rawType": "object",
         "type": "unknown"
        },
        {
         "name": "latitude",
         "rawType": "object",
         "type": "unknown"
        },
        {
         "name": "longitude",
         "rawType": "object",
         "type": "unknown"
        },
        {
         "name": "community_board",
         "rawType": "object",
         "type": "unknown"
        },
        {
         "name": "council_district",
         "rawType": "object",
         "type": "unknown"
        },
        {
         "name": "census_tract",
         "rawType": "object",
         "type": "unknown"
        },
        {
         "name": "bin",
         "rawType": "float64",
         "type": "float"
        },
        {
         "name": "bbl",
         "rawType": "float64",
         "type": "float"
        },
        {
         "name": "nta",
         "rawType": "object",
         "type": "string"
        },
        {
         "name": "zip_codes",
         "rawType": "object",
         "type": "unknown"
        },
        {
         "name": "community_districts",
         "rawType": "object",
         "type": "unknown"
        },
        {
         "name": "borough_boundaries",
         "rawType": "object",
         "type": "unknown"
        },
        {
         "name": "city_council_districts",
         "rawType": "object",
         "type": "unknown"
        },
        {
         "name": "police_precincts",
         "rawType": "object",
         "type": "unknown"
        },
        {
         "name": "primary_address_line_1",
         "rawType": "object",
         "type": "string"
        },
        {
         "name": "city",
         "rawType": "object",
         "type": "string"
        },
        {
         "name": "state_code",
         "rawType": "object",
         "type": "string"
        },
        {
         "name": "postcode",
         "rawType": "object",
         "type": "string"
        },
        {
         "name": "school_type",
         "rawType": "object",
         "type": "string"
        },
        {
         "name": "overview_paragraph",
         "rawType": "object",
         "type": "string"
        },
        {
         "name": "program_highlights",
         "rawType": "object",
         "type": "string"
        },
        {
         "name": "language_classes",
         "rawType": "object",
         "type": "string"
        },
        {
         "name": "advancedplacement_courses",
         "rawType": "object",
         "type": "string"
        },
        {
         "name": "online_ap_courses",
         "rawType": "object",
         "type": "string"
        },
        {
         "name": "online_language_courses",
         "rawType": "object",
         "type": "string"
        },
        {
         "name": "psal_sports_boys",
         "rawType": "object",
         "type": "string"
        },
        {
         "name": "psal_sports_girls",
         "rawType": "object",
         "type": "string"
        },
        {
         "name": "psal_sports_coed",
         "rawType": "object",
         "type": "string"
        },
        {
         "name": "partner_cbo",
         "rawType": "object",
         "type": "string"
        },
        {
         "name": "partner_hospital",
         "rawType": "object",
         "type": "string"
        },
        {
         "name": "partner_highered",
         "rawType": "object",
         "type": "string"
        },
        {
         "name": "partner_cultural",
         "rawType": "object",
         "type": "string"
        },
        {
         "name": "partner_nonprofit",
         "rawType": "object",
         "type": "string"
        },
        {
         "name": "partner_corporate",
         "rawType": "object",
         "type": "string"
        },
        {
         "name": "partner_financial",
         "rawType": "object",
         "type": "string"
        },
        {
         "name": "partner_other",
         "rawType": "object",
         "type": "string"
        },
        {
         "name": "addtl_info1",
         "rawType": "object",
         "type": "string"
        },
        {
         "name": "addtl_info2",
         "rawType": "object",
         "type": "string"
        },
        {
         "name": "se_services",
         "rawType": "object",
         "type": "string"
        },
        {
         "name": "ell_programs",
         "rawType": "object",
         "type": "string"
        },
        {
         "name": "number_programs",
         "rawType": "object",
         "type": "string"
        },
        {
         "name": "Location 1",
         "rawType": "object",
         "type": "string"
        },
        {
         "name": "Community Board",
         "rawType": "object",
         "type": "string"
        },
        {
         "name": "Council District",
         "rawType": "object",
         "type": "string"
        },
        {
         "name": "Census Tract",
         "rawType": "object",
         "type": "string"
        },
        {
         "name": "Zip Codes",
         "rawType": "object",
         "type": "string"
        },
        {
         "name": "Community Districts",
         "rawType": "object",
         "type": "string"
        },
        {
         "name": "Borough Boundaries",
         "rawType": "object",
         "type": "string"
        },
        {
         "name": "City Council Districts",
         "rawType": "object",
         "type": "string"
        },
        {
         "name": "Police Precincts",
         "rawType": "object",
         "type": "string"
        }
       ],
       "ref": "1dbae86a-0074-4efb-b940-73e918df5657",
       "rows": [
        [
         "0",
         "27Q260",
         "Frederick Douglass Academy VI High School",
         "Queens",
         "Q465",
         "718-471-2154",
         "718-471-2890",
         "9.0",
         "12",
         null,
         null,
         "7:45 AM",
         "2:05 PM",
         "Priority to Queens students or residents who attend an information session",
         "Then to New York City residents who attend an information session",
         "Then to Queens students or residents",
         "Then to New York City residents",
         "",
         "",
         "",
         "",
         "",
         "",
         null,
         null,
         null,
         "http://schools.nyc.gov/schoolportals/27/Q260",
         "A to Beach 25th St-Wavecrest",
         "Q113, Q22",
         null,
         null,
         "412",
         "After-school Program, Book, Writing, Homework Help, Honor Society, Journalism, Lunch & Learn, PSAT and SAT Prep, Saturday Program, Step Team, Student Government, Summer Institute, Video, Tech, Yearbook, Computer Graphics, Robotics, Cheerleading",
         "Step Team, Modern Dance, Hip Hop Dance",
         null,
         null,
         null,
         "Not Functionally Accessible",
         null,
         null,
         null,
         null,
         null,
         null,
         null,
         null,
         null,
         null,
         null,
         null,
         null,
         null,
         null,
         null,
         "Far Rockaway Educational Campus",
         null,
         null,
         null,
         null,
         null,
         null,
         null,
         "4300730.0",
         "4157360001.0",
         "Far Rockaway-Bayswater                                                     ",
         null,
         null,
         null,
         null,
         null,
         "8-21 Bay 25 Street",
         "Far Rockaway",
         "NY",
         "11691",
         "",
         "Frederick Douglass Academy (FDA) VI High School is a high school built on Dr. Lorraine Monroe’s vision of academic and personal excellence for all students. The emphasis on college preparation is supported by a challenging academic program and cultural enrichment. A set of core rules visible at every Frederick Douglass Academy signals the seriousness of purpose for the school, its students and teachers. All students must adhere to a code of student conduct, the Scholar’s Creed and a strict uniform code. Students are also required to participate in extensive after-school academic enrichment programs.",
         "Advisory, Graphic Arts Design, Teaching Internship; College tours: citywide for freshmen, statewide for sophomores and out-of-state for juniors; National and international educational trips",
         "Spanish",
         "Calculus AB, English Language and Composition, English Literature and Composition, United States History",
         "Biology, Physics B",
         "French, Spanish",
         "Basketball, Cross Country, Indoor Track, Outdoor Track, Soccer, Softball, Swimming, Tennis, Volleyball",
         "Basketball, Cross Country, Indoor Track, Outdoor Track, Soccer, Softball, Swimming, Tennis, Volleyball",
         "",
         "",
         "Jamaica Hospital Medical Center, Peninsula Hospital Center",
         "York College, Brooklyn College, St. John's College",
         "",
         "Queens District Attorney, Sports and Arts Foundation, CMS",
         "Replications, Inc.",
         "Citibank",
         "New York Road Runners Foundation (NYRRF)",
         "Uniform Required: plain white collared shirt, black pants/skirt, FDA tie/FDA scarf, black shoes",
         "Extended Day Program, Student Summer Orientation, Summer Internship Program offered, Weekend Program offered",
         "This school will provide students with disabilities the supports and services indicated on their IEPs.",
         "ESL",
         "1",
         "{'latitude': '40.601989336', 'longitude': '-73.762834323', 'human_address': '{\"address\": \"8 21 Bay 25 Street\", \"city\": \"Far Rockaway\", \"state\": \"NY\", \"zip\": \"11691\"}'}",
         "14",
         "31",
         "100802",
         "20529",
         "51",
         "3",
         "47",
         "59"
        ],
        [
         "1",
         "21K559",
         "Life Academy High School for Film and Music",
         "Brooklyn",
         "K400",
         "718-333-7750",
         "718-333-7775",
         "9.0",
         "12",
         null,
         null,
         "8:15 AM",
         "3:00 PM",
         "Priority to New York City residents who attend an information session",
         "Then to New York City residents",
         "",
         "",
         "",
         "",
         "",
         "",
         "",
         "",
         null,
         null,
         null,
         "http://schools.nyc.gov/schoolportals/21/K559",
         "D to 25th Ave ; N to Ave U ; N to Gravesend - 86th St",
         "B1, B3, B4, B6, B64, B82",
         null,
         null,
         "260",
         "Film, Music, Talent Show, Holiday Concert, Student Council, After school tutoring in content areas, iLEARN courses, and other programs of student interest based on grant funding.",
         "",
         null,
         null,
         null,
         "Functionally Accessible",
         null,
         null,
         null,
         null,
         null,
         null,
         null,
         null,
         null,
         null,
         null,
         null,
         null,
         null,
         null,
         null,
         "Lafayette Educational Campus",
         null,
         null,
         null,
         null,
         null,
         null,
         null,
         "3186454.0",
         "3068830001.0",
         "Gravesend                                                                  ",
         null,
         null,
         null,
         null,
         null,
         "2630 Benson Avenue",
         "Brooklyn",
         "NY",
         "11214",
         "",
         "At Life Academy High School for Film and Music, we infuse the study of film, the art of filmmaking, audio production and new media into engaging, student-centered and project-based courses. We focus on building communication skills in writing, presentation and creativity. Our Advisory program helps each student develop personal relationships and positive citizenship. We seek students who want to learn in an exciting atmosphere of excellence and creative collaboration.",
         "College Now, iLEARN courses, Art and Film Production courses including film, set design, audio production, cinematography, animation, storyboarding art",
         "Spanish",
         "",
         "Biology, English Literature and Composition, European History, United States History, World History",
         "",
         "Basketball, Bowling, Indoor Track, Soccer, Softball, Volleyball",
         "Basketball, Bowling, Indoor Track, Soccer, Softball, Volleyball",
         "Cricket",
         "Coney Island Generation Gap",
         "",
         "City Tech, Kingsborough Early College Secondary School, City University of New Jersey",
         "Museum of the Moving Image, New York Public Library",
         "Institute for Student Achievement",
         "Film Life, Inc., SONY Wonder Tech",
         "",
         "",
         "Our school requires completion of a Common Core Learning Standards Skills Portfolio for Assessment in every class",
         "",
         "This school will provide students with disabilities the supports and services indicated on their IEPs.",
         "ESL",
         "1",
         "{'latitude': '40.593593811', 'longitude': '-73.984729232', 'human_address': '{\"address\": \"2630 Benson Avenue\", \"city\": \"Brooklyn\", \"state\": \"NY\", \"zip\": \"11214\"}'}",
         "13",
         "47",
         "306",
         "17616",
         "21",
         "2",
         "45",
         "35"
        ],
        [
         "2",
         "16K393",
         "Frederick Douglass Academy IV Secondary School",
         "Brooklyn",
         "K026",
         "718-574-2820",
         "718-574-2821",
         "9.0",
         "12",
         null,
         null,
         "8:00 AM",
         "2:20 PM",
         "Priority to continuing 8th graders",
         "Then to Brooklyn students or residents who attend an information session",
         "Then to New York City residents who attend an information session",
         "Then to Brooklyn students or residents",
         "Then to New York City residents",
         "",
         "",
         "",
         "",
         "",
         null,
         null,
         null,
         "http://schools.nyc.gov/schoolportals/16/K393",
         "J to Kosciusko St ; M, Z to Myrtle Ave",
         "B15, B38, B46, B47, B52, B54, Q24",
         null,
         null,
         "155",
         "After-school and Saturday Programs, Art Studio Group, Book, Cheerleading Team, Chess Team, Dance, Dance Ensemble, Homework Help, Lunch and Learn, Peer Mediation, Music, PSAT/SAT Prep, Scholars Government Association (SGA), Step Team, Summer Institute, Achieving Change in our Neighborhood (Teen Action), Violin, String Instruments, CHAMPS, School Leadership Team, Financial Literacy, Yoga, Anti-Bullying, Violence Prevention, Yearbook",
         "Basketball Team",
         null,
         null,
         null,
         "Not Functionally Accessible",
         null,
         null,
         null,
         null,
         null,
         null,
         null,
         null,
         null,
         null,
         null,
         null,
         null,
         null,
         null,
         null,
         "N/A",
         null,
         null,
         null,
         null,
         null,
         null,
         null,
         "3393805.0",
         "3016160001.0",
         "Stuyvesant Heights                                                         ",
         null,
         null,
         null,
         null,
         null,
         "1014 Lafayette Avenue",
         "Brooklyn",
         "NY",
         "11221",
         "",
         "The Frederick Douglass Academy IV (FDA IV) Secondary School is a place of scholarship. Our students are considered scholars. We create an atmosphere of order, civility, maturity and seriousness of purpose. A set of core rules referred to as the ‘twelve non-negotiables’ establish and maintain this environment. Scholars at the Frederick Douglas Academy IV Secondary School are instilled with a Scholar’s Creed, adapted from the Morehouse College Students’ Creed, that reinforces the school’s cohesive culture, underscores its high expectations and builds the scholars’ sense of pride in their school and themselves.",
         "College Now with Medgar Evers College, Fresh Prep Core, Science, Technology, Engineering & Mathematics (STEM) Robotics with New York City College of Technology, Dance4Peace",
         "French, Spanish",
         "English Language and Composition, United States History",
         "French Language and Culture",
         "",
         "",
         "",
         "",
         "Achieving Change in our Neighborhood (Teen ACTION) St.Nicks Alliance, New York City College of Technology – STEM Robotics, Fresh Prep and New York Hall of Science",
         "",
         "Medgar Evers College",
         "Noel Pointer School of Music",
         "Hip-Hop 4 Life, Urban Arts, and St. Nicks Alliance",
         "",
         "",
         "",
         "Dress Code Required: solid white shirt/blouse, navy blue blazer, gray pants/skirt, navy blue tie/scarf, black dress shoes, Participation in our 2-day FDA IV Prep Institute (Orientation) is required for incoming students, Extended Day Program",
         "Student Summer Orientation, Weekend Program offered",
         "This school will provide students with disabilities the supports and services indicated on their IEPs.",
         "ESL",
         "1",
         "{'latitude': '40.692133704', 'longitude': '-73.931503172', 'human_address': '{\"address\": \"1014 Lafayette Avenue\", \"city\": \"Brooklyn\", \"state\": \"NY\", \"zip\": \"11221\"}'}",
         "3",
         "36",
         "291",
         "18181",
         "69",
         "2",
         "49",
         "52"
        ],
        [
         "3",
         "08X305",
         "Pablo Neruda Academy",
         "Bronx",
         "X450",
         "718-824-1682",
         "718-824-1663",
         "9.0",
         "12",
         null,
         null,
         "8:00 AM",
         "3:50 PM",
         "Priority to Bronx students or residents who attend an information session",
         "Then to New York City residents who attend an information session",
         "Then to Bronx students or residents",
         "Then to New York City residents",
         "",
         "",
         "",
         "",
         "",
         "",
         null,
         null,
         null,
         "www.pablonerudaacademy.org",
         "N/A",
         "Bx22, Bx27, Bx36, Bx39, Bx5",
         null,
         null,
         "335",
         "Youth Court, Student Government, Youth Service, Youth Service Leaders, Art, Graffiti Mural, Yearbook, Homework Help & Tutoring Services, Regents Prep, Saturday Academy, Senior Committee, Video Game, Yoga, Dance, Digital Media, Book, Chess, Soccer, Softball, Basketball Intramurals, National Honor Society",
         "Baseball, Basketball, Flag Football, Soccer, Softball, Volleyball",
         null,
         null,
         null,
         "Functionally Accessible",
         null,
         null,
         null,
         null,
         null,
         null,
         null,
         null,
         null,
         null,
         null,
         null,
         null,
         null,
         null,
         null,
         "Adlai E. Stevenson Educational Campus",
         null,
         null,
         null,
         null,
         null,
         null,
         null,
         "2022205.0",
         "2036040039.0",
         "Soundview-Castle Hill-Clason Point-Harding Park                            ",
         null,
         null,
         null,
         null,
         null,
         "1980 Lafayette Avenue",
         "Bronx",
         "NY",
         "10473",
         "",
         "Our mission is to engage, inspire, and educate our students so that they develop skills to succeed in college and beyond. Our students work in small groups, guided by skilled and caring teachers, to solve challenging problems. Each student is well-known by staff members, and is assigned an advisor who works closely with them each week to monitor their progress. We celebrate successes and students are recognized for their accomplishments.",
         "Advanced Placement courses, Electives courses including: Art & Design, Criminal Justice, Entrepreneurship, Careers & Internships, and Advanced Art; Student Learning Communities, Internship Opportunities, Individualized Student Programming, Credit-bearing Online Courses (iLearn) and After-school Enrichment Classes; College Now & JumpStart (Credit-bearing College Courses)",
         "Spanish",
         "Art History, English Language and Composition, English Literature and Composition, United States Government and Politics",
         "",
         "Spanish",
         "Basketball, Outdoor Track, Softball, Tennis, Volleyball",
         "Basketball, Outdoor Track, Softball, Tennis, Volleyball",
         "",
         "",
         "Soundview Health Center, Bronx Lebanon Hospital Center, Montefiore Medical Center",
         "Hostos Community College, Monroe College, Lehman College",
         "Chilean Consulate, Materials for the Arts",
         "Network for Teaching Entrepreneurship (NFTE), BISCEP (The Leadership Program), New York Cares, Institute for Student Achievement (ISA), PENCIL",
         "",
         "",
         "iLearnNYC",
         "All students are individually programmed (based on academic needs), Incoming 9th grade students attend our Summer Orientation Session, All students are assigned to a small Student Learning Community that meets twice a week, College preparation begins in 9th grade and continues through 12th grade; this preparation includes College Trips (in-state, out-of-state, trade schools), College Fairs, College Workshops",
         "Extended Day Program",
         "This school will provide students with disabilities the supports and services indicated on their IEPs.",
         "ESL",
         "1",
         "{'latitude': '40.822303765', 'longitude': '-73.85596139', 'human_address': '{\"address\": \"1980 Lafayette Avenue\", \"city\": \"Bronx\", \"state\": \"NY\", \"zip\": \"10473\"}'}",
         "9",
         "18",
         "16",
         "11611",
         "58",
         "5",
         "31",
         "26"
        ],
        [
         "4",
         "03M485",
         "Fiorello H. LaGuardia High School of Music & Art and Performing Arts",
         "Manhattan",
         "M485",
         "212-496-0700",
         "212-724-5748",
         "9.0",
         "12",
         null,
         null,
         "8:00 AM",
         "4:00 PM",
         "Open to New York City residents",
         "Admission is based on the outcome of a competitive audition and review of the student’s record",
         "Students must audition for each program (studio) to which they are applying",
         "Students must be residents of New York City at the time of audition",
         "",
         "",
         "",
         "",
         "",
         "",
         null,
         null,
         null,
         "www.laguardiahs.org",
         "1 to 66th St - Lincoln Center ; 2, 3 to 72nd St ; A, B, C, D to 59th St-Columbus Circle",
         "M10, M104, M11, M20, M31, M5, M57, M66, M7, M72",
         null,
         null,
         "2730",
         "Amnesty International, Anime, Annual Musical, Arista, Art Exhibits, ASPIRA, Black Student Union, Chinese Student Association, Claymazing, Comic Book, Cult Classics, Dance Programs, DaVinci Scholars Program, Debate Team, Disney VoluntEars, Drama Festivals, Environmental, Fashion, Film, Future Voters of America, Gay/Straight Alliance, Girls Learn International, Habitat for Humanity, Harry Potter, Independent Film, Jewish Union, Literary Magazine, Math Team, Mock Trial, Moot Court, Murals, National Honor Society, National Language Honors Society, Newspaper, Orchestral and Vocal Concerts, Random Acts of Kindness, Red Cross, Relay For Life, School Leadership Team (SLT), Science Outreach League, Shamisen, Social Action, Splashes of Hope, Student Government Organization, Ukulele For Good, Yearbook",
         "",
         null,
         null,
         null,
         "Functionally Accessible",
         null,
         null,
         null,
         null,
         null,
         null,
         null,
         null,
         null,
         null,
         null,
         null,
         null,
         null,
         null,
         null,
         "N/A",
         null,
         null,
         null,
         null,
         null,
         null,
         null,
         "1030341.0",
         "1011560030.0",
         "Lincoln Square                                                             ",
         null,
         null,
         null,
         null,
         null,
         "100 Amsterdam Avenue",
         "New York",
         "NY",
         "10023",
         "Specialized School",
         "We enjoy an international reputation as the first and foremost high school dedicated to nurturing students gifted in the arts. Our mission is to provide an opportunity for students to pursue both a rigorous conservatory-style training and a challenging academic program. Our building features world-class facilities including a concert hall; art, dance, music, recording and theater studios, science and computer labs, and an art gallery. Almost all of our graduates continue their studies, gaining admission to highly selective schools. Our graduates have distinguished themselves in virtually every field, including the arts and sciences, medicine, law, business, education and public service.",
         "Students have a daily program that includes both a multi-period conservatory studio block and a full college preparatory academic course load. The studio majors are: Dance, Drama, Fine Arts, Instrumental Music, Technical Theater and Vocal Music. Each studio has a four-year sequence of courses and opportunities for students to participate in performances and exhibitions. Students completing the applicable NYC Studio Comprehensive exam receive a special endorsement on their diploma. Honors courses are offered in all academic areas starting in the freshman year, leading to a full complement of Advanced Placement courses.",
         "French, Italian, Japanese, Spanish",
         "Art History, Biology, Calculus AB, Calculus BC, Chemistry, Comparative Government and Politics, English Language and Composition, English Literature and Composition, Environmental Science, European History, French Language and Culture, Italian Language and Culture, Japanese Language and Culture, Music Theory, Physics B, Psychology, Spanish Language and Culture, Statistics, Studio Art: 2-D Design, Studio Art: 3-D Design, Studio Art: Drawing, United States Government and Politics, United States History, World History",
         "",
         "Spanish",
         "Basketball, Bowling, Cross Country, Fencing, Gymnastics, Handball, Indoor Track, Outdoor Track, Soccer, Softball, Swimming, Volleyball",
         "Basketball, Bowling, Cross Country, Fencing, Gymnastics, Handball, Indoor Track, Outdoor Track, Soccer, Softball, Swimming, Volleyball",
         "",
         "Lincoln Center for the Performing Arts",
         "Mount Sinai Medical Center",
         "The Cooper Union for the Advancement of Science and Art, Skidmore College, Sophie Davis School of Biomedical Education, New York University School of Medicine",
         "Lincoln Center for the Performing Arts, American Ballet Theater, Carnegie Hall, New York Philharmonic, Drama Desk, Metropolitan Opera, Interschool Orchestras of New York, New York Youth Symphony",
         "Junior Achievement, Red Cross, United Nations Association, American Cancer Society",
         "Sony Music, Warner Music Group, Capital Cities ABC, The Walt Disney Company",
         "",
         "",
         "Chancellor’s Arts Endorsed Diploma",
         "",
         "This school will provide students with disabilities the supports and services indicated on their IEPs.",
         "ESL",
         "6",
         "{'latitude': '40.773670507', 'longitude': '-73.985268558', 'human_address': '{\"address\": \"100 Amsterdam Avenue\", \"city\": \"New York\", \"state\": \"NY\", \"zip\": \"10023\"}'}",
         "7",
         "6",
         "151",
         "12420",
         "20",
         "4",
         "19",
         "12"
        ]
       ],
       "shape": {
        "columns": 105,
        "rows": 5
       }
      },
      "text/html": [
       "<div>\n",
       "<style scoped>\n",
       "    .dataframe tbody tr th:only-of-type {\n",
       "        vertical-align: middle;\n",
       "    }\n",
       "\n",
       "    .dataframe tbody tr th {\n",
       "        vertical-align: top;\n",
       "    }\n",
       "\n",
       "    .dataframe thead th {\n",
       "        text-align: right;\n",
       "    }\n",
       "</style>\n",
       "<table border=\"1\" class=\"dataframe\">\n",
       "  <thead>\n",
       "    <tr style=\"text-align: right;\">\n",
       "      <th></th>\n",
       "      <th>dbn</th>\n",
       "      <th>school_name</th>\n",
       "      <th>borough</th>\n",
       "      <th>building_code</th>\n",
       "      <th>phone_number</th>\n",
       "      <th>fax_number</th>\n",
       "      <th>grade_span_min</th>\n",
       "      <th>grade_span_max</th>\n",
       "      <th>expgrade_span_min</th>\n",
       "      <th>expgrade_span_max</th>\n",
       "      <th>...</th>\n",
       "      <th>number_programs</th>\n",
       "      <th>Location 1</th>\n",
       "      <th>Community Board</th>\n",
       "      <th>Council District</th>\n",
       "      <th>Census Tract</th>\n",
       "      <th>Zip Codes</th>\n",
       "      <th>Community Districts</th>\n",
       "      <th>Borough Boundaries</th>\n",
       "      <th>City Council Districts</th>\n",
       "      <th>Police Precincts</th>\n",
       "    </tr>\n",
       "  </thead>\n",
       "  <tbody>\n",
       "    <tr>\n",
       "      <th>0</th>\n",
       "      <td>27Q260</td>\n",
       "      <td>Frederick Douglass Academy VI High School</td>\n",
       "      <td>Queens</td>\n",
       "      <td>Q465</td>\n",
       "      <td>718-471-2154</td>\n",
       "      <td>718-471-2890</td>\n",
       "      <td>9.0</td>\n",
       "      <td>12</td>\n",
       "      <td>None</td>\n",
       "      <td>None</td>\n",
       "      <td>...</td>\n",
       "      <td>1</td>\n",
       "      <td>{'latitude': '40.601989336', 'longitude': '-73...</td>\n",
       "      <td>14</td>\n",
       "      <td>31</td>\n",
       "      <td>100802</td>\n",
       "      <td>20529</td>\n",
       "      <td>51</td>\n",
       "      <td>3</td>\n",
       "      <td>47</td>\n",
       "      <td>59</td>\n",
       "    </tr>\n",
       "    <tr>\n",
       "      <th>1</th>\n",
       "      <td>21K559</td>\n",
       "      <td>Life Academy High School for Film and Music</td>\n",
       "      <td>Brooklyn</td>\n",
       "      <td>K400</td>\n",
       "      <td>718-333-7750</td>\n",
       "      <td>718-333-7775</td>\n",
       "      <td>9.0</td>\n",
       "      <td>12</td>\n",
       "      <td>None</td>\n",
       "      <td>None</td>\n",
       "      <td>...</td>\n",
       "      <td>1</td>\n",
       "      <td>{'latitude': '40.593593811', 'longitude': '-73...</td>\n",
       "      <td>13</td>\n",
       "      <td>47</td>\n",
       "      <td>306</td>\n",
       "      <td>17616</td>\n",
       "      <td>21</td>\n",
       "      <td>2</td>\n",
       "      <td>45</td>\n",
       "      <td>35</td>\n",
       "    </tr>\n",
       "    <tr>\n",
       "      <th>2</th>\n",
       "      <td>16K393</td>\n",
       "      <td>Frederick Douglass Academy IV Secondary School</td>\n",
       "      <td>Brooklyn</td>\n",
       "      <td>K026</td>\n",
       "      <td>718-574-2820</td>\n",
       "      <td>718-574-2821</td>\n",
       "      <td>9.0</td>\n",
       "      <td>12</td>\n",
       "      <td>None</td>\n",
       "      <td>None</td>\n",
       "      <td>...</td>\n",
       "      <td>1</td>\n",
       "      <td>{'latitude': '40.692133704', 'longitude': '-73...</td>\n",
       "      <td>3</td>\n",
       "      <td>36</td>\n",
       "      <td>291</td>\n",
       "      <td>18181</td>\n",
       "      <td>69</td>\n",
       "      <td>2</td>\n",
       "      <td>49</td>\n",
       "      <td>52</td>\n",
       "    </tr>\n",
       "    <tr>\n",
       "      <th>3</th>\n",
       "      <td>08X305</td>\n",
       "      <td>Pablo Neruda Academy</td>\n",
       "      <td>Bronx</td>\n",
       "      <td>X450</td>\n",
       "      <td>718-824-1682</td>\n",
       "      <td>718-824-1663</td>\n",
       "      <td>9.0</td>\n",
       "      <td>12</td>\n",
       "      <td>None</td>\n",
       "      <td>None</td>\n",
       "      <td>...</td>\n",
       "      <td>1</td>\n",
       "      <td>{'latitude': '40.822303765', 'longitude': '-73...</td>\n",
       "      <td>9</td>\n",
       "      <td>18</td>\n",
       "      <td>16</td>\n",
       "      <td>11611</td>\n",
       "      <td>58</td>\n",
       "      <td>5</td>\n",
       "      <td>31</td>\n",
       "      <td>26</td>\n",
       "    </tr>\n",
       "    <tr>\n",
       "      <th>4</th>\n",
       "      <td>03M485</td>\n",
       "      <td>Fiorello H. LaGuardia High School of Music &amp; A...</td>\n",
       "      <td>Manhattan</td>\n",
       "      <td>M485</td>\n",
       "      <td>212-496-0700</td>\n",
       "      <td>212-724-5748</td>\n",
       "      <td>9.0</td>\n",
       "      <td>12</td>\n",
       "      <td>None</td>\n",
       "      <td>None</td>\n",
       "      <td>...</td>\n",
       "      <td>6</td>\n",
       "      <td>{'latitude': '40.773670507', 'longitude': '-73...</td>\n",
       "      <td>7</td>\n",
       "      <td>6</td>\n",
       "      <td>151</td>\n",
       "      <td>12420</td>\n",
       "      <td>20</td>\n",
       "      <td>4</td>\n",
       "      <td>19</td>\n",
       "      <td>12</td>\n",
       "    </tr>\n",
       "  </tbody>\n",
       "</table>\n",
       "<p>5 rows × 105 columns</p>\n",
       "</div>"
      ],
      "text/plain": [
       "      dbn                                        school_name    borough  \\\n",
       "0  27Q260          Frederick Douglass Academy VI High School     Queens   \n",
       "1  21K559        Life Academy High School for Film and Music   Brooklyn   \n",
       "2  16K393     Frederick Douglass Academy IV Secondary School   Brooklyn   \n",
       "3  08X305                               Pablo Neruda Academy      Bronx   \n",
       "4  03M485  Fiorello H. LaGuardia High School of Music & A...  Manhattan   \n",
       "\n",
       "  building_code  phone_number    fax_number  grade_span_min  grade_span_max  \\\n",
       "0          Q465  718-471-2154  718-471-2890             9.0              12   \n",
       "1          K400  718-333-7750  718-333-7775             9.0              12   \n",
       "2          K026  718-574-2820  718-574-2821             9.0              12   \n",
       "3          X450  718-824-1682  718-824-1663             9.0              12   \n",
       "4          M485  212-496-0700  212-724-5748             9.0              12   \n",
       "\n",
       "  expgrade_span_min expgrade_span_max  ... number_programs  \\\n",
       "0              None              None  ...               1   \n",
       "1              None              None  ...               1   \n",
       "2              None              None  ...               1   \n",
       "3              None              None  ...               1   \n",
       "4              None              None  ...               6   \n",
       "\n",
       "                                          Location 1 Community Board  \\\n",
       "0  {'latitude': '40.601989336', 'longitude': '-73...              14   \n",
       "1  {'latitude': '40.593593811', 'longitude': '-73...              13   \n",
       "2  {'latitude': '40.692133704', 'longitude': '-73...               3   \n",
       "3  {'latitude': '40.822303765', 'longitude': '-73...               9   \n",
       "4  {'latitude': '40.773670507', 'longitude': '-73...               7   \n",
       "\n",
       "  Council District Census Tract Zip Codes Community Districts  \\\n",
       "0               31       100802     20529                  51   \n",
       "1               47          306     17616                  21   \n",
       "2               36          291     18181                  69   \n",
       "3               18           16     11611                  58   \n",
       "4                6          151     12420                  20   \n",
       "\n",
       "  Borough Boundaries City Council Districts Police Precincts  \n",
       "0                  3                     47               59  \n",
       "1                  2                     45               35  \n",
       "2                  2                     49               52  \n",
       "3                  5                     31               26  \n",
       "4                  4                     19               12  \n",
       "\n",
       "[5 rows x 105 columns]"
      ]
     },
     "execution_count": 3,
     "metadata": {},
     "output_type": "execute_result"
    }
   ],
   "source": [
    "query = \"SELECT * FROM nyc_schools.high_school_directory LIMIT 5;\"\n",
    "df = pd.read_sql(query, conn)\n",
    "df.head()"
   ]
  },
  {
   "cell_type": "markdown",
   "id": "05111af8",
   "metadata": {},
   "source": [
    "# EDA"
   ]
  },
  {
   "cell_type": "markdown",
   "id": "b2b76d17",
   "metadata": {},
   "source": [
    "## data cleaning"
   ]
  },
  {
   "cell_type": "code",
   "execution_count": 4,
   "id": "9b197009",
   "metadata": {},
   "outputs": [
    {
     "data": {
      "text/plain": [
       "(5, 105)"
      ]
     },
     "execution_count": 4,
     "metadata": {},
     "output_type": "execute_result"
    }
   ],
   "source": [
    "df.shape"
   ]
  },
  {
   "cell_type": "code",
   "execution_count": 5,
   "id": "c57b199d",
   "metadata": {},
   "outputs": [],
   "source": [
    "df = df.drop_duplicates()"
   ]
  },
  {
   "cell_type": "code",
   "execution_count": 23,
   "id": "27f11d39",
   "metadata": {},
   "outputs": [
    {
     "data": {
      "text/plain": [
       "(5, 57)"
      ]
     },
     "execution_count": 23,
     "metadata": {},
     "output_type": "execute_result"
    }
   ],
   "source": [
    "gc.collect()\n",
    "df.shape"
   ]
  },
  {
   "cell_type": "code",
   "execution_count": 7,
   "id": "fb050c0f",
   "metadata": {},
   "outputs": [
    {
     "data": {
      "application/vnd.microsoft.datawrangler.viewer.v0+json": {
       "columns": [
        {
         "name": "index",
         "rawType": "object",
         "type": "string"
        },
        {
         "name": "0",
         "rawType": "int64",
         "type": "integer"
        }
       ],
       "ref": "b492d268-8042-4b5a-adab-8de944228f48",
       "rows": [
        [
         "dbn",
         "0"
        ],
        [
         "school_name",
         "0"
        ],
        [
         "borough",
         "0"
        ],
        [
         "building_code",
         "0"
        ],
        [
         "phone_number",
         "0"
        ],
        [
         "fax_number",
         "0"
        ],
        [
         "grade_span_min",
         "0"
        ],
        [
         "grade_span_max",
         "0"
        ],
        [
         "expgrade_span_min",
         "5"
        ],
        [
         "expgrade_span_max",
         "5"
        ],
        [
         "start_time",
         "0"
        ],
        [
         "end_time",
         "0"
        ],
        [
         "priority01",
         "0"
        ],
        [
         "priority02",
         "0"
        ],
        [
         "priority03",
         "0"
        ],
        [
         "priority04",
         "0"
        ],
        [
         "priority05",
         "0"
        ],
        [
         "priority06",
         "0"
        ],
        [
         "priority07",
         "0"
        ],
        [
         "priority08",
         "0"
        ],
        [
         "priority09",
         "0"
        ],
        [
         "priority10",
         "0"
        ],
        [
         "location",
         "5"
        ],
        [
         "phone_number2",
         "5"
        ],
        [
         "school_email",
         "5"
        ],
        [
         "website",
         "0"
        ],
        [
         "subway",
         "0"
        ],
        [
         "bus",
         "0"
        ],
        [
         "grades2018",
         "5"
        ],
        [
         "finalgrades",
         "5"
        ],
        [
         "total_students",
         "0"
        ],
        [
         "extracurricular_activities",
         "0"
        ],
        [
         "school_sports",
         "0"
        ],
        [
         "attendance_rate",
         "5"
        ],
        [
         "pct_stu_enough_variety",
         "5"
        ],
        [
         "pct_stu_safe",
         "5"
        ],
        [
         "school_accessibility_description",
         "0"
        ],
        [
         "directions1",
         "5"
        ],
        [
         "requirement1",
         "5"
        ],
        [
         "requirement2",
         "5"
        ],
        [
         "requirement3",
         "5"
        ],
        [
         "requirement4",
         "5"
        ],
        [
         "requirement5",
         "5"
        ],
        [
         "program1",
         "5"
        ],
        [
         "code1",
         "5"
        ],
        [
         "interest1",
         "5"
        ],
        [
         "method1",
         "5"
        ],
        [
         "seats9ge1",
         "5"
        ],
        [
         "grade9gefilledflag1",
         "5"
        ],
        [
         "grade9geapplicants1",
         "5"
        ]
       ],
       "shape": {
        "columns": 1,
        "rows": 105
       }
      },
      "text/plain": [
       "dbn                       0\n",
       "school_name               0\n",
       "borough                   0\n",
       "building_code             0\n",
       "phone_number              0\n",
       "                         ..\n",
       "Zip Codes                 0\n",
       "Community Districts       0\n",
       "Borough Boundaries        0\n",
       "City Council Districts    0\n",
       "Police Precincts          0\n",
       "Length: 105, dtype: int64"
      ]
     },
     "execution_count": 7,
     "metadata": {},
     "output_type": "execute_result"
    }
   ],
   "source": [
    "df.isnull().sum()"
   ]
  },
  {
   "cell_type": "code",
   "execution_count": 8,
   "id": "85d68d0d",
   "metadata": {},
   "outputs": [
    {
     "data": {
      "application/vnd.microsoft.datawrangler.viewer.v0+json": {
       "columns": [
        {
         "name": "index",
         "rawType": "object",
         "type": "string"
        },
        {
         "name": "0",
         "rawType": "int64",
         "type": "integer"
        }
       ],
       "ref": "687d4440-a31b-4ddf-b8ac-372ec2bef95a",
       "rows": [
        [
         "dbn",
         "5"
        ],
        [
         "school_name",
         "5"
        ],
        [
         "borough",
         "4"
        ],
        [
         "building_code",
         "5"
        ],
        [
         "phone_number",
         "5"
        ],
        [
         "fax_number",
         "5"
        ],
        [
         "grade_span_min",
         "1"
        ],
        [
         "grade_span_max",
         "1"
        ],
        [
         "expgrade_span_min",
         "0"
        ],
        [
         "expgrade_span_max",
         "0"
        ],
        [
         "start_time",
         "3"
        ],
        [
         "end_time",
         "5"
        ],
        [
         "priority01",
         "5"
        ],
        [
         "priority02",
         "4"
        ],
        [
         "priority03",
         "5"
        ],
        [
         "priority04",
         "4"
        ],
        [
         "priority05",
         "2"
        ],
        [
         "priority06",
         "1"
        ],
        [
         "priority07",
         "1"
        ],
        [
         "priority08",
         "1"
        ],
        [
         "priority09",
         "1"
        ],
        [
         "priority10",
         "1"
        ],
        [
         "location",
         "0"
        ],
        [
         "phone_number2",
         "0"
        ],
        [
         "school_email",
         "0"
        ],
        [
         "website",
         "5"
        ],
        [
         "subway",
         "5"
        ],
        [
         "bus",
         "5"
        ],
        [
         "grades2018",
         "0"
        ],
        [
         "finalgrades",
         "0"
        ],
        [
         "total_students",
         "5"
        ],
        [
         "extracurricular_activities",
         "5"
        ],
        [
         "school_sports",
         "4"
        ],
        [
         "attendance_rate",
         "0"
        ],
        [
         "pct_stu_enough_variety",
         "0"
        ],
        [
         "pct_stu_safe",
         "0"
        ],
        [
         "school_accessibility_description",
         "2"
        ],
        [
         "directions1",
         "0"
        ],
        [
         "requirement1",
         "0"
        ],
        [
         "requirement2",
         "0"
        ],
        [
         "requirement3",
         "0"
        ],
        [
         "requirement4",
         "0"
        ],
        [
         "requirement5",
         "0"
        ],
        [
         "program1",
         "0"
        ],
        [
         "code1",
         "0"
        ],
        [
         "interest1",
         "0"
        ],
        [
         "method1",
         "0"
        ],
        [
         "seats9ge1",
         "0"
        ],
        [
         "grade9gefilledflag1",
         "0"
        ],
        [
         "grade9geapplicants1",
         "0"
        ]
       ],
       "shape": {
        "columns": 1,
        "rows": 105
       }
      },
      "text/plain": [
       "dbn                       5\n",
       "school_name               5\n",
       "borough                   4\n",
       "building_code             5\n",
       "phone_number              5\n",
       "                         ..\n",
       "Zip Codes                 5\n",
       "Community Districts       5\n",
       "Borough Boundaries        4\n",
       "City Council Districts    5\n",
       "Police Precincts          5\n",
       "Length: 105, dtype: int64"
      ]
     },
     "execution_count": 8,
     "metadata": {},
     "output_type": "execute_result"
    }
   ],
   "source": [
    "df.nunique()"
   ]
  },
  {
   "cell_type": "code",
   "execution_count": 9,
   "id": "38046b2e",
   "metadata": {},
   "outputs": [],
   "source": [
    "df = df.drop(columns=[col for col in df.columns if df[col].nunique() <= 1])  # dropping columns with no information"
   ]
  },
  {
   "cell_type": "code",
   "execution_count": 10,
   "id": "c2183615",
   "metadata": {},
   "outputs": [
    {
     "name": "stdout",
     "output_type": "stream",
     "text": [
      "<class 'pandas.core.frame.DataFrame'>\n",
      "RangeIndex: 5 entries, 0 to 4\n",
      "Data columns (total 57 columns):\n",
      " #   Column                            Non-Null Count  Dtype  \n",
      "---  ------                            --------------  -----  \n",
      " 0   dbn                               5 non-null      object \n",
      " 1   school_name                       5 non-null      object \n",
      " 2   borough                           5 non-null      object \n",
      " 3   building_code                     5 non-null      object \n",
      " 4   phone_number                      5 non-null      object \n",
      " 5   fax_number                        5 non-null      object \n",
      " 6   start_time                        5 non-null      object \n",
      " 7   end_time                          5 non-null      object \n",
      " 8   priority01                        5 non-null      object \n",
      " 9   priority02                        5 non-null      object \n",
      " 10  priority03                        5 non-null      object \n",
      " 11  priority04                        5 non-null      object \n",
      " 12  priority05                        5 non-null      object \n",
      " 13  website                           5 non-null      object \n",
      " 14  subway                            5 non-null      object \n",
      " 15  bus                               5 non-null      object \n",
      " 16  total_students                    5 non-null      int64  \n",
      " 17  extracurricular_activities        5 non-null      object \n",
      " 18  school_sports                     5 non-null      object \n",
      " 19  school_accessibility_description  5 non-null      object \n",
      " 20  campus_name                       5 non-null      object \n",
      " 21  bin                               5 non-null      float64\n",
      " 22  bbl                               5 non-null      float64\n",
      " 23  nta                               5 non-null      object \n",
      " 24  primary_address_line_1            5 non-null      object \n",
      " 25  city                              5 non-null      object \n",
      " 26  postcode                          5 non-null      object \n",
      " 27  school_type                       5 non-null      object \n",
      " 28  overview_paragraph                5 non-null      object \n",
      " 29  program_highlights                5 non-null      object \n",
      " 30  language_classes                  5 non-null      object \n",
      " 31  advancedplacement_courses         5 non-null      object \n",
      " 32  online_ap_courses                 5 non-null      object \n",
      " 33  online_language_courses           5 non-null      object \n",
      " 34  psal_sports_boys                  5 non-null      object \n",
      " 35  psal_sports_girls                 5 non-null      object \n",
      " 36  psal_sports_coed                  5 non-null      object \n",
      " 37  partner_cbo                       5 non-null      object \n",
      " 38  partner_hospital                  5 non-null      object \n",
      " 39  partner_highered                  5 non-null      object \n",
      " 40  partner_cultural                  5 non-null      object \n",
      " 41  partner_nonprofit                 5 non-null      object \n",
      " 42  partner_corporate                 5 non-null      object \n",
      " 43  partner_financial                 5 non-null      object \n",
      " 44  partner_other                     5 non-null      object \n",
      " 45  addtl_info1                       5 non-null      object \n",
      " 46  addtl_info2                       5 non-null      object \n",
      " 47  number_programs                   5 non-null      object \n",
      " 48  Location 1                        5 non-null      object \n",
      " 49  Community Board                   5 non-null      object \n",
      " 50  Council District                  5 non-null      object \n",
      " 51  Census Tract                      5 non-null      object \n",
      " 52  Zip Codes                         5 non-null      object \n",
      " 53  Community Districts               5 non-null      object \n",
      " 54  Borough Boundaries                5 non-null      object \n",
      " 55  City Council Districts            5 non-null      object \n",
      " 56  Police Precincts                  5 non-null      object \n",
      "dtypes: float64(2), int64(1), object(54)\n",
      "memory usage: 2.4+ KB\n"
     ]
    }
   ],
   "source": [
    "df.info()"
   ]
  },
  {
   "cell_type": "code",
   "execution_count": 11,
   "id": "4f17e6ea",
   "metadata": {},
   "outputs": [],
   "source": [
    "df = df.apply(lambda x: x.astype('category') if x.nunique() <= 5 else x)"
   ]
  },
  {
   "cell_type": "code",
   "execution_count": 12,
   "id": "cf0a8c03",
   "metadata": {},
   "outputs": [
    {
     "data": {
      "text/plain": [
       "\"\\nAlternatively\\n\\nfor col in df.columns:\\n    if df[col].nunique() <= 5:\\n        df[col] = df[col].astype('category')\\n\""
      ]
     },
     "execution_count": 12,
     "metadata": {},
     "output_type": "execute_result"
    }
   ],
   "source": [
    "'''\n",
    "Alternatively\n",
    "\n",
    "for col in df.columns:\n",
    "    if df[col].nunique() <= 5:\n",
    "        df[col] = df[col].astype('category')\n",
    "'''       "
   ]
  },
  {
   "cell_type": "code",
   "execution_count": 13,
   "id": "f5c84364",
   "metadata": {},
   "outputs": [],
   "source": [
    "# Columns with ≤ 5 unique values\n",
    "ready_cols = [col for col in df.columns if df[col].nunique() <= 5]\n",
    "\n",
    "# Make df_inf with the rest\n",
    "df_inf = df.drop(columns=ready_cols)"
   ]
  },
  {
   "cell_type": "markdown",
   "id": "ec17a586",
   "metadata": {},
   "source": [
    "### also\n",
    "\n",
    "Columns with ≤ 5 unique values\n",
    "cat_cols = [col for col in df.columns if df[col].nunique() <= 5]\n",
    "\n",
    "Convert them to category in df\n",
    "df[cat_cols] = df[cat_cols].apply(lambda x: x.astype('category'))\n",
    "\n",
    "Create df_inf with all the other columns\n",
    "df_inf = df.drop(columns=cat_cols)"
   ]
  },
  {
   "cell_type": "code",
   "execution_count": 14,
   "id": "41616d21",
   "metadata": {},
   "outputs": [
    {
     "data": {
      "application/vnd.microsoft.datawrangler.viewer.v0+json": {
       "columns": [
        {
         "name": "index",
         "rawType": "int64",
         "type": "integer"
        }
       ],
       "ref": "8b95cba1-121c-48ed-b3b2-8312643ef704",
       "rows": [
        [
         "0"
        ],
        [
         "2"
        ]
       ],
       "shape": {
        "columns": 0,
        "rows": 2
       }
      },
      "text/html": [
       "<div>\n",
       "<style scoped>\n",
       "    .dataframe tbody tr th:only-of-type {\n",
       "        vertical-align: middle;\n",
       "    }\n",
       "\n",
       "    .dataframe tbody tr th {\n",
       "        vertical-align: top;\n",
       "    }\n",
       "\n",
       "    .dataframe thead th {\n",
       "        text-align: right;\n",
       "    }\n",
       "</style>\n",
       "<table border=\"1\" class=\"dataframe\">\n",
       "  <thead>\n",
       "    <tr style=\"text-align: right;\">\n",
       "      <th></th>\n",
       "    </tr>\n",
       "  </thead>\n",
       "  <tbody>\n",
       "    <tr>\n",
       "      <th>0</th>\n",
       "    </tr>\n",
       "    <tr>\n",
       "      <th>2</th>\n",
       "    </tr>\n",
       "  </tbody>\n",
       "</table>\n",
       "</div>"
      ],
      "text/plain": [
       "Empty DataFrame\n",
       "Columns: []\n",
       "Index: [0, 2]"
      ]
     },
     "execution_count": 14,
     "metadata": {},
     "output_type": "execute_result"
    }
   ],
   "source": [
    "df_inf.sample(2)"
   ]
  },
  {
   "cell_type": "code",
   "execution_count": 15,
   "id": "7cd78aa2",
   "metadata": {},
   "outputs": [
    {
     "data": {
      "text/plain": [
       "(5, 0)"
      ]
     },
     "execution_count": 15,
     "metadata": {},
     "output_type": "execute_result"
    }
   ],
   "source": [
    "df_inf.shape"
   ]
  },
  {
   "cell_type": "markdown",
   "id": "420d7ee7",
   "metadata": {},
   "source": [
    "## data analysis"
   ]
  },
  {
   "cell_type": "markdown",
   "id": "a575513b",
   "metadata": {},
   "source": [
    "### How many schools are there in each borough?"
   ]
  },
  {
   "cell_type": "code",
   "execution_count": 16,
   "id": "418c68ae",
   "metadata": {},
   "outputs": [
    {
     "data": {
      "application/vnd.microsoft.datawrangler.viewer.v0+json": {
       "columns": [
        {
         "name": "index",
         "rawType": "int64",
         "type": "integer"
        },
        {
         "name": "borough",
         "rawType": "object",
         "type": "string"
        },
        {
         "name": "school_count",
         "rawType": "int64",
         "type": "integer"
        }
       ],
       "ref": "b84074d4-d3e2-4764-8b2e-6f452c876a6d",
       "rows": [
        [
         "0",
         "Brooklyn",
         "121"
        ],
        [
         "1",
         "Queens",
         "80"
        ],
        [
         "2",
         "Staten Island",
         "10"
        ],
        [
         "3",
         "Manhattan",
         "106"
        ],
        [
         "4",
         "Bronx",
         "118"
        ]
       ],
       "shape": {
        "columns": 2,
        "rows": 5
       }
      },
      "text/html": [
       "<div>\n",
       "<style scoped>\n",
       "    .dataframe tbody tr th:only-of-type {\n",
       "        vertical-align: middle;\n",
       "    }\n",
       "\n",
       "    .dataframe tbody tr th {\n",
       "        vertical-align: top;\n",
       "    }\n",
       "\n",
       "    .dataframe thead th {\n",
       "        text-align: right;\n",
       "    }\n",
       "</style>\n",
       "<table border=\"1\" class=\"dataframe\">\n",
       "  <thead>\n",
       "    <tr style=\"text-align: right;\">\n",
       "      <th></th>\n",
       "      <th>borough</th>\n",
       "      <th>school_count</th>\n",
       "    </tr>\n",
       "  </thead>\n",
       "  <tbody>\n",
       "    <tr>\n",
       "      <th>0</th>\n",
       "      <td>Brooklyn</td>\n",
       "      <td>121</td>\n",
       "    </tr>\n",
       "    <tr>\n",
       "      <th>1</th>\n",
       "      <td>Queens</td>\n",
       "      <td>80</td>\n",
       "    </tr>\n",
       "    <tr>\n",
       "      <th>2</th>\n",
       "      <td>Staten Island</td>\n",
       "      <td>10</td>\n",
       "    </tr>\n",
       "    <tr>\n",
       "      <th>3</th>\n",
       "      <td>Manhattan</td>\n",
       "      <td>106</td>\n",
       "    </tr>\n",
       "    <tr>\n",
       "      <th>4</th>\n",
       "      <td>Bronx</td>\n",
       "      <td>118</td>\n",
       "    </tr>\n",
       "  </tbody>\n",
       "</table>\n",
       "</div>"
      ],
      "text/plain": [
       "         borough  school_count\n",
       "0       Brooklyn           121\n",
       "1         Queens            80\n",
       "2  Staten Island            10\n",
       "3      Manhattan           106\n",
       "4          Bronx           118"
      ]
     },
     "execution_count": 16,
     "metadata": {},
     "output_type": "execute_result"
    }
   ],
   "source": [
    "query = \"\"\"\n",
    "SELECT borough, COUNT(*) AS school_count\n",
    "FROM nyc_schools.high_school_directory\n",
    "GROUP BY borough;\n",
    "\"\"\"\n",
    "df_result = pd.read_sql(query, conn)\n",
    "df_result"
   ]
  },
  {
   "cell_type": "markdown",
   "id": "1f1910c9",
   "metadata": {},
   "source": [
    "### School supporting special needs"
   ]
  },
  {
   "cell_type": "code",
   "execution_count": 17,
   "id": "6c2268e8",
   "metadata": {},
   "outputs": [
    {
     "data": {
      "application/vnd.microsoft.datawrangler.viewer.v0+json": {
       "columns": [
        {
         "name": "index",
         "rawType": "int64",
         "type": "integer"
        },
        {
         "name": "borough",
         "rawType": "object",
         "type": "string"
        },
        {
         "name": "school_accessibility_description",
         "rawType": "object",
         "type": "string"
        },
        {
         "name": "school_count",
         "rawType": "int64",
         "type": "integer"
        }
       ],
       "ref": "ec08edda-03ac-44b4-81f3-4e4cc8731594",
       "rows": [
        [
         "0",
         "Bronx",
         "Functionally Accessible",
         "93"
        ],
        [
         "1",
         "Bronx",
         "Not Functionally Accessible",
         "25"
        ],
        [
         "2",
         "Brooklyn",
         "Functionally Accessible",
         "77"
        ],
        [
         "3",
         "Brooklyn",
         "Not Functionally Accessible",
         "44"
        ],
        [
         "4",
         "Manhattan",
         "Functionally Accessible",
         "78"
        ],
        [
         "5",
         "Manhattan",
         "Not Functionally Accessible",
         "28"
        ],
        [
         "6",
         "Queens",
         "Functionally Accessible",
         "51"
        ],
        [
         "7",
         "Queens",
         "Not Functionally Accessible",
         "29"
        ],
        [
         "8",
         "Staten Island",
         "Functionally Accessible",
         "10"
        ]
       ],
       "shape": {
        "columns": 3,
        "rows": 9
       }
      },
      "text/html": [
       "<div>\n",
       "<style scoped>\n",
       "    .dataframe tbody tr th:only-of-type {\n",
       "        vertical-align: middle;\n",
       "    }\n",
       "\n",
       "    .dataframe tbody tr th {\n",
       "        vertical-align: top;\n",
       "    }\n",
       "\n",
       "    .dataframe thead th {\n",
       "        text-align: right;\n",
       "    }\n",
       "</style>\n",
       "<table border=\"1\" class=\"dataframe\">\n",
       "  <thead>\n",
       "    <tr style=\"text-align: right;\">\n",
       "      <th></th>\n",
       "      <th>borough</th>\n",
       "      <th>school_accessibility_description</th>\n",
       "      <th>school_count</th>\n",
       "    </tr>\n",
       "  </thead>\n",
       "  <tbody>\n",
       "    <tr>\n",
       "      <th>0</th>\n",
       "      <td>Bronx</td>\n",
       "      <td>Functionally Accessible</td>\n",
       "      <td>93</td>\n",
       "    </tr>\n",
       "    <tr>\n",
       "      <th>1</th>\n",
       "      <td>Bronx</td>\n",
       "      <td>Not Functionally Accessible</td>\n",
       "      <td>25</td>\n",
       "    </tr>\n",
       "    <tr>\n",
       "      <th>2</th>\n",
       "      <td>Brooklyn</td>\n",
       "      <td>Functionally Accessible</td>\n",
       "      <td>77</td>\n",
       "    </tr>\n",
       "    <tr>\n",
       "      <th>3</th>\n",
       "      <td>Brooklyn</td>\n",
       "      <td>Not Functionally Accessible</td>\n",
       "      <td>44</td>\n",
       "    </tr>\n",
       "    <tr>\n",
       "      <th>4</th>\n",
       "      <td>Manhattan</td>\n",
       "      <td>Functionally Accessible</td>\n",
       "      <td>78</td>\n",
       "    </tr>\n",
       "    <tr>\n",
       "      <th>5</th>\n",
       "      <td>Manhattan</td>\n",
       "      <td>Not Functionally Accessible</td>\n",
       "      <td>28</td>\n",
       "    </tr>\n",
       "    <tr>\n",
       "      <th>6</th>\n",
       "      <td>Queens</td>\n",
       "      <td>Functionally Accessible</td>\n",
       "      <td>51</td>\n",
       "    </tr>\n",
       "    <tr>\n",
       "      <th>7</th>\n",
       "      <td>Queens</td>\n",
       "      <td>Not Functionally Accessible</td>\n",
       "      <td>29</td>\n",
       "    </tr>\n",
       "    <tr>\n",
       "      <th>8</th>\n",
       "      <td>Staten Island</td>\n",
       "      <td>Functionally Accessible</td>\n",
       "      <td>10</td>\n",
       "    </tr>\n",
       "  </tbody>\n",
       "</table>\n",
       "</div>"
      ],
      "text/plain": [
       "         borough school_accessibility_description  school_count\n",
       "0          Bronx          Functionally Accessible            93\n",
       "1          Bronx      Not Functionally Accessible            25\n",
       "2       Brooklyn          Functionally Accessible            77\n",
       "3       Brooklyn      Not Functionally Accessible            44\n",
       "4      Manhattan          Functionally Accessible            78\n",
       "5      Manhattan      Not Functionally Accessible            28\n",
       "6         Queens          Functionally Accessible            51\n",
       "7         Queens      Not Functionally Accessible            29\n",
       "8  Staten Island          Functionally Accessible            10"
      ]
     },
     "execution_count": 17,
     "metadata": {},
     "output_type": "execute_result"
    }
   ],
   "source": [
    "query = \"\"\"\n",
    "SELECT borough, school_accessibility_description, COUNT(*) AS school_count\n",
    "FROM nyc_schools.high_school_directory\n",
    "GROUP BY borough, school_accessibility_description\n",
    "ORDER BY borough, school_count DESC;\n",
    "\"\"\"\n",
    "df_result = pd.read_sql(query, conn)\n",
    "df_result"
   ]
  },
  {
   "cell_type": "markdown",
   "id": "28d0ff3f",
   "metadata": {},
   "source": [
    "### What is the average % of English Language Learners (ELL) per borough?"
   ]
  },
  {
   "cell_type": "code",
   "execution_count": 18,
   "id": "76d243f7",
   "metadata": {},
   "outputs": [],
   "source": [
    "# I can't find any column with the adequate data"
   ]
  },
  {
   "cell_type": "code",
   "execution_count": 19,
   "id": "ac679a13",
   "metadata": {},
   "outputs": [
    {
     "name": "stdout",
     "output_type": "stream",
     "text": [
      "['dbn', 'school_name', 'borough', 'building_code', 'phone_number', 'fax_number', 'start_time', 'end_time', 'priority01', 'priority02', 'priority03', 'priority04', 'priority05', 'website', 'subway', 'bus', 'total_students', 'extracurricular_activities', 'school_sports', 'school_accessibility_description', 'campus_name', 'bin', 'bbl', 'nta', 'primary_address_line_1', 'city', 'postcode', 'school_type', 'overview_paragraph', 'program_highlights', 'language_classes', 'advancedplacement_courses', 'online_ap_courses', 'online_language_courses', 'psal_sports_boys', 'psal_sports_girls', 'psal_sports_coed', 'partner_cbo', 'partner_hospital', 'partner_highered', 'partner_cultural', 'partner_nonprofit', 'partner_corporate', 'partner_financial', 'partner_other', 'addtl_info1', 'addtl_info2', 'number_programs', 'Location 1', 'Community Board', 'Council District', 'Census Tract', 'Zip Codes', 'Community Districts', 'Borough Boundaries', 'City Council Districts', 'Police Precincts']\n"
     ]
    }
   ],
   "source": [
    "print(df.columns.tolist())"
   ]
  },
  {
   "cell_type": "code",
   "execution_count": 20,
   "id": "6124314c",
   "metadata": {},
   "outputs": [
    {
     "ename": "KeyError",
     "evalue": "'ell_programs'",
     "output_type": "error",
     "traceback": [
      "\u001b[0;31m---------------------------------------------------------------------------\u001b[0m",
      "\u001b[0;31mKeyError\u001b[0m                                  Traceback (most recent call last)",
      "File \u001b[0;32m/opt/anaconda3/lib/python3.12/site-packages/pandas/core/indexes/base.py:3805\u001b[0m, in \u001b[0;36mIndex.get_loc\u001b[0;34m(self, key)\u001b[0m\n\u001b[1;32m   3804\u001b[0m \u001b[38;5;28;01mtry\u001b[39;00m:\n\u001b[0;32m-> 3805\u001b[0m     \u001b[38;5;28;01mreturn\u001b[39;00m \u001b[38;5;28mself\u001b[39m\u001b[38;5;241m.\u001b[39m_engine\u001b[38;5;241m.\u001b[39mget_loc(casted_key)\n\u001b[1;32m   3806\u001b[0m \u001b[38;5;28;01mexcept\u001b[39;00m \u001b[38;5;167;01mKeyError\u001b[39;00m \u001b[38;5;28;01mas\u001b[39;00m err:\n",
      "File \u001b[0;32mindex.pyx:167\u001b[0m, in \u001b[0;36mpandas._libs.index.IndexEngine.get_loc\u001b[0;34m()\u001b[0m\n",
      "File \u001b[0;32mindex.pyx:196\u001b[0m, in \u001b[0;36mpandas._libs.index.IndexEngine.get_loc\u001b[0;34m()\u001b[0m\n",
      "File \u001b[0;32mpandas/_libs/hashtable_class_helper.pxi:7081\u001b[0m, in \u001b[0;36mpandas._libs.hashtable.PyObjectHashTable.get_item\u001b[0;34m()\u001b[0m\n",
      "File \u001b[0;32mpandas/_libs/hashtable_class_helper.pxi:7089\u001b[0m, in \u001b[0;36mpandas._libs.hashtable.PyObjectHashTable.get_item\u001b[0;34m()\u001b[0m\n",
      "\u001b[0;31mKeyError\u001b[0m: 'ell_programs'",
      "\nThe above exception was the direct cause of the following exception:\n",
      "\u001b[0;31mKeyError\u001b[0m                                  Traceback (most recent call last)",
      "Cell \u001b[0;32mIn[20], line 2\u001b[0m\n\u001b[1;32m      1\u001b[0m df[\u001b[38;5;124m'\u001b[39m\u001b[38;5;124mell_programs\u001b[39m\u001b[38;5;124m'\u001b[39m] \u001b[38;5;241m=\u001b[39m (\n\u001b[0;32m----> 2\u001b[0m     df[\u001b[38;5;124m'\u001b[39m\u001b[38;5;124mell_programs\u001b[39m\u001b[38;5;124m'\u001b[39m]\n\u001b[1;32m      3\u001b[0m     \u001b[38;5;241m.\u001b[39mstr\u001b[38;5;241m.\u001b[39mreplace(\u001b[38;5;124m'\u001b[39m\u001b[38;5;124m%\u001b[39m\u001b[38;5;124m'\u001b[39m, \u001b[38;5;124m'\u001b[39m\u001b[38;5;124m'\u001b[39m, regex\u001b[38;5;241m=\u001b[39m\u001b[38;5;28;01mFalse\u001b[39;00m)  \u001b[38;5;66;03m# remove %\u001b[39;00m\n\u001b[1;32m      4\u001b[0m     \u001b[38;5;241m.\u001b[39mastype(\u001b[38;5;28mfloat\u001b[39m)\n\u001b[1;32m      5\u001b[0m )\n\u001b[1;32m      7\u001b[0m avg_ell_per_borough \u001b[38;5;241m=\u001b[39m (\n\u001b[1;32m      8\u001b[0m     df\u001b[38;5;241m.\u001b[39mgroupby(\u001b[38;5;124m'\u001b[39m\u001b[38;5;124mborough\u001b[39m\u001b[38;5;124m'\u001b[39m)[\u001b[38;5;124m'\u001b[39m\u001b[38;5;124mell_programs\u001b[39m\u001b[38;5;124m'\u001b[39m]\n\u001b[1;32m      9\u001b[0m       \u001b[38;5;241m.\u001b[39mmean()\n\u001b[1;32m     10\u001b[0m       \u001b[38;5;241m.\u001b[39mreset_index(name\u001b[38;5;241m=\u001b[39m\u001b[38;5;124m'\u001b[39m\u001b[38;5;124mavg_ell_percent\u001b[39m\u001b[38;5;124m'\u001b[39m)\n\u001b[1;32m     11\u001b[0m )\n",
      "File \u001b[0;32m/opt/anaconda3/lib/python3.12/site-packages/pandas/core/frame.py:4102\u001b[0m, in \u001b[0;36mDataFrame.__getitem__\u001b[0;34m(self, key)\u001b[0m\n\u001b[1;32m   4100\u001b[0m \u001b[38;5;28;01mif\u001b[39;00m \u001b[38;5;28mself\u001b[39m\u001b[38;5;241m.\u001b[39mcolumns\u001b[38;5;241m.\u001b[39mnlevels \u001b[38;5;241m>\u001b[39m \u001b[38;5;241m1\u001b[39m:\n\u001b[1;32m   4101\u001b[0m     \u001b[38;5;28;01mreturn\u001b[39;00m \u001b[38;5;28mself\u001b[39m\u001b[38;5;241m.\u001b[39m_getitem_multilevel(key)\n\u001b[0;32m-> 4102\u001b[0m indexer \u001b[38;5;241m=\u001b[39m \u001b[38;5;28mself\u001b[39m\u001b[38;5;241m.\u001b[39mcolumns\u001b[38;5;241m.\u001b[39mget_loc(key)\n\u001b[1;32m   4103\u001b[0m \u001b[38;5;28;01mif\u001b[39;00m is_integer(indexer):\n\u001b[1;32m   4104\u001b[0m     indexer \u001b[38;5;241m=\u001b[39m [indexer]\n",
      "File \u001b[0;32m/opt/anaconda3/lib/python3.12/site-packages/pandas/core/indexes/base.py:3812\u001b[0m, in \u001b[0;36mIndex.get_loc\u001b[0;34m(self, key)\u001b[0m\n\u001b[1;32m   3807\u001b[0m     \u001b[38;5;28;01mif\u001b[39;00m \u001b[38;5;28misinstance\u001b[39m(casted_key, \u001b[38;5;28mslice\u001b[39m) \u001b[38;5;129;01mor\u001b[39;00m (\n\u001b[1;32m   3808\u001b[0m         \u001b[38;5;28misinstance\u001b[39m(casted_key, abc\u001b[38;5;241m.\u001b[39mIterable)\n\u001b[1;32m   3809\u001b[0m         \u001b[38;5;129;01mand\u001b[39;00m \u001b[38;5;28many\u001b[39m(\u001b[38;5;28misinstance\u001b[39m(x, \u001b[38;5;28mslice\u001b[39m) \u001b[38;5;28;01mfor\u001b[39;00m x \u001b[38;5;129;01min\u001b[39;00m casted_key)\n\u001b[1;32m   3810\u001b[0m     ):\n\u001b[1;32m   3811\u001b[0m         \u001b[38;5;28;01mraise\u001b[39;00m InvalidIndexError(key)\n\u001b[0;32m-> 3812\u001b[0m     \u001b[38;5;28;01mraise\u001b[39;00m \u001b[38;5;167;01mKeyError\u001b[39;00m(key) \u001b[38;5;28;01mfrom\u001b[39;00m \u001b[38;5;21;01merr\u001b[39;00m\n\u001b[1;32m   3813\u001b[0m \u001b[38;5;28;01mexcept\u001b[39;00m \u001b[38;5;167;01mTypeError\u001b[39;00m:\n\u001b[1;32m   3814\u001b[0m     \u001b[38;5;66;03m# If we have a listlike key, _check_indexing_error will raise\u001b[39;00m\n\u001b[1;32m   3815\u001b[0m     \u001b[38;5;66;03m#  InvalidIndexError. Otherwise we fall through and re-raise\u001b[39;00m\n\u001b[1;32m   3816\u001b[0m     \u001b[38;5;66;03m#  the TypeError.\u001b[39;00m\n\u001b[1;32m   3817\u001b[0m     \u001b[38;5;28mself\u001b[39m\u001b[38;5;241m.\u001b[39m_check_indexing_error(key)\n",
      "\u001b[0;31mKeyError\u001b[0m: 'ell_programs'"
     ]
    }
   ],
   "source": [
    "df['ell_programs'] = (\n",
    "    df['ell_programs']\n",
    "    .str.replace('%', '', regex=False)  # remove %\n",
    "    .astype(float)\n",
    ")\n",
    "\n",
    "avg_ell_per_borough = (\n",
    "    df.groupby('borough')['ell_programs']\n",
    "      .mean()\n",
    "      .reset_index(name='avg_ell_percent')\n",
    ")"
   ]
  },
  {
   "cell_type": "code",
   "execution_count": 21,
   "id": "4718a261",
   "metadata": {},
   "outputs": [
    {
     "data": {
      "application/vnd.microsoft.datawrangler.viewer.v0+json": {
       "columns": [
        {
         "name": "index",
         "rawType": "int64",
         "type": "integer"
        },
        {
         "name": "column_name",
         "rawType": "object",
         "type": "string"
        }
       ],
       "ref": "ba1a6df9-c744-4a2a-98e1-4b4fd87773c6",
       "rows": [
        [
         "0",
         "language_classes"
        ],
        [
         "1",
         "online_language_courses"
        ],
        [
         "2",
         "ell_programs"
        ]
       ],
       "shape": {
        "columns": 1,
        "rows": 3
       }
      },
      "text/html": [
       "<div>\n",
       "<style scoped>\n",
       "    .dataframe tbody tr th:only-of-type {\n",
       "        vertical-align: middle;\n",
       "    }\n",
       "\n",
       "    .dataframe tbody tr th {\n",
       "        vertical-align: top;\n",
       "    }\n",
       "\n",
       "    .dataframe thead th {\n",
       "        text-align: right;\n",
       "    }\n",
       "</style>\n",
       "<table border=\"1\" class=\"dataframe\">\n",
       "  <thead>\n",
       "    <tr style=\"text-align: right;\">\n",
       "      <th></th>\n",
       "      <th>column_name</th>\n",
       "    </tr>\n",
       "  </thead>\n",
       "  <tbody>\n",
       "    <tr>\n",
       "      <th>0</th>\n",
       "      <td>language_classes</td>\n",
       "    </tr>\n",
       "    <tr>\n",
       "      <th>1</th>\n",
       "      <td>online_language_courses</td>\n",
       "    </tr>\n",
       "    <tr>\n",
       "      <th>2</th>\n",
       "      <td>ell_programs</td>\n",
       "    </tr>\n",
       "  </tbody>\n",
       "</table>\n",
       "</div>"
      ],
      "text/plain": [
       "               column_name\n",
       "0         language_classes\n",
       "1  online_language_courses\n",
       "2             ell_programs"
      ]
     },
     "execution_count": 21,
     "metadata": {},
     "output_type": "execute_result"
    }
   ],
   "source": [
    "query = \"\"\"\n",
    "SELECT column_name\n",
    "FROM information_schema.columns\n",
    "WHERE table_name = 'high_school_directory'\n",
    "  AND (\n",
    "       column_name ILIKE '%english%' \n",
    "    OR column_name ILIKE '%ell%' \n",
    "    OR column_name ILIKE '%language%' \n",
    "    OR column_name ILIKE '%score%'\n",
    "  );\n",
    "\"\"\"\n",
    "df_result = pd.read_sql(query, conn)\n",
    "df_result"
   ]
  },
  {
   "cell_type": "code",
   "execution_count": 22,
   "id": "1231374a",
   "metadata": {},
   "outputs": [
    {
     "ename": "DatabaseError",
     "evalue": "Execution failed on sql '\nSELECT borough, AVG(CAST(REPLACE(ell_programs, '%', '') AS FLOAT)) AS avg_ell_percent\nFROM nyc_schools.high_school_directory\nGROUP BY borough\nORDER BY avg_ell_percent DESC;\n': invalid input syntax for type double precision: \"ESL\"\n",
     "output_type": "error",
     "traceback": [
      "\u001b[0;31m---------------------------------------------------------------------------\u001b[0m",
      "\u001b[0;31mInvalidTextRepresentation\u001b[0m                 Traceback (most recent call last)",
      "File \u001b[0;32m/opt/anaconda3/lib/python3.12/site-packages/pandas/io/sql.py:2674\u001b[0m, in \u001b[0;36mSQLiteDatabase.execute\u001b[0;34m(self, sql, params)\u001b[0m\n\u001b[1;32m   2673\u001b[0m \u001b[38;5;28;01mtry\u001b[39;00m:\n\u001b[0;32m-> 2674\u001b[0m     cur\u001b[38;5;241m.\u001b[39mexecute(sql, \u001b[38;5;241m*\u001b[39margs)\n\u001b[1;32m   2675\u001b[0m     \u001b[38;5;28;01mreturn\u001b[39;00m cur\n",
      "\u001b[0;31mInvalidTextRepresentation\u001b[0m: invalid input syntax for type double precision: \"ESL\"\n",
      "\nThe above exception was the direct cause of the following exception:\n",
      "\u001b[0;31mDatabaseError\u001b[0m                             Traceback (most recent call last)",
      "Cell \u001b[0;32mIn[22], line 7\u001b[0m\n\u001b[1;32m      1\u001b[0m query \u001b[38;5;241m=\u001b[39m \u001b[38;5;124m\"\"\"\u001b[39m\n\u001b[1;32m      2\u001b[0m \u001b[38;5;124mSELECT borough, AVG(CAST(REPLACE(ell_programs, \u001b[39m\u001b[38;5;124m'\u001b[39m\u001b[38;5;124m%\u001b[39m\u001b[38;5;124m'\u001b[39m\u001b[38;5;124m, \u001b[39m\u001b[38;5;124m'\u001b[39m\u001b[38;5;124m'\u001b[39m\u001b[38;5;124m) AS FLOAT)) AS avg_ell_percent\u001b[39m\n\u001b[1;32m      3\u001b[0m \u001b[38;5;124mFROM nyc_schools.high_school_directory\u001b[39m\n\u001b[1;32m      4\u001b[0m \u001b[38;5;124mGROUP BY borough\u001b[39m\n\u001b[1;32m      5\u001b[0m \u001b[38;5;124mORDER BY avg_ell_percent DESC;\u001b[39m\n\u001b[1;32m      6\u001b[0m \u001b[38;5;124m\"\"\"\u001b[39m\n\u001b[0;32m----> 7\u001b[0m df_result \u001b[38;5;241m=\u001b[39m pd\u001b[38;5;241m.\u001b[39mread_sql(query, conn)\n\u001b[1;32m      8\u001b[0m df_result\n",
      "File \u001b[0;32m/opt/anaconda3/lib/python3.12/site-packages/pandas/io/sql.py:706\u001b[0m, in \u001b[0;36mread_sql\u001b[0;34m(sql, con, index_col, coerce_float, params, parse_dates, columns, chunksize, dtype_backend, dtype)\u001b[0m\n\u001b[1;32m    704\u001b[0m \u001b[38;5;28;01mwith\u001b[39;00m pandasSQL_builder(con) \u001b[38;5;28;01mas\u001b[39;00m pandas_sql:\n\u001b[1;32m    705\u001b[0m     \u001b[38;5;28;01mif\u001b[39;00m \u001b[38;5;28misinstance\u001b[39m(pandas_sql, SQLiteDatabase):\n\u001b[0;32m--> 706\u001b[0m         \u001b[38;5;28;01mreturn\u001b[39;00m pandas_sql\u001b[38;5;241m.\u001b[39mread_query(\n\u001b[1;32m    707\u001b[0m             sql,\n\u001b[1;32m    708\u001b[0m             index_col\u001b[38;5;241m=\u001b[39mindex_col,\n\u001b[1;32m    709\u001b[0m             params\u001b[38;5;241m=\u001b[39mparams,\n\u001b[1;32m    710\u001b[0m             coerce_float\u001b[38;5;241m=\u001b[39mcoerce_float,\n\u001b[1;32m    711\u001b[0m             parse_dates\u001b[38;5;241m=\u001b[39mparse_dates,\n\u001b[1;32m    712\u001b[0m             chunksize\u001b[38;5;241m=\u001b[39mchunksize,\n\u001b[1;32m    713\u001b[0m             dtype_backend\u001b[38;5;241m=\u001b[39mdtype_backend,\n\u001b[1;32m    714\u001b[0m             dtype\u001b[38;5;241m=\u001b[39mdtype,\n\u001b[1;32m    715\u001b[0m         )\n\u001b[1;32m    717\u001b[0m     \u001b[38;5;28;01mtry\u001b[39;00m:\n\u001b[1;32m    718\u001b[0m         _is_table_name \u001b[38;5;241m=\u001b[39m pandas_sql\u001b[38;5;241m.\u001b[39mhas_table(sql)\n",
      "File \u001b[0;32m/opt/anaconda3/lib/python3.12/site-packages/pandas/io/sql.py:2738\u001b[0m, in \u001b[0;36mSQLiteDatabase.read_query\u001b[0;34m(self, sql, index_col, coerce_float, parse_dates, params, chunksize, dtype, dtype_backend)\u001b[0m\n\u001b[1;32m   2727\u001b[0m \u001b[38;5;28;01mdef\u001b[39;00m \u001b[38;5;21mread_query\u001b[39m(\n\u001b[1;32m   2728\u001b[0m     \u001b[38;5;28mself\u001b[39m,\n\u001b[1;32m   2729\u001b[0m     sql,\n\u001b[0;32m   (...)\u001b[0m\n\u001b[1;32m   2736\u001b[0m     dtype_backend: DtypeBackend \u001b[38;5;241m|\u001b[39m Literal[\u001b[38;5;124m\"\u001b[39m\u001b[38;5;124mnumpy\u001b[39m\u001b[38;5;124m\"\u001b[39m] \u001b[38;5;241m=\u001b[39m \u001b[38;5;124m\"\u001b[39m\u001b[38;5;124mnumpy\u001b[39m\u001b[38;5;124m\"\u001b[39m,\n\u001b[1;32m   2737\u001b[0m ) \u001b[38;5;241m-\u001b[39m\u001b[38;5;241m>\u001b[39m DataFrame \u001b[38;5;241m|\u001b[39m Iterator[DataFrame]:\n\u001b[0;32m-> 2738\u001b[0m     cursor \u001b[38;5;241m=\u001b[39m \u001b[38;5;28mself\u001b[39m\u001b[38;5;241m.\u001b[39mexecute(sql, params)\n\u001b[1;32m   2739\u001b[0m     columns \u001b[38;5;241m=\u001b[39m [col_desc[\u001b[38;5;241m0\u001b[39m] \u001b[38;5;28;01mfor\u001b[39;00m col_desc \u001b[38;5;129;01min\u001b[39;00m cursor\u001b[38;5;241m.\u001b[39mdescription]\n\u001b[1;32m   2741\u001b[0m     \u001b[38;5;28;01mif\u001b[39;00m chunksize \u001b[38;5;129;01mis\u001b[39;00m \u001b[38;5;129;01mnot\u001b[39;00m \u001b[38;5;28;01mNone\u001b[39;00m:\n",
      "File \u001b[0;32m/opt/anaconda3/lib/python3.12/site-packages/pandas/io/sql.py:2686\u001b[0m, in \u001b[0;36mSQLiteDatabase.execute\u001b[0;34m(self, sql, params)\u001b[0m\n\u001b[1;32m   2683\u001b[0m     \u001b[38;5;28;01mraise\u001b[39;00m ex \u001b[38;5;28;01mfrom\u001b[39;00m \u001b[38;5;21;01minner_exc\u001b[39;00m\n\u001b[1;32m   2685\u001b[0m ex \u001b[38;5;241m=\u001b[39m DatabaseError(\u001b[38;5;124mf\u001b[39m\u001b[38;5;124m\"\u001b[39m\u001b[38;5;124mExecution failed on sql \u001b[39m\u001b[38;5;124m'\u001b[39m\u001b[38;5;132;01m{\u001b[39;00msql\u001b[38;5;132;01m}\u001b[39;00m\u001b[38;5;124m'\u001b[39m\u001b[38;5;124m: \u001b[39m\u001b[38;5;132;01m{\u001b[39;00mexc\u001b[38;5;132;01m}\u001b[39;00m\u001b[38;5;124m\"\u001b[39m)\n\u001b[0;32m-> 2686\u001b[0m \u001b[38;5;28;01mraise\u001b[39;00m ex \u001b[38;5;28;01mfrom\u001b[39;00m \u001b[38;5;21;01mexc\u001b[39;00m\n",
      "\u001b[0;31mDatabaseError\u001b[0m: Execution failed on sql '\nSELECT borough, AVG(CAST(REPLACE(ell_programs, '%', '') AS FLOAT)) AS avg_ell_percent\nFROM nyc_schools.high_school_directory\nGROUP BY borough\nORDER BY avg_ell_percent DESC;\n': invalid input syntax for type double precision: \"ESL\"\n"
     ]
    }
   ],
   "source": [
    "query = \"\"\"\n",
    "SELECT borough, AVG(CAST(REPLACE(ell_programs, '%', '') AS FLOAT)) AS avg_ell_percent\n",
    "FROM nyc_schools.high_school_directory\n",
    "GROUP BY borough\n",
    "ORDER BY avg_ell_percent DESC;\n",
    "\"\"\"\n",
    "df_result = pd.read_sql(query, conn)\n",
    "df_result"
   ]
  }
 ],
 "metadata": {
  "kernelspec": {
   "display_name": "base",
   "language": "python",
   "name": "python3"
  },
  "language_info": {
   "codemirror_mode": {
    "name": "ipython",
    "version": 3
   },
   "file_extension": ".py",
   "mimetype": "text/x-python",
   "name": "python",
   "nbconvert_exporter": "python",
   "pygments_lexer": "ipython3",
   "version": "3.12.4"
  }
 },
 "nbformat": 4,
 "nbformat_minor": 5
}
