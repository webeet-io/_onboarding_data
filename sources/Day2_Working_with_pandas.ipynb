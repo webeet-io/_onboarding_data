{
 "cells": [
  {
   "cell_type": "markdown",
   "id": "f0b45194",
   "metadata": {},
   "source": [
    "# 📘 Day 2: Working with pandas and DataFrames"
   ]
  },
  {
   "cell_type": "markdown",
   "id": "9cb3f315",
   "metadata": {},
   "source": [
    "## 1. Introduction to pandas\n",
    "- What is pandas?\n",
    "- Why use DataFrames instead of lists or dictionaries?\n",
    "- Importing pandas"
   ]
  },
  {
   "cell_type": "code",
   "execution_count": null,
   "id": "55577497",
   "metadata": {},
   "outputs": [],
   "source": [
    "import pandas as pd"
   ]
  },
  {
   "cell_type": "markdown",
   "id": "792bd285",
   "metadata": {},
   "source": [
    "## 2. Loading a Dataset\n",
    "- Reading data from a CSV file"
   ]
  },
  {
   "cell_type": "code",
   "execution_count": null,
   "id": "f2457a16",
   "metadata": {},
   "outputs": [],
   "source": [
    "df = pd.read_csv(\"school-safety-report.csv\")\n",
    "\n",
    "df.head()"
   ]
  },
  {
   "cell_type": "markdown",
   "id": "a934b1b7",
   "metadata": {},
   "source": [
    "## 3. Cleaning Column Names\n",
    "- Why clean column names (spaces, casing, consistency)?\n",
    "- Common methods:"
   ]
  },
  {
   "cell_type": "code",
   "execution_count": null,
   "id": "b145ba20",
   "metadata": {},
   "outputs": [],
   "source": [
    "df.columns = df.columns.str.lower()\n",
    "df.columns = df.columns.str.replace(\" \", \"_\")\n",
    "df.head()"
   ]
  },
  {
   "cell_type": "markdown",
   "id": "58a0621f",
   "metadata": {},
   "source": [
    "## 4. Exploring Data\n",
    "- Number of unique values: `nunique()`\n",
    "- Count of values: `count()`\n",
    "- Mean of numerical columns: `mean()`\n",
    "- Descriptive stats: `describe()`"
   ]
  },
  {
   "cell_type": "code",
   "execution_count": null,
   "id": "61316e3e",
   "metadata": {},
   "outputs": [],
   "source": [
    "df[\"school_name\"].nunique()\n",
    "df[\"enrollment\"].count()\n",
    "df[\"enrollment\"].mean()\n",
    "df.describe()"
   ]
  },
  {
   "cell_type": "markdown",
   "id": "8daed602",
   "metadata": {},
   "source": [
    "## 5. Selecting Data\n",
    "- Selecting a single column\n",
    "- Selecting multiple columns\n",
    "- Selecting rows by index (`iloc`)\n",
    "- Selecting rows/columns by labels (`loc`)"
   ]
  },
  {
   "cell_type": "code",
   "execution_count": null,
   "id": "53edb2ce",
   "metadata": {},
   "outputs": [],
   "source": [
    "df[\"school_name\"].head()\n",
    "df[[\"school_name\",\"borough\"]].head()\n",
    "df.iloc[0]\n",
    "df.loc[0,\"school_name\"]"
   ]
  },
  {
   "cell_type": "markdown",
   "id": "772a2a6c",
   "metadata": {},
   "source": [
    "## 6. Filtering Data\n",
    "- Filter rows with conditions\n",
    "- Combine multiple conditions with `&` (and), `|` (or)"
   ]
  },
  {
   "cell_type": "code",
   "execution_count": null,
   "id": "2ca39f4d",
   "metadata": {},
   "outputs": [],
   "source": [
    "df[df[\"borough\"] == \"Brooklyn\"].head()\n",
    "df[(df[\"enrollment\"] > 1000) & (df[\"borough\"] == \"Bronx\")].head()"
   ]
  },
  {
   "cell_type": "markdown",
   "id": "635082ea",
   "metadata": {},
   "source": [
    "## 7. Creating New DataFrames from Filtering/Grouping\n",
    "- Save results of a filter as a new DataFrame\n",
    "- Save results of grouping as a new DataFrame"
   ]
  },
  {
   "cell_type": "code",
   "execution_count": null,
   "id": "2801c787",
   "metadata": {},
   "outputs": [],
   "source": [
    "brooklyn_schools = df[df[\"borough\"] == \"Brooklyn\"]\n",
    "\n",
    "avg_enrollment_by_borough = df.groupby(\"borough\")[[\"enrollment\"]].mean().reset_index()\n",
    "\n",
    "brooklyn_schools.head()\n",
    "avg_enrollment_by_borough"
   ]
  },
  {
   "cell_type": "markdown",
   "id": "d8f56a83",
   "metadata": {},
   "source": [
    "## 8. Modifying DataFrames\n",
    "- Adding new columns\n",
    "- Dropping columns"
   ]
  },
  {
   "cell_type": "code",
   "execution_count": null,
   "id": "86206dea",
   "metadata": {},
   "outputs": [],
   "source": [
    "df[\"enrollment_in_10_years\"] = df[\"enrollment\"] * 1.1\n",
    "df.head()"
   ]
  },
  {
   "cell_type": "markdown",
   "id": "48db9b94",
   "metadata": {},
   "source": [
    "## 9. Sorting Data\n",
    "- Sorting by a single column\n",
    "- Sorting by multiple columns"
   ]
  },
  {
   "cell_type": "code",
   "execution_count": null,
   "id": "870acca0",
   "metadata": {},
   "outputs": [],
   "source": [
    "df.sort_values(\"enrollment\", ascending=False).head()"
   ]
  },
  {
   "cell_type": "markdown",
   "id": "a8c64df5",
   "metadata": {},
   "source": [
    "## 10. Aggregation & Grouping\n",
    "- Using `groupby()`\n",
    "- Applying aggregations like `mean`, `sum`, `count`, `nunique`"
   ]
  },
  {
   "cell_type": "code",
   "execution_count": null,
   "id": "25091059",
   "metadata": {},
   "outputs": [],
   "source": [
    "df.groupby(\"borough\")[\"enrollment\"].agg([\"count\",\"mean\",\"nunique\"])"
   ]
  },
  {
   "cell_type": "markdown",
   "id": "0e0d077d",
   "metadata": {},
   "source": [
    "## 11. Saving and Loading Data\n",
    "- Exporting DataFrame to CSV\n",
    "- Reading CSV into DataFrame"
   ]
  },
  {
   "cell_type": "code",
   "execution_count": null,
   "id": "7aadce58",
   "metadata": {},
   "outputs": [],
   "source": [
    "brooklyn_schools.to_csv(\"brooklyn_schools.csv\", index=False)\n",
    "pd.read_csv(\"brooklyn_schools.csv\").head()"
   ]
  },
  {
   "cell_type": "markdown",
   "id": "1a4145a7",
   "metadata": {},
   "source": [
    "## 12. Summary & Next Steps\n",
    "- Today we learned: loading data, cleaning column names, filtering/grouping, creating new DataFrames, and using aggregation methods (`count`, `mean`, `nunique`, `describe`).\n",
    "- Next time (Day 3): deeper into **data cleaning** (missing values, duplicates, data types)."
   ]
  }
 ],
 "metadata": {},
 "nbformat": 4,
 "nbformat_minor": 5
}